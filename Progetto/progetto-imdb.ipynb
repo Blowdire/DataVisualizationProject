{
 "cells": [
  {
   "cell_type": "markdown",
   "metadata": {},
   "source": [
    "## Import"
   ]
  },
  {
   "cell_type": "markdown",
   "metadata": {},
   "source": [
    "Obiettivo è confrontare la durata dei film con il rating, se sono correlati"
   ]
  },
  {
   "cell_type": "markdown",
   "metadata": {},
   "source": [
    "Idea: come per la musica, chi vede i film se sono troppo lunghi o troppo corti ne è influenzato?"
   ]
  },
  {
   "cell_type": "markdown",
   "metadata": {},
   "source": [
    "Idea: come per la musica, chi vede i film se sono troppo lunghi o troppo corti ne è influenzato"
   ]
  },
  {
   "cell_type": "code",
   "execution_count": 116,
   "metadata": {},
   "outputs": [],
   "source": [
    "import pandas as pd\n",
    "import numpy as np\n",
    "import matplotlib.pyplot as plt\n",
    "import seaborn as sns\n",
    "%matplotlib inline"
   ]
  },
  {
   "cell_type": "code",
   "execution_count": 117,
   "metadata": {},
   "outputs": [
    {
     "name": "stderr",
     "output_type": "stream",
     "text": [
      "C:\\Users\\GRMITALY\\miniconda3\\envs\\MainEnv\\lib\\site-packages\\IPython\\core\\interactiveshell.py:3444: DtypeWarning: Columns (5) have mixed types.Specify dtype option on import or set low_memory=False.\n",
      "  exec(code_obj, self.user_global_ns, self.user_ns)\n"
     ]
    }
   ],
   "source": [
    "dataframeTitoli = pd.read_csv(\"./data/title_basics.tsv\", sep=\"\\t\")\n",
    "dataframeRating = pd.read_csv(\"./data/title_ratings.tsv\", sep=\"\\t\")"
   ]
  },
  {
   "cell_type": "code",
   "execution_count": 118,
   "metadata": {},
   "outputs": [],
   "source": [
    "mergedDataframe = pd.merge(dataframeTitoli, dataframeRating, on=\"tconst\")"
   ]
  },
  {
   "cell_type": "code",
   "execution_count": 119,
   "metadata": {},
   "outputs": [
    {
     "data": {
      "text/plain": [
       "(993821, 11)"
      ]
     },
     "execution_count": 119,
     "metadata": {},
     "output_type": "execute_result"
    }
   ],
   "source": [
    "mergedDataframe.shape"
   ]
  },
  {
   "cell_type": "code",
   "execution_count": 120,
   "metadata": {},
   "outputs": [
    {
     "data": {
      "text/html": [
       "<div>\n",
       "<style scoped>\n",
       "    .dataframe tbody tr th:only-of-type {\n",
       "        vertical-align: middle;\n",
       "    }\n",
       "\n",
       "    .dataframe tbody tr th {\n",
       "        vertical-align: top;\n",
       "    }\n",
       "\n",
       "    .dataframe thead th {\n",
       "        text-align: right;\n",
       "    }\n",
       "</style>\n",
       "<table border=\"1\" class=\"dataframe\">\n",
       "  <thead>\n",
       "    <tr style=\"text-align: right;\">\n",
       "      <th></th>\n",
       "      <th>tconst</th>\n",
       "      <th>titleType</th>\n",
       "      <th>primaryTitle</th>\n",
       "      <th>originalTitle</th>\n",
       "      <th>isAdult</th>\n",
       "      <th>startYear</th>\n",
       "      <th>endYear</th>\n",
       "      <th>runtimeMinutes</th>\n",
       "      <th>genres</th>\n",
       "      <th>averageRating</th>\n",
       "      <th>numVotes</th>\n",
       "    </tr>\n",
       "  </thead>\n",
       "  <tbody>\n",
       "    <tr>\n",
       "      <th>0</th>\n",
       "      <td>tt0000001</td>\n",
       "      <td>short</td>\n",
       "      <td>Carmencita</td>\n",
       "      <td>Carmencita</td>\n",
       "      <td>0</td>\n",
       "      <td>1894</td>\n",
       "      <td>\\N</td>\n",
       "      <td>1</td>\n",
       "      <td>Documentary,Short</td>\n",
       "      <td>5.6</td>\n",
       "      <td>1550</td>\n",
       "    </tr>\n",
       "    <tr>\n",
       "      <th>1</th>\n",
       "      <td>tt0000002</td>\n",
       "      <td>short</td>\n",
       "      <td>Le clown et ses chiens</td>\n",
       "      <td>Le clown et ses chiens</td>\n",
       "      <td>0</td>\n",
       "      <td>1892</td>\n",
       "      <td>\\N</td>\n",
       "      <td>5</td>\n",
       "      <td>Animation,Short</td>\n",
       "      <td>6.1</td>\n",
       "      <td>186</td>\n",
       "    </tr>\n",
       "    <tr>\n",
       "      <th>2</th>\n",
       "      <td>tt0000003</td>\n",
       "      <td>short</td>\n",
       "      <td>Pauvre Pierrot</td>\n",
       "      <td>Pauvre Pierrot</td>\n",
       "      <td>0</td>\n",
       "      <td>1892</td>\n",
       "      <td>\\N</td>\n",
       "      <td>4</td>\n",
       "      <td>Animation,Comedy,Romance</td>\n",
       "      <td>6.5</td>\n",
       "      <td>1207</td>\n",
       "    </tr>\n",
       "    <tr>\n",
       "      <th>3</th>\n",
       "      <td>tt0000004</td>\n",
       "      <td>short</td>\n",
       "      <td>Un bon bock</td>\n",
       "      <td>Un bon bock</td>\n",
       "      <td>0</td>\n",
       "      <td>1892</td>\n",
       "      <td>\\N</td>\n",
       "      <td>\\N</td>\n",
       "      <td>Animation,Short</td>\n",
       "      <td>6.2</td>\n",
       "      <td>113</td>\n",
       "    </tr>\n",
       "    <tr>\n",
       "      <th>4</th>\n",
       "      <td>tt0000005</td>\n",
       "      <td>short</td>\n",
       "      <td>Blacksmith Scene</td>\n",
       "      <td>Blacksmith Scene</td>\n",
       "      <td>0</td>\n",
       "      <td>1893</td>\n",
       "      <td>\\N</td>\n",
       "      <td>1</td>\n",
       "      <td>Comedy,Short</td>\n",
       "      <td>6.1</td>\n",
       "      <td>1934</td>\n",
       "    </tr>\n",
       "  </tbody>\n",
       "</table>\n",
       "</div>"
      ],
      "text/plain": [
       "      tconst titleType            primaryTitle           originalTitle  \\\n",
       "0  tt0000001     short              Carmencita              Carmencita   \n",
       "1  tt0000002     short  Le clown et ses chiens  Le clown et ses chiens   \n",
       "2  tt0000003     short          Pauvre Pierrot          Pauvre Pierrot   \n",
       "3  tt0000004     short             Un bon bock             Un bon bock   \n",
       "4  tt0000005     short        Blacksmith Scene        Blacksmith Scene   \n",
       "\n",
       "   isAdult startYear endYear runtimeMinutes                    genres  \\\n",
       "0        0      1894      \\N              1         Documentary,Short   \n",
       "1        0      1892      \\N              5           Animation,Short   \n",
       "2        0      1892      \\N              4  Animation,Comedy,Romance   \n",
       "3        0      1892      \\N             \\N           Animation,Short   \n",
       "4        0      1893      \\N              1              Comedy,Short   \n",
       "\n",
       "   averageRating  numVotes  \n",
       "0            5.6      1550  \n",
       "1            6.1       186  \n",
       "2            6.5      1207  \n",
       "3            6.2       113  \n",
       "4            6.1      1934  "
      ]
     },
     "execution_count": 120,
     "metadata": {},
     "output_type": "execute_result"
    }
   ],
   "source": [
    "mergedDataframe.head()"
   ]
  },
  {
   "cell_type": "code",
   "execution_count": 121,
   "metadata": {},
   "outputs": [],
   "source": [
    "# mergedDataframe = mergedDataframe.replace(['\\\\N'], np.nan)"
   ]
  },
  {
   "cell_type": "code",
   "execution_count": 122,
   "metadata": {},
   "outputs": [
    {
     "data": {
      "text/html": [
       "<div>\n",
       "<style scoped>\n",
       "    .dataframe tbody tr th:only-of-type {\n",
       "        vertical-align: middle;\n",
       "    }\n",
       "\n",
       "    .dataframe tbody tr th {\n",
       "        vertical-align: top;\n",
       "    }\n",
       "\n",
       "    .dataframe thead th {\n",
       "        text-align: right;\n",
       "    }\n",
       "</style>\n",
       "<table border=\"1\" class=\"dataframe\">\n",
       "  <thead>\n",
       "    <tr style=\"text-align: right;\">\n",
       "      <th></th>\n",
       "      <th>tconst</th>\n",
       "      <th>titleType</th>\n",
       "      <th>primaryTitle</th>\n",
       "      <th>originalTitle</th>\n",
       "      <th>isAdult</th>\n",
       "      <th>startYear</th>\n",
       "      <th>endYear</th>\n",
       "      <th>runtimeMinutes</th>\n",
       "      <th>genres</th>\n",
       "      <th>averageRating</th>\n",
       "      <th>numVotes</th>\n",
       "    </tr>\n",
       "  </thead>\n",
       "  <tbody>\n",
       "    <tr>\n",
       "      <th>0</th>\n",
       "      <td>tt0000001</td>\n",
       "      <td>short</td>\n",
       "      <td>Carmencita</td>\n",
       "      <td>Carmencita</td>\n",
       "      <td>0</td>\n",
       "      <td>1894</td>\n",
       "      <td>\\N</td>\n",
       "      <td>1</td>\n",
       "      <td>Documentary,Short</td>\n",
       "      <td>5.6</td>\n",
       "      <td>1550</td>\n",
       "    </tr>\n",
       "    <tr>\n",
       "      <th>1</th>\n",
       "      <td>tt0000002</td>\n",
       "      <td>short</td>\n",
       "      <td>Le clown et ses chiens</td>\n",
       "      <td>Le clown et ses chiens</td>\n",
       "      <td>0</td>\n",
       "      <td>1892</td>\n",
       "      <td>\\N</td>\n",
       "      <td>5</td>\n",
       "      <td>Animation,Short</td>\n",
       "      <td>6.1</td>\n",
       "      <td>186</td>\n",
       "    </tr>\n",
       "    <tr>\n",
       "      <th>2</th>\n",
       "      <td>tt0000003</td>\n",
       "      <td>short</td>\n",
       "      <td>Pauvre Pierrot</td>\n",
       "      <td>Pauvre Pierrot</td>\n",
       "      <td>0</td>\n",
       "      <td>1892</td>\n",
       "      <td>\\N</td>\n",
       "      <td>4</td>\n",
       "      <td>Animation,Comedy,Romance</td>\n",
       "      <td>6.5</td>\n",
       "      <td>1207</td>\n",
       "    </tr>\n",
       "    <tr>\n",
       "      <th>3</th>\n",
       "      <td>tt0000004</td>\n",
       "      <td>short</td>\n",
       "      <td>Un bon bock</td>\n",
       "      <td>Un bon bock</td>\n",
       "      <td>0</td>\n",
       "      <td>1892</td>\n",
       "      <td>\\N</td>\n",
       "      <td>\\N</td>\n",
       "      <td>Animation,Short</td>\n",
       "      <td>6.2</td>\n",
       "      <td>113</td>\n",
       "    </tr>\n",
       "    <tr>\n",
       "      <th>4</th>\n",
       "      <td>tt0000005</td>\n",
       "      <td>short</td>\n",
       "      <td>Blacksmith Scene</td>\n",
       "      <td>Blacksmith Scene</td>\n",
       "      <td>0</td>\n",
       "      <td>1893</td>\n",
       "      <td>\\N</td>\n",
       "      <td>1</td>\n",
       "      <td>Comedy,Short</td>\n",
       "      <td>6.1</td>\n",
       "      <td>1934</td>\n",
       "    </tr>\n",
       "  </tbody>\n",
       "</table>\n",
       "</div>"
      ],
      "text/plain": [
       "      tconst titleType            primaryTitle           originalTitle  \\\n",
       "0  tt0000001     short              Carmencita              Carmencita   \n",
       "1  tt0000002     short  Le clown et ses chiens  Le clown et ses chiens   \n",
       "2  tt0000003     short          Pauvre Pierrot          Pauvre Pierrot   \n",
       "3  tt0000004     short             Un bon bock             Un bon bock   \n",
       "4  tt0000005     short        Blacksmith Scene        Blacksmith Scene   \n",
       "\n",
       "   isAdult startYear endYear runtimeMinutes                    genres  \\\n",
       "0        0      1894      \\N              1         Documentary,Short   \n",
       "1        0      1892      \\N              5           Animation,Short   \n",
       "2        0      1892      \\N              4  Animation,Comedy,Romance   \n",
       "3        0      1892      \\N             \\N           Animation,Short   \n",
       "4        0      1893      \\N              1              Comedy,Short   \n",
       "\n",
       "   averageRating  numVotes  \n",
       "0            5.6      1550  \n",
       "1            6.1       186  \n",
       "2            6.5      1207  \n",
       "3            6.2       113  \n",
       "4            6.1      1934  "
      ]
     },
     "execution_count": 122,
     "metadata": {},
     "output_type": "execute_result"
    }
   ],
   "source": [
    "mergedDataframe.head()"
   ]
  },
  {
   "cell_type": "markdown",
   "metadata": {},
   "source": [
    "## Data Cleaning"
   ]
  },
  {
   "cell_type": "code",
   "execution_count": 123,
   "metadata": {},
   "outputs": [
    {
     "name": "stdout",
     "output_type": "stream",
     "text": [
      "<class 'pandas.core.frame.DataFrame'>\n",
      "Int64Index: 993821 entries, 0 to 993820\n",
      "Data columns (total 11 columns):\n",
      " #   Column          Non-Null Count   Dtype  \n",
      "---  ------          --------------   -----  \n",
      " 0   tconst          993821 non-null  object \n",
      " 1   titleType       993821 non-null  object \n",
      " 2   primaryTitle    993821 non-null  object \n",
      " 3   originalTitle   993821 non-null  object \n",
      " 4   isAdult         993821 non-null  int64  \n",
      " 5   startYear       993821 non-null  object \n",
      " 6   endYear         993821 non-null  object \n",
      " 7   runtimeMinutes  993821 non-null  object \n",
      " 8   genres          993819 non-null  object \n",
      " 9   averageRating   993821 non-null  float64\n",
      " 10  numVotes        993821 non-null  int64  \n",
      "dtypes: float64(1), int64(2), object(8)\n",
      "memory usage: 91.0+ MB\n"
     ]
    }
   ],
   "source": [
    "mergedDataframe.info()"
   ]
  },
  {
   "cell_type": "markdown",
   "metadata": {},
   "source": [
    "Check for null values"
   ]
  },
  {
   "cell_type": "code",
   "execution_count": 124,
   "metadata": {},
   "outputs": [
    {
     "data": {
      "text/plain": [
       "tconst            0\n",
       "titleType         0\n",
       "primaryTitle      0\n",
       "originalTitle     0\n",
       "isAdult           0\n",
       "startYear         0\n",
       "endYear           0\n",
       "runtimeMinutes    0\n",
       "genres            2\n",
       "averageRating     0\n",
       "numVotes          0\n",
       "dtype: int64"
      ]
     },
     "execution_count": 124,
     "metadata": {},
     "output_type": "execute_result"
    }
   ],
   "source": [
    "mergedDataframe.isna().sum()"
   ]
  },
  {
   "cell_type": "markdown",
   "metadata": {},
   "source": [
    "Dropping unnecessary columns"
   ]
  },
  {
   "cell_type": "code",
   "execution_count": 125,
   "metadata": {},
   "outputs": [],
   "source": [
    "# mergedDataframe = mergedDataframe.drop(['', ''], axis=1)"
   ]
  },
  {
   "cell_type": "code",
   "execution_count": 126,
   "metadata": {},
   "outputs": [
    {
     "data": {
      "text/plain": [
       "Index(['tconst', 'titleType', 'primaryTitle', 'originalTitle', 'isAdult',\n",
       "       'startYear', 'endYear', 'runtimeMinutes', 'genres', 'averageRating',\n",
       "       'numVotes'],\n",
       "      dtype='object')"
      ]
     },
     "execution_count": 126,
     "metadata": {},
     "output_type": "execute_result"
    }
   ],
   "source": [
    "mergedDataframe.columns"
   ]
  },
  {
   "cell_type": "markdown",
   "metadata": {},
   "source": [
    "Fix data types"
   ]
  },
  {
   "cell_type": "code",
   "execution_count": 127,
   "metadata": {},
   "outputs": [
    {
     "data": {
      "text/plain": [
       "tconst             object\n",
       "titleType          object\n",
       "primaryTitle       object\n",
       "originalTitle      object\n",
       "isAdult             int64\n",
       "startYear          object\n",
       "endYear            object\n",
       "runtimeMinutes     object\n",
       "genres             object\n",
       "averageRating     float64\n",
       "numVotes            int64\n",
       "dtype: object"
      ]
     },
     "execution_count": 127,
     "metadata": {},
     "output_type": "execute_result"
    }
   ],
   "source": [
    "mergedDataframe.dtypes"
   ]
  },
  {
   "cell_type": "code",
   "execution_count": 128,
   "metadata": {},
   "outputs": [],
   "source": [
    "pd.options.mode.chained_assignment = None"
   ]
  },
  {
   "cell_type": "code",
   "execution_count": 129,
   "metadata": {},
   "outputs": [],
   "source": [
    "mergedDataframe['titleType'] = pd.Categorical(mergedDataframe['titleType'])"
   ]
  },
  {
   "cell_type": "code",
   "execution_count": 130,
   "metadata": {},
   "outputs": [
    {
     "data": {
      "text/plain": [
       "Index(['movie', 'short', 'tvEpisode', 'tvMiniSeries', 'tvMovie', 'tvSeries',\n",
       "       'tvShort', 'tvSpecial', 'video', 'videoGame'],\n",
       "      dtype='object')"
      ]
     },
     "execution_count": 130,
     "metadata": {},
     "output_type": "execute_result"
    }
   ],
   "source": [
    "mergedDataframe['titleType'].cat.categories"
   ]
  },
  {
   "cell_type": "code",
   "execution_count": 131,
   "metadata": {},
   "outputs": [
    {
     "data": {
      "text/html": [
       "<div>\n",
       "<style scoped>\n",
       "    .dataframe tbody tr th:only-of-type {\n",
       "        vertical-align: middle;\n",
       "    }\n",
       "\n",
       "    .dataframe tbody tr th {\n",
       "        vertical-align: top;\n",
       "    }\n",
       "\n",
       "    .dataframe thead th {\n",
       "        text-align: right;\n",
       "    }\n",
       "</style>\n",
       "<table border=\"1\" class=\"dataframe\">\n",
       "  <thead>\n",
       "    <tr style=\"text-align: right;\">\n",
       "      <th></th>\n",
       "      <th>tconst</th>\n",
       "      <th>titleType</th>\n",
       "      <th>primaryTitle</th>\n",
       "      <th>originalTitle</th>\n",
       "      <th>isAdult</th>\n",
       "      <th>startYear</th>\n",
       "      <th>endYear</th>\n",
       "      <th>runtimeMinutes</th>\n",
       "      <th>genres</th>\n",
       "      <th>averageRating</th>\n",
       "      <th>numVotes</th>\n",
       "    </tr>\n",
       "  </thead>\n",
       "  <tbody>\n",
       "    <tr>\n",
       "      <th>496910</th>\n",
       "      <td>tt1283951</td>\n",
       "      <td>tvMovie</td>\n",
       "      <td>Speed Freaks</td>\n",
       "      <td>Speed Freaks</td>\n",
       "      <td>0</td>\n",
       "      <td>2008</td>\n",
       "      <td>\\N</td>\n",
       "      <td>\\N</td>\n",
       "      <td>Comedy</td>\n",
       "      <td>5.1</td>\n",
       "      <td>13</td>\n",
       "    </tr>\n",
       "    <tr>\n",
       "      <th>474424</th>\n",
       "      <td>tt1172435</td>\n",
       "      <td>tvEpisode</td>\n",
       "      <td>Burn, Baby, Burn</td>\n",
       "      <td>Burn, Baby, Burn</td>\n",
       "      <td>0</td>\n",
       "      <td>1996</td>\n",
       "      <td>\\N</td>\n",
       "      <td>\\N</td>\n",
       "      <td>Drama</td>\n",
       "      <td>6.1</td>\n",
       "      <td>7</td>\n",
       "    </tr>\n",
       "    <tr>\n",
       "      <th>474422</th>\n",
       "      <td>tt1172433</td>\n",
       "      <td>tvEpisode</td>\n",
       "      <td>My Fair Ladies</td>\n",
       "      <td>My Fair Ladies</td>\n",
       "      <td>0</td>\n",
       "      <td>1996</td>\n",
       "      <td>\\N</td>\n",
       "      <td>\\N</td>\n",
       "      <td>Drama</td>\n",
       "      <td>5.5</td>\n",
       "      <td>6</td>\n",
       "    </tr>\n",
       "    <tr>\n",
       "      <th>474421</th>\n",
       "      <td>tt1172432</td>\n",
       "      <td>tvEpisode</td>\n",
       "      <td>Every Picture Tells a Story</td>\n",
       "      <td>Every Picture Tells a Story</td>\n",
       "      <td>0</td>\n",
       "      <td>1997</td>\n",
       "      <td>\\N</td>\n",
       "      <td>\\N</td>\n",
       "      <td>Drama</td>\n",
       "      <td>6.0</td>\n",
       "      <td>7</td>\n",
       "    </tr>\n",
       "    <tr>\n",
       "      <th>474420</th>\n",
       "      <td>tt1172431</td>\n",
       "      <td>tvEpisode</td>\n",
       "      <td>Dressed to Shill</td>\n",
       "      <td>Dressed to Shill</td>\n",
       "      <td>0</td>\n",
       "      <td>1997</td>\n",
       "      <td>\\N</td>\n",
       "      <td>\\N</td>\n",
       "      <td>Drama</td>\n",
       "      <td>6.6</td>\n",
       "      <td>8</td>\n",
       "    </tr>\n",
       "  </tbody>\n",
       "</table>\n",
       "</div>"
      ],
      "text/plain": [
       "           tconst  titleType                 primaryTitle  \\\n",
       "496910  tt1283951    tvMovie                 Speed Freaks   \n",
       "474424  tt1172435  tvEpisode             Burn, Baby, Burn   \n",
       "474422  tt1172433  tvEpisode               My Fair Ladies   \n",
       "474421  tt1172432  tvEpisode  Every Picture Tells a Story   \n",
       "474420  tt1172431  tvEpisode             Dressed to Shill   \n",
       "\n",
       "                      originalTitle  isAdult startYear endYear runtimeMinutes  \\\n",
       "496910                 Speed Freaks        0      2008      \\N             \\N   \n",
       "474424             Burn, Baby, Burn        0      1996      \\N             \\N   \n",
       "474422               My Fair Ladies        0      1996      \\N             \\N   \n",
       "474421  Every Picture Tells a Story        0      1997      \\N             \\N   \n",
       "474420             Dressed to Shill        0      1997      \\N             \\N   \n",
       "\n",
       "        genres  averageRating  numVotes  \n",
       "496910  Comedy            5.1        13  \n",
       "474424   Drama            6.1         7  \n",
       "474422   Drama            5.5         6  \n",
       "474421   Drama            6.0         7  \n",
       "474420   Drama            6.6         8  "
      ]
     },
     "execution_count": 131,
     "metadata": {},
     "output_type": "execute_result"
    }
   ],
   "source": [
    "mergedDataframe.sort_values(by='runtimeMinutes', ascending=False).head()"
   ]
  },
  {
   "cell_type": "code",
   "execution_count": 132,
   "metadata": {},
   "outputs": [
    {
     "data": {
      "text/plain": [
       "tconst              object\n",
       "titleType         category\n",
       "primaryTitle        object\n",
       "originalTitle       object\n",
       "isAdult              int64\n",
       "startYear           object\n",
       "endYear             object\n",
       "runtimeMinutes      object\n",
       "genres              object\n",
       "averageRating      float64\n",
       "numVotes             int64\n",
       "dtype: object"
      ]
     },
     "execution_count": 132,
     "metadata": {},
     "output_type": "execute_result"
    }
   ],
   "source": [
    "mergedDataframe.dtypes"
   ]
  },
  {
   "cell_type": "markdown",
   "metadata": {},
   "source": [
    "Problema dato da caratteri \\N presenti nel dataset"
   ]
  },
  {
   "cell_type": "code",
   "execution_count": 135,
   "metadata": {},
   "outputs": [],
   "source": [
    "mergedDataframe.runtimeMinutes = pd.to_numeric(mergedDataframe.runtimeMinutes, errors ='coerce').fillna(0).astype('int')"
   ]
  },
  {
   "cell_type": "code",
   "execution_count": 136,
   "metadata": {},
   "outputs": [
    {
     "data": {
      "text/html": [
       "<div>\n",
       "<style scoped>\n",
       "    .dataframe tbody tr th:only-of-type {\n",
       "        vertical-align: middle;\n",
       "    }\n",
       "\n",
       "    .dataframe tbody tr th {\n",
       "        vertical-align: top;\n",
       "    }\n",
       "\n",
       "    .dataframe thead th {\n",
       "        text-align: right;\n",
       "    }\n",
       "</style>\n",
       "<table border=\"1\" class=\"dataframe\">\n",
       "  <thead>\n",
       "    <tr style=\"text-align: right;\">\n",
       "      <th></th>\n",
       "      <th>tconst</th>\n",
       "      <th>titleType</th>\n",
       "      <th>primaryTitle</th>\n",
       "      <th>originalTitle</th>\n",
       "      <th>isAdult</th>\n",
       "      <th>startYear</th>\n",
       "      <th>endYear</th>\n",
       "      <th>runtimeMinutes</th>\n",
       "      <th>genres</th>\n",
       "      <th>averageRating</th>\n",
       "      <th>numVotes</th>\n",
       "    </tr>\n",
       "  </thead>\n",
       "  <tbody>\n",
       "    <tr>\n",
       "      <th>454455</th>\n",
       "      <td>tt10844584</td>\n",
       "      <td>movie</td>\n",
       "      <td>100</td>\n",
       "      <td>100</td>\n",
       "      <td>0</td>\n",
       "      <td>2019</td>\n",
       "      <td>\\N</td>\n",
       "      <td>59460</td>\n",
       "      <td>Drama</td>\n",
       "      <td>9.2</td>\n",
       "      <td>22</td>\n",
       "    </tr>\n",
       "    <tr>\n",
       "      <th>954725</th>\n",
       "      <td>tt8273150</td>\n",
       "      <td>movie</td>\n",
       "      <td>Logistics</td>\n",
       "      <td>Logistics</td>\n",
       "      <td>0</td>\n",
       "      <td>2012</td>\n",
       "      <td>\\N</td>\n",
       "      <td>51420</td>\n",
       "      <td>Documentary</td>\n",
       "      <td>5.4</td>\n",
       "      <td>29</td>\n",
       "    </tr>\n",
       "    <tr>\n",
       "      <th>683780</th>\n",
       "      <td>tt2659636</td>\n",
       "      <td>movie</td>\n",
       "      <td>Modern Times Forever</td>\n",
       "      <td>Modern Times Forever</td>\n",
       "      <td>0</td>\n",
       "      <td>2011</td>\n",
       "      <td>\\N</td>\n",
       "      <td>14400</td>\n",
       "      <td>Documentary</td>\n",
       "      <td>6.2</td>\n",
       "      <td>72</td>\n",
       "    </tr>\n",
       "    <tr>\n",
       "      <th>454461</th>\n",
       "      <td>tt10844900</td>\n",
       "      <td>movie</td>\n",
       "      <td>Qw</td>\n",
       "      <td>Qw</td>\n",
       "      <td>0</td>\n",
       "      <td>2019</td>\n",
       "      <td>\\N</td>\n",
       "      <td>10062</td>\n",
       "      <td>Drama</td>\n",
       "      <td>9.1</td>\n",
       "      <td>19</td>\n",
       "    </tr>\n",
       "    <tr>\n",
       "      <th>659678</th>\n",
       "      <td>tt2355497</td>\n",
       "      <td>movie</td>\n",
       "      <td>Beijing 2003</td>\n",
       "      <td>Beijing 2003</td>\n",
       "      <td>0</td>\n",
       "      <td>2004</td>\n",
       "      <td>\\N</td>\n",
       "      <td>9000</td>\n",
       "      <td>Documentary</td>\n",
       "      <td>6.8</td>\n",
       "      <td>11</td>\n",
       "    </tr>\n",
       "  </tbody>\n",
       "</table>\n",
       "</div>"
      ],
      "text/plain": [
       "            tconst titleType          primaryTitle         originalTitle  \\\n",
       "454455  tt10844584     movie                   100                   100   \n",
       "954725   tt8273150     movie             Logistics             Logistics   \n",
       "683780   tt2659636     movie  Modern Times Forever  Modern Times Forever   \n",
       "454461  tt10844900     movie                    Qw                    Qw   \n",
       "659678   tt2355497     movie          Beijing 2003          Beijing 2003   \n",
       "\n",
       "        isAdult startYear endYear  runtimeMinutes       genres  averageRating  \\\n",
       "454455        0      2019      \\N           59460        Drama            9.2   \n",
       "954725        0      2012      \\N           51420  Documentary            5.4   \n",
       "683780        0      2011      \\N           14400  Documentary            6.2   \n",
       "454461        0      2019      \\N           10062        Drama            9.1   \n",
       "659678        0      2004      \\N            9000  Documentary            6.8   \n",
       "\n",
       "        numVotes  \n",
       "454455        22  \n",
       "954725        29  \n",
       "683780        72  \n",
       "454461        19  \n",
       "659678        11  "
      ]
     },
     "execution_count": 136,
     "metadata": {},
     "output_type": "execute_result"
    }
   ],
   "source": [
    "mergedDataframe.sort_values(by='runtimeMinutes', ascending=False).head()"
   ]
  },
  {
   "cell_type": "code",
   "execution_count": 137,
   "metadata": {},
   "outputs": [
    {
     "data": {
      "text/plain": [
       "tconst              object\n",
       "titleType         category\n",
       "primaryTitle        object\n",
       "originalTitle       object\n",
       "isAdult              int64\n",
       "startYear           object\n",
       "endYear             object\n",
       "runtimeMinutes       int32\n",
       "genres              object\n",
       "averageRating      float64\n",
       "numVotes             int64\n",
       "dtype: object"
      ]
     },
     "execution_count": 137,
     "metadata": {},
     "output_type": "execute_result"
    }
   ],
   "source": [
    "mergedDataframe.dtypes"
   ]
  },
  {
   "cell_type": "code",
   "execution_count": 139,
   "metadata": {},
   "outputs": [],
   "source": [
    "mergedDataframe.startYear = pd.to_numeric(mergedDataframe.startYear, errors ='coerce').fillna(0).astype('int')"
   ]
  },
  {
   "cell_type": "code",
   "execution_count": 140,
   "metadata": {},
   "outputs": [],
   "source": [
    "mergedDataframe.endYear = pd.to_numeric(mergedDataframe.endYear, errors ='coerce').fillna(0).astype('int')"
   ]
  },
  {
   "cell_type": "markdown",
   "metadata": {},
   "source": [
    "### Modellazione"
   ]
  },
  {
   "cell_type": "markdown",
   "metadata": {},
   "source": [
    "Risolvo criticità null values"
   ]
  },
  {
   "cell_type": "code",
   "execution_count": 141,
   "metadata": {},
   "outputs": [
    {
     "data": {
      "text/html": [
       "<div>\n",
       "<style scoped>\n",
       "    .dataframe tbody tr th:only-of-type {\n",
       "        vertical-align: middle;\n",
       "    }\n",
       "\n",
       "    .dataframe tbody tr th {\n",
       "        vertical-align: top;\n",
       "    }\n",
       "\n",
       "    .dataframe thead th {\n",
       "        text-align: right;\n",
       "    }\n",
       "</style>\n",
       "<table border=\"1\" class=\"dataframe\">\n",
       "  <thead>\n",
       "    <tr style=\"text-align: right;\">\n",
       "      <th></th>\n",
       "      <th>tconst</th>\n",
       "      <th>titleType</th>\n",
       "      <th>primaryTitle</th>\n",
       "      <th>originalTitle</th>\n",
       "      <th>isAdult</th>\n",
       "      <th>startYear</th>\n",
       "      <th>endYear</th>\n",
       "      <th>runtimeMinutes</th>\n",
       "      <th>genres</th>\n",
       "      <th>averageRating</th>\n",
       "      <th>numVotes</th>\n",
       "    </tr>\n",
       "  </thead>\n",
       "  <tbody>\n",
       "    <tr>\n",
       "      <th>3</th>\n",
       "      <td>tt0000004</td>\n",
       "      <td>short</td>\n",
       "      <td>Un bon bock</td>\n",
       "      <td>Un bon bock</td>\n",
       "      <td>0</td>\n",
       "      <td>1892</td>\n",
       "      <td>0</td>\n",
       "      <td>0</td>\n",
       "      <td>Animation,Short</td>\n",
       "      <td>6.2</td>\n",
       "      <td>113</td>\n",
       "    </tr>\n",
       "    <tr>\n",
       "      <th>18</th>\n",
       "      <td>tt0000019</td>\n",
       "      <td>short</td>\n",
       "      <td>The Clown Barber</td>\n",
       "      <td>The Clown Barber</td>\n",
       "      <td>0</td>\n",
       "      <td>1898</td>\n",
       "      <td>0</td>\n",
       "      <td>0</td>\n",
       "      <td>Comedy,Short</td>\n",
       "      <td>5.5</td>\n",
       "      <td>17</td>\n",
       "    </tr>\n",
       "    <tr>\n",
       "      <th>22</th>\n",
       "      <td>tt0000024</td>\n",
       "      <td>short</td>\n",
       "      <td>Opening of the Kiel Canal</td>\n",
       "      <td>Opening of the Kiel Canal</td>\n",
       "      <td>0</td>\n",
       "      <td>1895</td>\n",
       "      <td>0</td>\n",
       "      <td>0</td>\n",
       "      <td>News,Short</td>\n",
       "      <td>5.0</td>\n",
       "      <td>26</td>\n",
       "    </tr>\n",
       "    <tr>\n",
       "      <th>23</th>\n",
       "      <td>tt0000025</td>\n",
       "      <td>short</td>\n",
       "      <td>The Oxford and Cambridge University Boat Race</td>\n",
       "      <td>The Oxford and Cambridge University Boat Race</td>\n",
       "      <td>0</td>\n",
       "      <td>1895</td>\n",
       "      <td>0</td>\n",
       "      <td>0</td>\n",
       "      <td>News,Short,Sport</td>\n",
       "      <td>4.5</td>\n",
       "      <td>24</td>\n",
       "    </tr>\n",
       "    <tr>\n",
       "      <th>34</th>\n",
       "      <td>tt0000036</td>\n",
       "      <td>short</td>\n",
       "      <td>Awakening of Rip</td>\n",
       "      <td>Awakening of Rip</td>\n",
       "      <td>0</td>\n",
       "      <td>1896</td>\n",
       "      <td>0</td>\n",
       "      <td>0</td>\n",
       "      <td>Drama,Short</td>\n",
       "      <td>4.5</td>\n",
       "      <td>454</td>\n",
       "    </tr>\n",
       "    <tr>\n",
       "      <th>...</th>\n",
       "      <td>...</td>\n",
       "      <td>...</td>\n",
       "      <td>...</td>\n",
       "      <td>...</td>\n",
       "      <td>...</td>\n",
       "      <td>...</td>\n",
       "      <td>...</td>\n",
       "      <td>...</td>\n",
       "      <td>...</td>\n",
       "      <td>...</td>\n",
       "      <td>...</td>\n",
       "    </tr>\n",
       "    <tr>\n",
       "      <th>993810</th>\n",
       "      <td>tt9916316</td>\n",
       "      <td>tvEpisode</td>\n",
       "      <td>Tim Mälzer vs. Max Strohe</td>\n",
       "      <td>Tim Mälzer vs. Max Strohe</td>\n",
       "      <td>0</td>\n",
       "      <td>2019</td>\n",
       "      <td>0</td>\n",
       "      <td>0</td>\n",
       "      <td>Reality-TV</td>\n",
       "      <td>8.4</td>\n",
       "      <td>5</td>\n",
       "    </tr>\n",
       "    <tr>\n",
       "      <th>993813</th>\n",
       "      <td>tt9916420</td>\n",
       "      <td>tvEpisode</td>\n",
       "      <td>Episode #21.1</td>\n",
       "      <td>Episode #21.1</td>\n",
       "      <td>0</td>\n",
       "      <td>2019</td>\n",
       "      <td>0</td>\n",
       "      <td>0</td>\n",
       "      <td>Comedy,Game-Show</td>\n",
       "      <td>7.1</td>\n",
       "      <td>7</td>\n",
       "    </tr>\n",
       "    <tr>\n",
       "      <th>993814</th>\n",
       "      <td>tt9916428</td>\n",
       "      <td>movie</td>\n",
       "      <td>The Secret of China</td>\n",
       "      <td>The Secret of China</td>\n",
       "      <td>0</td>\n",
       "      <td>2019</td>\n",
       "      <td>0</td>\n",
       "      <td>0</td>\n",
       "      <td>Adventure,History,War</td>\n",
       "      <td>2.9</td>\n",
       "      <td>8</td>\n",
       "    </tr>\n",
       "    <tr>\n",
       "      <th>993817</th>\n",
       "      <td>tt9916578</td>\n",
       "      <td>tvEpisode</td>\n",
       "      <td>The Trial of Joan Collins</td>\n",
       "      <td>The Trial of Joan Collins</td>\n",
       "      <td>0</td>\n",
       "      <td>2019</td>\n",
       "      <td>0</td>\n",
       "      <td>0</td>\n",
       "      <td>Adventure,Biography,Comedy</td>\n",
       "      <td>9.1</td>\n",
       "      <td>11</td>\n",
       "    </tr>\n",
       "    <tr>\n",
       "      <th>993820</th>\n",
       "      <td>tt9916778</td>\n",
       "      <td>tvEpisode</td>\n",
       "      <td>Escape</td>\n",
       "      <td>Escape</td>\n",
       "      <td>0</td>\n",
       "      <td>2019</td>\n",
       "      <td>0</td>\n",
       "      <td>0</td>\n",
       "      <td>Drama</td>\n",
       "      <td>6.9</td>\n",
       "      <td>16</td>\n",
       "    </tr>\n",
       "  </tbody>\n",
       "</table>\n",
       "<p>272707 rows × 11 columns</p>\n",
       "</div>"
      ],
      "text/plain": [
       "           tconst  titleType                                   primaryTitle  \\\n",
       "3       tt0000004      short                                    Un bon bock   \n",
       "18      tt0000019      short                               The Clown Barber   \n",
       "22      tt0000024      short                      Opening of the Kiel Canal   \n",
       "23      tt0000025      short  The Oxford and Cambridge University Boat Race   \n",
       "34      tt0000036      short                               Awakening of Rip   \n",
       "...           ...        ...                                            ...   \n",
       "993810  tt9916316  tvEpisode                      Tim Mälzer vs. Max Strohe   \n",
       "993813  tt9916420  tvEpisode                                  Episode #21.1   \n",
       "993814  tt9916428      movie                            The Secret of China   \n",
       "993817  tt9916578  tvEpisode                      The Trial of Joan Collins   \n",
       "993820  tt9916778  tvEpisode                                         Escape   \n",
       "\n",
       "                                        originalTitle  isAdult  startYear  \\\n",
       "3                                         Un bon bock        0       1892   \n",
       "18                                   The Clown Barber        0       1898   \n",
       "22                          Opening of the Kiel Canal        0       1895   \n",
       "23      The Oxford and Cambridge University Boat Race        0       1895   \n",
       "34                                   Awakening of Rip        0       1896   \n",
       "...                                               ...      ...        ...   \n",
       "993810                      Tim Mälzer vs. Max Strohe        0       2019   \n",
       "993813                                  Episode #21.1        0       2019   \n",
       "993814                            The Secret of China        0       2019   \n",
       "993817                      The Trial of Joan Collins        0       2019   \n",
       "993820                                         Escape        0       2019   \n",
       "\n",
       "        endYear  runtimeMinutes                      genres  averageRating  \\\n",
       "3             0               0             Animation,Short            6.2   \n",
       "18            0               0                Comedy,Short            5.5   \n",
       "22            0               0                  News,Short            5.0   \n",
       "23            0               0            News,Short,Sport            4.5   \n",
       "34            0               0                 Drama,Short            4.5   \n",
       "...         ...             ...                         ...            ...   \n",
       "993810        0               0                  Reality-TV            8.4   \n",
       "993813        0               0            Comedy,Game-Show            7.1   \n",
       "993814        0               0       Adventure,History,War            2.9   \n",
       "993817        0               0  Adventure,Biography,Comedy            9.1   \n",
       "993820        0               0                       Drama            6.9   \n",
       "\n",
       "        numVotes  \n",
       "3            113  \n",
       "18            17  \n",
       "22            26  \n",
       "23            24  \n",
       "34           454  \n",
       "...          ...  \n",
       "993810         5  \n",
       "993813         7  \n",
       "993814         8  \n",
       "993817        11  \n",
       "993820        16  \n",
       "\n",
       "[272707 rows x 11 columns]"
      ]
     },
     "execution_count": 141,
     "metadata": {},
     "output_type": "execute_result"
    }
   ],
   "source": [
    "mergedDataframe[mergedDataframe['runtimeMinutes'] == 0]"
   ]
  },
  {
   "cell_type": "code",
   "execution_count": 173,
   "metadata": {},
   "outputs": [
    {
     "data": {
      "text/html": [
       "<div>\n",
       "<style scoped>\n",
       "    .dataframe tbody tr th:only-of-type {\n",
       "        vertical-align: middle;\n",
       "    }\n",
       "\n",
       "    .dataframe tbody tr th {\n",
       "        vertical-align: top;\n",
       "    }\n",
       "\n",
       "    .dataframe thead th {\n",
       "        text-align: right;\n",
       "    }\n",
       "</style>\n",
       "<table border=\"1\" class=\"dataframe\">\n",
       "  <thead>\n",
       "    <tr style=\"text-align: right;\">\n",
       "      <th></th>\n",
       "      <th>tconst</th>\n",
       "      <th>titleType</th>\n",
       "      <th>primaryTitle</th>\n",
       "      <th>originalTitle</th>\n",
       "      <th>isAdult</th>\n",
       "      <th>startYear</th>\n",
       "      <th>endYear</th>\n",
       "      <th>runtimeMinutes</th>\n",
       "      <th>genres</th>\n",
       "      <th>averageRating</th>\n",
       "      <th>numVotes</th>\n",
       "    </tr>\n",
       "  </thead>\n",
       "  <tbody>\n",
       "    <tr>\n",
       "      <th>707116</th>\n",
       "      <td>tt3079868</td>\n",
       "      <td>video</td>\n",
       "      <td>Stairway to Anal</td>\n",
       "      <td>Stairway to Anal</td>\n",
       "      <td>1</td>\n",
       "      <td>2010</td>\n",
       "      <td>0</td>\n",
       "      <td>960</td>\n",
       "      <td>Adult</td>\n",
       "      <td>9.2</td>\n",
       "      <td>5</td>\n",
       "    </tr>\n",
       "    <tr>\n",
       "      <th>863119</th>\n",
       "      <td>tt5968434</td>\n",
       "      <td>video</td>\n",
       "      <td>Women Seeking Women Volume 131</td>\n",
       "      <td>Women Seeking Women Volume 131</td>\n",
       "      <td>1</td>\n",
       "      <td>2016</td>\n",
       "      <td>0</td>\n",
       "      <td>469</td>\n",
       "      <td>Adult,Drama,Romance</td>\n",
       "      <td>5.2</td>\n",
       "      <td>5</td>\n",
       "    </tr>\n",
       "    <tr>\n",
       "      <th>408971</th>\n",
       "      <td>tt0924483</td>\n",
       "      <td>video</td>\n",
       "      <td>Private: Sex Positions</td>\n",
       "      <td>Private Sex Positions</td>\n",
       "      <td>1</td>\n",
       "      <td>2006</td>\n",
       "      <td>0</td>\n",
       "      <td>445</td>\n",
       "      <td>Adult</td>\n",
       "      <td>6.4</td>\n",
       "      <td>17</td>\n",
       "    </tr>\n",
       "    <tr>\n",
       "      <th>586049</th>\n",
       "      <td>tt1783769</td>\n",
       "      <td>video</td>\n",
       "      <td>Pretty Little Lesbians</td>\n",
       "      <td>Pretty Little Lesbians</td>\n",
       "      <td>1</td>\n",
       "      <td>2010</td>\n",
       "      <td>0</td>\n",
       "      <td>397</td>\n",
       "      <td>Adult</td>\n",
       "      <td>7.6</td>\n",
       "      <td>15</td>\n",
       "    </tr>\n",
       "    <tr>\n",
       "      <th>387313</th>\n",
       "      <td>tt0842473</td>\n",
       "      <td>video</td>\n",
       "      <td>50 to 1 2</td>\n",
       "      <td>50 to 1 2</td>\n",
       "      <td>1</td>\n",
       "      <td>2005</td>\n",
       "      <td>0</td>\n",
       "      <td>392</td>\n",
       "      <td>Adult</td>\n",
       "      <td>8.7</td>\n",
       "      <td>6</td>\n",
       "    </tr>\n",
       "    <tr>\n",
       "      <th>...</th>\n",
       "      <td>...</td>\n",
       "      <td>...</td>\n",
       "      <td>...</td>\n",
       "      <td>...</td>\n",
       "      <td>...</td>\n",
       "      <td>...</td>\n",
       "      <td>...</td>\n",
       "      <td>...</td>\n",
       "      <td>...</td>\n",
       "      <td>...</td>\n",
       "      <td>...</td>\n",
       "    </tr>\n",
       "    <tr>\n",
       "      <th>137049</th>\n",
       "      <td>tt0222352</td>\n",
       "      <td>video</td>\n",
       "      <td>El secreto de la Veneno</td>\n",
       "      <td>El secreto de la Veneno</td>\n",
       "      <td>1</td>\n",
       "      <td>1997</td>\n",
       "      <td>0</td>\n",
       "      <td>0</td>\n",
       "      <td>Adult</td>\n",
       "      <td>4.8</td>\n",
       "      <td>9</td>\n",
       "    </tr>\n",
       "    <tr>\n",
       "      <th>487763</th>\n",
       "      <td>tt1240516</td>\n",
       "      <td>video</td>\n",
       "      <td>Totally Fucked 2</td>\n",
       "      <td>Totally Fucked 2</td>\n",
       "      <td>1</td>\n",
       "      <td>2008</td>\n",
       "      <td>0</td>\n",
       "      <td>0</td>\n",
       "      <td>Adult</td>\n",
       "      <td>7.6</td>\n",
       "      <td>7</td>\n",
       "    </tr>\n",
       "    <tr>\n",
       "      <th>487760</th>\n",
       "      <td>tt1240487</td>\n",
       "      <td>video</td>\n",
       "      <td>P.O.V. Centerfolds 7</td>\n",
       "      <td>P.O.V. Centerfolds 7</td>\n",
       "      <td>1</td>\n",
       "      <td>2008</td>\n",
       "      <td>0</td>\n",
       "      <td>0</td>\n",
       "      <td>Adult</td>\n",
       "      <td>6.6</td>\n",
       "      <td>7</td>\n",
       "    </tr>\n",
       "    <tr>\n",
       "      <th>487757</th>\n",
       "      <td>tt1240467</td>\n",
       "      <td>video</td>\n",
       "      <td>Jada Fire Is SquirtWoman 4</td>\n",
       "      <td>Jada Fire Is SquirtWoman 4</td>\n",
       "      <td>1</td>\n",
       "      <td>2008</td>\n",
       "      <td>0</td>\n",
       "      <td>0</td>\n",
       "      <td>Adult</td>\n",
       "      <td>6.8</td>\n",
       "      <td>11</td>\n",
       "    </tr>\n",
       "    <tr>\n",
       "      <th>993340</th>\n",
       "      <td>tt9894388</td>\n",
       "      <td>video</td>\n",
       "      <td>Stramme Jungs</td>\n",
       "      <td>Stramme Jungs</td>\n",
       "      <td>1</td>\n",
       "      <td>2008</td>\n",
       "      <td>0</td>\n",
       "      <td>0</td>\n",
       "      <td>Adult</td>\n",
       "      <td>1.8</td>\n",
       "      <td>6</td>\n",
       "    </tr>\n",
       "  </tbody>\n",
       "</table>\n",
       "<p>18216 rows × 11 columns</p>\n",
       "</div>"
      ],
      "text/plain": [
       "           tconst titleType                    primaryTitle  \\\n",
       "707116  tt3079868     video                Stairway to Anal   \n",
       "863119  tt5968434     video  Women Seeking Women Volume 131   \n",
       "408971  tt0924483     video          Private: Sex Positions   \n",
       "586049  tt1783769     video          Pretty Little Lesbians   \n",
       "387313  tt0842473     video                       50 to 1 2   \n",
       "...           ...       ...                             ...   \n",
       "137049  tt0222352     video         El secreto de la Veneno   \n",
       "487763  tt1240516     video                Totally Fucked 2   \n",
       "487760  tt1240487     video            P.O.V. Centerfolds 7   \n",
       "487757  tt1240467     video      Jada Fire Is SquirtWoman 4   \n",
       "993340  tt9894388     video                   Stramme Jungs   \n",
       "\n",
       "                         originalTitle  isAdult  startYear  endYear  \\\n",
       "707116                Stairway to Anal        1       2010        0   \n",
       "863119  Women Seeking Women Volume 131        1       2016        0   \n",
       "408971           Private Sex Positions        1       2006        0   \n",
       "586049          Pretty Little Lesbians        1       2010        0   \n",
       "387313                       50 to 1 2        1       2005        0   \n",
       "...                                ...      ...        ...      ...   \n",
       "137049         El secreto de la Veneno        1       1997        0   \n",
       "487763                Totally Fucked 2        1       2008        0   \n",
       "487760            P.O.V. Centerfolds 7        1       2008        0   \n",
       "487757      Jada Fire Is SquirtWoman 4        1       2008        0   \n",
       "993340                   Stramme Jungs        1       2008        0   \n",
       "\n",
       "        runtimeMinutes               genres  averageRating  numVotes  \n",
       "707116             960                Adult            9.2         5  \n",
       "863119             469  Adult,Drama,Romance            5.2         5  \n",
       "408971             445                Adult            6.4        17  \n",
       "586049             397                Adult            7.6        15  \n",
       "387313             392                Adult            8.7         6  \n",
       "...                ...                  ...            ...       ...  \n",
       "137049               0                Adult            4.8         9  \n",
       "487763               0                Adult            7.6         7  \n",
       "487760               0                Adult            6.6         7  \n",
       "487757               0                Adult            6.8        11  \n",
       "993340               0                Adult            1.8         6  \n",
       "\n",
       "[18216 rows x 11 columns]"
      ]
     },
     "execution_count": 173,
     "metadata": {},
     "output_type": "execute_result"
    }
   ],
   "source": [
    "mergedDataframe[mergedDataframe['isAdult'] == 1].sort_values(by='runtimeMinutes', ascending=False)"
   ]
  },
  {
   "cell_type": "markdown",
   "metadata": {},
   "source": [
    "Divisione tra movie e altri"
   ]
  },
  {
   "cell_type": "code",
   "execution_count": 144,
   "metadata": {},
   "outputs": [],
   "source": [
    "FilmDataframe = mergedDataframe[mergedDataframe['titleType'] == \"movie\"]"
   ]
  },
  {
   "cell_type": "code",
   "execution_count": 145,
   "metadata": {},
   "outputs": [
    {
     "data": {
      "text/plain": [
       "(241193, 11)"
      ]
     },
     "execution_count": 145,
     "metadata": {},
     "output_type": "execute_result"
    }
   ],
   "source": [
    "FilmDataframe.shape"
   ]
  },
  {
   "cell_type": "code",
   "execution_count": 146,
   "metadata": {},
   "outputs": [
    {
     "data": {
      "text/html": [
       "<div>\n",
       "<style scoped>\n",
       "    .dataframe tbody tr th:only-of-type {\n",
       "        vertical-align: middle;\n",
       "    }\n",
       "\n",
       "    .dataframe tbody tr th {\n",
       "        vertical-align: top;\n",
       "    }\n",
       "\n",
       "    .dataframe thead th {\n",
       "        text-align: right;\n",
       "    }\n",
       "</style>\n",
       "<table border=\"1\" class=\"dataframe\">\n",
       "  <thead>\n",
       "    <tr style=\"text-align: right;\">\n",
       "      <th></th>\n",
       "      <th>tconst</th>\n",
       "      <th>titleType</th>\n",
       "      <th>primaryTitle</th>\n",
       "      <th>originalTitle</th>\n",
       "      <th>isAdult</th>\n",
       "      <th>startYear</th>\n",
       "      <th>endYear</th>\n",
       "      <th>runtimeMinutes</th>\n",
       "      <th>genres</th>\n",
       "      <th>averageRating</th>\n",
       "      <th>numVotes</th>\n",
       "    </tr>\n",
       "  </thead>\n",
       "  <tbody>\n",
       "    <tr>\n",
       "      <th>8</th>\n",
       "      <td>tt0000009</td>\n",
       "      <td>movie</td>\n",
       "      <td>Miss Jerry</td>\n",
       "      <td>Miss Jerry</td>\n",
       "      <td>0</td>\n",
       "      <td>1894</td>\n",
       "      <td>0</td>\n",
       "      <td>45</td>\n",
       "      <td>Romance</td>\n",
       "      <td>5.4</td>\n",
       "      <td>81</td>\n",
       "    </tr>\n",
       "    <tr>\n",
       "      <th>144</th>\n",
       "      <td>tt0000147</td>\n",
       "      <td>movie</td>\n",
       "      <td>The Corbett-Fitzsimmons Fight</td>\n",
       "      <td>The Corbett-Fitzsimmons Fight</td>\n",
       "      <td>0</td>\n",
       "      <td>1897</td>\n",
       "      <td>0</td>\n",
       "      <td>20</td>\n",
       "      <td>Documentary,News,Sport</td>\n",
       "      <td>5.2</td>\n",
       "      <td>310</td>\n",
       "    </tr>\n",
       "    <tr>\n",
       "      <th>249</th>\n",
       "      <td>tt0000335</td>\n",
       "      <td>movie</td>\n",
       "      <td>Soldiers of the Cross</td>\n",
       "      <td>Soldiers of the Cross</td>\n",
       "      <td>0</td>\n",
       "      <td>1900</td>\n",
       "      <td>0</td>\n",
       "      <td>0</td>\n",
       "      <td>Biography,Drama</td>\n",
       "      <td>6.2</td>\n",
       "      <td>39</td>\n",
       "    </tr>\n",
       "    <tr>\n",
       "      <th>357</th>\n",
       "      <td>tt0000574</td>\n",
       "      <td>movie</td>\n",
       "      <td>The Story of the Kelly Gang</td>\n",
       "      <td>The Story of the Kelly Gang</td>\n",
       "      <td>0</td>\n",
       "      <td>1906</td>\n",
       "      <td>0</td>\n",
       "      <td>70</td>\n",
       "      <td>Biography,Crime,Drama</td>\n",
       "      <td>6.1</td>\n",
       "      <td>538</td>\n",
       "    </tr>\n",
       "    <tr>\n",
       "      <th>375</th>\n",
       "      <td>tt0000615</td>\n",
       "      <td>movie</td>\n",
       "      <td>Robbery Under Arms</td>\n",
       "      <td>Robbery Under Arms</td>\n",
       "      <td>0</td>\n",
       "      <td>1907</td>\n",
       "      <td>0</td>\n",
       "      <td>0</td>\n",
       "      <td>Drama</td>\n",
       "      <td>4.8</td>\n",
       "      <td>14</td>\n",
       "    </tr>\n",
       "  </tbody>\n",
       "</table>\n",
       "</div>"
      ],
      "text/plain": [
       "        tconst titleType                   primaryTitle  \\\n",
       "8    tt0000009     movie                     Miss Jerry   \n",
       "144  tt0000147     movie  The Corbett-Fitzsimmons Fight   \n",
       "249  tt0000335     movie          Soldiers of the Cross   \n",
       "357  tt0000574     movie    The Story of the Kelly Gang   \n",
       "375  tt0000615     movie             Robbery Under Arms   \n",
       "\n",
       "                     originalTitle  isAdult  startYear  endYear  \\\n",
       "8                       Miss Jerry        0       1894        0   \n",
       "144  The Corbett-Fitzsimmons Fight        0       1897        0   \n",
       "249          Soldiers of the Cross        0       1900        0   \n",
       "357    The Story of the Kelly Gang        0       1906        0   \n",
       "375             Robbery Under Arms        0       1907        0   \n",
       "\n",
       "     runtimeMinutes                  genres  averageRating  numVotes  \n",
       "8                45                 Romance            5.4        81  \n",
       "144              20  Documentary,News,Sport            5.2       310  \n",
       "249               0         Biography,Drama            6.2        39  \n",
       "357              70   Biography,Crime,Drama            6.1       538  \n",
       "375               0                   Drama            4.8        14  "
      ]
     },
     "execution_count": 146,
     "metadata": {},
     "output_type": "execute_result"
    }
   ],
   "source": [
    "FilmDataframe.head()"
   ]
  },
  {
   "cell_type": "code",
   "execution_count": 178,
   "metadata": {},
   "outputs": [],
   "source": [
    "film2 = FilmDataframe[(FilmDataframe['startYear'] == 2018) | (FilmDataframe['startYear'] == 2019)]"
   ]
  },
  {
   "cell_type": "code",
   "execution_count": 179,
   "metadata": {},
   "outputs": [],
   "source": [
    "film2 = film2[film2['runtimeMinutes'] != 0]"
   ]
  },
  {
   "cell_type": "code",
   "execution_count": 183,
   "metadata": {},
   "outputs": [],
   "source": [
    "film2 = film2[film2['numVotes'] > 15000]"
   ]
  },
  {
   "cell_type": "code",
   "execution_count": 184,
   "metadata": {},
   "outputs": [
    {
     "data": {
      "text/plain": [
       "(319, 11)"
      ]
     },
     "execution_count": 184,
     "metadata": {},
     "output_type": "execute_result"
    }
   ],
   "source": [
    "film2.shape"
   ]
  },
  {
   "cell_type": "code",
   "execution_count": 185,
   "metadata": {},
   "outputs": [
    {
     "data": {
      "text/html": [
       "<div>\n",
       "<style scoped>\n",
       "    .dataframe tbody tr th:only-of-type {\n",
       "        vertical-align: middle;\n",
       "    }\n",
       "\n",
       "    .dataframe tbody tr th {\n",
       "        vertical-align: top;\n",
       "    }\n",
       "\n",
       "    .dataframe thead th {\n",
       "        text-align: right;\n",
       "    }\n",
       "</style>\n",
       "<table border=\"1\" class=\"dataframe\">\n",
       "  <thead>\n",
       "    <tr style=\"text-align: right;\">\n",
       "      <th></th>\n",
       "      <th>tconst</th>\n",
       "      <th>titleType</th>\n",
       "      <th>primaryTitle</th>\n",
       "      <th>originalTitle</th>\n",
       "      <th>isAdult</th>\n",
       "      <th>startYear</th>\n",
       "      <th>endYear</th>\n",
       "      <th>runtimeMinutes</th>\n",
       "      <th>genres</th>\n",
       "      <th>averageRating</th>\n",
       "      <th>numVotes</th>\n",
       "    </tr>\n",
       "  </thead>\n",
       "  <tbody>\n",
       "    <tr>\n",
       "      <th>196607</th>\n",
       "      <td>tt0360556</td>\n",
       "      <td>movie</td>\n",
       "      <td>Fahrenheit 451</td>\n",
       "      <td>Fahrenheit 451</td>\n",
       "      <td>0</td>\n",
       "      <td>2018</td>\n",
       "      <td>0</td>\n",
       "      <td>100</td>\n",
       "      <td>Drama,Sci-Fi,Thriller</td>\n",
       "      <td>4.9</td>\n",
       "      <td>15328</td>\n",
       "    </tr>\n",
       "    <tr>\n",
       "      <th>229195</th>\n",
       "      <td>tt0437086</td>\n",
       "      <td>movie</td>\n",
       "      <td>Alita: Battle Angel</td>\n",
       "      <td>Alita: Battle Angel</td>\n",
       "      <td>0</td>\n",
       "      <td>2019</td>\n",
       "      <td>0</td>\n",
       "      <td>122</td>\n",
       "      <td>Action,Adventure,Sci-Fi</td>\n",
       "      <td>7.4</td>\n",
       "      <td>171875</td>\n",
       "    </tr>\n",
       "    <tr>\n",
       "      <th>233444</th>\n",
       "      <td>tt0448115</td>\n",
       "      <td>movie</td>\n",
       "      <td>Shazam!</td>\n",
       "      <td>Shazam!</td>\n",
       "      <td>0</td>\n",
       "      <td>2019</td>\n",
       "      <td>0</td>\n",
       "      <td>132</td>\n",
       "      <td>Action,Adventure,Comedy</td>\n",
       "      <td>7.1</td>\n",
       "      <td>191474</td>\n",
       "    </tr>\n",
       "    <tr>\n",
       "      <th>373056</th>\n",
       "      <td>tt0800325</td>\n",
       "      <td>movie</td>\n",
       "      <td>The Dirt</td>\n",
       "      <td>The Dirt</td>\n",
       "      <td>0</td>\n",
       "      <td>2019</td>\n",
       "      <td>0</td>\n",
       "      <td>107</td>\n",
       "      <td>Biography,Comedy,Drama</td>\n",
       "      <td>7.0</td>\n",
       "      <td>31721</td>\n",
       "    </tr>\n",
       "    <tr>\n",
       "      <th>385555</th>\n",
       "      <td>tt0837563</td>\n",
       "      <td>movie</td>\n",
       "      <td>Pet Sematary</td>\n",
       "      <td>Pet Sematary</td>\n",
       "      <td>0</td>\n",
       "      <td>2019</td>\n",
       "      <td>0</td>\n",
       "      <td>101</td>\n",
       "      <td>Horror,Mystery,Thriller</td>\n",
       "      <td>5.8</td>\n",
       "      <td>61661</td>\n",
       "    </tr>\n",
       "  </tbody>\n",
       "</table>\n",
       "</div>"
      ],
      "text/plain": [
       "           tconst titleType         primaryTitle        originalTitle  \\\n",
       "196607  tt0360556     movie       Fahrenheit 451       Fahrenheit 451   \n",
       "229195  tt0437086     movie  Alita: Battle Angel  Alita: Battle Angel   \n",
       "233444  tt0448115     movie              Shazam!              Shazam!   \n",
       "373056  tt0800325     movie             The Dirt             The Dirt   \n",
       "385555  tt0837563     movie         Pet Sematary         Pet Sematary   \n",
       "\n",
       "        isAdult  startYear  endYear  runtimeMinutes                   genres  \\\n",
       "196607        0       2018        0             100    Drama,Sci-Fi,Thriller   \n",
       "229195        0       2019        0             122  Action,Adventure,Sci-Fi   \n",
       "233444        0       2019        0             132  Action,Adventure,Comedy   \n",
       "373056        0       2019        0             107   Biography,Comedy,Drama   \n",
       "385555        0       2019        0             101  Horror,Mystery,Thriller   \n",
       "\n",
       "        averageRating  numVotes  \n",
       "196607            4.9     15328  \n",
       "229195            7.4    171875  \n",
       "233444            7.1    191474  \n",
       "373056            7.0     31721  \n",
       "385555            5.8     61661  "
      ]
     },
     "execution_count": 185,
     "metadata": {},
     "output_type": "execute_result"
    }
   ],
   "source": [
    "film2.head()"
   ]
  },
  {
   "cell_type": "code",
   "execution_count": 187,
   "metadata": {},
   "outputs": [
    {
     "data": {
      "text/html": [
       "<div>\n",
       "<style scoped>\n",
       "    .dataframe tbody tr th:only-of-type {\n",
       "        vertical-align: middle;\n",
       "    }\n",
       "\n",
       "    .dataframe tbody tr th {\n",
       "        vertical-align: top;\n",
       "    }\n",
       "\n",
       "    .dataframe thead th {\n",
       "        text-align: right;\n",
       "    }\n",
       "</style>\n",
       "<table border=\"1\" class=\"dataframe\">\n",
       "  <thead>\n",
       "    <tr style=\"text-align: right;\">\n",
       "      <th></th>\n",
       "      <th>tconst</th>\n",
       "      <th>titleType</th>\n",
       "      <th>primaryTitle</th>\n",
       "      <th>originalTitle</th>\n",
       "      <th>isAdult</th>\n",
       "      <th>startYear</th>\n",
       "      <th>endYear</th>\n",
       "      <th>runtimeMinutes</th>\n",
       "      <th>genres</th>\n",
       "      <th>averageRating</th>\n",
       "      <th>numVotes</th>\n",
       "    </tr>\n",
       "  </thead>\n",
       "  <tbody>\n",
       "    <tr>\n",
       "      <th>987664</th>\n",
       "      <td>tt9573980</td>\n",
       "      <td>movie</td>\n",
       "      <td>Leaving Neverland</td>\n",
       "      <td>Leaving Neverland</td>\n",
       "      <td>0</td>\n",
       "      <td>2019</td>\n",
       "      <td>0</td>\n",
       "      <td>240</td>\n",
       "      <td>Documentary</td>\n",
       "      <td>7.0</td>\n",
       "      <td>22465</td>\n",
       "    </tr>\n",
       "    <tr>\n",
       "      <th>769831</th>\n",
       "      <td>tt4154796</td>\n",
       "      <td>movie</td>\n",
       "      <td>Avengers: Endgame</td>\n",
       "      <td>Avengers: Endgame</td>\n",
       "      <td>0</td>\n",
       "      <td>2019</td>\n",
       "      <td>0</td>\n",
       "      <td>181</td>\n",
       "      <td>Action,Adventure,Drama</td>\n",
       "      <td>8.5</td>\n",
       "      <td>603975</td>\n",
       "    </tr>\n",
       "    <tr>\n",
       "      <th>973691</th>\n",
       "      <td>tt8983202</td>\n",
       "      <td>movie</td>\n",
       "      <td>Kabir Singh</td>\n",
       "      <td>Kabir Singh</td>\n",
       "      <td>0</td>\n",
       "      <td>2019</td>\n",
       "      <td>0</td>\n",
       "      <td>173</td>\n",
       "      <td>Drama,Romance</td>\n",
       "      <td>7.2</td>\n",
       "      <td>20773</td>\n",
       "    </tr>\n",
       "    <tr>\n",
       "      <th>925385</th>\n",
       "      <td>tt7392212</td>\n",
       "      <td>movie</td>\n",
       "      <td>Rangasthalam</td>\n",
       "      <td>Rangasthalam</td>\n",
       "      <td>0</td>\n",
       "      <td>2018</td>\n",
       "      <td>0</td>\n",
       "      <td>170</td>\n",
       "      <td>Action,Drama</td>\n",
       "      <td>8.4</td>\n",
       "      <td>16327</td>\n",
       "    </tr>\n",
       "    <tr>\n",
       "      <th>923900</th>\n",
       "      <td>tt7349950</td>\n",
       "      <td>movie</td>\n",
       "      <td>It Chapter Two</td>\n",
       "      <td>It Chapter Two</td>\n",
       "      <td>0</td>\n",
       "      <td>2019</td>\n",
       "      <td>0</td>\n",
       "      <td>169</td>\n",
       "      <td>Drama,Fantasy,Horror</td>\n",
       "      <td>6.8</td>\n",
       "      <td>113443</td>\n",
       "    </tr>\n",
       "  </tbody>\n",
       "</table>\n",
       "</div>"
      ],
      "text/plain": [
       "           tconst titleType       primaryTitle      originalTitle  isAdult  \\\n",
       "987664  tt9573980     movie  Leaving Neverland  Leaving Neverland        0   \n",
       "769831  tt4154796     movie  Avengers: Endgame  Avengers: Endgame        0   \n",
       "973691  tt8983202     movie        Kabir Singh        Kabir Singh        0   \n",
       "925385  tt7392212     movie       Rangasthalam       Rangasthalam        0   \n",
       "923900  tt7349950     movie     It Chapter Two     It Chapter Two        0   \n",
       "\n",
       "        startYear  endYear  runtimeMinutes                  genres  \\\n",
       "987664       2019        0             240             Documentary   \n",
       "769831       2019        0             181  Action,Adventure,Drama   \n",
       "973691       2019        0             173           Drama,Romance   \n",
       "925385       2018        0             170            Action,Drama   \n",
       "923900       2019        0             169    Drama,Fantasy,Horror   \n",
       "\n",
       "        averageRating  numVotes  \n",
       "987664            7.0     22465  \n",
       "769831            8.5    603975  \n",
       "973691            7.2     20773  \n",
       "925385            8.4     16327  \n",
       "923900            6.8    113443  "
      ]
     },
     "execution_count": 187,
     "metadata": {},
     "output_type": "execute_result"
    }
   ],
   "source": [
    "film2.sort_values(by='runtimeMinutes', ascending=False).head()"
   ]
  },
  {
   "cell_type": "code",
   "execution_count": 188,
   "metadata": {},
   "outputs": [
    {
     "data": {
      "text/html": [
       "<div>\n",
       "<style scoped>\n",
       "    .dataframe tbody tr th:only-of-type {\n",
       "        vertical-align: middle;\n",
       "    }\n",
       "\n",
       "    .dataframe tbody tr th {\n",
       "        vertical-align: top;\n",
       "    }\n",
       "\n",
       "    .dataframe thead th {\n",
       "        text-align: right;\n",
       "    }\n",
       "</style>\n",
       "<table border=\"1\" class=\"dataframe\">\n",
       "  <thead>\n",
       "    <tr style=\"text-align: right;\">\n",
       "      <th></th>\n",
       "      <th>tconst</th>\n",
       "      <th>titleType</th>\n",
       "      <th>primaryTitle</th>\n",
       "      <th>originalTitle</th>\n",
       "      <th>isAdult</th>\n",
       "      <th>startYear</th>\n",
       "      <th>endYear</th>\n",
       "      <th>runtimeMinutes</th>\n",
       "      <th>genres</th>\n",
       "      <th>averageRating</th>\n",
       "      <th>numVotes</th>\n",
       "    </tr>\n",
       "  </thead>\n",
       "  <tbody>\n",
       "    <tr>\n",
       "      <th>984586</th>\n",
       "      <td>tt9398640</td>\n",
       "      <td>movie</td>\n",
       "      <td>Between Two Ferns: The Movie</td>\n",
       "      <td>Between Two Ferns: The Movie</td>\n",
       "      <td>0</td>\n",
       "      <td>2019</td>\n",
       "      <td>0</td>\n",
       "      <td>82</td>\n",
       "      <td>Comedy</td>\n",
       "      <td>6.1</td>\n",
       "      <td>18811</td>\n",
       "    </tr>\n",
       "    <tr>\n",
       "      <th>927194</th>\n",
       "      <td>tt7451284</td>\n",
       "      <td>movie</td>\n",
       "      <td>Batman Ninja</td>\n",
       "      <td>Batman Ninja</td>\n",
       "      <td>0</td>\n",
       "      <td>2018</td>\n",
       "      <td>0</td>\n",
       "      <td>85</td>\n",
       "      <td>Action,Animation,Sci-Fi</td>\n",
       "      <td>5.6</td>\n",
       "      <td>15071</td>\n",
       "    </tr>\n",
       "    <tr>\n",
       "      <th>497124</th>\n",
       "      <td>tt1285009</td>\n",
       "      <td>movie</td>\n",
       "      <td>The Strangers: Prey at Night</td>\n",
       "      <td>The Strangers: Prey at Night</td>\n",
       "      <td>0</td>\n",
       "      <td>2018</td>\n",
       "      <td>0</td>\n",
       "      <td>85</td>\n",
       "      <td>Horror</td>\n",
       "      <td>5.2</td>\n",
       "      <td>23590</td>\n",
       "    </tr>\n",
       "    <tr>\n",
       "      <th>899024</th>\n",
       "      <td>tt6742252</td>\n",
       "      <td>movie</td>\n",
       "      <td>The Guilty</td>\n",
       "      <td>Den skyldige</td>\n",
       "      <td>0</td>\n",
       "      <td>2018</td>\n",
       "      <td>0</td>\n",
       "      <td>85</td>\n",
       "      <td>Crime,Drama,Thriller</td>\n",
       "      <td>7.5</td>\n",
       "      <td>32082</td>\n",
       "    </tr>\n",
       "    <tr>\n",
       "      <th>844323</th>\n",
       "      <td>tt5613484</td>\n",
       "      <td>movie</td>\n",
       "      <td>Mid90s</td>\n",
       "      <td>Mid90s</td>\n",
       "      <td>0</td>\n",
       "      <td>2018</td>\n",
       "      <td>0</td>\n",
       "      <td>85</td>\n",
       "      <td>Comedy,Drama</td>\n",
       "      <td>7.4</td>\n",
       "      <td>32054</td>\n",
       "    </tr>\n",
       "  </tbody>\n",
       "</table>\n",
       "</div>"
      ],
      "text/plain": [
       "           tconst titleType                  primaryTitle  \\\n",
       "984586  tt9398640     movie  Between Two Ferns: The Movie   \n",
       "927194  tt7451284     movie                  Batman Ninja   \n",
       "497124  tt1285009     movie  The Strangers: Prey at Night   \n",
       "899024  tt6742252     movie                    The Guilty   \n",
       "844323  tt5613484     movie                        Mid90s   \n",
       "\n",
       "                       originalTitle  isAdult  startYear  endYear  \\\n",
       "984586  Between Two Ferns: The Movie        0       2019        0   \n",
       "927194                  Batman Ninja        0       2018        0   \n",
       "497124  The Strangers: Prey at Night        0       2018        0   \n",
       "899024                  Den skyldige        0       2018        0   \n",
       "844323                        Mid90s        0       2018        0   \n",
       "\n",
       "        runtimeMinutes                   genres  averageRating  numVotes  \n",
       "984586              82                   Comedy            6.1     18811  \n",
       "927194              85  Action,Animation,Sci-Fi            5.6     15071  \n",
       "497124              85                   Horror            5.2     23590  \n",
       "899024              85     Crime,Drama,Thriller            7.5     32082  \n",
       "844323              85             Comedy,Drama            7.4     32054  "
      ]
     },
     "execution_count": 188,
     "metadata": {},
     "output_type": "execute_result"
    }
   ],
   "source": [
    "film2.sort_values(by='runtimeMinutes').head()"
   ]
  },
  {
   "cell_type": "markdown",
   "metadata": {},
   "source": [
    "## DataViz"
   ]
  },
  {
   "cell_type": "markdown",
   "metadata": {},
   "source": [
    "## 0 - Waffle division number of films and tv shows"
   ]
  },
  {
   "cell_type": "code",
   "execution_count": null,
   "metadata": {},
   "outputs": [],
   "source": [
    "# pip install pywaffle\n",
    "from pywaffle import Waffle"
   ]
  },
  {
   "cell_type": "code",
   "execution_count": null,
   "metadata": {},
   "outputs": [],
   "source": [
    "tot_df = 8807\n",
    "num_f = 6131\n",
    "num_s = 2676"
   ]
  },
  {
   "cell_type": "code",
   "execution_count": null,
   "metadata": {},
   "outputs": [],
   "source": [
    "perc_films = num_f / tot_df * 100\n",
    "print(perc_films)"
   ]
  },
  {
   "cell_type": "code",
   "execution_count": null,
   "metadata": {},
   "outputs": [],
   "source": [
    "perc_tvs = num_s / tot_df * 100\n",
    "print(perc_tvs)"
   ]
  },
  {
   "cell_type": "code",
   "execution_count": null,
   "metadata": {},
   "outputs": [],
   "source": [
    "data = {'Movies': 69.62, 'TV Shows': 30.38}\n",
    "fig = plt.figure(\n",
    "    FigureClass=Waffle,\n",
    "    rows=10,\n",
    "    values=data,\n",
    "    colors=(\"#006400\", \"#A9A9A9\"),\n",
    "    title={'label': 'Percentage of Films and TV Shows in the catalogue', 'loc': 'left'},\n",
    "    labels=[\"{0} ({1}%)\".format(k, v) for k, v in data.items()],\n",
    "    legend={'loc': 'lower left', 'bbox_to_anchor': (0, -0.4), 'ncol': len(data), 'framealpha': 0}\n",
    ")\n",
    "fig.gca().set_facecolor(\"#ffffff\")\n",
    "fig.set_facecolor(\"#ffffff\")\n",
    "plt.show()"
   ]
  },
  {
   "cell_type": "code",
   "execution_count": null,
   "metadata": {},
   "outputs": [],
   "source": [
    "data = {'Movies': 69.62, 'TV Shows': 30.38}\n",
    "fig = plt.figure(\n",
    "    FigureClass=Waffle,\n",
    "    rows=10,\n",
    "    values=data,\n",
    "    colors=(\"#006400\", \"#A9A9A9\"),\n",
    "    title={'label': 'Percentage of Films and TV Shows in the catalogue', 'loc': 'left'},\n",
    "    icons='film',\n",
    "    font_size=12,\n",
    "    icon_legend=True,\n",
    "    labels=[\"{0} ({1}%)\".format(k, v) for k, v in data.items()],\n",
    "    legend={'loc': 'lower left', 'bbox_to_anchor': (0, -0.4), 'ncol': len(data), 'framealpha': 0}\n",
    ")\n",
    "fig.gca().set_facecolor(\"#ffffff\")\n",
    "fig.set_facecolor(\"#ffffff\")\n",
    "plt.show()"
   ]
  },
  {
   "cell_type": "code",
   "execution_count": null,
   "metadata": {},
   "outputs": [],
   "source": [
    "data = {'Movies': 69.62, 'TV Shows': 30.38}\n",
    "fig = plt.figure(\n",
    "    FigureClass=Waffle,\n",
    "    rows=10,\n",
    "    values=data,\n",
    "    colors=(\"#006400\", \"#A9A9A9\"),\n",
    "    title={'label': 'Percentage of Films and TV Shows in the catalogue', 'loc': 'left'},\n",
    "    icons='video',\n",
    "    font_size=12,\n",
    "    icon_legend=True,\n",
    "    labels=[\"{0} ({1}%)\".format(k, v) for k, v in data.items()],\n",
    "    legend={'loc': 'lower left', 'bbox_to_anchor': (0, -0.4), 'ncol': len(data), 'framealpha': 0}\n",
    ")\n",
    "fig.gca().set_facecolor(\"#ffffff\")\n",
    "fig.set_facecolor(\"#ffffff\")\n",
    "plt.show()"
   ]
  },
  {
   "cell_type": "markdown",
   "metadata": {},
   "source": [
    "source code: https://stackoverflow.com/questions/41400136/how-to-do-waffle-charts-in-python-square-piechart"
   ]
  },
  {
   "cell_type": "code",
   "execution_count": null,
   "metadata": {},
   "outputs": [],
   "source": [
    "dict_FvsS = {'type':[\"Movies\", \"TV Shows\"],\n",
    "             'num':[\"6131\", \"2676\"]}\n",
    "\n",
    "df_FvsS = pd.DataFrame(dict_FvsS).set_index('type')\n",
    "\n",
    "df_FvsS['num'] = df_FvsS['num'].astype('int')"
   ]
  },
  {
   "cell_type": "code",
   "execution_count": null,
   "metadata": {},
   "outputs": [],
   "source": [
    "df_FvsS"
   ]
  },
  {
   "cell_type": "code",
   "execution_count": null,
   "metadata": {},
   "outputs": [],
   "source": [
    "fig = plt.figure(\n",
    "    FigureClass=Waffle,\n",
    "    rows=10,\n",
    "    values=df_FvsS['num'] / 100,\n",
    "    colors=(\"#006400\", \"#A9A9A9\"),\n",
    "    title={'label': 'Percentage of Films and TV Shows in the catalogue', 'loc': 'left'},\n",
    "    labels=[\"{0} ({1}%)\".format(k, v) for k, v in data.items()],\n",
    "    legend={'loc': 'lower left', 'bbox_to_anchor': (0, -0.4), 'ncol': len(data), 'framealpha': 0}\n",
    "\n",
    ")"
   ]
  },
  {
   "cell_type": "markdown",
   "metadata": {},
   "source": [
    "## 1 - correlation btw years and duration of films\n",
    "\n",
    "correlazione tra anni e durata dei film\n",
    "\n",
    "domanda di ricerca: come per la musica, è vero che si è ridotta attenzione utenti e dunque si producono film meno lunghi rispetto a prima?\n",
    "\n",
    "(forse dataset più adatto un archivio di film rispetto a netflix che ha molti film recenti;\n",
    "\n",
    "inoltre all'inizio non si potevano fare film troppo lunghi per costi e tecnologie, quindi magari indagare trend più recente o spazio temporale ristretto)"
   ]
  },
  {
   "cell_type": "code",
   "execution_count": null,
   "metadata": {},
   "outputs": [],
   "source": [
    "film_years = netflix_f.groupby('release_year')['release_year'].count()"
   ]
  },
  {
   "cell_type": "code",
   "execution_count": null,
   "metadata": {},
   "outputs": [],
   "source": [
    "film_years.tail(20)"
   ]
  },
  {
   "cell_type": "code",
   "execution_count": null,
   "metadata": {},
   "outputs": [],
   "source": [
    "import plotly.graph_objects as px\n",
    "import plotly.express as go\n",
    "import numpy as np\n",
    "\n",
    "x = netflix_f['release_year']\n",
    "y = netflix_f['duration_min']\n",
    "\n",
    "plot = px.Figure(data=[px.Scatter(\n",
    "    x=x,\n",
    "    y=y,\n",
    "    mode='markers',)\n",
    "])\n",
    "\n",
    "plot.update_layout(\n",
    "    xaxis=dict(\n",
    "        rangeselector=dict(\n",
    "            buttons=list([\n",
    "                dict(count=1,\n",
    "                step=\"year\",\n",
    "                stepmode=\"backward\"),\n",
    "            ])\n",
    "        ),\n",
    "        rangeslider=dict(\n",
    "            visible=True\n",
    "        ),\n",
    "    )\n",
    ")\n",
    "\n",
    "plot.show()"
   ]
  },
  {
   "cell_type": "code",
   "execution_count": null,
   "metadata": {},
   "outputs": [],
   "source": [
    "netflix_f[netflix_f['duration_min'] < 15].count()"
   ]
  },
  {
   "cell_type": "code",
   "execution_count": null,
   "metadata": {},
   "outputs": [],
   "source": [
    "netflix_f[netflix_f['duration_min'] < 15][['title', 'release_year', 'duration_min']]"
   ]
  },
  {
   "cell_type": "markdown",
   "metadata": {},
   "source": [
    "controllato alcuni a caso su internet ed effettivamente hanno questa durata"
   ]
  },
  {
   "cell_type": "markdown",
   "metadata": {},
   "source": [
    "#### Line chart anni e durata film ultimi 15 anni"
   ]
  },
  {
   "cell_type": "code",
   "execution_count": null,
   "metadata": {},
   "outputs": [],
   "source": [
    "netflix_last15 = netflix_f[netflix_f['release_year'] > 2006][['title', 'release_year', 'duration_min']]"
   ]
  },
  {
   "cell_type": "code",
   "execution_count": null,
   "metadata": {},
   "outputs": [],
   "source": [
    "grouped_15 = netflix_last15.groupby('release_year')"
   ]
  },
  {
   "cell_type": "code",
   "execution_count": null,
   "metadata": {},
   "outputs": [],
   "source": [
    "mean_15 = grouped_15.mean()"
   ]
  },
  {
   "cell_type": "code",
   "execution_count": null,
   "metadata": {},
   "outputs": [],
   "source": [
    "mean_15 = mean_15.reset_index()"
   ]
  },
  {
   "cell_type": "code",
   "execution_count": null,
   "metadata": {},
   "outputs": [],
   "source": [
    "mean_15.head()"
   ]
  },
  {
   "cell_type": "code",
   "execution_count": null,
   "metadata": {},
   "outputs": [],
   "source": [
    "mean_15.duration_min = mean_15.duration_min.round(2)\n",
    "mean_15.head()"
   ]
  },
  {
   "cell_type": "code",
   "execution_count": null,
   "metadata": {},
   "outputs": [],
   "source": [
    "sns.lineplot(data=mean_15, x='release_year', y='duration_min')"
   ]
  },
  {
   "cell_type": "code",
   "execution_count": null,
   "metadata": {},
   "outputs": [],
   "source": [
    "sns.pointplot(data=mean_15, x='release_year', y='duration_min')"
   ]
  },
  {
   "cell_type": "markdown",
   "metadata": {},
   "source": [
    "!!! non va bene solo la media"
   ]
  },
  {
   "cell_type": "markdown",
   "metadata": {},
   "source": [
    "## 2 - bar chart difference btw number of movies or tv shows during the years\n",
    "\n",
    "differenza tra numero di film e numero di serie tv legato all'anno di uscita"
   ]
  },
  {
   "cell_type": "code",
   "execution_count": null,
   "metadata": {},
   "outputs": [],
   "source": [
    "#creazione nuovo dataframe\n",
    "dataframe = pd.DataFrame({\"release_year\":[], \"movies\": [], \"tv_series\":[]})\n",
    "#ciclo for per ogni classe d'età\n",
    "for item in netflix[\"release_year\"].unique():\n",
    "  #query per identificare i record con punteggio peggiorato per la classe d'età in esame\n",
    "  queryStringMovies = \"release_year == \"+str(item)+\" and type == 'Movie'\"\n",
    "  #query per identificare i record con punteggio migliorato per la classe d'età in esame\n",
    "  queryStringTV = \"release_year == \"+str(item)+\" and type == 'TV Show'\"\n",
    "\n",
    "  #query\n",
    "  resMovies = netflix.query(queryStringMovies)\n",
    "  resTV = netflix.query(queryStringTV)\n",
    "  #inserimento nel dataframe del numero di migliorati o peggiorati per la classe d'età in esame\n",
    "  dataframe.loc[len(dataframe.index)] = [str(item), len(resMovies), len(resTV)]\n",
    "#ordinamento delle classi d'età\n",
    "dataframe = dataframe.sort_values(\"release_year\")\n",
    "\n",
    "dataframe.head()\n"
   ]
  },
  {
   "cell_type": "code",
   "execution_count": null,
   "metadata": {},
   "outputs": [],
   "source": [
    "dataframe['movies'] = dataframe['movies'].astype('float')\n",
    "dataframe['tv_series'] = dataframe['tv_series'].astype('float')\n",
    "\n",
    "dataframe = pd.eval(\"delta = dataframe.movies - dataframe.tv_series\", target=dataframe)"
   ]
  },
  {
   "cell_type": "code",
   "execution_count": null,
   "metadata": {},
   "outputs": [],
   "source": [
    "dataframe.head(1)"
   ]
  },
  {
   "cell_type": "code",
   "execution_count": null,
   "metadata": {},
   "outputs": [],
   "source": [
    "import plotly.express as px\n",
    "fig = px.line(dataframe, x=\"release_year\", y=[\"movies\", \"tv_series\"])\n",
    "fig.show()"
   ]
  },
  {
   "cell_type": "code",
   "execution_count": null,
   "metadata": {},
   "outputs": [],
   "source": [
    "import plotly.express as px\n",
    "fig = px.line(dataframe, x=\"release_year\", y=[\"movies\", \"tv_series\"])\n",
    "fig.update_xaxes(type=\"log\")\n",
    "fig.show()"
   ]
  },
  {
   "cell_type": "code",
   "execution_count": null,
   "metadata": {},
   "outputs": [],
   "source": [
    "import plotly.express as px\n",
    "fig = px.line(dataframe, x=\"release_year\", y=[\"movies\", \"tv_series\"])\n",
    "fig.update_xaxes(type=\"date\")\n",
    "fig.show()"
   ]
  },
  {
   "cell_type": "code",
   "execution_count": null,
   "metadata": {},
   "outputs": [],
   "source": [
    "dataframe.dtypes"
   ]
  },
  {
   "cell_type": "code",
   "execution_count": null,
   "metadata": {},
   "outputs": [],
   "source": [
    "dataframe['release_year'] = dataframe['release_year'].astype('int')"
   ]
  },
  {
   "cell_type": "code",
   "execution_count": null,
   "metadata": {},
   "outputs": [],
   "source": [
    "dataframe.dtypes"
   ]
  },
  {
   "cell_type": "code",
   "execution_count": null,
   "metadata": {},
   "outputs": [],
   "source": [
    "# aggiungo decade al df\n",
    "\n",
    "dataframe.loc[dataframe['release_year'] <= 1930, 'decade'] = 1930\n",
    "dataframe.loc[dataframe['release_year'].between(1930,1940), 'decade'] = 1940\n",
    "dataframe.loc[dataframe['release_year'].between(1940,1950), 'decade'] = 1950\n",
    "dataframe.loc[dataframe['release_year'].between(1950,1960), 'decade'] = 1960\n",
    "dataframe.loc[dataframe['release_year'].between(1960,1970), 'decade'] = 1970\n",
    "dataframe.loc[dataframe['release_year'].between(1970,1980), 'decade'] = 1980\n",
    "dataframe.loc[dataframe['release_year'].between(1980,1990), 'decade'] = 1990\n",
    "dataframe.loc[dataframe['release_year'].between(1990,2000), 'decade'] = 2000\n",
    "dataframe.loc[dataframe['release_year'].between(2000,2010), 'decade'] = 2010\n",
    "dataframe.loc[dataframe['release_year'].between(2010,2020), 'decade'] = 2020\n",
    "dataframe.loc[dataframe['release_year'].between(2020,2030), 'decade'] = 2030"
   ]
  },
  {
   "cell_type": "code",
   "execution_count": null,
   "metadata": {},
   "outputs": [],
   "source": [
    "dataframe['decade'] = pd.Categorical(dataframe['decade'])"
   ]
  },
  {
   "cell_type": "code",
   "execution_count": null,
   "metadata": {},
   "outputs": [],
   "source": [
    "dataframe_10 = dataframe.loc[dataframe['release_year'] >= 2010]"
   ]
  },
  {
   "cell_type": "code",
   "execution_count": null,
   "metadata": {},
   "outputs": [],
   "source": [
    "import seaborn as sns\n",
    "sns.set_theme(style=\"whitegrid\")\n",
    "sns.set_style(style='white')"
   ]
  },
  {
   "cell_type": "code",
   "execution_count": null,
   "metadata": {},
   "outputs": [],
   "source": [
    "clrs = ['grey' if (x > min(dataframe['delta'])) else 'red' for x in dataframe['delta']]\n",
    "ax = sns.barplot(x='release_year', y='delta', palette=clrs, data=dataframe)\n",
    "sns.despine()\n",
    "\n",
    "ax.set(xticklabels=[])  \n",
    "ax.set(title='Delta btw Films and TV shows')\n",
    "ax.set(xlabel=None)\n",
    "ax.tick_params(bottom=False)  # remove the ticks"
   ]
  },
  {
   "cell_type": "code",
   "execution_count": null,
   "metadata": {},
   "outputs": [],
   "source": [
    "# dataframe_10['dPos'] = dataframe_10['delta'] >= 0\n",
    "clrs = ['grey' if (x > min(dataframe_10['delta'])) else 'red' for x in dataframe_10['delta']]\n",
    "ax = sns.barplot(x='release_year', y='delta', palette=clrs, data=dataframe_10)\n",
    "sns.despine(trim=True)\n",
    "\n",
    "ax.set(title='Delta btw Films and TV shows')"
   ]
  },
  {
   "cell_type": "markdown",
   "metadata": {},
   "source": [
    "## 3 - correlation btw years and target age"
   ]
  },
  {
   "cell_type": "code",
   "execution_count": null,
   "metadata": {},
   "outputs": [],
   "source": [
    "netflix_f[netflix_f['release_year'].isna()]"
   ]
  },
  {
   "cell_type": "code",
   "execution_count": null,
   "metadata": {},
   "outputs": [],
   "source": [
    "netflix_f[netflix_f['target_ages'].isna()]"
   ]
  },
  {
   "cell_type": "code",
   "execution_count": null,
   "metadata": {},
   "outputs": [],
   "source": [
    "# drop rows with na\n",
    "\n",
    "netflix_f2 = netflix_f\n",
    "netflix_f2[\"target_ages\"].unique()"
   ]
  },
  {
   "cell_type": "code",
   "execution_count": null,
   "metadata": {},
   "outputs": [],
   "source": [
    "netflix_f2 = netflix_f2[netflix_f2['target_ages'].notna()]"
   ]
  },
  {
   "cell_type": "code",
   "execution_count": null,
   "metadata": {},
   "outputs": [],
   "source": [
    "netflix_f2[netflix_f2['target_ages'].isna()]"
   ]
  },
  {
   "cell_type": "code",
   "execution_count": null,
   "metadata": {},
   "outputs": [],
   "source": [
    "import plotly.express as px\n",
    "\n",
    "fig = px.scatter(netflix_f2, x='release_year', color='target_ages', symbol='target_ages')\n",
    "fig.show()"
   ]
  },
  {
   "cell_type": "markdown",
   "metadata": {},
   "source": [
    "## Line Chart - Quando Netflix ha aggiunto il maggior numero di prodotti nel catalogo? \n",
    "\n",
    "Raggruppo per anno, poi per mese e poi per giorno"
   ]
  },
  {
   "cell_type": "code",
   "execution_count": null,
   "metadata": {},
   "outputs": [],
   "source": [
    "netflix.groupby(netflix['date_added'].dt.year).count()"
   ]
  },
  {
   "cell_type": "markdown",
   "metadata": {},
   "source": [
    "# Test nuova libreria interattiva"
   ]
  },
  {
   "cell_type": "code",
   "execution_count": null,
   "metadata": {},
   "outputs": [],
   "source": [
    "from bokeh.io import push_notebook, show, output_notebook\n",
    "from bokeh.layouts import row\n",
    "from bokeh.plotting import figure\n",
    "output_notebook()"
   ]
  },
  {
   "cell_type": "code",
   "execution_count": null,
   "metadata": {},
   "outputs": [],
   "source": [
    "def get_data():\n",
    "  #creazione nuovo dataframe\n",
    "  dataframe = pd.DataFrame({\"release_year\":[], \"quattordici\": [], \"sei\":[], \"diciotto\":[], \"tutti\":[]})\n",
    "  #ciclo for per ogni classe d'età\n",
    "  for item in netflix[\"release_year\"].unique():\n",
    "    #query per identificare i record con punteggio peggiorato per la classe d'età in esame\n",
    "    quattordici = \"release_year == \"+str(item)+\" and target_ages == '14+'\"\n",
    "    #query per identificare i record con punteggio migliorato per la classe d'età in esame\n",
    "    sei = \"release_year == \"+str(item)+\" and target_ages == '6+'\"\n",
    "    diciotto = \"release_year == \"+str(item)+\" and target_ages == '18+'\"\n",
    "    tutti = \"release_year == \"+str(item)+\" and target_ages == 'T'\"\n",
    "    #query\n",
    "    resMovies = netflix.query(queryStringMovies)\n",
    "    resTV = netflix.query(queryStringTV)\n",
    "    #inserimento nel dataframe del numero di migliorati o peggiorati per la classe d'età in esame\n",
    "    dataframe.loc[len(dataframe.index)] = [str(item), len(netflix.query(quattordici)), len(netflix.query(sei)), len(netflix.query(diciotto)), len(netflix.query(tutti))]\n",
    "  #ordinamento delle classi d'età\n",
    "  dataframe = dataframe.sort_values(\"release_year\")\n",
    "  return dataframe"
   ]
  },
  {
   "cell_type": "code",
   "execution_count": null,
   "metadata": {},
   "outputs": [],
   "source": [
    "from bokeh.plotting import figure, show, save, output_file\n",
    "from bokeh.layouts import layout\n",
    "from bokeh.models import Div, RangeSlider, Spinner,Span, Label, LabelSet\n",
    "from bokeh.models.callbacks import CustomJS\n",
    "\n",
    "dataframe.head()\n",
    "output_file(filename=\"custom_filename.html\")\n",
    "\n",
    "p = figure(title=\"Il numero di serie per anno ad un certo punto ha superato il numero di film\", x_axis_label=\"Anno\", y_axis_label=\"Numero\")\n",
    "p.line(dataframe[\"release_year\"], dataframe[\"movies\"], legend_label=\"Numero di film per anno\", color=\"#1E88E5\", line_width=2)\n",
    "p.line(dataframe[\"release_year\"], dataframe[\"tv_series\"], legend_label=\"Numero di serie per anno\", color =\"#FFC107\", line_width=2)\n",
    "p.line(dataframe[\"release_year\"], dataframe[\"delta\"], legend_label=\"Differenza fra numero di film e serie per anno\", color = \"#D81B60\", line_width=2)\n",
    "\n",
    "p.legend.location = \"top_left\"\n",
    "p.legend.click_policy=\"hide\"\n",
    "\n",
    "delta_inverted = Span(location=2018,\n",
    "                              dimension='height', line_color='#009E73',\n",
    "                              line_dash='dashed', line_width=3)\n",
    "p.add_layout(delta_inverted)\n",
    "range_slider = RangeSlider(\n",
    "    title=\"Seleziona range date\", # a title to display above the slider\n",
    "    start=dataframe.iloc[0][\"release_year\"],  # set the minimum value for the slider\n",
    "    end=dataframe.iloc[dataframe.shape[0] -1][\"release_year\"],  # set the maximum value for the slider\n",
    "    step=1,  # increments for the slider\n",
    "    value=(dataframe.iloc[0][\"release_year\"], dataframe.iloc[dataframe.shape[0] -1][\"release_year\"]),  # initial values for slider\n",
    "    margin=(40,40,0,0)\n",
    "    )\n",
    "div = Div(\n",
    "    text=\"\"\"\n",
    "          <p>Seleziona l'intervallo di date utilizzando lo slider</p>\n",
    "          \"\"\",\n",
    "    width=200,\n",
    "    height=30,\n",
    "    margin=(0,0,0,0)\n",
    ")\n",
    "\n",
    "citation = Label(x=2018, y=800, \n",
    "                 text='Drop numero Film',\n",
    "                 border_line_color='black',\n",
    "                 background_fill_color='white')\n",
    "p.add_layout(citation)\n",
    "callback = CustomJS(args=dict(source=dataframe.to_json(), ref_source=dataframe.to_json()), code=\"\"\"\n",
    "    \n",
    "    // print out array of date from, date to\n",
    "    console.log(cb_obj.value); \n",
    "    \n",
    "    // dates returned from slider are not at round intervals and include time;\n",
    "    //const date_from = Date.parse(new Date(cb_obj.value[0]).toDateString());\n",
    "    //const date_to = Date.parse(new Date(cb_obj.value[1]).toDateString());\n",
    "    \n",
    "    //const data = source.data;\n",
    "    //const ref = ref_source.data;\n",
    "    \n",
    "    //const from_pos = ref[\"x\"].indexOf(date_from);\n",
    "    // add + 1 if you want inclusive end date\n",
    "    //const to_pos = ref[\"x\"].indexOf(date_to);\n",
    "        \n",
    "    // re-create the source data from \"reference\"\n",
    "    //data[\"y\"] = ref[\"y\"].slice(from_pos, to_pos);\n",
    "    //data[\"x\"] = ref[\"x\"].slice(from_pos, to_pos);\n",
    "    \n",
    "    //source.change.emit();\n",
    "    \"\"\")\n",
    "# range_slider.js_on_change(\"value\", callback)\n",
    "range_slider.js_link(\"value\", p.x_range, \"start\", attr_selector=0)\n",
    "range_slider.js_link(\"value\", p.x_range, \"end\", attr_selector=1)\n",
    "layout = layout([\n",
    "    [div],[range_slider, p]\n",
    "    \n",
    "])\n",
    "# save(layout)\n",
    "show(layout)\n",
    "# netflix_f2.query(\"type == 'Movie'\")[\"type\"]"
   ]
  },
  {
   "cell_type": "code",
   "execution_count": null,
   "metadata": {},
   "outputs": [],
   "source": [
    "from bokeh.plotting import figure, show, save, output_file\n",
    "from bokeh.layouts import layout\n",
    "from bokeh.models import Div, RangeSlider, Spinner,Span, Label, LabelSet\n",
    "from bokeh.models.callbacks import CustomJS\n",
    "\n",
    "dataframe.head()\n",
    "output_file(filename=\"custom_filename.html\")\n",
    "data = get_data()\n",
    "p = figure(title=\"Il numero di serie per anno ad un certo punto ha superato il numero di film\", x_axis_label=\"Anno\", y_axis_label=\"Numero\")\n",
    "p.line(data[\"release_year\"], data[\"quattordici\"], legend_label=\"14+\", color=\"#1E88E5\", line_width=2)\n",
    "p.line(data[\"release_year\"], data[\"sei\"], legend_label=\"6+\", color =\"#FFC107\", line_width=2)\n",
    "p.line(data[\"release_year\"], data[\"diciotto\"], legend_label=\"18+\", color = \"#D81B60\", line_width=2)\n",
    "p.line(data[\"release_year\"], data[\"tutti\"], legend_label=\"T\", color = \"#181B60\", line_width=2)\n",
    "p.legend.location = \"top_left\"\n",
    "p.legend.click_policy=\"hide\"\n",
    "\n",
    "delta_inverted = Span(location=2018,\n",
    "                              dimension='height', line_color='#009E73',\n",
    "                              line_dash='dashed', line_width=3)\n",
    "p.add_layout(delta_inverted)\n",
    "range_slider = RangeSlider(\n",
    "    title=\"Seleziona range date\", # a title to display above the slider\n",
    "    start=dataframe.iloc[0][\"release_year\"],  # set the minimum value for the slider\n",
    "    end=dataframe.iloc[dataframe.shape[0] -1][\"release_year\"],  # set the maximum value for the slider\n",
    "    step=1,  # increments for the slider\n",
    "    value=(dataframe.iloc[0][\"release_year\"], dataframe.iloc[dataframe.shape[0] -1][\"release_year\"]),  # initial values for slider\n",
    "    margin=(40,40,0,0)\n",
    "    )\n",
    "div = Div(\n",
    "    text=\"\"\"\n",
    "          <p>Seleziona l'intervallo di date utilizzando lo slider</p>\n",
    "          \"\"\",\n",
    "    width=200,\n",
    "    height=30,\n",
    "    margin=(0,0,0,0)\n",
    ")\n",
    "\n",
    "citation = Label(x=2018, y=800, \n",
    "                 text='Drop numero Film',\n",
    "                 border_line_color='black',\n",
    "                 background_fill_color='white')\n",
    "p.add_layout(citation)\n",
    "callback = CustomJS(args=dict(source=dataframe.to_json(), ref_source=dataframe.to_json()), code=\"\"\"\n",
    "    \n",
    "    // print out array of date from, date to\n",
    "    console.log(cb_obj.value); \n",
    "    \n",
    "    // dates returned from slider are not at round intervals and include time;\n",
    "    //const date_from = Date.parse(new Date(cb_obj.value[0]).toDateString());\n",
    "    //const date_to = Date.parse(new Date(cb_obj.value[1]).toDateString());\n",
    "    \n",
    "    //const data = source.data;\n",
    "    //const ref = ref_source.data;\n",
    "    \n",
    "    //const from_pos = ref[\"x\"].indexOf(date_from);\n",
    "    // add + 1 if you want inclusive end date\n",
    "    //const to_pos = ref[\"x\"].indexOf(date_to);\n",
    "        \n",
    "    // re-create the source data from \"reference\"\n",
    "    //data[\"y\"] = ref[\"y\"].slice(from_pos, to_pos);\n",
    "    //data[\"x\"] = ref[\"x\"].slice(from_pos, to_pos);\n",
    "    \n",
    "    //source.change.emit();\n",
    "    \"\"\")\n",
    "# range_slider.js_on_change(\"value\", callback)\n",
    "range_slider.js_link(\"value\", p.x_range, \"start\", attr_selector=0)\n",
    "range_slider.js_link(\"value\", p.x_range, \"end\", attr_selector=1)\n",
    "layout = layout([\n",
    "    [div],[range_slider, p]\n",
    "    \n",
    "])\n",
    "# save(layout)\n",
    "show(layout)\n",
    "# netflix_f2.query(\"type == 'Movie'\")[\"type\"]"
   ]
  },
  {
   "cell_type": "code",
   "execution_count": null,
   "metadata": {},
   "outputs": [],
   "source": [
    "dataframe.tail()"
   ]
  },
  {
   "cell_type": "markdown",
   "metadata": {},
   "source": [
    "# IMDB"
   ]
  },
  {
   "cell_type": "code",
   "execution_count": 197,
   "metadata": {},
   "outputs": [
    {
     "data": {
      "text/plain": [
       "6.57"
      ]
     },
     "execution_count": 197,
     "metadata": {},
     "output_type": "execute_result"
    }
   ],
   "source": [
    "avg_rating = film2['averageRating'].mean()\n",
    "avg_rating = avg_rating.round(2)\n",
    "avg_rating"
   ]
  },
  {
   "cell_type": "code",
   "execution_count": 203,
   "metadata": {},
   "outputs": [
    {
     "data": {
      "text/plain": [
       "114.6"
      ]
     },
     "execution_count": 203,
     "metadata": {},
     "output_type": "execute_result"
    }
   ],
   "source": [
    "avg_minutes = film2['runtimeMinutes'].mean()\n",
    "avg_minutes = avg_minutes.round(2)\n",
    "avg_minutes"
   ]
  },
  {
   "cell_type": "code",
   "execution_count": 189,
   "metadata": {},
   "outputs": [
    {
     "data": {
      "text/html": [
       "\n",
       "    <div class=\"bk-root\">\n",
       "        <a href=\"https://bokeh.org\" target=\"_blank\" class=\"bk-logo bk-logo-small bk-logo-notebook\"></a>\n",
       "        <span id=\"1002\">Loading BokehJS ...</span>\n",
       "    </div>"
      ]
     },
     "metadata": {},
     "output_type": "display_data"
    },
    {
     "data": {
      "application/javascript": "\n(function(root) {\n  function now() {\n    return new Date();\n  }\n\n  const force = true;\n\n  if (typeof root._bokeh_onload_callbacks === \"undefined\" || force === true) {\n    root._bokeh_onload_callbacks = [];\n    root._bokeh_is_loading = undefined;\n  }\n\n  const JS_MIME_TYPE = 'application/javascript';\n  const HTML_MIME_TYPE = 'text/html';\n  const EXEC_MIME_TYPE = 'application/vnd.bokehjs_exec.v0+json';\n  const CLASS_NAME = 'output_bokeh rendered_html';\n\n  /**\n   * Render data to the DOM node\n   */\n  function render(props, node) {\n    const script = document.createElement(\"script\");\n    node.appendChild(script);\n  }\n\n  /**\n   * Handle when an output is cleared or removed\n   */\n  function handleClearOutput(event, handle) {\n    const cell = handle.cell;\n\n    const id = cell.output_area._bokeh_element_id;\n    const server_id = cell.output_area._bokeh_server_id;\n    // Clean up Bokeh references\n    if (id != null && id in Bokeh.index) {\n      Bokeh.index[id].model.document.clear();\n      delete Bokeh.index[id];\n    }\n\n    if (server_id !== undefined) {\n      // Clean up Bokeh references\n      const cmd_clean = \"from bokeh.io.state import curstate; print(curstate().uuid_to_server['\" + server_id + \"'].get_sessions()[0].document.roots[0]._id)\";\n      cell.notebook.kernel.execute(cmd_clean, {\n        iopub: {\n          output: function(msg) {\n            const id = msg.content.text.trim();\n            if (id in Bokeh.index) {\n              Bokeh.index[id].model.document.clear();\n              delete Bokeh.index[id];\n            }\n          }\n        }\n      });\n      // Destroy server and session\n      const cmd_destroy = \"import bokeh.io.notebook as ion; ion.destroy_server('\" + server_id + \"')\";\n      cell.notebook.kernel.execute(cmd_destroy);\n    }\n  }\n\n  /**\n   * Handle when a new output is added\n   */\n  function handleAddOutput(event, handle) {\n    const output_area = handle.output_area;\n    const output = handle.output;\n\n    // limit handleAddOutput to display_data with EXEC_MIME_TYPE content only\n    if ((output.output_type != \"display_data\") || (!Object.prototype.hasOwnProperty.call(output.data, EXEC_MIME_TYPE))) {\n      return\n    }\n\n    const toinsert = output_area.element.find(\".\" + CLASS_NAME.split(' ')[0]);\n\n    if (output.metadata[EXEC_MIME_TYPE][\"id\"] !== undefined) {\n      toinsert[toinsert.length - 1].firstChild.textContent = output.data[JS_MIME_TYPE];\n      // store reference to embed id on output_area\n      output_area._bokeh_element_id = output.metadata[EXEC_MIME_TYPE][\"id\"];\n    }\n    if (output.metadata[EXEC_MIME_TYPE][\"server_id\"] !== undefined) {\n      const bk_div = document.createElement(\"div\");\n      bk_div.innerHTML = output.data[HTML_MIME_TYPE];\n      const script_attrs = bk_div.children[0].attributes;\n      for (let i = 0; i < script_attrs.length; i++) {\n        toinsert[toinsert.length - 1].firstChild.setAttribute(script_attrs[i].name, script_attrs[i].value);\n        toinsert[toinsert.length - 1].firstChild.textContent = bk_div.children[0].textContent\n      }\n      // store reference to server id on output_area\n      output_area._bokeh_server_id = output.metadata[EXEC_MIME_TYPE][\"server_id\"];\n    }\n  }\n\n  function register_renderer(events, OutputArea) {\n\n    function append_mime(data, metadata, element) {\n      // create a DOM node to render to\n      const toinsert = this.create_output_subarea(\n        metadata,\n        CLASS_NAME,\n        EXEC_MIME_TYPE\n      );\n      this.keyboard_manager.register_events(toinsert);\n      // Render to node\n      const props = {data: data, metadata: metadata[EXEC_MIME_TYPE]};\n      render(props, toinsert[toinsert.length - 1]);\n      element.append(toinsert);\n      return toinsert\n    }\n\n    /* Handle when an output is cleared or removed */\n    events.on('clear_output.CodeCell', handleClearOutput);\n    events.on('delete.Cell', handleClearOutput);\n\n    /* Handle when a new output is added */\n    events.on('output_added.OutputArea', handleAddOutput);\n\n    /**\n     * Register the mime type and append_mime function with output_area\n     */\n    OutputArea.prototype.register_mime_type(EXEC_MIME_TYPE, append_mime, {\n      /* Is output safe? */\n      safe: true,\n      /* Index of renderer in `output_area.display_order` */\n      index: 0\n    });\n  }\n\n  // register the mime type if in Jupyter Notebook environment and previously unregistered\n  if (root.Jupyter !== undefined) {\n    const events = require('base/js/events');\n    const OutputArea = require('notebook/js/outputarea').OutputArea;\n\n    if (OutputArea.prototype.mime_types().indexOf(EXEC_MIME_TYPE) == -1) {\n      register_renderer(events, OutputArea);\n    }\n  }\n\n  \n  if (typeof (root._bokeh_timeout) === \"undefined\" || force === true) {\n    root._bokeh_timeout = Date.now() + 5000;\n    root._bokeh_failed_load = false;\n  }\n\n  const NB_LOAD_WARNING = {'data': {'text/html':\n     \"<div style='background-color: #fdd'>\\n\"+\n     \"<p>\\n\"+\n     \"BokehJS does not appear to have successfully loaded. If loading BokehJS from CDN, this \\n\"+\n     \"may be due to a slow or bad network connection. Possible fixes:\\n\"+\n     \"</p>\\n\"+\n     \"<ul>\\n\"+\n     \"<li>re-rerun `output_notebook()` to attempt to load from CDN again, or</li>\\n\"+\n     \"<li>use INLINE resources instead, as so:</li>\\n\"+\n     \"</ul>\\n\"+\n     \"<code>\\n\"+\n     \"from bokeh.resources import INLINE\\n\"+\n     \"output_notebook(resources=INLINE)\\n\"+\n     \"</code>\\n\"+\n     \"</div>\"}};\n\n  function display_loaded() {\n    const el = document.getElementById(\"1002\");\n    if (el != null) {\n      el.textContent = \"BokehJS is loading...\";\n    }\n    if (root.Bokeh !== undefined) {\n      if (el != null) {\n        el.textContent = \"BokehJS \" + root.Bokeh.version + \" successfully loaded.\";\n      }\n    } else if (Date.now() < root._bokeh_timeout) {\n      setTimeout(display_loaded, 100)\n    }\n  }\n\n\n  function run_callbacks() {\n    try {\n      root._bokeh_onload_callbacks.forEach(function(callback) {\n        if (callback != null)\n          callback();\n      });\n    } finally {\n      delete root._bokeh_onload_callbacks\n    }\n    console.debug(\"Bokeh: all callbacks have finished\");\n  }\n\n  function load_libs(css_urls, js_urls, callback) {\n    if (css_urls == null) css_urls = [];\n    if (js_urls == null) js_urls = [];\n\n    root._bokeh_onload_callbacks.push(callback);\n    if (root._bokeh_is_loading > 0) {\n      console.debug(\"Bokeh: BokehJS is being loaded, scheduling callback at\", now());\n      return null;\n    }\n    if (js_urls == null || js_urls.length === 0) {\n      run_callbacks();\n      return null;\n    }\n    console.debug(\"Bokeh: BokehJS not loaded, scheduling load and callback at\", now());\n    root._bokeh_is_loading = css_urls.length + js_urls.length;\n\n    function on_load() {\n      root._bokeh_is_loading--;\n      if (root._bokeh_is_loading === 0) {\n        console.debug(\"Bokeh: all BokehJS libraries/stylesheets loaded\");\n        run_callbacks()\n      }\n    }\n\n    function on_error(url) {\n      console.error(\"failed to load \" + url);\n    }\n\n    for (let i = 0; i < css_urls.length; i++) {\n      const url = css_urls[i];\n      const element = document.createElement(\"link\");\n      element.onload = on_load;\n      element.onerror = on_error.bind(null, url);\n      element.rel = \"stylesheet\";\n      element.type = \"text/css\";\n      element.href = url;\n      console.debug(\"Bokeh: injecting link tag for BokehJS stylesheet: \", url);\n      document.body.appendChild(element);\n    }\n\n    for (let i = 0; i < js_urls.length; i++) {\n      const url = js_urls[i];\n      const element = document.createElement('script');\n      element.onload = on_load;\n      element.onerror = on_error.bind(null, url);\n      element.async = false;\n      element.src = url;\n      console.debug(\"Bokeh: injecting script tag for BokehJS library: \", url);\n      document.head.appendChild(element);\n    }\n  };\n\n  function inject_raw_css(css) {\n    const element = document.createElement(\"style\");\n    element.appendChild(document.createTextNode(css));\n    document.body.appendChild(element);\n  }\n\n  \n  const js_urls = [\"https://cdn.bokeh.org/bokeh/release/bokeh-2.4.2.min.js\", \"https://cdn.bokeh.org/bokeh/release/bokeh-gl-2.4.2.min.js\", \"https://cdn.bokeh.org/bokeh/release/bokeh-widgets-2.4.2.min.js\", \"https://cdn.bokeh.org/bokeh/release/bokeh-tables-2.4.2.min.js\", \"https://cdn.bokeh.org/bokeh/release/bokeh-mathjax-2.4.2.min.js\"];\n  const css_urls = [];\n  \n\n  const inline_js = [\n    function(Bokeh) {\n      Bokeh.set_log_level(\"info\");\n    },\n    function(Bokeh) {\n    \n    \n    }\n  ];\n\n  function run_inline_js() {\n    \n    if (root.Bokeh !== undefined || force === true) {\n      \n    for (let i = 0; i < inline_js.length; i++) {\n      inline_js[i].call(root, root.Bokeh);\n    }\n    if (force === true) {\n        display_loaded();\n      }} else if (Date.now() < root._bokeh_timeout) {\n      setTimeout(run_inline_js, 100);\n    } else if (!root._bokeh_failed_load) {\n      console.log(\"Bokeh: BokehJS failed to load within specified timeout.\");\n      root._bokeh_failed_load = true;\n    } else if (force !== true) {\n      const cell = $(document.getElementById(\"1002\")).parents('.cell').data().cell;\n      cell.output_area.append_execute_result(NB_LOAD_WARNING)\n    }\n\n  }\n\n  if (root._bokeh_is_loading === 0) {\n    console.debug(\"Bokeh: BokehJS loaded, going straight to plotting\");\n    run_inline_js();\n  } else {\n    load_libs(css_urls, js_urls, function() {\n      console.debug(\"Bokeh: BokehJS plotting callback run at\", now());\n      run_inline_js();\n    });\n  }\n}(window));",
      "application/vnd.bokehjs_load.v0+json": ""
     },
     "metadata": {},
     "output_type": "display_data"
    }
   ],
   "source": [
    "from bokeh.io import push_notebook, show, output_notebook\n",
    "from bokeh.layouts import row\n",
    "from bokeh.plotting import figure\n",
    "output_notebook()"
   ]
  },
  {
   "cell_type": "code",
   "execution_count": 214,
   "metadata": {},
   "outputs": [
    {
     "data": {
      "text/html": [
       "\n",
       "\n",
       "\n",
       "\n",
       "\n",
       "\n",
       "  <div class=\"bk-root\" id=\"df6a2191-56dd-4acf-8bb5-80da0cd98b63\" data-root-id=\"3294\"></div>\n"
      ]
     },
     "metadata": {},
     "output_type": "display_data"
    },
    {
     "data": {
      "application/javascript": "(function(root) {\n  function embed_document(root) {\n    \n  const docs_json = {\"5aca67e9-1b00-4e70-9258-d773cec2e1b7\":{\"defs\":[],\"roots\":{\"references\":[{\"attributes\":{\"below\":[{\"id\":\"3305\"}],\"center\":[{\"id\":\"3308\"},{\"id\":\"3312\"},{\"id\":\"3337\"},{\"id\":\"3338\"}],\"left\":[{\"id\":\"3309\"}],\"renderers\":[{\"id\":\"3333\"}],\"title\":{\"id\":\"3295\"},\"toolbar\":{\"id\":\"3320\"},\"x_range\":{\"id\":\"3327\"},\"x_scale\":{\"id\":\"3301\"},\"y_range\":{\"id\":\"3328\"},\"y_scale\":{\"id\":\"3303\"}},\"id\":\"3294\",\"subtype\":\"Figure\",\"type\":\"Plot\"},{\"attributes\":{\"callback\":null,\"tooltips\":[[\"Durata(Min)\",\"@runtimeMinutes\"],[\"Media Voti\",\"@averageRating\"],[\"Titolo\",\"@primaryTitle\"]]},\"id\":\"3335\",\"type\":\"HoverTool\"},{\"attributes\":{\"axis\":{\"id\":\"3305\"},\"coordinates\":null,\"group\":null,\"ticker\":null},\"id\":\"3308\",\"type\":\"Grid\"},{\"attributes\":{\"axis\":{\"id\":\"3309\"},\"coordinates\":null,\"dimension\":1,\"group\":null,\"ticker\":null},\"id\":\"3312\",\"type\":\"Grid\"},{\"attributes\":{},\"id\":\"3303\",\"type\":\"LinearScale\"},{\"attributes\":{},\"id\":\"3466\",\"type\":\"UnionRenderers\"},{\"attributes\":{},\"id\":\"3467\",\"type\":\"Selection\"},{\"attributes\":{\"fill_color\":{\"value\":\"#1f77b4\"},\"line_color\":{\"value\":\"#1f77b4\"},\"size\":{\"value\":6},\"x\":{\"field\":\"runtimeMinutes\"},\"y\":{\"field\":\"averageRating\"}},\"id\":\"3330\",\"type\":\"Circle\"},{\"attributes\":{},\"id\":\"3314\",\"type\":\"WheelZoomTool\"},{\"attributes\":{},\"id\":\"3318\",\"type\":\"HelpTool\"},{\"attributes\":{\"coordinates\":null,\"group\":null,\"line_color\":\"#AAAAAA\",\"line_width\":3,\"location\":6.57},\"id\":\"3337\",\"type\":\"Span\"},{\"attributes\":{\"axis_label\":\"Rating\",\"coordinates\":null,\"formatter\":{\"id\":\"3461\"},\"group\":null,\"major_label_policy\":{\"id\":\"3462\"},\"ticker\":{\"id\":\"3310\"}},\"id\":\"3309\",\"type\":\"LinearAxis\"},{\"attributes\":{},\"id\":\"3301\",\"type\":\"LinearScale\"},{\"attributes\":{\"coordinates\":null,\"group\":null,\"text\":\"x\"},\"id\":\"3295\",\"type\":\"Title\"},{\"attributes\":{},\"id\":\"3461\",\"type\":\"BasicTickFormatter\"},{\"attributes\":{},\"id\":\"3313\",\"type\":\"PanTool\"},{\"attributes\":{},\"id\":\"3317\",\"type\":\"ResetTool\"},{\"attributes\":{\"overlay\":{\"id\":\"3319\"}},\"id\":\"3315\",\"type\":\"BoxZoomTool\"},{\"attributes\":{},\"id\":\"3316\",\"type\":\"SaveTool\"},{\"attributes\":{},\"id\":\"3462\",\"type\":\"AllLabels\"},{\"attributes\":{\"source\":{\"id\":\"3293\"}},\"id\":\"3334\",\"type\":\"CDSView\"},{\"attributes\":{\"fill_alpha\":{\"value\":0.2},\"fill_color\":{\"value\":\"#1f77b4\"},\"hatch_alpha\":{\"value\":0.2},\"line_alpha\":{\"value\":0.2},\"line_color\":{\"value\":\"#1f77b4\"},\"size\":{\"value\":6},\"x\":{\"field\":\"runtimeMinutes\"},\"y\":{\"field\":\"averageRating\"}},\"id\":\"3332\",\"type\":\"Circle\"},{\"attributes\":{},\"id\":\"3464\",\"type\":\"BasicTickFormatter\"},{\"attributes\":{\"fill_alpha\":{\"value\":0.1},\"fill_color\":{\"value\":\"#1f77b4\"},\"hatch_alpha\":{\"value\":0.1},\"line_alpha\":{\"value\":0.1},\"line_color\":{\"value\":\"#1f77b4\"},\"size\":{\"value\":6},\"x\":{\"field\":\"runtimeMinutes\"},\"y\":{\"field\":\"averageRating\"}},\"id\":\"3331\",\"type\":\"Circle\"},{\"attributes\":{},\"id\":\"3310\",\"type\":\"BasicTicker\"},{\"attributes\":{},\"id\":\"3465\",\"type\":\"AllLabels\"},{\"attributes\":{\"axis_label\":\"Minuti\",\"coordinates\":null,\"formatter\":{\"id\":\"3464\"},\"group\":null,\"major_label_policy\":{\"id\":\"3465\"},\"ticker\":{\"id\":\"3306\"}},\"id\":\"3305\",\"type\":\"LinearAxis\"},{\"attributes\":{\"bottom_units\":\"screen\",\"coordinates\":null,\"fill_alpha\":0.5,\"fill_color\":\"lightgrey\",\"group\":null,\"left_units\":\"screen\",\"level\":\"overlay\",\"line_alpha\":1.0,\"line_color\":\"black\",\"line_dash\":[4,4],\"line_width\":2,\"right_units\":\"screen\",\"syncable\":false,\"top_units\":\"screen\"},\"id\":\"3319\",\"type\":\"BoxAnnotation\"},{\"attributes\":{\"coordinates\":null,\"dimension\":\"height\",\"group\":null,\"line_color\":\"#AAAAAA\",\"line_width\":3,\"location\":114.6},\"id\":\"3338\",\"type\":\"Span\"},{\"attributes\":{\"coordinates\":null,\"data_source\":{\"id\":\"3293\"},\"glyph\":{\"id\":\"3330\"},\"group\":null,\"hover_glyph\":null,\"muted_glyph\":{\"id\":\"3332\"},\"nonselection_glyph\":{\"id\":\"3331\"},\"view\":{\"id\":\"3334\"}},\"id\":\"3333\",\"type\":\"GlyphRenderer\"},{\"attributes\":{},\"id\":\"3306\",\"type\":\"BasicTicker\"},{\"attributes\":{\"data\":{\"averageRating\":{\"__ndarray__\":\"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\",\"dtype\":\"float64\",\"order\":\"little\",\"shape\":[319]},\"endYear\":{\"__ndarray__\":\"AAAAAAAAAAAAAAAAAAAAAAAAAAAAAAAAAAAAAAAAAAAAAAAAAAAAAAAAAAAAAAAAAAAAAAAAAAAAAAAAAAAAAAAAAAAAAAAAAAAAAAAAAAAAAAAAAAAAAAAAAAAAAAAAAAAAAAAAAAAAAAAAAAAAAAAAAAAAAAAAAAAAAAAAAAAAAAAAAAAAAAAAAAAAAAAAAAAAAAAAAAAAAAAAAAAAAAAAAAAAAAAAAAAAAAAAAAAAAAAAAAAAAAAAAAAAAAAAAAAAAAAAAAAAAAAAAAAAAAAAAAAAAAAAAAAAAAAAAAAAAAAAAAAAAAAAAAAAAAAAAAAAAAAAAAAAAAAAAAAAAAAAAAAAAAAAAAAAAAAAAAAAAAAAAAAAAAAAAAAAAAAAAAAAAAAAAAAAAAAAAAAAAAAAAAAAAAAAAAAAAAAAAAAAAAAAAAAAAAAAAAAAAAAAAAAAAAAAAAAAAAAAAAAAAAAAAAAAAAAAAAAAAAAAAAAAAAAAAAAAAAAAAAAAAAAAAAAAAAAAAAAAAAAAAAAAAAAAAAAAAAAAAAAAAAAAAAAAAAAAAAAAAAAAAAAAAAAAAAAAAAAAAAAAAAAAAAAAAAAAAAAAAAAAAAAAAAAAAAAAAAAAAAAAAAAAAAAAAAAAAAAAAAAAAAAAAAAAAAAAAAAAAAAAAAAAAAAAAAAAAAAAAAAAAAAAAAAAAAAAAAAAAAAAAAAAAAAAAAAAAAAAAAAAAAAAAAAAAAAAAAAAAAAAAAAAAAAAAAAAAAAAAAAAAAAAAAAAAAAAAAAAAAAAAAAAAAAAAAAAAAAAAAAAAAAAAAAAAAAAAAAAAAAAAAAAAAAAAAAAAAAAAAAAAAAAAAAAAAAAAAAAAAAAAAAAAAAAAAAAAAAAAAAAAAAAAAAAAAAAAAAAAAAAAAAAAAAAAAAAAAAAAAAAAAAAAAAAAAAAAAAAAAAAAAAAAAAAAAAAAAAAAAAAAAAAAAAAAAAAAAAAAAAAAAAAAAAAAAAAAAAAAAAAAAAAAAAAAAAAAAAAAAAAAAAAAAAAAAAAAAAAAAAAAAAAAAAAAAAAAAAAAAAAAAAAAAAAAAAAAAAAAAAAAAAAAAAAAAAAAAAAAAAAAAAAAAAAAAAAAAAAAAAAAAAAAAAAAAAAAAAAAAAAAAAAAAAAAAAAAAAAAAAAAAAAAAAAAAAAAAAAAAAAAAAAAAAAAAAAAAAAAAAAAAAAAAAAAAAAAAAAAAAAAAAAAAAAAAAAAAAAAAAAAAAAAAAAAAAAAAAAAAAAAAAAAAAAAAAAAAAAAAAAAAAAAAAAAAAAAAAAAAAAAAAAAAAAAAAAAAAAAAAAAAAAAAAAAAAAAAAAAAAAAAAAAAAAAAAAAAAAAAAAAAAAAAAAAAAAAAAAAAAAAAAAAAAAAAAAAAAAAAAAAAAAAAAAAAAAAAAAAAAAAAAAAAAAAAAAAAAAAAAAAAAAAAAAAAAAAAAAAAAAAAAAAAAAAAAAAAAAAAAAAAAAAAAAAAAAAAAAAAAAAAAAAAAAAAAAAAAAAAAAAAAAAAAAAAAAAAAAAAAAAAAAAAAAAAAAAAAAAAAAAAAAAAAAAAAAAAAAAAAAAAAAAAAAAAAAAAAAAAAAAAAAAAAAAAAAAAAAAAAAAAAAAAAAAAAAAAAAAAAAAAAAAAAAAAAAAAAAAAAAAAAAAAAAAAAAAAAAAAAAAAAAAAAAAAAAAA==\",\"dtype\":\"int32\",\"order\":\"little\",\"shape\":[319]},\"genres\":[\"Drama,Sci-Fi,Thriller\",\"Action,Adventure,Sci-Fi\",\"Action,Adventure,Comedy\",\"Biography,Comedy,Drama\",\"Horror,Mystery,Thriller\",\"Comedy,Crime,Mystery\",\"Action,Drama,Sci-Fi\",\"Fantasy,Horror,Mystery\",\"Biography,Drama,Fantasy\",\"Action,Crime,Drama\",\"Action,Adventure,Thriller\",\"Biography,Drama,History\",\"Biography,Drama\",\"Comedy,Crime,Mystery\",\"Action,Crime,Drama\",\"Action,Sci-Fi,Thriller\",\"Horror\",\"Drama,History,Romance\",\"Comedy,Crime\",\"Action,Comedy,Crime\",\"Action,Adventure,Fantasy\",\"Action,Drama,History\",\"Mystery,Sci-Fi,Thriller\",\"Action,Adventure,Fantasy\",\"Action,Adventure,Crime\",\"Comedy\",\"Horror,Thriller\",\"Drama,Music,Romance\",\"Action,Comedy,Horror\",\"Comedy,Romance\",\"Action,Adventure,Fantasy\",\"Action,Mystery,Thriller\",\"Action,Comedy,Crime\",\"Adventure,Family,Fantasy\",\"Action,Adventure,Sci-Fi\",\"Biography,Drama,Music\",\"Action,Adventure,Sci-Fi\",\"Action,Thriller\",\"Biography,Crime,Drama\",\"Action,Biography,Drama\",\"Adventure,Animation,Comedy\",\"Crime,Drama,Thriller\",\"Biography,Drama,Music\",\"Comedy,Fantasy,Horror\",\"Comedy,Drama,Romance\",\"Comedy,Romance\",\"Action,Adventure,Sci-Fi\",\"Action,Adventure,Fantasy\",\"Action,Adventure,Comedy\",\"Biography,Drama,History\",\"Action,Adventure,Animation\",\"Adventure,Drama,Fantasy\",\"Drama,Music\",\"Comedy,Fantasy,Romance\",\"Biography,Crime,Drama\",\"Comedy\",\"Drama,Horror,Mystery\",\"Action,Adventure,Sci-Fi\",\"Drama,Mystery,Thriller\",\"Action,Comedy,Crime\",\"Animation,Family,Fantasy\",\"Drama,Horror,Sci-Fi\",\"Adventure,Drama,Horror\",\"Biography,Comedy,Crime\",\"Comedy\",\"Action,Drama,Thriller\",\"Adventure,Drama,Mystery\",\"Adventure,Comedy,Family\",\"Comedy,Drama,Romance\",\"Comedy,Drama,Romance\",\"Action,Drama,Sci-Fi\",\"Adventure,Drama,Romance\",\"Action,Comedy\",\"Biography,Drama,War\",\"Biography,Comedy,Drama\",\"Horror,Mystery,Thriller\",\"Action,Adventure,Animation\",\"Action,Adventure,Animation\",\"Action,Comedy,Crime\",\"Action,Adventure,Fantasy\",\"Action,Crime,Thriller\",\"Action,Adventure,Sci-Fi\",\"Comedy,Romance\",\"Action,Adventure,Sci-Fi\",\"Drama,Romance\",\"Adventure,Family,Fantasy\",\"Drama\",\"Crime,Drama,Horror\",\"Action,Adventure,Drama\",\"Adventure,Family,Fantasy\",\"Drama,Romance\",\"Action,Crime,Drama\",\"Action,Adventure,Sci-Fi\",\"Action,Adventure,Sci-Fi\",\"Action,Adventure,Drama\",\"Drama,Sci-Fi,Thriller\",\"Crime,Drama,Thriller\",\"Adventure,Drama,Family\",\"Mystery,Thriller\",\"Sci-Fi,Thriller\",\"Adventure,Comedy,Drama\",\"Crime,Drama,Thriller\",\"Action,Comedy,Crime\",\"Drama,Romance,Thriller\",\"Action,Sci-Fi,Thriller\",\"Horror,Thriller\",\"Action,Adventure,Horror\",\"Action,Adventure,Thriller\",\"Crime,Drama\",\"Action,Thriller\",\"Adventure,Comedy,Drama\",\"Biography,Comedy,Crime\",\"Action,Adventure,Animation\",\"Drama,Thriller\",\"Biography,Drama\",\"Drama,Horror,Thriller\",\"Action,Adventure,Sci-Fi\",\"Adventure,Animation,Comedy\",\"Horror,Mystery,Thriller\",\"Adventure,Family,Fantasy\",\"Action,Horror,Sci-Fi\",\"Drama,Romance\",\"Adventure,Drama,Mystery\",\"Comedy,Drama,Musical\",\"Action,Adventure,Sci-Fi\",\"Action,Adventure,Thriller\",\"Horror,Mystery,Thriller\",\"Crime,Drama,Mystery\",\"Comedy,Crime,Drama\",\"Drama,Mystery,Romance\",\"Drama,History,Thriller\",\"Action,Drama\",\"Comedy,Family,Fantasy\",\"Action,Crime,Drama\",\"Drama,Horror,Mystery\",\"Action,Sci-Fi\",\"Biography,Drama,History\",\"Action,Adventure,Comedy\",\"Adventure,Animation,Comedy\",\"Adventure,Animation,Comedy\",\"Adventure,Animation,Comedy\",\"Action,Comedy,Crime\",\"Comedy,Drama,Romance\",\"Action,Crime,Drama\",\"Biography,Drama,History\",\"Adventure,Animation,Comedy\",\"Action,Adventure,Drama\",\"Horror\",\"Comedy,Romance\",\"Action,Thriller\",\"Action,Adventure,Crime\",\"Crime,Drama,Mystery\",\"Drama,History,Thriller\",\"Action,Adventure,Comedy\",\"Crime,Drama,Fantasy\",\"Comedy,Crime,Drama\",\"Adventure,Family,Fantasy\",\"Crime,Drama\",\"Drama,Fantasy,Horror\",\"Comedy,Drama,Mystery\",\"Comedy,Drama\",\"Comedy\",\"Action,Crime,Drama\",\"Comedy,Fantasy,Sci-Fi\",\"Horror,Mystery,Thriller\",\"Comedy,Crime,Drama\",\"Action,Crime,Drama\",\"Horror,Mystery,Thriller\",\"Action,Adventure,Thriller\",\"Drama,Horror,Mystery\",\"Comedy,Fantasy,Romance\",\"Horror,Mystery,Thriller\",\"Action,Crime,Drama\",\"Adventure,Animation,Comedy\",\"Comedy,Crime,Drama\",\"Action,Adventure,Comedy\",\"Action,Adventure,Horror\",\"Drama\",\"Biography,Drama,Mystery\",\"Drama,History,Romance\",\"Drama,Sci-Fi,Thriller\",\"Action,Adventure\",\"Adventure,Animation,Drama\",\"Action,Thriller\",\"Action,Horror,Sci-Fi\",\"Adventure,Family,Fantasy\",\"Action,Crime,Thriller\",\"Drama\",\"Adventure,Animation,Comedy\",\"Action,Thriller\",\"Drama,Horror,Mystery\",\"Biography,Crime,Drama\",\"Drama,Fantasy,Horror\",\"Drama,Thriller\",\"Drama\",\"Biography,Comedy,Drama\",\"Biography,Comedy,Drama\",\"Drama,Horror,Sci-Fi\",\"Action,Adventure,Biography\",\"Action,Adventure,Sci-Fi\",\"Drama,Sport\",\"Drama,Romance\",\"Comedy,Drama,Musical\",\"Action,Adventure,Sci-Fi\",\"Biography,Drama\",\"Drama,Romance\",\"Drama,Mystery,Thriller\",\"Action,Crime,Drama\",\"Action,Horror,Sci-Fi\",\"Biography,Comedy,Drama\",\"Action,Crime,Mystery\",\"Comedy,Drama,Romance\",\"Drama,History,Music\",\"Action,Adventure,Sci-Fi\",\"Crime,Drama,Mystery\",\"Drama,Horror,Sci-Fi\",\"Action,Adventure,Comedy\",\"Action,Biography,Drama\",\"Comedy,Sci-Fi\",\"Crime,Drama,Thriller\",\"Comedy,Drama,Thriller\",\"Crime,Drama,Thriller\",\"Horror,Thriller\",\"Comedy\",\"Comedy,Romance\",\"Biography,Drama,Thriller\",\"Action,Adventure\",\"Adventure,Drama\",\"Comedy\",\"Drama,Sci-Fi,Thriller\",\"Action,Drama,History\",\"Action,Drama,Thriller\",\"Horror,Mystery,Thriller\",\"Comedy,Drama,Romance\",\"Drama,Mystery,Romance\",\"Biography,Drama\",\"Comedy,Musical,Romance\",\"Action,Adventure,Comedy\",\"Biography,Drama\",\"Biography,Comedy,Drama\",\"Comedy,Drama,Romance\",\"Action,Fantasy,Horror\",\"Biography,Drama\",\"Comedy,Drama\",\"Drama,Fantasy,Romance\",\"Comedy,Crime,Drama\",\"Horror,Mystery,Thriller\",\"Action,Drama,Thriller\",\"Drama,Romance\",\"Comedy,Drama\",\"Action,Crime,Drama\",\"Drama,Horror,Mystery\",\"Comedy,Drama\",\"Action,Comedy,Drama\",\"Comedy,Drama\",\"Comedy,Crime,Drama\",\"Crime,Drama,History\",\"Drama,Mystery\",\"Crime,Drama,Thriller\",\"Drama,Horror,Sci-Fi\",\"Adventure,Comedy\",\"Biography,Crime,Drama\",\"Drama,Fantasy,Horror\",\"Comedy,Romance\",\"Action,Drama\",\"Comedy,Drama\",\"Action,Thriller\",\"Action,Animation,Sci-Fi\",\"Action,Thriller\",\"Comedy,Romance\",\"Action,Drama,Sci-Fi\",\"Horror,Thriller\",\"Biography,Documentary,Drama\",\"Comedy\",\"Drama,Mystery,Thriller\",\"Biography,Documentary\",\"Action,Drama\",\"Comedy,Drama\",\"Action,Comedy,Crime\",\"Drama,Horror,Mystery\",\"Drama,Horror,Thriller\",\"Adventure,Documentary,Sport\",\"Drama,Horror,Mystery\",\"Comedy,Horror,Mystery\",\"Action,Drama,History\",\"Action,Drama\",\"Documentary,History,War\",\"Horror,Thriller\",\"Crime,Drama,Thriller\",\"Action,Adventure,Animation\",\"Biography,Drama,History\",\"Crime,Drama\",\"Comedy,Fantasy,Music\",\"Crime,Thriller\",\"Comedy,Horror\",\"Crime,Mystery,Sci-Fi\",\"Crime,Drama,Mystery\",\"Comedy,Horror,Mystery\",\"Comedy\",\"Comedy,Romance\",\"Drama,Fantasy,Horror\",\"Drama\",\"Action,Drama,War\",\"Drama\",\"Horror,Mystery,Thriller\",\"Drama,Horror,Music\",\"Horror,Mystery,Thriller\",\"Action,Drama,Horror\",\"Biography,Comedy,Drama\",\"Horror\",\"Comedy,Fantasy,Horror\",\"Drama,Horror,Mystery\",\"Romance\",\"Drama,Romance\",\"Action,Drama\",\"Comedy\",\"Documentary,Music\",\"Drama,Mystery,Sci-Fi\",\"Documentary\"],\"index\":[196607,229195,233444,373056,385555,392476,435391,438549,451047,468391,481208,482478,484920,490887,491734,494290,497124,498167,500120,502772,514173,522530,531110,533396,535367,535527,537655,540516,548218,548853,550023,553658,558358,558674,568529,577082,592560,595998,598244,609002,612488,616727,622910,630748,631826,633227,645174,650240,651180,656719,664242,664581,665622,670381,672328,675625,676560,677152,682372,686065,686441,688263,691877,693985,694853,695543,699041,702359,708539,709571,714339,718103,721968,724726,726004,726143,734138,739928,747157,748190,749582,750215,751265,753019,754055,754806,756357,761466,765277,767897,768090,768938,769824,769829,769831,769837,773569,774872,779358,780366,780630,785832,785840,786612,787752,787938,789388,789520,789823,790968,791767,792718,794458,796166,796196,797162,797960,798004,801617,802374,802510,803291,804242,806735,806881,808195,808233,810694,811068,811753,812048,812347,813523,814779,814973,816298,816504,817202,817686,818178,818435,821228,821237,821930,823838,824778,826192,828906,829522,830080,832620,833631,835983,836067,838185,838313,839363,842388,843912,844132,844323,844677,847328,848213,848286,848359,849718,850089,851652,852440,852899,854799,855970,856806,857672,858759,858878,861157,861331,861493,863118,863259,870509,871117,871934,872385,872783,873229,874518,874830,875080,875911,876241,876316,878420,878980,880126,880330,880936,881462,882665,885164,885851,887640,887699,888510,888625,889232,889617,890097,890126,890651,891391,892142,894367,894859,895539,896241,897081,899024,899431,900111,900379,900821,901153,901585,901751,902356,902384,902530,902641,903751,904093,904098,906278,906324,906394,906822,907347,908494,909465,909952,910369,910584,911057,911775,911866,914059,914972,915224,915461,916176,916811,918488,918740,919800,921420,921481,921598,922645,923703,923864,923900,924679,925385,925646,926516,927194,927336,931949,932894,932987,935131,935291,935295,935676,937249,937382,937661,938182,938988,939065,939315,939732,940576,941044,943321,945244,945250,945317,946057,948767,948881,949796,949798,949855,950486,951175,951569,952475,953644,954565,955213,955231,957096,957377,957406,957517,962212,965523,966403,968456,972912,973691,981224,984586,984850,986456,987664],\"isAdult\":[0,0,0,0,0,0,0,0,0,0,0,0,0,0,0,0,0,0,0,0,0,0,0,0,0,0,0,0,0,0,0,0,0,0,0,0,0,0,0,0,0,0,0,0,0,0,0,0,0,0,0,0,0,0,0,0,0,0,0,0,0,0,0,0,0,0,0,0,0,0,0,0,0,0,0,0,0,0,0,0,0,0,0,0,0,0,0,0,0,0,0,0,0,0,0,0,0,0,0,0,0,0,0,0,0,0,0,0,0,0,0,0,0,0,0,0,0,0,0,0,0,0,0,0,0,0,0,0,0,0,0,0,0,0,0,0,0,0,0,0,0,0,0,0,0,0,0,0,0,0,0,0,0,0,0,0,0,0,0,0,0,0,0,0,0,0,0,0,0,0,0,0,0,0,0,0,0,0,0,0,0,0,0,0,0,0,0,0,0,0,0,0,0,0,0,0,0,0,0,0,0,0,0,0,0,0,0,0,0,0,0,0,0,0,0,0,0,0,0,0,0,0,0,0,0,0,0,0,0,0,0,0,0,0,0,0,0,0,0,0,0,0,0,0,0,0,0,0,0,0,0,0,0,0,0,0,0,0,0,0,0,0,0,0,0,0,0,0,0,0,0,0,0,0,0,0,0,0,0,0,0,0,0,0,0,0,0,0,0,0,0,0,0,0,0,0,0,0,0,0,0,0,0,0,0,0,0,0,0,0,0,0,0,0,0,0,0,0,0],\"numVotes\":[15328,171875,191474,31721,61661,21499,22680,46711,25998,54575,23962,139174,37359,23742,75610,312671,23590,25591,27064,20569,172157,54169,26823,311721,84695,46177,102374,284417,30134,28683,85510,89299,73356,36956,320329,392899,551558,41738,55390,20829,131076,17266,78968,37360,16977,55336,123799,57328,74456,29646,78853,49402,22632,51575,57552,61138,86832,94319,17491,174503,34168,237974,244548,32440,94514,145927,67533,36445,112496,29955,39710,26708,22914,18261,23833,32914,40833,219263,22929,98073,108861,242741,48953,103985,69201,49425,38296,43953,24380,185741,20989,62134,373762,725626,603975,23834,72790,46519,29201,22145,15036,15874,32307,46842,97067,16641,67992,52659,20065,54672,58857,36732,276042,16133,16069,28062,110886,16933,16568,25209,126708,18264,18128,23042,233378,252109,26255,22577,40230,25118,16107,24488,63321,105358,28780,19048,136468,266982,117497,30532,29755,156068,86610,33667,24066,46869,38498,16852,35033,17092,16527,31698,35137,424785,16239,19870,22832,22542,27836,44852,32054,28017,17171,47812,22304,23515,42057,45760,88845,26111,36731,101605,35192,105665,20769,103840,60198,17649,19622,24596,40353,16015,136100,16413,45569,157324,193330,116902,27321,26531,19562,32167,34184,16971,15101,92606,16797,53017,38014,233239,86157,16613,98055,45829,42808,25144,26349,23940,119726,42535,23299,21500,38073,110701,105875,333264,56905,49745,28169,32082,75779,16574,37244,27883,42670,23838,107919,30351,15373,168892,18338,42171,160606,21128,23501,22732,66250,52888,20209,260748,19172,50028,23533,49562,15084,100698,45329,20369,31310,228765,19126,34607,16322,15875,17279,20271,21929,30387,472462,28156,26827,168995,113443,35522,16327,59050,30086,15071,31006,17427,21649,27242,18078,53049,113430,18436,17397,22002,22147,52904,25512,40464,181433,19975,42163,26914,19989,23127,80498,18666,37808,40875,62505,52021,22789,23525,15660,40529,15077,24920,16664,31688,35311,18127,40005,33819,19963,36644,18337,28396,30281,79447,15261,20773,129725,18811,29072,99165,22465],\"originalTitle\":[\"Fahrenheit 451\",\"Alita: Battle Angel\",\"Shazam!\",\"The Dirt\",\"Pet Sematary\",\"Super Troopers 2\",\"Gemini Man\",\"Suspiria\",\"Winchester\",\"Death Wish\",\"Rambo: Last Blood\",\"First Man\",\"Beautiful Boy\",\"Holmes & Watson\",\"Den of Thieves\",\"Venom\",\"The Strangers: Prey at Night\",\"The Guernsey Literary and Potato Peel Pie Society\",\"The Hustle\",\"The Happytime Murders\",\"Tomb Raider\",\"12 Strong\",\"Mute\",\"Aquaman\",\"Triple Frontier\",\"Booksmart\",\"Halloween\",\"A Star Is Born\",\"Zombieland: Double Tap\",\"Overboard\",\"Mortal Engines\",\"The Commuter\",\"Murder Mystery\",\"A Wrinkle in Time\",\"Ready Player One\",\"Bohemian Rhapsody\",\"Black Panther\",\"Hunter Killer\",\"The Highwaymen\",\"Ford v Ferrari\",\"Toy Story 4\",\"The Outsider\",\"Rocketman\",\"The House with a Clock in Its Walls\",\"Second Act\",\"Long Shot\",\"Rampage\",\"Hellboy\",\"Men in Black: International\",\"Mary Queen of Scots\",\"How to Train Your Dragon: The Hidden World\",\"Mowgli\",\"Gully Boy\",\"Isn't It Romantic\",\"Extremely Wicked, Shockingly Evil and Vile\",\"Blockers\",\"The Cloverfield Paradox\",\"Pacific Rim: Uprising\",\"Greta\",\"Game Night\",\"The Grinch\",\"Bird Box\",\"Annihilation\",\"The Old Man & the Gun\",\"Tag\",\"Red Sparrow\",\"Ad Astra\",\"The Christmas Chronicles\",\"Crazy Rich Asians\",\"Sierra Burgess Is a Loser\",\"Extinction\",\"IO\",\"Game Over, Man!\",\"Tolkien\",\"Stan & Ollie\",\"Scary Stories to Tell in the Dark\",\"The Lego Movie 2: The Second Part\",\"Incredibles 2\",\"Gringo\",\"Godzilla: King of the Monsters\",\"The Equalizer 2\",\"Solo: A Star Wars Story\",\"The Kissing Booth\",\"The Predator\",\"To All the Boys I've Loved Before\",\"Dumbo\",\"Leave No Trace\",\"The House That Jack Built\",\"The Darkest Minds\",\"Fantastic Beasts: The Crimes of Grindelwald\",\"After\",\"Polar\",\"Captain Marvel\",\"Avengers: Infinity War\",\"Avengers: Endgame\",\"Replicas\",\"Widows\",\"Alpha\",\"Fractured\",\"Tau\",\"The Peanut Butter Falcon\",\"Terminal\",\"Shaft\",\"Fifty Shades Freed\",\"Maze Runner: The Death Cure\",\"The Prodigy\",\"Overlord\",\"Robin Hood\",\"White Boy Rick\",\"Mile 22\",\"Christopher Robin\",\"Can You Ever Forgive Me?\",\"Spider-Man: Into the Spider-Verse\",\"Beirut\",\"On the Basis of Sex\",\"In the Tall Grass\",\"Bumblebee\",\"Early Man\",\"Unfriended: Dark Web\",\"Maleficent: Mistress of Evil\",\"The Meg\",\"Midnight Sun\",\"High Life\",\"Dumplin'\",\"Jurassic World: Fallen Kingdom\",\"Mission: Impossible - Fallout\",\"The Curse of La Llorona\",\"Todos lo saben\",\"Les fr\\u00e8res Sisters\",\"The Titan\",\"Operation Brothers\",\"Braven\",\"Mary Poppins Returns\",\"Sicario: Day of the Soldado\",\"Hold the Dark\",\"2.0\",\"The Favourite\",\"Ant-Man and the Wasp\",\"Isle of Dogs\",\"The Secret Life of Pets 2\",\"Peter Rabbit\",\"Ocean's Eight\",\"Love, Simon\",\"The Girl in the Spider's Web\",\"Operation Finale\",\"Hotel Transylvania 3: Summer Vacation\",\"How It Ends\",\"Eli\",\"Set It Up\",\"Close\",\"The Hurricane Heist\",\"Anon\",\"Hotel Mumbai\",\"Deadpool 2\",\"Gr\\u00e4ns\",\"Hustlers\",\"The Nutcracker and the Four Realms\",\"The Hate U Give\",\"Doctor Sleep\",\"Tully\",\"Mid90s\",\"Life of the Party\",\"Traffik\",\"Sorry to Bother You\",\"Slender Man\",\"Under the Silver Lake\",\"Cold Pursuit\",\"Insidious: The Last Key\",\"Skyscraper\",\"Summer of 84\",\"When We First Met\",\"The Nun\",\"Hotel Artemis\",\"Ralph Breaks the Internet\",\"The Laundromat\",\"Pok\\u00e9mon Detective Pikachu\",\"Escape Room\",\"Wildlife\",\"The Professor and the Madman\",\"Padmaavat\",\"Captive State\",\"Thugs of Hindostan\",\"The Lion King\",\"The Night Comes for Us\",\"The First Purge\",\"Aladdin\",\"John Wick: Chapter 3 - Parabellum\",\"Roma\",\"Smallfoot\",\"Angel Has Fallen\",\"Ghostland\",\"American Animals\",\"Apostle\",\"Calibre\",\"The Miseducation of Cameron Post\",\"Vice\",\"Don't Worry, He Won't Get Far on Foot\",\"I Am Mother\",\"Adrift\",\"Spider-Man: Far from Home\",\"Creed II\",\"Downton Abbey\",\"The Ballad of Buster Scruggs\",\"Terminator: Dark Fate\",\"Sanju\",\"Five Feet Apart\",\"Serenity\",\"Dragged Across Concrete\",\"Upgrade\",\"Fighting with My Family\",\"Escape Plan 2: Hades\",\"Zero\",\"Zimna wojna\",\"Dark Phoenix\",\"Bad Times at the El Royale\",\"A Quiet Place\",\"The Spy Who Dumped Me\",\"Outlaw King\",\"Arif V 216\",\"Den skyldige\",\"Gisaengchung\",\"Dogman\",\"Truth or Dare\",\"Night School\",\"I Feel Pretty\",\"The 15:17 to Paris\",\"Fast & Furious Presents: Hobbs & Shaw\",\"Arctic\",\"The Week Of\",\"Glass\",\"Parmanu: The Story of Pokhran\",\"Peppermint\",\"Us\",\"Book Club\",\"Durante la tormenta\",\"Nada a Perder\",\"Mamma Mia! Here We Go Again\",\"Johnny English Strikes Again\",\"At Eternity's Gate\",\"Green Book\",\"Destination Wedding\",\"Mandy\",\"Boy Erased\",\"Eighth Grade\",\"Every Day\",\"A Simple Favor\",\"Velvet Buzzsaw\",\"Raazi\",\"If Beale Street Could Talk\",\"Once Upon a Time... in Hollywood\",\"Destroyer\",\"Unsane\",\"Like Father\",\"Simmba\",\"Padman\",\"Blindspotting\",\"22 July\",\"Beoning\",\"Joker\",\"The Silence\",\"Good Boys\",\"BlacKkKlansman\",\"It Chapter Two\",\"Always Be My Maybe\",\"Rangasthalam\",\"Instant Family\",\"Race 3\",\"Batman Ninja\",\"Anna\",\"Sonu Ke Titu Ki Sweety\",\"Liu lang di qiu\",\"The Open House\",\"Three Identical Strangers\",\"Enes Batur Hayal mi Ger\\u00e7ek mi?\",\"Searching\",\"Won't You Be My Neighbor?\",\"Bharat\",\"Badhaai Ho\",\"Stuber\",\"Brightburn\",\"The Perfection\",\"Free Solo\",\"Hereditary\",\"Ready or Not\",\"Marighella\",\"K.G.F: Chapter 1\",\"They Shall Not Grow Old\",\"Ma\",\"The Mule\",\"Doragon b\\u00f4ru ch\\u00f4: Buror\\u00ee\",\"The King\",\"Manbiki kazoku\",\"Yesterday\",\"Andhadhun\",\"Stree\",\"In the Shadow of the Moon\",\"Badla\",\"Happy Death Day 2U\",\"Wine Country\",\"The Perfect Date\",\"Tumbbad\",\"Capharna\\u00fcm\",\"Uri: The Surgical Strike\",\"Dolor y gloria\",\"Annabelle Comes Home\",\"Climax\",\"Cam\",\"Crawl\",\"Dolemite Is My Name\",\"Child's Play\",\"The Dead Don't Die\",\"Midsommar\",\"The Princess Switch\",\"Kabir Singh\",\"El Camino: A Breaking Bad Movie\",\"Between Two Ferns: The Movie\",\"Fyre\",\"Black Mirror: Bandersnatch\",\"Leaving Neverland\"],\"primaryTitle\":[\"Fahrenheit 451\",\"Alita: Battle Angel\",\"Shazam!\",\"The Dirt\",\"Pet Sematary\",\"Super Troopers 2\",\"Gemini Man\",\"Suspiria\",\"Winchester\",\"Death Wish\",\"Rambo: Last Blood\",\"First Man\",\"Beautiful Boy\",\"Holmes & Watson\",\"Den of Thieves\",\"Venom\",\"The Strangers: Prey at Night\",\"The Guernsey Literary and Potato Peel Pie Society\",\"The Hustle\",\"The Happytime Murders\",\"Tomb Raider\",\"12 Strong\",\"Mute\",\"Aquaman\",\"Triple Frontier\",\"Booksmart\",\"Halloween\",\"A Star Is Born\",\"Zombieland: Double Tap\",\"Overboard\",\"Mortal Engines\",\"The Commuter\",\"Murder Mystery\",\"A Wrinkle in Time\",\"Ready Player One\",\"Bohemian Rhapsody\",\"Black Panther\",\"Hunter Killer\",\"The Highwaymen\",\"Ford v Ferrari\",\"Toy Story 4\",\"The Outsider\",\"Rocketman\",\"The House with a Clock in Its Walls\",\"Second Act\",\"Long Shot\",\"Rampage\",\"Hellboy\",\"Men in Black: International\",\"Mary Queen of Scots\",\"How to Train Your Dragon: The Hidden World\",\"Mowgli: Legend of the Jungle\",\"Gully Boy\",\"Isn't It Romantic\",\"Extremely Wicked, Shockingly Evil and Vile\",\"Blockers\",\"The Cloverfield Paradox\",\"Pacific Rim: Uprising\",\"Greta\",\"Game Night\",\"The Grinch\",\"Bird Box\",\"Annihilation\",\"The Old Man & the Gun\",\"Tag\",\"Red Sparrow\",\"Ad Astra\",\"The Christmas Chronicles\",\"Crazy Rich Asians\",\"Sierra Burgess Is a Loser\",\"Extinction\",\"IO\",\"Game Over, Man!\",\"Tolkien\",\"Stan & Ollie\",\"Scary Stories to Tell in the Dark\",\"The Lego Movie 2: The Second Part\",\"Incredibles 2\",\"Gringo\",\"Godzilla: King of the Monsters\",\"The Equalizer 2\",\"Solo: A Star Wars Story\",\"The Kissing Booth\",\"The Predator\",\"To All the Boys I've Loved Before\",\"Dumbo\",\"Leave No Trace\",\"The House That Jack Built\",\"The Darkest Minds\",\"Fantastic Beasts: The Crimes of Grindelwald\",\"After\",\"Polar\",\"Captain Marvel\",\"Avengers: Infinity War\",\"Avengers: Endgame\",\"Replicas\",\"Widows\",\"Alpha\",\"Fractured\",\"Tau\",\"The Peanut Butter Falcon\",\"Terminal\",\"Shaft\",\"Fifty Shades Freed\",\"Maze Runner: The Death Cure\",\"The Prodigy\",\"Overlord\",\"Robin Hood\",\"White Boy Rick\",\"Mile 22\",\"Christopher Robin\",\"Can You Ever Forgive Me?\",\"Spider-Man: Into the Spider-Verse\",\"Beirut\",\"On the Basis of Sex\",\"In the Tall Grass\",\"Bumblebee\",\"Early Man\",\"Unfriended: Dark Web\",\"Maleficent: Mistress of Evil\",\"The Meg\",\"Midnight Sun\",\"High Life\",\"Dumplin'\",\"Jurassic World: Fallen Kingdom\",\"Mission: Impossible - Fallout\",\"The Curse of La Llorona\",\"Everybody Knows\",\"The Sisters Brothers\",\"The Titan\",\"The Red Sea Diving Resort\",\"Braven\",\"Mary Poppins Returns\",\"Sicario: Day of the Soldado\",\"Hold the Dark\",\"2.0\",\"The Favourite\",\"Ant-Man and the Wasp\",\"Isle of Dogs\",\"The Secret Life of Pets 2\",\"Peter Rabbit\",\"Ocean's Eight\",\"Love, Simon\",\"The Girl in the Spider's Web\",\"Operation Finale\",\"Hotel Transylvania 3: Summer Vacation\",\"How It Ends\",\"Eli\",\"Set It Up\",\"Close\",\"The Hurricane Heist\",\"Anon\",\"Hotel Mumbai\",\"Deadpool 2\",\"Border\",\"Hustlers\",\"The Nutcracker and the Four Realms\",\"The Hate U Give\",\"Doctor Sleep\",\"Tully\",\"Mid90s\",\"Life of the Party\",\"Traffik\",\"Sorry to Bother You\",\"Slender Man\",\"Under the Silver Lake\",\"Cold Pursuit\",\"Insidious: The Last Key\",\"Skyscraper\",\"Summer of 84\",\"When We First Met\",\"The Nun\",\"Hotel Artemis\",\"Ralph Breaks the Internet\",\"The Laundromat\",\"Pok\\u00e9mon Detective Pikachu\",\"Escape Room\",\"Wildlife\",\"The Professor and the Madman\",\"Padmaavat\",\"Captive State\",\"Thugs of Hindostan\",\"The Lion King\",\"The Night Comes for Us\",\"The First Purge\",\"Aladdin\",\"John Wick: Chapter 3 - Parabellum\",\"Roma\",\"Smallfoot\",\"Angel Has Fallen\",\"Incident in a Ghostland\",\"American Animals\",\"Apostle\",\"Calibre\",\"The Miseducation of Cameron Post\",\"Vice\",\"Don't Worry, He Won't Get Far on Foot\",\"I Am Mother\",\"Adrift\",\"Spider-Man: Far from Home\",\"Creed II\",\"Downton Abbey\",\"The Ballad of Buster Scruggs\",\"Terminator: Dark Fate\",\"Sanju\",\"Five Feet Apart\",\"Serenity\",\"Dragged Across Concrete\",\"Upgrade\",\"Fighting with My Family\",\"Escape Plan 2: Hades\",\"Zero\",\"Cold War\",\"Dark Phoenix\",\"Bad Times at the El Royale\",\"A Quiet Place\",\"The Spy Who Dumped Me\",\"Outlaw King\",\"Arif V 216\",\"The Guilty\",\"Parasite\",\"Dogman\",\"Truth or Dare\",\"Night School\",\"I Feel Pretty\",\"The 15:17 to Paris\",\"Fast & Furious Presents: Hobbs & Shaw\",\"Arctic\",\"The Week Of\",\"Glass\",\"Parmanu: The Story of Pokhran\",\"Peppermint\",\"Us\",\"Book Club\",\"Mirage\",\"Nothing to Lose\",\"Mamma Mia! Here We Go Again\",\"Johnny English Strikes Again\",\"At Eternity's Gate\",\"Green Book\",\"Destination Wedding\",\"Mandy\",\"Boy Erased\",\"Eighth Grade\",\"Every Day\",\"A Simple Favor\",\"Velvet Buzzsaw\",\"Raazi\",\"If Beale Street Could Talk\",\"Once Upon a Time ... in Hollywood\",\"Destroyer\",\"Unsane\",\"Like Father\",\"Simmba\",\"Padman\",\"Blindspotting\",\"22 July\",\"Burning\",\"Joker\",\"The Silence\",\"Good Boys\",\"BlacKkKlansman\",\"It Chapter Two\",\"Always Be My Maybe\",\"Rangasthalam\",\"Instant Family\",\"Race 3\",\"Batman Ninja\",\"Anna\",\"Sonu Ke Titu Ki Sweety\",\"The Wandering Earth\",\"The Open House\",\"Three Identical Strangers\",\"Enes Batur\",\"Searching\",\"Won't You Be My Neighbor?\",\"Bharat\",\"Badhaai Ho\",\"Stuber\",\"Brightburn\",\"The Perfection\",\"Free Solo\",\"Hereditary\",\"Ready or Not\",\"Marighella\",\"K.G.F: Chapter 1\",\"They Shall Not Grow Old\",\"Ma\",\"The Mule\",\"Dragon Ball Super: Broly\",\"The King\",\"Shoplifters\",\"Yesterday\",\"Andhadhun\",\"Stree\",\"In the Shadow of the Moon\",\"Badla\",\"Happy Death Day 2U\",\"Wine Country\",\"The Perfect Date\",\"Tumbbad\",\"Capernaum\",\"Uri: The Surgical Strike\",\"Pain & Glory\",\"Annabelle Comes Home\",\"Climax\",\"Cam\",\"Crawl\",\"Dolemite Is My Name\",\"Child's Play\",\"The Dead Don't Die\",\"Midsommar\",\"The Princess Switch\",\"Kabir Singh\",\"El Camino: A Breaking Bad Movie\",\"Between Two Ferns: The Movie\",\"Fyre\",\"Black Mirror: Bandersnatch\",\"Leaving Neverland\"],\"runtimeMinutes\":{\"__ndarray__\":\"ZAAAAHoAAACEAAAAawAAAGUAAABjAAAAdQAAAJgAAABjAAAAawAAAFkAAACNAAAAeAAAAFoAAACMAAAAcAAAAFUAAAB8AAAAXQAAAFsAAAB3AAAAggAAAH4AAACPAAAAfQAAAGYAAABqAAAAiAAAAGMAAABwAAAAgAAAAGkAAABhAAAAbQAAAIwAAACGAAAAhgAAAHoAAACEAAAAmAAAAGQAAAB4AAAAeQAAAGkAAABnAAAAfQAAAGsAAAB4AAAAcgAAAHwAAABoAAAAaAAAAJkAAABZAAAAbgAAAGYAAABmAAAAbwAAAGIAAABkAAAAVQAAAHwAAABzAAAAXQAAAGQAAACMAAAAewAAAGgAAAB4AAAAaQAAAF8AAABgAAAAZQAAAHAAAABiAAAAbAAAAGsAAAB2AAAAbwAAAIQAAAB5AAAAhwAAAGkAAABrAAAAYwAAAHAAAABtAAAAmAAAAGgAAACGAAAAaQAAAHYAAAB7AAAAlQAAALUAAABrAAAAgQAAAGAAAABjAAAAYQAAAGEAAABfAAAAbwAAAGkAAACPAAAAXAAAAG4AAAB0AAAAbwAAAF4AAABoAAAAagAAAHUAAABtAAAAeAAAAGUAAAByAAAAWQAAAFwAAAB3AAAAcQAAAFsAAABxAAAAbgAAAIAAAACTAAAAXQAAAIUAAAB6AAAAYQAAAIEAAABeAAAAggAAAHoAAAB9AAAAlAAAAHcAAAB2AAAAZQAAAFYAAABfAAAAbgAAAG4AAABzAAAAegAAAGEAAABxAAAAYgAAAGkAAABeAAAAZwAAAGQAAAB7AAAAdwAAAG4AAABuAAAAYwAAAIUAAACYAAAAXwAAAFUAAABpAAAAYAAAAHAAAABdAAAAiwAAAHcAAABnAAAAZgAAAGkAAABhAAAAYAAAAF4AAABwAAAAXwAAAGgAAABjAAAAaQAAAHwAAACkAAAAbQAAAKQAAAB2AAAAeQAAAGIAAACAAAAAgwAAAIcAAABgAAAAeQAAAFsAAAB0AAAAggAAAGUAAABbAAAAhAAAAHIAAABxAAAAYAAAAIEAAACCAAAAegAAAIUAAACAAAAAmwAAAHQAAABqAAAAnwAAAGQAAABsAAAAYAAAAKQAAABZAAAAcQAAAI0AAABaAAAAdQAAAHkAAAB9AAAAVQAAAIQAAABnAAAAZAAAAG8AAABuAAAAXgAAAIkAAABiAAAAdAAAAIEAAACBAAAAZQAAAHQAAABoAAAAgAAAAIYAAAByAAAAWQAAAG8AAACCAAAAVwAAAHkAAABzAAAAXQAAAGEAAAB1AAAAcQAAAIoAAAB3AAAAoQAAAHkAAABiAAAAYgAAAJ4AAACMAAAAXwAAAI8AAACUAAAAegAAAFoAAABaAAAAhwAAAKkAAABlAAAAqgAAAHYAAACgAAAAVQAAAHcAAACKAAAAfQAAAF4AAABgAAAAbgAAAGYAAABeAAAAlgAAAHwAAABdAAAAWgAAAFoAAABkAAAAfwAAAF8AAACbAAAAnAAAAGMAAABjAAAAdAAAAGQAAACMAAAAeQAAAHQAAACLAAAAgAAAAHMAAAB2AAAAZAAAAGcAAABZAAAAaAAAAH4AAACKAAAAcQAAAGoAAABhAAAAXgAAAFcAAAB1AAAAWgAAAGgAAACTAAAAZQAAAK0AAAB6AAAAUgAAAGEAAABaAAAA8AAAAA==\",\"dtype\":\"int32\",\"order\":\"little\",\"shape\":[319]},\"startYear\":{\"__ndarray__\":\"4gcAAOMHAADjBwAA4wcAAOMHAADiBwAA4wcAAOIHAADiBwAA4gcAAOMHAADiBwAA4gcAAOIHAADiBwAA4gcAAOIHAADiBwAA4wcAAOIHAADiBwAA4gcAAOIHAADiBwAA4wcAAOMHAADiBwAA4gcAAOMHAADiBwAA4gcAAOIHAADjBwAA4gcAAOIHAADiBwAA4gcAAOIHAADjBwAA4wcAAOMHAADiBwAA4wcAAOIHAADiBwAA4wcAAOIHAADjBwAA4wcAAOIHAADjBwAA4gcAAOMHAADjBwAA4wcAAOIHAADiBwAA4gcAAOIHAADiBwAA4gcAAOIHAADiBwAA4gcAAOIHAADiBwAA4wcAAOIHAADiBwAA4gcAAOIHAADjBwAA4gcAAOMHAADiBwAA4wcAAOMHAADiBwAA4gcAAOMHAADiBwAA4gcAAOIHAADiBwAA4gcAAOMHAADiBwAA4gcAAOIHAADiBwAA4wcAAOMHAADjBwAA4gcAAOMHAADiBwAA4gcAAOIHAADjBwAA4gcAAOMHAADiBwAA4wcAAOIHAADiBwAA4wcAAOIHAADiBwAA4gcAAOIHAADiBwAA4gcAAOIHAADiBwAA4gcAAOMHAADiBwAA4gcAAOIHAADjBwAA4gcAAOIHAADiBwAA4gcAAOIHAADiBwAA4wcAAOIHAADiBwAA4gcAAOMHAADiBwAA4gcAAOIHAADiBwAA4gcAAOIHAADiBwAA4gcAAOMHAADiBwAA4gcAAOIHAADiBwAA4gcAAOIHAADiBwAA4wcAAOIHAADjBwAA4gcAAOIHAADiBwAA4gcAAOIHAADjBwAA4gcAAOIHAADjBwAA4gcAAOIHAADiBwAA4gcAAOIHAADiBwAA4gcAAOMHAADiBwAA4gcAAOIHAADiBwAA4gcAAOIHAADiBwAA4wcAAOMHAADjBwAA4gcAAOMHAADiBwAA4wcAAOIHAADjBwAA4gcAAOIHAADjBwAA4wcAAOIHAADiBwAA4wcAAOIHAADiBwAA4gcAAOIHAADiBwAA4gcAAOIHAADjBwAA4gcAAOMHAADiBwAA4wcAAOIHAADjBwAA4gcAAOMHAADjBwAA4gcAAOIHAADjBwAA4gcAAOIHAADiBwAA4wcAAOIHAADiBwAA4gcAAOIHAADiBwAA4gcAAOMHAADiBwAA4gcAAOIHAADiBwAA4gcAAOMHAADiBwAA4gcAAOMHAADiBwAA4gcAAOMHAADiBwAA4gcAAOIHAADiBwAA4gcAAOIHAADiBwAA4gcAAOIHAADiBwAA4gcAAOIHAADiBwAA4wcAAOIHAADiBwAA4wcAAOIHAADiBwAA4gcAAOIHAADiBwAA4gcAAOIHAADiBwAA4wcAAOMHAADjBwAA4gcAAOMHAADjBwAA4gcAAOIHAADiBwAA4gcAAOMHAADiBwAA4wcAAOIHAADiBwAA4gcAAOIHAADiBwAA4wcAAOIHAADjBwAA4wcAAOIHAADiBwAA4gcAAOMHAADjBwAA4gcAAOIHAADjBwAA4gcAAOIHAADjBwAA4gcAAOMHAADiBwAA4gcAAOMHAADjBwAA4wcAAOMHAADjBwAA4gcAAOIHAADjBwAA4wcAAOMHAADiBwAA4gcAAOMHAADjBwAA4wcAAOMHAADjBwAA4gcAAOMHAADjBwAA4wcAAOMHAADiBwAA4wcAAA==\",\"dtype\":\"int32\",\"order\":\"little\",\"shape\":[319]},\"tconst\":[\"tt0360556\",\"tt0437086\",\"tt0448115\",\"tt0800325\",\"tt0837563\",\"tt0859635\",\"tt1025100\",\"tt1034415\",\"tt1072748\",\"tt1137450\",\"tt1206885\",\"tt1213641\",\"tt1226837\",\"tt1255919\",\"tt1259528\",\"tt1270797\",\"tt1285009\",\"tt1289403\",\"tt1298644\",\"tt1308728\",\"tt1365519\",\"tt1413492\",\"tt1464763\",\"tt1477834\",\"tt1488606\",\"tt1489887\",\"tt1502407\",\"tt1517451\",\"tt1560220\",\"tt1563742\",\"tt1571234\",\"tt1590193\",\"tt1618434\",\"tt1620680\",\"tt1677720\",\"tt1727824\",\"tt1825683\",\"tt1846589\",\"tt1860242\",\"tt1950186\",\"tt1979376\",\"tt2011311\",\"tt2066051\",\"tt2119543\",\"tt2126357\",\"tt2139881\",\"tt2231461\",\"tt2274648\",\"tt2283336\",\"tt2328900\",\"tt2386490\",\"tt2388771\",\"tt2395469\",\"tt2452244\",\"tt2481498\",\"tt2531344\",\"tt2548396\",\"tt2557478\",\"tt2639336\",\"tt2704998\",\"tt2709692\",\"tt2737304\",\"tt2798920\",\"tt2837574\",\"tt2854926\",\"tt2873282\",\"tt2935510\",\"tt2990140\",\"tt3104988\",\"tt3120280\",\"tt3201640\",\"tt3256226\",\"tt3317234\",\"tt3361792\",\"tt3385524\",\"tt3387520\",\"tt3513498\",\"tt3606756\",\"tt3721964\",\"tt3741700\",\"tt3766354\",\"tt3778644\",\"tt3799232\",\"tt3829266\",\"tt3846674\",\"tt3861390\",\"tt3892172\",\"tt4003440\",\"tt4073790\",\"tt4123430\",\"tt4126476\",\"tt4139588\",\"tt4154664\",\"tt4154756\",\"tt4154796\",\"tt4154916\",\"tt4218572\",\"tt4244998\",\"tt4332232\",\"tt4357394\",\"tt4364194\",\"tt4463816\",\"tt4463894\",\"tt4477536\",\"tt4500922\",\"tt4504044\",\"tt4530422\",\"tt4532826\",\"tt4537896\",\"tt4560436\",\"tt4575576\",\"tt4595882\",\"tt4633694\",\"tt4669264\",\"tt4669788\",\"tt4687108\",\"tt4701182\",\"tt4701724\",\"tt4761916\",\"tt4777008\",\"tt4779682\",\"tt4799066\",\"tt4827558\",\"tt4878482\",\"tt4881806\",\"tt4912910\",\"tt4913966\",\"tt4964788\",\"tt4971344\",\"tt4986098\",\"tt4995776\",\"tt5001754\",\"tt5028340\",\"tt5052474\",\"tt5057140\",\"tt5080556\",\"tt5083738\",\"tt5095030\",\"tt5104604\",\"tt5113040\",\"tt5117670\",\"tt5164214\",\"tt5164432\",\"tt5177088\",\"tt5208252\",\"tt5220122\",\"tt5246700\",\"tt5294518\",\"tt5304992\",\"tt5316540\",\"tt5360952\",\"tt5397194\",\"tt5461944\",\"tt5463162\",\"tt5501104\",\"tt5503686\",\"tt5523010\",\"tt5580266\",\"tt5606664\",\"tt5610554\",\"tt5613484\",\"tt5619332\",\"tt5670152\",\"tt5688932\",\"tt5690360\",\"tt5691670\",\"tt5719748\",\"tt5726086\",\"tt5758778\",\"tt5774450\",\"tt5783956\",\"tt5814060\",\"tt5834262\",\"tt5848272\",\"tt5865326\",\"tt5884052\",\"tt5886046\",\"tt5929754\",\"tt5932728\",\"tt5935704\",\"tt5968394\",\"tt5970844\",\"tt6105098\",\"tt6116856\",\"tt6133466\",\"tt6139732\",\"tt6146586\",\"tt6155172\",\"tt6182908\",\"tt6189022\",\"tt6195094\",\"tt6212478\",\"tt6217306\",\"tt6218358\",\"tt6257174\",\"tt6266538\",\"tt6288124\",\"tt6292852\",\"tt6306064\",\"tt6320628\",\"tt6343314\",\"tt6398184\",\"tt6412452\",\"tt6450804\",\"tt6452574\",\"tt6472976\",\"tt6476140\",\"tt6491178\",\"tt6499752\",\"tt6513120\",\"tt6513656\",\"tt6527426\",\"tt6543652\",\"tt6565702\",\"tt6628394\",\"tt6644200\",\"tt6663582\",\"tt6679794\",\"tt6697582\",\"tt6742252\",\"tt6751668\",\"tt6768578\",\"tt6772950\",\"tt6781982\",\"tt6791096\",\"tt6802308\",\"tt6806448\",\"tt6820256\",\"tt6821012\",\"tt6823368\",\"tt6826438\",\"tt6850820\",\"tt6857112\",\"tt6857166\",\"tt6908274\",\"tt6910020\",\"tt6911608\",\"tt6921996\",\"tt6938828\",\"tt6966692\",\"tt6987770\",\"tt6998518\",\"tt7008872\",\"tt7014006\",\"tt7026672\",\"tt7040874\",\"tt7043012\",\"tt7098658\",\"tt7125860\",\"tt7131622\",\"tt7137380\",\"tt7153766\",\"tt7170950\",\"tt7212726\",\"tt7218518\",\"tt7242142\",\"tt7280898\",\"tt7282468\",\"tt7286456\",\"tt7315484\",\"tt7343762\",\"tt7349662\",\"tt7349950\",\"tt7374948\",\"tt7392212\",\"tt7401588\",\"tt7431594\",\"tt7451284\",\"tt7456310\",\"tt7581902\",\"tt7605074\",\"tt7608028\",\"tt7664504\",\"tt7668842\",\"tt7668870\",\"tt7681902\",\"tt7721800\",\"tt7725596\",\"tt7734218\",\"tt7752126\",\"tt7772580\",\"tt7775622\",\"tt7784604\",\"tt7798634\",\"tt7825208\",\"tt7838252\",\"tt7905466\",\"tt7958736\",\"tt7959026\",\"tt7961060\",\"tt7984766\",\"tt8075192\",\"tt8079248\",\"tt8108198\",\"tt8108202\",\"tt8110640\",\"tt8130968\",\"tt8155288\",\"tt8169446\",\"tt8201170\",\"tt8239946\",\"tt8267604\",\"tt8291224\",\"tt8291806\",\"tt8350360\",\"tt8359848\",\"tt8361028\",\"tt8364368\",\"tt8526872\",\"tt8663516\",\"tt8695030\",\"tt8772262\",\"tt8954732\",\"tt8983202\",\"tt9243946\",\"tt9398640\",\"tt9412098\",\"tt9495224\",\"tt9573980\"],\"titleType\":[\"movie\",\"movie\",\"movie\",\"movie\",\"movie\",\"movie\",\"movie\",\"movie\",\"movie\",\"movie\",\"movie\",\"movie\",\"movie\",\"movie\",\"movie\",\"movie\",\"movie\",\"movie\",\"movie\",\"movie\",\"movie\",\"movie\",\"movie\",\"movie\",\"movie\",\"movie\",\"movie\",\"movie\",\"movie\",\"movie\",\"movie\",\"movie\",\"movie\",\"movie\",\"movie\",\"movie\",\"movie\",\"movie\",\"movie\",\"movie\",\"movie\",\"movie\",\"movie\",\"movie\",\"movie\",\"movie\",\"movie\",\"movie\",\"movie\",\"movie\",\"movie\",\"movie\",\"movie\",\"movie\",\"movie\",\"movie\",\"movie\",\"movie\",\"movie\",\"movie\",\"movie\",\"movie\",\"movie\",\"movie\",\"movie\",\"movie\",\"movie\",\"movie\",\"movie\",\"movie\",\"movie\",\"movie\",\"movie\",\"movie\",\"movie\",\"movie\",\"movie\",\"movie\",\"movie\",\"movie\",\"movie\",\"movie\",\"movie\",\"movie\",\"movie\",\"movie\",\"movie\",\"movie\",\"movie\",\"movie\",\"movie\",\"movie\",\"movie\",\"movie\",\"movie\",\"movie\",\"movie\",\"movie\",\"movie\",\"movie\",\"movie\",\"movie\",\"movie\",\"movie\",\"movie\",\"movie\",\"movie\",\"movie\",\"movie\",\"movie\",\"movie\",\"movie\",\"movie\",\"movie\",\"movie\",\"movie\",\"movie\",\"movie\",\"movie\",\"movie\",\"movie\",\"movie\",\"movie\",\"movie\",\"movie\",\"movie\",\"movie\",\"movie\",\"movie\",\"movie\",\"movie\",\"movie\",\"movie\",\"movie\",\"movie\",\"movie\",\"movie\",\"movie\",\"movie\",\"movie\",\"movie\",\"movie\",\"movie\",\"movie\",\"movie\",\"movie\",\"movie\",\"movie\",\"movie\",\"movie\",\"movie\",\"movie\",\"movie\",\"movie\",\"movie\",\"movie\",\"movie\",\"movie\",\"movie\",\"movie\",\"movie\",\"movie\",\"movie\",\"movie\",\"movie\",\"movie\",\"movie\",\"movie\",\"movie\",\"movie\",\"movie\",\"movie\",\"movie\",\"movie\",\"movie\",\"movie\",\"movie\",\"movie\",\"movie\",\"movie\",\"movie\",\"movie\",\"movie\",\"movie\",\"movie\",\"movie\",\"movie\",\"movie\",\"movie\",\"movie\",\"movie\",\"movie\",\"movie\",\"movie\",\"movie\",\"movie\",\"movie\",\"movie\",\"movie\",\"movie\",\"movie\",\"movie\",\"movie\",\"movie\",\"movie\",\"movie\",\"movie\",\"movie\",\"movie\",\"movie\",\"movie\",\"movie\",\"movie\",\"movie\",\"movie\",\"movie\",\"movie\",\"movie\",\"movie\",\"movie\",\"movie\",\"movie\",\"movie\",\"movie\",\"movie\",\"movie\",\"movie\",\"movie\",\"movie\",\"movie\",\"movie\",\"movie\",\"movie\",\"movie\",\"movie\",\"movie\",\"movie\",\"movie\",\"movie\",\"movie\",\"movie\",\"movie\",\"movie\",\"movie\",\"movie\",\"movie\",\"movie\",\"movie\",\"movie\",\"movie\",\"movie\",\"movie\",\"movie\",\"movie\",\"movie\",\"movie\",\"movie\",\"movie\",\"movie\",\"movie\",\"movie\",\"movie\",\"movie\",\"movie\",\"movie\",\"movie\",\"movie\",\"movie\",\"movie\",\"movie\",\"movie\",\"movie\",\"movie\",\"movie\",\"movie\",\"movie\",\"movie\",\"movie\",\"movie\",\"movie\",\"movie\",\"movie\",\"movie\",\"movie\",\"movie\",\"movie\",\"movie\",\"movie\",\"movie\",\"movie\",\"movie\",\"movie\",\"movie\",\"movie\",\"movie\",\"movie\",\"movie\",\"movie\",\"movie\",\"movie\",\"movie\",\"movie\",\"movie\",\"movie\",\"movie\",\"movie\",\"movie\",\"movie\",\"movie\",\"movie\",\"movie\",\"movie\",\"movie\",\"movie\",\"movie\",\"movie\",\"movie\",\"movie\",\"movie\"]},\"selected\":{\"id\":\"3467\"},\"selection_policy\":{\"id\":\"3466\"}},\"id\":\"3293\",\"type\":\"ColumnDataSource\"},{\"attributes\":{\"tools\":[{\"id\":\"3313\"},{\"id\":\"3314\"},{\"id\":\"3315\"},{\"id\":\"3316\"},{\"id\":\"3317\"},{\"id\":\"3318\"},{\"id\":\"3335\"}]},\"id\":\"3320\",\"type\":\"Toolbar\"},{\"attributes\":{\"end\":240,\"start\":82},\"id\":\"3327\",\"type\":\"Range1d\"},{\"attributes\":{\"end\":10},\"id\":\"3328\",\"type\":\"Range1d\"}],\"root_ids\":[\"3294\"]},\"title\":\"Bokeh Application\",\"version\":\"2.4.2\"}};\n  const render_items = [{\"docid\":\"5aca67e9-1b00-4e70-9258-d773cec2e1b7\",\"root_ids\":[\"3294\"],\"roots\":{\"3294\":\"df6a2191-56dd-4acf-8bb5-80da0cd98b63\"}}];\n  root.Bokeh.embed.embed_items_notebook(docs_json, render_items);\n\n  }\n  if (root.Bokeh !== undefined) {\n    embed_document(root);\n  } else {\n    let attempts = 0;\n    const timer = setInterval(function(root) {\n      if (root.Bokeh !== undefined) {\n        clearInterval(timer);\n        embed_document(root);\n      } else {\n        attempts++;\n        if (attempts > 100) {\n          clearInterval(timer);\n          console.log(\"Bokeh: ERROR: Unable to run BokehJS code because BokehJS library is missing\");\n        }\n      }\n    }, 10, root)\n  }\n})(window);",
      "application/vnd.bokehjs_exec.v0+json": ""
     },
     "metadata": {
      "application/vnd.bokehjs_exec.v0+json": {
       "id": "3294"
      }
     },
     "output_type": "display_data"
    }
   ],
   "source": [
    "from bokeh.plotting import figure, show, save, output_file\n",
    "from bokeh.layouts import layout\n",
    "from bokeh.models import Div, RangeSlider, Spinner,Span, Label, LabelSet, ColumnDataSource, NumeralTickFormatter, HoverTool\n",
    "from bokeh.models.callbacks import CustomJS\n",
    "from bokeh.models import Range1d\n",
    "\n",
    "datasource = ColumnDataSource(film2)\n",
    "\n",
    "p = figure(title=\"x\", x_axis_label=\"Minuti\", y_axis_label=\"Rating\")\n",
    "p.x_range = Range1d(film2[\"runtimeMinutes\"].min(), film2[\"runtimeMinutes\"].max()) \n",
    "p.y_range = Range1d(0, 10) \n",
    "tooltips = [\n",
    "  ('Durata(Min)','@runtimeMinutes'),\n",
    "  ('Media Voti','@averageRating'),\n",
    "  ('Titolo','@primaryTitle')\n",
    "]\n",
    "p.circle( x=\"runtimeMinutes\", y  = \"averageRating\", size=6, source=datasource)\n",
    "p.add_tools(HoverTool(tooltips = tooltips))\n",
    "riga_avg_rating = Span(location=avg_rating, dimension=\"width\", line_width=3, line_color=\"#AAAAAA\")\n",
    "riga_avg_minutes = Span(location=avg_minutes, dimension=\"height\", line_width=3, line_color=\"#AAAAAA\")\n",
    "p.add_layout(riga_avg_rating)\n",
    "p.add_layout(riga_avg_minutes)\n",
    "show(p)"
   ]
  }
 ],
 "metadata": {
  "interpreter": {
   "hash": "22f5c8559ee5d16991f9240bd2c1a679b03627a0e94304b0bc26d90d3a5752ce"
  },
  "kernelspec": {
   "display_name": "Python 3.9.7 64-bit ('MainEnv': conda)",
   "language": "python",
   "name": "python3"
  },
  "language_info": {
   "codemirror_mode": {
    "name": "ipython",
    "version": 3
   },
   "file_extension": ".py",
   "mimetype": "text/x-python",
   "name": "python",
   "nbconvert_exporter": "python",
   "pygments_lexer": "ipython3",
   "version": "3.9.7"
  },
  "orig_nbformat": 4
 },
 "nbformat": 4,
 "nbformat_minor": 2
}
