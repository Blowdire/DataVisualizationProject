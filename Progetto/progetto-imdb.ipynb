{
 "cells": [
  {
   "cell_type": "markdown",
   "metadata": {},
   "source": [
    "# Data Visualization - IMDb"
   ]
  },
  {
   "cell_type": "markdown",
   "metadata": {},
   "source": [
    "## Intro"
   ]
  },
  {
   "cell_type": "markdown",
   "metadata": {},
   "source": [
    "Obiettivo è indagare la correlazione tra la durata dei film e il rating medio. Come per la musica, chi vede i film se sono troppo lunghi o troppo corti ne è influenzato?"
   ]
  },
  {
   "cell_type": "markdown",
   "metadata": {},
   "source": [
    "https://www.imdb.com/interfaces/"
   ]
  },
  {
   "cell_type": "markdown",
   "metadata": {},
   "source": [
    "## Importazione e Caricamento"
   ]
  },
  {
   "cell_type": "code",
   "execution_count": 1,
   "metadata": {},
   "outputs": [],
   "source": [
    "import pandas as pd\n",
    "import numpy as np\n",
    "import matplotlib.pyplot as plt\n",
    "import seaborn as sns\n",
    "%matplotlib inline"
   ]
  },
  {
   "cell_type": "code",
   "execution_count": 2,
   "metadata": {},
   "outputs": [],
   "source": [
    "dataframeTitoli = pd.read_csv(\"./data/title_basics.tsv\", sep=\"\\t\", low_memory=False)\n",
    "dataframeRating = pd.read_csv(\"./data/title_ratings.tsv\", sep=\"\\t\", low_memory=False)"
   ]
  },
  {
   "cell_type": "code",
   "execution_count": 3,
   "metadata": {},
   "outputs": [
    {
     "data": {
      "text/html": [
       "<div>\n",
       "<style scoped>\n",
       "    .dataframe tbody tr th:only-of-type {\n",
       "        vertical-align: middle;\n",
       "    }\n",
       "\n",
       "    .dataframe tbody tr th {\n",
       "        vertical-align: top;\n",
       "    }\n",
       "\n",
       "    .dataframe thead th {\n",
       "        text-align: right;\n",
       "    }\n",
       "</style>\n",
       "<table border=\"1\" class=\"dataframe\">\n",
       "  <thead>\n",
       "    <tr style=\"text-align: right;\">\n",
       "      <th></th>\n",
       "      <th>tconst</th>\n",
       "      <th>titleType</th>\n",
       "      <th>primaryTitle</th>\n",
       "      <th>originalTitle</th>\n",
       "      <th>isAdult</th>\n",
       "      <th>startYear</th>\n",
       "      <th>endYear</th>\n",
       "      <th>runtimeMinutes</th>\n",
       "      <th>genres</th>\n",
       "    </tr>\n",
       "  </thead>\n",
       "  <tbody>\n",
       "    <tr>\n",
       "      <th>0</th>\n",
       "      <td>tt0000001</td>\n",
       "      <td>short</td>\n",
       "      <td>Carmencita</td>\n",
       "      <td>Carmencita</td>\n",
       "      <td>0</td>\n",
       "      <td>1894</td>\n",
       "      <td>\\N</td>\n",
       "      <td>1</td>\n",
       "      <td>Documentary,Short</td>\n",
       "    </tr>\n",
       "    <tr>\n",
       "      <th>1</th>\n",
       "      <td>tt0000002</td>\n",
       "      <td>short</td>\n",
       "      <td>Le clown et ses chiens</td>\n",
       "      <td>Le clown et ses chiens</td>\n",
       "      <td>0</td>\n",
       "      <td>1892</td>\n",
       "      <td>\\N</td>\n",
       "      <td>5</td>\n",
       "      <td>Animation,Short</td>\n",
       "    </tr>\n",
       "    <tr>\n",
       "      <th>2</th>\n",
       "      <td>tt0000003</td>\n",
       "      <td>short</td>\n",
       "      <td>Pauvre Pierrot</td>\n",
       "      <td>Pauvre Pierrot</td>\n",
       "      <td>0</td>\n",
       "      <td>1892</td>\n",
       "      <td>\\N</td>\n",
       "      <td>4</td>\n",
       "      <td>Animation,Comedy,Romance</td>\n",
       "    </tr>\n",
       "    <tr>\n",
       "      <th>3</th>\n",
       "      <td>tt0000004</td>\n",
       "      <td>short</td>\n",
       "      <td>Un bon bock</td>\n",
       "      <td>Un bon bock</td>\n",
       "      <td>0</td>\n",
       "      <td>1892</td>\n",
       "      <td>\\N</td>\n",
       "      <td>12</td>\n",
       "      <td>Animation,Short</td>\n",
       "    </tr>\n",
       "    <tr>\n",
       "      <th>4</th>\n",
       "      <td>tt0000005</td>\n",
       "      <td>short</td>\n",
       "      <td>Blacksmith Scene</td>\n",
       "      <td>Blacksmith Scene</td>\n",
       "      <td>0</td>\n",
       "      <td>1893</td>\n",
       "      <td>\\N</td>\n",
       "      <td>1</td>\n",
       "      <td>Comedy,Short</td>\n",
       "    </tr>\n",
       "  </tbody>\n",
       "</table>\n",
       "</div>"
      ],
      "text/plain": [
       "      tconst titleType            primaryTitle           originalTitle  \\\n",
       "0  tt0000001     short              Carmencita              Carmencita   \n",
       "1  tt0000002     short  Le clown et ses chiens  Le clown et ses chiens   \n",
       "2  tt0000003     short          Pauvre Pierrot          Pauvre Pierrot   \n",
       "3  tt0000004     short             Un bon bock             Un bon bock   \n",
       "4  tt0000005     short        Blacksmith Scene        Blacksmith Scene   \n",
       "\n",
       "  isAdult startYear endYear runtimeMinutes                    genres  \n",
       "0       0      1894      \\N              1         Documentary,Short  \n",
       "1       0      1892      \\N              5           Animation,Short  \n",
       "2       0      1892      \\N              4  Animation,Comedy,Romance  \n",
       "3       0      1892      \\N             12           Animation,Short  \n",
       "4       0      1893      \\N              1              Comedy,Short  "
      ]
     },
     "execution_count": 3,
     "metadata": {},
     "output_type": "execute_result"
    }
   ],
   "source": [
    "dataframeTitoli.head()"
   ]
  },
  {
   "cell_type": "code",
   "execution_count": 4,
   "metadata": {},
   "outputs": [
    {
     "data": {
      "text/html": [
       "<div>\n",
       "<style scoped>\n",
       "    .dataframe tbody tr th:only-of-type {\n",
       "        vertical-align: middle;\n",
       "    }\n",
       "\n",
       "    .dataframe tbody tr th {\n",
       "        vertical-align: top;\n",
       "    }\n",
       "\n",
       "    .dataframe thead th {\n",
       "        text-align: right;\n",
       "    }\n",
       "</style>\n",
       "<table border=\"1\" class=\"dataframe\">\n",
       "  <thead>\n",
       "    <tr style=\"text-align: right;\">\n",
       "      <th></th>\n",
       "      <th>tconst</th>\n",
       "      <th>averageRating</th>\n",
       "      <th>numVotes</th>\n",
       "    </tr>\n",
       "  </thead>\n",
       "  <tbody>\n",
       "    <tr>\n",
       "      <th>0</th>\n",
       "      <td>tt0000001</td>\n",
       "      <td>5.7</td>\n",
       "      <td>1849</td>\n",
       "    </tr>\n",
       "    <tr>\n",
       "      <th>1</th>\n",
       "      <td>tt0000002</td>\n",
       "      <td>6.0</td>\n",
       "      <td>241</td>\n",
       "    </tr>\n",
       "    <tr>\n",
       "      <th>2</th>\n",
       "      <td>tt0000003</td>\n",
       "      <td>6.5</td>\n",
       "      <td>1616</td>\n",
       "    </tr>\n",
       "    <tr>\n",
       "      <th>3</th>\n",
       "      <td>tt0000004</td>\n",
       "      <td>6.0</td>\n",
       "      <td>156</td>\n",
       "    </tr>\n",
       "    <tr>\n",
       "      <th>4</th>\n",
       "      <td>tt0000005</td>\n",
       "      <td>6.2</td>\n",
       "      <td>2442</td>\n",
       "    </tr>\n",
       "  </tbody>\n",
       "</table>\n",
       "</div>"
      ],
      "text/plain": [
       "      tconst  averageRating  numVotes\n",
       "0  tt0000001            5.7      1849\n",
       "1  tt0000002            6.0       241\n",
       "2  tt0000003            6.5      1616\n",
       "3  tt0000004            6.0       156\n",
       "4  tt0000005            6.2      2442"
      ]
     },
     "execution_count": 4,
     "metadata": {},
     "output_type": "execute_result"
    }
   ],
   "source": [
    "dataframeRating.head()"
   ]
  },
  {
   "cell_type": "code",
   "execution_count": 5,
   "metadata": {},
   "outputs": [],
   "source": [
    "mergedDataframe = pd.merge(dataframeTitoli, dataframeRating, on=\"tconst\")"
   ]
  },
  {
   "cell_type": "code",
   "execution_count": 6,
   "metadata": {},
   "outputs": [
    {
     "data": {
      "text/plain": [
       "(1206952, 11)"
      ]
     },
     "execution_count": 6,
     "metadata": {},
     "output_type": "execute_result"
    }
   ],
   "source": [
    "mergedDataframe.shape"
   ]
  },
  {
   "cell_type": "code",
   "execution_count": 7,
   "metadata": {},
   "outputs": [
    {
     "data": {
      "text/html": [
       "<div>\n",
       "<style scoped>\n",
       "    .dataframe tbody tr th:only-of-type {\n",
       "        vertical-align: middle;\n",
       "    }\n",
       "\n",
       "    .dataframe tbody tr th {\n",
       "        vertical-align: top;\n",
       "    }\n",
       "\n",
       "    .dataframe thead th {\n",
       "        text-align: right;\n",
       "    }\n",
       "</style>\n",
       "<table border=\"1\" class=\"dataframe\">\n",
       "  <thead>\n",
       "    <tr style=\"text-align: right;\">\n",
       "      <th></th>\n",
       "      <th>tconst</th>\n",
       "      <th>titleType</th>\n",
       "      <th>primaryTitle</th>\n",
       "      <th>originalTitle</th>\n",
       "      <th>isAdult</th>\n",
       "      <th>startYear</th>\n",
       "      <th>endYear</th>\n",
       "      <th>runtimeMinutes</th>\n",
       "      <th>genres</th>\n",
       "      <th>averageRating</th>\n",
       "      <th>numVotes</th>\n",
       "    </tr>\n",
       "  </thead>\n",
       "  <tbody>\n",
       "    <tr>\n",
       "      <th>0</th>\n",
       "      <td>tt0000001</td>\n",
       "      <td>short</td>\n",
       "      <td>Carmencita</td>\n",
       "      <td>Carmencita</td>\n",
       "      <td>0</td>\n",
       "      <td>1894</td>\n",
       "      <td>\\N</td>\n",
       "      <td>1</td>\n",
       "      <td>Documentary,Short</td>\n",
       "      <td>5.7</td>\n",
       "      <td>1849</td>\n",
       "    </tr>\n",
       "    <tr>\n",
       "      <th>1</th>\n",
       "      <td>tt0000002</td>\n",
       "      <td>short</td>\n",
       "      <td>Le clown et ses chiens</td>\n",
       "      <td>Le clown et ses chiens</td>\n",
       "      <td>0</td>\n",
       "      <td>1892</td>\n",
       "      <td>\\N</td>\n",
       "      <td>5</td>\n",
       "      <td>Animation,Short</td>\n",
       "      <td>6.0</td>\n",
       "      <td>241</td>\n",
       "    </tr>\n",
       "    <tr>\n",
       "      <th>2</th>\n",
       "      <td>tt0000003</td>\n",
       "      <td>short</td>\n",
       "      <td>Pauvre Pierrot</td>\n",
       "      <td>Pauvre Pierrot</td>\n",
       "      <td>0</td>\n",
       "      <td>1892</td>\n",
       "      <td>\\N</td>\n",
       "      <td>4</td>\n",
       "      <td>Animation,Comedy,Romance</td>\n",
       "      <td>6.5</td>\n",
       "      <td>1616</td>\n",
       "    </tr>\n",
       "    <tr>\n",
       "      <th>3</th>\n",
       "      <td>tt0000004</td>\n",
       "      <td>short</td>\n",
       "      <td>Un bon bock</td>\n",
       "      <td>Un bon bock</td>\n",
       "      <td>0</td>\n",
       "      <td>1892</td>\n",
       "      <td>\\N</td>\n",
       "      <td>12</td>\n",
       "      <td>Animation,Short</td>\n",
       "      <td>6.0</td>\n",
       "      <td>156</td>\n",
       "    </tr>\n",
       "    <tr>\n",
       "      <th>4</th>\n",
       "      <td>tt0000005</td>\n",
       "      <td>short</td>\n",
       "      <td>Blacksmith Scene</td>\n",
       "      <td>Blacksmith Scene</td>\n",
       "      <td>0</td>\n",
       "      <td>1893</td>\n",
       "      <td>\\N</td>\n",
       "      <td>1</td>\n",
       "      <td>Comedy,Short</td>\n",
       "      <td>6.2</td>\n",
       "      <td>2442</td>\n",
       "    </tr>\n",
       "  </tbody>\n",
       "</table>\n",
       "</div>"
      ],
      "text/plain": [
       "      tconst titleType            primaryTitle           originalTitle  \\\n",
       "0  tt0000001     short              Carmencita              Carmencita   \n",
       "1  tt0000002     short  Le clown et ses chiens  Le clown et ses chiens   \n",
       "2  tt0000003     short          Pauvre Pierrot          Pauvre Pierrot   \n",
       "3  tt0000004     short             Un bon bock             Un bon bock   \n",
       "4  tt0000005     short        Blacksmith Scene        Blacksmith Scene   \n",
       "\n",
       "  isAdult startYear endYear runtimeMinutes                    genres  \\\n",
       "0       0      1894      \\N              1         Documentary,Short   \n",
       "1       0      1892      \\N              5           Animation,Short   \n",
       "2       0      1892      \\N              4  Animation,Comedy,Romance   \n",
       "3       0      1892      \\N             12           Animation,Short   \n",
       "4       0      1893      \\N              1              Comedy,Short   \n",
       "\n",
       "   averageRating  numVotes  \n",
       "0            5.7      1849  \n",
       "1            6.0       241  \n",
       "2            6.5      1616  \n",
       "3            6.0       156  \n",
       "4            6.2      2442  "
      ]
     },
     "execution_count": 7,
     "metadata": {},
     "output_type": "execute_result"
    }
   ],
   "source": [
    "mergedDataframe.head()"
   ]
  },
  {
   "cell_type": "code",
   "execution_count": 8,
   "metadata": {},
   "outputs": [
    {
     "data": {
      "text/html": [
       "<div>\n",
       "<style scoped>\n",
       "    .dataframe tbody tr th:only-of-type {\n",
       "        vertical-align: middle;\n",
       "    }\n",
       "\n",
       "    .dataframe tbody tr th {\n",
       "        vertical-align: top;\n",
       "    }\n",
       "\n",
       "    .dataframe thead th {\n",
       "        text-align: right;\n",
       "    }\n",
       "</style>\n",
       "<table border=\"1\" class=\"dataframe\">\n",
       "  <thead>\n",
       "    <tr style=\"text-align: right;\">\n",
       "      <th></th>\n",
       "      <th>tconst</th>\n",
       "      <th>titleType</th>\n",
       "      <th>primaryTitle</th>\n",
       "      <th>originalTitle</th>\n",
       "      <th>isAdult</th>\n",
       "      <th>startYear</th>\n",
       "      <th>endYear</th>\n",
       "      <th>runtimeMinutes</th>\n",
       "      <th>genres</th>\n",
       "      <th>averageRating</th>\n",
       "      <th>numVotes</th>\n",
       "    </tr>\n",
       "  </thead>\n",
       "  <tbody>\n",
       "    <tr>\n",
       "      <th>0</th>\n",
       "      <td>tt0000001</td>\n",
       "      <td>short</td>\n",
       "      <td>Carmencita</td>\n",
       "      <td>Carmencita</td>\n",
       "      <td>0</td>\n",
       "      <td>1894</td>\n",
       "      <td>\\N</td>\n",
       "      <td>1</td>\n",
       "      <td>Documentary,Short</td>\n",
       "      <td>5.7</td>\n",
       "      <td>1849</td>\n",
       "    </tr>\n",
       "    <tr>\n",
       "      <th>1</th>\n",
       "      <td>tt0000002</td>\n",
       "      <td>short</td>\n",
       "      <td>Le clown et ses chiens</td>\n",
       "      <td>Le clown et ses chiens</td>\n",
       "      <td>0</td>\n",
       "      <td>1892</td>\n",
       "      <td>\\N</td>\n",
       "      <td>5</td>\n",
       "      <td>Animation,Short</td>\n",
       "      <td>6.0</td>\n",
       "      <td>241</td>\n",
       "    </tr>\n",
       "    <tr>\n",
       "      <th>2</th>\n",
       "      <td>tt0000003</td>\n",
       "      <td>short</td>\n",
       "      <td>Pauvre Pierrot</td>\n",
       "      <td>Pauvre Pierrot</td>\n",
       "      <td>0</td>\n",
       "      <td>1892</td>\n",
       "      <td>\\N</td>\n",
       "      <td>4</td>\n",
       "      <td>Animation,Comedy,Romance</td>\n",
       "      <td>6.5</td>\n",
       "      <td>1616</td>\n",
       "    </tr>\n",
       "    <tr>\n",
       "      <th>3</th>\n",
       "      <td>tt0000004</td>\n",
       "      <td>short</td>\n",
       "      <td>Un bon bock</td>\n",
       "      <td>Un bon bock</td>\n",
       "      <td>0</td>\n",
       "      <td>1892</td>\n",
       "      <td>\\N</td>\n",
       "      <td>12</td>\n",
       "      <td>Animation,Short</td>\n",
       "      <td>6.0</td>\n",
       "      <td>156</td>\n",
       "    </tr>\n",
       "    <tr>\n",
       "      <th>4</th>\n",
       "      <td>tt0000005</td>\n",
       "      <td>short</td>\n",
       "      <td>Blacksmith Scene</td>\n",
       "      <td>Blacksmith Scene</td>\n",
       "      <td>0</td>\n",
       "      <td>1893</td>\n",
       "      <td>\\N</td>\n",
       "      <td>1</td>\n",
       "      <td>Comedy,Short</td>\n",
       "      <td>6.2</td>\n",
       "      <td>2442</td>\n",
       "    </tr>\n",
       "  </tbody>\n",
       "</table>\n",
       "</div>"
      ],
      "text/plain": [
       "      tconst titleType            primaryTitle           originalTitle  \\\n",
       "0  tt0000001     short              Carmencita              Carmencita   \n",
       "1  tt0000002     short  Le clown et ses chiens  Le clown et ses chiens   \n",
       "2  tt0000003     short          Pauvre Pierrot          Pauvre Pierrot   \n",
       "3  tt0000004     short             Un bon bock             Un bon bock   \n",
       "4  tt0000005     short        Blacksmith Scene        Blacksmith Scene   \n",
       "\n",
       "  isAdult startYear endYear runtimeMinutes                    genres  \\\n",
       "0       0      1894      \\N              1         Documentary,Short   \n",
       "1       0      1892      \\N              5           Animation,Short   \n",
       "2       0      1892      \\N              4  Animation,Comedy,Romance   \n",
       "3       0      1892      \\N             12           Animation,Short   \n",
       "4       0      1893      \\N              1              Comedy,Short   \n",
       "\n",
       "   averageRating  numVotes  \n",
       "0            5.7      1849  \n",
       "1            6.0       241  \n",
       "2            6.5      1616  \n",
       "3            6.0       156  \n",
       "4            6.2      2442  "
      ]
     },
     "execution_count": 8,
     "metadata": {},
     "output_type": "execute_result"
    }
   ],
   "source": [
    "mergedDataframe.head()"
   ]
  },
  {
   "cell_type": "markdown",
   "metadata": {},
   "source": [
    "## Data Cleaning"
   ]
  },
  {
   "cell_type": "code",
   "execution_count": 9,
   "metadata": {},
   "outputs": [
    {
     "name": "stdout",
     "output_type": "stream",
     "text": [
      "<class 'pandas.core.frame.DataFrame'>\n",
      "Int64Index: 1206952 entries, 0 to 1206951\n",
      "Data columns (total 11 columns):\n",
      " #   Column          Non-Null Count    Dtype  \n",
      "---  ------          --------------    -----  \n",
      " 0   tconst          1206952 non-null  object \n",
      " 1   titleType       1206952 non-null  object \n",
      " 2   primaryTitle    1206952 non-null  object \n",
      " 3   originalTitle   1206952 non-null  object \n",
      " 4   isAdult         1206952 non-null  object \n",
      " 5   startYear       1206952 non-null  object \n",
      " 6   endYear         1206952 non-null  object \n",
      " 7   runtimeMinutes  1206952 non-null  object \n",
      " 8   genres          1206950 non-null  object \n",
      " 9   averageRating   1206952 non-null  float64\n",
      " 10  numVotes        1206952 non-null  int64  \n",
      "dtypes: float64(1), int64(1), object(9)\n",
      "memory usage: 110.5+ MB\n"
     ]
    }
   ],
   "source": [
    "mergedDataframe.info()"
   ]
  },
  {
   "cell_type": "markdown",
   "metadata": {},
   "source": [
    "Check for null values"
   ]
  },
  {
   "cell_type": "code",
   "execution_count": 10,
   "metadata": {},
   "outputs": [
    {
     "data": {
      "text/plain": [
       "tconst            0\n",
       "titleType         0\n",
       "primaryTitle      0\n",
       "originalTitle     0\n",
       "isAdult           0\n",
       "startYear         0\n",
       "endYear           0\n",
       "runtimeMinutes    0\n",
       "genres            2\n",
       "averageRating     0\n",
       "numVotes          0\n",
       "dtype: int64"
      ]
     },
     "execution_count": 10,
     "metadata": {},
     "output_type": "execute_result"
    }
   ],
   "source": [
    "mergedDataframe.isna().sum()"
   ]
  },
  {
   "cell_type": "markdown",
   "metadata": {},
   "source": [
    "Dropping unnecessary columns"
   ]
  },
  {
   "cell_type": "code",
   "execution_count": 11,
   "metadata": {},
   "outputs": [],
   "source": [
    "mergedDataframe = mergedDataframe.drop(['isAdult', 'endYear'], axis=1)"
   ]
  },
  {
   "cell_type": "code",
   "execution_count": 12,
   "metadata": {},
   "outputs": [
    {
     "data": {
      "text/plain": [
       "Index(['tconst', 'titleType', 'primaryTitle', 'originalTitle', 'startYear',\n",
       "       'runtimeMinutes', 'genres', 'averageRating', 'numVotes'],\n",
       "      dtype='object')"
      ]
     },
     "execution_count": 12,
     "metadata": {},
     "output_type": "execute_result"
    }
   ],
   "source": [
    "mergedDataframe.columns"
   ]
  },
  {
   "cell_type": "markdown",
   "metadata": {},
   "source": [
    "Fix data types"
   ]
  },
  {
   "cell_type": "code",
   "execution_count": 13,
   "metadata": {},
   "outputs": [
    {
     "data": {
      "text/plain": [
       "tconst             object\n",
       "titleType          object\n",
       "primaryTitle       object\n",
       "originalTitle      object\n",
       "startYear          object\n",
       "runtimeMinutes     object\n",
       "genres             object\n",
       "averageRating     float64\n",
       "numVotes            int64\n",
       "dtype: object"
      ]
     },
     "execution_count": 13,
     "metadata": {},
     "output_type": "execute_result"
    }
   ],
   "source": [
    "mergedDataframe.dtypes"
   ]
  },
  {
   "cell_type": "code",
   "execution_count": 14,
   "metadata": {},
   "outputs": [],
   "source": [
    "mergedDataframe['titleType'] = pd.Categorical(mergedDataframe['titleType'])"
   ]
  },
  {
   "cell_type": "code",
   "execution_count": 15,
   "metadata": {},
   "outputs": [
    {
     "data": {
      "text/plain": [
       "Index(['movie', 'short', 'tvEpisode', 'tvMiniSeries', 'tvMovie', 'tvSeries',\n",
       "       'tvShort', 'tvSpecial', 'video', 'videoGame'],\n",
       "      dtype='object')"
      ]
     },
     "execution_count": 15,
     "metadata": {},
     "output_type": "execute_result"
    }
   ],
   "source": [
    "mergedDataframe['titleType'].cat.categories"
   ]
  },
  {
   "cell_type": "markdown",
   "metadata": {},
   "source": [
    "Problema dato da caratteri \\N presenti nel dataset"
   ]
  },
  {
   "cell_type": "code",
   "execution_count": 16,
   "metadata": {},
   "outputs": [],
   "source": [
    "mergedDataframe.runtimeMinutes = pd.to_numeric(mergedDataframe.runtimeMinutes, errors ='coerce').fillna(0).astype('int')"
   ]
  },
  {
   "cell_type": "code",
   "execution_count": 17,
   "metadata": {},
   "outputs": [
    {
     "data": {
      "text/html": [
       "<div>\n",
       "<style scoped>\n",
       "    .dataframe tbody tr th:only-of-type {\n",
       "        vertical-align: middle;\n",
       "    }\n",
       "\n",
       "    .dataframe tbody tr th {\n",
       "        vertical-align: top;\n",
       "    }\n",
       "\n",
       "    .dataframe thead th {\n",
       "        text-align: right;\n",
       "    }\n",
       "</style>\n",
       "<table border=\"1\" class=\"dataframe\">\n",
       "  <thead>\n",
       "    <tr style=\"text-align: right;\">\n",
       "      <th></th>\n",
       "      <th>tconst</th>\n",
       "      <th>titleType</th>\n",
       "      <th>primaryTitle</th>\n",
       "      <th>originalTitle</th>\n",
       "      <th>startYear</th>\n",
       "      <th>runtimeMinutes</th>\n",
       "      <th>genres</th>\n",
       "      <th>averageRating</th>\n",
       "      <th>numVotes</th>\n",
       "    </tr>\n",
       "  </thead>\n",
       "  <tbody>\n",
       "    <tr>\n",
       "      <th>1150191</th>\n",
       "      <td>tt8273150</td>\n",
       "      <td>movie</td>\n",
       "      <td>Logistics</td>\n",
       "      <td>Logistics</td>\n",
       "      <td>2012</td>\n",
       "      <td>51420</td>\n",
       "      <td>Documentary</td>\n",
       "      <td>6.1</td>\n",
       "      <td>112</td>\n",
       "    </tr>\n",
       "    <tr>\n",
       "      <th>918900</th>\n",
       "      <td>tt3854496</td>\n",
       "      <td>movie</td>\n",
       "      <td>Ambiancé</td>\n",
       "      <td>Ambiancé</td>\n",
       "      <td>2020</td>\n",
       "      <td>43200</td>\n",
       "      <td>Documentary</td>\n",
       "      <td>5.2</td>\n",
       "      <td>77</td>\n",
       "    </tr>\n",
       "    <tr>\n",
       "      <th>550886</th>\n",
       "      <td>tt12095652</td>\n",
       "      <td>video</td>\n",
       "      <td>The Longest Video on YouTube: 596.5 Hours</td>\n",
       "      <td>The Longest Video on YouTube: 596.5 Hours</td>\n",
       "      <td>2011</td>\n",
       "      <td>35791</td>\n",
       "      <td>\\N</td>\n",
       "      <td>6.8</td>\n",
       "      <td>14</td>\n",
       "    </tr>\n",
       "    <tr>\n",
       "      <th>840472</th>\n",
       "      <td>tt2659636</td>\n",
       "      <td>movie</td>\n",
       "      <td>Modern Times Forever</td>\n",
       "      <td>Modern Times Forever</td>\n",
       "      <td>2011</td>\n",
       "      <td>14400</td>\n",
       "      <td>Documentary</td>\n",
       "      <td>6.4</td>\n",
       "      <td>91</td>\n",
       "    </tr>\n",
       "    <tr>\n",
       "      <th>532256</th>\n",
       "      <td>tt11707418</td>\n",
       "      <td>tvSpecial</td>\n",
       "      <td>Svalbard Minute by Minute</td>\n",
       "      <td>Svalbard minutt for minutt</td>\n",
       "      <td>2020</td>\n",
       "      <td>13319</td>\n",
       "      <td>Adventure,Documentary</td>\n",
       "      <td>8.1</td>\n",
       "      <td>21</td>\n",
       "    </tr>\n",
       "  </tbody>\n",
       "</table>\n",
       "</div>"
      ],
      "text/plain": [
       "             tconst  titleType                               primaryTitle  \\\n",
       "1150191   tt8273150      movie                                  Logistics   \n",
       "918900    tt3854496      movie                                   Ambiancé   \n",
       "550886   tt12095652      video  The Longest Video on YouTube: 596.5 Hours   \n",
       "840472    tt2659636      movie                       Modern Times Forever   \n",
       "532256   tt11707418  tvSpecial                  Svalbard Minute by Minute   \n",
       "\n",
       "                                     originalTitle startYear  runtimeMinutes  \\\n",
       "1150191                                  Logistics      2012           51420   \n",
       "918900                                    Ambiancé      2020           43200   \n",
       "550886   The Longest Video on YouTube: 596.5 Hours      2011           35791   \n",
       "840472                        Modern Times Forever      2011           14400   \n",
       "532256                  Svalbard minutt for minutt      2020           13319   \n",
       "\n",
       "                        genres  averageRating  numVotes  \n",
       "1150191            Documentary            6.1       112  \n",
       "918900             Documentary            5.2        77  \n",
       "550886                      \\N            6.8        14  \n",
       "840472             Documentary            6.4        91  \n",
       "532256   Adventure,Documentary            8.1        21  "
      ]
     },
     "execution_count": 17,
     "metadata": {},
     "output_type": "execute_result"
    }
   ],
   "source": [
    "mergedDataframe.sort_values(by='runtimeMinutes', ascending=False).head()"
   ]
  },
  {
   "cell_type": "code",
   "execution_count": 18,
   "metadata": {},
   "outputs": [
    {
     "data": {
      "text/plain": [
       "tconst              object\n",
       "titleType         category\n",
       "primaryTitle        object\n",
       "originalTitle       object\n",
       "startYear           object\n",
       "runtimeMinutes       int32\n",
       "genres              object\n",
       "averageRating      float64\n",
       "numVotes             int64\n",
       "dtype: object"
      ]
     },
     "execution_count": 18,
     "metadata": {},
     "output_type": "execute_result"
    }
   ],
   "source": [
    "mergedDataframe.dtypes"
   ]
  },
  {
   "cell_type": "code",
   "execution_count": 19,
   "metadata": {},
   "outputs": [],
   "source": [
    "mergedDataframe.startYear = pd.to_numeric(mergedDataframe.startYear, errors ='coerce').fillna(0).astype('int')"
   ]
  },
  {
   "cell_type": "markdown",
   "metadata": {},
   "source": [
    "## Modellazione"
   ]
  },
  {
   "cell_type": "markdown",
   "metadata": {},
   "source": [
    "Risolvo criticità null values"
   ]
  },
  {
   "cell_type": "code",
   "execution_count": 20,
   "metadata": {},
   "outputs": [
    {
     "data": {
      "text/plain": [
       "(337321, 9)"
      ]
     },
     "execution_count": 20,
     "metadata": {},
     "output_type": "execute_result"
    }
   ],
   "source": [
    "mergedDataframe[mergedDataframe['runtimeMinutes'] == 0].shape"
   ]
  },
  {
   "cell_type": "markdown",
   "metadata": {},
   "source": [
    "Divisione tra movie e altri"
   ]
  },
  {
   "cell_type": "code",
   "execution_count": 53,
   "metadata": {},
   "outputs": [],
   "source": [
    "# waffle\n",
    "from pywaffle import Waffle\n",
    "num_film = 273895\n",
    "num_tot = 1206952\n",
    "num_altri = num_tot - num_film"
   ]
  },
  {
   "cell_type": "code",
   "execution_count": 54,
   "metadata": {},
   "outputs": [
    {
     "name": "stdout",
     "output_type": "stream",
     "text": [
      "22.693114556336955\n"
     ]
    }
   ],
   "source": [
    "perc_films = num_film / num_tot * 100\n",
    "print(perc_films)"
   ]
  },
  {
   "cell_type": "code",
   "execution_count": 55,
   "metadata": {},
   "outputs": [
    {
     "data": {
      "image/png": "[encoded data removed]",
      "text/plain": [
       "<Waffle size 432x288 with 1 Axes>"
      ]
     },
     "metadata": {},
     "output_type": "display_data"
    }
   ],
   "source": [
    "data = {'Film': 22.69, 'Altri': 77.31}\n",
    "fig = plt.figure(\n",
    "    FigureClass=Waffle,\n",
    "    rows=10,\n",
    "    values=data,\n",
    "    colors=(\"#006400\", \"#A9A9A9\"),\n",
    "    title={'label': 'Percentuale di film nel dataset', 'loc': 'left'},\n",
    "    labels=[\"{0} ({1}%)\".format(k, v) for k, v in data.items()],\n",
    "    legend={'loc': 'lower left', 'bbox_to_anchor': (0, -0.4), 'ncol': len(data), 'framealpha': 0}\n",
    ")\n",
    "fig.gca().set_facecolor(\"#ffffff\")\n",
    "fig.set_facecolor(\"#ffffff\")\n",
    "plt.show()"
   ]
  },
  {
   "cell_type": "code",
   "execution_count": 21,
   "metadata": {},
   "outputs": [],
   "source": [
    "FilmDataframe = mergedDataframe[mergedDataframe['titleType'] == \"movie\"]"
   ]
  },
  {
   "cell_type": "code",
   "execution_count": 22,
   "metadata": {},
   "outputs": [
    {
     "data": {
      "text/plain": [
       "(273895, 9)"
      ]
     },
     "execution_count": 22,
     "metadata": {},
     "output_type": "execute_result"
    }
   ],
   "source": [
    "FilmDataframe.shape"
   ]
  },
  {
   "cell_type": "markdown",
   "metadata": {},
   "source": [
    "Scelta anno di interesse (2021) e numero minimo di voti espressi pari a 15000"
   ]
  },
  {
   "cell_type": "code",
   "execution_count": 23,
   "metadata": {},
   "outputs": [],
   "source": [
    "film2021 = FilmDataframe[(FilmDataframe['startYear'] == 2021)]"
   ]
  },
  {
   "cell_type": "code",
   "execution_count": 24,
   "metadata": {},
   "outputs": [],
   "source": [
    "film2021 = film2021[film2021['runtimeMinutes'] != 0]"
   ]
  },
  {
   "cell_type": "code",
   "execution_count": 25,
   "metadata": {},
   "outputs": [],
   "source": [
    "film2021 = film2021[film2021['numVotes'] > 15000]"
   ]
  },
  {
   "cell_type": "code",
   "execution_count": 64,
   "metadata": {},
   "outputs": [
    {
     "data": {
      "application/vnd.plotly.v1+json": {
       "config": {
        "plotlyServerURL": "https://plot.ly"
       },
       "data": [
        {
         "alignmentgroup": "True",
         "box": {
          "visible": true
         },
         "hovertemplate": "runtimeMinutes=%{y}<extra></extra>",
         "legendgroup": "",
         "marker": {
          "color": "#636efa"
         },
         "name": "",
         "offsetgroup": "",
         "orientation": "v",
         "points": "all",
         "scalegroup": "True",
         "showlegend": false,
         "type": "violin",
         "x0": " ",
         "xaxis": "x",
         "y": [
          110,
          109,
          127,
          148,
          128,
          113,
          129,
          106,
          153,
          113,
          106,
          91,
          110,
          164,
          126,
          135,
          139,
          112,
          103,
          103,
          93,
          111,
          96,
          114,
          179,
          105,
          109,
          139,
          139,
          110,
          104,
          107,
          148,
          148,
          135,
          132,
          108,
          108,
          121,
          92,
          93,
          135,
          163,
          98,
          119,
          111,
          158,
          112,
          123,
          133,
          138,
          146,
          115,
          173,
          158,
          155,
          83,
          88,
          152,
          242,
          117,
          106,
          130,
          98,
          95,
          136,
          95,
          127,
          113,
          143,
          138,
          103,
          140,
          101,
          101,
          89,
          125,
          95,
          164,
          104,
          109,
          163,
          102,
          100,
          134,
          116,
          115,
          134,
          115,
          156,
          103,
          112,
          109,
          107,
          111,
          152,
          99,
          124,
          124,
          88,
          109,
          129,
          147,
          131,
          113,
          107,
          143,
          98,
          107,
          109,
          100,
          141,
          98,
          115,
          132,
          95,
          100,
          121,
          111,
          110,
          107,
          125,
          106,
          110,
          131,
          110,
          108,
          107,
          112,
          97,
          158,
          107,
          162,
          106,
          99,
          92,
          113,
          118,
          120,
          88,
          114,
          100,
          121,
          86,
          115,
          107,
          156,
          121,
          109,
          142,
          116,
          130,
          91,
          132,
          179,
          99,
          90,
          145,
          153,
          144,
          116,
          108,
          86,
          109,
          114,
          118,
          138,
          138,
          126,
          106,
          88,
          106
         ],
         "y0": " ",
         "yaxis": "y"
        }
       ],
       "layout": {
        "legend": {
         "tracegroupgap": 0
        },
        "margin": {
         "t": 60
        },
        "template": {
         "data": {
          "bar": [
           {
            "error_x": {
             "color": "#2a3f5f"
            },
            "error_y": {
             "color": "#2a3f5f"
            },
            "marker": {
             "line": {
              "color": "#E5ECF6",
              "width": 0.5
             },
             "pattern": {
              "fillmode": "overlay",
              "size": 10,
              "solidity": 0.2
             }
            },
            "type": "bar"
           }
          ],
          "barpolar": [
           {
            "marker": {
             "line": {
              "color": "#E5ECF6",
              "width": 0.5
             },
             "pattern": {
              "fillmode": "overlay",
              "size": 10,
              "solidity": 0.2
             }
            },
            "type": "barpolar"
           }
          ],
          "carpet": [
           {
            "aaxis": {
             "endlinecolor": "#2a3f5f",
             "gridcolor": "white",
             "linecolor": "white",
             "minorgridcolor": "white",
             "startlinecolor": "#2a3f5f"
            },
            "baxis": {
             "endlinecolor": "#2a3f5f",
             "gridcolor": "white",
             "linecolor": "white",
             "minorgridcolor": "white",
             "startlinecolor": "#2a3f5f"
            },
            "type": "carpet"
           }
          ],
          "choropleth": [
           {
            "colorbar": {
             "outlinewidth": 0,
             "ticks": ""
            },
            "type": "choropleth"
           }
          ],
          "contour": [
           {
            "colorbar": {
             "outlinewidth": 0,
             "ticks": ""
            },
            "colorscale": [
             [
              0,
              "#0d0887"
             ],
             [
              0.1111111111111111,
              "#46039f"
             ],
             [
              0.2222222222222222,
              "#7201a8"
             ],
             [
              0.3333333333333333,
              "#9c179e"
             ],
             [
              0.4444444444444444,
              "#bd3786"
             ],
             [
              0.5555555555555556,
              "#d8576b"
             ],
             [
              0.6666666666666666,
              "#ed7953"
             ],
             [
              0.7777777777777778,
              "#fb9f3a"
             ],
             [
              0.8888888888888888,
              "#fdca26"
             ],
             [
              1,
              "#f0f921"
             ]
            ],
            "type": "contour"
           }
          ],
          "contourcarpet": [
           {
            "colorbar": {
             "outlinewidth": 0,
             "ticks": ""
            },
            "type": "contourcarpet"
           }
          ],
          "heatmap": [
           {
            "colorbar": {
             "outlinewidth": 0,
             "ticks": ""
            },
            "colorscale": [
             [
              0,
              "#0d0887"
             ],
             [
              0.1111111111111111,
              "#46039f"
             ],
             [
              0.2222222222222222,
              "#7201a8"
             ],
             [
              0.3333333333333333,
              "#9c179e"
             ],
             [
              0.4444444444444444,
              "#bd3786"
             ],
             [
              0.5555555555555556,
              "#d8576b"
             ],
             [
              0.6666666666666666,
              "#ed7953"
             ],
             [
              0.7777777777777778,
              "#fb9f3a"
             ],
             [
              0.8888888888888888,
              "#fdca26"
             ],
             [
              1,
              "#f0f921"
             ]
            ],
            "type": "heatmap"
           }
          ],
          "heatmapgl": [
           {
            "colorbar": {
             "outlinewidth": 0,
             "ticks": ""
            },
            "colorscale": [
             [
              0,
              "#0d0887"
             ],
             [
              0.1111111111111111,
              "#46039f"
             ],
             [
              0.2222222222222222,
              "#7201a8"
             ],
             [
              0.3333333333333333,
              "#9c179e"
             ],
             [
              0.4444444444444444,
              "#bd3786"
             ],
             [
              0.5555555555555556,
              "#d8576b"
             ],
             [
              0.6666666666666666,
              "#ed7953"
             ],
             [
              0.7777777777777778,
              "#fb9f3a"
             ],
             [
              0.8888888888888888,
              "#fdca26"
             ],
             [
              1,
              "#f0f921"
             ]
            ],
            "type": "heatmapgl"
           }
          ],
          "histogram": [
           {
            "marker": {
             "pattern": {
              "fillmode": "overlay",
              "size": 10,
              "solidity": 0.2
             }
            },
            "type": "histogram"
           }
          ],
          "histogram2d": [
           {
            "colorbar": {
             "outlinewidth": 0,
             "ticks": ""
            },
            "colorscale": [
             [
              0,
              "#0d0887"
             ],
             [
              0.1111111111111111,
              "#46039f"
             ],
             [
              0.2222222222222222,
              "#7201a8"
             ],
             [
              0.3333333333333333,
              "#9c179e"
             ],
             [
              0.4444444444444444,
              "#bd3786"
             ],
             [
              0.5555555555555556,
              "#d8576b"
             ],
             [
              0.6666666666666666,
              "#ed7953"
             ],
             [
              0.7777777777777778,
              "#fb9f3a"
             ],
             [
              0.8888888888888888,
              "#fdca26"
             ],
             [
              1,
              "#f0f921"
             ]
            ],
            "type": "histogram2d"
           }
          ],
          "histogram2dcontour": [
           {
            "colorbar": {
             "outlinewidth": 0,
             "ticks": ""
            },
            "colorscale": [
             [
              0,
              "#0d0887"
             ],
             [
              0.1111111111111111,
              "#46039f"
             ],
             [
              0.2222222222222222,
              "#7201a8"
             ],
             [
              0.3333333333333333,
              "#9c179e"
             ],
             [
              0.4444444444444444,
              "#bd3786"
             ],
             [
              0.5555555555555556,
              "#d8576b"
             ],
             [
              0.6666666666666666,
              "#ed7953"
             ],
             [
              0.7777777777777778,
              "#fb9f3a"
             ],
             [
              0.8888888888888888,
              "#fdca26"
             ],
             [
              1,
              "#f0f921"
             ]
            ],
            "type": "histogram2dcontour"
           }
          ],
          "mesh3d": [
           {
            "colorbar": {
             "outlinewidth": 0,
             "ticks": ""
            },
            "type": "mesh3d"
           }
          ],
          "parcoords": [
           {
            "line": {
             "colorbar": {
              "outlinewidth": 0,
              "ticks": ""
             }
            },
            "type": "parcoords"
           }
          ],
          "pie": [
           {
            "automargin": true,
            "type": "pie"
           }
          ],
          "scatter": [
           {
            "marker": {
             "colorbar": {
              "outlinewidth": 0,
              "ticks": ""
             }
            },
            "type": "scatter"
           }
          ],
          "scatter3d": [
           {
            "line": {
             "colorbar": {
              "outlinewidth": 0,
              "ticks": ""
             }
            },
            "marker": {
             "colorbar": {
              "outlinewidth": 0,
              "ticks": ""
             }
            },
            "type": "scatter3d"
           }
          ],
          "scattercarpet": [
           {
            "marker": {
             "colorbar": {
              "outlinewidth": 0,
              "ticks": ""
             }
            },
            "type": "scattercarpet"
           }
          ],
          "scattergeo": [
           {
            "marker": {
             "colorbar": {
              "outlinewidth": 0,
              "ticks": ""
             }
            },
            "type": "scattergeo"
           }
          ],
          "scattergl": [
           {
            "marker": {
             "colorbar": {
              "outlinewidth": 0,
              "ticks": ""
             }
            },
            "type": "scattergl"
           }
          ],
          "scattermapbox": [
           {
            "marker": {
             "colorbar": {
              "outlinewidth": 0,
              "ticks": ""
             }
            },
            "type": "scattermapbox"
           }
          ],
          "scatterpolar": [
           {
            "marker": {
             "colorbar": {
              "outlinewidth": 0,
              "ticks": ""
             }
            },
            "type": "scatterpolar"
           }
          ],
          "scatterpolargl": [
           {
            "marker": {
             "colorbar": {
              "outlinewidth": 0,
              "ticks": ""
             }
            },
            "type": "scatterpolargl"
           }
          ],
          "scatterternary": [
           {
            "marker": {
             "colorbar": {
              "outlinewidth": 0,
              "ticks": ""
             }
            },
            "type": "scatterternary"
           }
          ],
          "surface": [
           {
            "colorbar": {
             "outlinewidth": 0,
             "ticks": ""
            },
            "colorscale": [
             [
              0,
              "#0d0887"
             ],
             [
              0.1111111111111111,
              "#46039f"
             ],
             [
              0.2222222222222222,
              "#7201a8"
             ],
             [
              0.3333333333333333,
              "#9c179e"
             ],
             [
              0.4444444444444444,
              "#bd3786"
             ],
             [
              0.5555555555555556,
              "#d8576b"
             ],
             [
              0.6666666666666666,
              "#ed7953"
             ],
             [
              0.7777777777777778,
              "#fb9f3a"
             ],
             [
              0.8888888888888888,
              "#fdca26"
             ],
             [
              1,
              "#f0f921"
             ]
            ],
            "type": "surface"
           }
          ],
          "table": [
           {
            "cells": {
             "fill": {
              "color": "#EBF0F8"
             },
             "line": {
              "color": "white"
             }
            },
            "header": {
             "fill": {
              "color": "#C8D4E3"
             },
             "line": {
              "color": "white"
             }
            },
            "type": "table"
           }
          ]
         },
         "layout": {
          "annotationdefaults": {
           "arrowcolor": "#2a3f5f",
           "arrowhead": 0,
           "arrowwidth": 1
          },
          "autotypenumbers": "strict",
          "coloraxis": {
           "colorbar": {
            "outlinewidth": 0,
            "ticks": ""
           }
          },
          "colorscale": {
           "diverging": [
            [
             0,
             "#8e0152"
            ],
            [
             0.1,
             "#c51b7d"
            ],
            [
             0.2,
             "#de77ae"
            ],
            [
             0.3,
             "#f1b6da"
            ],
            [
             0.4,
             "#fde0ef"
            ],
            [
             0.5,
             "#f7f7f7"
            ],
            [
             0.6,
             "#e6f5d0"
            ],
            [
             0.7,
             "#b8e186"
            ],
            [
             0.8,
             "#7fbc41"
            ],
            [
             0.9,
             "#4d9221"
            ],
            [
             1,
             "#276419"
            ]
           ],
           "sequential": [
            [
             0,
             "#0d0887"
            ],
            [
             0.1111111111111111,
             "#46039f"
            ],
            [
             0.2222222222222222,
             "#7201a8"
            ],
            [
             0.3333333333333333,
             "#9c179e"
            ],
            [
             0.4444444444444444,
             "#bd3786"
            ],
            [
             0.5555555555555556,
             "#d8576b"
            ],
            [
             0.6666666666666666,
             "#ed7953"
            ],
            [
             0.7777777777777778,
             "#fb9f3a"
            ],
            [
             0.8888888888888888,
             "#fdca26"
            ],
            [
             1,
             "#f0f921"
            ]
           ],
           "sequentialminus": [
            [
             0,
             "#0d0887"
            ],
            [
             0.1111111111111111,
             "#46039f"
            ],
            [
             0.2222222222222222,
             "#7201a8"
            ],
            [
             0.3333333333333333,
             "#9c179e"
            ],
            [
             0.4444444444444444,
             "#bd3786"
            ],
            [
             0.5555555555555556,
             "#d8576b"
            ],
            [
             0.6666666666666666,
             "#ed7953"
            ],
            [
             0.7777777777777778,
             "#fb9f3a"
            ],
            [
             0.8888888888888888,
             "#fdca26"
            ],
            [
             1,
             "#f0f921"
            ]
           ]
          },
          "colorway": [
           "#636efa",
           "#EF553B",
           "#00cc96",
           "#ab63fa",
           "#FFA15A",
           "#19d3f3",
           "#FF6692",
           "#B6E880",
           "#FF97FF",
           "#FECB52"
          ],
          "font": {
           "color": "#2a3f5f"
          },
          "geo": {
           "bgcolor": "white",
           "lakecolor": "white",
           "landcolor": "#E5ECF6",
           "showlakes": true,
           "showland": true,
           "subunitcolor": "white"
          },
          "hoverlabel": {
           "align": "left"
          },
          "hovermode": "closest",
          "mapbox": {
           "style": "light"
          },
          "paper_bgcolor": "white",
          "plot_bgcolor": "#E5ECF6",
          "polar": {
           "angularaxis": {
            "gridcolor": "white",
            "linecolor": "white",
            "ticks": ""
           },
           "bgcolor": "#E5ECF6",
           "radialaxis": {
            "gridcolor": "white",
            "linecolor": "white",
            "ticks": ""
           }
          },
          "scene": {
           "xaxis": {
            "backgroundcolor": "#E5ECF6",
            "gridcolor": "white",
            "gridwidth": 2,
            "linecolor": "white",
            "showbackground": true,
            "ticks": "",
            "zerolinecolor": "white"
           },
           "yaxis": {
            "backgroundcolor": "#E5ECF6",
            "gridcolor": "white",
            "gridwidth": 2,
            "linecolor": "white",
            "showbackground": true,
            "ticks": "",
            "zerolinecolor": "white"
           },
           "zaxis": {
            "backgroundcolor": "#E5ECF6",
            "gridcolor": "white",
            "gridwidth": 2,
            "linecolor": "white",
            "showbackground": true,
            "ticks": "",
            "zerolinecolor": "white"
           }
          },
          "shapedefaults": {
           "line": {
            "color": "#2a3f5f"
           }
          },
          "ternary": {
           "aaxis": {
            "gridcolor": "white",
            "linecolor": "white",
            "ticks": ""
           },
           "baxis": {
            "gridcolor": "white",
            "linecolor": "white",
            "ticks": ""
           },
           "bgcolor": "#E5ECF6",
           "caxis": {
            "gridcolor": "white",
            "linecolor": "white",
            "ticks": ""
           }
          },
          "title": {
           "x": 0.05
          },
          "xaxis": {
           "automargin": true,
           "gridcolor": "white",
           "linecolor": "white",
           "ticks": "",
           "title": {
            "standoff": 15
           },
           "zerolinecolor": "white",
           "zerolinewidth": 2
          },
          "yaxis": {
           "automargin": true,
           "gridcolor": "white",
           "linecolor": "white",
           "ticks": "",
           "title": {
            "standoff": 15
           },
           "zerolinecolor": "white",
           "zerolinewidth": 2
          }
         }
        },
        "violinmode": "group",
        "xaxis": {
         "anchor": "y",
         "domain": [
          0,
          1
         ]
        },
        "yaxis": {
         "anchor": "x",
         "domain": [
          0,
          1
         ],
         "title": {
          "text": "runtimeMinutes"
         }
        }
       }
      }
     },
     "metadata": {},
     "output_type": "display_data"
    }
   ],
   "source": [
    "# violin\n",
    "fig = px.violin(film2021, y=\"runtimeMinutes\", box=True, # draw box plot inside the violin\n",
    "                points='all', # can be 'outliers', or False\n",
    "               )\n",
    "fig.show()"
   ]
  },
  {
   "cell_type": "code",
   "execution_count": 26,
   "metadata": {},
   "outputs": [
    {
     "data": {
      "text/plain": [
       "(172, 9)"
      ]
     },
     "execution_count": 26,
     "metadata": {},
     "output_type": "execute_result"
    }
   ],
   "source": [
    "film2021.shape"
   ]
  },
  {
   "cell_type": "code",
   "execution_count": 27,
   "metadata": {},
   "outputs": [
    {
     "data": {
      "text/html": [
       "<div>\n",
       "<style scoped>\n",
       "    .dataframe tbody tr th:only-of-type {\n",
       "        vertical-align: middle;\n",
       "    }\n",
       "\n",
       "    .dataframe tbody tr th {\n",
       "        vertical-align: top;\n",
       "    }\n",
       "\n",
       "    .dataframe thead th {\n",
       "        text-align: right;\n",
       "    }\n",
       "</style>\n",
       "<table border=\"1\" class=\"dataframe\">\n",
       "  <thead>\n",
       "    <tr style=\"text-align: right;\">\n",
       "      <th></th>\n",
       "      <th>tconst</th>\n",
       "      <th>titleType</th>\n",
       "      <th>primaryTitle</th>\n",
       "      <th>originalTitle</th>\n",
       "      <th>startYear</th>\n",
       "      <th>runtimeMinutes</th>\n",
       "      <th>genres</th>\n",
       "      <th>averageRating</th>\n",
       "      <th>numVotes</th>\n",
       "    </tr>\n",
       "  </thead>\n",
       "  <tbody>\n",
       "    <tr>\n",
       "      <th>175113</th>\n",
       "      <td>tt0293429</td>\n",
       "      <td>movie</td>\n",
       "      <td>Mortal Kombat</td>\n",
       "      <td>Mortal Kombat</td>\n",
       "      <td>2021</td>\n",
       "      <td>110</td>\n",
       "      <td>Action,Adventure,Fantasy</td>\n",
       "      <td>6.1</td>\n",
       "      <td>158523</td>\n",
       "    </tr>\n",
       "    <tr>\n",
       "      <th>262147</th>\n",
       "      <td>tt0499097</td>\n",
       "      <td>movie</td>\n",
       "      <td>Without Remorse</td>\n",
       "      <td>Without Remorse</td>\n",
       "      <td>2021</td>\n",
       "      <td>109</td>\n",
       "      <td>Action,Thriller,War</td>\n",
       "      <td>5.8</td>\n",
       "      <td>52938</td>\n",
       "    </tr>\n",
       "    <tr>\n",
       "      <th>413028</th>\n",
       "      <td>tt0870154</td>\n",
       "      <td>movie</td>\n",
       "      <td>Jungle Cruise</td>\n",
       "      <td>Jungle Cruise</td>\n",
       "      <td>2021</td>\n",
       "      <td>127</td>\n",
       "      <td>Action,Adventure,Comedy</td>\n",
       "      <td>6.6</td>\n",
       "      <td>164135</td>\n",
       "    </tr>\n",
       "    <tr>\n",
       "      <th>444900</th>\n",
       "      <td>tt0993840</td>\n",
       "      <td>movie</td>\n",
       "      <td>Army of the Dead</td>\n",
       "      <td>Army of the Dead</td>\n",
       "      <td>2021</td>\n",
       "      <td>148</td>\n",
       "      <td>Action,Crime,Horror</td>\n",
       "      <td>5.7</td>\n",
       "      <td>160409</td>\n",
       "    </tr>\n",
       "    <tr>\n",
       "      <th>447239</th>\n",
       "      <td>tt10016180</td>\n",
       "      <td>movie</td>\n",
       "      <td>The Little Things</td>\n",
       "      <td>The Little Things</td>\n",
       "      <td>2021</td>\n",
       "      <td>128</td>\n",
       "      <td>Crime,Drama,Mystery</td>\n",
       "      <td>6.3</td>\n",
       "      <td>87230</td>\n",
       "    </tr>\n",
       "  </tbody>\n",
       "</table>\n",
       "</div>"
      ],
      "text/plain": [
       "            tconst titleType       primaryTitle      originalTitle  startYear  \\\n",
       "175113   tt0293429     movie      Mortal Kombat      Mortal Kombat       2021   \n",
       "262147   tt0499097     movie    Without Remorse    Without Remorse       2021   \n",
       "413028   tt0870154     movie      Jungle Cruise      Jungle Cruise       2021   \n",
       "444900   tt0993840     movie   Army of the Dead   Army of the Dead       2021   \n",
       "447239  tt10016180     movie  The Little Things  The Little Things       2021   \n",
       "\n",
       "        runtimeMinutes                    genres  averageRating  numVotes  \n",
       "175113             110  Action,Adventure,Fantasy            6.1    158523  \n",
       "262147             109       Action,Thriller,War            5.8     52938  \n",
       "413028             127   Action,Adventure,Comedy            6.6    164135  \n",
       "444900             148       Action,Crime,Horror            5.7    160409  \n",
       "447239             128       Crime,Drama,Mystery            6.3     87230  "
      ]
     },
     "execution_count": 27,
     "metadata": {},
     "output_type": "execute_result"
    }
   ],
   "source": [
    "film2021.head()"
   ]
  },
  {
   "cell_type": "code",
   "execution_count": 28,
   "metadata": {},
   "outputs": [
    {
     "data": {
      "text/html": [
       "<div>\n",
       "<style scoped>\n",
       "    .dataframe tbody tr th:only-of-type {\n",
       "        vertical-align: middle;\n",
       "    }\n",
       "\n",
       "    .dataframe tbody tr th {\n",
       "        vertical-align: top;\n",
       "    }\n",
       "\n",
       "    .dataframe thead th {\n",
       "        text-align: right;\n",
       "    }\n",
       "</style>\n",
       "<table border=\"1\" class=\"dataframe\">\n",
       "  <thead>\n",
       "    <tr style=\"text-align: right;\">\n",
       "      <th></th>\n",
       "      <th>tconst</th>\n",
       "      <th>titleType</th>\n",
       "      <th>primaryTitle</th>\n",
       "      <th>originalTitle</th>\n",
       "      <th>startYear</th>\n",
       "      <th>runtimeMinutes</th>\n",
       "      <th>genres</th>\n",
       "      <th>averageRating</th>\n",
       "      <th>numVotes</th>\n",
       "    </tr>\n",
       "  </thead>\n",
       "  <tbody>\n",
       "    <tr>\n",
       "      <th>562212</th>\n",
       "      <td>tt12361974</td>\n",
       "      <td>movie</td>\n",
       "      <td>Zack Snyder's Justice League</td>\n",
       "      <td>Zack Snyder's Justice League</td>\n",
       "      <td>2021</td>\n",
       "      <td>242</td>\n",
       "      <td>Action,Adventure,Fantasy</td>\n",
       "      <td>8.1</td>\n",
       "      <td>356311</td>\n",
       "    </tr>\n",
       "    <tr>\n",
       "      <th>1191860</th>\n",
       "      <td>tt9389998</td>\n",
       "      <td>movie</td>\n",
       "      <td>Pushpa: The Rise - Part 1</td>\n",
       "      <td>Pushpa: The Rise - Part 1</td>\n",
       "      <td>2021</td>\n",
       "      <td>179</td>\n",
       "      <td>Action,Adventure,Crime</td>\n",
       "      <td>8.0</td>\n",
       "      <td>33382</td>\n",
       "    </tr>\n",
       "    <tr>\n",
       "      <th>476390</th>\n",
       "      <td>tt10579952</td>\n",
       "      <td>movie</td>\n",
       "      <td>Master</td>\n",
       "      <td>Master</td>\n",
       "      <td>2021</td>\n",
       "      <td>179</td>\n",
       "      <td>Action,Thriller</td>\n",
       "      <td>7.8</td>\n",
       "      <td>67154</td>\n",
       "    </tr>\n",
       "    <tr>\n",
       "      <th>526288</th>\n",
       "      <td>tt11580854</td>\n",
       "      <td>movie</td>\n",
       "      <td>Sarpatta Parambarai</td>\n",
       "      <td>Sarpatta Parambarai</td>\n",
       "      <td>2021</td>\n",
       "      <td>173</td>\n",
       "      <td>Action,Drama,Sport</td>\n",
       "      <td>8.7</td>\n",
       "      <td>19704</td>\n",
       "    </tr>\n",
       "    <tr>\n",
       "      <th>460576</th>\n",
       "      <td>tt10280296</td>\n",
       "      <td>movie</td>\n",
       "      <td>Sardar Udham</td>\n",
       "      <td>Sardar Udham</td>\n",
       "      <td>2021</td>\n",
       "      <td>164</td>\n",
       "      <td>Biography,Crime,Drama</td>\n",
       "      <td>8.7</td>\n",
       "      <td>34851</td>\n",
       "    </tr>\n",
       "  </tbody>\n",
       "</table>\n",
       "</div>"
      ],
      "text/plain": [
       "             tconst titleType                  primaryTitle  \\\n",
       "562212   tt12361974     movie  Zack Snyder's Justice League   \n",
       "1191860   tt9389998     movie     Pushpa: The Rise - Part 1   \n",
       "476390   tt10579952     movie                        Master   \n",
       "526288   tt11580854     movie           Sarpatta Parambarai   \n",
       "460576   tt10280296     movie                  Sardar Udham   \n",
       "\n",
       "                        originalTitle  startYear  runtimeMinutes  \\\n",
       "562212   Zack Snyder's Justice League       2021             242   \n",
       "1191860     Pushpa: The Rise - Part 1       2021             179   \n",
       "476390                         Master       2021             179   \n",
       "526288            Sarpatta Parambarai       2021             173   \n",
       "460576                   Sardar Udham       2021             164   \n",
       "\n",
       "                           genres  averageRating  numVotes  \n",
       "562212   Action,Adventure,Fantasy            8.1    356311  \n",
       "1191860    Action,Adventure,Crime            8.0     33382  \n",
       "476390            Action,Thriller            7.8     67154  \n",
       "526288         Action,Drama,Sport            8.7     19704  \n",
       "460576      Biography,Crime,Drama            8.7     34851  "
      ]
     },
     "execution_count": 28,
     "metadata": {},
     "output_type": "execute_result"
    }
   ],
   "source": [
    "film2021.sort_values(by='runtimeMinutes', ascending=False).head()"
   ]
  },
  {
   "cell_type": "code",
   "execution_count": 29,
   "metadata": {},
   "outputs": [
    {
     "data": {
      "text/html": [
       "<div>\n",
       "<style scoped>\n",
       "    .dataframe tbody tr th:only-of-type {\n",
       "        vertical-align: middle;\n",
       "    }\n",
       "\n",
       "    .dataframe tbody tr th {\n",
       "        vertical-align: top;\n",
       "    }\n",
       "\n",
       "    .dataframe thead th {\n",
       "        text-align: right;\n",
       "    }\n",
       "</style>\n",
       "<table border=\"1\" class=\"dataframe\">\n",
       "  <thead>\n",
       "    <tr style=\"text-align: right;\">\n",
       "      <th></th>\n",
       "      <th>tconst</th>\n",
       "      <th>titleType</th>\n",
       "      <th>primaryTitle</th>\n",
       "      <th>originalTitle</th>\n",
       "      <th>startYear</th>\n",
       "      <th>runtimeMinutes</th>\n",
       "      <th>genres</th>\n",
       "      <th>averageRating</th>\n",
       "      <th>numVotes</th>\n",
       "    </tr>\n",
       "  </thead>\n",
       "  <tbody>\n",
       "    <tr>\n",
       "      <th>529738</th>\n",
       "      <td>tt11657662</td>\n",
       "      <td>movie</td>\n",
       "      <td>The Witcher: Nightmare of the Wolf</td>\n",
       "      <td>The Witcher: Nightmare of the Wolf</td>\n",
       "      <td>2021</td>\n",
       "      <td>83</td>\n",
       "      <td>Action,Adventure,Animation</td>\n",
       "      <td>7.3</td>\n",
       "      <td>38843</td>\n",
       "    </tr>\n",
       "    <tr>\n",
       "      <th>1200187</th>\n",
       "      <td>tt9684220</td>\n",
       "      <td>movie</td>\n",
       "      <td>Bad Trip</td>\n",
       "      <td>Bad Trip</td>\n",
       "      <td>2021</td>\n",
       "      <td>86</td>\n",
       "      <td>Comedy</td>\n",
       "      <td>6.6</td>\n",
       "      <td>22654</td>\n",
       "    </tr>\n",
       "    <tr>\n",
       "      <th>1159816</th>\n",
       "      <td>tt8521876</td>\n",
       "      <td>movie</td>\n",
       "      <td>Yes Day</td>\n",
       "      <td>Yes Day</td>\n",
       "      <td>2021</td>\n",
       "      <td>86</td>\n",
       "      <td>Comedy,Family</td>\n",
       "      <td>5.7</td>\n",
       "      <td>21793</td>\n",
       "    </tr>\n",
       "    <tr>\n",
       "      <th>1204761</th>\n",
       "      <td>tt9844522</td>\n",
       "      <td>movie</td>\n",
       "      <td>Escape Room: Tournament of Champions</td>\n",
       "      <td>Escape Room: Tournament of Champions</td>\n",
       "      <td>2021</td>\n",
       "      <td>88</td>\n",
       "      <td>Action,Adventure,Horror</td>\n",
       "      <td>5.8</td>\n",
       "      <td>32122</td>\n",
       "    </tr>\n",
       "    <tr>\n",
       "      <th>537390</th>\n",
       "      <td>tt11804152</td>\n",
       "      <td>movie</td>\n",
       "      <td>Till Death</td>\n",
       "      <td>Till Death</td>\n",
       "      <td>2021</td>\n",
       "      <td>88</td>\n",
       "      <td>Thriller</td>\n",
       "      <td>5.9</td>\n",
       "      <td>16696</td>\n",
       "    </tr>\n",
       "  </tbody>\n",
       "</table>\n",
       "</div>"
      ],
      "text/plain": [
       "             tconst titleType                          primaryTitle  \\\n",
       "529738   tt11657662     movie    The Witcher: Nightmare of the Wolf   \n",
       "1200187   tt9684220     movie                              Bad Trip   \n",
       "1159816   tt8521876     movie                               Yes Day   \n",
       "1204761   tt9844522     movie  Escape Room: Tournament of Champions   \n",
       "537390   tt11804152     movie                            Till Death   \n",
       "\n",
       "                                originalTitle  startYear  runtimeMinutes  \\\n",
       "529738     The Witcher: Nightmare of the Wolf       2021              83   \n",
       "1200187                              Bad Trip       2021              86   \n",
       "1159816                               Yes Day       2021              86   \n",
       "1204761  Escape Room: Tournament of Champions       2021              88   \n",
       "537390                             Till Death       2021              88   \n",
       "\n",
       "                             genres  averageRating  numVotes  \n",
       "529738   Action,Adventure,Animation            7.3     38843  \n",
       "1200187                      Comedy            6.6     22654  \n",
       "1159816               Comedy,Family            5.7     21793  \n",
       "1204761     Action,Adventure,Horror            5.8     32122  \n",
       "537390                     Thriller            5.9     16696  "
      ]
     },
     "execution_count": 29,
     "metadata": {},
     "output_type": "execute_result"
    }
   ],
   "source": [
    "film2021.sort_values(by='runtimeMinutes').head()"
   ]
  },
  {
   "cell_type": "markdown",
   "metadata": {},
   "source": [
    "## Visualizzazione"
   ]
  },
  {
   "cell_type": "markdown",
   "metadata": {},
   "source": [
    "Calcolo del rating medio"
   ]
  },
  {
   "cell_type": "code",
   "execution_count": 30,
   "metadata": {},
   "outputs": [
    {
     "data": {
      "text/plain": [
       "6.49"
      ]
     },
     "execution_count": 30,
     "metadata": {},
     "output_type": "execute_result"
    }
   ],
   "source": [
    "avg_rating = film2021['averageRating'].mean()\n",
    "avg_rating = avg_rating.round(2)\n",
    "avg_rating"
   ]
  },
  {
   "cell_type": "markdown",
   "metadata": {},
   "source": [
    "Calcolo della durata media"
   ]
  },
  {
   "cell_type": "code",
   "execution_count": 31,
   "metadata": {},
   "outputs": [
    {
     "data": {
      "text/plain": [
       "119.8"
      ]
     },
     "execution_count": 31,
     "metadata": {},
     "output_type": "execute_result"
    }
   ],
   "source": [
    "avg_minutes = film2021['runtimeMinutes'].mean()\n",
    "avg_minutes = avg_minutes.round(2)\n",
    "avg_minutes"
   ]
  },
  {
   "cell_type": "code",
   "execution_count": 32,
   "metadata": {},
   "outputs": [
    {
     "data": {
      "text/html": [
       "\n",
       "    <div class=\"bk-root\">\n",
       "        <a href=\"https://bokeh.org\" target=\"_blank\" class=\"bk-logo bk-logo-small bk-logo-notebook\"></a>\n",
       "        <span id=\"1002\">Loading BokehJS ...</span>\n",
       "    </div>"
      ]
     },
     "metadata": {},
     "output_type": "display_data"
    },
    {
     "data": {
      "application/javascript": "\n(function(root) {\n  function now() {\n    return new Date();\n  }\n\n  const force = true;\n\n  if (typeof root._bokeh_onload_callbacks === \"undefined\" || force === true) {\n    root._bokeh_onload_callbacks = [];\n    root._bokeh_is_loading = undefined;\n  }\n\n  const JS_MIME_TYPE = 'application/javascript';\n  const HTML_MIME_TYPE = 'text/html';\n  const EXEC_MIME_TYPE = 'application/vnd.bokehjs_exec.v0+json';\n  const CLASS_NAME = 'output_bokeh rendered_html';\n\n  /**\n   * Render data to the DOM node\n   */\n  function render(props, node) {\n    const script = document.createElement(\"script\");\n    node.appendChild(script);\n  }\n\n  /**\n   * Handle when an output is cleared or removed\n   */\n  function handleClearOutput(event, handle) {\n    const cell = handle.cell;\n\n    const id = cell.output_area._bokeh_element_id;\n    const server_id = cell.output_area._bokeh_server_id;\n    // Clean up Bokeh references\n    if (id != null && id in Bokeh.index) {\n      Bokeh.index[id].model.document.clear();\n      delete Bokeh.index[id];\n    }\n\n    if (server_id !== undefined) {\n      // Clean up Bokeh references\n      const cmd_clean = \"from bokeh.io.state import curstate; print(curstate().uuid_to_server['\" + server_id + \"'].get_sessions()[0].document.roots[0]._id)\";\n      cell.notebook.kernel.execute(cmd_clean, {\n        iopub: {\n          output: function(msg) {\n            const id = msg.content.text.trim();\n            if (id in Bokeh.index) {\n              Bokeh.index[id].model.document.clear();\n              delete Bokeh.index[id];\n            }\n          }\n        }\n      });\n      // Destroy server and session\n      const cmd_destroy = \"import bokeh.io.notebook as ion; ion.destroy_server('\" + server_id + \"')\";\n      cell.notebook.kernel.execute(cmd_destroy);\n    }\n  }\n\n  /**\n   * Handle when a new output is added\n   */\n  function handleAddOutput(event, handle) {\n    const output_area = handle.output_area;\n    const output = handle.output;\n\n    // limit handleAddOutput to display_data with EXEC_MIME_TYPE content only\n    if ((output.output_type != \"display_data\") || (!Object.prototype.hasOwnProperty.call(output.data, EXEC_MIME_TYPE))) {\n      return\n    }\n\n    const toinsert = output_area.element.find(\".\" + CLASS_NAME.split(' ')[0]);\n\n    if (output.metadata[EXEC_MIME_TYPE][\"id\"] !== undefined) {\n      toinsert[toinsert.length - 1].firstChild.textContent = output.data[JS_MIME_TYPE];\n      // store reference to embed id on output_area\n      output_area._bokeh_element_id = output.metadata[EXEC_MIME_TYPE][\"id\"];\n    }\n    if (output.metadata[EXEC_MIME_TYPE][\"server_id\"] !== undefined) {\n      const bk_div = document.createElement(\"div\");\n      bk_div.innerHTML = output.data[HTML_MIME_TYPE];\n      const script_attrs = bk_div.children[0].attributes;\n      for (let i = 0; i < script_attrs.length; i++) {\n        toinsert[toinsert.length - 1].firstChild.setAttribute(script_attrs[i].name, script_attrs[i].value);\n        toinsert[toinsert.length - 1].firstChild.textContent = bk_div.children[0].textContent\n      }\n      // store reference to server id on output_area\n      output_area._bokeh_server_id = output.metadata[EXEC_MIME_TYPE][\"server_id\"];\n    }\n  }\n\n  function register_renderer(events, OutputArea) {\n\n    function append_mime(data, metadata, element) {\n      // create a DOM node to render to\n      const toinsert = this.create_output_subarea(\n        metadata,\n        CLASS_NAME,\n        EXEC_MIME_TYPE\n      );\n      this.keyboard_manager.register_events(toinsert);\n      // Render to node\n      const props = {data: data, metadata: metadata[EXEC_MIME_TYPE]};\n      render(props, toinsert[toinsert.length - 1]);\n      element.append(toinsert);\n      return toinsert\n    }\n\n    /* Handle when an output is cleared or removed */\n    events.on('clear_output.CodeCell', handleClearOutput);\n    events.on('delete.Cell', handleClearOutput);\n\n    /* Handle when a new output is added */\n    events.on('output_added.OutputArea', handleAddOutput);\n\n    /**\n     * Register the mime type and append_mime function with output_area\n     */\n    OutputArea.prototype.register_mime_type(EXEC_MIME_TYPE, append_mime, {\n      /* Is output safe? */\n      safe: true,\n      /* Index of renderer in `output_area.display_order` */\n      index: 0\n    });\n  }\n\n  // register the mime type if in Jupyter Notebook environment and previously unregistered\n  if (root.Jupyter !== undefined) {\n    const events = require('base/js/events');\n    const OutputArea = require('notebook/js/outputarea').OutputArea;\n\n    if (OutputArea.prototype.mime_types().indexOf(EXEC_MIME_TYPE) == -1) {\n      register_renderer(events, OutputArea);\n    }\n  }\n\n  \n  if (typeof (root._bokeh_timeout) === \"undefined\" || force === true) {\n    root._bokeh_timeout = Date.now() + 5000;\n    root._bokeh_failed_load = false;\n  }\n\n  const NB_LOAD_WARNING = {'data': {'text/html':\n     \"<div style='background-color: #fdd'>\\n\"+\n     \"<p>\\n\"+\n     \"BokehJS does not appear to have successfully loaded. If loading BokehJS from CDN, this \\n\"+\n     \"may be due to a slow or bad network connection. Possible fixes:\\n\"+\n     \"</p>\\n\"+\n     \"<ul>\\n\"+\n     \"<li>re-rerun `output_notebook()` to attempt to load from CDN again, or</li>\\n\"+\n     \"<li>use INLINE resources instead, as so:</li>\\n\"+\n     \"</ul>\\n\"+\n     \"<code>\\n\"+\n     \"from bokeh.resources import INLINE\\n\"+\n     \"output_notebook(resources=INLINE)\\n\"+\n     \"</code>\\n\"+\n     \"</div>\"}};\n\n  function display_loaded() {\n    const el = document.getElementById(\"1002\");\n    if (el != null) {\n      el.textContent = \"BokehJS is loading...\";\n    }\n    if (root.Bokeh !== undefined) {\n      if (el != null) {\n        el.textContent = \"BokehJS \" + root.Bokeh.version + \" successfully loaded.\";\n      }\n    } else if (Date.now() < root._bokeh_timeout) {\n      setTimeout(display_loaded, 100)\n    }\n  }\n\n\n  function run_callbacks() {\n    try {\n      root._bokeh_onload_callbacks.forEach(function(callback) {\n        if (callback != null)\n          callback();\n      });\n    } finally {\n      delete root._bokeh_onload_callbacks\n    }\n    console.debug(\"Bokeh: all callbacks have finished\");\n  }\n\n  function load_libs(css_urls, js_urls, callback) {\n    if (css_urls == null) css_urls = [];\n    if (js_urls == null) js_urls = [];\n\n    root._bokeh_onload_callbacks.push(callback);\n    if (root._bokeh_is_loading > 0) {\n      console.debug(\"Bokeh: BokehJS is being loaded, scheduling callback at\", now());\n      return null;\n    }\n    if (js_urls == null || js_urls.length === 0) {\n      run_callbacks();\n      return null;\n    }\n    console.debug(\"Bokeh: BokehJS not loaded, scheduling load and callback at\", now());\n    root._bokeh_is_loading = css_urls.length + js_urls.length;\n\n    function on_load() {\n      root._bokeh_is_loading--;\n      if (root._bokeh_is_loading === 0) {\n        console.debug(\"Bokeh: all BokehJS libraries/stylesheets loaded\");\n        run_callbacks()\n      }\n    }\n\n    function on_error(url) {\n      console.error(\"failed to load \" + url);\n    }\n\n    for (let i = 0; i < css_urls.length; i++) {\n      const url = css_urls[i];\n      const element = document.createElement(\"link\");\n      element.onload = on_load;\n      element.onerror = on_error.bind(null, url);\n      element.rel = \"stylesheet\";\n      element.type = \"text/css\";\n      element.href = url;\n      console.debug(\"Bokeh: injecting link tag for BokehJS stylesheet: \", url);\n      document.body.appendChild(element);\n    }\n\n    for (let i = 0; i < js_urls.length; i++) {\n      const url = js_urls[i];\n      const element = document.createElement('script');\n      element.onload = on_load;\n      element.onerror = on_error.bind(null, url);\n      element.async = false;\n      element.src = url;\n      console.debug(\"Bokeh: injecting script tag for BokehJS library: \", url);\n      document.head.appendChild(element);\n    }\n  };\n\n  function inject_raw_css(css) {\n    const element = document.createElement(\"style\");\n    element.appendChild(document.createTextNode(css));\n    document.body.appendChild(element);\n  }\n\n  \n  const js_urls = [\"https://cdn.bokeh.org/bokeh/release/bokeh-2.4.2.min.js\", \"https://cdn.bokeh.org/bokeh/release/bokeh-gl-2.4.2.min.js\", \"https://cdn.bokeh.org/bokeh/release/bokeh-widgets-2.4.2.min.js\", \"https://cdn.bokeh.org/bokeh/release/bokeh-tables-2.4.2.min.js\", \"https://cdn.bokeh.org/bokeh/release/bokeh-mathjax-2.4.2.min.js\"];\n  const css_urls = [];\n  \n\n  const inline_js = [\n    function(Bokeh) {\n      Bokeh.set_log_level(\"info\");\n    },\n    function(Bokeh) {\n    \n    \n    }\n  ];\n\n  function run_inline_js() {\n    \n    if (root.Bokeh !== undefined || force === true) {\n      \n    for (let i = 0; i < inline_js.length; i++) {\n      inline_js[i].call(root, root.Bokeh);\n    }\n    if (force === true) {\n        display_loaded();\n      }} else if (Date.now() < root._bokeh_timeout) {\n      setTimeout(run_inline_js, 100);\n    } else if (!root._bokeh_failed_load) {\n      console.log(\"Bokeh: BokehJS failed to load within specified timeout.\");\n      root._bokeh_failed_load = true;\n    } else if (force !== true) {\n      const cell = $(document.getElementById(\"1002\")).parents('.cell').data().cell;\n      cell.output_area.append_execute_result(NB_LOAD_WARNING)\n    }\n\n  }\n\n  if (root._bokeh_is_loading === 0) {\n    console.debug(\"Bokeh: BokehJS loaded, going straight to plotting\");\n    run_inline_js();\n  } else {\n    load_libs(css_urls, js_urls, function() {\n      console.debug(\"Bokeh: BokehJS plotting callback run at\", now());\n      run_inline_js();\n    });\n  }\n}(window));",
      "application/vnd.bokehjs_load.v0+json": ""
     },
     "metadata": {},
     "output_type": "display_data"
    }
   ],
   "source": [
    "from bokeh.io import push_notebook, show, output_notebook\n",
    "from bokeh.layouts import row\n",
    "from bokeh.plotting import figure\n",
    "output_notebook()"
   ]
  },
  {
   "cell_type": "markdown",
   "metadata": {},
   "source": [
    "Calcolo diametro per area punti"
   ]
  },
  {
   "cell_type": "code",
   "execution_count": 34,
   "metadata": {},
   "outputs": [],
   "source": [
    "# calcolo diametro\n",
    "import math\n",
    "\n",
    "def calcola_diametro(numVoti):\n",
    "    return 2 * math.sqrt(numVoti / math.pi)"
   ]
  },
  {
   "cell_type": "code",
   "execution_count": 35,
   "metadata": {},
   "outputs": [],
   "source": [
    "film2021['size'] = film2021.numVotes.apply(func=calcola_diametro)"
   ]
  },
  {
   "cell_type": "code",
   "execution_count": 36,
   "metadata": {},
   "outputs": [
    {
     "data": {
      "text/html": [
       "<div>\n",
       "<style scoped>\n",
       "    .dataframe tbody tr th:only-of-type {\n",
       "        vertical-align: middle;\n",
       "    }\n",
       "\n",
       "    .dataframe tbody tr th {\n",
       "        vertical-align: top;\n",
       "    }\n",
       "\n",
       "    .dataframe thead th {\n",
       "        text-align: right;\n",
       "    }\n",
       "</style>\n",
       "<table border=\"1\" class=\"dataframe\">\n",
       "  <thead>\n",
       "    <tr style=\"text-align: right;\">\n",
       "      <th></th>\n",
       "      <th>tconst</th>\n",
       "      <th>titleType</th>\n",
       "      <th>primaryTitle</th>\n",
       "      <th>originalTitle</th>\n",
       "      <th>startYear</th>\n",
       "      <th>runtimeMinutes</th>\n",
       "      <th>genres</th>\n",
       "      <th>averageRating</th>\n",
       "      <th>numVotes</th>\n",
       "      <th>size</th>\n",
       "    </tr>\n",
       "  </thead>\n",
       "  <tbody>\n",
       "    <tr>\n",
       "      <th>175113</th>\n",
       "      <td>tt0293429</td>\n",
       "      <td>movie</td>\n",
       "      <td>Mortal Kombat</td>\n",
       "      <td>Mortal Kombat</td>\n",
       "      <td>2021</td>\n",
       "      <td>110</td>\n",
       "      <td>Action,Adventure,Fantasy</td>\n",
       "      <td>6.1</td>\n",
       "      <td>158523</td>\n",
       "      <td>449.263567</td>\n",
       "    </tr>\n",
       "    <tr>\n",
       "      <th>262147</th>\n",
       "      <td>tt0499097</td>\n",
       "      <td>movie</td>\n",
       "      <td>Without Remorse</td>\n",
       "      <td>Without Remorse</td>\n",
       "      <td>2021</td>\n",
       "      <td>109</td>\n",
       "      <td>Action,Thriller,War</td>\n",
       "      <td>5.8</td>\n",
       "      <td>52938</td>\n",
       "      <td>259.620406</td>\n",
       "    </tr>\n",
       "    <tr>\n",
       "      <th>413028</th>\n",
       "      <td>tt0870154</td>\n",
       "      <td>movie</td>\n",
       "      <td>Jungle Cruise</td>\n",
       "      <td>Jungle Cruise</td>\n",
       "      <td>2021</td>\n",
       "      <td>127</td>\n",
       "      <td>Action,Adventure,Comedy</td>\n",
       "      <td>6.6</td>\n",
       "      <td>164135</td>\n",
       "      <td>457.146774</td>\n",
       "    </tr>\n",
       "    <tr>\n",
       "      <th>444900</th>\n",
       "      <td>tt0993840</td>\n",
       "      <td>movie</td>\n",
       "      <td>Army of the Dead</td>\n",
       "      <td>Army of the Dead</td>\n",
       "      <td>2021</td>\n",
       "      <td>148</td>\n",
       "      <td>Action,Crime,Horror</td>\n",
       "      <td>5.7</td>\n",
       "      <td>160409</td>\n",
       "      <td>451.928182</td>\n",
       "    </tr>\n",
       "    <tr>\n",
       "      <th>447239</th>\n",
       "      <td>tt10016180</td>\n",
       "      <td>movie</td>\n",
       "      <td>The Little Things</td>\n",
       "      <td>The Little Things</td>\n",
       "      <td>2021</td>\n",
       "      <td>128</td>\n",
       "      <td>Crime,Drama,Mystery</td>\n",
       "      <td>6.3</td>\n",
       "      <td>87230</td>\n",
       "      <td>333.263688</td>\n",
       "    </tr>\n",
       "  </tbody>\n",
       "</table>\n",
       "</div>"
      ],
      "text/plain": [
       "            tconst titleType       primaryTitle      originalTitle  startYear  \\\n",
       "175113   tt0293429     movie      Mortal Kombat      Mortal Kombat       2021   \n",
       "262147   tt0499097     movie    Without Remorse    Without Remorse       2021   \n",
       "413028   tt0870154     movie      Jungle Cruise      Jungle Cruise       2021   \n",
       "444900   tt0993840     movie   Army of the Dead   Army of the Dead       2021   \n",
       "447239  tt10016180     movie  The Little Things  The Little Things       2021   \n",
       "\n",
       "        runtimeMinutes                    genres  averageRating  numVotes  \\\n",
       "175113             110  Action,Adventure,Fantasy            6.1    158523   \n",
       "262147             109       Action,Thriller,War            5.8     52938   \n",
       "413028             127   Action,Adventure,Comedy            6.6    164135   \n",
       "444900             148       Action,Crime,Horror            5.7    160409   \n",
       "447239             128       Crime,Drama,Mystery            6.3     87230   \n",
       "\n",
       "              size  \n",
       "175113  449.263567  \n",
       "262147  259.620406  \n",
       "413028  457.146774  \n",
       "444900  451.928182  \n",
       "447239  333.263688  "
      ]
     },
     "execution_count": 36,
     "metadata": {},
     "output_type": "execute_result"
    }
   ],
   "source": [
    "film2021.head()"
   ]
  },
  {
   "cell_type": "markdown",
   "metadata": {},
   "source": [
    "Normalizzazione dell'area"
   ]
  },
  {
   "cell_type": "code",
   "execution_count": 37,
   "metadata": {},
   "outputs": [
    {
     "data": {
      "text/plain": [
       "138.54272314662572"
      ]
     },
     "execution_count": 37,
     "metadata": {},
     "output_type": "execute_result"
    }
   ],
   "source": [
    "min = film2021['size'].min()\n",
    "min"
   ]
  },
  {
   "cell_type": "code",
   "execution_count": 38,
   "metadata": {},
   "outputs": [
    {
     "data": {
      "text/plain": [
       "758.6778814153477"
      ]
     },
     "execution_count": 38,
     "metadata": {},
     "output_type": "execute_result"
    }
   ],
   "source": [
    "max = film2021['size'].max()\n",
    "max"
   ]
  },
  {
   "cell_type": "code",
   "execution_count": 39,
   "metadata": {},
   "outputs": [],
   "source": [
    "film2021['size'] = ((film2021['size'] - min) / (max - min) * 10) + 5"
   ]
  },
  {
   "cell_type": "code",
   "execution_count": 40,
   "metadata": {},
   "outputs": [
    {
     "data": {
      "text/html": [
       "<div>\n",
       "<style scoped>\n",
       "    .dataframe tbody tr th:only-of-type {\n",
       "        vertical-align: middle;\n",
       "    }\n",
       "\n",
       "    .dataframe tbody tr th {\n",
       "        vertical-align: top;\n",
       "    }\n",
       "\n",
       "    .dataframe thead th {\n",
       "        text-align: right;\n",
       "    }\n",
       "</style>\n",
       "<table border=\"1\" class=\"dataframe\">\n",
       "  <thead>\n",
       "    <tr style=\"text-align: right;\">\n",
       "      <th></th>\n",
       "      <th>tconst</th>\n",
       "      <th>titleType</th>\n",
       "      <th>primaryTitle</th>\n",
       "      <th>originalTitle</th>\n",
       "      <th>startYear</th>\n",
       "      <th>runtimeMinutes</th>\n",
       "      <th>genres</th>\n",
       "      <th>averageRating</th>\n",
       "      <th>numVotes</th>\n",
       "      <th>size</th>\n",
       "    </tr>\n",
       "  </thead>\n",
       "  <tbody>\n",
       "    <tr>\n",
       "      <th>175113</th>\n",
       "      <td>tt0293429</td>\n",
       "      <td>movie</td>\n",
       "      <td>Mortal Kombat</td>\n",
       "      <td>Mortal Kombat</td>\n",
       "      <td>2021</td>\n",
       "      <td>110</td>\n",
       "      <td>Action,Adventure,Fantasy</td>\n",
       "      <td>6.1</td>\n",
       "      <td>158523</td>\n",
       "      <td>10.010534</td>\n",
       "    </tr>\n",
       "    <tr>\n",
       "      <th>262147</th>\n",
       "      <td>tt0499097</td>\n",
       "      <td>movie</td>\n",
       "      <td>Without Remorse</td>\n",
       "      <td>Without Remorse</td>\n",
       "      <td>2021</td>\n",
       "      <td>109</td>\n",
       "      <td>Action,Thriller,War</td>\n",
       "      <td>5.8</td>\n",
       "      <td>52938</td>\n",
       "      <td>6.952440</td>\n",
       "    </tr>\n",
       "    <tr>\n",
       "      <th>413028</th>\n",
       "      <td>tt0870154</td>\n",
       "      <td>movie</td>\n",
       "      <td>Jungle Cruise</td>\n",
       "      <td>Jungle Cruise</td>\n",
       "      <td>2021</td>\n",
       "      <td>127</td>\n",
       "      <td>Action,Adventure,Comedy</td>\n",
       "      <td>6.6</td>\n",
       "      <td>164135</td>\n",
       "      <td>10.137655</td>\n",
       "    </tr>\n",
       "    <tr>\n",
       "      <th>444900</th>\n",
       "      <td>tt0993840</td>\n",
       "      <td>movie</td>\n",
       "      <td>Army of the Dead</td>\n",
       "      <td>Army of the Dead</td>\n",
       "      <td>2021</td>\n",
       "      <td>148</td>\n",
       "      <td>Action,Crime,Horror</td>\n",
       "      <td>5.7</td>\n",
       "      <td>160409</td>\n",
       "      <td>10.053503</td>\n",
       "    </tr>\n",
       "    <tr>\n",
       "      <th>447239</th>\n",
       "      <td>tt10016180</td>\n",
       "      <td>movie</td>\n",
       "      <td>The Little Things</td>\n",
       "      <td>The Little Things</td>\n",
       "      <td>2021</td>\n",
       "      <td>128</td>\n",
       "      <td>Crime,Drama,Mystery</td>\n",
       "      <td>6.3</td>\n",
       "      <td>87230</td>\n",
       "      <td>8.139976</td>\n",
       "    </tr>\n",
       "  </tbody>\n",
       "</table>\n",
       "</div>"
      ],
      "text/plain": [
       "            tconst titleType       primaryTitle      originalTitle  startYear  \\\n",
       "175113   tt0293429     movie      Mortal Kombat      Mortal Kombat       2021   \n",
       "262147   tt0499097     movie    Without Remorse    Without Remorse       2021   \n",
       "413028   tt0870154     movie      Jungle Cruise      Jungle Cruise       2021   \n",
       "444900   tt0993840     movie   Army of the Dead   Army of the Dead       2021   \n",
       "447239  tt10016180     movie  The Little Things  The Little Things       2021   \n",
       "\n",
       "        runtimeMinutes                    genres  averageRating  numVotes  \\\n",
       "175113             110  Action,Adventure,Fantasy            6.1    158523   \n",
       "262147             109       Action,Thriller,War            5.8     52938   \n",
       "413028             127   Action,Adventure,Comedy            6.6    164135   \n",
       "444900             148       Action,Crime,Horror            5.7    160409   \n",
       "447239             128       Crime,Drama,Mystery            6.3     87230   \n",
       "\n",
       "             size  \n",
       "175113  10.010534  \n",
       "262147   6.952440  \n",
       "413028  10.137655  \n",
       "444900  10.053503  \n",
       "447239   8.139976  "
      ]
     },
     "execution_count": 40,
     "metadata": {},
     "output_type": "execute_result"
    }
   ],
   "source": [
    "film2021.head()"
   ]
  },
  {
   "cell_type": "code",
   "execution_count": 41,
   "metadata": {},
   "outputs": [
    {
     "data": {
      "text/plain": [
       "5.0"
      ]
     },
     "execution_count": 41,
     "metadata": {},
     "output_type": "execute_result"
    }
   ],
   "source": [
    "film2021['size'].min()"
   ]
  },
  {
   "cell_type": "code",
   "execution_count": 42,
   "metadata": {},
   "outputs": [
    {
     "data": {
      "text/plain": [
       "15.0"
      ]
     },
     "execution_count": 42,
     "metadata": {},
     "output_type": "execute_result"
    }
   ],
   "source": [
    "film2021['size'].max()"
   ]
  },
  {
   "cell_type": "markdown",
   "metadata": {},
   "source": [
    "Aggiunta colore"
   ]
  },
  {
   "cell_type": "code",
   "execution_count": 43,
   "metadata": {},
   "outputs": [],
   "source": [
    "# rosso\n",
    "def get_color(numVoti):\n",
    "    max2 = film2021.numVotes.max()\n",
    "    min2 = film2021.numVotes.min()\n",
    "    numVoti = int(round((numVoti - min2) / (max2 - min2) * 205 + 50))\n",
    "    color_string = \"#{0:02X}0000\".format(numVoti)\n",
    "    return color_string"
   ]
  },
  {
   "cell_type": "code",
   "execution_count": 44,
   "metadata": {},
   "outputs": [],
   "source": [
    "# blu\n",
    "def get_color(numVoti):\n",
    "    max2 = film2021.numVotes.max()\n",
    "    min2 = film2021.numVotes.min()\n",
    "    numVoti = int(round((numVoti - min2) / (max2 - min2) * 150+105))\n",
    "    color_string = \"#0000{0:02X}\".format(numVoti)\n",
    "    return color_string"
   ]
  },
  {
   "cell_type": "code",
   "execution_count": 45,
   "metadata": {},
   "outputs": [],
   "source": [
    "film2021['color'] = film2021.numVotes.apply(func=get_color)"
   ]
  },
  {
   "cell_type": "code",
   "execution_count": 46,
   "metadata": {},
   "outputs": [
    {
     "data": {
      "text/html": [
       "<div>\n",
       "<style scoped>\n",
       "    .dataframe tbody tr th:only-of-type {\n",
       "        vertical-align: middle;\n",
       "    }\n",
       "\n",
       "    .dataframe tbody tr th {\n",
       "        vertical-align: top;\n",
       "    }\n",
       "\n",
       "    .dataframe thead th {\n",
       "        text-align: right;\n",
       "    }\n",
       "</style>\n",
       "<table border=\"1\" class=\"dataframe\">\n",
       "  <thead>\n",
       "    <tr style=\"text-align: right;\">\n",
       "      <th></th>\n",
       "      <th>tconst</th>\n",
       "      <th>titleType</th>\n",
       "      <th>primaryTitle</th>\n",
       "      <th>originalTitle</th>\n",
       "      <th>startYear</th>\n",
       "      <th>runtimeMinutes</th>\n",
       "      <th>genres</th>\n",
       "      <th>averageRating</th>\n",
       "      <th>numVotes</th>\n",
       "      <th>size</th>\n",
       "      <th>color</th>\n",
       "    </tr>\n",
       "  </thead>\n",
       "  <tbody>\n",
       "    <tr>\n",
       "      <th>175113</th>\n",
       "      <td>tt0293429</td>\n",
       "      <td>movie</td>\n",
       "      <td>Mortal Kombat</td>\n",
       "      <td>Mortal Kombat</td>\n",
       "      <td>2021</td>\n",
       "      <td>110</td>\n",
       "      <td>Action,Adventure,Fantasy</td>\n",
       "      <td>6.1</td>\n",
       "      <td>158523</td>\n",
       "      <td>10.010534</td>\n",
       "      <td>#00009A</td>\n",
       "    </tr>\n",
       "    <tr>\n",
       "      <th>262147</th>\n",
       "      <td>tt0499097</td>\n",
       "      <td>movie</td>\n",
       "      <td>Without Remorse</td>\n",
       "      <td>Without Remorse</td>\n",
       "      <td>2021</td>\n",
       "      <td>109</td>\n",
       "      <td>Action,Thriller,War</td>\n",
       "      <td>5.8</td>\n",
       "      <td>52938</td>\n",
       "      <td>6.952440</td>\n",
       "      <td>#000076</td>\n",
       "    </tr>\n",
       "    <tr>\n",
       "      <th>413028</th>\n",
       "      <td>tt0870154</td>\n",
       "      <td>movie</td>\n",
       "      <td>Jungle Cruise</td>\n",
       "      <td>Jungle Cruise</td>\n",
       "      <td>2021</td>\n",
       "      <td>127</td>\n",
       "      <td>Action,Adventure,Comedy</td>\n",
       "      <td>6.6</td>\n",
       "      <td>164135</td>\n",
       "      <td>10.137655</td>\n",
       "      <td>#00009C</td>\n",
       "    </tr>\n",
       "    <tr>\n",
       "      <th>444900</th>\n",
       "      <td>tt0993840</td>\n",
       "      <td>movie</td>\n",
       "      <td>Army of the Dead</td>\n",
       "      <td>Army of the Dead</td>\n",
       "      <td>2021</td>\n",
       "      <td>148</td>\n",
       "      <td>Action,Crime,Horror</td>\n",
       "      <td>5.7</td>\n",
       "      <td>160409</td>\n",
       "      <td>10.053503</td>\n",
       "      <td>#00009B</td>\n",
       "    </tr>\n",
       "    <tr>\n",
       "      <th>447239</th>\n",
       "      <td>tt10016180</td>\n",
       "      <td>movie</td>\n",
       "      <td>The Little Things</td>\n",
       "      <td>The Little Things</td>\n",
       "      <td>2021</td>\n",
       "      <td>128</td>\n",
       "      <td>Crime,Drama,Mystery</td>\n",
       "      <td>6.3</td>\n",
       "      <td>87230</td>\n",
       "      <td>8.139976</td>\n",
       "      <td>#000082</td>\n",
       "    </tr>\n",
       "  </tbody>\n",
       "</table>\n",
       "</div>"
      ],
      "text/plain": [
       "            tconst titleType       primaryTitle      originalTitle  startYear  \\\n",
       "175113   tt0293429     movie      Mortal Kombat      Mortal Kombat       2021   \n",
       "262147   tt0499097     movie    Without Remorse    Without Remorse       2021   \n",
       "413028   tt0870154     movie      Jungle Cruise      Jungle Cruise       2021   \n",
       "444900   tt0993840     movie   Army of the Dead   Army of the Dead       2021   \n",
       "447239  tt10016180     movie  The Little Things  The Little Things       2021   \n",
       "\n",
       "        runtimeMinutes                    genres  averageRating  numVotes  \\\n",
       "175113             110  Action,Adventure,Fantasy            6.1    158523   \n",
       "262147             109       Action,Thriller,War            5.8     52938   \n",
       "413028             127   Action,Adventure,Comedy            6.6    164135   \n",
       "444900             148       Action,Crime,Horror            5.7    160409   \n",
       "447239             128       Crime,Drama,Mystery            6.3     87230   \n",
       "\n",
       "             size    color  \n",
       "175113  10.010534  #00009A  \n",
       "262147   6.952440  #000076  \n",
       "413028  10.137655  #00009C  \n",
       "444900  10.053503  #00009B  \n",
       "447239   8.139976  #000082  "
      ]
     },
     "execution_count": 46,
     "metadata": {},
     "output_type": "execute_result"
    }
   ],
   "source": [
    "film2021.head()"
   ]
  },
  {
   "cell_type": "markdown",
   "metadata": {},
   "source": [
    "Aggiunta deviazione standard"
   ]
  },
  {
   "cell_type": "code",
   "execution_count": 47,
   "metadata": {},
   "outputs": [],
   "source": [
    "runtimeMinutesStandardDeviation = film2021[\"runtimeMinutes\"].std()\n",
    "averageRatingsStandardDeviation = film2021[\"averageRating\"].std()"
   ]
  },
  {
   "cell_type": "code",
   "execution_count": 48,
   "metadata": {},
   "outputs": [
    {
     "name": "stdout",
     "output_type": "stream",
     "text": [
      "7.649537581875107\n",
      "5.330462418124894\n"
     ]
    }
   ],
   "source": [
    "\n",
    "top_rating = avg_rating + averageRatingsStandardDeviation\n",
    "low_rating = avg_rating - averageRatingsStandardDeviation\n",
    "top_minutes = avg_minutes + runtimeMinutesStandardDeviation\n",
    "low_minutes = avg_minutes - runtimeMinutesStandardDeviation\n",
    "print(top_rating)\n",
    "print(low_rating)"
   ]
  },
  {
   "cell_type": "code",
   "execution_count": 51,
   "metadata": {},
   "outputs": [
    {
     "data": {
      "text/html": [
       "\n",
       "\n",
       "\n",
       "\n",
       "\n",
       "\n",
       "  <div class=\"bk-root\" id=\"05ea472a-b9f4-4c97-9e43-b17640e3d438\" data-root-id=\"1978\"></div>\n"
      ]
     },
     "metadata": {},
     "output_type": "display_data"
    },
    {
     "data": {
      "application/javascript": "(function(root) {\n  function embed_document(root) {\n    \n  const docs_json = {\"ee64eeba-c83e-4207-b79e-eca8f328ed25\":{\"defs\":[],\"roots\":{\"references\":[{\"attributes\":{\"children\":[{\"id\":\"1873\"},{\"id\":\"1976\"},{\"id\":\"1977\"}]},\"id\":\"1978\",\"type\":\"Row\"},{\"attributes\":{},\"id\":\"2056\",\"type\":\"NoOverlap\"},{\"attributes\":{\"data\":{\"averageRating\":{\"__ndarray__\":\"ZmZmZmZmGEAzMzMzMzMXQGZmZmZmZhpAzczMzMzMFkAzMzMzMzMZQJqZmZmZmRNAZmZmZmZmHECamZmZmZkRQGZmZmZmZhhAzczMzMzMEEDNzMzMzMwaQGZmZmZmZhZAZmZmZmZmFkBmZmZmZmYhQAAAAAAAABxAZmZmZmZmIUBmZmZmZmYaQAAAAAAAAB5AmpmZmZmZFUCamZmZmZkVQDMzMzMzMxVAMzMzMzMzIEAzMzMzMzMTQJqZmZmZmRVAMzMzMzMzH0BmZmZmZmYWQDMzMzMzMxlAZmZmZmZmGkBmZmZmZmYaQAAAAAAAABZAMzMzMzMzGUDNzMzMzMwWQM3MzMzMzBZAZmZmZmZmIUDNzMzMzMz8PwAAAAAAACBAzczMzMzMGkAzMzMzMzMXQDMzMzMzMxVAAAAAAAAAHEDNzMzMzMwMQJqZmZmZmRtAzczMzMzMFEAzMzMzMzMbQGZmZmZmZhxAMzMzMzMzGUCamZmZmZkbQM3MzMzMzBxAzczMzMzMGECamZmZmZkfQDMzMzMzMx1AAAAAAAAAIEAAAAAAAAAaQGZmZmZmZiFAZmZmZmZmIEAzMzMzMzMgQDMzMzMzMx1AmpmZmZmZF0AzMzMzMzMhQDMzMzMzMyBAMzMzMzMzG0DNzMzMzMwaQAAAAAAAAB5AmpmZmZmZHUAAAAAAAAAeQGZmZmZmZhpAzczMzMzMFkCamZmZmZkZQJqZmZmZmRtAMzMzMzMzHUBmZmZmZmYcQJqZmZmZmR1AMzMzMzMzHUAzMzMzMzMVQJqZmZmZmR9AZmZmZmZmIEAAAAAAAAD4P2ZmZmZmZgZAmpmZmZmZIkDNzMzMzMwWQDMzMzMzMxdAmpmZmZmZHUAzMzMzMzMdQAAAAAAAABhAmpmZmZmZHUCamZmZmZkXQJqZmZmZmRtAzczMzMzMGkCamZmZmZkRQDMzMzMzMx9AMzMzMzMzGUBmZmZmZmYcQGZmZmZmZhZAmpmZmZmZGUAzMzMzMzMZQJqZmZmZmR1AMzMzMzMzF0DNzMzMzMwUQDMzMzMzMx1AMzMzMzMzEUBmZmZmZmYaQAAAAAAAAB5AmpmZmZmZIUBmZmZmZmYaQJqZmZmZmRlAMzMzMzMzHUDNzMzMzMwUQM3MzMzMzBxAzczMzMzMGEBmZmZmZmYYQM3MzMzMzBZAmpmZmZmZGUBmZmZmZmYYQM3MzMzMzBxAzczMzMzMHEDNzMzMzMwaQAAAAAAAABpAZmZmZmZmGEDNzMzMzMwaQGZmZmZmZh5AzczMzMzMGEBmZmZmZmYcQAAAAAAAABZAMzMzMzMzFUAzMzMzMzMbQDMzMzMzMx1AZmZmZmZmFkDNzMzMzMwUQDMzMzMzMxlAAAAAAAAAGEAzMzMzMzMgQGZmZmZmZhxAmpmZmZmZHUDNzMzMzMwYQAAAAAAAABhAmpmZmZmZHUDNzMzMzMweQDMzMzMzMxlAMzMzMzMzGUAAAAAAAAAWQGZmZmZmZhhAZmZmZmZmGECamZmZmZkVQM3MzMzMzBZAZmZmZmZmHkAzMzMzMzMdQAAAAAAAABpAMzMzMzMzG0AAAAAAAAAWQGZmZmZmZhpAZmZmZmZmFkBmZmZmZmYaQJqZmZmZmRdAAAAAAAAAHkAAAAAAAAAgQGZmZmZmZhRAMzMzMzMzGUAzMzMzMzMZQM3MzMzMzBhAZmZmZmZmHkDNzMzMzMwcQJqZmZmZmRVAZmZmZmZmGkDNzMzMzMwaQGZmZmZmZhpAmpmZmZmZGUDNzMzMzMwaQGZmZmZmZhpAAAAAAAAAHkCamZmZmZkZQDMzMzMzMxdAzczMzMzMGEA=\",\"dtype\":\"float64\",\"order\":\"little\",\"shape\":[172]},\"color\":[\"#00009A\",\"#000076\",\"#00009C\",\"#00009B\",\"#000082\",\"#00006C\",\"#00006D\",\"#000071\",\"#00006E\",\"#000071\",\"#00006B\",\"#00006D\",\"#00006C\",\"#000070\",\"#000080\",\"#00008A\",\"#00006D\",\"#00006B\",\"#00006D\",\"#000069\",\"#000073\",\"#000070\",\"#00006B\",\"#000072\",\"#00007B\",\"#000079\",\"#00006C\",\"#000075\",\"#00006F\",\"#00006E\",\"#000073\",\"#000069\",\"#00009D\",\"#0000ED\",\"#0000A0\",\"#000070\",\"#00006D\",\"#000080\",\"#00006E\",\"#000075\",\"#000069\",\"#00006C\",\"#000070\",\"#00006A\",\"#000096\",\"#00006A\",\"#000074\",\"#000081\",\"#00006B\",\"#00006A\",\"#0000E1\",\"#00006A\",\"#00006E\",\"#00006B\",\"#00006B\",\"#0000FF\",\"#000071\",\"#00006A\",\"#00006F\",\"#0000DE\",\"#00006E\",\"#000070\",\"#00006C\",\"#000069\",\"#000091\",\"#00006C\",\"#000069\",\"#000079\",\"#000069\",\"#000072\",\"#000071\",\"#000071\",\"#000069\",\"#00006F\",\"#00006A\",\"#00006E\",\"#000071\",\"#00006B\",\"#00009E\",\"#00006B\",\"#000071\",\"#0000C8\",\"#000086\",\"#000076\",\"#0000AB\",\"#000073\",\"#00007A\",\"#0000D3\",\"#00007A\",\"#00006D\",\"#00006A\",\"#00007B\",\"#00006E\",\"#000069\",\"#00007C\",\"#000084\",\"#00006C\",\"#00006A\",\"#000083\",\"#00006B\",\"#000070\",\"#000073\",\"#00006A\",\"#00006C\",\"#0000A5\",\"#000091\",\"#00008A\",\"#00006B\",\"#00006A\",\"#00006B\",\"#00007B\",\"#000069\",\"#000072\",\"#0000BE\",\"#0000C7\",\"#000069\",\"#000070\",\"#000073\",\"#00006C\",\"#00006B\",\"#00007C\",\"#000077\",\"#000072\",\"#00007A\",\"#00006C\",\"#00006F\",\"#00006D\",\"#00006E\",\"#000086\",\"#00009B\",\"#00006B\",\"#00006B\",\"#00006B\",\"#000076\",\"#00006B\",\"#0000A4\",\"#000081\",\"#0000AF\",\"#000072\",\"#00006C\",\"#000070\",\"#00007C\",\"#00006E\",\"#00006B\",\"#000078\",\"#00007B\",\"#0000A8\",\"#00006E\",\"#00006D\",\"#00006E\",\"#000073\",\"#00007E\",\"#000074\",\"#0000CA\",\"#00006F\",\"#00006A\",\"#000087\",\"#00007D\",\"#000069\",\"#000071\",\"#00007E\",\"#00006A\",\"#00006C\",\"#000077\",\"#000073\",\"#00006B\",\"#00006B\",\"#0000A4\",\"#00007B\",\"#000069\",\"#00006F\",\"#00006A\"],\"genres\":[\"Action,Adventure,Fantasy\",\"Action,Thriller,War\",\"Action,Adventure,Comedy\",\"Action,Crime,Horror\",\"Crime,Drama,Mystery\",\"Action,Drama,History\",\"Comedy,Horror\",\"Action,Adventure,Comedy\",\"Biography,Drama\",\"Comedy,Family,Fantasy\",\"Adventure,Drama,Family\",\"Action,Comedy,Crime\",\"Action,Crime,Drama\",\"Biography,Crime,Drama\",\"Drama,Romance,Western\",\"Action,Biography,Drama\",\"Drama,Mystery,Thriller\",\"Biography,Documentary,Sport\",\"Action,Horror,Thriller\",\"Drama,Romance\",\"Crime,Drama,Horror\",\"Comedy,Drama,Music\",\"Action,Adventure,Drama\",\"Action,Adventure,Fantasy\",\"Action,Thriller\",\"Horror,Thriller\",\"Comedy,Drama,Romance\",\"Action,Drama,Western\",\"Crime,Drama,Thriller\",\"Action,Drama,Thriller\",\"Comedy,Romance\",\"Action,Crime,Drama\",\"Action,Sci-Fi\",\"Action,Adventure,Fantasy\",\"Action,Crime,Thriller\",\"Comedy,Drama\",\"Drama,Horror,Sci-Fi\",\"Drama,Horror,Mystery\",\"Drama,Horror,Mystery\",\"Drama,Mystery,Thriller\",\"Action,Comedy,Family\",\"Crime,Drama,Mystery\",\"Action,Drama,Sport\",\"Comedy,Fantasy,Romance\",\"Action,Crime,Thriller\",\"Crime,Drama,Thriller\",\"Crime,Drama\",\"Crime,Drama\",\"Action,Thriller\",\"Comedy,Drama,Romance\",\"Comedy,Drama,Sci-Fi\",\"Romance\",\"Crime,Drama,Mystery\",\"Action,Drama,Sport\",\"Action,Drama\",\"Action,Adventure,Drama\",\"Action,Adventure,Animation\",\"Thriller\",\"Crime,Drama,Thriller\",\"Action,Adventure,Fantasy\",\"Biography,Drama\",\"Drama,Romance\",\"Drama\",\"Drama\",\"Adventure,Animation,Comedy\",\"Action,Adventure,Drama\",\"Drama,Horror,Mystery\",\"Action,Comedy,Crime\",\"Action,Comedy,Horror\",\"Drama,Musical,Romance\",\"Action,Crime,Drama\",\"Crime,Drama,Thriller\",\"Comedy,Romance\",\"Adventure,Animation,Comedy\",\"Adventure,Documentary,Sport\",\"Adventure,Documentary\",\"Crime,Drama,History\",\"Action,Drama,War\",\"Crime,Drama\",\"Drama,Thriller,Western\",\"Action,Adventure,Fantasy\",\"Action,Adventure,Thriller\",\"Animation,Comedy,Drama\",\"Action,Crime,Drama\",\"Adventure,Comedy,Crime\",\"Mystery,Romance,Sci-Fi\",\"Adventure,Drama,Sci-Fi\",\"Action,Adventure,Sci-Fi\",\"Adventure,Animation,Comedy\",\"Crime,Drama,Musical\",\"Adventure,Comedy\",\"Biography,Drama,History\",\"Action,Adventure,Drama\",\"Comedy\",\"Crime,Horror,Mystery\",\"Action,Drama,History\",\"Action,Drama,Thriller\",\"Action,Thriller\",\"Adventure,Comedy,Fantasy\",\"Comedy,Romance\",\"Comedy,Drama\",\"Biography,Drama,Thriller\",\"Action,Adventure,Sci-Fi\",\"Biography,Drama,History\",\"Action,Sci-Fi,Thriller\",\"Action,Adventure,Animation\",\"Action,Crime,Thriller\",\"Adventure,Animation,Comedy\",\"Action,Crime,Thriller\",\"Action,Thriller\",\"Crime,Drama,Mystery\",\"Drama,Musical,Romance\",\"Action,Drama,Horror\",\"Action,Adventure,Comedy\",\"Action,Adventure,Comedy\",\"Adventure,Animation,Comedy\",\"Drama,Fantasy,Sci-Fi\",\"Action,Horror,Thriller\",\"Comedy,Drama,Music\",\"Adventure,Animation,Comedy\",\"Drama,Horror,Mystery\",\"Crime,Drama\",\"Action,Sci-Fi,Thriller\",\"Comedy\",\"Action,Adventure,Thriller\",\"Drama\",\"Action,Adventure,Thriller\",\"Action,Horror,Sci-Fi\",\"Horror,Mystery,Thriller\",\"Action,Adventure,Sci-Fi\",\"Action,Adventure,Comedy\",\"Adventure,Animation,Comedy\",\"Biography,Drama,History\",\"Action,Adventure,Crime\",\"Drama,Horror,Mystery\",\"Action,Crime,Drama\",\"Adventure,Animation,Comedy\",\"Action,Comedy,Thriller\",\"Crime,Drama\",\"Action,Comedy,Horror\",\"Action,Crime,Thriller\",\"Action,Comedy,Crime\",\"Action,Adventure,Fantasy\",\"Comedy,Family\",\"Biography,Drama,Musical\",\"Comedy,Drama,Romance\",\"Action,Adventure,Fantasy\",\"Drama\",\"Horror,Thriller\",\"Crime,Drama\",\"Adventure,Sci-Fi,Thriller\",\"Adventure,Drama,Fantasy\",\"Horror,Thriller\",\"Action,Adventure,Fantasy\",\"Action,Adventure,Crime\",\"Drama,Horror,Mystery\",\"Crime,Drama,Thriller\",\"Action,Crime,Thriller\",\"Biography,Crime,Drama\",\"Biography,Drama,Sport\",\"Drama,Horror,Mystery\",\"Adventure,Sci-Fi,Thriller\",\"Comedy\",\"Drama,Horror,Mystery\",\"Horror,Mystery\",\"Action,Adventure,Thriller\",\"Comedy,Drama,Romance\",\"Action,Adventure,Drama\",\"Biography,Drama,History\",\"Drama,Fantasy,Horror\",\"Action,Adventure,Horror\",\"Action,Adventure,Crime\"],\"index\":[175113,262147,413028,444900,447239,449253,450329,452187,453776,453983,455769,457890,458066,460576,461163,461292,461940,462656,462946,463357,463824,464911,467650,469431,476390,480352,480912,482034,482036,483679,484753,485449,488760,490230,491129,491363,494436,495196,495587,497509,497940,498849,499672,501641,501786,508039,509093,509898,511274,511813,512713,514033,523829,526288,526301,527381,529738,537390,562179,562212,569278,575167,575310,579696,580243,581838,583764,589680,594002,598533,611079,612070,612917,616254,634672,637694,658795,664087,671268,756380,776336,818902,858569,875359,876243,879346,889139,893507,898662,900658,903636,906042,912589,915060,915945,941570,952470,954958,957103,961579,970042,971674,983041,983416,985554,990169,1009623,1017544,1028759,1049407,1051536,1057925,1059902,1060928,1064876,1065118,1065328,1068650,1070374,1072167,1076911,1077153,1080812,1087052,1089640,1089739,1091658,1092471,1099073,1100435,1108387,1117772,1118322,1128607,1128729,1134896,1138850,1139283,1143909,1144122,1153892,1154462,1155160,1159816,1166485,1170894,1178011,1181519,1181989,1182712,1185548,1186971,1190348,1191419,1191860,1192687,1192782,1195705,1198016,1198202,1198762,1199594,1200187,1200732,1200733,1201856,1202445,1202854,1203070,1203812,1204761,1204801],\"numVotes\":[158523,52938,164135,160409,87230,23955,25523,39358,29728,37657,19900,26857,23937,34851,80957,112101,26318,19883,25347,16478,43509,36629,19594,40317,67154,62902,22813,50768,32096,28848,45500,15075,167754,400567,174792,35589,26684,80687,28668,50568,15358,24544,34067,19118,145066,18567,48414,83549,20949,17173,364318,16844,28459,19704,20162,452069,38843,16696,33361,356311,30995,34093,23854,16187,131723,23420,15449,61906,15940,41333,37452,37998,16473,31992,18317,28640,36943,20381,168769,20065,39069,291114,99322,52942,206226,44657,64618,324120,63167,25812,18449,68780,31029,15113,70557,94264,23349,16674,90016,21865,34012,44169,18258,22431,189630,130209,111095,22337,18268,21490,67451,15675,41142,263248,287608,15929,34765,42905,23434,19561,71344,56981,39967,65034,22585,31726,28160,30239,100100,160373,21670,21322,19924,52630,20510,186046,86398,219736,42139,24318,36793,70602,30626,21793,58972,67654,198375,30057,25795,28656,42779,75809,48171,298739,33382,17413,102069,72805,15974,37774,75198,17044,22654,55377,45506,20849,19569,186072,68397,15772,32122,17857],\"originalTitle\":[\"Mortal Kombat\",\"Without Remorse\",\"Jungle Cruise\",\"Army of the Dead\",\"The Little Things\",\"Bhuj: The Pride of India\",\"Bhoot Police\",\"Thunder Force\",\"Thalaivi\",\"Cinderella\",\"A Boy Called Christmas\",\"Jolt\",\"Beckett\",\"Sardar Udham\",\"The Power of the Dog\",\"Shershaah\",\"Chehre\",\"Schumacher\",\"The Forever Purge\",\"Bliss\",\"Spiral: From the Book of Saw\",\"CODA\",\"Awake\",\"Outside the Wire\",\"Master\",\"Halloween Kills\",\"To All the Boys: Always and Forever\",\"The Harder They Fall\",\"Stillwater\",\"Sweet Girl\",\"Love Hard\",\"Night Teeth\",\"The Matrix Resurrections\",\"Spider-Man: No Way Home\",\"Radhe\",\"Mimi\",\"Titane\",\"Old\",\"Things Heard & Seen\",\"Pig\",\"Home Sweet Home Alone\",\"Haseen Dillruba\",\"Toofaan\",\"The Map of Tiny Perfect Things\",\"Wrath of Man\",\"The Card Counter\",\"House of Gucci\",\"The Unforgivable\",\"Bellbottom\",\"Licorice Pizza\",\"Don't Look Up\",\"Shiddat\",\"No Sudden Move\",\"Sarpatta Parambarai\",\"Karnan\",\"Dune: Part One\",\"The Witcher: Nightmare of the Wolf\",\"Till Death\",\"Drishyam 2\",\"Zack Snyder's Justice League\",\"Spencer\",\"Malcolm & Marie\",\"\\u00c8 stata la mano di Dio\",\"Belfast\",\"Luca\",\"Seungriho\",\"A Classic Horror Story\",\"Army of Thieves\",\"I onde dager\",\"In the Heights\",\"Antim: The Final Truth\",\"Dhamaka\",\"Meenakshi Sundareshwar\",\"Tom & Jerry\",\"14 Peaks: Nothing Is Impossible\",\"Seaspiracy\",\"Elk*rtuk\",\"15/07 Safak Vakti\",\"Jai Bhim\",\"Cry Macho\",\"Chaos Walking\",\"No Time to Die\",\"Encanto\",\"Those Who Wish Me Dead\",\"Cruella\",\"Reminiscence\",\"Finch\",\"Black Widow\",\"Space Jam: A New Legacy\",\"West Side Story\",\"Vacation Friends\",\"The Dig\",\"The Ice Road\",\"Barb and Star Go to Vista Del Mar\",\"Malignant\",\"The Last Duel\",\"Redemption Day\",\"SAS: Red Notice\",\"Ghostbusters: Afterlife\",\"He's All That\",\"Fatherhood\",\"The Mauritanian\",\"Maanaadu\",\"Being the Ricardos\",\"Godzilla vs. Kong\",\"Raya and the Last Dragon\",\"F9\",\"Wish Dragon\",\"Copshop\",\"The Prot\\u00e9g\\u00e9\",\"The Woman in the Window\",\"Annette\",\"Don't Breathe 2\",\"Free Guy\",\"The Suicide Squad\",\"Vivo\",\"Oxyg\\u00e8ne\",\"Blood Red Sky\",\"Moxie\",\"Sing 2\",\"Fear Street: 1994\",\"The White Tiger\",\"Infinite\",\"Coming 2 America\",\"The King's Man\",\"Palmer\",\"The Marksman\",\"Resident Evil: Welcome to Raccoon City\",\"The Conjuring: The Devil Made Me Do It\",\"Venom: Let There Be Carnage\",\"Minnal Murali\",\"Ron's Gone Wrong\",\"83\",\"Kate\",\"Antlers\",\"Nobody\",\"The Mitchells vs the Machines\",\"Red Notice\",\"The Many Saints of Newark\",\"Willy's Wonderland\",\"Gunpowder Milkshake\",\"Hitman's Wife's Bodyguard\",\"Snake Eyes: G.I. Joe Origins\",\"Yes Day\",\"tick, tick...BOOM!\",\"The French Dispatch\",\"Eternals\",\"The Lost Daughter\",\"Wrong Turn\",\"Cherry\",\"Stowaway\",\"The Green Knight\",\"Candyman\",\"Shang-Chi and the Legend of the Ten Rings\",\"Pushpa: The Rise - Part 1\",\"The Unholy\",\"The Guilty\",\"Sooryavanshi\",\"The Big Bull\",\"King Richard\",\"Last Night in Soho\",\"Voyagers\",\"Bad Trip\",\"Fear Street: 1978\",\"Fear Street: 1666\",\"Way Down\",\"Atrangi Re\",\"The Tomorrow War\",\"Judas and the Black Messiah\",\"Lamb\",\"Escape Room: Tournament of Champions\",\"Bajocero\"],\"primaryTitle\":[\"Mortal Kombat\",\"Without Remorse\",\"Jungle Cruise\",\"Army of the Dead\",\"The Little Things\",\"Bhuj: The Pride of India\",\"Bhoot Police\",\"Thunder Force\",\"Thalaivi\",\"Cinderella\",\"A Boy Called Christmas\",\"Jolt\",\"Beckett\",\"Sardar Udham\",\"The Power of the Dog\",\"Shershaah\",\"Chehre\",\"Schumacher\",\"The Forever Purge\",\"Bliss\",\"Spiral\",\"CODA\",\"Awake\",\"Outside the Wire\",\"Master\",\"Halloween Kills\",\"To All the Boys: Always and Forever\",\"The Harder They Fall\",\"Stillwater\",\"Sweet Girl\",\"Love Hard\",\"Night Teeth\",\"The Matrix Resurrections\",\"Spider-Man: No Way Home\",\"Radhe\",\"Mimi\",\"Titane\",\"Old\",\"Things Heard & Seen\",\"Pig\",\"Home Sweet Home Alone\",\"Haseen Dillruba\",\"Toofaan\",\"The Map of Tiny Perfect Things\",\"Wrath of Man\",\"The Card Counter\",\"House of Gucci\",\"The Unforgivable\",\"Bellbottom\",\"Licorice Pizza\",\"Don't Look Up\",\"Shiddat\",\"No Sudden Move\",\"Sarpatta Parambarai\",\"Karnan\",\"Dune\",\"The Witcher: Nightmare of the Wolf\",\"Till Death\",\"Drishyam 2\",\"Zack Snyder's Justice League\",\"Spencer\",\"Malcolm & Marie\",\"The Hand of God\",\"Belfast\",\"Luca\",\"Space Sweepers\",\"A Classic Horror Story\",\"Army of Thieves\",\"The Trip\",\"In the Heights\",\"Antim: The Final Truth\",\"Dhamaka\",\"Meenakshi Sundareshwar\",\"Tom and Jerry\",\"14 Peaks: Nothing Is Impossible\",\"Seaspiracy\",\"The Cost of Deception\",\"15/07 Safak Vakti\",\"Jai Bhim\",\"Cry Macho\",\"Chaos Walking\",\"No Time to Die\",\"Encanto\",\"Those Who Wish Me Dead\",\"Cruella\",\"Reminiscence\",\"Finch\",\"Black Widow\",\"Space Jam: A New Legacy\",\"West Side Story\",\"Vacation Friends\",\"The Dig\",\"The Ice Road\",\"Barb and Star Go to Vista Del Mar\",\"Malignant\",\"The Last Duel\",\"Redemption Day\",\"SAS: Red Notice\",\"Ghostbusters: Afterlife\",\"He's All That\",\"Fatherhood\",\"The Mauritanian\",\"Maanaadu\",\"Being the Ricardos\",\"Godzilla vs. Kong\",\"Raya and the Last Dragon\",\"F9: The Fast Saga\",\"Wish Dragon\",\"Copshop\",\"The Prot\\u00e9g\\u00e9\",\"The Woman in the Window\",\"Annette\",\"Don't Breathe 2\",\"Free Guy\",\"The Suicide Squad\",\"Vivo\",\"Oxygen\",\"Blood Red Sky\",\"Moxie\",\"Sing 2\",\"Fear Street: Part One - 1994\",\"The White Tiger\",\"Infinite\",\"Coming 2 America\",\"The King's Man\",\"Palmer\",\"The Marksman\",\"Resident Evil: Welcome to Raccoon City\",\"The Conjuring: The Devil Made Me Do It\",\"Venom: Let There Be Carnage\",\"Minnal Murali\",\"Ron's Gone Wrong\",\"'83\",\"Kate\",\"Antlers\",\"Nobody\",\"The Mitchells vs the Machines\",\"Red Notice\",\"The Many Saints of Newark\",\"Willy's Wonderland\",\"Gunpowder Milkshake\",\"Hitman's Wife's Bodyguard\",\"Snake Eyes\",\"Yes Day\",\"tick, tick...BOOM!\",\"The French Dispatch\",\"Eternals\",\"The Lost Daughter\",\"Wrong Turn\",\"Cherry\",\"Stowaway\",\"The Green Knight\",\"Candyman\",\"Shang-Chi and the Legend of the Ten Rings\",\"Pushpa: The Rise - Part 1\",\"The Unholy\",\"The Guilty\",\"Sooryavanshi\",\"The Big Bull\",\"King Richard\",\"Last Night in Soho\",\"Voyagers\",\"Bad Trip\",\"Fear Street: Part Two - 1978\",\"Fear Street: Part Three - 1666\",\"The Vault\",\"Atrangi Re\",\"The Tomorrow War\",\"Judas and the Black Messiah\",\"Lamb\",\"Escape Room: Tournament of Champions\",\"Below Zero\"],\"runtimeMinutes\":{\"__ndarray__\":\"bgAAAG0AAAB/AAAAlAAAAIAAAABxAAAAgQAAAGoAAACZAAAAcQAAAGoAAABbAAAAbgAAAKQAAAB+AAAAhwAAAIsAAABwAAAAZwAAAGcAAABdAAAAbwAAAGAAAAByAAAAswAAAGkAAABtAAAAiwAAAIsAAABuAAAAaAAAAGsAAACUAAAAlAAAAIcAAACEAAAAbAAAAGwAAAB5AAAAXAAAAF0AAACHAAAAowAAAGIAAAB3AAAAbwAAAJ4AAABwAAAAewAAAIUAAACKAAAAkgAAAHMAAACtAAAAngAAAJsAAABTAAAAWAAAAJgAAADyAAAAdQAAAGoAAACCAAAAYgAAAF8AAACIAAAAXwAAAH8AAABxAAAAjwAAAIoAAABnAAAAjAAAAGUAAABlAAAAWQAAAH0AAABfAAAApAAAAGgAAABtAAAAowAAAGYAAABkAAAAhgAAAHQAAABzAAAAhgAAAHMAAACcAAAAZwAAAHAAAABtAAAAawAAAG8AAACYAAAAYwAAAHwAAAB8AAAAWAAAAG0AAACBAAAAkwAAAIMAAABxAAAAawAAAI8AAABiAAAAawAAAG0AAABkAAAAjQAAAGIAAABzAAAAhAAAAF8AAABkAAAAeQAAAG8AAABuAAAAawAAAH0AAABqAAAAbgAAAIMAAABuAAAAbAAAAGsAAABwAAAAYQAAAJ4AAABrAAAAogAAAGoAAABjAAAAXAAAAHEAAAB2AAAAeAAAAFgAAAByAAAAZAAAAHkAAABWAAAAcwAAAGsAAACcAAAAeQAAAG0AAACOAAAAdAAAAIIAAABbAAAAhAAAALMAAABjAAAAWgAAAJEAAACZAAAAkAAAAHQAAABsAAAAVgAAAG0AAAByAAAAdgAAAIoAAACKAAAAfgAAAGoAAABYAAAAagAAAA==\",\"dtype\":\"int32\",\"order\":\"little\",\"shape\":[172]},\"size\":{\"__ndarray__\":\"7BP6vWQFJEDx2TB9TM8bQKU0zrd6RiRAVdQfr2QbJEAXdUP2qkcgQJzCLbMeVBZA1owfZwGxFkCCiMQXw4AZQCltTAPfnBdAUApiggAwGUCW+1Fbu1QVQNnpkDzO/RZA8+0qSAlTFkBx3GjrrqYYQO7YQRjGxR9AD6HVH1u3IUC4OCh2At8WQA0dyeKbUxVALIlWdrmmFkCoPONjFmgUQLuTfhvOPhpAbDdn2k7+GEC3YOvxcUAVQC2vKWuGrRlAaaLzcLnsHUDeCt46XVEdQH4Cbn6KDhZAkvj7wYN2G0CEfGp6XhoYQBHWLxz3bBdAHgIzFryWGkAAAAAAAAAUQJKDAcbcbyRA//Z81WiQLEDQOZwqFb8kQJoDsbJRyxhAHvzzg/TzFkAmsYML7bwfQLFIjKQTYxdAGUE+tDxuG0CDg0OTXxUUQAlIJZ1bdxZATfeTHVZ/GEB0HP4FkiAVQNDfm8p2ZCNA7vuleyz7FEA7F8RaBxQbQBvYf6D8DCBAEHfpdB6ZFUBKNBmPAZoUQA4wF7NLfytAI5aYBYGCFEBuVApWjlcXQE8wz37BRxVA7GHlW/plFUAAAAAAAAAuQE9drpV/aBlA5gOCV9t3FEDAsYnNg1sYQFHRctgoQStAEWM7vJ3gF0BohG4CpoAYQPdmpLkIThZAE8CWxN9SFEBCvbADWL0iQExCETi8MxZAzzfOQTQcFECuTtE4OCwdQD0/59i3QBRAupMpI1/cGUCDcjSZJSYZQLZX7f1VQBlAKOG9fLlnFEBYaRng9BQYQM0Sg/MF6hRA7H88JYlhF0A6W0pgjw0ZQOcJd8xOdBVA1h5FdWN7JEDm5Akpm18VQIhjT3MqcxlAv0/J/LQqKUBKm6vTMAAhQOQAYPN1zxtAQA85J9YOJkDSmMyavnEaQKlpik+tkB1AwausRAJAKkBmz5OIMlsdQHzRtI/PwRZA4BwL3BfzFEBGCvt41CYeQGBPMzJq4hdA36qoquECFECkQqUvjWUeQJ8EmWZ0tCBAwJoz5mgvFkCqU7YkRXYUQGFcCxxDcyBAnHr1j3LTFUB1juMlj3wYQEbVe/wrXBpA/aRwbPXlFEC7jA0t4fYVQDZ6n+wIYSVAFyYZNNupIkCnRCMXVKkhQITOuL0G8RVAMi8E56XmFEBS1ygUuLsVQCoh2Mxj9x1A0iTw/BQtFECWn2/ym9MZQCJFs7oUNChAbpYe0FgMKUACxCwF6D8UQEaYvZBjohhASmwY+7sjGkAyCpVdljQWQCyxv3Q/PhVAmSSgvxOBHkC6RRKq/W8cQNaOGCRAnRlAvJXkBOafHUAujhZKcQAWQFYfBqYSBxhA0g9hGQBHF0DS2W05XbgXQIjBmN2qCyFAmuIMfvkaJEBSsaZjIscVQHRL2oYFsRVA1I8r/VBWFUD3l0w5z8IbQFt60XC2fBVA4rTwuIM6JUD8nmGwgzogQCpUHDw3lyZAsYRIkSABGkDiksw242kWQIR1oTxIBhlAXK6eKCFnHkDn1VALCM0XQL5whVPozhVAfH2VKQe9HEDAfE2Mqv4dQJGpFzyGvSVAPHYOVZmuF0BuWHgp08AWQFldmZhqYhdAOkbDJxAeGkDixlh7chofQIq37iO6CRtAJUKgRRxsKUBUsnb3lVwYQC9tqD4CqxRAfK/X+oMoIUB4JMfRxrMeQAkK1cQ5QxRA/olFVp01GUBM2rNKuwUfQHaySWvRkBRAOMeadrcEFkB7eoOI8TAcQIYUWCv/lhpAFmLOtqySFUAi70zcxz4VQLN0vJnLOiVAOgnxqjQZHkBc7BPnSTQUQN3zKYe4GxhALh3/WyjKFEA=\",\"dtype\":\"float64\",\"order\":\"little\",\"shape\":[172]},\"startYear\":{\"__ndarray__\":\"5QcAAOUHAADlBwAA5QcAAOUHAADlBwAA5QcAAOUHAADlBwAA5QcAAOUHAADlBwAA5QcAAOUHAADlBwAA5QcAAOUHAADlBwAA5QcAAOUHAADlBwAA5QcAAOUHAADlBwAA5QcAAOUHAADlBwAA5QcAAOUHAADlBwAA5QcAAOUHAADlBwAA5QcAAOUHAADlBwAA5QcAAOUHAADlBwAA5QcAAOUHAADlBwAA5QcAAOUHAADlBwAA5QcAAOUHAADlBwAA5QcAAOUHAADlBwAA5QcAAOUHAADlBwAA5QcAAOUHAADlBwAA5QcAAOUHAADlBwAA5QcAAOUHAADlBwAA5QcAAOUHAADlBwAA5QcAAOUHAADlBwAA5QcAAOUHAADlBwAA5QcAAOUHAADlBwAA5QcAAOUHAADlBwAA5QcAAOUHAADlBwAA5QcAAOUHAADlBwAA5QcAAOUHAADlBwAA5QcAAOUHAADlBwAA5QcAAOUHAADlBwAA5QcAAOUHAADlBwAA5QcAAOUHAADlBwAA5QcAAOUHAADlBwAA5QcAAOUHAADlBwAA5QcAAOUHAADlBwAA5QcAAOUHAADlBwAA5QcAAOUHAADlBwAA5QcAAOUHAADlBwAA5QcAAOUHAADlBwAA5QcAAOUHAADlBwAA5QcAAOUHAADlBwAA5QcAAOUHAADlBwAA5QcAAOUHAADlBwAA5QcAAOUHAADlBwAA5QcAAOUHAADlBwAA5QcAAOUHAADlBwAA5QcAAOUHAADlBwAA5QcAAOUHAADlBwAA5QcAAOUHAADlBwAA5QcAAOUHAADlBwAA5QcAAOUHAADlBwAA5QcAAOUHAADlBwAA5QcAAOUHAADlBwAA5QcAAOUHAADlBwAA5QcAAOUHAADlBwAA5QcAAOUHAADlBwAA5QcAAA==\",\"dtype\":\"int32\",\"order\":\"little\",\"shape\":[172]},\"tconst\":[\"tt0293429\",\"tt0499097\",\"tt0870154\",\"tt0993840\",\"tt10016180\",\"tt10062556\",\"tt10083640\",\"tt10121392\",\"tt10152736\",\"tt10155932\",\"tt10187208\",\"tt10228134\",\"tt10230994\",\"tt10280296\",\"tt10293406\",\"tt10295212\",\"tt10309902\",\"tt10322274\",\"tt10327252\",\"tt10333426\",\"tt10342730\",\"tt10366460\",\"tt10418662\",\"tt10451914\",\"tt10579952\",\"tt10665338\",\"tt10676012\",\"tt10696784\",\"tt10696896\",\"tt10731768\",\"tt10752004\",\"tt10763820\",\"tt10838180\",\"tt10872600\",\"tt10888594\",\"tt10895576\",\"tt10944760\",\"tt10954652\",\"tt10962368\",\"tt11003218\",\"tt11012066\",\"tt11027830\",\"tt11045422\",\"tt11080108\",\"tt11083552\",\"tt11196036\",\"tt11214590\",\"tt11233960\",\"tt11260832\",\"tt11271038\",\"tt11286314\",\"tt11314148\",\"tt11525644\",\"tt11580854\",\"tt11581174\",\"tt1160419\",\"tt11657662\",\"tt11804152\",\"tt12361178\",\"tt12361974\",\"tt12536294\",\"tt12676326\",\"tt12680684\",\"tt12789558\",\"tt12801262\",\"tt12838766\",\"tt12877640\",\"tt13024674\",\"tt13109952\",\"tt1321510\",\"tt13491110\",\"tt13510660\",\"tt13529034\",\"tt1361336\",\"tt14079374\",\"tt14152756\",\"tt14723224\",\"tt14878948\",\"tt15097216\",\"tt1924245\",\"tt2076822\",\"tt2382320\",\"tt2953050\",\"tt3215824\",\"tt3228774\",\"tt3272066\",\"tt3420504\",\"tt3480822\",\"tt3554046\",\"tt3581652\",\"tt3626476\",\"tt3661210\",\"tt3758814\",\"tt3797512\",\"tt3811906\",\"tt4244994\",\"tt4439620\",\"tt4479380\",\"tt4513678\",\"tt4590256\",\"tt4733624\",\"tt4761112\",\"tt4983780\",\"tt4995540\",\"tt5034838\",\"tt5109280\",\"tt5433138\",\"tt5562070\",\"tt5748448\",\"tt6079772\",\"tt6111574\",\"tt6217926\",\"tt6246322\",\"tt6264654\",\"tt6334354\",\"tt6338498\",\"tt6341832\",\"tt6402468\",\"tt6432466\",\"tt6467266\",\"tt6566576\",\"tt6571548\",\"tt6654210\",\"tt6802400\",\"tt6856242\",\"tt6857376\",\"tt6902332\",\"tt6920084\",\"tt7069210\",\"tt7097896\",\"tt7268738\",\"tt7504818\",\"tt7518786\",\"tt7737528\",\"tt7740510\",\"tt7888964\",\"tt7979580\",\"tt7991608\",\"tt8110232\",\"tt8114980\",\"tt8368408\",\"tt8385148\",\"tt8404256\",\"tt8521876\",\"tt8721424\",\"tt8847712\",\"tt9032400\",\"tt9100054\",\"tt9110170\",\"tt9130508\",\"tt9203694\",\"tt9243804\",\"tt9347730\",\"tt9376612\",\"tt9389998\",\"tt9419056\",\"tt9421570\",\"tt9531772\",\"tt9614452\",\"tt9620288\",\"tt9639470\",\"tt9664108\",\"tt9684220\",\"tt9701940\",\"tt9701942\",\"tt9742794\",\"tt9766332\",\"tt9777666\",\"tt9784798\",\"tt9812474\",\"tt9844522\",\"tt9845564\"],\"titleType\":[\"movie\",\"movie\",\"movie\",\"movie\",\"movie\",\"movie\",\"movie\",\"movie\",\"movie\",\"movie\",\"movie\",\"movie\",\"movie\",\"movie\",\"movie\",\"movie\",\"movie\",\"movie\",\"movie\",\"movie\",\"movie\",\"movie\",\"movie\",\"movie\",\"movie\",\"movie\",\"movie\",\"movie\",\"movie\",\"movie\",\"movie\",\"movie\",\"movie\",\"movie\",\"movie\",\"movie\",\"movie\",\"movie\",\"movie\",\"movie\",\"movie\",\"movie\",\"movie\",\"movie\",\"movie\",\"movie\",\"movie\",\"movie\",\"movie\",\"movie\",\"movie\",\"movie\",\"movie\",\"movie\",\"movie\",\"movie\",\"movie\",\"movie\",\"movie\",\"movie\",\"movie\",\"movie\",\"movie\",\"movie\",\"movie\",\"movie\",\"movie\",\"movie\",\"movie\",\"movie\",\"movie\",\"movie\",\"movie\",\"movie\",\"movie\",\"movie\",\"movie\",\"movie\",\"movie\",\"movie\",\"movie\",\"movie\",\"movie\",\"movie\",\"movie\",\"movie\",\"movie\",\"movie\",\"movie\",\"movie\",\"movie\",\"movie\",\"movie\",\"movie\",\"movie\",\"movie\",\"movie\",\"movie\",\"movie\",\"movie\",\"movie\",\"movie\",\"movie\",\"movie\",\"movie\",\"movie\",\"movie\",\"movie\",\"movie\",\"movie\",\"movie\",\"movie\",\"movie\",\"movie\",\"movie\",\"movie\",\"movie\",\"movie\",\"movie\",\"movie\",\"movie\",\"movie\",\"movie\",\"movie\",\"movie\",\"movie\",\"movie\",\"movie\",\"movie\",\"movie\",\"movie\",\"movie\",\"movie\",\"movie\",\"movie\",\"movie\",\"movie\",\"movie\",\"movie\",\"movie\",\"movie\",\"movie\",\"movie\",\"movie\",\"movie\",\"movie\",\"movie\",\"movie\",\"movie\",\"movie\",\"movie\",\"movie\",\"movie\",\"movie\",\"movie\",\"movie\",\"movie\",\"movie\",\"movie\",\"movie\",\"movie\",\"movie\",\"movie\",\"movie\",\"movie\",\"movie\",\"movie\",\"movie\",\"movie\",\"movie\",\"movie\",\"movie\"]},\"selected\":{\"id\":\"2068\"},\"selection_policy\":{\"id\":\"2067\"}},\"id\":\"1690\",\"type\":\"ColumnDataSource\"},{\"attributes\":{},\"id\":\"2062\",\"type\":\"BasicTickFormatter\"},{\"attributes\":{\"bottom\":5.330462418124894,\"coordinates\":null,\"fill_alpha\":0.1,\"fill_color\":\"#0072B2\",\"group\":null,\"top\":7.649537581875107},\"id\":\"1736\",\"type\":\"BoxAnnotation\"},{\"attributes\":{},\"id\":\"2063\",\"type\":\"AllLabels\"},{\"attributes\":{\"source\":{\"id\":\"1690\"}},\"id\":\"1733\",\"type\":\"CDSView\"},{\"attributes\":{},\"id\":\"1710\",\"type\":\"PanTool\"},{\"attributes\":{},\"id\":\"2065\",\"type\":\"BasicTickFormatter\"},{\"attributes\":{\"callback\":null,\"tooltips\":[[\"Durata (Min)\",\"@runtimeMinutes\"],[\"Media Voti\",\"@averageRating\"],[\"Titolo\",\"@primaryTitle\"],[\"Voti\",\"@numVotes\"]]},\"id\":\"1734\",\"type\":\"HoverTool\"},{\"attributes\":{\"coordinates\":null,\"data_source\":{\"id\":\"1690\"},\"glyph\":{\"id\":\"1729\"},\"group\":null,\"hover_glyph\":null,\"muted_glyph\":{\"id\":\"1731\"},\"nonselection_glyph\":{\"id\":\"1730\"},\"view\":{\"id\":\"1733\"}},\"id\":\"1732\",\"type\":\"GlyphRenderer\"},{\"attributes\":{\"axis_label\":\"Rating\",\"coordinates\":null,\"formatter\":{\"id\":\"2051\"},\"group\":null,\"major_label_policy\":{\"id\":\"2052\"},\"ticker\":{\"id\":\"1707\"}},\"id\":\"1706\",\"type\":\"LinearAxis\"},{\"attributes\":{\"high\":452069,\"low\":15075,\"palette\":[\"#000069\",\"#000069\",\"#000069\",\"#000069\",\"#000069\",\"#000069\",\"#000069\",\"#000069\",\"#000069\",\"#000069\",\"#000069\",\"#000069\",\"#00006A\",\"#00006A\",\"#00006A\",\"#00006A\",\"#00006A\",\"#00006A\",\"#00006A\",\"#00006A\",\"#00006A\",\"#00006A\",\"#00006A\",\"#00006A\",\"#00006A\",\"#00006B\",\"#00006B\",\"#00006B\",\"#00006B\",\"#00006B\",\"#00006B\",\"#00006B\",\"#00006B\",\"#00006B\",\"#00006B\",\"#00006B\",\"#00006B\",\"#00006B\",\"#00006B\",\"#00006B\",\"#00006B\",\"#00006B\",\"#00006B\",\"#00006B\",\"#00006C\",\"#00006C\",\"#00006C\",\"#00006C\",\"#00006C\",\"#00006C\",\"#00006C\",\"#00006C\",\"#00006C\",\"#00006C\",\"#00006C\",\"#00006C\",\"#00006D\",\"#00006D\",\"#00006D\",\"#00006D\",\"#00006D\",\"#00006D\",\"#00006D\",\"#00006D\",\"#00006E\",\"#00006E\",\"#00006E\",\"#00006E\",\"#00006E\",\"#00006E\",\"#00006E\",\"#00006E\",\"#00006E\",\"#00006E\",\"#00006E\",\"#00006F\",\"#00006F\",\"#00006F\",\"#00006F\",\"#00006F\",\"#00006F\",\"#000070\",\"#000070\",\"#000070\",\"#000070\",\"#000070\",\"#000070\",\"#000070\",\"#000070\",\"#000071\",\"#000071\",\"#000071\",\"#000071\",\"#000071\",\"#000071\",\"#000071\",\"#000071\",\"#000072\",\"#000072\",\"#000072\",\"#000072\",\"#000072\",\"#000073\",\"#000073\",\"#000073\",\"#000073\",\"#000073\",\"#000073\",\"#000073\",\"#000074\",\"#000074\",\"#000075\",\"#000075\",\"#000076\",\"#000076\",\"#000076\",\"#000077\",\"#000077\",\"#000078\",\"#000079\",\"#000079\",\"#00007A\",\"#00007A\",\"#00007A\",\"#00007B\",\"#00007B\",\"#00007B\",\"#00007B\",\"#00007B\",\"#00007C\",\"#00007C\",\"#00007C\",\"#00007D\",\"#00007E\",\"#00007E\",\"#000080\",\"#000080\",\"#000081\",\"#000081\",\"#000082\",\"#000083\",\"#000084\",\"#000086\",\"#000086\",\"#000087\",\"#00008A\",\"#00008A\",\"#000091\",\"#000091\",\"#000096\",\"#00009A\",\"#00009B\",\"#00009B\",\"#00009C\",\"#00009D\",\"#00009E\",\"#0000A0\",\"#0000A4\",\"#0000A4\",\"#0000A5\",\"#0000A8\",\"#0000AB\",\"#0000AF\",\"#0000BE\",\"#0000C7\",\"#0000C8\",\"#0000CA\",\"#0000D3\",\"#0000DE\",\"#0000E1\",\"#0000ED\",\"#0000FF\"]},\"id\":\"1973\",\"type\":\"LinearColorMapper\"},{\"attributes\":{},\"id\":\"2066\",\"type\":\"AllLabels\"},{\"attributes\":{\"children\":[{\"id\":\"1691\"},{\"id\":\"1915\"}]},\"id\":\"1976\",\"type\":\"Column\"},{\"attributes\":{\"align\":\"right\",\"coordinates\":null,\"group\":null,\"text\":\"Fonte IMDb\",\"text_font_size\":\"10pt\"},\"id\":\"1975\",\"type\":\"Title\"},{\"attributes\":{},\"id\":\"1707\",\"type\":\"BasicTicker\"},{\"attributes\":{},\"id\":\"1711\",\"type\":\"WheelZoomTool\"},{\"attributes\":{},\"id\":\"1920\",\"type\":\"LinearScale\"},{\"attributes\":{\"coordinates\":null,\"formatter\":{\"id\":\"2065\"},\"group\":null,\"major_label_policy\":{\"id\":\"2066\"},\"ticker\":{\"id\":\"1925\"},\"visible\":false},\"id\":\"1924\",\"type\":\"LinearAxis\"},{\"attributes\":{\"coordinates\":null,\"fill_alpha\":0.1,\"fill_color\":\"#0072B2\",\"group\":null,\"left\":96.77252098292823,\"right\":142.82747901707177},\"id\":\"1737\",\"type\":\"BoxAnnotation\"},{\"attributes\":{\"background\":\"#fff\",\"style\":{\"color\":\"#000\",\"height\":\"460px\",\"margin-top\":\"200px\"},\"text\":\"L'area dei punti indicano il numero di voti ottenuti su IMDb.\\nLe dimensioni sono calcolate base all'area e non in base al diametro.\"},\"id\":\"1977\",\"type\":\"Div\"},{\"attributes\":{},\"id\":\"1874\",\"type\":\"DataRange1d\"},{\"attributes\":{\"below\":[{\"id\":\"1882\"}],\"center\":[{\"id\":\"1885\"},{\"id\":\"1889\"}],\"frame_width\":50,\"height\":465,\"left\":[{\"id\":\"1886\"}],\"margin\":[30,0,0,0],\"renderers\":[{\"id\":\"1908\"}],\"title\":{\"id\":\"1910\"},\"toolbar\":{\"id\":\"1897\"},\"toolbar_location\":null,\"x_range\":{\"id\":\"1874\"},\"x_scale\":{\"id\":\"1878\"},\"y_range\":{\"id\":\"1876\"},\"y_scale\":{\"id\":\"1880\"}},\"id\":\"1873\",\"subtype\":\"Figure\",\"type\":\"Plot\"},{\"attributes\":{\"coordinates\":null,\"formatter\":{\"id\":\"2042\"},\"group\":null,\"major_label_policy\":{\"id\":\"2043\"},\"ticker\":{\"id\":\"1883\"},\"visible\":false},\"id\":\"1882\",\"type\":\"LinearAxis\"},{\"attributes\":{\"fill_alpha\":{\"value\":0.1},\"fill_color\":{\"field\":\"color\"},\"hatch_alpha\":{\"value\":0.1},\"line_alpha\":{\"value\":0.1},\"line_color\":{\"value\":\"white\"},\"line_width\":{\"value\":0},\"size\":{\"field\":\"size\"},\"x\":{\"field\":\"runtimeMinutes\"},\"y\":{\"field\":\"averageRating\"}},\"id\":\"1730\",\"type\":\"Circle\"},{\"attributes\":{\"fill_alpha\":{\"value\":0.2},\"fill_color\":{\"field\":\"color\"},\"hatch_alpha\":{\"value\":0.2},\"line_alpha\":{\"value\":0.2},\"line_color\":{\"value\":\"white\"},\"line_width\":{\"value\":0},\"size\":{\"field\":\"size\"},\"x\":{\"field\":\"runtimeMinutes\"},\"y\":{\"field\":\"averageRating\"}},\"id\":\"1731\",\"type\":\"Circle\"},{\"attributes\":{},\"id\":\"2067\",\"type\":\"UnionRenderers\"},{\"attributes\":{\"axis\":{\"id\":\"1928\"},\"coordinates\":null,\"dimension\":1,\"grid_line_color\":null,\"group\":null,\"ticker\":null},\"id\":\"1931\",\"type\":\"Grid\"},{\"attributes\":{\"data\":{},\"selected\":{\"id\":\"2073\"},\"selection_policy\":{\"id\":\"2072\"}},\"id\":\"2057\",\"type\":\"ColumnDataSource\"},{\"attributes\":{\"bottom\":{\"field\":\"bottom\"},\"fill_color\":{\"value\":\"#66B3FF\"},\"left\":{\"field\":\"left\"},\"line_color\":{\"value\":\"#1f77b4\"},\"right\":{\"value\":0},\"top\":{\"field\":\"top\"}},\"id\":\"1905\",\"type\":\"Quad\"},{\"attributes\":{},\"id\":\"2068\",\"type\":\"Selection\"},{\"attributes\":{\"axis\":{\"id\":\"1924\"},\"coordinates\":null,\"grid_line_color\":null,\"group\":null,\"ticker\":null},\"id\":\"1927\",\"type\":\"Grid\"},{\"attributes\":{},\"id\":\"1925\",\"type\":\"BasicTicker\"},{\"attributes\":{\"data\":{},\"selected\":{\"id\":\"2075\"},\"selection_policy\":{\"id\":\"2074\"}},\"id\":\"2058\",\"type\":\"ColumnDataSource\"},{\"attributes\":{},\"id\":\"1876\",\"type\":\"DataRange1d\"},{\"attributes\":{},\"id\":\"1922\",\"type\":\"LinearScale\"},{\"attributes\":{\"axis\":{\"id\":\"1706\"},\"coordinates\":null,\"dimension\":1,\"group\":null,\"ticker\":null},\"id\":\"1709\",\"type\":\"Grid\"},{\"attributes\":{\"data\":{},\"selected\":{\"id\":\"2077\"},\"selection_policy\":{\"id\":\"2076\"}},\"id\":\"2059\",\"type\":\"ColumnDataSource\"},{\"attributes\":{\"coordinates\":null,\"dimension\":\"height\",\"group\":null,\"line_color\":\"#AAAAAA\",\"line_width\":2,\"location\":119.8},\"id\":\"1727\",\"type\":\"Span\"},{\"attributes\":{},\"id\":\"1698\",\"type\":\"LinearScale\"},{\"attributes\":{\"axis\":{\"id\":\"1702\"},\"coordinates\":null,\"group\":null,\"ticker\":null},\"id\":\"1705\",\"type\":\"Grid\"},{\"attributes\":{},\"id\":\"1700\",\"type\":\"LinearScale\"},{\"attributes\":{\"fill_color\":{\"field\":\"color\"},\"line_color\":{\"value\":\"white\"},\"line_width\":{\"value\":0},\"size\":{\"field\":\"size\"},\"x\":{\"field\":\"runtimeMinutes\"},\"y\":{\"field\":\"averageRating\"}},\"id\":\"1729\",\"type\":\"Circle\"},{\"attributes\":{\"data\":{},\"selected\":{\"id\":\"2079\"},\"selection_policy\":{\"id\":\"2078\"}},\"id\":\"2060\",\"type\":\"ColumnDataSource\"},{\"attributes\":{\"end\":10},\"id\":\"1724\",\"type\":\"Range1d\"},{\"attributes\":{\"coordinates\":null,\"group\":null,\"text\":\"Correlazione tra durata (in minuti) e rating medio dei film nell'anno 2021.\\nLe linee grigie rappresentano la media, le bande attorno ad esse la deviazione standard\"},\"id\":\"1692\",\"type\":\"Title\"},{\"attributes\":{\"axis_label\":\"Durata (Minuti)\",\"coordinates\":null,\"formatter\":{\"id\":\"2054\"},\"group\":null,\"major_label_policy\":{\"id\":\"2055\"},\"ticker\":{\"id\":\"1703\"}},\"id\":\"1702\",\"type\":\"LinearAxis\"},{\"attributes\":{},\"id\":\"1883\",\"type\":\"BasicTicker\"},{\"attributes\":{\"data\":{\"bottom\":{\"__ndarray__\":\"AAAAAAEAAAACAAAAAwAAAAQAAAAFAAAABgAAAAcAAAAIAAAACQAAAA==\",\"dtype\":\"int32\",\"order\":\"little\",\"shape\":[10]},\"left\":[0,-2,-1,-1,-6,-39,-64,-43,-15,-1],\"top\":{\"__ndarray__\":\"AQAAAAIAAAADAAAABAAAAAUAAAAGAAAABwAAAAgAAAAJAAAACgAAAA==\",\"dtype\":\"int32\",\"order\":\"little\",\"shape\":[10]}},\"selected\":{\"id\":\"2048\"},\"selection_policy\":{\"id\":\"2047\"}},\"id\":\"1904\",\"type\":\"ColumnDataSource\"},{\"attributes\":{},\"id\":\"2039\",\"type\":\"BasicTickFormatter\"},{\"attributes\":{},\"id\":\"1929\",\"type\":\"BasicTicker\"},{\"attributes\":{},\"id\":\"2040\",\"type\":\"AllLabels\"},{\"attributes\":{\"coordinates\":null,\"formatter\":{\"id\":\"2062\"},\"group\":null,\"major_label_policy\":{\"id\":\"2063\"},\"ticker\":{\"id\":\"1929\"},\"visible\":false},\"id\":\"1928\",\"type\":\"LinearAxis\"},{\"attributes\":{\"data\":{\"index\":[0,1,2,3,4],\"text\":[\"Zack Snyder's Justice League\",\"The cost of deception\",\"Seaspiracy\",\"Jai Bihim\",\"Toofaan\"],\"x\":[242,125,89,164,163],\"y\":{\"__ndarray__\":\"MzMzMzMzIEAAAAAAAAD4P2ZmZmZmZiBAmpmZmZmZIkDNzMzMzMwUQA==\",\"dtype\":\"float64\",\"order\":\"little\",\"shape\":[5]}},\"selected\":{\"id\":\"2071\"},\"selection_policy\":{\"id\":\"2070\"}},\"id\":\"1738\",\"type\":\"ColumnDataSource\"},{\"attributes\":{},\"id\":\"1880\",\"type\":\"LinearScale\"},{\"attributes\":{},\"id\":\"2042\",\"type\":\"BasicTickFormatter\"},{\"attributes\":{\"bottom\":{\"field\":\"bottom\"},\"fill_alpha\":{\"value\":0.2},\"fill_color\":{\"value\":\"#66B3FF\"},\"hatch_alpha\":{\"value\":0.2},\"left\":{\"field\":\"left\"},\"line_alpha\":{\"value\":0.2},\"line_color\":{\"value\":\"#1f77b4\"},\"right\":{\"value\":0},\"top\":{\"field\":\"top\"}},\"id\":\"1907\",\"type\":\"Quad\"},{\"attributes\":{},\"id\":\"1703\",\"type\":\"BasicTicker\"},{\"attributes\":{},\"id\":\"2043\",\"type\":\"AllLabels\"},{\"attributes\":{\"source\":{\"id\":\"1904\"}},\"id\":\"1909\",\"type\":\"CDSView\"},{\"attributes\":{\"coordinates\":null,\"group\":null,\"line_color\":\"#AAAAAA\",\"line_width\":2,\"location\":6.49},\"id\":\"1726\",\"type\":\"Span\"},{\"attributes\":{\"end\":250,\"start\":80},\"id\":\"1725\",\"type\":\"Range1d\"},{\"attributes\":{\"below\":[{\"id\":\"1702\"},{\"id\":\"1974\"},{\"id\":\"1975\"}],\"center\":[{\"id\":\"1705\"},{\"id\":\"1709\"},{\"id\":\"1726\"},{\"id\":\"1727\"},{\"id\":\"1736\"},{\"id\":\"1737\"},{\"id\":\"1739\"},{\"id\":\"1958\"},{\"id\":\"1960\"},{\"id\":\"1962\"},{\"id\":\"1964\"},{\"id\":\"1966\"},{\"id\":\"1968\"},{\"id\":\"1970\"},{\"id\":\"1972\"}],\"left\":[{\"id\":\"1706\"}],\"renderers\":[{\"id\":\"1732\"}],\"title\":{\"id\":\"1692\"},\"toolbar\":{\"id\":\"1717\"},\"x_range\":{\"id\":\"1725\"},\"x_scale\":{\"id\":\"1698\"},\"y_range\":{\"id\":\"1724\"},\"y_scale\":{\"id\":\"1700\"}},\"id\":\"1691\",\"subtype\":\"Figure\",\"type\":\"Plot\"},{\"attributes\":{\"coordinates\":null,\"group\":null,\"source\":{\"id\":\"1738\"},\"text\":{\"field\":\"text\"},\"x\":{\"field\":\"x\"},\"x_offset\":{\"value\":5},\"y\":{\"field\":\"y\"},\"y_offset\":{\"value\":-10}},\"id\":\"1739\",\"type\":\"LabelSet\"},{\"attributes\":{\"coordinates\":null,\"data_source\":{\"id\":\"1904\"},\"glyph\":{\"id\":\"1905\"},\"group\":null,\"hover_glyph\":null,\"muted_glyph\":{\"id\":\"1907\"},\"nonselection_glyph\":{\"id\":\"1906\"},\"view\":{\"id\":\"1909\"}},\"id\":\"1908\",\"type\":\"GlyphRenderer\"},{\"attributes\":{},\"id\":\"2070\",\"type\":\"UnionRenderers\"},{\"attributes\":{\"bottom\":{\"field\":\"bottom\"},\"fill_alpha\":{\"value\":0.1},\"fill_color\":{\"value\":\"#66B3FF\"},\"hatch_alpha\":{\"value\":0.1},\"left\":{\"field\":\"left\"},\"line_alpha\":{\"value\":0.1},\"line_color\":{\"value\":\"#1f77b4\"},\"right\":{\"value\":0},\"top\":{\"field\":\"top\"}},\"id\":\"1906\",\"type\":\"Quad\"},{\"attributes\":{},\"id\":\"1878\",\"type\":\"LinearScale\"},{\"attributes\":{},\"id\":\"2071\",\"type\":\"Selection\"},{\"attributes\":{},\"id\":\"1891\",\"type\":\"WheelZoomTool\"},{\"attributes\":{\"active_drag\":null,\"active_scroll\":null,\"active_tap\":null,\"logo\":null,\"tools\":[{\"id\":\"1890\"},{\"id\":\"1891\"},{\"id\":\"1892\"},{\"id\":\"1893\"},{\"id\":\"1894\"},{\"id\":\"1895\"}]},\"id\":\"1897\",\"type\":\"Toolbar\"},{\"attributes\":{},\"id\":\"1918\",\"type\":\"DataRange1d\"},{\"attributes\":{},\"id\":\"2072\",\"type\":\"UnionRenderers\"},{\"attributes\":{\"bottom_units\":\"screen\",\"coordinates\":null,\"fill_alpha\":0.5,\"fill_color\":\"lightgrey\",\"group\":null,\"left_units\":\"screen\",\"level\":\"overlay\",\"line_alpha\":1.0,\"line_color\":\"black\",\"line_dash\":[4,4],\"line_width\":2,\"right_units\":\"screen\",\"syncable\":false,\"top_units\":\"screen\"},\"id\":\"1896\",\"type\":\"BoxAnnotation\"},{\"attributes\":{},\"id\":\"1933\",\"type\":\"WheelZoomTool\"},{\"attributes\":{},\"id\":\"2073\",\"type\":\"Selection\"},{\"attributes\":{},\"id\":\"1937\",\"type\":\"HelpTool\"},{\"attributes\":{\"active_drag\":null,\"active_scroll\":null,\"active_tap\":null,\"logo\":null,\"tools\":[{\"id\":\"1932\"},{\"id\":\"1933\"},{\"id\":\"1934\"},{\"id\":\"1935\"},{\"id\":\"1936\"},{\"id\":\"1937\"}]},\"id\":\"1939\",\"type\":\"Toolbar\"},{\"attributes\":{},\"id\":\"1932\",\"type\":\"PanTool\"},{\"attributes\":{\"coordinates\":null,\"formatter\":{\"id\":\"2039\"},\"group\":null,\"major_label_policy\":{\"id\":\"2040\"},\"ticker\":{\"id\":\"1887\"},\"visible\":false},\"id\":\"1886\",\"type\":\"LinearAxis\"},{\"attributes\":{\"overlay\":{\"id\":\"1938\"}},\"id\":\"1934\",\"type\":\"BoxZoomTool\"},{\"attributes\":{},\"id\":\"2074\",\"type\":\"UnionRenderers\"},{\"attributes\":{},\"id\":\"1935\",\"type\":\"SaveTool\"},{\"attributes\":{},\"id\":\"1936\",\"type\":\"ResetTool\"},{\"attributes\":{},\"id\":\"2075\",\"type\":\"Selection\"},{\"attributes\":{\"bottom_units\":\"screen\",\"coordinates\":null,\"fill_alpha\":0.5,\"fill_color\":\"lightgrey\",\"group\":null,\"left_units\":\"screen\",\"level\":\"overlay\",\"line_alpha\":1.0,\"line_color\":\"black\",\"line_dash\":[4,4],\"line_width\":2,\"right_units\":\"screen\",\"syncable\":false,\"top_units\":\"screen\"},\"id\":\"1938\",\"type\":\"BoxAnnotation\"},{\"attributes\":{},\"id\":\"2047\",\"type\":\"UnionRenderers\"},{\"attributes\":{},\"id\":\"2048\",\"type\":\"Selection\"},{\"attributes\":{\"size\":{\"value\":5}},\"id\":\"1957\",\"type\":\"VeeHead\"},{\"attributes\":{},\"id\":\"2076\",\"type\":\"UnionRenderers\"},{\"attributes\":{\"coordinates\":null,\"end\":{\"id\":\"1965\"},\"group\":null,\"source\":{\"id\":\"2059\"},\"start\":null,\"x_end\":{\"value\":123},\"x_start\":{\"value\":113},\"y_end\":{\"value\":1.35},\"y_start\":{\"value\":0.35}},\"id\":\"1966\",\"type\":\"Arrow\"},{\"attributes\":{},\"id\":\"1916\",\"type\":\"DataRange1d\"},{\"attributes\":{},\"id\":\"2077\",\"type\":\"Selection\"},{\"attributes\":{\"overlay\":{\"id\":\"1896\"}},\"id\":\"1892\",\"type\":\"BoxZoomTool\"},{\"attributes\":{},\"id\":\"1890\",\"type\":\"PanTool\"},{\"attributes\":{\"coordinates\":null,\"group\":null,\"text\":\"Film con rating alto\\nnonostante breve durata\",\"text_font_size\":\"13px\",\"text_font_style\":\"italic\",\"x\":60,\"x_offset\":1,\"y\":9.35,\"y_offset\":1},\"id\":\"1972\",\"type\":\"Label\"},{\"attributes\":{},\"id\":\"2078\",\"type\":\"UnionRenderers\"},{\"attributes\":{},\"id\":\"1895\",\"type\":\"HelpTool\"},{\"attributes\":{\"axis\":{\"id\":\"1882\"},\"coordinates\":null,\"grid_line_color\":null,\"group\":null,\"ticker\":null},\"id\":\"1885\",\"type\":\"Grid\"},{\"attributes\":{\"coordinates\":null,\"end\":{\"id\":\"1957\"},\"group\":null,\"source\":{\"id\":\"2057\"},\"start\":null,\"x_end\":{\"value\":245},\"x_start\":{\"value\":255},\"y_end\":{\"value\":8.35},\"y_start\":{\"value\":9.35}},\"id\":\"1958\",\"type\":\"Arrow\"},{\"attributes\":{},\"id\":\"2079\",\"type\":\"Selection\"},{\"attributes\":{\"coordinates\":null,\"group\":null,\"text\":\"Film pi\\u00f9 lungo\",\"text_font_size\":\"13px\",\"text_font_style\":\"italic\",\"x\":250,\"x_offset\":1,\"y\":9.35,\"y_offset\":1},\"id\":\"1960\",\"type\":\"Label\"},{\"attributes\":{},\"id\":\"2080\",\"type\":\"UnionRenderers\"},{\"attributes\":{},\"id\":\"1887\",\"type\":\"BasicTicker\"},{\"attributes\":{},\"id\":\"1713\",\"type\":\"SaveTool\"},{\"attributes\":{},\"id\":\"2081\",\"type\":\"Selection\"},{\"attributes\":{\"axis\":{\"id\":\"1886\"},\"coordinates\":null,\"dimension\":1,\"grid_line_color\":null,\"group\":null,\"ticker\":null},\"id\":\"1889\",\"type\":\"Grid\"},{\"attributes\":{},\"id\":\"1893\",\"type\":\"SaveTool\"},{\"attributes\":{},\"id\":\"1894\",\"type\":\"ResetTool\"},{\"attributes\":{},\"id\":\"1714\",\"type\":\"ResetTool\"},{\"attributes\":{\"bottom_units\":\"screen\",\"coordinates\":null,\"fill_alpha\":0.5,\"fill_color\":\"lightgrey\",\"group\":null,\"left_units\":\"screen\",\"level\":\"overlay\",\"line_alpha\":1.0,\"line_color\":\"black\",\"line_dash\":[4,4],\"line_width\":2,\"right_units\":\"screen\",\"syncable\":false,\"top_units\":\"screen\"},\"id\":\"1716\",\"type\":\"BoxAnnotation\"},{\"attributes\":{\"coordinates\":null,\"end\":{\"id\":\"1969\"},\"group\":null,\"source\":{\"id\":\"2060\"},\"start\":null,\"x_end\":{\"value\":87},\"x_start\":{\"value\":77},\"y_end\":{\"value\":8.35},\"y_start\":{\"value\":9.35}},\"id\":\"1970\",\"type\":\"Arrow\"},{\"attributes\":{\"color_mapper\":{\"id\":\"1973\"},\"coordinates\":null,\"group\":null,\"height\":20,\"major_label_overrides\":{\"100000\":\"100K\",\"200000\":\"200K\",\"300000\":\"300K\",\"400000\":\"400K\"},\"major_label_policy\":{\"id\":\"2056\"},\"orientation\":\"horizontal\",\"width\":250},\"id\":\"1974\",\"type\":\"ColorBar\"},{\"attributes\":{\"coordinates\":null,\"group\":null,\"text\":\"Film con rating\\npi\\u00f9 alto\",\"text_font_size\":\"13px\",\"text_font_style\":\"italic\",\"x\":170,\"x_offset\":1,\"y\":10.5,\"y_offset\":1},\"id\":\"1964\",\"type\":\"Label\"},{\"attributes\":{\"source\":{\"id\":\"1946\"}},\"id\":\"1951\",\"type\":\"CDSView\"},{\"attributes\":{\"coordinates\":null,\"group\":null,\"text_color\":\"#fff\"},\"id\":\"1952\",\"type\":\"Title\"},{\"attributes\":{\"overlay\":{\"id\":\"1716\"}},\"id\":\"1712\",\"type\":\"BoxZoomTool\"},{\"attributes\":{},\"id\":\"2055\",\"type\":\"AllLabels\"},{\"attributes\":{\"bottom\":{\"field\":\"bottom\"},\"fill_alpha\":{\"value\":0.2},\"fill_color\":{\"value\":\"#66B3FF\"},\"hatch_alpha\":{\"value\":0.2},\"left\":{\"field\":\"left\"},\"line_alpha\":{\"value\":0.2},\"line_color\":{\"value\":\"#1f77b4\"},\"right\":{\"field\":\"right\"},\"top\":{\"value\":0}},\"id\":\"1949\",\"type\":\"Quad\"},{\"attributes\":{\"size\":{\"value\":5}},\"id\":\"1961\",\"type\":\"VeeHead\"},{\"attributes\":{\"coordinates\":null,\"data_source\":{\"id\":\"1946\"},\"glyph\":{\"id\":\"1947\"},\"group\":null,\"hover_glyph\":null,\"muted_glyph\":{\"id\":\"1949\"},\"nonselection_glyph\":{\"id\":\"1948\"},\"view\":{\"id\":\"1951\"}},\"id\":\"1950\",\"type\":\"GlyphRenderer\"},{\"attributes\":{\"bottom\":{\"field\":\"bottom\"},\"fill_alpha\":{\"value\":0.1},\"fill_color\":{\"value\":\"#66B3FF\"},\"hatch_alpha\":{\"value\":0.1},\"left\":{\"field\":\"left\"},\"line_alpha\":{\"value\":0.1},\"line_color\":{\"value\":\"#1f77b4\"},\"right\":{\"field\":\"right\"},\"top\":{\"value\":0}},\"id\":\"1948\",\"type\":\"Quad\"},{\"attributes\":{\"size\":{\"value\":5}},\"id\":\"1965\",\"type\":\"VeeHead\"},{\"attributes\":{\"data\":{\"bottom\":[-8,-20,-41,-34,-17,-21,-12,-10,-5,-3,0,0,0,0,0,0,-1],\"left\":{\"__ndarray__\":\"UAAAAFoAAABkAAAAbgAAAHgAAACCAAAAjAAAAJYAAACgAAAAqgAAALQAAAC+AAAAyAAAANIAAADcAAAA5gAAAPAAAAA=\",\"dtype\":\"int32\",\"order\":\"little\",\"shape\":[17]},\"right\":{\"__ndarray__\":\"WgAAAGQAAABuAAAAeAAAAIIAAACMAAAAlgAAAKAAAACqAAAAtAAAAL4AAADIAAAA0gAAANwAAADmAAAA8AAAAPoAAAA=\",\"dtype\":\"int32\",\"order\":\"little\",\"shape\":[17]}},\"selected\":{\"id\":\"2081\"},\"selection_policy\":{\"id\":\"2080\"}},\"id\":\"1946\",\"type\":\"ColumnDataSource\"},{\"attributes\":{\"tools\":[{\"id\":\"1710\"},{\"id\":\"1711\"},{\"id\":\"1712\"},{\"id\":\"1713\"},{\"id\":\"1714\"},{\"id\":\"1715\"},{\"id\":\"1734\"}]},\"id\":\"1717\",\"type\":\"Toolbar\"},{\"attributes\":{\"bottom\":{\"field\":\"bottom\"},\"fill_color\":{\"value\":\"#66B3FF\"},\"left\":{\"field\":\"left\"},\"line_color\":{\"value\":\"#1f77b4\"},\"right\":{\"field\":\"right\"},\"top\":{\"value\":0}},\"id\":\"1947\",\"type\":\"Quad\"},{\"attributes\":{},\"id\":\"1715\",\"type\":\"HelpTool\"},{\"attributes\":{},\"id\":\"2051\",\"type\":\"BasicTickFormatter\"},{\"attributes\":{\"size\":{\"value\":5}},\"id\":\"1969\",\"type\":\"VeeHead\"},{\"attributes\":{\"coordinates\":null,\"group\":null,\"text\":\"Film con rating\\npi\\u00f9 basso\",\"text_font_size\":\"13px\",\"text_font_style\":\"italic\",\"x\":90,\"x_offset\":1,\"y\":-0.5,\"y_offset\":1},\"id\":\"1968\",\"type\":\"Label\"},{\"attributes\":{},\"id\":\"2052\",\"type\":\"AllLabels\"},{\"attributes\":{\"coordinates\":null,\"end\":{\"id\":\"1961\"},\"group\":null,\"source\":{\"id\":\"2058\"},\"start\":null,\"x_end\":{\"value\":166},\"x_start\":{\"value\":176},\"y_end\":{\"value\":9.5},\"y_start\":{\"value\":10.5}},\"id\":\"1962\",\"type\":\"Arrow\"},{\"attributes\":{},\"id\":\"2054\",\"type\":\"BasicTickFormatter\"},{\"attributes\":{\"above\":[{\"id\":\"1924\"}],\"center\":[{\"id\":\"1927\"},{\"id\":\"1931\"}],\"frame_width\":575,\"height\":50,\"left\":[{\"id\":\"1928\"}],\"margin\":[0,15,0,15],\"renderers\":[{\"id\":\"1950\"}],\"title\":{\"id\":\"1952\"},\"toolbar\":{\"id\":\"1939\"},\"toolbar_location\":null,\"x_range\":{\"id\":\"1916\"},\"x_scale\":{\"id\":\"1920\"},\"y_range\":{\"id\":\"1918\"},\"y_scale\":{\"id\":\"1922\"}},\"id\":\"1915\",\"subtype\":\"Figure\",\"type\":\"Plot\"},{\"attributes\":{\"coordinates\":null,\"group\":null,\"text_color\":\"#fff\"},\"id\":\"1910\",\"type\":\"Title\"}],\"root_ids\":[\"1978\"]},\"title\":\"Bokeh Application\",\"version\":\"2.4.2\"}};\n  const render_items = [{\"docid\":\"ee64eeba-c83e-4207-b79e-eca8f328ed25\",\"root_ids\":[\"1978\"],\"roots\":{\"1978\":\"05ea472a-b9f4-4c97-9e43-b17640e3d438\"}}];\n  root.Bokeh.embed.embed_items_notebook(docs_json, render_items);\n\n  }\n  if (root.Bokeh !== undefined) {\n    embed_document(root);\n  } else {\n    let attempts = 0;\n    const timer = setInterval(function(root) {\n      if (root.Bokeh !== undefined) {\n        clearInterval(timer);\n        embed_document(root);\n      } else {\n        attempts++;\n        if (attempts > 100) {\n          clearInterval(timer);\n          console.log(\"Bokeh: ERROR: Unable to run BokehJS code because BokehJS library is missing\");\n        }\n      }\n    }, 10, root)\n  }\n})(window);",
      "application/vnd.bokehjs_exec.v0+json": ""
     },
     "metadata": {
      "application/vnd.bokehjs_exec.v0+json": {
       "id": "1978"
      }
     },
     "output_type": "display_data"
    }
   ],
   "source": [
    "from bokeh.plotting import figure, show, save, output_file\n",
    "from bokeh.layouts import layout, row, column\n",
    "from bokeh.models import Div, RangeSlider, Spinner,Span, Label, LabelSet, ColumnDataSource, NumeralTickFormatter, HoverTool, Rect, BoxAnnotation, LabelSet,VeeHead, Title, Arrow\n",
    "from bokeh.models.callbacks import CustomJS\n",
    "from bokeh.models import Range1d, LinearColorMapper, ColorBar\n",
    "import iqplot\n",
    "import numpy as np\n",
    "datasource = ColumnDataSource(film2021)\n",
    "\n",
    "p = figure(title=\"Correlazione tra durata (in minuti) e rating medio dei film nell'anno 2021.\\nLe linee grigie rappresentano la media, le bande attorno ad esse la deviazione standard\", x_axis_label=\"Durata (Minuti)\", y_axis_label=\"Rating\", width=600)\n",
    "# p.x_range = Range1d(film2021[\"runtimeMinutes\"].min(), film2021[\"runtimeMinutes\"].max()) \n",
    "p.y_range = Range1d(0, 10)\n",
    "p.x_range = Range1d(80,250) \n",
    "tooltips = [\n",
    "  ('Durata (Min)','@runtimeMinutes'),\n",
    "  ('Media Voti','@averageRating'),\n",
    "  ('Titolo','@primaryTitle'),\n",
    "  ('Voti', '@numVotes')\n",
    "]\n",
    "riga_avg_rating = Span(location=avg_rating, dimension=\"width\", line_width=2, line_color=\"#AAAAAA\")\n",
    "riga_avg_minutes = Span(location=avg_minutes, dimension=\"height\", line_width=2, line_color=\"#AAAAAA\")\n",
    "p.circle(line_width=0, x=\"runtimeMinutes\", y=\"averageRating\", size=\"size\", fill_color=\"color\", line_color=\"white\", source=datasource)\n",
    "p.add_tools(HoverTool(tooltips = tooltips))\n",
    "\n",
    "p.add_layout(riga_avg_rating)\n",
    "p.add_layout(riga_avg_minutes)\n",
    "#bande deviazione standard\n",
    "bandaRating =  BoxAnnotation(bottom=low_rating, top=top_rating, fill_alpha=0.1, fill_color='#0072B2')\n",
    "p.add_layout(bandaRating)\n",
    "bandaMinutes =  BoxAnnotation(left=low_minutes, right=top_minutes, fill_alpha=0.1, fill_color='#0072B2')\n",
    "p.add_layout(bandaMinutes)\n",
    "#Labels\n",
    "labelsData = pd.DataFrame(dict(x = [242,125, 89, 164, 163], y=[8.10, 1.5, 8.2, 9.3, 5.2], text=[\"Zack Snyder's Justice League\",\"The cost of deception\",\"Seaspiracy\", \"Jai Bihim\", \"Toofaan\"]))\n",
    "etichette = LabelSet(x=\"x\",x_offset = 5, y = \"y\",y_offset = -10, text = \"text\", source=ColumnDataSource(labelsData), )\n",
    "p.add_layout(etichette)\n",
    "#Box PLot minutes\n",
    "q1 = film2021.runtimeMinutes.quantile(q=0.25)\n",
    "q2 = film2021.runtimeMinutes.quantile(q=0.5)\n",
    "q3 = film2021.runtimeMinutes.quantile(q=0.75)\n",
    "qmin = film2021.runtimeMinutes.quantile(q=0.00)\n",
    "qmax = film2021.runtimeMinutes.quantile(q=1.00)\n",
    "iqr = q3 - q1\n",
    "upper = film2021.runtimeMinutes.max()\n",
    "lower = film2021.runtimeMinutes.min()\n",
    "s2 = figure(x_axis_label=\"Minuti\", y_axis_label=\"Rating\")\n",
    "s2.segment(x0 = 2, x1 = 3, y0= lower, y1=lower , line_width=2, line_color=\"black\")\n",
    "s2.segment(x0 = 2, x1 = 3, y0= upper, y1=upper , line_width=2, line_color=\"black\")\n",
    "s3 = iqplot.strip(data=film2021.runtimeMinutes.values,  jitter=True,\n",
    "    marker_kwargs=dict(alpha=0.5),\n",
    "    frame_height=50, frame_width=590)\n",
    "s4 = iqplot.strip(data=film2021.averageRating.values,  jitter=True,q_axis=\"y\",\n",
    "  marker_kwargs=dict(alpha=0.5),\n",
    "  frame_height=590, frame_width=50)\n",
    "rettangolo = Rect(x = 2.5, y= (q3 + q1)/2, width= 3, height=q3-q1, fill_color=\"#cab2d6\")\n",
    "\n",
    "rettangolo1 =  Rect(x = 2.5, y= (lower + q1)/2, width= 0.01, height=q1-lower, fill_color=\"black\")\n",
    "rettangolo2 =  Rect(x = 2.5, y= (upper + q3)/2, width= 0.01, height=upper-q3, fill_color=\"black\")\n",
    "\n",
    "s3.axis.visible=False\n",
    "s3.xgrid.grid_line_color = None\n",
    "s3.ygrid.grid_line_color = None\n",
    "s3.height=50\n",
    "s3.toolbar.logo = None\n",
    "s3.toolbar_location = None\n",
    "s3.toolbar.active_drag = None\n",
    "s3.toolbar.active_scroll = None\n",
    "s3.toolbar.active_tap = None\n",
    "\n",
    "s4.axis.visible=False\n",
    "s4.xgrid.grid_line_color = None\n",
    "s4.ygrid.grid_line_color = None\n",
    "s4.height=50\n",
    "s4.toolbar.logo = None\n",
    "s4.toolbar_location = None\n",
    "s4.toolbar.active_drag = None\n",
    "s4.toolbar.active_scroll = None\n",
    "s4.toolbar.active_tap = None\n",
    "#---------------------------\n",
    "#histogram votes\n",
    "arr_hist, edges=np.histogram(film2021['averageRating'], bins=[0,1,2,3,4,5,6,7,8,9,10])\n",
    "hist_dataframe =  pd.DataFrame({'Count': arr_hist, 'left': edges[:-1], 'right': edges[1:]})\n",
    "p_hist_votes = figure()\n",
    "\n",
    "\n",
    "p_hist_votes.quad(bottom=hist_dataframe['left'], top=hist_dataframe['right'], \n",
    "      left=-hist_dataframe['Count'], right=0, \n",
    "      fill_color='#66B3FF', )\n",
    "p_hist_votes.axis.visible=False\n",
    "p_hist_votes.title.text_color=\"#fff\"\n",
    "p_hist_votes.plot_height=465\n",
    "p_hist_votes.frame_width=50\n",
    "p_hist_votes.xgrid.grid_line_color = None\n",
    "p_hist_votes.ygrid.grid_line_color = None\n",
    "p_hist_votes.toolbar.logo = None\n",
    "p_hist_votes.toolbar_location = None\n",
    "p_hist_votes.toolbar.active_drag = None\n",
    "p_hist_votes.toolbar.active_scroll = None\n",
    "p_hist_votes.toolbar.active_tap = None\n",
    "p_hist_votes.margin = (30,0,0,0)\n",
    "#------------------\n",
    "#histogram minutes\n",
    "arr_hist_min, edges_min=np.histogram(film2021['runtimeMinutes'], bins=[80,90,100,110,120,130,140,150,160,170,180,190,200,210,220,230,240,250])\n",
    "hist_dataframe_minutes =  pd.DataFrame({'Count': arr_hist_min, 'left': edges_min[:-1], 'right': edges_min[1:]})\n",
    "p_hist_minutes = figure(x_axis_location = \"above\")\n",
    "\n",
    "\n",
    "p_hist_minutes.quad(bottom=-hist_dataframe_minutes['Count'], top=0, \n",
    "      left=hist_dataframe_minutes['left'], right=hist_dataframe_minutes['right'], \n",
    "      fill_color='#66B3FF', )\n",
    "p_hist_minutes.axis.visible=False\n",
    "p_hist_minutes.title.text_color=\"#fff\"\n",
    "p_hist_minutes.plot_height=50\n",
    "p_hist_minutes.frame_width=575\n",
    "p_hist_minutes.xgrid.grid_line_color = None\n",
    "p_hist_minutes.ygrid.grid_line_color = None\n",
    "p_hist_minutes.toolbar.logo = None\n",
    "p_hist_minutes.toolbar_location = None\n",
    "p_hist_minutes.toolbar.active_drag = None\n",
    "p_hist_minutes.toolbar.active_scroll = None\n",
    "p_hist_minutes.toolbar.active_tap = None\n",
    "p_hist_minutes.margin = (0,15,0,15)\n",
    "#------------------\n",
    "#freccia\n",
    "p.add_layout(Arrow(end=VeeHead(size=5),x_start = 255, x_end=245, y_start =9.35, y_end=8.35 ))\n",
    "p.add_layout(Label(x=250, y=9.35, x_offset=1, y_offset=1, text=\"Film più lungo\", text_font_size=\"13px\", text_font_style=\"italic\"))\n",
    "\n",
    "p.add_layout(Arrow(end=VeeHead(size=5),x_start = 176, x_end=166, y_start =10.5, y_end=9.5 ))\n",
    "p.add_layout(Label(x=170, y=10.5, x_offset=1, y_offset=1, text=\"Film con rating\\npiù alto\", text_font_size=\"13px\", text_font_style=\"italic\"))\n",
    "\n",
    "p.add_layout(Arrow(end=VeeHead(size=5),x_start = 113, x_end=123, y_start =0.35, y_end=1.35 ))\n",
    "p.add_layout(Label(x=90, y=-0.5, x_offset=1, y_offset=1, text=\"Film con rating\\npiù basso\", text_font_size=\"13px\", text_font_style=\"italic\"))\n",
    "\n",
    "p.add_layout(Arrow(end=VeeHead(size=5),x_start = 77, x_end=87, y_start =9.35, y_end=8.35 ))\n",
    "p.add_layout(Label(x=60, y=9.35, x_offset=1, y_offset=1, text=\"Film con rating alto\\nnonostante breve durata\", text_font_size=\"13px\", text_font_style=\"italic\"))\n",
    "#-----------------\n",
    "mapper = LinearColorMapper(palette=film2021.color.sort_values(), low=film2021.numVotes.min(), high=film2021.numVotes.max())\n",
    "color_bar = ColorBar(color_mapper=mapper, width=250, height=20, orientation='horizontal', major_label_overrides={'100000':'100K', '200000':'200K', '300000':'300K', '400000':'400K'})\n",
    "p.add_layout(color_bar, \"below\")\n",
    "p.add_layout(Title(text=\"Fonte IMDb\", text_font_size=\"10pt\", align=\"right\", ), \"below\")\n",
    "show(row(p_hist_votes, column (p, p_hist_minutes), Div(style={\"color\":\"#000\", \"margin-top\":\"200px\",\"height\":\"460px\"},background=\"#fff\",text=\"L'area dei punti indicano il numero di voti ottenuti su IMDb.\\nLe dimensioni sono calcolate base all'area e non in base al diametro.\")))"
   ]
  },
  {
   "cell_type": "markdown",
   "metadata": {},
   "source": [
    "magari aggiungere valore della media nel grafico o hover su linea\n",
    "\n",
    "aumenta grandezza nel file html\n",
    "\n",
    "titolo di impatto per \"point\""
   ]
  },
  {
   "cell_type": "code",
   "execution_count": 50,
   "metadata": {},
   "outputs": [
    {
     "data": {
      "text/html": [
       "<div>\n",
       "<style scoped>\n",
       "    .dataframe tbody tr th:only-of-type {\n",
       "        vertical-align: middle;\n",
       "    }\n",
       "\n",
       "    .dataframe tbody tr th {\n",
       "        vertical-align: top;\n",
       "    }\n",
       "\n",
       "    .dataframe thead th {\n",
       "        text-align: right;\n",
       "    }\n",
       "</style>\n",
       "<table border=\"1\" class=\"dataframe\">\n",
       "  <thead>\n",
       "    <tr style=\"text-align: right;\">\n",
       "      <th></th>\n",
       "      <th>Count</th>\n",
       "      <th>left</th>\n",
       "      <th>right</th>\n",
       "    </tr>\n",
       "  </thead>\n",
       "  <tbody>\n",
       "    <tr>\n",
       "      <th>0</th>\n",
       "      <td>0</td>\n",
       "      <td>0</td>\n",
       "      <td>1</td>\n",
       "    </tr>\n",
       "    <tr>\n",
       "      <th>1</th>\n",
       "      <td>2</td>\n",
       "      <td>1</td>\n",
       "      <td>2</td>\n",
       "    </tr>\n",
       "    <tr>\n",
       "      <th>2</th>\n",
       "      <td>1</td>\n",
       "      <td>2</td>\n",
       "      <td>3</td>\n",
       "    </tr>\n",
       "    <tr>\n",
       "      <th>3</th>\n",
       "      <td>1</td>\n",
       "      <td>3</td>\n",
       "      <td>4</td>\n",
       "    </tr>\n",
       "    <tr>\n",
       "      <th>4</th>\n",
       "      <td>6</td>\n",
       "      <td>4</td>\n",
       "      <td>5</td>\n",
       "    </tr>\n",
       "    <tr>\n",
       "      <th>5</th>\n",
       "      <td>39</td>\n",
       "      <td>5</td>\n",
       "      <td>6</td>\n",
       "    </tr>\n",
       "    <tr>\n",
       "      <th>6</th>\n",
       "      <td>64</td>\n",
       "      <td>6</td>\n",
       "      <td>7</td>\n",
       "    </tr>\n",
       "    <tr>\n",
       "      <th>7</th>\n",
       "      <td>43</td>\n",
       "      <td>7</td>\n",
       "      <td>8</td>\n",
       "    </tr>\n",
       "    <tr>\n",
       "      <th>8</th>\n",
       "      <td>15</td>\n",
       "      <td>8</td>\n",
       "      <td>9</td>\n",
       "    </tr>\n",
       "    <tr>\n",
       "      <th>9</th>\n",
       "      <td>1</td>\n",
       "      <td>9</td>\n",
       "      <td>10</td>\n",
       "    </tr>\n",
       "  </tbody>\n",
       "</table>\n",
       "</div>"
      ],
      "text/plain": [
       "   Count  left  right\n",
       "0      0     0      1\n",
       "1      2     1      2\n",
       "2      1     2      3\n",
       "3      1     3      4\n",
       "4      6     4      5\n",
       "5     39     5      6\n",
       "6     64     6      7\n",
       "7     43     7      8\n",
       "8     15     8      9\n",
       "9      1     9     10"
      ]
     },
     "execution_count": 50,
     "metadata": {},
     "output_type": "execute_result"
    }
   ],
   "source": [
    "hist_dataframe.head(20)"
   ]
  },
  {
   "cell_type": "markdown",
   "metadata": {},
   "source": [
    "Calcolo correlazione"
   ]
  },
  {
   "cell_type": "code",
   "execution_count": 52,
   "metadata": {},
   "outputs": [
    {
     "data": {
      "text/plain": [
       "0.4025927747404564"
      ]
     },
     "execution_count": 52,
     "metadata": {},
     "output_type": "execute_result"
    }
   ],
   "source": [
    "film2021['runtimeMinutes'].corr(film2021['averageRating'])"
   ]
  }
 ],
 "metadata": {
  "interpreter": {
   "hash": "22f5c8559ee5d16991f9240bd2c1a679b03627a0e94304b0bc26d90d3a5752ce"
  },
  "kernelspec": {
   "display_name": "Python 3.9.7 64-bit ('MainEnv': conda)",
   "language": "python",
   "name": "python3"
  },
  "language_info": {
   "codemirror_mode": {
    "name": "ipython",
    "version": 3
   },
   "file_extension": ".py",
   "mimetype": "text/x-python",
   "name": "python",
   "nbconvert_exporter": "python",
   "pygments_lexer": "ipython3",
   "version": "3.9.7"
  },
  "orig_nbformat": 4
 },
 "nbformat": 4,
 "nbformat_minor": 2
}
