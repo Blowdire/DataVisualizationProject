{
 "cells": [
  {
   "cell_type": "markdown",
   "metadata": {},
   "source": [
    "## Import"
   ]
  },
  {
   "cell_type": "markdown",
   "metadata": {},
   "source": [
    "Obiettivo è confrontare la durata dei film con il rating, se sono correlati"
   ]
  },
  {
   "cell_type": "markdown",
   "metadata": {},
   "source": [
    "Idea: come per la musica, chi vede i film se sono troppo lunghi o troppo corti ne è influenzato?"
   ]
  },
  {
   "cell_type": "markdown",
   "metadata": {},
   "source": [
    "Idea: come per la musica, chi vede i film se sono troppo lunghi o troppo corti ne è influenzato"
   ]
  },
  {
   "cell_type": "code",
   "execution_count": null,
   "metadata": {},
   "outputs": [],
   "source": [
    "import pandas as pd\n",
    "import numpy as np\n",
    "import matplotlib.pyplot as plt\n",
    "import seaborn as sns\n",
    "%matplotlib inline"
   ]
  },
  {
   "cell_type": "code",
   "execution_count": null,
   "metadata": {},
   "outputs": [],
   "source": [
    "dataframeTitoli = pd.read_csv(\"./data/title_basics.tsv\", sep=\"\\t\", low_memory=False)\n",
    "dataframeRating = pd.read_csv(\"./data/title_ratings.tsv\", sep=\"\\t\", low_memory=False)"
   ]
  },
  {
   "cell_type": "code",
   "execution_count": null,
   "metadata": {},
   "outputs": [],
   "source": [
    "mergedDataframe = pd.merge(dataframeTitoli, dataframeRating, on=\"tconst\")"
   ]
  },
  {
   "cell_type": "code",
   "execution_count": null,
   "metadata": {},
   "outputs": [],
   "source": [
    "mergedDataframe.shape"
   ]
  },
  {
   "cell_type": "code",
   "execution_count": null,
   "metadata": {},
   "outputs": [],
   "source": [
    "mergedDataframe.head()"
   ]
  },
  {
   "cell_type": "code",
   "execution_count": null,
   "metadata": {},
   "outputs": [],
   "source": [
    "mergedDataframe.head()"
   ]
  },
  {
   "cell_type": "markdown",
   "metadata": {},
   "source": [
    "## Data Cleaning"
   ]
  },
  {
   "cell_type": "code",
   "execution_count": null,
   "metadata": {},
   "outputs": [],
   "source": [
    "mergedDataframe.info()"
   ]
  },
  {
   "cell_type": "markdown",
   "metadata": {},
   "source": [
    "Check for null values"
   ]
  },
  {
   "cell_type": "code",
   "execution_count": null,
   "metadata": {},
   "outputs": [],
   "source": [
    "mergedDataframe.isna().sum()"
   ]
  },
  {
   "cell_type": "markdown",
   "metadata": {},
   "source": [
    "Dropping unnecessary columns"
   ]
  },
  {
   "cell_type": "code",
   "execution_count": null,
   "metadata": {},
   "outputs": [],
   "source": [
    "mergedDataframe = mergedDataframe.drop(['isAdult', 'endYear'], axis=1)"
   ]
  },
  {
   "cell_type": "code",
   "execution_count": null,
   "metadata": {},
   "outputs": [],
   "source": [
    "mergedDataframe.columns"
   ]
  },
  {
   "cell_type": "markdown",
   "metadata": {},
   "source": [
    "Fix data types"
   ]
  },
  {
   "cell_type": "code",
   "execution_count": null,
   "metadata": {},
   "outputs": [],
   "source": [
    "mergedDataframe.dtypes"
   ]
  },
  {
   "cell_type": "code",
   "execution_count": null,
   "metadata": {},
   "outputs": [],
   "source": [
    "mergedDataframe['titleType'] = pd.Categorical(mergedDataframe['titleType'])"
   ]
  },
  {
   "cell_type": "code",
   "execution_count": null,
   "metadata": {},
   "outputs": [],
   "source": [
    "mergedDataframe['titleType'].cat.categories"
   ]
  },
  {
   "cell_type": "markdown",
   "metadata": {},
   "source": [
    "Problema dato da caratteri \\N presenti nel dataset"
   ]
  },
  {
   "cell_type": "code",
   "execution_count": null,
   "metadata": {},
   "outputs": [],
   "source": [
    "mergedDataframe.runtimeMinutes = pd.to_numeric(mergedDataframe.runtimeMinutes, errors ='coerce').fillna(0).astype('int')"
   ]
  },
  {
   "cell_type": "code",
   "execution_count": null,
   "metadata": {},
   "outputs": [],
   "source": [
    "mergedDataframe.sort_values(by='runtimeMinutes', ascending=False).head()"
   ]
  },
  {
   "cell_type": "code",
   "execution_count": null,
   "metadata": {},
   "outputs": [],
   "source": [
    "mergedDataframe.dtypes"
   ]
  },
  {
   "cell_type": "code",
   "execution_count": null,
   "metadata": {},
   "outputs": [],
   "source": [
    "mergedDataframe.startYear = pd.to_numeric(mergedDataframe.startYear, errors ='coerce').fillna(0).astype('int')"
   ]
  },
  {
   "cell_type": "markdown",
   "metadata": {},
   "source": [
    "### Modellazione"
   ]
  },
  {
   "cell_type": "markdown",
   "metadata": {},
   "source": [
    "Risolvo criticità null values"
   ]
  },
  {
   "cell_type": "code",
   "execution_count": null,
   "metadata": {},
   "outputs": [],
   "source": [
    "mergedDataframe[mergedDataframe['runtimeMinutes'] == 0].shape"
   ]
  },
  {
   "cell_type": "markdown",
   "metadata": {},
   "source": [
    "Divisione tra movie e altri"
   ]
  },
  {
   "cell_type": "code",
   "execution_count": null,
   "metadata": {},
   "outputs": [],
   "source": [
    "FilmDataframe = mergedDataframe[mergedDataframe['titleType'] == \"movie\"]"
   ]
  },
  {
   "cell_type": "code",
   "execution_count": null,
   "metadata": {},
   "outputs": [],
   "source": [
    "FilmDataframe.shape"
   ]
  },
  {
   "cell_type": "code",
   "execution_count": null,
   "metadata": {},
   "outputs": [],
   "source": [
    "film2 = FilmDataframe[(FilmDataframe['startYear'] == 2018) | (FilmDataframe['startYear'] == 2019)]"
   ]
  },
  {
   "cell_type": "code",
   "execution_count": null,
   "metadata": {},
   "outputs": [],
   "source": [
    "film2 = film2[film2['runtimeMinutes'] != 0]"
   ]
  },
  {
   "cell_type": "code",
   "execution_count": null,
   "metadata": {},
   "outputs": [],
   "source": [
    "film2 = film2[film2['numVotes'] > 15000]"
   ]
  },
  {
   "cell_type": "code",
   "execution_count": null,
   "metadata": {},
   "outputs": [],
   "source": [
    "film2.shape"
   ]
  },
  {
   "cell_type": "code",
   "execution_count": null,
   "metadata": {},
   "outputs": [],
   "source": [
    "film2.head()"
   ]
  },
  {
   "cell_type": "code",
   "execution_count": null,
   "metadata": {},
   "outputs": [],
   "source": [
    "film2.sort_values(by='runtimeMinutes', ascending=False).head()"
   ]
  },
  {
   "cell_type": "code",
   "execution_count": null,
   "metadata": {},
   "outputs": [],
   "source": [
    "film2.sort_values(by='runtimeMinutes').head()"
   ]
  },
  {
   "cell_type": "code",
   "execution_count": null,
   "metadata": {},
   "outputs": [],
   "source": [
    "mergedDataframe[mergedDataframe['titleType'] == \"tvSeries\"].shape"
   ]
  },
  {
   "cell_type": "code",
   "execution_count": null,
   "metadata": {},
   "outputs": [],
   "source": [
    "mergedDataframe[mergedDataframe['titleType'] == \"tvSeries\"].sort_values(by='startYear', ascending=False).head()"
   ]
  },
  {
   "cell_type": "code",
   "execution_count": null,
   "metadata": {},
   "outputs": [],
   "source": [
    "mergedDataframe[(mergedDataframe['titleType'] == \"tvSeries\") & (mergedDataframe['startYear'] == 1994)].sort_values(by='averageRating', ascending=False).head(20)"
   ]
  },
  {
   "cell_type": "code",
   "execution_count": null,
   "metadata": {},
   "outputs": [],
   "source": [
    "mergedDataframe[mergedDataframe['titleType'] == \"tvMovie\"].shape"
   ]
  },
  {
   "cell_type": "code",
   "execution_count": null,
   "metadata": {},
   "outputs": [],
   "source": [
    "mergedDataframe[mergedDataframe['titleType'] == \"tvMovie\"].sort_values(by='startYear', ascending=False).head(10)"
   ]
  },
  {
   "cell_type": "markdown",
   "metadata": {},
   "source": [
    "## DataViz"
   ]
  },
  {
   "cell_type": "markdown",
   "metadata": {},
   "source": [
    "## Waffle - rapporto tra film e serie tv nel dataset"
   ]
  },
  {
   "cell_type": "code",
   "execution_count": null,
   "metadata": {},
   "outputs": [],
   "source": [
    "from pywaffle import Waffle"
   ]
  },
  {
   "cell_type": "code",
   "execution_count": null,
   "metadata": {},
   "outputs": [],
   "source": [
    "mergedDataframe[mergedDataframe['titleType'] == \"movie\"].shape"
   ]
  },
  {
   "cell_type": "code",
   "execution_count": null,
   "metadata": {},
   "outputs": [],
   "source": [
    "mergedDataframe[mergedDataframe['titleType'] == \"tvSeries\"].shape"
   ]
  },
  {
   "cell_type": "code",
   "execution_count": null,
   "metadata": {},
   "outputs": [],
   "source": [
    "num_movie = 241193\n",
    "num_tvSeries = 65991\n",
    "tot_df = num_movie + num_tvSeries"
   ]
  },
  {
   "cell_type": "code",
   "execution_count": null,
   "metadata": {},
   "outputs": [],
   "source": [
    "perc_films = num_movie / tot_df * 100\n",
    "print(perc_films)"
   ]
  },
  {
   "cell_type": "code",
   "execution_count": null,
   "metadata": {},
   "outputs": [],
   "source": [
    "perc_tvs = num_tvSeries / tot_df * 100\n",
    "print(perc_tvs)"
   ]
  },
  {
   "cell_type": "code",
   "execution_count": null,
   "metadata": {},
   "outputs": [],
   "source": [
    "data = {'Movies': 78.52, 'TV Shows': 21.48}\n",
    "fig = plt.figure(\n",
    "    FigureClass=Waffle,\n",
    "    rows=10,\n",
    "    values=data,\n",
    "    colors=(\"#006400\", \"#A9A9A9\"),\n",
    "    title={'label': 'Percentage of Films and TV Shows in the dataset', 'loc': 'left'},\n",
    "    labels=[\"{0} ({1}%)\".format(k, v) for k, v in data.items()],\n",
    "    legend={'loc': 'lower left', 'bbox_to_anchor': (0, -0.4), 'ncol': len(data), 'framealpha': 0}\n",
    ")\n",
    "fig.gca().set_facecolor(\"#ffffff\")\n",
    "fig.set_facecolor(\"#ffffff\")\n",
    "plt.show()"
   ]
  },
  {
   "cell_type": "code",
   "execution_count": null,
   "metadata": {},
   "outputs": [],
   "source": [
    "data = {'Movies': 78.52, 'TV Shows': 21.48}\n",
    "fig = plt.figure(\n",
    "    FigureClass=Waffle,\n",
    "    rows=10,\n",
    "    values=data,\n",
    "    colors=(\"#006400\", \"#A9A9A9\"),\n",
    "    title={'label': 'Percentage of Films and TV Shows in the catalogue', 'loc': 'left'},\n",
    "    icons='film',\n",
    "    font_size=12,\n",
    "    icon_legend=True,\n",
    "    labels=[\"{0} ({1}%)\".format(k, v) for k, v in data.items()],\n",
    "    legend={'loc': 'lower left', 'bbox_to_anchor': (0, -0.4), 'ncol': len(data), 'framealpha': 0}\n",
    ")\n",
    "fig.gca().set_facecolor(\"#ffffff\")\n",
    "fig.set_facecolor(\"#ffffff\")\n",
    "plt.show()"
   ]
  },
  {
   "cell_type": "code",
   "execution_count": null,
   "metadata": {},
   "outputs": [],
   "source": [
    "data = {'Movies': 78.52, 'TV Shows': 21.48}\n",
    "fig = plt.figure(\n",
    "    FigureClass=Waffle,\n",
    "    rows=10,\n",
    "    values=data,\n",
    "    colors=(\"#006400\", \"#A9A9A9\"),\n",
    "    title={'label': 'Percentage of Films and TV Shows in the catalogue', 'loc': 'left'},\n",
    "    icons='video',\n",
    "    font_size=12,\n",
    "    icon_legend=True,\n",
    "    labels=[\"{0} ({1}%)\".format(k, v) for k, v in data.items()],\n",
    "    legend={'loc': 'lower left', 'bbox_to_anchor': (0, -0.4), 'ncol': len(data), 'framealpha': 0}\n",
    ")\n",
    "fig.gca().set_facecolor(\"#ffffff\")\n",
    "fig.set_facecolor(\"#ffffff\")\n",
    "plt.show()"
   ]
  },
  {
   "cell_type": "markdown",
   "metadata": {},
   "source": [
    "source code: https://stackoverflow.com/questions/41400136/how-to-do-waffle-charts-in-python-square-piechart"
   ]
  },
  {
   "cell_type": "markdown",
   "metadata": {},
   "source": [
    "## 1 - correlation btw years and duration of films\n",
    "\n",
    "correlazione tra anni e durata dei film\n",
    "\n",
    "domanda di ricerca: come per la musica, è vero che si è ridotta attenzione utenti e dunque si producono film meno lunghi rispetto a prima?\n",
    "\n",
    "(forse dataset più adatto un archivio di film rispetto a netflix che ha molti film recenti;\n",
    "\n",
    "inoltre all'inizio non si potevano fare film troppo lunghi per costi e tecnologie, quindi magari indagare trend più recente o spazio temporale ristretto)"
   ]
  },
  {
   "cell_type": "code",
   "execution_count": null,
   "metadata": {},
   "outputs": [],
   "source": [
    "film_years = mergedDataframe[(mergedDataframe['titleType'] == \"movie\") & (mergedDataframe['runtimeMinutes'] != 0) & (mergedDataframe['runtimeMinutes'] <= 400) & (mergedDataframe['numVotes'] >= 500) & (mergedDataframe['startYear'] != 0)][['titleType', 'startYear', 'runtimeMinutes']]"
   ]
  },
  {
   "cell_type": "code",
   "execution_count": null,
   "metadata": {},
   "outputs": [],
   "source": [
    "film_years_grouped = film_years.groupby('startYear')['startYear'].count()"
   ]
  },
  {
   "cell_type": "code",
   "execution_count": null,
   "metadata": {},
   "outputs": [],
   "source": [
    "film_years.shape"
   ]
  },
  {
   "cell_type": "code",
   "execution_count": null,
   "metadata": {},
   "outputs": [],
   "source": [
    "film_years_grouped.tail(20)"
   ]
  },
  {
   "cell_type": "code",
   "execution_count": null,
   "metadata": {},
   "outputs": [],
   "source": [
    "import plotly.graph_objects as px\n",
    "import plotly.express as go\n",
    "\n",
    "x = film_years['startYear']\n",
    "y = film_years['runtimeMinutes']\n",
    "\n",
    "plot = px.Figure(data=[px.Scatter(\n",
    "    x=x,\n",
    "    y=y,\n",
    "    mode='markers',)\n",
    "])\n",
    "\n",
    "plot.update_layout(\n",
    "    xaxis=dict(\n",
    "        rangeselector=dict(\n",
    "            buttons=list([\n",
    "                dict(count=1,\n",
    "                step=\"year\",\n",
    "                stepmode=\"backward\"),\n",
    "            ])\n",
    "        ),\n",
    "        rangeslider=dict(\n",
    "            visible=True\n",
    "        ),\n",
    "    )\n",
    ")\n",
    "\n",
    "plot.show()"
   ]
  },
  {
   "cell_type": "markdown",
   "metadata": {},
   "source": [
    "#### Line chart anni e durata film ultimi 15 anni"
   ]
  },
  {
   "cell_type": "code",
   "execution_count": null,
   "metadata": {},
   "outputs": [],
   "source": [
    "imdb_last15 = mergedDataframe[(mergedDataframe['titleType'] == \"movie\") & (mergedDataframe['runtimeMinutes'] != 0) & (mergedDataframe['numVotes'] >= 500) & (mergedDataframe['startYear'] > 2006)][['titleType', 'startYear', 'runtimeMinutes']]"
   ]
  },
  {
   "cell_type": "code",
   "execution_count": null,
   "metadata": {},
   "outputs": [],
   "source": [
    "imdb_last15_grouped = imdb_last15.groupby('startYear', as_index=False)"
   ]
  },
  {
   "cell_type": "code",
   "execution_count": null,
   "metadata": {},
   "outputs": [],
   "source": [
    "imdb_last15.groupby('startYear', as_index=False).size()"
   ]
  },
  {
   "cell_type": "code",
   "execution_count": null,
   "metadata": {},
   "outputs": [],
   "source": [
    "mean_15 = imdb_last15_grouped.mean()"
   ]
  },
  {
   "cell_type": "code",
   "execution_count": null,
   "metadata": {},
   "outputs": [],
   "source": [
    "mean_15"
   ]
  },
  {
   "cell_type": "code",
   "execution_count": null,
   "metadata": {},
   "outputs": [],
   "source": [
    "mean_15.runtimeMinutes = mean_15.runtimeMinutes.round(2)\n",
    "mean_15.head()"
   ]
  },
  {
   "cell_type": "code",
   "execution_count": null,
   "metadata": {},
   "outputs": [],
   "source": [
    "sns.lineplot(data=mean_15, x='startYear', y='runtimeMinutes')"
   ]
  },
  {
   "cell_type": "code",
   "execution_count": null,
   "metadata": {},
   "outputs": [],
   "source": [
    "sns.pointplot(data=mean_15, x='startYear', y='runtimeMinutes')"
   ]
  },
  {
   "cell_type": "markdown",
   "metadata": {},
   "source": [
    "!!! non va bene solo la media \n",
    "\n",
    "!!! asse y parte da troppo avanti"
   ]
  },
  {
   "cell_type": "markdown",
   "metadata": {},
   "source": [
    "## 2 - bar chart difference btw number of movies or tv shows during the years\n",
    "\n",
    "differenza tra numero di film e numero di serie tv legato all'anno di uscita"
   ]
  },
  {
   "cell_type": "code",
   "execution_count": null,
   "metadata": {},
   "outputs": [],
   "source": [
    "clean_df = mergedDataframe[(mergedDataframe['titleType'] == \"movie\") | (mergedDataframe['titleType'] == \"tvSeries\")][['titleType', 'startYear', 'runtimeMinutes', 'numVotes']]"
   ]
  },
  {
   "cell_type": "code",
   "execution_count": null,
   "metadata": {},
   "outputs": [],
   "source": [
    "clean_df = clean_df[(clean_df['runtimeMinutes'] != 0) & (clean_df['numVotes'] >= 500)][['titleType', 'startYear', 'runtimeMinutes', 'numVotes']]"
   ]
  },
  {
   "cell_type": "code",
   "execution_count": null,
   "metadata": {},
   "outputs": [],
   "source": [
    "#creazione nuovo dataframe\n",
    "dataframe = pd.DataFrame({\"startYear\":[], \"movie\": [], \"tvSeries\":[]})\n",
    "#ciclo for per ogni classe d'età\n",
    "for item in clean_df[\"startYear\"].unique():\n",
    "  #query per identificare i record con punteggio peggiorato per la classe d'età in esame\n",
    "  queryStringMovies = \"startYear == \"+str(item)+\" and titleType == 'movie'\"\n",
    "  #query per identificare i record con punteggio migliorato per la classe d'età in esame\n",
    "  queryStringTV = \"startYear == \"+str(item)+\" and titleType == 'tvSeries'\"\n",
    "\n",
    "  #query\n",
    "  resMovies = clean_df.query(queryStringMovies)\n",
    "  resTV = clean_df.query(queryStringTV)\n",
    "  #inserimento nel dataframe del numero di migliorati o peggiorati per la classe d'età in esame\n",
    "  dataframe.loc[len(dataframe.index)] = [str(item), len(resMovies), len(resTV)]\n",
    "#ordinamento delle classi d'età\n",
    "dataframe = dataframe.sort_values(\"startYear\")\n",
    "\n",
    "dataframe.head()\n"
   ]
  },
  {
   "cell_type": "code",
   "execution_count": null,
   "metadata": {},
   "outputs": [],
   "source": [
    "dataframe['movie'] = dataframe['movie'].astype('float')\n",
    "dataframe['tvSeries'] = dataframe['tvSeries'].astype('float')\n",
    "\n",
    "dataframe = pd.eval(\"delta = dataframe.movie - dataframe.tvSeries\", target=dataframe)"
   ]
  },
  {
   "cell_type": "code",
   "execution_count": null,
   "metadata": {},
   "outputs": [],
   "source": [
    "dataframe.head(1)"
   ]
  },
  {
   "cell_type": "code",
   "execution_count": null,
   "metadata": {},
   "outputs": [],
   "source": [
    "import plotly.express as px\n",
    "fig = px.line(dataframe, x=\"startYear\", y=[\"movie\", \"tvSeries\"])\n",
    "fig.show()"
   ]
  },
  {
   "cell_type": "code",
   "execution_count": null,
   "metadata": {},
   "outputs": [],
   "source": [
    "import plotly.express as px\n",
    "fig = px.line(dataframe, x=\"startYear\", y=[\"movie\", \"tvSeries\"])\n",
    "fig.update_xaxes(type=\"log\")\n",
    "fig.show()"
   ]
  },
  {
   "cell_type": "code",
   "execution_count": null,
   "metadata": {},
   "outputs": [],
   "source": [
    "import plotly.express as px\n",
    "fig = px.line(dataframe, x=\"startYear\", y=[\"movie\", \"tvSeries\"])\n",
    "fig.update_xaxes(type=\"date\")\n",
    "fig.show()"
   ]
  },
  {
   "cell_type": "code",
   "execution_count": null,
   "metadata": {},
   "outputs": [],
   "source": [
    "dataframe.dtypes"
   ]
  },
  {
   "cell_type": "code",
   "execution_count": null,
   "metadata": {},
   "outputs": [],
   "source": [
    "dataframe['startYear'] = dataframe['startYear'].astype('int')"
   ]
  },
  {
   "cell_type": "code",
   "execution_count": null,
   "metadata": {},
   "outputs": [],
   "source": [
    "dataframe.dtypes"
   ]
  },
  {
   "cell_type": "code",
   "execution_count": null,
   "metadata": {},
   "outputs": [],
   "source": [
    "# aggiungo decade al df\n",
    "\n",
    "dataframe.loc[dataframe['startYear'] <= 1930, 'decade'] = 1930\n",
    "dataframe.loc[dataframe['startYear'].between(1930,1940), 'decade'] = 1940\n",
    "dataframe.loc[dataframe['startYear'].between(1940,1950), 'decade'] = 1950\n",
    "dataframe.loc[dataframe['startYear'].between(1950,1960), 'decade'] = 1960\n",
    "dataframe.loc[dataframe['startYear'].between(1960,1970), 'decade'] = 1970\n",
    "dataframe.loc[dataframe['startYear'].between(1970,1980), 'decade'] = 1980\n",
    "dataframe.loc[dataframe['startYear'].between(1980,1990), 'decade'] = 1990\n",
    "dataframe.loc[dataframe['startYear'].between(1990,2000), 'decade'] = 2000\n",
    "dataframe.loc[dataframe['startYear'].between(2000,2010), 'decade'] = 2010\n",
    "dataframe.loc[dataframe['startYear'].between(2010,2020), 'decade'] = 2020\n",
    "dataframe.loc[dataframe['startYear'].between(2020,2030), 'decade'] = 2030"
   ]
  },
  {
   "cell_type": "code",
   "execution_count": null,
   "metadata": {},
   "outputs": [],
   "source": [
    "dataframe['decade'] = pd.Categorical(dataframe['decade'])"
   ]
  },
  {
   "cell_type": "code",
   "execution_count": null,
   "metadata": {},
   "outputs": [],
   "source": [
    "dataframe_10 = dataframe.loc[dataframe['startYear'] >= 2010]"
   ]
  },
  {
   "cell_type": "code",
   "execution_count": null,
   "metadata": {},
   "outputs": [],
   "source": [
    "import seaborn as sns\n",
    "sns.set_theme(style=\"whitegrid\")\n",
    "sns.set_style(style='white')"
   ]
  },
  {
   "cell_type": "code",
   "execution_count": null,
   "metadata": {},
   "outputs": [],
   "source": [
    "clrs = ['grey' if (x > min(dataframe['delta'])) else 'red' for x in dataframe['delta']]\n",
    "ax = sns.barplot(x='startYear', y='delta', palette=clrs, data=dataframe)\n",
    "sns.despine()\n",
    "\n",
    "ax.set(xticklabels=[])  \n",
    "ax.set(title='Delta btw Films and TV shows')\n",
    "ax.set(xlabel=None)\n",
    "ax.tick_params(bottom=False)  # remove the ticks"
   ]
  },
  {
   "cell_type": "code",
   "execution_count": null,
   "metadata": {},
   "outputs": [],
   "source": [
    "# dataframe_10['dPos'] = dataframe_10['delta'] >= 0\n",
    "clrs = ['grey' if (x > min(dataframe_10['delta'])) else 'red' for x in dataframe_10['delta']]\n",
    "ax = sns.barplot(x='startYear', y='delta', palette=clrs, data=dataframe_10)\n",
    "sns.despine(trim=True)\n",
    "\n",
    "ax.set(title='Delta btw Films and TV shows')"
   ]
  },
  {
   "cell_type": "markdown",
   "metadata": {},
   "source": [
    "# IMDB"
   ]
  },
  {
   "cell_type": "code",
   "execution_count": null,
   "metadata": {},
   "outputs": [],
   "source": [
    "avg_rating = film2['averageRating'].mean()\n",
    "avg_rating = avg_rating.round(2)\n",
    "avg_rating"
   ]
  },
  {
   "cell_type": "code",
   "execution_count": null,
   "metadata": {},
   "outputs": [],
   "source": [
    "avg_minutes = film2['runtimeMinutes'].mean()\n",
    "avg_minutes = avg_minutes.round(2)\n",
    "avg_minutes"
   ]
  },
  {
   "cell_type": "code",
   "execution_count": null,
   "metadata": {},
   "outputs": [],
   "source": [
    "from bokeh.io import push_notebook, show, output_notebook\n",
    "from bokeh.layouts import row\n",
    "from bokeh.plotting import figure\n",
    "output_notebook()"
   ]
  },
  {
   "cell_type": "code",
   "execution_count": null,
   "metadata": {},
   "outputs": [],
   "source": [
    "from bokeh.plotting import figure, show, save, output_file\n",
    "from bokeh.layouts import layout\n",
    "from bokeh.models import Div, RangeSlider, Spinner,Span, Label, LabelSet, ColumnDataSource, NumeralTickFormatter, HoverTool\n",
    "from bokeh.models.callbacks import CustomJS\n",
    "from bokeh.models import Range1d\n",
    "\n",
    "datasource = ColumnDataSource(film2)\n",
    "\n",
    "p = figure(title=\"x\", x_axis_label=\"Minuti\", y_axis_label=\"Rating\")\n",
    "p.x_range = Range1d(film2[\"runtimeMinutes\"].min(), film2[\"runtimeMinutes\"].max()) \n",
    "p.y_range = Range1d(0, 10) \n",
    "tooltips = [\n",
    "  ('Durata(Min)','@runtimeMinutes'),\n",
    "  ('Media Voti','@averageRating'),\n",
    "  ('Titolo','@primaryTitle')\n",
    "]\n",
    "p.circle( x=\"runtimeMinutes\", y  = \"averageRating\", size=6, source=datasource)\n",
    "p.add_tools(HoverTool(tooltips = tooltips))\n",
    "riga_avg_rating = Span(location=avg_rating, dimension=\"width\", line_width=3, line_color=\"#AAAAAA\")\n",
    "riga_avg_minutes = Span(location=avg_minutes, dimension=\"height\", line_width=3, line_color=\"#AAAAAA\")\n",
    "p.add_layout(riga_avg_rating)\n",
    "p.add_layout(riga_avg_minutes)\n",
    "show(p)"
   ]
  }
 ],
 "metadata": {
  "interpreter": {
   "hash": "22f5c8559ee5d16991f9240bd2c1a679b03627a0e94304b0bc26d90d3a5752ce"
  },
  "kernelspec": {
   "display_name": "Python 3.9.7 64-bit ('MainEnv': conda)",
   "language": "python",
   "name": "python3"
  },
  "language_info": {
   "codemirror_mode": {
    "name": "ipython",
    "version": 3
   },
   "file_extension": ".py",
   "mimetype": "text/x-python",
   "name": "python",
   "nbconvert_exporter": "python",
   "pygments_lexer": "ipython3",
   "version": "3.9.7"
  },
  "orig_nbformat": 4
 },
 "nbformat": 4,
 "nbformat_minor": 2
}
