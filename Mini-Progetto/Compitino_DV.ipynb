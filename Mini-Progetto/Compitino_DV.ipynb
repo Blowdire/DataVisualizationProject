{
  "cells": [
    {
      "cell_type": "code",
      "execution_count": 2,
      "metadata": {
        "id": "29Ea7UUYjIoU"
      },
      "outputs": [],
      "source": [
        "import pandas as pd\n",
        "from matplotlib import pyplot as plt \n",
        "import chart_studio.plotly as py\n",
        "import plotly.graph_objs as go"
      ]
    },
    {
      "cell_type": "code",
      "execution_count": 3,
      "metadata": {},
      "outputs": [],
      "source": [
        "%load_ext autoreload\n",
        "%autoreload 2"
      ]
    },
    {
      "cell_type": "code",
      "execution_count": 4,
      "metadata": {
        "id": "EeooCLgHjugE"
      },
      "outputs": [
        {
          "data": {
            "text/html": [
              "<div>\n",
              "<style scoped>\n",
              "    .dataframe tbody tr th:only-of-type {\n",
              "        vertical-align: middle;\n",
              "    }\n",
              "\n",
              "    .dataframe tbody tr th {\n",
              "        vertical-align: top;\n",
              "    }\n",
              "\n",
              "    .dataframe thead th {\n",
              "        text-align: right;\n",
              "    }\n",
              "</style>\n",
              "<table border=\"1\" class=\"dataframe\">\n",
              "  <thead>\n",
              "    <tr style=\"text-align: right;\">\n",
              "      <th></th>\n",
              "      <th>nome_modulistica</th>\n",
              "      <th>score_preop</th>\n",
              "      <th>score_postop</th>\n",
              "      <th>condizioni_meteo</th>\n",
              "      <th>sesso</th>\n",
              "      <th>anni_ricovero</th>\n",
              "      <th>temperatura_media</th>\n",
              "      <th>umidita_media</th>\n",
              "      <th>HI &gt; 27</th>\n",
              "      <th>natural_light</th>\n",
              "    </tr>\n",
              "  </thead>\n",
              "  <tbody>\n",
              "    <tr>\n",
              "      <th>0</th>\n",
              "      <td>SF12 PhysicalScore</td>\n",
              "      <td>27.60</td>\n",
              "      <td>37.40</td>\n",
              "      <td>poco nuvoloso</td>\n",
              "      <td>F</td>\n",
              "      <td>70</td>\n",
              "      <td>20.0</td>\n",
              "      <td>69.0</td>\n",
              "      <td>False</td>\n",
              "      <td>True</td>\n",
              "    </tr>\n",
              "    <tr>\n",
              "      <th>1</th>\n",
              "      <td>SF12 MentalScore</td>\n",
              "      <td>54.36</td>\n",
              "      <td>58.46</td>\n",
              "      <td>poco nuvoloso</td>\n",
              "      <td>F</td>\n",
              "      <td>70</td>\n",
              "      <td>20.0</td>\n",
              "      <td>69.0</td>\n",
              "      <td>False</td>\n",
              "      <td>True</td>\n",
              "    </tr>\n",
              "    <tr>\n",
              "      <th>2</th>\n",
              "      <td>SF12 PhysicalScore</td>\n",
              "      <td>28.15</td>\n",
              "      <td>38.25</td>\n",
              "      <td>poco nuvoloso</td>\n",
              "      <td>M</td>\n",
              "      <td>69</td>\n",
              "      <td>18.0</td>\n",
              "      <td>65.0</td>\n",
              "      <td>False</td>\n",
              "      <td>True</td>\n",
              "    </tr>\n",
              "    <tr>\n",
              "      <th>3</th>\n",
              "      <td>SF12 MentalScore</td>\n",
              "      <td>57.02</td>\n",
              "      <td>64.62</td>\n",
              "      <td>poco nuvoloso</td>\n",
              "      <td>M</td>\n",
              "      <td>69</td>\n",
              "      <td>18.0</td>\n",
              "      <td>65.0</td>\n",
              "      <td>False</td>\n",
              "      <td>True</td>\n",
              "    </tr>\n",
              "    <tr>\n",
              "      <th>4</th>\n",
              "      <td>SF12 PhysicalScore</td>\n",
              "      <td>31.57</td>\n",
              "      <td>55.67</td>\n",
              "      <td>poco nuvoloso</td>\n",
              "      <td>M</td>\n",
              "      <td>70</td>\n",
              "      <td>23.0</td>\n",
              "      <td>74.0</td>\n",
              "      <td>False</td>\n",
              "      <td>True</td>\n",
              "    </tr>\n",
              "  </tbody>\n",
              "</table>\n",
              "</div>"
            ],
            "text/plain": [
              "     nome_modulistica  score_preop  score_postop condizioni_meteo sesso  \\\n",
              "0  SF12 PhysicalScore        27.60         37.40    poco nuvoloso     F   \n",
              "1    SF12 MentalScore        54.36         58.46    poco nuvoloso     F   \n",
              "2  SF12 PhysicalScore        28.15         38.25    poco nuvoloso     M   \n",
              "3    SF12 MentalScore        57.02         64.62    poco nuvoloso     M   \n",
              "4  SF12 PhysicalScore        31.57         55.67    poco nuvoloso     M   \n",
              "\n",
              "   anni_ricovero  temperatura_media  umidita_media  HI > 27  natural_light  \n",
              "0             70               20.0           69.0    False           True  \n",
              "1             70               20.0           69.0    False           True  \n",
              "2             69               18.0           65.0    False           True  \n",
              "3             69               18.0           65.0    False           True  \n",
              "4             70               23.0           74.0    False           True  "
            ]
          },
          "execution_count": 4,
          "metadata": {},
          "output_type": "execute_result"
        }
      ],
      "source": [
        "dataset= pd.read_csv(\"./compitino_dataviz_2021_2022.csv\")\n",
        "dataset.head()"
      ]
    },
    {
      "cell_type": "code",
      "execution_count": 113,
      "metadata": {},
      "outputs": [
        {
          "data": {
            "text/html": [
              "<div>\n",
              "<style scoped>\n",
              "    .dataframe tbody tr th:only-of-type {\n",
              "        vertical-align: middle;\n",
              "    }\n",
              "\n",
              "    .dataframe tbody tr th {\n",
              "        vertical-align: top;\n",
              "    }\n",
              "\n",
              "    .dataframe thead th {\n",
              "        text-align: right;\n",
              "    }\n",
              "</style>\n",
              "<table border=\"1\" class=\"dataframe\">\n",
              "  <thead>\n",
              "    <tr style=\"text-align: right;\">\n",
              "      <th></th>\n",
              "      <th>score_preop</th>\n",
              "      <th>score_postop</th>\n",
              "      <th>anni_ricovero</th>\n",
              "      <th>temperatura_media</th>\n",
              "      <th>umidita_media</th>\n",
              "      <th>HI &gt; 27</th>\n",
              "      <th>natural_light</th>\n",
              "      <th>delta_score</th>\n",
              "      <th>sotto_metà</th>\n",
              "      <th>peggiorato</th>\n",
              "      <th>pshysical_score</th>\n",
              "    </tr>\n",
              "  </thead>\n",
              "  <tbody>\n",
              "    <tr>\n",
              "      <th>score_preop</th>\n",
              "      <td>1.000000</td>\n",
              "      <td>0.474966</td>\n",
              "      <td>-4.402127e-02</td>\n",
              "      <td>-4.654340e-02</td>\n",
              "      <td>-1.160736e-02</td>\n",
              "      <td>-2.151878e-02</td>\n",
              "      <td>-5.201716e-03</td>\n",
              "      <td>-0.640267</td>\n",
              "      <td>0.398093</td>\n",
              "      <td>0.541272</td>\n",
              "      <td>-6.114983e-01</td>\n",
              "    </tr>\n",
              "    <tr>\n",
              "      <th>score_postop</th>\n",
              "      <td>0.474966</td>\n",
              "      <td>1.000000</td>\n",
              "      <td>-5.144148e-02</td>\n",
              "      <td>1.523470e-02</td>\n",
              "      <td>-2.513441e-02</td>\n",
              "      <td>2.141500e-02</td>\n",
              "      <td>6.515846e-02</td>\n",
              "      <td>0.371872</td>\n",
              "      <td>0.853206</td>\n",
              "      <td>-0.211455</td>\n",
              "      <td>-4.060525e-01</td>\n",
              "    </tr>\n",
              "    <tr>\n",
              "      <th>anni_ricovero</th>\n",
              "      <td>-0.044021</td>\n",
              "      <td>-0.051441</td>\n",
              "      <td>1.000000e+00</td>\n",
              "      <td>-6.008525e-02</td>\n",
              "      <td>4.479989e-02</td>\n",
              "      <td>-4.630623e-02</td>\n",
              "      <td>-6.870208e-03</td>\n",
              "      <td>0.001533</td>\n",
              "      <td>-0.065624</td>\n",
              "      <td>0.000915</td>\n",
              "      <td>6.602082e-17</td>\n",
              "    </tr>\n",
              "    <tr>\n",
              "      <th>temperatura_media</th>\n",
              "      <td>-0.046543</td>\n",
              "      <td>0.015235</td>\n",
              "      <td>-6.008525e-02</td>\n",
              "      <td>1.000000e+00</td>\n",
              "      <td>-4.440158e-01</td>\n",
              "      <td>7.707805e-01</td>\n",
              "      <td>1.915737e-01</td>\n",
              "      <td>0.062395</td>\n",
              "      <td>0.003891</td>\n",
              "      <td>-0.048033</td>\n",
              "      <td>-1.840144e-16</td>\n",
              "    </tr>\n",
              "    <tr>\n",
              "      <th>umidita_media</th>\n",
              "      <td>-0.011607</td>\n",
              "      <td>-0.025134</td>\n",
              "      <td>4.479989e-02</td>\n",
              "      <td>-4.440158e-01</td>\n",
              "      <td>1.000000e+00</td>\n",
              "      <td>-3.176689e-01</td>\n",
              "      <td>-7.329061e-02</td>\n",
              "      <td>-0.009696</td>\n",
              "      <td>-0.017354</td>\n",
              "      <td>0.003756</td>\n",
              "      <td>-4.332531e-17</td>\n",
              "    </tr>\n",
              "    <tr>\n",
              "      <th>HI &gt; 27</th>\n",
              "      <td>-0.021519</td>\n",
              "      <td>0.021415</td>\n",
              "      <td>-4.630623e-02</td>\n",
              "      <td>7.707805e-01</td>\n",
              "      <td>-3.176689e-01</td>\n",
              "      <td>1.000000e+00</td>\n",
              "      <td>1.151539e-01</td>\n",
              "      <td>0.041392</td>\n",
              "      <td>0.014770</td>\n",
              "      <td>-0.034409</td>\n",
              "      <td>-1.691715e-16</td>\n",
              "    </tr>\n",
              "    <tr>\n",
              "      <th>natural_light</th>\n",
              "      <td>-0.005202</td>\n",
              "      <td>0.065158</td>\n",
              "      <td>-6.870208e-03</td>\n",
              "      <td>1.915737e-01</td>\n",
              "      <td>-7.329061e-02</td>\n",
              "      <td>1.151539e-01</td>\n",
              "      <td>1.000000e+00</td>\n",
              "      <td>0.062364</td>\n",
              "      <td>0.038670</td>\n",
              "      <td>-0.043835</td>\n",
              "      <td>-7.368725e-18</td>\n",
              "    </tr>\n",
              "    <tr>\n",
              "      <th>delta_score</th>\n",
              "      <td>-0.640267</td>\n",
              "      <td>0.371872</td>\n",
              "      <td>1.533319e-03</td>\n",
              "      <td>6.239525e-02</td>\n",
              "      <td>-9.695567e-03</td>\n",
              "      <td>4.139246e-02</td>\n",
              "      <td>6.236372e-02</td>\n",
              "      <td>1.000000</td>\n",
              "      <td>0.324827</td>\n",
              "      <td>-0.755546</td>\n",
              "      <td>2.906052e-01</td>\n",
              "    </tr>\n",
              "    <tr>\n",
              "      <th>sotto_metà</th>\n",
              "      <td>0.398093</td>\n",
              "      <td>0.853206</td>\n",
              "      <td>-6.562402e-02</td>\n",
              "      <td>3.891291e-03</td>\n",
              "      <td>-1.735441e-02</td>\n",
              "      <td>1.476990e-02</td>\n",
              "      <td>3.867027e-02</td>\n",
              "      <td>0.324827</td>\n",
              "      <td>1.000000</td>\n",
              "      <td>-0.152500</td>\n",
              "      <td>-3.459716e-01</td>\n",
              "    </tr>\n",
              "    <tr>\n",
              "      <th>peggiorato</th>\n",
              "      <td>0.541272</td>\n",
              "      <td>-0.211455</td>\n",
              "      <td>9.147496e-04</td>\n",
              "      <td>-4.803275e-02</td>\n",
              "      <td>3.755724e-03</td>\n",
              "      <td>-3.440854e-02</td>\n",
              "      <td>-4.383495e-02</td>\n",
              "      <td>-0.755546</td>\n",
              "      <td>-0.152500</td>\n",
              "      <td>1.000000</td>\n",
              "      <td>-2.916953e-01</td>\n",
              "    </tr>\n",
              "    <tr>\n",
              "      <th>pshysical_score</th>\n",
              "      <td>-0.611498</td>\n",
              "      <td>-0.406052</td>\n",
              "      <td>6.602082e-17</td>\n",
              "      <td>-1.840144e-16</td>\n",
              "      <td>-4.332531e-17</td>\n",
              "      <td>-1.691715e-16</td>\n",
              "      <td>-7.368725e-18</td>\n",
              "      <td>0.290605</td>\n",
              "      <td>-0.345972</td>\n",
              "      <td>-0.291695</td>\n",
              "      <td>1.000000e+00</td>\n",
              "    </tr>\n",
              "  </tbody>\n",
              "</table>\n",
              "</div>"
            ],
            "text/plain": [
              "                   score_preop  score_postop  anni_ricovero  \\\n",
              "score_preop           1.000000      0.474966  -4.402127e-02   \n",
              "score_postop          0.474966      1.000000  -5.144148e-02   \n",
              "anni_ricovero        -0.044021     -0.051441   1.000000e+00   \n",
              "temperatura_media    -0.046543      0.015235  -6.008525e-02   \n",
              "umidita_media        -0.011607     -0.025134   4.479989e-02   \n",
              "HI > 27              -0.021519      0.021415  -4.630623e-02   \n",
              "natural_light        -0.005202      0.065158  -6.870208e-03   \n",
              "delta_score          -0.640267      0.371872   1.533319e-03   \n",
              "sotto_metà            0.398093      0.853206  -6.562402e-02   \n",
              "peggiorato            0.541272     -0.211455   9.147496e-04   \n",
              "pshysical_score      -0.611498     -0.406052   6.602082e-17   \n",
              "\n",
              "                   temperatura_media  umidita_media       HI > 27  \\\n",
              "score_preop            -4.654340e-02  -1.160736e-02 -2.151878e-02   \n",
              "score_postop            1.523470e-02  -2.513441e-02  2.141500e-02   \n",
              "anni_ricovero          -6.008525e-02   4.479989e-02 -4.630623e-02   \n",
              "temperatura_media       1.000000e+00  -4.440158e-01  7.707805e-01   \n",
              "umidita_media          -4.440158e-01   1.000000e+00 -3.176689e-01   \n",
              "HI > 27                 7.707805e-01  -3.176689e-01  1.000000e+00   \n",
              "natural_light           1.915737e-01  -7.329061e-02  1.151539e-01   \n",
              "delta_score             6.239525e-02  -9.695567e-03  4.139246e-02   \n",
              "sotto_metà              3.891291e-03  -1.735441e-02  1.476990e-02   \n",
              "peggiorato             -4.803275e-02   3.755724e-03 -3.440854e-02   \n",
              "pshysical_score        -1.840144e-16  -4.332531e-17 -1.691715e-16   \n",
              "\n",
              "                   natural_light  delta_score  sotto_metà  peggiorato  \\\n",
              "score_preop        -5.201716e-03    -0.640267    0.398093    0.541272   \n",
              "score_postop        6.515846e-02     0.371872    0.853206   -0.211455   \n",
              "anni_ricovero      -6.870208e-03     0.001533   -0.065624    0.000915   \n",
              "temperatura_media   1.915737e-01     0.062395    0.003891   -0.048033   \n",
              "umidita_media      -7.329061e-02    -0.009696   -0.017354    0.003756   \n",
              "HI > 27             1.151539e-01     0.041392    0.014770   -0.034409   \n",
              "natural_light       1.000000e+00     0.062364    0.038670   -0.043835   \n",
              "delta_score         6.236372e-02     1.000000    0.324827   -0.755546   \n",
              "sotto_metà          3.867027e-02     0.324827    1.000000   -0.152500   \n",
              "peggiorato         -4.383495e-02    -0.755546   -0.152500    1.000000   \n",
              "pshysical_score    -7.368725e-18     0.290605   -0.345972   -0.291695   \n",
              "\n",
              "                   pshysical_score  \n",
              "score_preop          -6.114983e-01  \n",
              "score_postop         -4.060525e-01  \n",
              "anni_ricovero         6.602082e-17  \n",
              "temperatura_media    -1.840144e-16  \n",
              "umidita_media        -4.332531e-17  \n",
              "HI > 27              -1.691715e-16  \n",
              "natural_light        -7.368725e-18  \n",
              "delta_score           2.906052e-01  \n",
              "sotto_metà           -3.459716e-01  \n",
              "peggiorato           -2.916953e-01  \n",
              "pshysical_score       1.000000e+00  "
            ]
          },
          "execution_count": 113,
          "metadata": {},
          "output_type": "execute_result"
        }
      ],
      "source": [
        "dataset.corr()"
      ]
    },
    {
      "cell_type": "code",
      "execution_count": 6,
      "metadata": {
        "id": "_aZ7ZVdqkk8R"
      },
      "outputs": [
        {
          "data": {
            "text/html": [
              "<div>\n",
              "<style scoped>\n",
              "    .dataframe tbody tr th:only-of-type {\n",
              "        vertical-align: middle;\n",
              "    }\n",
              "\n",
              "    .dataframe tbody tr th {\n",
              "        vertical-align: top;\n",
              "    }\n",
              "\n",
              "    .dataframe thead th {\n",
              "        text-align: right;\n",
              "    }\n",
              "</style>\n",
              "<table border=\"1\" class=\"dataframe\">\n",
              "  <thead>\n",
              "    <tr style=\"text-align: right;\">\n",
              "      <th></th>\n",
              "      <th>nome_modulistica</th>\n",
              "      <th>score_preop</th>\n",
              "      <th>score_postop</th>\n",
              "      <th>condizioni_meteo</th>\n",
              "      <th>sesso</th>\n",
              "      <th>anni_ricovero</th>\n",
              "      <th>temperatura_media</th>\n",
              "      <th>umidita_media</th>\n",
              "      <th>HI &gt; 27</th>\n",
              "      <th>natural_light</th>\n",
              "    </tr>\n",
              "  </thead>\n",
              "  <tbody>\n",
              "    <tr>\n",
              "      <th>2105</th>\n",
              "      <td>SF12 MentalScore</td>\n",
              "      <td>57.54</td>\n",
              "      <td>62.34</td>\n",
              "      <td>nebbia al mattino</td>\n",
              "      <td>M</td>\n",
              "      <td>70</td>\n",
              "      <td>20.0</td>\n",
              "      <td>71.0</td>\n",
              "      <td>True</td>\n",
              "      <td>True</td>\n",
              "    </tr>\n",
              "    <tr>\n",
              "      <th>2106</th>\n",
              "      <td>SF12 PhysicalScore</td>\n",
              "      <td>32.20</td>\n",
              "      <td>37.10</td>\n",
              "      <td>nebbia al mattino</td>\n",
              "      <td>F</td>\n",
              "      <td>56</td>\n",
              "      <td>20.0</td>\n",
              "      <td>71.0</td>\n",
              "      <td>True</td>\n",
              "      <td>True</td>\n",
              "    </tr>\n",
              "    <tr>\n",
              "      <th>2107</th>\n",
              "      <td>SF12 MentalScore</td>\n",
              "      <td>48.84</td>\n",
              "      <td>50.94</td>\n",
              "      <td>nebbia al mattino</td>\n",
              "      <td>F</td>\n",
              "      <td>56</td>\n",
              "      <td>20.0</td>\n",
              "      <td>71.0</td>\n",
              "      <td>True</td>\n",
              "      <td>True</td>\n",
              "    </tr>\n",
              "    <tr>\n",
              "      <th>2108</th>\n",
              "      <td>SF12 PhysicalScore</td>\n",
              "      <td>36.47</td>\n",
              "      <td>43.47</td>\n",
              "      <td>sereno</td>\n",
              "      <td>M</td>\n",
              "      <td>69</td>\n",
              "      <td>23.0</td>\n",
              "      <td>55.0</td>\n",
              "      <td>False</td>\n",
              "      <td>True</td>\n",
              "    </tr>\n",
              "    <tr>\n",
              "      <th>2109</th>\n",
              "      <td>SF12 MentalScore</td>\n",
              "      <td>51.70</td>\n",
              "      <td>60.20</td>\n",
              "      <td>sereno</td>\n",
              "      <td>M</td>\n",
              "      <td>69</td>\n",
              "      <td>23.0</td>\n",
              "      <td>55.0</td>\n",
              "      <td>False</td>\n",
              "      <td>True</td>\n",
              "    </tr>\n",
              "  </tbody>\n",
              "</table>\n",
              "</div>"
            ],
            "text/plain": [
              "        nome_modulistica  score_preop  score_postop   condizioni_meteo sesso  \\\n",
              "2105    SF12 MentalScore        57.54         62.34  nebbia al mattino     M   \n",
              "2106  SF12 PhysicalScore        32.20         37.10  nebbia al mattino     F   \n",
              "2107    SF12 MentalScore        48.84         50.94  nebbia al mattino     F   \n",
              "2108  SF12 PhysicalScore        36.47         43.47             sereno     M   \n",
              "2109    SF12 MentalScore        51.70         60.20             sereno     M   \n",
              "\n",
              "      anni_ricovero  temperatura_media  umidita_media  HI > 27  natural_light  \n",
              "2105             70               20.0           71.0     True           True  \n",
              "2106             56               20.0           71.0     True           True  \n",
              "2107             56               20.0           71.0     True           True  \n",
              "2108             69               23.0           55.0    False           True  \n",
              "2109             69               23.0           55.0    False           True  "
            ]
          },
          "execution_count": 6,
          "metadata": {},
          "output_type": "execute_result"
        }
      ],
      "source": [
        "dataset.tail()"
      ]
    },
    {
      "cell_type": "code",
      "execution_count": 5,
      "metadata": {},
      "outputs": [],
      "source": [
        "dataset[\"delta_score\"] = dataset[\"score_postop\"] - dataset[\"score_preop\"] \n",
        "dataset[\"sotto_metà\"] = dataset[\"score_postop\"] > (dataset['score_postop'].median())\n",
        "dataset[\"peggiorato\"] = dataset[\"delta_score\"] < 0\n",
        "dataset[\"pshysical_score\"] = dataset[\"nome_modulistica\"] == \"SF12 PhysicalScore\""
      ]
    },
    {
      "cell_type": "code",
      "execution_count": 8,
      "metadata": {},
      "outputs": [
        {
          "data": {
            "text/plain": [
              "48.885000000000005"
            ]
          },
          "execution_count": 8,
          "metadata": {},
          "output_type": "execute_result"
        }
      ],
      "source": [
        "dataset['score_postop'].median()"
      ]
    },
    {
      "cell_type": "code",
      "execution_count": 131,
      "metadata": {},
      "outputs": [
        {
          "data": {
            "text/html": [
              "<div>\n",
              "<style scoped>\n",
              "    .dataframe tbody tr th:only-of-type {\n",
              "        vertical-align: middle;\n",
              "    }\n",
              "\n",
              "    .dataframe tbody tr th {\n",
              "        vertical-align: top;\n",
              "    }\n",
              "\n",
              "    .dataframe thead th {\n",
              "        text-align: right;\n",
              "    }\n",
              "</style>\n",
              "<table border=\"1\" class=\"dataframe\">\n",
              "  <thead>\n",
              "    <tr style=\"text-align: right;\">\n",
              "      <th></th>\n",
              "      <th>nome_modulistica</th>\n",
              "      <th>score_preop</th>\n",
              "      <th>score_postop</th>\n",
              "      <th>condizioni_meteo</th>\n",
              "      <th>sesso</th>\n",
              "      <th>anni_ricovero</th>\n",
              "      <th>temperatura_media</th>\n",
              "      <th>umidita_media</th>\n",
              "      <th>HI &gt; 27</th>\n",
              "      <th>natural_light</th>\n",
              "      <th>delta_score</th>\n",
              "      <th>sotto_metà</th>\n",
              "      <th>peggiorato</th>\n",
              "      <th>pshysical_score</th>\n",
              "    </tr>\n",
              "  </thead>\n",
              "  <tbody>\n",
              "    <tr>\n",
              "      <th>0</th>\n",
              "      <td>SF12 PhysicalScore</td>\n",
              "      <td>27.60</td>\n",
              "      <td>37.40</td>\n",
              "      <td>poco nuvoloso</td>\n",
              "      <td>F</td>\n",
              "      <td>70</td>\n",
              "      <td>20.0</td>\n",
              "      <td>69.0</td>\n",
              "      <td>False</td>\n",
              "      <td>True</td>\n",
              "      <td>9.8</td>\n",
              "      <td>False</td>\n",
              "      <td>False</td>\n",
              "      <td>True</td>\n",
              "    </tr>\n",
              "    <tr>\n",
              "      <th>1</th>\n",
              "      <td>SF12 MentalScore</td>\n",
              "      <td>54.36</td>\n",
              "      <td>58.46</td>\n",
              "      <td>poco nuvoloso</td>\n",
              "      <td>F</td>\n",
              "      <td>70</td>\n",
              "      <td>20.0</td>\n",
              "      <td>69.0</td>\n",
              "      <td>False</td>\n",
              "      <td>True</td>\n",
              "      <td>4.1</td>\n",
              "      <td>True</td>\n",
              "      <td>False</td>\n",
              "      <td>False</td>\n",
              "    </tr>\n",
              "    <tr>\n",
              "      <th>2</th>\n",
              "      <td>SF12 PhysicalScore</td>\n",
              "      <td>28.15</td>\n",
              "      <td>38.25</td>\n",
              "      <td>poco nuvoloso</td>\n",
              "      <td>M</td>\n",
              "      <td>69</td>\n",
              "      <td>18.0</td>\n",
              "      <td>65.0</td>\n",
              "      <td>False</td>\n",
              "      <td>True</td>\n",
              "      <td>10.1</td>\n",
              "      <td>False</td>\n",
              "      <td>False</td>\n",
              "      <td>True</td>\n",
              "    </tr>\n",
              "    <tr>\n",
              "      <th>3</th>\n",
              "      <td>SF12 MentalScore</td>\n",
              "      <td>57.02</td>\n",
              "      <td>64.62</td>\n",
              "      <td>poco nuvoloso</td>\n",
              "      <td>M</td>\n",
              "      <td>69</td>\n",
              "      <td>18.0</td>\n",
              "      <td>65.0</td>\n",
              "      <td>False</td>\n",
              "      <td>True</td>\n",
              "      <td>7.6</td>\n",
              "      <td>True</td>\n",
              "      <td>False</td>\n",
              "      <td>False</td>\n",
              "    </tr>\n",
              "    <tr>\n",
              "      <th>4</th>\n",
              "      <td>SF12 PhysicalScore</td>\n",
              "      <td>31.57</td>\n",
              "      <td>55.67</td>\n",
              "      <td>poco nuvoloso</td>\n",
              "      <td>M</td>\n",
              "      <td>70</td>\n",
              "      <td>23.0</td>\n",
              "      <td>74.0</td>\n",
              "      <td>False</td>\n",
              "      <td>True</td>\n",
              "      <td>24.1</td>\n",
              "      <td>True</td>\n",
              "      <td>False</td>\n",
              "      <td>True</td>\n",
              "    </tr>\n",
              "  </tbody>\n",
              "</table>\n",
              "</div>"
            ],
            "text/plain": [
              "     nome_modulistica  score_preop  score_postop condizioni_meteo sesso  \\\n",
              "0  SF12 PhysicalScore        27.60         37.40    poco nuvoloso     F   \n",
              "1    SF12 MentalScore        54.36         58.46    poco nuvoloso     F   \n",
              "2  SF12 PhysicalScore        28.15         38.25    poco nuvoloso     M   \n",
              "3    SF12 MentalScore        57.02         64.62    poco nuvoloso     M   \n",
              "4  SF12 PhysicalScore        31.57         55.67    poco nuvoloso     M   \n",
              "\n",
              "   anni_ricovero  temperatura_media  umidita_media  HI > 27  natural_light  \\\n",
              "0             70               20.0           69.0    False           True   \n",
              "1             70               20.0           69.0    False           True   \n",
              "2             69               18.0           65.0    False           True   \n",
              "3             69               18.0           65.0    False           True   \n",
              "4             70               23.0           74.0    False           True   \n",
              "\n",
              "   delta_score  sotto_metà  peggiorato  pshysical_score  \n",
              "0          9.8       False       False             True  \n",
              "1          4.1        True       False            False  \n",
              "2         10.1       False       False             True  \n",
              "3          7.6        True       False            False  \n",
              "4         24.1        True       False             True  "
            ]
          },
          "execution_count": 131,
          "metadata": {},
          "output_type": "execute_result"
        }
      ],
      "source": [
        "dataset.head()"
      ]
    },
    {
      "cell_type": "code",
      "execution_count": 6,
      "metadata": {
        "id": "ngA20W5Fj7AZ"
      },
      "outputs": [
        {
          "data": {
            "text/plain": [
              "97"
            ]
          },
          "execution_count": 6,
          "metadata": {},
          "output_type": "execute_result"
        }
      ],
      "source": [
        "dataset['anni_ricovero'].max()"
      ]
    },
    {
      "cell_type": "code",
      "execution_count": 7,
      "metadata": {
        "id": "LSzbCKItkG98"
      },
      "outputs": [
        {
          "data": {
            "text/plain": [
              "24"
            ]
          },
          "execution_count": 7,
          "metadata": {},
          "output_type": "execute_result"
        }
      ],
      "source": [
        "dataset['anni_ricovero'].min()"
      ]
    },
    {
      "cell_type": "markdown",
      "metadata": {},
      "source": [
        "Divisione in gruppi di età"
      ]
    },
    {
      "cell_type": "code",
      "execution_count": 6,
      "metadata": {},
      "outputs": [
        {
          "name": "stdout",
          "output_type": "stream",
          "text": [
            "0         (69.0, 74.0]\n",
            "1         (69.0, 74.0]\n",
            "2         (65.0, 69.0]\n",
            "3         (65.0, 69.0]\n",
            "4         (69.0, 74.0]\n",
            "             ...      \n",
            "2105      (69.0, 74.0]\n",
            "2106    (23.999, 58.0]\n",
            "2107    (23.999, 58.0]\n",
            "2108      (65.0, 69.0]\n",
            "2109      (65.0, 69.0]\n",
            "Name: anni_ricovero, Length: 2110, dtype: category\n",
            "Categories (6, interval[float64, right]): [(23.999, 58.0] < (58.0, 65.0] < (65.0, 69.0] < (69.0, 74.0] < (74.0, 79.0] < (79.0, 97.0]]\n"
          ]
        }
      ],
      "source": [
        "import numpy.random as ran\n",
        "intervals =pd.qcut(dataset[\"anni_ricovero\"], 6)\n",
        "print(intervals)\n",
        "dataset[\"gruppo_eta\"] = pd.qcut(dataset[\"anni_ricovero\"], 6)\n",
        "dataset[\"gruppo_eta\"] = dataset[\"gruppo_eta\"].astype(str)\n",
        "\n",
        "# dataset[\"gruppo_eta\"] = pd.cut(x=dataset[\"anni_ricovero\"], bins=[20,30,40,50,60,70,80,90,100], labels=[\"20-30\",\"30-40\",\"40-50\",\"50-60\",\"60-70\",\"70-80\",\"80-90\",\"90-100\"])"
      ]
    },
    {
      "cell_type": "code",
      "execution_count": 102,
      "metadata": {},
      "outputs": [
        {
          "data": {
            "text/html": [
              "<div>\n",
              "<style scoped>\n",
              "    .dataframe tbody tr th:only-of-type {\n",
              "        vertical-align: middle;\n",
              "    }\n",
              "\n",
              "    .dataframe tbody tr th {\n",
              "        vertical-align: top;\n",
              "    }\n",
              "\n",
              "    .dataframe thead th {\n",
              "        text-align: right;\n",
              "    }\n",
              "</style>\n",
              "<table border=\"1\" class=\"dataframe\">\n",
              "  <thead>\n",
              "    <tr style=\"text-align: right;\">\n",
              "      <th></th>\n",
              "      <th>nome_modulistica</th>\n",
              "      <th>score_preop</th>\n",
              "      <th>score_postop</th>\n",
              "      <th>condizioni_meteo</th>\n",
              "      <th>sesso</th>\n",
              "      <th>anni_ricovero</th>\n",
              "      <th>temperatura_media</th>\n",
              "      <th>umidita_media</th>\n",
              "      <th>HI &gt; 27</th>\n",
              "      <th>natural_light</th>\n",
              "      <th>delta_score</th>\n",
              "      <th>sotto_metà</th>\n",
              "      <th>peggiorato</th>\n",
              "      <th>pshysical_score</th>\n",
              "      <th>gruppo_eta</th>\n",
              "    </tr>\n",
              "  </thead>\n",
              "  <tbody>\n",
              "    <tr>\n",
              "      <th>0</th>\n",
              "      <td>SF12 PhysicalScore</td>\n",
              "      <td>27.60</td>\n",
              "      <td>37.40</td>\n",
              "      <td>poco nuvoloso</td>\n",
              "      <td>F</td>\n",
              "      <td>70</td>\n",
              "      <td>20.0</td>\n",
              "      <td>69.0</td>\n",
              "      <td>False</td>\n",
              "      <td>True</td>\n",
              "      <td>9.8</td>\n",
              "      <td>False</td>\n",
              "      <td>False</td>\n",
              "      <td>True</td>\n",
              "      <td>(69.0, 74.0]</td>\n",
              "    </tr>\n",
              "    <tr>\n",
              "      <th>1</th>\n",
              "      <td>SF12 MentalScore</td>\n",
              "      <td>54.36</td>\n",
              "      <td>58.46</td>\n",
              "      <td>poco nuvoloso</td>\n",
              "      <td>F</td>\n",
              "      <td>70</td>\n",
              "      <td>20.0</td>\n",
              "      <td>69.0</td>\n",
              "      <td>False</td>\n",
              "      <td>True</td>\n",
              "      <td>4.1</td>\n",
              "      <td>True</td>\n",
              "      <td>False</td>\n",
              "      <td>False</td>\n",
              "      <td>(69.0, 74.0]</td>\n",
              "    </tr>\n",
              "    <tr>\n",
              "      <th>2</th>\n",
              "      <td>SF12 PhysicalScore</td>\n",
              "      <td>28.15</td>\n",
              "      <td>38.25</td>\n",
              "      <td>poco nuvoloso</td>\n",
              "      <td>M</td>\n",
              "      <td>69</td>\n",
              "      <td>18.0</td>\n",
              "      <td>65.0</td>\n",
              "      <td>False</td>\n",
              "      <td>True</td>\n",
              "      <td>10.1</td>\n",
              "      <td>False</td>\n",
              "      <td>False</td>\n",
              "      <td>True</td>\n",
              "      <td>(65.0, 69.0]</td>\n",
              "    </tr>\n",
              "    <tr>\n",
              "      <th>3</th>\n",
              "      <td>SF12 MentalScore</td>\n",
              "      <td>57.02</td>\n",
              "      <td>64.62</td>\n",
              "      <td>poco nuvoloso</td>\n",
              "      <td>M</td>\n",
              "      <td>69</td>\n",
              "      <td>18.0</td>\n",
              "      <td>65.0</td>\n",
              "      <td>False</td>\n",
              "      <td>True</td>\n",
              "      <td>7.6</td>\n",
              "      <td>True</td>\n",
              "      <td>False</td>\n",
              "      <td>False</td>\n",
              "      <td>(65.0, 69.0]</td>\n",
              "    </tr>\n",
              "    <tr>\n",
              "      <th>4</th>\n",
              "      <td>SF12 PhysicalScore</td>\n",
              "      <td>31.57</td>\n",
              "      <td>55.67</td>\n",
              "      <td>poco nuvoloso</td>\n",
              "      <td>M</td>\n",
              "      <td>70</td>\n",
              "      <td>23.0</td>\n",
              "      <td>74.0</td>\n",
              "      <td>False</td>\n",
              "      <td>True</td>\n",
              "      <td>24.1</td>\n",
              "      <td>True</td>\n",
              "      <td>False</td>\n",
              "      <td>True</td>\n",
              "      <td>(69.0, 74.0]</td>\n",
              "    </tr>\n",
              "  </tbody>\n",
              "</table>\n",
              "</div>"
            ],
            "text/plain": [
              "     nome_modulistica  score_preop  score_postop condizioni_meteo sesso  \\\n",
              "0  SF12 PhysicalScore        27.60         37.40    poco nuvoloso     F   \n",
              "1    SF12 MentalScore        54.36         58.46    poco nuvoloso     F   \n",
              "2  SF12 PhysicalScore        28.15         38.25    poco nuvoloso     M   \n",
              "3    SF12 MentalScore        57.02         64.62    poco nuvoloso     M   \n",
              "4  SF12 PhysicalScore        31.57         55.67    poco nuvoloso     M   \n",
              "\n",
              "   anni_ricovero  temperatura_media  umidita_media  HI > 27  natural_light  \\\n",
              "0             70               20.0           69.0    False           True   \n",
              "1             70               20.0           69.0    False           True   \n",
              "2             69               18.0           65.0    False           True   \n",
              "3             69               18.0           65.0    False           True   \n",
              "4             70               23.0           74.0    False           True   \n",
              "\n",
              "   delta_score  sotto_metà  peggiorato  pshysical_score    gruppo_eta  \n",
              "0          9.8       False       False             True  (69.0, 74.0]  \n",
              "1          4.1        True       False            False  (69.0, 74.0]  \n",
              "2         10.1       False       False             True  (65.0, 69.0]  \n",
              "3          7.6        True       False            False  (65.0, 69.0]  \n",
              "4         24.1        True       False             True  (69.0, 74.0]  "
            ]
          },
          "execution_count": 102,
          "metadata": {},
          "output_type": "execute_result"
        }
      ],
      "source": [
        "dataset.head()"
      ]
    },
    {
      "cell_type": "markdown",
      "metadata": {},
      "source": [
        "Visualizzazione population pyramid"
      ]
    },
    {
      "cell_type": "code",
      "execution_count": 7,
      "metadata": {},
      "outputs": [
        {
          "ename": "ImportError",
          "evalue": "\nThe plotly.plotly module is deprecated,\nplease install the chart-studio package and use the\nchart_studio.plotly module instead. \n",
          "output_type": "error",
          "traceback": [
            "\u001b[1;31m---------------------------------------------------------------------------\u001b[0m",
            "\u001b[1;31mImportError\u001b[0m                               Traceback (most recent call last)",
            "\u001b[1;32m~\\AppData\\Local\\Temp/ipykernel_15856/3932281011.py\u001b[0m in \u001b[0;36m<module>\u001b[1;34m\u001b[0m\n\u001b[1;32m----> 1\u001b[1;33m \u001b[1;32mimport\u001b[0m \u001b[0mplotly\u001b[0m\u001b[1;33m.\u001b[0m\u001b[0mplotly\u001b[0m \u001b[1;32mas\u001b[0m \u001b[0mpy\u001b[0m\u001b[1;33m\u001b[0m\u001b[1;33m\u001b[0m\u001b[0m\n\u001b[0m\u001b[0;32m      2\u001b[0m \u001b[1;32mimport\u001b[0m \u001b[0mplotly\u001b[0m\u001b[1;33m.\u001b[0m\u001b[0mgraph_objs\u001b[0m \u001b[1;32mas\u001b[0m \u001b[0mgo\u001b[0m\u001b[1;33m\u001b[0m\u001b[1;33m\u001b[0m\u001b[0m\n\u001b[0;32m      3\u001b[0m \u001b[1;33m\u001b[0m\u001b[0m\n\u001b[0;32m      4\u001b[0m \u001b[1;32mimport\u001b[0m \u001b[0mnumpy\u001b[0m \u001b[1;32mas\u001b[0m \u001b[0mnp\u001b[0m\u001b[1;33m\u001b[0m\u001b[1;33m\u001b[0m\u001b[0m\n\u001b[0;32m      5\u001b[0m \u001b[1;33m\u001b[0m\u001b[0m\n",
            "\u001b[1;32mC:\\Python39\\lib\\site-packages\\plotly\\plotly\\__init__.py\u001b[0m in \u001b[0;36m<module>\u001b[1;34m\u001b[0m\n\u001b[0;32m      2\u001b[0m \u001b[1;32mfrom\u001b[0m \u001b[0m_plotly_future_\u001b[0m \u001b[1;32mimport\u001b[0m \u001b[0m_chart_studio_error\u001b[0m\u001b[1;33m\u001b[0m\u001b[1;33m\u001b[0m\u001b[0m\n\u001b[0;32m      3\u001b[0m \u001b[1;33m\u001b[0m\u001b[0m\n\u001b[1;32m----> 4\u001b[1;33m \u001b[0m_chart_studio_error\u001b[0m\u001b[1;33m(\u001b[0m\u001b[1;34m\"plotly\"\u001b[0m\u001b[1;33m)\u001b[0m\u001b[1;33m\u001b[0m\u001b[1;33m\u001b[0m\u001b[0m\n\u001b[0m",
            "\u001b[1;32mC:\\Python39\\lib\\site-packages\\_plotly_future_\\__init__.py\u001b[0m in \u001b[0;36m_chart_studio_error\u001b[1;34m(submodule)\u001b[0m\n\u001b[0;32m     41\u001b[0m \u001b[1;33m\u001b[0m\u001b[0m\n\u001b[0;32m     42\u001b[0m \u001b[1;32mdef\u001b[0m \u001b[0m_chart_studio_error\u001b[0m\u001b[1;33m(\u001b[0m\u001b[0msubmodule\u001b[0m\u001b[1;33m)\u001b[0m\u001b[1;33m:\u001b[0m\u001b[1;33m\u001b[0m\u001b[1;33m\u001b[0m\u001b[0m\n\u001b[1;32m---> 43\u001b[1;33m     raise ImportError(\n\u001b[0m\u001b[0;32m     44\u001b[0m         \"\"\"\n\u001b[0;32m     45\u001b[0m \u001b[0mThe\u001b[0m \u001b[0mplotly\u001b[0m\u001b[1;33m.\u001b[0m\u001b[1;33m{\u001b[0m\u001b[0msubmodule\u001b[0m\u001b[1;33m}\u001b[0m \u001b[0mmodule\u001b[0m \u001b[1;32mis\u001b[0m \u001b[0mdeprecated\u001b[0m\u001b[1;33m,\u001b[0m\u001b[1;33m\u001b[0m\u001b[1;33m\u001b[0m\u001b[0m\n",
            "\u001b[1;31mImportError\u001b[0m: \nThe plotly.plotly module is deprecated,\nplease install the chart-studio package and use the\nchart_studio.plotly module instead. \n"
          ]
        }
      ],
      "source": [
        "import plotly.plotly as py\n",
        "import plotly.graph_objs as go\n",
        "\n",
        "import numpy as np\n",
        "\n",
        "layout = go.Layout(yaxis=go.layout.YAxis(title='gruppo_eta'),\n",
        "\n",
        ")\n"
      ]
    },
    {
      "cell_type": "code",
      "execution_count": null,
      "metadata": {
        "id": "vCHMG92lkvCF"
      },
      "outputs": [],
      "source": [
        "dataset.shape"
      ]
    },
    {
      "cell_type": "code",
      "execution_count": 6,
      "metadata": {},
      "outputs": [],
      "source": [
        "dataset= dataset.sort_values(\"temperatura_media\")"
      ]
    },
    {
      "cell_type": "code",
      "execution_count": 35,
      "metadata": {},
      "outputs": [
        {
          "data": {
            "application/vnd.plotly.v1+json": {
              "config": {
                "plotlyServerURL": "https://plot.ly"
              },
              "data": [
                {
                  "points": "all",
                  "type": "violin",
                  "x": [
                    false,
                    false,
                    false,
                    false,
                    false,
                    true,
                    false,
                    false,
                    false,
                    false,
                    false,
                    false,
                    false,
                    false,
                    false,
                    false,
                    false,
                    true,
                    false,
                    true,
                    false,
                    false,
                    false,
                    true,
                    false,
                    false,
                    false,
                    false,
                    false,
                    false,
                    false,
                    true,
                    false,
                    false,
                    false,
                    false,
                    false,
                    false,
                    false,
                    false,
                    false,
                    true,
                    false,
                    true,
                    false,
                    false,
                    true,
                    false,
                    false,
                    false,
                    false,
                    false,
                    false,
                    false,
                    false,
                    false,
                    false,
                    false,
                    false,
                    false,
                    false,
                    true,
                    false,
                    false,
                    true,
                    false,
                    false,
                    false,
                    false,
                    false,
                    true,
                    false,
                    false,
                    false,
                    false,
                    false,
                    false,
                    false,
                    false,
                    false,
                    false,
                    false,
                    false,
                    false,
                    false,
                    false,
                    false,
                    false,
                    false,
                    false,
                    false,
                    false,
                    false,
                    true,
                    false,
                    true,
                    false,
                    false,
                    true,
                    true,
                    true,
                    true,
                    true,
                    true,
                    false,
                    false,
                    false,
                    false,
                    false,
                    false,
                    false,
                    true,
                    true,
                    true,
                    false,
                    true,
                    false,
                    false,
                    false,
                    true,
                    false,
                    false,
                    false,
                    true,
                    false,
                    true,
                    false,
                    false,
                    true,
                    false,
                    false,
                    true,
                    false,
                    false,
                    false,
                    false,
                    false,
                    false,
                    false,
                    false,
                    false,
                    false,
                    false,
                    false,
                    false,
                    false,
                    false,
                    false,
                    false,
                    false,
                    false,
                    false,
                    false,
                    false,
                    false,
                    false,
                    false,
                    false,
                    false,
                    true,
                    false,
                    false,
                    true,
                    false,
                    false,
                    false,
                    false,
                    false,
                    false,
                    false,
                    false,
                    true,
                    false,
                    false,
                    false,
                    true,
                    false,
                    false,
                    false,
                    true,
                    false,
                    false,
                    false,
                    false,
                    false,
                    false,
                    false,
                    true,
                    false,
                    true,
                    false,
                    false,
                    false,
                    false,
                    false,
                    true,
                    true,
                    false,
                    false,
                    true,
                    false,
                    true,
                    false,
                    true,
                    false,
                    false,
                    false,
                    false,
                    false,
                    true,
                    false,
                    true,
                    false,
                    false,
                    false,
                    true,
                    false,
                    false,
                    false,
                    true,
                    false,
                    true,
                    false,
                    true,
                    false,
                    false,
                    false,
                    false,
                    false,
                    false,
                    false,
                    false,
                    false,
                    false,
                    false,
                    true,
                    false,
                    false,
                    false,
                    false,
                    true,
                    true,
                    false,
                    true,
                    false,
                    true,
                    false,
                    false,
                    false,
                    true,
                    false,
                    false,
                    false,
                    false,
                    false,
                    true,
                    false,
                    false,
                    false,
                    true,
                    false,
                    true,
                    false,
                    true,
                    false,
                    true,
                    false,
                    false,
                    true,
                    true,
                    true,
                    false,
                    false,
                    false,
                    false,
                    false,
                    false,
                    true,
                    true,
                    false,
                    false,
                    true,
                    false,
                    false,
                    false,
                    true,
                    false,
                    true,
                    false,
                    false,
                    false,
                    false,
                    true,
                    true,
                    false,
                    false,
                    false,
                    true,
                    false,
                    true,
                    false,
                    false,
                    true,
                    false,
                    false,
                    true,
                    false,
                    true,
                    false,
                    false,
                    false,
                    false,
                    true,
                    false,
                    false,
                    false,
                    true,
                    true,
                    false,
                    false,
                    true,
                    true,
                    false,
                    false,
                    true,
                    true,
                    true,
                    true,
                    false,
                    true,
                    true,
                    true,
                    false,
                    true,
                    false,
                    true,
                    true,
                    false,
                    false,
                    true,
                    false,
                    true,
                    false,
                    false,
                    true,
                    true,
                    false,
                    false,
                    false,
                    false,
                    false,
                    false,
                    false,
                    false,
                    false,
                    false,
                    false,
                    false,
                    false,
                    true,
                    false,
                    true,
                    false,
                    true,
                    false,
                    false,
                    false,
                    false,
                    false,
                    false,
                    false,
                    false,
                    false,
                    true,
                    false,
                    true,
                    false,
                    true,
                    false,
                    false,
                    false,
                    false,
                    false,
                    true,
                    false,
                    true,
                    false,
                    true,
                    true,
                    false,
                    true,
                    true,
                    false,
                    true,
                    false,
                    false,
                    false,
                    true,
                    false,
                    false,
                    false,
                    false,
                    false,
                    true,
                    false,
                    true,
                    false,
                    false,
                    false,
                    false,
                    false,
                    true,
                    false,
                    false,
                    false,
                    true,
                    false,
                    true,
                    false,
                    true,
                    false,
                    false,
                    false,
                    true,
                    false,
                    false,
                    false,
                    false,
                    false,
                    true,
                    false,
                    false,
                    false,
                    true,
                    false,
                    true,
                    false,
                    false,
                    false,
                    true,
                    false,
                    false,
                    false,
                    true,
                    false,
                    true,
                    true,
                    true,
                    true,
                    true,
                    false,
                    false,
                    false,
                    false,
                    false,
                    false,
                    false,
                    false,
                    false,
                    false,
                    false,
                    true,
                    false,
                    false,
                    false,
                    true,
                    false,
                    true,
                    false,
                    true,
                    false,
                    false,
                    false,
                    false,
                    false,
                    false,
                    false,
                    false,
                    false,
                    false,
                    false,
                    false,
                    false,
                    false,
                    false,
                    false,
                    false,
                    true,
                    false,
                    false,
                    false,
                    true,
                    false,
                    true,
                    false,
                    false,
                    false,
                    false,
                    false,
                    false,
                    false,
                    true,
                    false,
                    true,
                    false,
                    true,
                    false,
                    true,
                    false,
                    false,
                    false,
                    false,
                    false,
                    true,
                    false,
                    false,
                    false,
                    false,
                    false,
                    false,
                    false,
                    false,
                    true,
                    false,
                    false,
                    true,
                    false,
                    true,
                    false,
                    false,
                    false,
                    false,
                    false,
                    true,
                    false,
                    false,
                    true,
                    false,
                    true,
                    true,
                    false,
                    true,
                    false,
                    false,
                    false,
                    false,
                    true,
                    true,
                    false,
                    true,
                    false,
                    true,
                    false,
                    true,
                    false,
                    false,
                    false,
                    false,
                    false,
                    true,
                    false,
                    true,
                    false,
                    true,
                    false,
                    true,
                    false,
                    true,
                    false,
                    false,
                    true,
                    true,
                    false,
                    false,
                    false,
                    true,
                    false,
                    false,
                    false,
                    true,
                    false,
                    false,
                    false,
                    false,
                    false,
                    false,
                    false,
                    true,
                    false,
                    false,
                    false,
                    true,
                    false,
                    true,
                    false,
                    false,
                    false,
                    false,
                    false,
                    false,
                    false,
                    true,
                    false,
                    false,
                    false,
                    false,
                    false,
                    true,
                    false,
                    false,
                    false,
                    true,
                    false,
                    true,
                    true,
                    false,
                    true,
                    false,
                    true,
                    false,
                    false,
                    true,
                    true,
                    true,
                    false,
                    false,
                    false,
                    true,
                    false,
                    false,
                    false,
                    true,
                    false,
                    true,
                    false,
                    true,
                    false,
                    true,
                    true,
                    false,
                    false,
                    false,
                    false,
                    false,
                    false,
                    false,
                    false,
                    true,
                    false,
                    false,
                    false,
                    false,
                    false,
                    false,
                    false,
                    false,
                    true,
                    false,
                    false,
                    true,
                    false,
                    false,
                    false,
                    true,
                    false,
                    false,
                    false,
                    true,
                    false,
                    false,
                    true,
                    false,
                    false,
                    false,
                    true,
                    false,
                    false,
                    false,
                    true,
                    false,
                    false,
                    true,
                    false,
                    false,
                    false,
                    false,
                    true,
                    false,
                    false,
                    false,
                    false,
                    false,
                    true,
                    true,
                    false,
                    false,
                    false,
                    true,
                    false,
                    false,
                    false,
                    false,
                    false,
                    false,
                    false,
                    true,
                    false,
                    true,
                    false,
                    false,
                    false,
                    true,
                    false,
                    true,
                    false,
                    false,
                    false,
                    false,
                    false,
                    true,
                    true,
                    true,
                    false,
                    false,
                    false,
                    false,
                    false,
                    false,
                    true,
                    true,
                    false,
                    true,
                    false,
                    false,
                    true,
                    false,
                    false,
                    false,
                    true,
                    false,
                    false,
                    true,
                    false,
                    true,
                    false,
                    true,
                    true,
                    true,
                    false,
                    false,
                    false,
                    false,
                    false,
                    false,
                    false,
                    false,
                    false,
                    true,
                    false,
                    false,
                    false,
                    false,
                    true,
                    true,
                    false,
                    true,
                    true,
                    false,
                    false,
                    false,
                    false,
                    false,
                    true,
                    true,
                    true,
                    false,
                    false,
                    false,
                    false,
                    false,
                    false,
                    false,
                    false,
                    false,
                    false,
                    false,
                    false,
                    true,
                    false,
                    true,
                    false,
                    false,
                    false,
                    true,
                    false,
                    false,
                    false,
                    false,
                    true,
                    false,
                    false,
                    true,
                    true,
                    true,
                    false,
                    false,
                    false,
                    false,
                    false,
                    false,
                    false,
                    true,
                    false,
                    true,
                    true,
                    false,
                    false,
                    false,
                    true,
                    false,
                    false,
                    true,
                    false,
                    true,
                    false,
                    true,
                    false,
                    true,
                    false,
                    true,
                    false,
                    false,
                    false,
                    false,
                    false,
                    true,
                    true,
                    true,
                    false,
                    false,
                    false,
                    true,
                    false,
                    false,
                    true,
                    false,
                    false,
                    true,
                    false,
                    false,
                    false,
                    false,
                    false,
                    false,
                    false,
                    true,
                    false,
                    true,
                    false,
                    false,
                    true,
                    false,
                    false,
                    true,
                    true,
                    true,
                    false,
                    false,
                    false,
                    false,
                    false,
                    false,
                    false,
                    true,
                    false,
                    true,
                    false,
                    false,
                    false,
                    false,
                    false,
                    false,
                    false,
                    false,
                    false,
                    false,
                    true,
                    false,
                    false,
                    true,
                    false,
                    false,
                    false,
                    true,
                    false,
                    false,
                    false,
                    false,
                    false,
                    false,
                    false,
                    true,
                    false,
                    true,
                    false,
                    true,
                    false,
                    false,
                    false,
                    true,
                    false,
                    true,
                    false,
                    false,
                    true,
                    false,
                    false,
                    true,
                    false,
                    true,
                    false,
                    true,
                    true,
                    false,
                    false,
                    false,
                    false,
                    false,
                    true,
                    false,
                    false,
                    true,
                    false,
                    true,
                    false,
                    false,
                    true,
                    false,
                    false,
                    false,
                    false,
                    true,
                    false,
                    false,
                    false,
                    false,
                    false,
                    true,
                    false,
                    true,
                    false,
                    true,
                    true,
                    true,
                    false,
                    false,
                    false,
                    false,
                    false,
                    true,
                    false,
                    true,
                    false,
                    true,
                    false,
                    true,
                    false,
                    false,
                    false,
                    false,
                    false,
                    false,
                    false,
                    false,
                    false,
                    false,
                    false,
                    false,
                    false,
                    true,
                    false,
                    false,
                    false,
                    false,
                    true,
                    false,
                    false,
                    true,
                    false,
                    false,
                    false,
                    false,
                    true,
                    false,
                    false,
                    false,
                    false,
                    false,
                    false,
                    true,
                    false,
                    true,
                    false,
                    true,
                    false,
                    false,
                    false,
                    true,
                    false,
                    false,
                    false,
                    true,
                    false,
                    false,
                    true,
                    false,
                    false,
                    false,
                    false,
                    true,
                    false,
                    false,
                    false,
                    true,
                    false,
                    true,
                    false,
                    false,
                    false,
                    true,
                    false,
                    true,
                    false,
                    true,
                    false,
                    true,
                    false,
                    true,
                    false,
                    false,
                    true,
                    false,
                    false,
                    false,
                    false,
                    true,
                    false,
                    true,
                    true,
                    false,
                    true,
                    true,
                    false,
                    true,
                    true,
                    true,
                    false,
                    false,
                    false,
                    false,
                    false,
                    true,
                    false,
                    false,
                    false,
                    true,
                    false,
                    false,
                    false,
                    false,
                    true,
                    true,
                    false,
                    false,
                    false,
                    true,
                    false,
                    false,
                    false,
                    false,
                    false,
                    false,
                    true,
                    false,
                    false,
                    false,
                    false,
                    false,
                    false,
                    false,
                    false,
                    true,
                    true,
                    false,
                    false,
                    false,
                    true,
                    true,
                    false,
                    false,
                    false,
                    true,
                    false,
                    false,
                    false,
                    false,
                    false,
                    true,
                    true,
                    true,
                    false,
                    false,
                    false,
                    true,
                    false,
                    false,
                    false,
                    true,
                    false,
                    true,
                    true,
                    true,
                    true,
                    true,
                    true,
                    false,
                    false,
                    true,
                    false,
                    false,
                    false,
                    true,
                    false,
                    false,
                    false,
                    false,
                    false,
                    true,
                    false,
                    false,
                    false,
                    true,
                    false,
                    true,
                    false,
                    false,
                    false,
                    false,
                    true,
                    true,
                    false,
                    false,
                    false,
                    true,
                    false,
                    false,
                    false,
                    false,
                    false,
                    false,
                    false,
                    false,
                    false,
                    true,
                    false,
                    false,
                    true,
                    false,
                    false,
                    false,
                    false,
                    true,
                    false,
                    false,
                    false,
                    false,
                    false,
                    true,
                    true,
                    true,
                    false,
                    false,
                    false,
                    false,
                    false,
                    true,
                    false,
                    false,
                    false,
                    true,
                    false,
                    false,
                    false,
                    false,
                    false,
                    true,
                    false,
                    false,
                    false,
                    false,
                    false,
                    false,
                    false,
                    false,
                    false,
                    false,
                    false,
                    false,
                    false,
                    false,
                    false,
                    false,
                    false,
                    false,
                    false,
                    false,
                    false,
                    true,
                    false,
                    true,
                    true,
                    false,
                    false,
                    false,
                    true,
                    true,
                    false,
                    true,
                    true,
                    false,
                    false,
                    true,
                    false,
                    true,
                    false,
                    false,
                    false,
                    false,
                    false,
                    false,
                    false,
                    false,
                    false,
                    true,
                    false,
                    false,
                    false,
                    true,
                    true,
                    false,
                    false,
                    false,
                    true,
                    false,
                    true,
                    true,
                    false,
                    true,
                    false,
                    true,
                    false,
                    false,
                    false,
                    true,
                    false,
                    false,
                    false,
                    true,
                    false,
                    true,
                    true,
                    true,
                    false,
                    false,
                    true,
                    true,
                    false,
                    false,
                    false,
                    false,
                    true,
                    false,
                    false,
                    true,
                    false,
                    true,
                    false,
                    false,
                    false,
                    false,
                    false,
                    true,
                    true,
                    true,
                    false,
                    true,
                    false,
                    false,
                    false,
                    true,
                    false,
                    true,
                    false,
                    false,
                    false,
                    false,
                    true,
                    true,
                    false,
                    false,
                    false,
                    false,
                    false,
                    false,
                    true,
                    false,
                    false,
                    true,
                    false,
                    false,
                    true,
                    false,
                    false,
                    false,
                    true,
                    false,
                    false,
                    true,
                    false,
                    false,
                    false,
                    false,
                    false,
                    true,
                    true,
                    false,
                    false,
                    false,
                    false,
                    false,
                    true,
                    false,
                    false,
                    true,
                    false,
                    false,
                    false,
                    true,
                    false,
                    false,
                    false,
                    false,
                    false,
                    true,
                    true,
                    true,
                    true,
                    false,
                    true,
                    true,
                    true,
                    true,
                    false,
                    true,
                    false,
                    false,
                    false,
                    true,
                    false,
                    false,
                    false,
                    true,
                    false,
                    true,
                    false,
                    false,
                    false,
                    false,
                    false,
                    false,
                    false,
                    true,
                    true,
                    false,
                    true,
                    true,
                    false,
                    false,
                    false,
                    true,
                    true,
                    true,
                    false,
                    false,
                    false,
                    true,
                    true,
                    true,
                    false,
                    false,
                    false,
                    false,
                    true,
                    true,
                    false,
                    true,
                    false,
                    true,
                    true,
                    false,
                    false,
                    true,
                    false,
                    false,
                    false,
                    false,
                    false,
                    false,
                    false,
                    true,
                    false,
                    true,
                    false,
                    false,
                    false,
                    false,
                    false,
                    false,
                    false,
                    true,
                    true,
                    false,
                    false,
                    false,
                    false,
                    true,
                    false,
                    true,
                    false,
                    false,
                    true,
                    true,
                    true,
                    true,
                    false,
                    false,
                    false,
                    true,
                    false,
                    true,
                    false,
                    true,
                    true,
                    false,
                    false,
                    false,
                    false,
                    false,
                    false,
                    false,
                    true,
                    true,
                    false,
                    true,
                    false,
                    false,
                    true,
                    false,
                    false,
                    false,
                    false,
                    true,
                    true,
                    false,
                    true,
                    true,
                    false,
                    false,
                    true,
                    false,
                    false,
                    true,
                    false,
                    true,
                    false,
                    false,
                    false,
                    true,
                    false,
                    false,
                    true,
                    true,
                    false,
                    false,
                    false,
                    true,
                    false,
                    true,
                    false,
                    false,
                    false,
                    true,
                    false,
                    true,
                    false,
                    false,
                    true,
                    false,
                    true,
                    true,
                    false,
                    false,
                    false,
                    false,
                    false,
                    true,
                    false,
                    true,
                    true,
                    true,
                    false,
                    false,
                    true,
                    false,
                    false,
                    true,
                    true,
                    false,
                    false,
                    true,
                    false,
                    true,
                    false,
                    true,
                    false,
                    false,
                    false,
                    false,
                    false,
                    false,
                    false,
                    false,
                    false,
                    true,
                    false,
                    false,
                    false,
                    false,
                    false,
                    true,
                    false,
                    true,
                    false,
                    false,
                    false,
                    false,
                    false,
                    true,
                    false,
                    true,
                    false,
                    true,
                    false,
                    true,
                    false,
                    false,
                    false,
                    false,
                    false,
                    false,
                    true,
                    false,
                    false,
                    false,
                    false,
                    false,
                    false,
                    false,
                    false,
                    true,
                    false,
                    true,
                    false,
                    false,
                    false,
                    false,
                    false,
                    true,
                    false,
                    false,
                    true,
                    false,
                    true,
                    false,
                    false,
                    true,
                    true,
                    true,
                    false,
                    true,
                    false,
                    true,
                    false,
                    true,
                    true,
                    false,
                    false,
                    true,
                    false,
                    false,
                    false,
                    true,
                    true,
                    false,
                    true,
                    false,
                    true,
                    false,
                    true,
                    false,
                    false,
                    false,
                    true,
                    true,
                    true,
                    false,
                    false,
                    false,
                    false,
                    true,
                    false,
                    false,
                    false,
                    false,
                    false,
                    false,
                    false,
                    false,
                    true,
                    false,
                    false,
                    true,
                    false,
                    false,
                    false,
                    true,
                    true,
                    false,
                    false,
                    false,
                    false,
                    false,
                    true,
                    false,
                    false,
                    true,
                    false,
                    true,
                    false,
                    true,
                    false,
                    true,
                    false,
                    false,
                    true,
                    true,
                    false,
                    true,
                    false,
                    true,
                    false,
                    false,
                    false,
                    false,
                    false,
                    false,
                    false,
                    true,
                    false,
                    false,
                    false,
                    false,
                    false,
                    false,
                    false,
                    false,
                    false,
                    true,
                    false,
                    false,
                    false,
                    false,
                    false,
                    true,
                    true,
                    true,
                    false,
                    true,
                    false,
                    true,
                    true,
                    false,
                    true,
                    false,
                    false,
                    true,
                    false,
                    true,
                    false,
                    false,
                    false,
                    false,
                    false,
                    false,
                    false,
                    true,
                    false,
                    true,
                    false,
                    false,
                    false,
                    false,
                    false,
                    true,
                    true,
                    false,
                    false,
                    false,
                    false,
                    true,
                    false,
                    false,
                    false,
                    false,
                    false,
                    false,
                    true,
                    true,
                    false,
                    false,
                    true,
                    false,
                    false,
                    true,
                    false,
                    true,
                    true,
                    false,
                    true,
                    false,
                    false,
                    true,
                    false,
                    true,
                    false,
                    false,
                    false,
                    true,
                    false,
                    false,
                    false,
                    true,
                    false,
                    false,
                    true,
                    true,
                    false,
                    true,
                    false,
                    false,
                    false,
                    false,
                    false,
                    true,
                    false,
                    true,
                    true,
                    true,
                    false,
                    true,
                    false,
                    false,
                    false,
                    true,
                    false,
                    true,
                    false,
                    true,
                    false,
                    true,
                    false,
                    false,
                    true,
                    true,
                    false,
                    false,
                    false,
                    false,
                    false,
                    false,
                    false,
                    false,
                    false,
                    true,
                    false,
                    false,
                    false,
                    true,
                    false,
                    true,
                    false,
                    false,
                    false,
                    true,
                    false,
                    true,
                    false,
                    false,
                    false,
                    false,
                    false,
                    true,
                    false,
                    true,
                    false,
                    true,
                    true,
                    true,
                    false,
                    true,
                    false,
                    true,
                    false,
                    true,
                    false,
                    false,
                    true,
                    false,
                    false,
                    false,
                    false,
                    false,
                    false,
                    true,
                    false,
                    true,
                    false,
                    true,
                    false,
                    true,
                    false,
                    false,
                    false,
                    false,
                    true,
                    true,
                    false,
                    true,
                    true,
                    false,
                    true,
                    true,
                    false,
                    true,
                    false,
                    false,
                    false,
                    false,
                    true,
                    true,
                    false,
                    false,
                    false,
                    true,
                    false,
                    true,
                    false,
                    true,
                    false,
                    true,
                    false,
                    true,
                    false,
                    true,
                    false,
                    false,
                    false,
                    false,
                    true,
                    false,
                    false,
                    false,
                    true,
                    false,
                    false,
                    true,
                    false,
                    false,
                    true,
                    true,
                    false,
                    true,
                    false,
                    false,
                    true,
                    false,
                    false,
                    true,
                    false,
                    true,
                    false,
                    false,
                    false,
                    true,
                    true,
                    true,
                    false,
                    true,
                    false,
                    false,
                    true,
                    false,
                    false,
                    false,
                    false,
                    false,
                    true,
                    false,
                    false,
                    false,
                    false,
                    false,
                    true,
                    false,
                    false,
                    true,
                    false,
                    true,
                    true,
                    false,
                    false,
                    true,
                    false,
                    false,
                    false,
                    false,
                    false,
                    false,
                    false,
                    false,
                    false,
                    true,
                    true,
                    false,
                    true,
                    true,
                    true,
                    true,
                    false,
                    true,
                    false,
                    true,
                    false,
                    false,
                    true,
                    true,
                    false,
                    true,
                    true,
                    true,
                    false,
                    true,
                    false,
                    true,
                    false,
                    true,
                    false,
                    true,
                    false,
                    false,
                    true,
                    true,
                    false,
                    true,
                    false,
                    false,
                    false,
                    false,
                    false,
                    true,
                    false,
                    false,
                    false,
                    false,
                    false,
                    true,
                    false,
                    true,
                    false,
                    false,
                    true,
                    true,
                    false,
                    false,
                    true,
                    false,
                    false,
                    true,
                    true,
                    false,
                    false,
                    false,
                    false,
                    true,
                    false,
                    false,
                    false,
                    true,
                    true,
                    true,
                    true,
                    false,
                    false,
                    true,
                    true,
                    true,
                    true,
                    false,
                    false,
                    true,
                    false,
                    true,
                    true,
                    true,
                    false,
                    false,
                    false,
                    false,
                    false,
                    false,
                    true,
                    true,
                    false,
                    true,
                    false,
                    false,
                    true,
                    true,
                    false,
                    false,
                    false,
                    false,
                    false,
                    true,
                    false,
                    true,
                    false,
                    false,
                    false,
                    false,
                    false,
                    false,
                    false,
                    true,
                    false,
                    true,
                    false,
                    true,
                    false,
                    true,
                    false,
                    true,
                    false,
                    false,
                    false,
                    false,
                    false,
                    true,
                    false,
                    false,
                    true,
                    true,
                    false,
                    true,
                    true,
                    true,
                    false,
                    true,
                    false,
                    true,
                    true,
                    true,
                    false,
                    false,
                    false,
                    true,
                    false,
                    false,
                    false,
                    true,
                    false,
                    true,
                    false,
                    false,
                    false,
                    false,
                    false,
                    false,
                    false,
                    false
                  ],
                  "y": [
                    20,
                    20,
                    18,
                    18,
                    23,
                    23,
                    15,
                    15,
                    18,
                    18,
                    20,
                    20,
                    17,
                    17,
                    26,
                    26,
                    18,
                    18,
                    20,
                    20,
                    17,
                    17,
                    16,
                    16,
                    5,
                    5,
                    18,
                    18,
                    21,
                    21,
                    12,
                    12,
                    16,
                    16,
                    17,
                    17,
                    15,
                    15,
                    16,
                    16,
                    18,
                    18,
                    13,
                    13,
                    15,
                    15,
                    16,
                    16,
                    16,
                    16,
                    16,
                    16,
                    16,
                    16,
                    18,
                    18,
                    18,
                    18,
                    16,
                    16,
                    2,
                    2,
                    18,
                    18,
                    16,
                    16,
                    15,
                    15,
                    16,
                    16,
                    15,
                    15,
                    17,
                    17,
                    15,
                    15,
                    10,
                    10,
                    16,
                    16,
                    15,
                    15,
                    13,
                    13,
                    12,
                    12,
                    15,
                    15,
                    2,
                    2,
                    2,
                    2,
                    13,
                    13,
                    6,
                    6,
                    15,
                    15,
                    2,
                    2,
                    7,
                    7,
                    2,
                    2,
                    16,
                    16,
                    0,
                    0,
                    0,
                    0,
                    3,
                    3,
                    0,
                    0,
                    3,
                    3,
                    5,
                    5,
                    4,
                    4,
                    8,
                    8,
                    4,
                    4,
                    2,
                    2,
                    5,
                    5,
                    4,
                    4,
                    2,
                    2,
                    2,
                    2,
                    9,
                    9,
                    6,
                    6,
                    0,
                    0,
                    11,
                    11,
                    7,
                    7,
                    7,
                    7,
                    2,
                    2,
                    6,
                    6,
                    2,
                    2,
                    0,
                    0,
                    1,
                    1,
                    5,
                    5,
                    6,
                    6,
                    7,
                    7,
                    5,
                    5,
                    9,
                    9,
                    5,
                    5,
                    11,
                    11,
                    18,
                    18,
                    7,
                    7,
                    7,
                    7,
                    6,
                    6,
                    4,
                    4,
                    6,
                    6,
                    4,
                    4,
                    4,
                    4,
                    6,
                    6,
                    3,
                    3,
                    11,
                    11,
                    6,
                    6,
                    6,
                    6,
                    6,
                    6,
                    -2,
                    -2,
                    4,
                    4,
                    4,
                    4,
                    6,
                    6,
                    6,
                    6,
                    3,
                    3,
                    4,
                    4,
                    4,
                    4,
                    8,
                    8,
                    10,
                    10,
                    5,
                    5,
                    6,
                    6,
                    12,
                    12,
                    3,
                    3,
                    4,
                    4,
                    5,
                    5,
                    3,
                    3,
                    -2,
                    -2,
                    -4,
                    -4,
                    4,
                    4,
                    4,
                    4,
                    6,
                    6,
                    4,
                    4,
                    5,
                    5,
                    18,
                    18,
                    4,
                    4,
                    6,
                    6,
                    6,
                    6,
                    5,
                    5,
                    7,
                    7,
                    -3,
                    -3,
                    13,
                    13,
                    4,
                    4,
                    9,
                    9,
                    4,
                    4,
                    2,
                    2,
                    9,
                    9,
                    0,
                    0,
                    0,
                    0,
                    3,
                    3,
                    14,
                    14,
                    -3,
                    -3,
                    7,
                    7,
                    -5,
                    -5,
                    11,
                    11,
                    11,
                    11,
                    15,
                    15,
                    14,
                    14,
                    10,
                    10,
                    6,
                    6,
                    7,
                    7,
                    20,
                    20,
                    12,
                    12,
                    20,
                    20,
                    18,
                    18,
                    10,
                    10,
                    20,
                    20,
                    23,
                    23,
                    11,
                    11,
                    19,
                    19,
                    11,
                    11,
                    13,
                    13,
                    20,
                    20,
                    20,
                    20,
                    14,
                    14,
                    15,
                    15,
                    6,
                    6,
                    18,
                    18,
                    16,
                    16,
                    19,
                    19,
                    18,
                    18,
                    27,
                    27,
                    21,
                    21,
                    14,
                    14,
                    20,
                    20,
                    19,
                    19,
                    20,
                    20,
                    24,
                    24,
                    19,
                    19,
                    15,
                    15,
                    26,
                    26,
                    18,
                    18,
                    22,
                    22,
                    29,
                    29,
                    22,
                    22,
                    27,
                    27,
                    24,
                    24,
                    19,
                    19,
                    23,
                    23,
                    21,
                    21,
                    28,
                    28,
                    23,
                    23,
                    25,
                    25,
                    27,
                    27,
                    26,
                    26,
                    26,
                    26,
                    23,
                    23,
                    22,
                    22,
                    22,
                    22,
                    25,
                    25,
                    24,
                    24,
                    27,
                    27,
                    22,
                    22,
                    24,
                    24,
                    23,
                    23,
                    21,
                    21,
                    26,
                    26,
                    25,
                    25,
                    21,
                    21,
                    20,
                    20,
                    28,
                    28,
                    29,
                    29,
                    27,
                    27,
                    28,
                    28,
                    26,
                    26,
                    20,
                    20,
                    26,
                    26,
                    27,
                    27,
                    26,
                    26,
                    28,
                    28,
                    28,
                    28,
                    28,
                    28,
                    24,
                    24,
                    29,
                    29,
                    21,
                    21,
                    19,
                    19,
                    24,
                    24,
                    19,
                    19,
                    23,
                    23,
                    28,
                    28,
                    24,
                    24,
                    24,
                    24,
                    21,
                    21,
                    22,
                    22,
                    17,
                    17,
                    13,
                    13,
                    23,
                    23,
                    25,
                    25,
                    17,
                    17,
                    15,
                    15,
                    23,
                    23,
                    22,
                    22,
                    24,
                    24,
                    18,
                    18,
                    19,
                    19,
                    24,
                    24,
                    15,
                    15,
                    23,
                    23,
                    14,
                    14,
                    18,
                    18,
                    17,
                    17,
                    23,
                    23,
                    17,
                    17,
                    3,
                    3,
                    18,
                    18,
                    10,
                    10,
                    1,
                    1,
                    6,
                    6,
                    1,
                    1,
                    11,
                    11,
                    4,
                    4,
                    2,
                    2,
                    15,
                    15,
                    6,
                    6,
                    0,
                    0,
                    1,
                    1,
                    5,
                    5,
                    2,
                    2,
                    2,
                    2,
                    5,
                    5,
                    5,
                    5,
                    7,
                    7,
                    2,
                    2,
                    7,
                    7,
                    3,
                    3,
                    6,
                    6,
                    2,
                    2,
                    6,
                    6,
                    16,
                    16,
                    6,
                    6,
                    3,
                    3,
                    4,
                    4,
                    1,
                    1,
                    -1,
                    -1,
                    4,
                    4,
                    6,
                    6,
                    6,
                    6,
                    1,
                    1,
                    3,
                    3,
                    11,
                    11,
                    6,
                    6,
                    6,
                    6,
                    2,
                    2,
                    9,
                    9,
                    5,
                    5,
                    1,
                    1,
                    4,
                    4,
                    4,
                    4,
                    2,
                    2,
                    13,
                    13,
                    7,
                    7,
                    2,
                    2,
                    4,
                    4,
                    2,
                    2,
                    5,
                    5,
                    14,
                    14,
                    9,
                    9,
                    15,
                    15,
                    9,
                    9,
                    27,
                    27,
                    9,
                    9,
                    22,
                    22,
                    6,
                    6,
                    27,
                    27,
                    16,
                    16,
                    12,
                    12,
                    13,
                    13,
                    7,
                    7,
                    11,
                    11,
                    15,
                    15,
                    12,
                    12,
                    13,
                    13,
                    12,
                    12,
                    11,
                    11,
                    13,
                    13,
                    11,
                    11,
                    13,
                    13,
                    8,
                    8,
                    17,
                    17,
                    15,
                    15,
                    19,
                    19,
                    12,
                    12,
                    15,
                    15,
                    15,
                    15,
                    10,
                    10,
                    17,
                    17,
                    16,
                    16,
                    11,
                    11,
                    15,
                    15,
                    17,
                    17,
                    12,
                    12,
                    16,
                    16,
                    12,
                    12,
                    15,
                    15,
                    18,
                    18,
                    17,
                    17,
                    15,
                    15,
                    17,
                    17,
                    13,
                    13,
                    15,
                    15,
                    16,
                    16,
                    15,
                    15,
                    12,
                    12,
                    12,
                    12,
                    13,
                    13,
                    16,
                    16,
                    25,
                    25,
                    28,
                    28,
                    16,
                    16,
                    15,
                    15,
                    12,
                    12,
                    13,
                    13,
                    30,
                    30,
                    12,
                    12,
                    14,
                    14,
                    13,
                    13,
                    12,
                    12,
                    14,
                    14,
                    12,
                    12,
                    19,
                    19,
                    16,
                    16,
                    25,
                    25,
                    17,
                    17,
                    28,
                    28,
                    12,
                    12,
                    31,
                    31,
                    28,
                    28,
                    15,
                    15,
                    22,
                    22,
                    24,
                    24,
                    24,
                    24,
                    12,
                    12,
                    24,
                    24,
                    15,
                    15,
                    15,
                    15,
                    17,
                    17,
                    26,
                    26,
                    27,
                    27,
                    12,
                    12,
                    24,
                    24,
                    24,
                    24,
                    17,
                    17,
                    25,
                    25,
                    28,
                    28,
                    30,
                    30,
                    25,
                    25,
                    30,
                    30,
                    17,
                    17,
                    24,
                    24,
                    21,
                    21,
                    25,
                    25,
                    28,
                    28,
                    28,
                    28,
                    22,
                    22,
                    27,
                    27,
                    25,
                    25,
                    24,
                    24,
                    25,
                    25,
                    16,
                    16,
                    12,
                    12,
                    24,
                    24,
                    22,
                    22,
                    27,
                    27,
                    24,
                    24,
                    15,
                    15,
                    25,
                    25,
                    27,
                    27,
                    30,
                    30,
                    25,
                    25,
                    24,
                    24,
                    30,
                    30,
                    20,
                    20,
                    28,
                    28,
                    28,
                    28,
                    28,
                    28,
                    27,
                    27,
                    28,
                    28,
                    24,
                    24,
                    20,
                    20,
                    27,
                    27,
                    15,
                    15,
                    24,
                    24,
                    24,
                    24,
                    24,
                    24,
                    25,
                    25,
                    26,
                    26,
                    25,
                    25,
                    25,
                    25,
                    27,
                    27,
                    27,
                    27,
                    25,
                    25,
                    24,
                    24,
                    27,
                    27,
                    22,
                    22,
                    25,
                    25,
                    16,
                    16,
                    25,
                    25,
                    22,
                    22,
                    28,
                    28,
                    28,
                    28,
                    25,
                    25,
                    24,
                    24,
                    29,
                    29,
                    27,
                    27,
                    27,
                    27,
                    25,
                    25,
                    28,
                    28,
                    28,
                    28,
                    27,
                    27,
                    27,
                    27,
                    28,
                    28,
                    25,
                    25,
                    30,
                    30,
                    28,
                    28,
                    28,
                    28,
                    28,
                    28,
                    27,
                    27,
                    14,
                    14,
                    25,
                    25,
                    13,
                    13,
                    30,
                    30,
                    30,
                    30,
                    29,
                    29,
                    27,
                    27,
                    30,
                    30,
                    28,
                    28,
                    24,
                    24,
                    24,
                    24,
                    23,
                    23,
                    28,
                    28,
                    29,
                    29,
                    28,
                    28,
                    27,
                    27,
                    27,
                    27,
                    25,
                    25,
                    9,
                    9,
                    8,
                    8,
                    27,
                    27,
                    19,
                    19,
                    29,
                    29,
                    29,
                    29,
                    30,
                    30,
                    20,
                    20,
                    25,
                    25,
                    31,
                    31,
                    20,
                    20,
                    25,
                    25,
                    26,
                    26,
                    25,
                    25,
                    24,
                    24,
                    27,
                    27,
                    26,
                    26,
                    30,
                    30,
                    24,
                    24,
                    24,
                    24,
                    24,
                    24,
                    8,
                    8,
                    7,
                    7,
                    9,
                    9,
                    9,
                    9,
                    7,
                    7,
                    26,
                    26,
                    30,
                    30,
                    27,
                    27,
                    21,
                    21,
                    26,
                    26,
                    19,
                    19,
                    24,
                    24,
                    21,
                    21,
                    21,
                    21,
                    22,
                    22,
                    5,
                    5,
                    7,
                    7,
                    8,
                    8,
                    3,
                    3,
                    19,
                    19,
                    25,
                    25,
                    15,
                    15,
                    8,
                    8,
                    25,
                    25,
                    26,
                    26,
                    8,
                    8,
                    29,
                    29,
                    28,
                    28,
                    8,
                    8,
                    12,
                    12,
                    22,
                    22,
                    14,
                    14,
                    7,
                    7,
                    5,
                    5,
                    16,
                    16,
                    14,
                    14,
                    20,
                    20,
                    9,
                    9,
                    8,
                    8,
                    14,
                    14,
                    20,
                    20,
                    13,
                    13,
                    2,
                    2,
                    9,
                    9,
                    23,
                    23,
                    8,
                    8,
                    7,
                    7,
                    3,
                    3,
                    10,
                    10,
                    14,
                    14,
                    16,
                    16,
                    8,
                    8,
                    9,
                    9,
                    1,
                    1,
                    8,
                    8,
                    8,
                    8,
                    9,
                    9,
                    18,
                    18,
                    19,
                    19,
                    17,
                    17,
                    12,
                    12,
                    16,
                    16,
                    9,
                    9,
                    7,
                    7,
                    9,
                    9,
                    8,
                    8,
                    3,
                    3,
                    10,
                    10,
                    -1,
                    -1,
                    8,
                    8,
                    8,
                    8,
                    8,
                    8,
                    5,
                    5,
                    6,
                    6,
                    14,
                    14,
                    1,
                    1,
                    12,
                    12,
                    7,
                    7,
                    3,
                    3,
                    3,
                    3,
                    10,
                    10,
                    20,
                    20,
                    8,
                    8,
                    12,
                    12,
                    9,
                    9,
                    6,
                    6,
                    10,
                    10,
                    14,
                    14,
                    3,
                    3,
                    8,
                    8,
                    3,
                    3,
                    9,
                    9,
                    3,
                    3,
                    13,
                    13,
                    2,
                    2,
                    8,
                    8,
                    17,
                    17,
                    12,
                    12,
                    8,
                    8,
                    10,
                    10,
                    1,
                    1,
                    10,
                    10,
                    13,
                    13,
                    3,
                    3,
                    12,
                    12,
                    3,
                    3,
                    9,
                    9,
                    10,
                    10,
                    6,
                    6,
                    11,
                    11,
                    10,
                    10,
                    8,
                    8,
                    2,
                    2,
                    10,
                    10,
                    9,
                    9,
                    8,
                    8,
                    13,
                    13,
                    7,
                    7,
                    10,
                    10,
                    10,
                    10,
                    10,
                    10,
                    10,
                    10,
                    2,
                    2,
                    10,
                    10,
                    8,
                    8,
                    3,
                    3,
                    10,
                    10,
                    6,
                    6,
                    4,
                    4,
                    2,
                    2,
                    10,
                    10,
                    8,
                    8,
                    7,
                    7,
                    3,
                    3,
                    10,
                    10,
                    4,
                    4,
                    2,
                    2,
                    7,
                    7,
                    5,
                    5,
                    7,
                    7,
                    3,
                    3,
                    0,
                    0,
                    0,
                    0,
                    5,
                    5,
                    10,
                    10,
                    5,
                    5,
                    9,
                    9,
                    0,
                    0,
                    7,
                    7,
                    3,
                    3,
                    2,
                    2,
                    8,
                    8,
                    5,
                    5,
                    7,
                    7,
                    3,
                    3,
                    10,
                    10,
                    7,
                    7,
                    2,
                    2,
                    10,
                    10,
                    10,
                    10,
                    8,
                    8,
                    6,
                    6,
                    6,
                    6,
                    3,
                    3,
                    8,
                    8,
                    0,
                    0,
                    1,
                    1,
                    1,
                    1,
                    1,
                    1,
                    1,
                    1,
                    3,
                    3,
                    6,
                    6,
                    3,
                    3,
                    5,
                    5,
                    7,
                    7,
                    3,
                    3,
                    10,
                    10,
                    4,
                    4,
                    14,
                    14,
                    11,
                    11,
                    9,
                    9,
                    0,
                    0,
                    4,
                    4,
                    5,
                    5,
                    3,
                    3,
                    5,
                    5,
                    3,
                    3,
                    7,
                    7,
                    3,
                    3,
                    5,
                    5,
                    2,
                    2,
                    5,
                    5,
                    3,
                    3,
                    3,
                    3,
                    5,
                    5,
                    2,
                    2,
                    5,
                    5,
                    14,
                    14,
                    1,
                    1,
                    1,
                    1,
                    1,
                    1,
                    1,
                    1,
                    10,
                    10,
                    8,
                    8,
                    7,
                    7,
                    3,
                    3,
                    8,
                    8,
                    7,
                    7,
                    10,
                    10,
                    9,
                    9,
                    10,
                    10,
                    3,
                    3,
                    5,
                    5,
                    6,
                    6,
                    8,
                    8,
                    1,
                    1,
                    1,
                    1,
                    8,
                    8,
                    7,
                    7,
                    6,
                    6,
                    5,
                    5,
                    5,
                    5,
                    10,
                    10,
                    5,
                    5,
                    5,
                    5,
                    5,
                    5,
                    10,
                    10,
                    3,
                    3,
                    9,
                    9,
                    9,
                    9,
                    3,
                    3,
                    9,
                    9,
                    7,
                    7,
                    5,
                    5,
                    10,
                    10,
                    1,
                    1,
                    9,
                    9,
                    10,
                    10,
                    9,
                    9,
                    3,
                    3,
                    4,
                    4,
                    6,
                    6,
                    4,
                    4,
                    3,
                    3,
                    13,
                    13,
                    8,
                    8,
                    8,
                    8,
                    9,
                    9,
                    7,
                    7,
                    7,
                    7,
                    8,
                    8,
                    5,
                    5,
                    5,
                    5,
                    9,
                    9,
                    10,
                    10,
                    10,
                    10,
                    3,
                    3,
                    7,
                    7,
                    5,
                    5,
                    6,
                    6,
                    5,
                    5,
                    9,
                    9,
                    10,
                    10,
                    4,
                    4,
                    8,
                    8,
                    3,
                    3,
                    7,
                    7,
                    9,
                    9,
                    10,
                    10,
                    9,
                    9,
                    5,
                    5,
                    5,
                    5,
                    4,
                    4,
                    5,
                    5,
                    1,
                    1,
                    7,
                    7,
                    10,
                    10,
                    3,
                    3,
                    10,
                    10,
                    9,
                    9,
                    10,
                    10,
                    10,
                    10,
                    17,
                    17,
                    10,
                    10,
                    7,
                    7,
                    7,
                    7,
                    5,
                    5,
                    8,
                    8,
                    10,
                    10,
                    13,
                    13,
                    6,
                    6,
                    8,
                    8,
                    8,
                    8,
                    6,
                    6,
                    8,
                    8,
                    6,
                    6,
                    9,
                    9,
                    10,
                    10,
                    9,
                    9,
                    5,
                    5,
                    5,
                    5,
                    9,
                    9,
                    9,
                    9,
                    9,
                    9,
                    4,
                    4,
                    6,
                    6,
                    2,
                    2,
                    3,
                    3,
                    5,
                    5,
                    7,
                    7,
                    2,
                    2,
                    11,
                    11,
                    5,
                    5,
                    11,
                    11,
                    7,
                    7,
                    5,
                    5,
                    5,
                    5,
                    20,
                    20,
                    5,
                    5,
                    7,
                    7,
                    8,
                    8,
                    8,
                    8,
                    15,
                    15,
                    7,
                    7,
                    10,
                    10,
                    10,
                    10,
                    10,
                    10,
                    1,
                    1,
                    5,
                    5,
                    5,
                    5,
                    10,
                    10,
                    3,
                    3,
                    10,
                    10,
                    8,
                    8,
                    8,
                    8,
                    9,
                    9,
                    10,
                    10,
                    8,
                    8,
                    12,
                    12,
                    10,
                    10,
                    5,
                    5,
                    10,
                    10,
                    5,
                    5,
                    7,
                    7,
                    8,
                    8,
                    9,
                    9,
                    7,
                    7,
                    2,
                    2,
                    8,
                    8,
                    8,
                    8,
                    11,
                    11,
                    11,
                    11,
                    10,
                    10,
                    8,
                    8,
                    8,
                    8,
                    6,
                    6,
                    7,
                    7,
                    10,
                    10,
                    15,
                    15,
                    7,
                    7,
                    10,
                    10,
                    11,
                    11,
                    10,
                    10,
                    6,
                    6,
                    9,
                    9,
                    10,
                    10,
                    10,
                    10,
                    7,
                    7,
                    12,
                    12,
                    4,
                    4,
                    7,
                    7,
                    10,
                    10,
                    9,
                    9,
                    8,
                    8,
                    5,
                    5,
                    12,
                    12,
                    8,
                    8,
                    5,
                    5,
                    8,
                    8,
                    7,
                    7,
                    5,
                    5,
                    7,
                    7,
                    17,
                    17,
                    10,
                    10,
                    15,
                    15,
                    6,
                    6,
                    12,
                    12,
                    8,
                    8,
                    8,
                    8,
                    9,
                    9,
                    10,
                    10,
                    10,
                    10,
                    8,
                    8,
                    8,
                    8,
                    9,
                    9,
                    8,
                    8,
                    8,
                    8,
                    11,
                    11,
                    10,
                    10,
                    7,
                    7,
                    10,
                    10,
                    8,
                    8,
                    10,
                    10,
                    5,
                    5,
                    12,
                    12,
                    7,
                    7,
                    9,
                    9,
                    9,
                    9,
                    15,
                    15,
                    8,
                    8,
                    11,
                    11,
                    7,
                    7,
                    14,
                    14,
                    10,
                    10,
                    8,
                    8,
                    3,
                    3,
                    5,
                    5,
                    8,
                    8,
                    14,
                    14,
                    7,
                    7,
                    7,
                    7,
                    18,
                    18,
                    10,
                    10,
                    8,
                    8,
                    15,
                    15,
                    5,
                    5,
                    10,
                    10,
                    11,
                    11,
                    7,
                    7,
                    10,
                    10,
                    12,
                    12,
                    7,
                    7,
                    5,
                    5,
                    3,
                    3,
                    9,
                    9,
                    6,
                    6,
                    9,
                    9,
                    11,
                    11,
                    9,
                    9,
                    4,
                    4,
                    10,
                    10,
                    9,
                    9,
                    5,
                    5,
                    18,
                    18,
                    12,
                    12,
                    16,
                    16,
                    12,
                    12,
                    16,
                    16,
                    11,
                    11,
                    6,
                    6,
                    17,
                    17,
                    7,
                    7,
                    7,
                    7,
                    7,
                    7,
                    12,
                    12,
                    9,
                    9,
                    15,
                    15,
                    10,
                    10,
                    10,
                    10,
                    10,
                    10,
                    11,
                    11,
                    9,
                    9,
                    9,
                    9,
                    18,
                    18,
                    8,
                    8,
                    12,
                    12,
                    9,
                    9,
                    19,
                    19,
                    16,
                    16,
                    9,
                    9,
                    5,
                    5,
                    11,
                    11,
                    13,
                    13,
                    19,
                    19,
                    15,
                    15,
                    4,
                    4,
                    15,
                    15,
                    12,
                    12,
                    7,
                    7,
                    17,
                    17,
                    7,
                    7,
                    11,
                    11,
                    13,
                    13,
                    14,
                    14,
                    11,
                    11,
                    19,
                    19,
                    8,
                    8,
                    10,
                    10,
                    17,
                    17,
                    3,
                    3,
                    10,
                    10,
                    15,
                    15,
                    9,
                    9,
                    17,
                    17,
                    5,
                    5,
                    5,
                    5,
                    12,
                    12,
                    13,
                    13,
                    8,
                    8,
                    13,
                    13,
                    14,
                    14,
                    11,
                    11,
                    18,
                    18,
                    15,
                    15,
                    8,
                    8,
                    14,
                    14,
                    15,
                    15,
                    13,
                    13,
                    16,
                    16,
                    20,
                    20,
                    16,
                    16,
                    9,
                    9,
                    17,
                    17,
                    17,
                    17,
                    16,
                    16,
                    19,
                    19,
                    15,
                    15,
                    17,
                    17,
                    14,
                    14,
                    14,
                    14,
                    19,
                    19,
                    17,
                    17,
                    13,
                    13,
                    19,
                    19,
                    18,
                    18,
                    14,
                    14,
                    21,
                    21,
                    18,
                    18,
                    22,
                    22,
                    19,
                    19,
                    22,
                    22,
                    19,
                    19,
                    22,
                    22,
                    18,
                    18,
                    17,
                    17,
                    16,
                    16,
                    16,
                    16,
                    17,
                    17,
                    20,
                    20,
                    19,
                    19,
                    19,
                    19,
                    21,
                    21,
                    18,
                    18,
                    22,
                    22,
                    21,
                    21,
                    23,
                    23,
                    21,
                    21,
                    20,
                    20,
                    20,
                    20,
                    23,
                    23
                  ]
                }
              ],
              "layout": {
                "template": {
                  "data": {
                    "bar": [
                      {
                        "error_x": {
                          "color": "#2a3f5f"
                        },
                        "error_y": {
                          "color": "#2a3f5f"
                        },
                        "marker": {
                          "line": {
                            "color": "#E5ECF6",
                            "width": 0.5
                          },
                          "pattern": {
                            "fillmode": "overlay",
                            "size": 10,
                            "solidity": 0.2
                          }
                        },
                        "type": "bar"
                      }
                    ],
                    "barpolar": [
                      {
                        "marker": {
                          "line": {
                            "color": "#E5ECF6",
                            "width": 0.5
                          },
                          "pattern": {
                            "fillmode": "overlay",
                            "size": 10,
                            "solidity": 0.2
                          }
                        },
                        "type": "barpolar"
                      }
                    ],
                    "carpet": [
                      {
                        "aaxis": {
                          "endlinecolor": "#2a3f5f",
                          "gridcolor": "white",
                          "linecolor": "white",
                          "minorgridcolor": "white",
                          "startlinecolor": "#2a3f5f"
                        },
                        "baxis": {
                          "endlinecolor": "#2a3f5f",
                          "gridcolor": "white",
                          "linecolor": "white",
                          "minorgridcolor": "white",
                          "startlinecolor": "#2a3f5f"
                        },
                        "type": "carpet"
                      }
                    ],
                    "choropleth": [
                      {
                        "colorbar": {
                          "outlinewidth": 0,
                          "ticks": ""
                        },
                        "type": "choropleth"
                      }
                    ],
                    "contour": [
                      {
                        "colorbar": {
                          "outlinewidth": 0,
                          "ticks": ""
                        },
                        "colorscale": [
                          [
                            0,
                            "#0d0887"
                          ],
                          [
                            0.1111111111111111,
                            "#46039f"
                          ],
                          [
                            0.2222222222222222,
                            "#7201a8"
                          ],
                          [
                            0.3333333333333333,
                            "#9c179e"
                          ],
                          [
                            0.4444444444444444,
                            "#bd3786"
                          ],
                          [
                            0.5555555555555556,
                            "#d8576b"
                          ],
                          [
                            0.6666666666666666,
                            "#ed7953"
                          ],
                          [
                            0.7777777777777778,
                            "#fb9f3a"
                          ],
                          [
                            0.8888888888888888,
                            "#fdca26"
                          ],
                          [
                            1,
                            "#f0f921"
                          ]
                        ],
                        "type": "contour"
                      }
                    ],
                    "contourcarpet": [
                      {
                        "colorbar": {
                          "outlinewidth": 0,
                          "ticks": ""
                        },
                        "type": "contourcarpet"
                      }
                    ],
                    "heatmap": [
                      {
                        "colorbar": {
                          "outlinewidth": 0,
                          "ticks": ""
                        },
                        "colorscale": [
                          [
                            0,
                            "#0d0887"
                          ],
                          [
                            0.1111111111111111,
                            "#46039f"
                          ],
                          [
                            0.2222222222222222,
                            "#7201a8"
                          ],
                          [
                            0.3333333333333333,
                            "#9c179e"
                          ],
                          [
                            0.4444444444444444,
                            "#bd3786"
                          ],
                          [
                            0.5555555555555556,
                            "#d8576b"
                          ],
                          [
                            0.6666666666666666,
                            "#ed7953"
                          ],
                          [
                            0.7777777777777778,
                            "#fb9f3a"
                          ],
                          [
                            0.8888888888888888,
                            "#fdca26"
                          ],
                          [
                            1,
                            "#f0f921"
                          ]
                        ],
                        "type": "heatmap"
                      }
                    ],
                    "heatmapgl": [
                      {
                        "colorbar": {
                          "outlinewidth": 0,
                          "ticks": ""
                        },
                        "colorscale": [
                          [
                            0,
                            "#0d0887"
                          ],
                          [
                            0.1111111111111111,
                            "#46039f"
                          ],
                          [
                            0.2222222222222222,
                            "#7201a8"
                          ],
                          [
                            0.3333333333333333,
                            "#9c179e"
                          ],
                          [
                            0.4444444444444444,
                            "#bd3786"
                          ],
                          [
                            0.5555555555555556,
                            "#d8576b"
                          ],
                          [
                            0.6666666666666666,
                            "#ed7953"
                          ],
                          [
                            0.7777777777777778,
                            "#fb9f3a"
                          ],
                          [
                            0.8888888888888888,
                            "#fdca26"
                          ],
                          [
                            1,
                            "#f0f921"
                          ]
                        ],
                        "type": "heatmapgl"
                      }
                    ],
                    "histogram": [
                      {
                        "marker": {
                          "pattern": {
                            "fillmode": "overlay",
                            "size": 10,
                            "solidity": 0.2
                          }
                        },
                        "type": "histogram"
                      }
                    ],
                    "histogram2d": [
                      {
                        "colorbar": {
                          "outlinewidth": 0,
                          "ticks": ""
                        },
                        "colorscale": [
                          [
                            0,
                            "#0d0887"
                          ],
                          [
                            0.1111111111111111,
                            "#46039f"
                          ],
                          [
                            0.2222222222222222,
                            "#7201a8"
                          ],
                          [
                            0.3333333333333333,
                            "#9c179e"
                          ],
                          [
                            0.4444444444444444,
                            "#bd3786"
                          ],
                          [
                            0.5555555555555556,
                            "#d8576b"
                          ],
                          [
                            0.6666666666666666,
                            "#ed7953"
                          ],
                          [
                            0.7777777777777778,
                            "#fb9f3a"
                          ],
                          [
                            0.8888888888888888,
                            "#fdca26"
                          ],
                          [
                            1,
                            "#f0f921"
                          ]
                        ],
                        "type": "histogram2d"
                      }
                    ],
                    "histogram2dcontour": [
                      {
                        "colorbar": {
                          "outlinewidth": 0,
                          "ticks": ""
                        },
                        "colorscale": [
                          [
                            0,
                            "#0d0887"
                          ],
                          [
                            0.1111111111111111,
                            "#46039f"
                          ],
                          [
                            0.2222222222222222,
                            "#7201a8"
                          ],
                          [
                            0.3333333333333333,
                            "#9c179e"
                          ],
                          [
                            0.4444444444444444,
                            "#bd3786"
                          ],
                          [
                            0.5555555555555556,
                            "#d8576b"
                          ],
                          [
                            0.6666666666666666,
                            "#ed7953"
                          ],
                          [
                            0.7777777777777778,
                            "#fb9f3a"
                          ],
                          [
                            0.8888888888888888,
                            "#fdca26"
                          ],
                          [
                            1,
                            "#f0f921"
                          ]
                        ],
                        "type": "histogram2dcontour"
                      }
                    ],
                    "mesh3d": [
                      {
                        "colorbar": {
                          "outlinewidth": 0,
                          "ticks": ""
                        },
                        "type": "mesh3d"
                      }
                    ],
                    "parcoords": [
                      {
                        "line": {
                          "colorbar": {
                            "outlinewidth": 0,
                            "ticks": ""
                          }
                        },
                        "type": "parcoords"
                      }
                    ],
                    "pie": [
                      {
                        "automargin": true,
                        "type": "pie"
                      }
                    ],
                    "scatter": [
                      {
                        "marker": {
                          "colorbar": {
                            "outlinewidth": 0,
                            "ticks": ""
                          }
                        },
                        "type": "scatter"
                      }
                    ],
                    "scatter3d": [
                      {
                        "line": {
                          "colorbar": {
                            "outlinewidth": 0,
                            "ticks": ""
                          }
                        },
                        "marker": {
                          "colorbar": {
                            "outlinewidth": 0,
                            "ticks": ""
                          }
                        },
                        "type": "scatter3d"
                      }
                    ],
                    "scattercarpet": [
                      {
                        "marker": {
                          "colorbar": {
                            "outlinewidth": 0,
                            "ticks": ""
                          }
                        },
                        "type": "scattercarpet"
                      }
                    ],
                    "scattergeo": [
                      {
                        "marker": {
                          "colorbar": {
                            "outlinewidth": 0,
                            "ticks": ""
                          }
                        },
                        "type": "scattergeo"
                      }
                    ],
                    "scattergl": [
                      {
                        "marker": {
                          "colorbar": {
                            "outlinewidth": 0,
                            "ticks": ""
                          }
                        },
                        "type": "scattergl"
                      }
                    ],
                    "scattermapbox": [
                      {
                        "marker": {
                          "colorbar": {
                            "outlinewidth": 0,
                            "ticks": ""
                          }
                        },
                        "type": "scattermapbox"
                      }
                    ],
                    "scatterpolar": [
                      {
                        "marker": {
                          "colorbar": {
                            "outlinewidth": 0,
                            "ticks": ""
                          }
                        },
                        "type": "scatterpolar"
                      }
                    ],
                    "scatterpolargl": [
                      {
                        "marker": {
                          "colorbar": {
                            "outlinewidth": 0,
                            "ticks": ""
                          }
                        },
                        "type": "scatterpolargl"
                      }
                    ],
                    "scatterternary": [
                      {
                        "marker": {
                          "colorbar": {
                            "outlinewidth": 0,
                            "ticks": ""
                          }
                        },
                        "type": "scatterternary"
                      }
                    ],
                    "surface": [
                      {
                        "colorbar": {
                          "outlinewidth": 0,
                          "ticks": ""
                        },
                        "colorscale": [
                          [
                            0,
                            "#0d0887"
                          ],
                          [
                            0.1111111111111111,
                            "#46039f"
                          ],
                          [
                            0.2222222222222222,
                            "#7201a8"
                          ],
                          [
                            0.3333333333333333,
                            "#9c179e"
                          ],
                          [
                            0.4444444444444444,
                            "#bd3786"
                          ],
                          [
                            0.5555555555555556,
                            "#d8576b"
                          ],
                          [
                            0.6666666666666666,
                            "#ed7953"
                          ],
                          [
                            0.7777777777777778,
                            "#fb9f3a"
                          ],
                          [
                            0.8888888888888888,
                            "#fdca26"
                          ],
                          [
                            1,
                            "#f0f921"
                          ]
                        ],
                        "type": "surface"
                      }
                    ],
                    "table": [
                      {
                        "cells": {
                          "fill": {
                            "color": "#EBF0F8"
                          },
                          "line": {
                            "color": "white"
                          }
                        },
                        "header": {
                          "fill": {
                            "color": "#C8D4E3"
                          },
                          "line": {
                            "color": "white"
                          }
                        },
                        "type": "table"
                      }
                    ]
                  },
                  "layout": {
                    "annotationdefaults": {
                      "arrowcolor": "#2a3f5f",
                      "arrowhead": 0,
                      "arrowwidth": 1
                    },
                    "autotypenumbers": "strict",
                    "coloraxis": {
                      "colorbar": {
                        "outlinewidth": 0,
                        "ticks": ""
                      }
                    },
                    "colorscale": {
                      "diverging": [
                        [
                          0,
                          "#8e0152"
                        ],
                        [
                          0.1,
                          "#c51b7d"
                        ],
                        [
                          0.2,
                          "#de77ae"
                        ],
                        [
                          0.3,
                          "#f1b6da"
                        ],
                        [
                          0.4,
                          "#fde0ef"
                        ],
                        [
                          0.5,
                          "#f7f7f7"
                        ],
                        [
                          0.6,
                          "#e6f5d0"
                        ],
                        [
                          0.7,
                          "#b8e186"
                        ],
                        [
                          0.8,
                          "#7fbc41"
                        ],
                        [
                          0.9,
                          "#4d9221"
                        ],
                        [
                          1,
                          "#276419"
                        ]
                      ],
                      "sequential": [
                        [
                          0,
                          "#0d0887"
                        ],
                        [
                          0.1111111111111111,
                          "#46039f"
                        ],
                        [
                          0.2222222222222222,
                          "#7201a8"
                        ],
                        [
                          0.3333333333333333,
                          "#9c179e"
                        ],
                        [
                          0.4444444444444444,
                          "#bd3786"
                        ],
                        [
                          0.5555555555555556,
                          "#d8576b"
                        ],
                        [
                          0.6666666666666666,
                          "#ed7953"
                        ],
                        [
                          0.7777777777777778,
                          "#fb9f3a"
                        ],
                        [
                          0.8888888888888888,
                          "#fdca26"
                        ],
                        [
                          1,
                          "#f0f921"
                        ]
                      ],
                      "sequentialminus": [
                        [
                          0,
                          "#0d0887"
                        ],
                        [
                          0.1111111111111111,
                          "#46039f"
                        ],
                        [
                          0.2222222222222222,
                          "#7201a8"
                        ],
                        [
                          0.3333333333333333,
                          "#9c179e"
                        ],
                        [
                          0.4444444444444444,
                          "#bd3786"
                        ],
                        [
                          0.5555555555555556,
                          "#d8576b"
                        ],
                        [
                          0.6666666666666666,
                          "#ed7953"
                        ],
                        [
                          0.7777777777777778,
                          "#fb9f3a"
                        ],
                        [
                          0.8888888888888888,
                          "#fdca26"
                        ],
                        [
                          1,
                          "#f0f921"
                        ]
                      ]
                    },
                    "colorway": [
                      "#636efa",
                      "#EF553B",
                      "#00cc96",
                      "#ab63fa",
                      "#FFA15A",
                      "#19d3f3",
                      "#FF6692",
                      "#B6E880",
                      "#FF97FF",
                      "#FECB52"
                    ],
                    "font": {
                      "color": "#2a3f5f"
                    },
                    "geo": {
                      "bgcolor": "white",
                      "lakecolor": "white",
                      "landcolor": "#E5ECF6",
                      "showlakes": true,
                      "showland": true,
                      "subunitcolor": "white"
                    },
                    "hoverlabel": {
                      "align": "left"
                    },
                    "hovermode": "closest",
                    "mapbox": {
                      "style": "light"
                    },
                    "paper_bgcolor": "white",
                    "plot_bgcolor": "#E5ECF6",
                    "polar": {
                      "angularaxis": {
                        "gridcolor": "white",
                        "linecolor": "white",
                        "ticks": ""
                      },
                      "bgcolor": "#E5ECF6",
                      "radialaxis": {
                        "gridcolor": "white",
                        "linecolor": "white",
                        "ticks": ""
                      }
                    },
                    "scene": {
                      "xaxis": {
                        "backgroundcolor": "#E5ECF6",
                        "gridcolor": "white",
                        "gridwidth": 2,
                        "linecolor": "white",
                        "showbackground": true,
                        "ticks": "",
                        "zerolinecolor": "white"
                      },
                      "yaxis": {
                        "backgroundcolor": "#E5ECF6",
                        "gridcolor": "white",
                        "gridwidth": 2,
                        "linecolor": "white",
                        "showbackground": true,
                        "ticks": "",
                        "zerolinecolor": "white"
                      },
                      "zaxis": {
                        "backgroundcolor": "#E5ECF6",
                        "gridcolor": "white",
                        "gridwidth": 2,
                        "linecolor": "white",
                        "showbackground": true,
                        "ticks": "",
                        "zerolinecolor": "white"
                      }
                    },
                    "shapedefaults": {
                      "line": {
                        "color": "#2a3f5f"
                      }
                    },
                    "ternary": {
                      "aaxis": {
                        "gridcolor": "white",
                        "linecolor": "white",
                        "ticks": ""
                      },
                      "baxis": {
                        "gridcolor": "white",
                        "linecolor": "white",
                        "ticks": ""
                      },
                      "bgcolor": "#E5ECF6",
                      "caxis": {
                        "gridcolor": "white",
                        "linecolor": "white",
                        "ticks": ""
                      }
                    },
                    "title": {
                      "x": 0.05
                    },
                    "xaxis": {
                      "automargin": true,
                      "gridcolor": "white",
                      "linecolor": "white",
                      "ticks": "",
                      "title": {
                        "standoff": 15
                      },
                      "zerolinecolor": "white",
                      "zerolinewidth": 2
                    },
                    "yaxis": {
                      "automargin": true,
                      "gridcolor": "white",
                      "linecolor": "white",
                      "ticks": "",
                      "title": {
                        "standoff": 15
                      },
                      "zerolinecolor": "white",
                      "zerolinewidth": 2
                    }
                  }
                },
                "violinmode": "group",
                "xaxis": {
                  "tickmode": "array",
                  "ticktext": [
                    "Peggiorato",
                    "Migliorato"
                  ],
                  "tickvals": [
                    true,
                    false
                  ],
                  "title": {
                    "text": "Score peggiorato"
                  }
                },
                "yaxis": {
                  "title": {
                    "text": "temperatura_media"
                  }
                }
              }
            }
          },
          "metadata": {},
          "output_type": "display_data"
        }
      ],
      "source": [
        "import plotly.express as px\n",
        "import plotly.graph_objects as go\n",
        "fig = go.Figure();\n",
        "fig.add_trace(go.Violin(x= dataset[\"peggiorato\"],y= dataset[\"temperatura_media\"]))\n",
        "fig.update_traces(points=\"all\")\n",
        "fig.update_layout(violinmode='group',xaxis_title=\"Score peggiorato\", yaxis_title=\"temperatura_media\", xaxis= dict(tickmode= \"array\", tickvals =[True, False], ticktext = [\"Peggiorato\", \"Migliorato\"]))\n",
        "fig.show()\n"
      ]
    },
    {
      "cell_type": "code",
      "execution_count": 1,
      "metadata": {},
      "outputs": [
        {
          "ename": "NameError",
          "evalue": "name 'dataset' is not defined",
          "output_type": "error",
          "traceback": [
            "\u001b[1;31m---------------------------------------------------------------------------\u001b[0m",
            "\u001b[1;31mNameError\u001b[0m                                 Traceback (most recent call last)",
            "\u001b[1;32m~\\AppData\\Local\\Temp/ipykernel_15856/2035077615.py\u001b[0m in \u001b[0;36m<module>\u001b[1;34m\u001b[0m\n\u001b[0;32m      1\u001b[0m \u001b[1;32mimport\u001b[0m \u001b[0mseaborn\u001b[0m \u001b[1;32mas\u001b[0m \u001b[0msns\u001b[0m\u001b[1;33m\u001b[0m\u001b[1;33m\u001b[0m\u001b[0m\n\u001b[1;32m----> 2\u001b[1;33m \u001b[0mx\u001b[0m \u001b[1;33m=\u001b[0m \u001b[0msns\u001b[0m\u001b[1;33m.\u001b[0m\u001b[0mviolinplot\u001b[0m\u001b[1;33m(\u001b[0m\u001b[0mx\u001b[0m\u001b[1;33m=\u001b[0m\u001b[1;34m\"peggiorato\"\u001b[0m\u001b[1;33m,\u001b[0m \u001b[0my\u001b[0m\u001b[1;33m=\u001b[0m\u001b[1;34m\"temperatura_media\"\u001b[0m\u001b[1;33m,\u001b[0m \u001b[0mdata\u001b[0m\u001b[1;33m=\u001b[0m\u001b[0mdataset\u001b[0m\u001b[1;33m,\u001b[0m \u001b[0minner\u001b[0m\u001b[1;33m=\u001b[0m\u001b[1;32mNone\u001b[0m\u001b[1;33m)\u001b[0m\u001b[1;33m\u001b[0m\u001b[1;33m\u001b[0m\u001b[0m\n\u001b[0m\u001b[0;32m      3\u001b[0m \u001b[1;33m\u001b[0m\u001b[0m\n\u001b[0;32m      4\u001b[0m ax = sns.swarmplot(x=\"peggiorato\", y=\"temperatura_media\", data=dataset,\n\u001b[0;32m      5\u001b[0m \u001b[0msize\u001b[0m\u001b[1;33m=\u001b[0m\u001b[1;36m6\u001b[0m\u001b[1;33m\u001b[0m\u001b[1;33m\u001b[0m\u001b[0m\n",
            "\u001b[1;31mNameError\u001b[0m: name 'dataset' is not defined"
          ]
        }
      ],
      "source": [
        "import seaborn as sns\n",
        "x = sns.violinplot(x=\"peggiorato\", y=\"temperatura_media\", data=dataset, inner=None)\n",
        "\n",
        "ax = sns.swarmplot(x=\"peggiorato\", y=\"temperatura_media\", data=dataset,\n",
        "size=6\n",
        "                  )"
      ]
    },
    {
      "cell_type": "markdown",
      "metadata": {},
      "source": [
        "Grafico score fisico migliorato o peggiorato in relazione a tempo atmosferico"
      ]
    },
    {
      "cell_type": "code",
      "execution_count": 11,
      "metadata": {},
      "outputs": [
        {
          "data": {
            "application/vnd.plotly.v1+json": {
              "config": {
                "plotlyServerURL": "https://plot.ly"
              },
              "data": [
                {
                  "hovertemplate": "variable=peggiorati<br>temp=%{x}<br>value=%{y}<extra></extra>",
                  "legendgroup": "peggiorati",
                  "line": {
                    "color": "#636efa",
                    "dash": "solid"
                  },
                  "marker": {
                    "symbol": "circle"
                  },
                  "mode": "lines",
                  "name": "peggiorati",
                  "orientation": "v",
                  "showlegend": true,
                  "type": "scatter",
                  "x": [
                    "coperto",
                    "nebbia",
                    "nebbia al mattino",
                    "neve",
                    "neve debole",
                    "neve e schiarite",
                    "nubi sparse",
                    "pioggia",
                    "pioggia debole",
                    "pioggia e schiarite",
                    "pioggia mista a neve e schiarite",
                    "poco nuvoloso",
                    "sereno",
                    "sole e caldo",
                    "temporale e schiarite"
                  ],
                  "xaxis": "x",
                  "y": [
                    0.005376344086021506,
                    0.016129032258064516,
                    0.16129032258064516,
                    0,
                    0,
                    0,
                    0.03225806451612903,
                    0.016129032258064516,
                    0.05913978494623656,
                    0.15591397849462366,
                    0,
                    0.3010752688172043,
                    0.20430107526881722,
                    0.03763440860215054,
                    0.010752688172043012
                  ],
                  "yaxis": "y"
                },
                {
                  "hovertemplate": "variable=migliorati<br>temp=%{x}<br>value=%{y}<extra></extra>",
                  "legendgroup": "migliorati",
                  "line": {
                    "color": "#EF553B",
                    "dash": "solid"
                  },
                  "marker": {
                    "symbol": "circle"
                  },
                  "mode": "lines",
                  "name": "migliorati",
                  "orientation": "v",
                  "showlegend": true,
                  "type": "scatter",
                  "x": [
                    "coperto",
                    "nebbia",
                    "nebbia al mattino",
                    "neve",
                    "neve debole",
                    "neve e schiarite",
                    "nubi sparse",
                    "pioggia",
                    "pioggia debole",
                    "pioggia e schiarite",
                    "pioggia mista a neve e schiarite",
                    "poco nuvoloso",
                    "sereno",
                    "sole e caldo",
                    "temporale e schiarite"
                  ],
                  "xaxis": "x",
                  "y": [
                    0.004602991944764097,
                    0.004602991944764097,
                    0.13924050632911392,
                    0.004602991944764097,
                    0.0011507479861910242,
                    0.004602991944764097,
                    0.0333716915995397,
                    0.004602991944764097,
                    0.04142692750287687,
                    0.16800920598388952,
                    0.0011507479861910242,
                    0.31990794016110474,
                    0.20598388952819333,
                    0.04833141542002301,
                    0.018411967779056387
                  ],
                  "yaxis": "y"
                }
              ],
              "layout": {
                "legend": {
                  "title": {
                    "text": "variable"
                  },
                  "tracegroupgap": 0
                },
                "margin": {
                  "t": 60
                },
                "template": {
                  "data": {
                    "bar": [
                      {
                        "error_x": {
                          "color": "#2a3f5f"
                        },
                        "error_y": {
                          "color": "#2a3f5f"
                        },
                        "marker": {
                          "line": {
                            "color": "#E5ECF6",
                            "width": 0.5
                          },
                          "pattern": {
                            "fillmode": "overlay",
                            "size": 10,
                            "solidity": 0.2
                          }
                        },
                        "type": "bar"
                      }
                    ],
                    "barpolar": [
                      {
                        "marker": {
                          "line": {
                            "color": "#E5ECF6",
                            "width": 0.5
                          },
                          "pattern": {
                            "fillmode": "overlay",
                            "size": 10,
                            "solidity": 0.2
                          }
                        },
                        "type": "barpolar"
                      }
                    ],
                    "carpet": [
                      {
                        "aaxis": {
                          "endlinecolor": "#2a3f5f",
                          "gridcolor": "white",
                          "linecolor": "white",
                          "minorgridcolor": "white",
                          "startlinecolor": "#2a3f5f"
                        },
                        "baxis": {
                          "endlinecolor": "#2a3f5f",
                          "gridcolor": "white",
                          "linecolor": "white",
                          "minorgridcolor": "white",
                          "startlinecolor": "#2a3f5f"
                        },
                        "type": "carpet"
                      }
                    ],
                    "choropleth": [
                      {
                        "colorbar": {
                          "outlinewidth": 0,
                          "ticks": ""
                        },
                        "type": "choropleth"
                      }
                    ],
                    "contour": [
                      {
                        "colorbar": {
                          "outlinewidth": 0,
                          "ticks": ""
                        },
                        "colorscale": [
                          [
                            0,
                            "#0d0887"
                          ],
                          [
                            0.1111111111111111,
                            "#46039f"
                          ],
                          [
                            0.2222222222222222,
                            "#7201a8"
                          ],
                          [
                            0.3333333333333333,
                            "#9c179e"
                          ],
                          [
                            0.4444444444444444,
                            "#bd3786"
                          ],
                          [
                            0.5555555555555556,
                            "#d8576b"
                          ],
                          [
                            0.6666666666666666,
                            "#ed7953"
                          ],
                          [
                            0.7777777777777778,
                            "#fb9f3a"
                          ],
                          [
                            0.8888888888888888,
                            "#fdca26"
                          ],
                          [
                            1,
                            "#f0f921"
                          ]
                        ],
                        "type": "contour"
                      }
                    ],
                    "contourcarpet": [
                      {
                        "colorbar": {
                          "outlinewidth": 0,
                          "ticks": ""
                        },
                        "type": "contourcarpet"
                      }
                    ],
                    "heatmap": [
                      {
                        "colorbar": {
                          "outlinewidth": 0,
                          "ticks": ""
                        },
                        "colorscale": [
                          [
                            0,
                            "#0d0887"
                          ],
                          [
                            0.1111111111111111,
                            "#46039f"
                          ],
                          [
                            0.2222222222222222,
                            "#7201a8"
                          ],
                          [
                            0.3333333333333333,
                            "#9c179e"
                          ],
                          [
                            0.4444444444444444,
                            "#bd3786"
                          ],
                          [
                            0.5555555555555556,
                            "#d8576b"
                          ],
                          [
                            0.6666666666666666,
                            "#ed7953"
                          ],
                          [
                            0.7777777777777778,
                            "#fb9f3a"
                          ],
                          [
                            0.8888888888888888,
                            "#fdca26"
                          ],
                          [
                            1,
                            "#f0f921"
                          ]
                        ],
                        "type": "heatmap"
                      }
                    ],
                    "heatmapgl": [
                      {
                        "colorbar": {
                          "outlinewidth": 0,
                          "ticks": ""
                        },
                        "colorscale": [
                          [
                            0,
                            "#0d0887"
                          ],
                          [
                            0.1111111111111111,
                            "#46039f"
                          ],
                          [
                            0.2222222222222222,
                            "#7201a8"
                          ],
                          [
                            0.3333333333333333,
                            "#9c179e"
                          ],
                          [
                            0.4444444444444444,
                            "#bd3786"
                          ],
                          [
                            0.5555555555555556,
                            "#d8576b"
                          ],
                          [
                            0.6666666666666666,
                            "#ed7953"
                          ],
                          [
                            0.7777777777777778,
                            "#fb9f3a"
                          ],
                          [
                            0.8888888888888888,
                            "#fdca26"
                          ],
                          [
                            1,
                            "#f0f921"
                          ]
                        ],
                        "type": "heatmapgl"
                      }
                    ],
                    "histogram": [
                      {
                        "marker": {
                          "pattern": {
                            "fillmode": "overlay",
                            "size": 10,
                            "solidity": 0.2
                          }
                        },
                        "type": "histogram"
                      }
                    ],
                    "histogram2d": [
                      {
                        "colorbar": {
                          "outlinewidth": 0,
                          "ticks": ""
                        },
                        "colorscale": [
                          [
                            0,
                            "#0d0887"
                          ],
                          [
                            0.1111111111111111,
                            "#46039f"
                          ],
                          [
                            0.2222222222222222,
                            "#7201a8"
                          ],
                          [
                            0.3333333333333333,
                            "#9c179e"
                          ],
                          [
                            0.4444444444444444,
                            "#bd3786"
                          ],
                          [
                            0.5555555555555556,
                            "#d8576b"
                          ],
                          [
                            0.6666666666666666,
                            "#ed7953"
                          ],
                          [
                            0.7777777777777778,
                            "#fb9f3a"
                          ],
                          [
                            0.8888888888888888,
                            "#fdca26"
                          ],
                          [
                            1,
                            "#f0f921"
                          ]
                        ],
                        "type": "histogram2d"
                      }
                    ],
                    "histogram2dcontour": [
                      {
                        "colorbar": {
                          "outlinewidth": 0,
                          "ticks": ""
                        },
                        "colorscale": [
                          [
                            0,
                            "#0d0887"
                          ],
                          [
                            0.1111111111111111,
                            "#46039f"
                          ],
                          [
                            0.2222222222222222,
                            "#7201a8"
                          ],
                          [
                            0.3333333333333333,
                            "#9c179e"
                          ],
                          [
                            0.4444444444444444,
                            "#bd3786"
                          ],
                          [
                            0.5555555555555556,
                            "#d8576b"
                          ],
                          [
                            0.6666666666666666,
                            "#ed7953"
                          ],
                          [
                            0.7777777777777778,
                            "#fb9f3a"
                          ],
                          [
                            0.8888888888888888,
                            "#fdca26"
                          ],
                          [
                            1,
                            "#f0f921"
                          ]
                        ],
                        "type": "histogram2dcontour"
                      }
                    ],
                    "mesh3d": [
                      {
                        "colorbar": {
                          "outlinewidth": 0,
                          "ticks": ""
                        },
                        "type": "mesh3d"
                      }
                    ],
                    "parcoords": [
                      {
                        "line": {
                          "colorbar": {
                            "outlinewidth": 0,
                            "ticks": ""
                          }
                        },
                        "type": "parcoords"
                      }
                    ],
                    "pie": [
                      {
                        "automargin": true,
                        "type": "pie"
                      }
                    ],
                    "scatter": [
                      {
                        "marker": {
                          "colorbar": {
                            "outlinewidth": 0,
                            "ticks": ""
                          }
                        },
                        "type": "scatter"
                      }
                    ],
                    "scatter3d": [
                      {
                        "line": {
                          "colorbar": {
                            "outlinewidth": 0,
                            "ticks": ""
                          }
                        },
                        "marker": {
                          "colorbar": {
                            "outlinewidth": 0,
                            "ticks": ""
                          }
                        },
                        "type": "scatter3d"
                      }
                    ],
                    "scattercarpet": [
                      {
                        "marker": {
                          "colorbar": {
                            "outlinewidth": 0,
                            "ticks": ""
                          }
                        },
                        "type": "scattercarpet"
                      }
                    ],
                    "scattergeo": [
                      {
                        "marker": {
                          "colorbar": {
                            "outlinewidth": 0,
                            "ticks": ""
                          }
                        },
                        "type": "scattergeo"
                      }
                    ],
                    "scattergl": [
                      {
                        "marker": {
                          "colorbar": {
                            "outlinewidth": 0,
                            "ticks": ""
                          }
                        },
                        "type": "scattergl"
                      }
                    ],
                    "scattermapbox": [
                      {
                        "marker": {
                          "colorbar": {
                            "outlinewidth": 0,
                            "ticks": ""
                          }
                        },
                        "type": "scattermapbox"
                      }
                    ],
                    "scatterpolar": [
                      {
                        "marker": {
                          "colorbar": {
                            "outlinewidth": 0,
                            "ticks": ""
                          }
                        },
                        "type": "scatterpolar"
                      }
                    ],
                    "scatterpolargl": [
                      {
                        "marker": {
                          "colorbar": {
                            "outlinewidth": 0,
                            "ticks": ""
                          }
                        },
                        "type": "scatterpolargl"
                      }
                    ],
                    "scatterternary": [
                      {
                        "marker": {
                          "colorbar": {
                            "outlinewidth": 0,
                            "ticks": ""
                          }
                        },
                        "type": "scatterternary"
                      }
                    ],
                    "surface": [
                      {
                        "colorbar": {
                          "outlinewidth": 0,
                          "ticks": ""
                        },
                        "colorscale": [
                          [
                            0,
                            "#0d0887"
                          ],
                          [
                            0.1111111111111111,
                            "#46039f"
                          ],
                          [
                            0.2222222222222222,
                            "#7201a8"
                          ],
                          [
                            0.3333333333333333,
                            "#9c179e"
                          ],
                          [
                            0.4444444444444444,
                            "#bd3786"
                          ],
                          [
                            0.5555555555555556,
                            "#d8576b"
                          ],
                          [
                            0.6666666666666666,
                            "#ed7953"
                          ],
                          [
                            0.7777777777777778,
                            "#fb9f3a"
                          ],
                          [
                            0.8888888888888888,
                            "#fdca26"
                          ],
                          [
                            1,
                            "#f0f921"
                          ]
                        ],
                        "type": "surface"
                      }
                    ],
                    "table": [
                      {
                        "cells": {
                          "fill": {
                            "color": "#EBF0F8"
                          },
                          "line": {
                            "color": "white"
                          }
                        },
                        "header": {
                          "fill": {
                            "color": "#C8D4E3"
                          },
                          "line": {
                            "color": "white"
                          }
                        },
                        "type": "table"
                      }
                    ]
                  },
                  "layout": {
                    "annotationdefaults": {
                      "arrowcolor": "#2a3f5f",
                      "arrowhead": 0,
                      "arrowwidth": 1
                    },
                    "autotypenumbers": "strict",
                    "coloraxis": {
                      "colorbar": {
                        "outlinewidth": 0,
                        "ticks": ""
                      }
                    },
                    "colorscale": {
                      "diverging": [
                        [
                          0,
                          "#8e0152"
                        ],
                        [
                          0.1,
                          "#c51b7d"
                        ],
                        [
                          0.2,
                          "#de77ae"
                        ],
                        [
                          0.3,
                          "#f1b6da"
                        ],
                        [
                          0.4,
                          "#fde0ef"
                        ],
                        [
                          0.5,
                          "#f7f7f7"
                        ],
                        [
                          0.6,
                          "#e6f5d0"
                        ],
                        [
                          0.7,
                          "#b8e186"
                        ],
                        [
                          0.8,
                          "#7fbc41"
                        ],
                        [
                          0.9,
                          "#4d9221"
                        ],
                        [
                          1,
                          "#276419"
                        ]
                      ],
                      "sequential": [
                        [
                          0,
                          "#0d0887"
                        ],
                        [
                          0.1111111111111111,
                          "#46039f"
                        ],
                        [
                          0.2222222222222222,
                          "#7201a8"
                        ],
                        [
                          0.3333333333333333,
                          "#9c179e"
                        ],
                        [
                          0.4444444444444444,
                          "#bd3786"
                        ],
                        [
                          0.5555555555555556,
                          "#d8576b"
                        ],
                        [
                          0.6666666666666666,
                          "#ed7953"
                        ],
                        [
                          0.7777777777777778,
                          "#fb9f3a"
                        ],
                        [
                          0.8888888888888888,
                          "#fdca26"
                        ],
                        [
                          1,
                          "#f0f921"
                        ]
                      ],
                      "sequentialminus": [
                        [
                          0,
                          "#0d0887"
                        ],
                        [
                          0.1111111111111111,
                          "#46039f"
                        ],
                        [
                          0.2222222222222222,
                          "#7201a8"
                        ],
                        [
                          0.3333333333333333,
                          "#9c179e"
                        ],
                        [
                          0.4444444444444444,
                          "#bd3786"
                        ],
                        [
                          0.5555555555555556,
                          "#d8576b"
                        ],
                        [
                          0.6666666666666666,
                          "#ed7953"
                        ],
                        [
                          0.7777777777777778,
                          "#fb9f3a"
                        ],
                        [
                          0.8888888888888888,
                          "#fdca26"
                        ],
                        [
                          1,
                          "#f0f921"
                        ]
                      ]
                    },
                    "colorway": [
                      "#636efa",
                      "#EF553B",
                      "#00cc96",
                      "#ab63fa",
                      "#FFA15A",
                      "#19d3f3",
                      "#FF6692",
                      "#B6E880",
                      "#FF97FF",
                      "#FECB52"
                    ],
                    "font": {
                      "color": "#2a3f5f"
                    },
                    "geo": {
                      "bgcolor": "white",
                      "lakecolor": "white",
                      "landcolor": "#E5ECF6",
                      "showlakes": true,
                      "showland": true,
                      "subunitcolor": "white"
                    },
                    "hoverlabel": {
                      "align": "left"
                    },
                    "hovermode": "closest",
                    "mapbox": {
                      "style": "light"
                    },
                    "paper_bgcolor": "white",
                    "plot_bgcolor": "#E5ECF6",
                    "polar": {
                      "angularaxis": {
                        "gridcolor": "white",
                        "linecolor": "white",
                        "ticks": ""
                      },
                      "bgcolor": "#E5ECF6",
                      "radialaxis": {
                        "gridcolor": "white",
                        "linecolor": "white",
                        "ticks": ""
                      }
                    },
                    "scene": {
                      "xaxis": {
                        "backgroundcolor": "#E5ECF6",
                        "gridcolor": "white",
                        "gridwidth": 2,
                        "linecolor": "white",
                        "showbackground": true,
                        "ticks": "",
                        "zerolinecolor": "white"
                      },
                      "yaxis": {
                        "backgroundcolor": "#E5ECF6",
                        "gridcolor": "white",
                        "gridwidth": 2,
                        "linecolor": "white",
                        "showbackground": true,
                        "ticks": "",
                        "zerolinecolor": "white"
                      },
                      "zaxis": {
                        "backgroundcolor": "#E5ECF6",
                        "gridcolor": "white",
                        "gridwidth": 2,
                        "linecolor": "white",
                        "showbackground": true,
                        "ticks": "",
                        "zerolinecolor": "white"
                      }
                    },
                    "shapedefaults": {
                      "line": {
                        "color": "#2a3f5f"
                      }
                    },
                    "ternary": {
                      "aaxis": {
                        "gridcolor": "white",
                        "linecolor": "white",
                        "ticks": ""
                      },
                      "baxis": {
                        "gridcolor": "white",
                        "linecolor": "white",
                        "ticks": ""
                      },
                      "bgcolor": "#E5ECF6",
                      "caxis": {
                        "gridcolor": "white",
                        "linecolor": "white",
                        "ticks": ""
                      }
                    },
                    "title": {
                      "x": 0.05
                    },
                    "xaxis": {
                      "automargin": true,
                      "gridcolor": "white",
                      "linecolor": "white",
                      "ticks": "",
                      "title": {
                        "standoff": 15
                      },
                      "zerolinecolor": "white",
                      "zerolinewidth": 2
                    },
                    "yaxis": {
                      "automargin": true,
                      "gridcolor": "white",
                      "linecolor": "white",
                      "ticks": "",
                      "title": {
                        "standoff": 15
                      },
                      "zerolinecolor": "white",
                      "zerolinewidth": 2
                    }
                  }
                },
                "xaxis": {
                  "anchor": "y",
                  "domain": [
                    0,
                    1
                  ],
                  "title": {
                    "text": "temp"
                  }
                },
                "yaxis": {
                  "anchor": "x",
                  "domain": [
                    0,
                    1
                  ],
                  "title": {
                    "text": "value"
                  }
                }
              }
            }
          },
          "metadata": {},
          "output_type": "display_data"
        },
        {
          "data": {
            "application/vnd.plotly.v1+json": {
              "config": {
                "plotlyServerURL": "https://plot.ly"
              },
              "data": [
                {
                  "alignmentgroup": "True",
                  "hovertemplate": "variable=migliorati<br>temp=%{x}<br>value=%{y}<extra></extra>",
                  "legendgroup": "migliorati",
                  "marker": {
                    "color": "#636efa",
                    "pattern": {
                      "shape": ""
                    }
                  },
                  "name": "migliorati",
                  "offsetgroup": "migliorati",
                  "orientation": "v",
                  "showlegend": true,
                  "textposition": "auto",
                  "type": "bar",
                  "x": [
                    "coperto",
                    "nebbia",
                    "nebbia al mattino",
                    "neve",
                    "neve debole",
                    "neve e schiarite",
                    "nubi sparse",
                    "pioggia",
                    "pioggia debole",
                    "pioggia e schiarite",
                    "pioggia mista a neve e schiarite",
                    "poco nuvoloso",
                    "sereno",
                    "sole e caldo",
                    "temporale e schiarite"
                  ],
                  "xaxis": "x",
                  "y": [
                    0.004602991944764097,
                    0.004602991944764097,
                    0.13924050632911392,
                    0.004602991944764097,
                    0.0011507479861910242,
                    0.004602991944764097,
                    0.0333716915995397,
                    0.004602991944764097,
                    0.04142692750287687,
                    0.16800920598388952,
                    0.0011507479861910242,
                    0.31990794016110474,
                    0.20598388952819333,
                    0.04833141542002301,
                    0.018411967779056387
                  ],
                  "yaxis": "y"
                },
                {
                  "alignmentgroup": "True",
                  "hovertemplate": "variable=peggiorati<br>temp=%{x}<br>value=%{y}<extra></extra>",
                  "legendgroup": "peggiorati",
                  "marker": {
                    "color": "#EF553B",
                    "pattern": {
                      "shape": ""
                    }
                  },
                  "name": "peggiorati",
                  "offsetgroup": "peggiorati",
                  "orientation": "v",
                  "showlegend": true,
                  "textposition": "auto",
                  "type": "bar",
                  "x": [
                    "coperto",
                    "nebbia",
                    "nebbia al mattino",
                    "neve",
                    "neve debole",
                    "neve e schiarite",
                    "nubi sparse",
                    "pioggia",
                    "pioggia debole",
                    "pioggia e schiarite",
                    "pioggia mista a neve e schiarite",
                    "poco nuvoloso",
                    "sereno",
                    "sole e caldo",
                    "temporale e schiarite"
                  ],
                  "xaxis": "x",
                  "y": [
                    0.005376344086021506,
                    0.016129032258064516,
                    0.16129032258064516,
                    0,
                    0,
                    0,
                    0.03225806451612903,
                    0.016129032258064516,
                    0.05913978494623656,
                    0.15591397849462366,
                    0,
                    0.3010752688172043,
                    0.20430107526881722,
                    0.03763440860215054,
                    0.010752688172043012
                  ],
                  "yaxis": "y"
                }
              ],
              "layout": {
                "barmode": "relative",
                "legend": {
                  "title": {
                    "text": "variable"
                  },
                  "tracegroupgap": 0
                },
                "margin": {
                  "t": 60
                },
                "template": {
                  "data": {
                    "bar": [
                      {
                        "error_x": {
                          "color": "#2a3f5f"
                        },
                        "error_y": {
                          "color": "#2a3f5f"
                        },
                        "marker": {
                          "line": {
                            "color": "#E5ECF6",
                            "width": 0.5
                          },
                          "pattern": {
                            "fillmode": "overlay",
                            "size": 10,
                            "solidity": 0.2
                          }
                        },
                        "type": "bar"
                      }
                    ],
                    "barpolar": [
                      {
                        "marker": {
                          "line": {
                            "color": "#E5ECF6",
                            "width": 0.5
                          },
                          "pattern": {
                            "fillmode": "overlay",
                            "size": 10,
                            "solidity": 0.2
                          }
                        },
                        "type": "barpolar"
                      }
                    ],
                    "carpet": [
                      {
                        "aaxis": {
                          "endlinecolor": "#2a3f5f",
                          "gridcolor": "white",
                          "linecolor": "white",
                          "minorgridcolor": "white",
                          "startlinecolor": "#2a3f5f"
                        },
                        "baxis": {
                          "endlinecolor": "#2a3f5f",
                          "gridcolor": "white",
                          "linecolor": "white",
                          "minorgridcolor": "white",
                          "startlinecolor": "#2a3f5f"
                        },
                        "type": "carpet"
                      }
                    ],
                    "choropleth": [
                      {
                        "colorbar": {
                          "outlinewidth": 0,
                          "ticks": ""
                        },
                        "type": "choropleth"
                      }
                    ],
                    "contour": [
                      {
                        "colorbar": {
                          "outlinewidth": 0,
                          "ticks": ""
                        },
                        "colorscale": [
                          [
                            0,
                            "#0d0887"
                          ],
                          [
                            0.1111111111111111,
                            "#46039f"
                          ],
                          [
                            0.2222222222222222,
                            "#7201a8"
                          ],
                          [
                            0.3333333333333333,
                            "#9c179e"
                          ],
                          [
                            0.4444444444444444,
                            "#bd3786"
                          ],
                          [
                            0.5555555555555556,
                            "#d8576b"
                          ],
                          [
                            0.6666666666666666,
                            "#ed7953"
                          ],
                          [
                            0.7777777777777778,
                            "#fb9f3a"
                          ],
                          [
                            0.8888888888888888,
                            "#fdca26"
                          ],
                          [
                            1,
                            "#f0f921"
                          ]
                        ],
                        "type": "contour"
                      }
                    ],
                    "contourcarpet": [
                      {
                        "colorbar": {
                          "outlinewidth": 0,
                          "ticks": ""
                        },
                        "type": "contourcarpet"
                      }
                    ],
                    "heatmap": [
                      {
                        "colorbar": {
                          "outlinewidth": 0,
                          "ticks": ""
                        },
                        "colorscale": [
                          [
                            0,
                            "#0d0887"
                          ],
                          [
                            0.1111111111111111,
                            "#46039f"
                          ],
                          [
                            0.2222222222222222,
                            "#7201a8"
                          ],
                          [
                            0.3333333333333333,
                            "#9c179e"
                          ],
                          [
                            0.4444444444444444,
                            "#bd3786"
                          ],
                          [
                            0.5555555555555556,
                            "#d8576b"
                          ],
                          [
                            0.6666666666666666,
                            "#ed7953"
                          ],
                          [
                            0.7777777777777778,
                            "#fb9f3a"
                          ],
                          [
                            0.8888888888888888,
                            "#fdca26"
                          ],
                          [
                            1,
                            "#f0f921"
                          ]
                        ],
                        "type": "heatmap"
                      }
                    ],
                    "heatmapgl": [
                      {
                        "colorbar": {
                          "outlinewidth": 0,
                          "ticks": ""
                        },
                        "colorscale": [
                          [
                            0,
                            "#0d0887"
                          ],
                          [
                            0.1111111111111111,
                            "#46039f"
                          ],
                          [
                            0.2222222222222222,
                            "#7201a8"
                          ],
                          [
                            0.3333333333333333,
                            "#9c179e"
                          ],
                          [
                            0.4444444444444444,
                            "#bd3786"
                          ],
                          [
                            0.5555555555555556,
                            "#d8576b"
                          ],
                          [
                            0.6666666666666666,
                            "#ed7953"
                          ],
                          [
                            0.7777777777777778,
                            "#fb9f3a"
                          ],
                          [
                            0.8888888888888888,
                            "#fdca26"
                          ],
                          [
                            1,
                            "#f0f921"
                          ]
                        ],
                        "type": "heatmapgl"
                      }
                    ],
                    "histogram": [
                      {
                        "marker": {
                          "pattern": {
                            "fillmode": "overlay",
                            "size": 10,
                            "solidity": 0.2
                          }
                        },
                        "type": "histogram"
                      }
                    ],
                    "histogram2d": [
                      {
                        "colorbar": {
                          "outlinewidth": 0,
                          "ticks": ""
                        },
                        "colorscale": [
                          [
                            0,
                            "#0d0887"
                          ],
                          [
                            0.1111111111111111,
                            "#46039f"
                          ],
                          [
                            0.2222222222222222,
                            "#7201a8"
                          ],
                          [
                            0.3333333333333333,
                            "#9c179e"
                          ],
                          [
                            0.4444444444444444,
                            "#bd3786"
                          ],
                          [
                            0.5555555555555556,
                            "#d8576b"
                          ],
                          [
                            0.6666666666666666,
                            "#ed7953"
                          ],
                          [
                            0.7777777777777778,
                            "#fb9f3a"
                          ],
                          [
                            0.8888888888888888,
                            "#fdca26"
                          ],
                          [
                            1,
                            "#f0f921"
                          ]
                        ],
                        "type": "histogram2d"
                      }
                    ],
                    "histogram2dcontour": [
                      {
                        "colorbar": {
                          "outlinewidth": 0,
                          "ticks": ""
                        },
                        "colorscale": [
                          [
                            0,
                            "#0d0887"
                          ],
                          [
                            0.1111111111111111,
                            "#46039f"
                          ],
                          [
                            0.2222222222222222,
                            "#7201a8"
                          ],
                          [
                            0.3333333333333333,
                            "#9c179e"
                          ],
                          [
                            0.4444444444444444,
                            "#bd3786"
                          ],
                          [
                            0.5555555555555556,
                            "#d8576b"
                          ],
                          [
                            0.6666666666666666,
                            "#ed7953"
                          ],
                          [
                            0.7777777777777778,
                            "#fb9f3a"
                          ],
                          [
                            0.8888888888888888,
                            "#fdca26"
                          ],
                          [
                            1,
                            "#f0f921"
                          ]
                        ],
                        "type": "histogram2dcontour"
                      }
                    ],
                    "mesh3d": [
                      {
                        "colorbar": {
                          "outlinewidth": 0,
                          "ticks": ""
                        },
                        "type": "mesh3d"
                      }
                    ],
                    "parcoords": [
                      {
                        "line": {
                          "colorbar": {
                            "outlinewidth": 0,
                            "ticks": ""
                          }
                        },
                        "type": "parcoords"
                      }
                    ],
                    "pie": [
                      {
                        "automargin": true,
                        "type": "pie"
                      }
                    ],
                    "scatter": [
                      {
                        "marker": {
                          "colorbar": {
                            "outlinewidth": 0,
                            "ticks": ""
                          }
                        },
                        "type": "scatter"
                      }
                    ],
                    "scatter3d": [
                      {
                        "line": {
                          "colorbar": {
                            "outlinewidth": 0,
                            "ticks": ""
                          }
                        },
                        "marker": {
                          "colorbar": {
                            "outlinewidth": 0,
                            "ticks": ""
                          }
                        },
                        "type": "scatter3d"
                      }
                    ],
                    "scattercarpet": [
                      {
                        "marker": {
                          "colorbar": {
                            "outlinewidth": 0,
                            "ticks": ""
                          }
                        },
                        "type": "scattercarpet"
                      }
                    ],
                    "scattergeo": [
                      {
                        "marker": {
                          "colorbar": {
                            "outlinewidth": 0,
                            "ticks": ""
                          }
                        },
                        "type": "scattergeo"
                      }
                    ],
                    "scattergl": [
                      {
                        "marker": {
                          "colorbar": {
                            "outlinewidth": 0,
                            "ticks": ""
                          }
                        },
                        "type": "scattergl"
                      }
                    ],
                    "scattermapbox": [
                      {
                        "marker": {
                          "colorbar": {
                            "outlinewidth": 0,
                            "ticks": ""
                          }
                        },
                        "type": "scattermapbox"
                      }
                    ],
                    "scatterpolar": [
                      {
                        "marker": {
                          "colorbar": {
                            "outlinewidth": 0,
                            "ticks": ""
                          }
                        },
                        "type": "scatterpolar"
                      }
                    ],
                    "scatterpolargl": [
                      {
                        "marker": {
                          "colorbar": {
                            "outlinewidth": 0,
                            "ticks": ""
                          }
                        },
                        "type": "scatterpolargl"
                      }
                    ],
                    "scatterternary": [
                      {
                        "marker": {
                          "colorbar": {
                            "outlinewidth": 0,
                            "ticks": ""
                          }
                        },
                        "type": "scatterternary"
                      }
                    ],
                    "surface": [
                      {
                        "colorbar": {
                          "outlinewidth": 0,
                          "ticks": ""
                        },
                        "colorscale": [
                          [
                            0,
                            "#0d0887"
                          ],
                          [
                            0.1111111111111111,
                            "#46039f"
                          ],
                          [
                            0.2222222222222222,
                            "#7201a8"
                          ],
                          [
                            0.3333333333333333,
                            "#9c179e"
                          ],
                          [
                            0.4444444444444444,
                            "#bd3786"
                          ],
                          [
                            0.5555555555555556,
                            "#d8576b"
                          ],
                          [
                            0.6666666666666666,
                            "#ed7953"
                          ],
                          [
                            0.7777777777777778,
                            "#fb9f3a"
                          ],
                          [
                            0.8888888888888888,
                            "#fdca26"
                          ],
                          [
                            1,
                            "#f0f921"
                          ]
                        ],
                        "type": "surface"
                      }
                    ],
                    "table": [
                      {
                        "cells": {
                          "fill": {
                            "color": "#EBF0F8"
                          },
                          "line": {
                            "color": "white"
                          }
                        },
                        "header": {
                          "fill": {
                            "color": "#C8D4E3"
                          },
                          "line": {
                            "color": "white"
                          }
                        },
                        "type": "table"
                      }
                    ]
                  },
                  "layout": {
                    "annotationdefaults": {
                      "arrowcolor": "#2a3f5f",
                      "arrowhead": 0,
                      "arrowwidth": 1
                    },
                    "autotypenumbers": "strict",
                    "coloraxis": {
                      "colorbar": {
                        "outlinewidth": 0,
                        "ticks": ""
                      }
                    },
                    "colorscale": {
                      "diverging": [
                        [
                          0,
                          "#8e0152"
                        ],
                        [
                          0.1,
                          "#c51b7d"
                        ],
                        [
                          0.2,
                          "#de77ae"
                        ],
                        [
                          0.3,
                          "#f1b6da"
                        ],
                        [
                          0.4,
                          "#fde0ef"
                        ],
                        [
                          0.5,
                          "#f7f7f7"
                        ],
                        [
                          0.6,
                          "#e6f5d0"
                        ],
                        [
                          0.7,
                          "#b8e186"
                        ],
                        [
                          0.8,
                          "#7fbc41"
                        ],
                        [
                          0.9,
                          "#4d9221"
                        ],
                        [
                          1,
                          "#276419"
                        ]
                      ],
                      "sequential": [
                        [
                          0,
                          "#0d0887"
                        ],
                        [
                          0.1111111111111111,
                          "#46039f"
                        ],
                        [
                          0.2222222222222222,
                          "#7201a8"
                        ],
                        [
                          0.3333333333333333,
                          "#9c179e"
                        ],
                        [
                          0.4444444444444444,
                          "#bd3786"
                        ],
                        [
                          0.5555555555555556,
                          "#d8576b"
                        ],
                        [
                          0.6666666666666666,
                          "#ed7953"
                        ],
                        [
                          0.7777777777777778,
                          "#fb9f3a"
                        ],
                        [
                          0.8888888888888888,
                          "#fdca26"
                        ],
                        [
                          1,
                          "#f0f921"
                        ]
                      ],
                      "sequentialminus": [
                        [
                          0,
                          "#0d0887"
                        ],
                        [
                          0.1111111111111111,
                          "#46039f"
                        ],
                        [
                          0.2222222222222222,
                          "#7201a8"
                        ],
                        [
                          0.3333333333333333,
                          "#9c179e"
                        ],
                        [
                          0.4444444444444444,
                          "#bd3786"
                        ],
                        [
                          0.5555555555555556,
                          "#d8576b"
                        ],
                        [
                          0.6666666666666666,
                          "#ed7953"
                        ],
                        [
                          0.7777777777777778,
                          "#fb9f3a"
                        ],
                        [
                          0.8888888888888888,
                          "#fdca26"
                        ],
                        [
                          1,
                          "#f0f921"
                        ]
                      ]
                    },
                    "colorway": [
                      "#636efa",
                      "#EF553B",
                      "#00cc96",
                      "#ab63fa",
                      "#FFA15A",
                      "#19d3f3",
                      "#FF6692",
                      "#B6E880",
                      "#FF97FF",
                      "#FECB52"
                    ],
                    "font": {
                      "color": "#2a3f5f"
                    },
                    "geo": {
                      "bgcolor": "white",
                      "lakecolor": "white",
                      "landcolor": "#E5ECF6",
                      "showlakes": true,
                      "showland": true,
                      "subunitcolor": "white"
                    },
                    "hoverlabel": {
                      "align": "left"
                    },
                    "hovermode": "closest",
                    "mapbox": {
                      "style": "light"
                    },
                    "paper_bgcolor": "white",
                    "plot_bgcolor": "#E5ECF6",
                    "polar": {
                      "angularaxis": {
                        "gridcolor": "white",
                        "linecolor": "white",
                        "ticks": ""
                      },
                      "bgcolor": "#E5ECF6",
                      "radialaxis": {
                        "gridcolor": "white",
                        "linecolor": "white",
                        "ticks": ""
                      }
                    },
                    "scene": {
                      "xaxis": {
                        "backgroundcolor": "#E5ECF6",
                        "gridcolor": "white",
                        "gridwidth": 2,
                        "linecolor": "white",
                        "showbackground": true,
                        "ticks": "",
                        "zerolinecolor": "white"
                      },
                      "yaxis": {
                        "backgroundcolor": "#E5ECF6",
                        "gridcolor": "white",
                        "gridwidth": 2,
                        "linecolor": "white",
                        "showbackground": true,
                        "ticks": "",
                        "zerolinecolor": "white"
                      },
                      "zaxis": {
                        "backgroundcolor": "#E5ECF6",
                        "gridcolor": "white",
                        "gridwidth": 2,
                        "linecolor": "white",
                        "showbackground": true,
                        "ticks": "",
                        "zerolinecolor": "white"
                      }
                    },
                    "shapedefaults": {
                      "line": {
                        "color": "#2a3f5f"
                      }
                    },
                    "ternary": {
                      "aaxis": {
                        "gridcolor": "white",
                        "linecolor": "white",
                        "ticks": ""
                      },
                      "baxis": {
                        "gridcolor": "white",
                        "linecolor": "white",
                        "ticks": ""
                      },
                      "bgcolor": "#E5ECF6",
                      "caxis": {
                        "gridcolor": "white",
                        "linecolor": "white",
                        "ticks": ""
                      }
                    },
                    "title": {
                      "x": 0.05
                    },
                    "xaxis": {
                      "automargin": true,
                      "gridcolor": "white",
                      "linecolor": "white",
                      "ticks": "",
                      "title": {
                        "standoff": 15
                      },
                      "zerolinecolor": "white",
                      "zerolinewidth": 2
                    },
                    "yaxis": {
                      "automargin": true,
                      "gridcolor": "white",
                      "linecolor": "white",
                      "ticks": "",
                      "title": {
                        "standoff": 15
                      },
                      "zerolinecolor": "white",
                      "zerolinewidth": 2
                    }
                  }
                },
                "xaxis": {
                  "anchor": "y",
                  "domain": [
                    0,
                    1
                  ],
                  "title": {
                    "text": "temp"
                  }
                },
                "yaxis": {
                  "anchor": "x",
                  "domain": [
                    0,
                    1
                  ],
                  "title": {
                    "text": "value"
                  }
                }
              }
            }
          },
          "metadata": {},
          "output_type": "display_data"
        }
      ],
      "source": [
        "import plotly.express as px\n",
        "# dataset[\"condizioni_meteo\"] = pd.factorize(dataset[\"condizioni_meteo\"])[0]\n",
        "dataframe = pd.DataFrame({\"temp\":[], \"peggiorati\": [], \"migliorati\":[]})\n",
        "nuovo_dataset = {}\n",
        "for item in dataset[\"condizioni_meteo\"].unique():\n",
        "  queryStringPegg = \"condizioni_meteo == '\"+str(item)+\"' and peggiorato == 1 and pshysical_score == 1\"\n",
        "  queryStringMigl = \"condizioni_meteo == '\"+str(item)+\"' and peggiorato == 0 and pshysical_score == 1\"\n",
        "\n",
        "  resPeggiorati = dataset.query(queryStringPegg)\n",
        "  resMigliorati = dataset.query(queryStringMigl)\n",
        "  dataframe.loc[len(dataframe.index)] = [item, len(resPeggiorati), len(resMigliorati)]\n",
        "  nuovo_dataset[str(item)] = len(resPeggiorati)\n",
        "\n",
        "dataframe = dataframe.sort_values(\"temp\")\n",
        "#data normalization\n",
        "dataframe[\"peggiorati\"] = dataframe[\"peggiorati\"]/ dataframe[\"peggiorati\"].sum()\n",
        "dataframe[\"migliorati\"] = dataframe[\"migliorati\"]/ dataframe[\"migliorati\"].sum()\n",
        "dataframe.head()\n",
        "fig = px.line(dataframe, x=\"temp\", y=[\"peggiorati\",\"migliorati\"])\n",
        "fig.show()\n",
        "newFig =  px.bar(dataframe, x=\"temp\", y=[\"migliorati\", \"peggiorati\"])\n",
        "newFig.show()"
      ]
    },
    {
      "cell_type": "markdown",
      "metadata": {},
      "source": [
        "Grafico peggiorati in relazione a temperatura media"
      ]
    },
    {
      "cell_type": "code",
      "execution_count": 13,
      "metadata": {},
      "outputs": [
        {
          "data": {
            "application/vnd.plotly.v1+json": {
              "config": {
                "plotlyServerURL": "https://plot.ly"
              },
              "data": [
                {
                  "hovertemplate": "variable=peggiorati<br>temp=%{x}<br>value=%{y}<extra></extra>",
                  "legendgroup": "peggiorati",
                  "line": {
                    "color": "#636efa",
                    "dash": "solid"
                  },
                  "marker": {
                    "symbol": "circle"
                  },
                  "mode": "lines",
                  "name": "peggiorati",
                  "orientation": "v",
                  "showlegend": true,
                  "type": "scatter",
                  "x": [
                    -5,
                    -4,
                    -3,
                    -2,
                    -1,
                    0,
                    1,
                    2,
                    3,
                    4,
                    5,
                    6,
                    7,
                    8,
                    9,
                    10,
                    11,
                    12,
                    13,
                    14,
                    15,
                    16,
                    17,
                    18,
                    19,
                    20,
                    21,
                    22,
                    23,
                    24,
                    25,
                    26,
                    27,
                    28,
                    29,
                    30,
                    31
                  ],
                  "xaxis": "x",
                  "y": [
                    0,
                    0,
                    0,
                    0,
                    0,
                    0.016129032258064516,
                    0.021505376344086023,
                    0.03763440860215054,
                    0.04838709677419355,
                    0.03225806451612903,
                    0.08064516129032258,
                    0.04838709677419355,
                    0.05913978494623656,
                    0.03763440860215054,
                    0.0913978494623656,
                    0.0967741935483871,
                    0.010752688172043012,
                    0.04838709677419355,
                    0.04838709677419355,
                    0.03763440860215054,
                    0.03763440860215054,
                    0.043010752688172046,
                    0.016129032258064516,
                    0.010752688172043012,
                    0.043010752688172046,
                    0.010752688172043012,
                    0.005376344086021506,
                    0.005376344086021506,
                    0.010752688172043012,
                    0.03225806451612903,
                    0.021505376344086023,
                    0.010752688172043012,
                    0.016129032258064516,
                    0.016129032258064516,
                    0,
                    0.005376344086021506,
                    0
                  ],
                  "yaxis": "y"
                },
                {
                  "hovertemplate": "variable=migliorati<br>temp=%{x}<br>value=%{y}<extra></extra>",
                  "legendgroup": "migliorati",
                  "line": {
                    "color": "#EF553B",
                    "dash": "solid"
                  },
                  "marker": {
                    "symbol": "circle"
                  },
                  "mode": "lines",
                  "name": "migliorati",
                  "orientation": "v",
                  "showlegend": true,
                  "type": "scatter",
                  "x": [
                    -5,
                    -4,
                    -3,
                    -2,
                    -1,
                    0,
                    1,
                    2,
                    3,
                    4,
                    5,
                    6,
                    7,
                    8,
                    9,
                    10,
                    11,
                    12,
                    13,
                    14,
                    15,
                    16,
                    17,
                    18,
                    19,
                    20,
                    21,
                    22,
                    23,
                    24,
                    25,
                    26,
                    27,
                    28,
                    29,
                    30,
                    31
                  ],
                  "xaxis": "x",
                  "y": [
                    0.0011507479861910242,
                    0.0011507479861910242,
                    0.0023014959723820483,
                    0.0023014959723820483,
                    0.0023014959723820483,
                    0.011507479861910242,
                    0.02186421173762946,
                    0.02991944764096663,
                    0.04602991944764097,
                    0.0333716915995397,
                    0.05868814729574223,
                    0.04487917146144994,
                    0.06098964326812428,
                    0.0713463751438435,
                    0.04833141542002301,
                    0.06789413118527042,
                    0.03222094361334868,
                    0.0333716915995397,
                    0.02186421173762946,
                    0.020713463751438434,
                    0.04257767548906789,
                    0.02991944764096663,
                    0.03222094361334868,
                    0.028768699654775604,
                    0.018411967779056387,
                    0.02531645569620253,
                    0.01611047180667434,
                    0.020713463751438434,
                    0.014959723820483314,
                    0.031070195627157654,
                    0.028768699654775604,
                    0.014959723820483314,
                    0.028768699654775604,
                    0.02991944764096663,
                    0.010356731875719217,
                    0.012658227848101266,
                    0.0023014959723820483
                  ],
                  "yaxis": "y"
                }
              ],
              "layout": {
                "legend": {
                  "title": {
                    "text": "variable"
                  },
                  "tracegroupgap": 0
                },
                "margin": {
                  "t": 60
                },
                "template": {
                  "data": {
                    "bar": [
                      {
                        "error_x": {
                          "color": "#2a3f5f"
                        },
                        "error_y": {
                          "color": "#2a3f5f"
                        },
                        "marker": {
                          "line": {
                            "color": "#E5ECF6",
                            "width": 0.5
                          },
                          "pattern": {
                            "fillmode": "overlay",
                            "size": 10,
                            "solidity": 0.2
                          }
                        },
                        "type": "bar"
                      }
                    ],
                    "barpolar": [
                      {
                        "marker": {
                          "line": {
                            "color": "#E5ECF6",
                            "width": 0.5
                          },
                          "pattern": {
                            "fillmode": "overlay",
                            "size": 10,
                            "solidity": 0.2
                          }
                        },
                        "type": "barpolar"
                      }
                    ],
                    "carpet": [
                      {
                        "aaxis": {
                          "endlinecolor": "#2a3f5f",
                          "gridcolor": "white",
                          "linecolor": "white",
                          "minorgridcolor": "white",
                          "startlinecolor": "#2a3f5f"
                        },
                        "baxis": {
                          "endlinecolor": "#2a3f5f",
                          "gridcolor": "white",
                          "linecolor": "white",
                          "minorgridcolor": "white",
                          "startlinecolor": "#2a3f5f"
                        },
                        "type": "carpet"
                      }
                    ],
                    "choropleth": [
                      {
                        "colorbar": {
                          "outlinewidth": 0,
                          "ticks": ""
                        },
                        "type": "choropleth"
                      }
                    ],
                    "contour": [
                      {
                        "colorbar": {
                          "outlinewidth": 0,
                          "ticks": ""
                        },
                        "colorscale": [
                          [
                            0,
                            "#0d0887"
                          ],
                          [
                            0.1111111111111111,
                            "#46039f"
                          ],
                          [
                            0.2222222222222222,
                            "#7201a8"
                          ],
                          [
                            0.3333333333333333,
                            "#9c179e"
                          ],
                          [
                            0.4444444444444444,
                            "#bd3786"
                          ],
                          [
                            0.5555555555555556,
                            "#d8576b"
                          ],
                          [
                            0.6666666666666666,
                            "#ed7953"
                          ],
                          [
                            0.7777777777777778,
                            "#fb9f3a"
                          ],
                          [
                            0.8888888888888888,
                            "#fdca26"
                          ],
                          [
                            1,
                            "#f0f921"
                          ]
                        ],
                        "type": "contour"
                      }
                    ],
                    "contourcarpet": [
                      {
                        "colorbar": {
                          "outlinewidth": 0,
                          "ticks": ""
                        },
                        "type": "contourcarpet"
                      }
                    ],
                    "heatmap": [
                      {
                        "colorbar": {
                          "outlinewidth": 0,
                          "ticks": ""
                        },
                        "colorscale": [
                          [
                            0,
                            "#0d0887"
                          ],
                          [
                            0.1111111111111111,
                            "#46039f"
                          ],
                          [
                            0.2222222222222222,
                            "#7201a8"
                          ],
                          [
                            0.3333333333333333,
                            "#9c179e"
                          ],
                          [
                            0.4444444444444444,
                            "#bd3786"
                          ],
                          [
                            0.5555555555555556,
                            "#d8576b"
                          ],
                          [
                            0.6666666666666666,
                            "#ed7953"
                          ],
                          [
                            0.7777777777777778,
                            "#fb9f3a"
                          ],
                          [
                            0.8888888888888888,
                            "#fdca26"
                          ],
                          [
                            1,
                            "#f0f921"
                          ]
                        ],
                        "type": "heatmap"
                      }
                    ],
                    "heatmapgl": [
                      {
                        "colorbar": {
                          "outlinewidth": 0,
                          "ticks": ""
                        },
                        "colorscale": [
                          [
                            0,
                            "#0d0887"
                          ],
                          [
                            0.1111111111111111,
                            "#46039f"
                          ],
                          [
                            0.2222222222222222,
                            "#7201a8"
                          ],
                          [
                            0.3333333333333333,
                            "#9c179e"
                          ],
                          [
                            0.4444444444444444,
                            "#bd3786"
                          ],
                          [
                            0.5555555555555556,
                            "#d8576b"
                          ],
                          [
                            0.6666666666666666,
                            "#ed7953"
                          ],
                          [
                            0.7777777777777778,
                            "#fb9f3a"
                          ],
                          [
                            0.8888888888888888,
                            "#fdca26"
                          ],
                          [
                            1,
                            "#f0f921"
                          ]
                        ],
                        "type": "heatmapgl"
                      }
                    ],
                    "histogram": [
                      {
                        "marker": {
                          "pattern": {
                            "fillmode": "overlay",
                            "size": 10,
                            "solidity": 0.2
                          }
                        },
                        "type": "histogram"
                      }
                    ],
                    "histogram2d": [
                      {
                        "colorbar": {
                          "outlinewidth": 0,
                          "ticks": ""
                        },
                        "colorscale": [
                          [
                            0,
                            "#0d0887"
                          ],
                          [
                            0.1111111111111111,
                            "#46039f"
                          ],
                          [
                            0.2222222222222222,
                            "#7201a8"
                          ],
                          [
                            0.3333333333333333,
                            "#9c179e"
                          ],
                          [
                            0.4444444444444444,
                            "#bd3786"
                          ],
                          [
                            0.5555555555555556,
                            "#d8576b"
                          ],
                          [
                            0.6666666666666666,
                            "#ed7953"
                          ],
                          [
                            0.7777777777777778,
                            "#fb9f3a"
                          ],
                          [
                            0.8888888888888888,
                            "#fdca26"
                          ],
                          [
                            1,
                            "#f0f921"
                          ]
                        ],
                        "type": "histogram2d"
                      }
                    ],
                    "histogram2dcontour": [
                      {
                        "colorbar": {
                          "outlinewidth": 0,
                          "ticks": ""
                        },
                        "colorscale": [
                          [
                            0,
                            "#0d0887"
                          ],
                          [
                            0.1111111111111111,
                            "#46039f"
                          ],
                          [
                            0.2222222222222222,
                            "#7201a8"
                          ],
                          [
                            0.3333333333333333,
                            "#9c179e"
                          ],
                          [
                            0.4444444444444444,
                            "#bd3786"
                          ],
                          [
                            0.5555555555555556,
                            "#d8576b"
                          ],
                          [
                            0.6666666666666666,
                            "#ed7953"
                          ],
                          [
                            0.7777777777777778,
                            "#fb9f3a"
                          ],
                          [
                            0.8888888888888888,
                            "#fdca26"
                          ],
                          [
                            1,
                            "#f0f921"
                          ]
                        ],
                        "type": "histogram2dcontour"
                      }
                    ],
                    "mesh3d": [
                      {
                        "colorbar": {
                          "outlinewidth": 0,
                          "ticks": ""
                        },
                        "type": "mesh3d"
                      }
                    ],
                    "parcoords": [
                      {
                        "line": {
                          "colorbar": {
                            "outlinewidth": 0,
                            "ticks": ""
                          }
                        },
                        "type": "parcoords"
                      }
                    ],
                    "pie": [
                      {
                        "automargin": true,
                        "type": "pie"
                      }
                    ],
                    "scatter": [
                      {
                        "marker": {
                          "colorbar": {
                            "outlinewidth": 0,
                            "ticks": ""
                          }
                        },
                        "type": "scatter"
                      }
                    ],
                    "scatter3d": [
                      {
                        "line": {
                          "colorbar": {
                            "outlinewidth": 0,
                            "ticks": ""
                          }
                        },
                        "marker": {
                          "colorbar": {
                            "outlinewidth": 0,
                            "ticks": ""
                          }
                        },
                        "type": "scatter3d"
                      }
                    ],
                    "scattercarpet": [
                      {
                        "marker": {
                          "colorbar": {
                            "outlinewidth": 0,
                            "ticks": ""
                          }
                        },
                        "type": "scattercarpet"
                      }
                    ],
                    "scattergeo": [
                      {
                        "marker": {
                          "colorbar": {
                            "outlinewidth": 0,
                            "ticks": ""
                          }
                        },
                        "type": "scattergeo"
                      }
                    ],
                    "scattergl": [
                      {
                        "marker": {
                          "colorbar": {
                            "outlinewidth": 0,
                            "ticks": ""
                          }
                        },
                        "type": "scattergl"
                      }
                    ],
                    "scattermapbox": [
                      {
                        "marker": {
                          "colorbar": {
                            "outlinewidth": 0,
                            "ticks": ""
                          }
                        },
                        "type": "scattermapbox"
                      }
                    ],
                    "scatterpolar": [
                      {
                        "marker": {
                          "colorbar": {
                            "outlinewidth": 0,
                            "ticks": ""
                          }
                        },
                        "type": "scatterpolar"
                      }
                    ],
                    "scatterpolargl": [
                      {
                        "marker": {
                          "colorbar": {
                            "outlinewidth": 0,
                            "ticks": ""
                          }
                        },
                        "type": "scatterpolargl"
                      }
                    ],
                    "scatterternary": [
                      {
                        "marker": {
                          "colorbar": {
                            "outlinewidth": 0,
                            "ticks": ""
                          }
                        },
                        "type": "scatterternary"
                      }
                    ],
                    "surface": [
                      {
                        "colorbar": {
                          "outlinewidth": 0,
                          "ticks": ""
                        },
                        "colorscale": [
                          [
                            0,
                            "#0d0887"
                          ],
                          [
                            0.1111111111111111,
                            "#46039f"
                          ],
                          [
                            0.2222222222222222,
                            "#7201a8"
                          ],
                          [
                            0.3333333333333333,
                            "#9c179e"
                          ],
                          [
                            0.4444444444444444,
                            "#bd3786"
                          ],
                          [
                            0.5555555555555556,
                            "#d8576b"
                          ],
                          [
                            0.6666666666666666,
                            "#ed7953"
                          ],
                          [
                            0.7777777777777778,
                            "#fb9f3a"
                          ],
                          [
                            0.8888888888888888,
                            "#fdca26"
                          ],
                          [
                            1,
                            "#f0f921"
                          ]
                        ],
                        "type": "surface"
                      }
                    ],
                    "table": [
                      {
                        "cells": {
                          "fill": {
                            "color": "#EBF0F8"
                          },
                          "line": {
                            "color": "white"
                          }
                        },
                        "header": {
                          "fill": {
                            "color": "#C8D4E3"
                          },
                          "line": {
                            "color": "white"
                          }
                        },
                        "type": "table"
                      }
                    ]
                  },
                  "layout": {
                    "annotationdefaults": {
                      "arrowcolor": "#2a3f5f",
                      "arrowhead": 0,
                      "arrowwidth": 1
                    },
                    "autotypenumbers": "strict",
                    "coloraxis": {
                      "colorbar": {
                        "outlinewidth": 0,
                        "ticks": ""
                      }
                    },
                    "colorscale": {
                      "diverging": [
                        [
                          0,
                          "#8e0152"
                        ],
                        [
                          0.1,
                          "#c51b7d"
                        ],
                        [
                          0.2,
                          "#de77ae"
                        ],
                        [
                          0.3,
                          "#f1b6da"
                        ],
                        [
                          0.4,
                          "#fde0ef"
                        ],
                        [
                          0.5,
                          "#f7f7f7"
                        ],
                        [
                          0.6,
                          "#e6f5d0"
                        ],
                        [
                          0.7,
                          "#b8e186"
                        ],
                        [
                          0.8,
                          "#7fbc41"
                        ],
                        [
                          0.9,
                          "#4d9221"
                        ],
                        [
                          1,
                          "#276419"
                        ]
                      ],
                      "sequential": [
                        [
                          0,
                          "#0d0887"
                        ],
                        [
                          0.1111111111111111,
                          "#46039f"
                        ],
                        [
                          0.2222222222222222,
                          "#7201a8"
                        ],
                        [
                          0.3333333333333333,
                          "#9c179e"
                        ],
                        [
                          0.4444444444444444,
                          "#bd3786"
                        ],
                        [
                          0.5555555555555556,
                          "#d8576b"
                        ],
                        [
                          0.6666666666666666,
                          "#ed7953"
                        ],
                        [
                          0.7777777777777778,
                          "#fb9f3a"
                        ],
                        [
                          0.8888888888888888,
                          "#fdca26"
                        ],
                        [
                          1,
                          "#f0f921"
                        ]
                      ],
                      "sequentialminus": [
                        [
                          0,
                          "#0d0887"
                        ],
                        [
                          0.1111111111111111,
                          "#46039f"
                        ],
                        [
                          0.2222222222222222,
                          "#7201a8"
                        ],
                        [
                          0.3333333333333333,
                          "#9c179e"
                        ],
                        [
                          0.4444444444444444,
                          "#bd3786"
                        ],
                        [
                          0.5555555555555556,
                          "#d8576b"
                        ],
                        [
                          0.6666666666666666,
                          "#ed7953"
                        ],
                        [
                          0.7777777777777778,
                          "#fb9f3a"
                        ],
                        [
                          0.8888888888888888,
                          "#fdca26"
                        ],
                        [
                          1,
                          "#f0f921"
                        ]
                      ]
                    },
                    "colorway": [
                      "#636efa",
                      "#EF553B",
                      "#00cc96",
                      "#ab63fa",
                      "#FFA15A",
                      "#19d3f3",
                      "#FF6692",
                      "#B6E880",
                      "#FF97FF",
                      "#FECB52"
                    ],
                    "font": {
                      "color": "#2a3f5f"
                    },
                    "geo": {
                      "bgcolor": "white",
                      "lakecolor": "white",
                      "landcolor": "#E5ECF6",
                      "showlakes": true,
                      "showland": true,
                      "subunitcolor": "white"
                    },
                    "hoverlabel": {
                      "align": "left"
                    },
                    "hovermode": "closest",
                    "mapbox": {
                      "style": "light"
                    },
                    "paper_bgcolor": "white",
                    "plot_bgcolor": "#E5ECF6",
                    "polar": {
                      "angularaxis": {
                        "gridcolor": "white",
                        "linecolor": "white",
                        "ticks": ""
                      },
                      "bgcolor": "#E5ECF6",
                      "radialaxis": {
                        "gridcolor": "white",
                        "linecolor": "white",
                        "ticks": ""
                      }
                    },
                    "scene": {
                      "xaxis": {
                        "backgroundcolor": "#E5ECF6",
                        "gridcolor": "white",
                        "gridwidth": 2,
                        "linecolor": "white",
                        "showbackground": true,
                        "ticks": "",
                        "zerolinecolor": "white"
                      },
                      "yaxis": {
                        "backgroundcolor": "#E5ECF6",
                        "gridcolor": "white",
                        "gridwidth": 2,
                        "linecolor": "white",
                        "showbackground": true,
                        "ticks": "",
                        "zerolinecolor": "white"
                      },
                      "zaxis": {
                        "backgroundcolor": "#E5ECF6",
                        "gridcolor": "white",
                        "gridwidth": 2,
                        "linecolor": "white",
                        "showbackground": true,
                        "ticks": "",
                        "zerolinecolor": "white"
                      }
                    },
                    "shapedefaults": {
                      "line": {
                        "color": "#2a3f5f"
                      }
                    },
                    "ternary": {
                      "aaxis": {
                        "gridcolor": "white",
                        "linecolor": "white",
                        "ticks": ""
                      },
                      "baxis": {
                        "gridcolor": "white",
                        "linecolor": "white",
                        "ticks": ""
                      },
                      "bgcolor": "#E5ECF6",
                      "caxis": {
                        "gridcolor": "white",
                        "linecolor": "white",
                        "ticks": ""
                      }
                    },
                    "title": {
                      "x": 0.05
                    },
                    "xaxis": {
                      "automargin": true,
                      "gridcolor": "white",
                      "linecolor": "white",
                      "ticks": "",
                      "title": {
                        "standoff": 15
                      },
                      "zerolinecolor": "white",
                      "zerolinewidth": 2
                    },
                    "yaxis": {
                      "automargin": true,
                      "gridcolor": "white",
                      "linecolor": "white",
                      "ticks": "",
                      "title": {
                        "standoff": 15
                      },
                      "zerolinecolor": "white",
                      "zerolinewidth": 2
                    }
                  }
                },
                "xaxis": {
                  "anchor": "y",
                  "domain": [
                    0,
                    1
                  ],
                  "title": {
                    "text": "temp"
                  }
                },
                "yaxis": {
                  "anchor": "x",
                  "domain": [
                    0,
                    1
                  ],
                  "title": {
                    "text": "value"
                  }
                }
              }
            }
          },
          "metadata": {},
          "output_type": "display_data"
        },
        {
          "data": {
            "application/vnd.plotly.v1+json": {
              "config": {
                "plotlyServerURL": "https://plot.ly"
              },
              "data": [
                {
                  "alignmentgroup": "True",
                  "hovertemplate": "variable=migliorati<br>temp=%{x}<br>value=%{y}<extra></extra>",
                  "legendgroup": "migliorati",
                  "marker": {
                    "color": "#636efa",
                    "pattern": {
                      "shape": ""
                    }
                  },
                  "name": "migliorati",
                  "offsetgroup": "migliorati",
                  "orientation": "v",
                  "showlegend": true,
                  "textposition": "auto",
                  "type": "bar",
                  "x": [
                    -5,
                    -4,
                    -3,
                    -2,
                    -1,
                    0,
                    1,
                    2,
                    3,
                    4,
                    5,
                    6,
                    7,
                    8,
                    9,
                    10,
                    11,
                    12,
                    13,
                    14,
                    15,
                    16,
                    17,
                    18,
                    19,
                    20,
                    21,
                    22,
                    23,
                    24,
                    25,
                    26,
                    27,
                    28,
                    29,
                    30,
                    31
                  ],
                  "xaxis": "x",
                  "y": [
                    0.0011507479861910242,
                    0.0011507479861910242,
                    0.0023014959723820483,
                    0.0023014959723820483,
                    0.0023014959723820483,
                    0.011507479861910242,
                    0.02186421173762946,
                    0.02991944764096663,
                    0.04602991944764097,
                    0.0333716915995397,
                    0.05868814729574223,
                    0.04487917146144994,
                    0.06098964326812428,
                    0.0713463751438435,
                    0.04833141542002301,
                    0.06789413118527042,
                    0.03222094361334868,
                    0.0333716915995397,
                    0.02186421173762946,
                    0.020713463751438434,
                    0.04257767548906789,
                    0.02991944764096663,
                    0.03222094361334868,
                    0.028768699654775604,
                    0.018411967779056387,
                    0.02531645569620253,
                    0.01611047180667434,
                    0.020713463751438434,
                    0.014959723820483314,
                    0.031070195627157654,
                    0.028768699654775604,
                    0.014959723820483314,
                    0.028768699654775604,
                    0.02991944764096663,
                    0.010356731875719217,
                    0.012658227848101266,
                    0.0023014959723820483
                  ],
                  "yaxis": "y"
                },
                {
                  "alignmentgroup": "True",
                  "hovertemplate": "variable=peggiorati<br>temp=%{x}<br>value=%{y}<extra></extra>",
                  "legendgroup": "peggiorati",
                  "marker": {
                    "color": "#EF553B",
                    "pattern": {
                      "shape": ""
                    }
                  },
                  "name": "peggiorati",
                  "offsetgroup": "peggiorati",
                  "orientation": "v",
                  "showlegend": true,
                  "textposition": "auto",
                  "type": "bar",
                  "x": [
                    -5,
                    -4,
                    -3,
                    -2,
                    -1,
                    0,
                    1,
                    2,
                    3,
                    4,
                    5,
                    6,
                    7,
                    8,
                    9,
                    10,
                    11,
                    12,
                    13,
                    14,
                    15,
                    16,
                    17,
                    18,
                    19,
                    20,
                    21,
                    22,
                    23,
                    24,
                    25,
                    26,
                    27,
                    28,
                    29,
                    30,
                    31
                  ],
                  "xaxis": "x",
                  "y": [
                    0,
                    0,
                    0,
                    0,
                    0,
                    0.016129032258064516,
                    0.021505376344086023,
                    0.03763440860215054,
                    0.04838709677419355,
                    0.03225806451612903,
                    0.08064516129032258,
                    0.04838709677419355,
                    0.05913978494623656,
                    0.03763440860215054,
                    0.0913978494623656,
                    0.0967741935483871,
                    0.010752688172043012,
                    0.04838709677419355,
                    0.04838709677419355,
                    0.03763440860215054,
                    0.03763440860215054,
                    0.043010752688172046,
                    0.016129032258064516,
                    0.010752688172043012,
                    0.043010752688172046,
                    0.010752688172043012,
                    0.005376344086021506,
                    0.005376344086021506,
                    0.010752688172043012,
                    0.03225806451612903,
                    0.021505376344086023,
                    0.010752688172043012,
                    0.016129032258064516,
                    0.016129032258064516,
                    0,
                    0.005376344086021506,
                    0
                  ],
                  "yaxis": "y"
                }
              ],
              "layout": {
                "barmode": "relative",
                "legend": {
                  "title": {
                    "text": "variable"
                  },
                  "tracegroupgap": 0
                },
                "margin": {
                  "t": 60
                },
                "template": {
                  "data": {
                    "bar": [
                      {
                        "error_x": {
                          "color": "#2a3f5f"
                        },
                        "error_y": {
                          "color": "#2a3f5f"
                        },
                        "marker": {
                          "line": {
                            "color": "#E5ECF6",
                            "width": 0.5
                          },
                          "pattern": {
                            "fillmode": "overlay",
                            "size": 10,
                            "solidity": 0.2
                          }
                        },
                        "type": "bar"
                      }
                    ],
                    "barpolar": [
                      {
                        "marker": {
                          "line": {
                            "color": "#E5ECF6",
                            "width": 0.5
                          },
                          "pattern": {
                            "fillmode": "overlay",
                            "size": 10,
                            "solidity": 0.2
                          }
                        },
                        "type": "barpolar"
                      }
                    ],
                    "carpet": [
                      {
                        "aaxis": {
                          "endlinecolor": "#2a3f5f",
                          "gridcolor": "white",
                          "linecolor": "white",
                          "minorgridcolor": "white",
                          "startlinecolor": "#2a3f5f"
                        },
                        "baxis": {
                          "endlinecolor": "#2a3f5f",
                          "gridcolor": "white",
                          "linecolor": "white",
                          "minorgridcolor": "white",
                          "startlinecolor": "#2a3f5f"
                        },
                        "type": "carpet"
                      }
                    ],
                    "choropleth": [
                      {
                        "colorbar": {
                          "outlinewidth": 0,
                          "ticks": ""
                        },
                        "type": "choropleth"
                      }
                    ],
                    "contour": [
                      {
                        "colorbar": {
                          "outlinewidth": 0,
                          "ticks": ""
                        },
                        "colorscale": [
                          [
                            0,
                            "#0d0887"
                          ],
                          [
                            0.1111111111111111,
                            "#46039f"
                          ],
                          [
                            0.2222222222222222,
                            "#7201a8"
                          ],
                          [
                            0.3333333333333333,
                            "#9c179e"
                          ],
                          [
                            0.4444444444444444,
                            "#bd3786"
                          ],
                          [
                            0.5555555555555556,
                            "#d8576b"
                          ],
                          [
                            0.6666666666666666,
                            "#ed7953"
                          ],
                          [
                            0.7777777777777778,
                            "#fb9f3a"
                          ],
                          [
                            0.8888888888888888,
                            "#fdca26"
                          ],
                          [
                            1,
                            "#f0f921"
                          ]
                        ],
                        "type": "contour"
                      }
                    ],
                    "contourcarpet": [
                      {
                        "colorbar": {
                          "outlinewidth": 0,
                          "ticks": ""
                        },
                        "type": "contourcarpet"
                      }
                    ],
                    "heatmap": [
                      {
                        "colorbar": {
                          "outlinewidth": 0,
                          "ticks": ""
                        },
                        "colorscale": [
                          [
                            0,
                            "#0d0887"
                          ],
                          [
                            0.1111111111111111,
                            "#46039f"
                          ],
                          [
                            0.2222222222222222,
                            "#7201a8"
                          ],
                          [
                            0.3333333333333333,
                            "#9c179e"
                          ],
                          [
                            0.4444444444444444,
                            "#bd3786"
                          ],
                          [
                            0.5555555555555556,
                            "#d8576b"
                          ],
                          [
                            0.6666666666666666,
                            "#ed7953"
                          ],
                          [
                            0.7777777777777778,
                            "#fb9f3a"
                          ],
                          [
                            0.8888888888888888,
                            "#fdca26"
                          ],
                          [
                            1,
                            "#f0f921"
                          ]
                        ],
                        "type": "heatmap"
                      }
                    ],
                    "heatmapgl": [
                      {
                        "colorbar": {
                          "outlinewidth": 0,
                          "ticks": ""
                        },
                        "colorscale": [
                          [
                            0,
                            "#0d0887"
                          ],
                          [
                            0.1111111111111111,
                            "#46039f"
                          ],
                          [
                            0.2222222222222222,
                            "#7201a8"
                          ],
                          [
                            0.3333333333333333,
                            "#9c179e"
                          ],
                          [
                            0.4444444444444444,
                            "#bd3786"
                          ],
                          [
                            0.5555555555555556,
                            "#d8576b"
                          ],
                          [
                            0.6666666666666666,
                            "#ed7953"
                          ],
                          [
                            0.7777777777777778,
                            "#fb9f3a"
                          ],
                          [
                            0.8888888888888888,
                            "#fdca26"
                          ],
                          [
                            1,
                            "#f0f921"
                          ]
                        ],
                        "type": "heatmapgl"
                      }
                    ],
                    "histogram": [
                      {
                        "marker": {
                          "pattern": {
                            "fillmode": "overlay",
                            "size": 10,
                            "solidity": 0.2
                          }
                        },
                        "type": "histogram"
                      }
                    ],
                    "histogram2d": [
                      {
                        "colorbar": {
                          "outlinewidth": 0,
                          "ticks": ""
                        },
                        "colorscale": [
                          [
                            0,
                            "#0d0887"
                          ],
                          [
                            0.1111111111111111,
                            "#46039f"
                          ],
                          [
                            0.2222222222222222,
                            "#7201a8"
                          ],
                          [
                            0.3333333333333333,
                            "#9c179e"
                          ],
                          [
                            0.4444444444444444,
                            "#bd3786"
                          ],
                          [
                            0.5555555555555556,
                            "#d8576b"
                          ],
                          [
                            0.6666666666666666,
                            "#ed7953"
                          ],
                          [
                            0.7777777777777778,
                            "#fb9f3a"
                          ],
                          [
                            0.8888888888888888,
                            "#fdca26"
                          ],
                          [
                            1,
                            "#f0f921"
                          ]
                        ],
                        "type": "histogram2d"
                      }
                    ],
                    "histogram2dcontour": [
                      {
                        "colorbar": {
                          "outlinewidth": 0,
                          "ticks": ""
                        },
                        "colorscale": [
                          [
                            0,
                            "#0d0887"
                          ],
                          [
                            0.1111111111111111,
                            "#46039f"
                          ],
                          [
                            0.2222222222222222,
                            "#7201a8"
                          ],
                          [
                            0.3333333333333333,
                            "#9c179e"
                          ],
                          [
                            0.4444444444444444,
                            "#bd3786"
                          ],
                          [
                            0.5555555555555556,
                            "#d8576b"
                          ],
                          [
                            0.6666666666666666,
                            "#ed7953"
                          ],
                          [
                            0.7777777777777778,
                            "#fb9f3a"
                          ],
                          [
                            0.8888888888888888,
                            "#fdca26"
                          ],
                          [
                            1,
                            "#f0f921"
                          ]
                        ],
                        "type": "histogram2dcontour"
                      }
                    ],
                    "mesh3d": [
                      {
                        "colorbar": {
                          "outlinewidth": 0,
                          "ticks": ""
                        },
                        "type": "mesh3d"
                      }
                    ],
                    "parcoords": [
                      {
                        "line": {
                          "colorbar": {
                            "outlinewidth": 0,
                            "ticks": ""
                          }
                        },
                        "type": "parcoords"
                      }
                    ],
                    "pie": [
                      {
                        "automargin": true,
                        "type": "pie"
                      }
                    ],
                    "scatter": [
                      {
                        "marker": {
                          "colorbar": {
                            "outlinewidth": 0,
                            "ticks": ""
                          }
                        },
                        "type": "scatter"
                      }
                    ],
                    "scatter3d": [
                      {
                        "line": {
                          "colorbar": {
                            "outlinewidth": 0,
                            "ticks": ""
                          }
                        },
                        "marker": {
                          "colorbar": {
                            "outlinewidth": 0,
                            "ticks": ""
                          }
                        },
                        "type": "scatter3d"
                      }
                    ],
                    "scattercarpet": [
                      {
                        "marker": {
                          "colorbar": {
                            "outlinewidth": 0,
                            "ticks": ""
                          }
                        },
                        "type": "scattercarpet"
                      }
                    ],
                    "scattergeo": [
                      {
                        "marker": {
                          "colorbar": {
                            "outlinewidth": 0,
                            "ticks": ""
                          }
                        },
                        "type": "scattergeo"
                      }
                    ],
                    "scattergl": [
                      {
                        "marker": {
                          "colorbar": {
                            "outlinewidth": 0,
                            "ticks": ""
                          }
                        },
                        "type": "scattergl"
                      }
                    ],
                    "scattermapbox": [
                      {
                        "marker": {
                          "colorbar": {
                            "outlinewidth": 0,
                            "ticks": ""
                          }
                        },
                        "type": "scattermapbox"
                      }
                    ],
                    "scatterpolar": [
                      {
                        "marker": {
                          "colorbar": {
                            "outlinewidth": 0,
                            "ticks": ""
                          }
                        },
                        "type": "scatterpolar"
                      }
                    ],
                    "scatterpolargl": [
                      {
                        "marker": {
                          "colorbar": {
                            "outlinewidth": 0,
                            "ticks": ""
                          }
                        },
                        "type": "scatterpolargl"
                      }
                    ],
                    "scatterternary": [
                      {
                        "marker": {
                          "colorbar": {
                            "outlinewidth": 0,
                            "ticks": ""
                          }
                        },
                        "type": "scatterternary"
                      }
                    ],
                    "surface": [
                      {
                        "colorbar": {
                          "outlinewidth": 0,
                          "ticks": ""
                        },
                        "colorscale": [
                          [
                            0,
                            "#0d0887"
                          ],
                          [
                            0.1111111111111111,
                            "#46039f"
                          ],
                          [
                            0.2222222222222222,
                            "#7201a8"
                          ],
                          [
                            0.3333333333333333,
                            "#9c179e"
                          ],
                          [
                            0.4444444444444444,
                            "#bd3786"
                          ],
                          [
                            0.5555555555555556,
                            "#d8576b"
                          ],
                          [
                            0.6666666666666666,
                            "#ed7953"
                          ],
                          [
                            0.7777777777777778,
                            "#fb9f3a"
                          ],
                          [
                            0.8888888888888888,
                            "#fdca26"
                          ],
                          [
                            1,
                            "#f0f921"
                          ]
                        ],
                        "type": "surface"
                      }
                    ],
                    "table": [
                      {
                        "cells": {
                          "fill": {
                            "color": "#EBF0F8"
                          },
                          "line": {
                            "color": "white"
                          }
                        },
                        "header": {
                          "fill": {
                            "color": "#C8D4E3"
                          },
                          "line": {
                            "color": "white"
                          }
                        },
                        "type": "table"
                      }
                    ]
                  },
                  "layout": {
                    "annotationdefaults": {
                      "arrowcolor": "#2a3f5f",
                      "arrowhead": 0,
                      "arrowwidth": 1
                    },
                    "autotypenumbers": "strict",
                    "coloraxis": {
                      "colorbar": {
                        "outlinewidth": 0,
                        "ticks": ""
                      }
                    },
                    "colorscale": {
                      "diverging": [
                        [
                          0,
                          "#8e0152"
                        ],
                        [
                          0.1,
                          "#c51b7d"
                        ],
                        [
                          0.2,
                          "#de77ae"
                        ],
                        [
                          0.3,
                          "#f1b6da"
                        ],
                        [
                          0.4,
                          "#fde0ef"
                        ],
                        [
                          0.5,
                          "#f7f7f7"
                        ],
                        [
                          0.6,
                          "#e6f5d0"
                        ],
                        [
                          0.7,
                          "#b8e186"
                        ],
                        [
                          0.8,
                          "#7fbc41"
                        ],
                        [
                          0.9,
                          "#4d9221"
                        ],
                        [
                          1,
                          "#276419"
                        ]
                      ],
                      "sequential": [
                        [
                          0,
                          "#0d0887"
                        ],
                        [
                          0.1111111111111111,
                          "#46039f"
                        ],
                        [
                          0.2222222222222222,
                          "#7201a8"
                        ],
                        [
                          0.3333333333333333,
                          "#9c179e"
                        ],
                        [
                          0.4444444444444444,
                          "#bd3786"
                        ],
                        [
                          0.5555555555555556,
                          "#d8576b"
                        ],
                        [
                          0.6666666666666666,
                          "#ed7953"
                        ],
                        [
                          0.7777777777777778,
                          "#fb9f3a"
                        ],
                        [
                          0.8888888888888888,
                          "#fdca26"
                        ],
                        [
                          1,
                          "#f0f921"
                        ]
                      ],
                      "sequentialminus": [
                        [
                          0,
                          "#0d0887"
                        ],
                        [
                          0.1111111111111111,
                          "#46039f"
                        ],
                        [
                          0.2222222222222222,
                          "#7201a8"
                        ],
                        [
                          0.3333333333333333,
                          "#9c179e"
                        ],
                        [
                          0.4444444444444444,
                          "#bd3786"
                        ],
                        [
                          0.5555555555555556,
                          "#d8576b"
                        ],
                        [
                          0.6666666666666666,
                          "#ed7953"
                        ],
                        [
                          0.7777777777777778,
                          "#fb9f3a"
                        ],
                        [
                          0.8888888888888888,
                          "#fdca26"
                        ],
                        [
                          1,
                          "#f0f921"
                        ]
                      ]
                    },
                    "colorway": [
                      "#636efa",
                      "#EF553B",
                      "#00cc96",
                      "#ab63fa",
                      "#FFA15A",
                      "#19d3f3",
                      "#FF6692",
                      "#B6E880",
                      "#FF97FF",
                      "#FECB52"
                    ],
                    "font": {
                      "color": "#2a3f5f"
                    },
                    "geo": {
                      "bgcolor": "white",
                      "lakecolor": "white",
                      "landcolor": "#E5ECF6",
                      "showlakes": true,
                      "showland": true,
                      "subunitcolor": "white"
                    },
                    "hoverlabel": {
                      "align": "left"
                    },
                    "hovermode": "closest",
                    "mapbox": {
                      "style": "light"
                    },
                    "paper_bgcolor": "white",
                    "plot_bgcolor": "#E5ECF6",
                    "polar": {
                      "angularaxis": {
                        "gridcolor": "white",
                        "linecolor": "white",
                        "ticks": ""
                      },
                      "bgcolor": "#E5ECF6",
                      "radialaxis": {
                        "gridcolor": "white",
                        "linecolor": "white",
                        "ticks": ""
                      }
                    },
                    "scene": {
                      "xaxis": {
                        "backgroundcolor": "#E5ECF6",
                        "gridcolor": "white",
                        "gridwidth": 2,
                        "linecolor": "white",
                        "showbackground": true,
                        "ticks": "",
                        "zerolinecolor": "white"
                      },
                      "yaxis": {
                        "backgroundcolor": "#E5ECF6",
                        "gridcolor": "white",
                        "gridwidth": 2,
                        "linecolor": "white",
                        "showbackground": true,
                        "ticks": "",
                        "zerolinecolor": "white"
                      },
                      "zaxis": {
                        "backgroundcolor": "#E5ECF6",
                        "gridcolor": "white",
                        "gridwidth": 2,
                        "linecolor": "white",
                        "showbackground": true,
                        "ticks": "",
                        "zerolinecolor": "white"
                      }
                    },
                    "shapedefaults": {
                      "line": {
                        "color": "#2a3f5f"
                      }
                    },
                    "ternary": {
                      "aaxis": {
                        "gridcolor": "white",
                        "linecolor": "white",
                        "ticks": ""
                      },
                      "baxis": {
                        "gridcolor": "white",
                        "linecolor": "white",
                        "ticks": ""
                      },
                      "bgcolor": "#E5ECF6",
                      "caxis": {
                        "gridcolor": "white",
                        "linecolor": "white",
                        "ticks": ""
                      }
                    },
                    "title": {
                      "x": 0.05
                    },
                    "xaxis": {
                      "automargin": true,
                      "gridcolor": "white",
                      "linecolor": "white",
                      "ticks": "",
                      "title": {
                        "standoff": 15
                      },
                      "zerolinecolor": "white",
                      "zerolinewidth": 2
                    },
                    "yaxis": {
                      "automargin": true,
                      "gridcolor": "white",
                      "linecolor": "white",
                      "ticks": "",
                      "title": {
                        "standoff": 15
                      },
                      "zerolinecolor": "white",
                      "zerolinewidth": 2
                    }
                  }
                },
                "xaxis": {
                  "anchor": "y",
                  "domain": [
                    0,
                    1
                  ],
                  "title": {
                    "text": "temp"
                  }
                },
                "yaxis": {
                  "anchor": "x",
                  "domain": [
                    0,
                    1
                  ],
                  "title": {
                    "text": "value"
                  }
                }
              }
            }
          },
          "metadata": {},
          "output_type": "display_data"
        }
      ],
      "source": [
        "import plotly.express as px\n",
        "# dataset[\"condizioni_meteo\"] = pd.factorize(dataset[\"condizioni_meteo\"])[0]\n",
        "dataframe = pd.DataFrame({\"temp\":[], \"peggiorati\": [], \"migliorati\":[]})\n",
        "nuovo_dataset = {}\n",
        "for item in dataset[\"temperatura_media\"].unique():\n",
        "  queryStringPegg = \"temperatura_media == \"+str(item)+\" and peggiorato == 1 and pshysical_score == 1\"\n",
        "  queryStringMigl = \"temperatura_media == \"+str(item)+\" and peggiorato == 0 and pshysical_score == 1\"\n",
        "\n",
        "  resPeggiorati = dataset.query(queryStringPegg)\n",
        "  resMigliorati = dataset.query(queryStringMigl)\n",
        "  dataframe.loc[len(dataframe.index)] = [item, len(resPeggiorati), len(resMigliorati)]\n",
        "  nuovo_dataset[str(item)] = len(resPeggiorati)\n",
        "\n",
        "dataframe = dataframe.sort_values(\"temp\")\n",
        "#data normalization\n",
        "dataframe[\"peggiorati\"] = dataframe[\"peggiorati\"]/ dataframe[\"peggiorati\"].sum()\n",
        "dataframe[\"migliorati\"] = dataframe[\"migliorati\"]/ dataframe[\"migliorati\"].sum()\n",
        "dataframe.head()\n",
        "fig = px.line(dataframe, x=\"temp\", y=[\"peggiorati\",\"migliorati\"])\n",
        "fig.show()\n",
        "newFig =  px.bar(dataframe, x=\"temp\", y=[\"migliorati\", \"peggiorati\"])\n",
        "newFig.show()"
      ]
    },
    {
      "cell_type": "markdown",
      "metadata": {},
      "source": [
        "Grafico in relazione all'umidità"
      ]
    },
    {
      "cell_type": "code",
      "execution_count": 14,
      "metadata": {},
      "outputs": [
        {
          "data": {
            "application/vnd.plotly.v1+json": {
              "config": {
                "plotlyServerURL": "https://plot.ly"
              },
              "data": [
                {
                  "hovertemplate": "variable=peggiorati<br>temp=%{x}<br>value=%{y}<extra></extra>",
                  "legendgroup": "peggiorati",
                  "line": {
                    "color": "#636efa",
                    "dash": "solid"
                  },
                  "marker": {
                    "symbol": "circle"
                  },
                  "mode": "lines",
                  "name": "peggiorati",
                  "orientation": "v",
                  "showlegend": true,
                  "type": "scatter",
                  "x": [
                    23,
                    25,
                    29,
                    30,
                    31,
                    33,
                    35,
                    36,
                    37,
                    38,
                    39,
                    40,
                    41,
                    42,
                    43,
                    44,
                    45,
                    46,
                    47,
                    48,
                    49,
                    50,
                    51,
                    52,
                    53,
                    54,
                    55,
                    56,
                    57,
                    58,
                    59,
                    60,
                    61,
                    62,
                    63,
                    64,
                    65,
                    66,
                    67,
                    68,
                    69,
                    70,
                    71,
                    72,
                    73,
                    74,
                    75,
                    76,
                    77,
                    78,
                    79,
                    80,
                    81,
                    82,
                    83,
                    84,
                    85,
                    86,
                    87,
                    88,
                    89,
                    90,
                    91,
                    92,
                    93,
                    94,
                    95,
                    96,
                    97,
                    98,
                    99,
                    100
                  ],
                  "xaxis": "x",
                  "y": [
                    0,
                    0,
                    0.005376344086021506,
                    0.005376344086021506,
                    0.005376344086021506,
                    0,
                    0.005376344086021506,
                    0,
                    0,
                    0,
                    0,
                    0,
                    0,
                    0,
                    0,
                    0,
                    0.005376344086021506,
                    0,
                    0.005376344086021506,
                    0.005376344086021506,
                    0.021505376344086023,
                    0.026881720430107527,
                    0.005376344086021506,
                    0.016129032258064516,
                    0,
                    0.016129032258064516,
                    0.021505376344086023,
                    0.04838709677419355,
                    0.03763440860215054,
                    0.010752688172043012,
                    0.016129032258064516,
                    0.010752688172043012,
                    0.016129032258064516,
                    0.021505376344086023,
                    0.010752688172043012,
                    0.026881720430107527,
                    0,
                    0.03225806451612903,
                    0.010752688172043012,
                    0.021505376344086023,
                    0.043010752688172046,
                    0.010752688172043012,
                    0.010752688172043012,
                    0.021505376344086023,
                    0.010752688172043012,
                    0.016129032258064516,
                    0.03225806451612903,
                    0.010752688172043012,
                    0.021505376344086023,
                    0,
                    0,
                    0.021505376344086023,
                    0.026881720430107527,
                    0.005376344086021506,
                    0.021505376344086023,
                    0.016129032258064516,
                    0.03763440860215054,
                    0.010752688172043012,
                    0.010752688172043012,
                    0.021505376344086023,
                    0.043010752688172046,
                    0.016129032258064516,
                    0.010752688172043012,
                    0.03225806451612903,
                    0.03225806451612903,
                    0.005376344086021506,
                    0.016129032258064516,
                    0.03225806451612903,
                    0.016129032258064516,
                    0.005376344086021506,
                    0.010752688172043012,
                    0.021505376344086023
                  ],
                  "yaxis": "y"
                },
                {
                  "hovertemplate": "variable=migliorati<br>temp=%{x}<br>value=%{y}<extra></extra>",
                  "legendgroup": "migliorati",
                  "line": {
                    "color": "#EF553B",
                    "dash": "solid"
                  },
                  "marker": {
                    "symbol": "circle"
                  },
                  "mode": "lines",
                  "name": "migliorati",
                  "orientation": "v",
                  "showlegend": true,
                  "type": "scatter",
                  "x": [
                    23,
                    25,
                    29,
                    30,
                    31,
                    33,
                    35,
                    36,
                    37,
                    38,
                    39,
                    40,
                    41,
                    42,
                    43,
                    44,
                    45,
                    46,
                    47,
                    48,
                    49,
                    50,
                    51,
                    52,
                    53,
                    54,
                    55,
                    56,
                    57,
                    58,
                    59,
                    60,
                    61,
                    62,
                    63,
                    64,
                    65,
                    66,
                    67,
                    68,
                    69,
                    70,
                    71,
                    72,
                    73,
                    74,
                    75,
                    76,
                    77,
                    78,
                    79,
                    80,
                    81,
                    82,
                    83,
                    84,
                    85,
                    86,
                    87,
                    88,
                    89,
                    90,
                    91,
                    92,
                    93,
                    94,
                    95,
                    96,
                    97,
                    98,
                    99,
                    100
                  ],
                  "xaxis": "x",
                  "y": [
                    0.0023014959723820483,
                    0.0011507479861910242,
                    0.0023014959723820483,
                    0.0034522439585730723,
                    0.0034522439585730723,
                    0.0023014959723820483,
                    0.00805523590333717,
                    0.0011507479861910242,
                    0.0011507479861910242,
                    0.0011507479861910242,
                    0.0023014959723820483,
                    0.004602991944764097,
                    0.0023014959723820483,
                    0.005753739930955121,
                    0.0023014959723820483,
                    0.0023014959723820483,
                    0.0023014959723820483,
                    0.006904487917146145,
                    0.006904487917146145,
                    0.00805523590333717,
                    0.0034522439585730723,
                    0.010356731875719217,
                    0.014959723820483314,
                    0.004602991944764097,
                    0.006904487917146145,
                    0.011507479861910242,
                    0.024165707710011506,
                    0.02991944764096663,
                    0.026467203682393557,
                    0.023014959723820484,
                    0.024165707710011506,
                    0.012658227848101266,
                    0.011507479861910242,
                    0.010356731875719217,
                    0.020713463751438434,
                    0.018411967779056387,
                    0.020713463751438434,
                    0.02531645569620253,
                    0.02991944764096663,
                    0.024165707710011506,
                    0.02186421173762946,
                    0.02531645569620253,
                    0.014959723820483314,
                    0.01611047180667434,
                    0.018411967779056387,
                    0.02761795166858458,
                    0.02186421173762946,
                    0.010356731875719217,
                    0.02991944764096663,
                    0.01611047180667434,
                    0.011507479861910242,
                    0.018411967779056387,
                    0.018411967779056387,
                    0.01726121979286536,
                    0.02991944764096663,
                    0.009205983889528193,
                    0.019562715765247412,
                    0.012658227848101266,
                    0.01380897583429229,
                    0.024165707710011506,
                    0.02761795166858458,
                    0.02186421173762946,
                    0.010356731875719217,
                    0.026467203682393557,
                    0.011507479861910242,
                    0.023014959723820484,
                    0.02186421173762946,
                    0.006904487917146145,
                    0.024165707710011506,
                    0.0034522439585730723,
                    0.01380897583429229,
                    0.00805523590333717
                  ],
                  "yaxis": "y"
                }
              ],
              "layout": {
                "legend": {
                  "title": {
                    "text": "variable"
                  },
                  "tracegroupgap": 0
                },
                "margin": {
                  "t": 60
                },
                "template": {
                  "data": {
                    "bar": [
                      {
                        "error_x": {
                          "color": "#2a3f5f"
                        },
                        "error_y": {
                          "color": "#2a3f5f"
                        },
                        "marker": {
                          "line": {
                            "color": "#E5ECF6",
                            "width": 0.5
                          },
                          "pattern": {
                            "fillmode": "overlay",
                            "size": 10,
                            "solidity": 0.2
                          }
                        },
                        "type": "bar"
                      }
                    ],
                    "barpolar": [
                      {
                        "marker": {
                          "line": {
                            "color": "#E5ECF6",
                            "width": 0.5
                          },
                          "pattern": {
                            "fillmode": "overlay",
                            "size": 10,
                            "solidity": 0.2
                          }
                        },
                        "type": "barpolar"
                      }
                    ],
                    "carpet": [
                      {
                        "aaxis": {
                          "endlinecolor": "#2a3f5f",
                          "gridcolor": "white",
                          "linecolor": "white",
                          "minorgridcolor": "white",
                          "startlinecolor": "#2a3f5f"
                        },
                        "baxis": {
                          "endlinecolor": "#2a3f5f",
                          "gridcolor": "white",
                          "linecolor": "white",
                          "minorgridcolor": "white",
                          "startlinecolor": "#2a3f5f"
                        },
                        "type": "carpet"
                      }
                    ],
                    "choropleth": [
                      {
                        "colorbar": {
                          "outlinewidth": 0,
                          "ticks": ""
                        },
                        "type": "choropleth"
                      }
                    ],
                    "contour": [
                      {
                        "colorbar": {
                          "outlinewidth": 0,
                          "ticks": ""
                        },
                        "colorscale": [
                          [
                            0,
                            "#0d0887"
                          ],
                          [
                            0.1111111111111111,
                            "#46039f"
                          ],
                          [
                            0.2222222222222222,
                            "#7201a8"
                          ],
                          [
                            0.3333333333333333,
                            "#9c179e"
                          ],
                          [
                            0.4444444444444444,
                            "#bd3786"
                          ],
                          [
                            0.5555555555555556,
                            "#d8576b"
                          ],
                          [
                            0.6666666666666666,
                            "#ed7953"
                          ],
                          [
                            0.7777777777777778,
                            "#fb9f3a"
                          ],
                          [
                            0.8888888888888888,
                            "#fdca26"
                          ],
                          [
                            1,
                            "#f0f921"
                          ]
                        ],
                        "type": "contour"
                      }
                    ],
                    "contourcarpet": [
                      {
                        "colorbar": {
                          "outlinewidth": 0,
                          "ticks": ""
                        },
                        "type": "contourcarpet"
                      }
                    ],
                    "heatmap": [
                      {
                        "colorbar": {
                          "outlinewidth": 0,
                          "ticks": ""
                        },
                        "colorscale": [
                          [
                            0,
                            "#0d0887"
                          ],
                          [
                            0.1111111111111111,
                            "#46039f"
                          ],
                          [
                            0.2222222222222222,
                            "#7201a8"
                          ],
                          [
                            0.3333333333333333,
                            "#9c179e"
                          ],
                          [
                            0.4444444444444444,
                            "#bd3786"
                          ],
                          [
                            0.5555555555555556,
                            "#d8576b"
                          ],
                          [
                            0.6666666666666666,
                            "#ed7953"
                          ],
                          [
                            0.7777777777777778,
                            "#fb9f3a"
                          ],
                          [
                            0.8888888888888888,
                            "#fdca26"
                          ],
                          [
                            1,
                            "#f0f921"
                          ]
                        ],
                        "type": "heatmap"
                      }
                    ],
                    "heatmapgl": [
                      {
                        "colorbar": {
                          "outlinewidth": 0,
                          "ticks": ""
                        },
                        "colorscale": [
                          [
                            0,
                            "#0d0887"
                          ],
                          [
                            0.1111111111111111,
                            "#46039f"
                          ],
                          [
                            0.2222222222222222,
                            "#7201a8"
                          ],
                          [
                            0.3333333333333333,
                            "#9c179e"
                          ],
                          [
                            0.4444444444444444,
                            "#bd3786"
                          ],
                          [
                            0.5555555555555556,
                            "#d8576b"
                          ],
                          [
                            0.6666666666666666,
                            "#ed7953"
                          ],
                          [
                            0.7777777777777778,
                            "#fb9f3a"
                          ],
                          [
                            0.8888888888888888,
                            "#fdca26"
                          ],
                          [
                            1,
                            "#f0f921"
                          ]
                        ],
                        "type": "heatmapgl"
                      }
                    ],
                    "histogram": [
                      {
                        "marker": {
                          "pattern": {
                            "fillmode": "overlay",
                            "size": 10,
                            "solidity": 0.2
                          }
                        },
                        "type": "histogram"
                      }
                    ],
                    "histogram2d": [
                      {
                        "colorbar": {
                          "outlinewidth": 0,
                          "ticks": ""
                        },
                        "colorscale": [
                          [
                            0,
                            "#0d0887"
                          ],
                          [
                            0.1111111111111111,
                            "#46039f"
                          ],
                          [
                            0.2222222222222222,
                            "#7201a8"
                          ],
                          [
                            0.3333333333333333,
                            "#9c179e"
                          ],
                          [
                            0.4444444444444444,
                            "#bd3786"
                          ],
                          [
                            0.5555555555555556,
                            "#d8576b"
                          ],
                          [
                            0.6666666666666666,
                            "#ed7953"
                          ],
                          [
                            0.7777777777777778,
                            "#fb9f3a"
                          ],
                          [
                            0.8888888888888888,
                            "#fdca26"
                          ],
                          [
                            1,
                            "#f0f921"
                          ]
                        ],
                        "type": "histogram2d"
                      }
                    ],
                    "histogram2dcontour": [
                      {
                        "colorbar": {
                          "outlinewidth": 0,
                          "ticks": ""
                        },
                        "colorscale": [
                          [
                            0,
                            "#0d0887"
                          ],
                          [
                            0.1111111111111111,
                            "#46039f"
                          ],
                          [
                            0.2222222222222222,
                            "#7201a8"
                          ],
                          [
                            0.3333333333333333,
                            "#9c179e"
                          ],
                          [
                            0.4444444444444444,
                            "#bd3786"
                          ],
                          [
                            0.5555555555555556,
                            "#d8576b"
                          ],
                          [
                            0.6666666666666666,
                            "#ed7953"
                          ],
                          [
                            0.7777777777777778,
                            "#fb9f3a"
                          ],
                          [
                            0.8888888888888888,
                            "#fdca26"
                          ],
                          [
                            1,
                            "#f0f921"
                          ]
                        ],
                        "type": "histogram2dcontour"
                      }
                    ],
                    "mesh3d": [
                      {
                        "colorbar": {
                          "outlinewidth": 0,
                          "ticks": ""
                        },
                        "type": "mesh3d"
                      }
                    ],
                    "parcoords": [
                      {
                        "line": {
                          "colorbar": {
                            "outlinewidth": 0,
                            "ticks": ""
                          }
                        },
                        "type": "parcoords"
                      }
                    ],
                    "pie": [
                      {
                        "automargin": true,
                        "type": "pie"
                      }
                    ],
                    "scatter": [
                      {
                        "marker": {
                          "colorbar": {
                            "outlinewidth": 0,
                            "ticks": ""
                          }
                        },
                        "type": "scatter"
                      }
                    ],
                    "scatter3d": [
                      {
                        "line": {
                          "colorbar": {
                            "outlinewidth": 0,
                            "ticks": ""
                          }
                        },
                        "marker": {
                          "colorbar": {
                            "outlinewidth": 0,
                            "ticks": ""
                          }
                        },
                        "type": "scatter3d"
                      }
                    ],
                    "scattercarpet": [
                      {
                        "marker": {
                          "colorbar": {
                            "outlinewidth": 0,
                            "ticks": ""
                          }
                        },
                        "type": "scattercarpet"
                      }
                    ],
                    "scattergeo": [
                      {
                        "marker": {
                          "colorbar": {
                            "outlinewidth": 0,
                            "ticks": ""
                          }
                        },
                        "type": "scattergeo"
                      }
                    ],
                    "scattergl": [
                      {
                        "marker": {
                          "colorbar": {
                            "outlinewidth": 0,
                            "ticks": ""
                          }
                        },
                        "type": "scattergl"
                      }
                    ],
                    "scattermapbox": [
                      {
                        "marker": {
                          "colorbar": {
                            "outlinewidth": 0,
                            "ticks": ""
                          }
                        },
                        "type": "scattermapbox"
                      }
                    ],
                    "scatterpolar": [
                      {
                        "marker": {
                          "colorbar": {
                            "outlinewidth": 0,
                            "ticks": ""
                          }
                        },
                        "type": "scatterpolar"
                      }
                    ],
                    "scatterpolargl": [
                      {
                        "marker": {
                          "colorbar": {
                            "outlinewidth": 0,
                            "ticks": ""
                          }
                        },
                        "type": "scatterpolargl"
                      }
                    ],
                    "scatterternary": [
                      {
                        "marker": {
                          "colorbar": {
                            "outlinewidth": 0,
                            "ticks": ""
                          }
                        },
                        "type": "scatterternary"
                      }
                    ],
                    "surface": [
                      {
                        "colorbar": {
                          "outlinewidth": 0,
                          "ticks": ""
                        },
                        "colorscale": [
                          [
                            0,
                            "#0d0887"
                          ],
                          [
                            0.1111111111111111,
                            "#46039f"
                          ],
                          [
                            0.2222222222222222,
                            "#7201a8"
                          ],
                          [
                            0.3333333333333333,
                            "#9c179e"
                          ],
                          [
                            0.4444444444444444,
                            "#bd3786"
                          ],
                          [
                            0.5555555555555556,
                            "#d8576b"
                          ],
                          [
                            0.6666666666666666,
                            "#ed7953"
                          ],
                          [
                            0.7777777777777778,
                            "#fb9f3a"
                          ],
                          [
                            0.8888888888888888,
                            "#fdca26"
                          ],
                          [
                            1,
                            "#f0f921"
                          ]
                        ],
                        "type": "surface"
                      }
                    ],
                    "table": [
                      {
                        "cells": {
                          "fill": {
                            "color": "#EBF0F8"
                          },
                          "line": {
                            "color": "white"
                          }
                        },
                        "header": {
                          "fill": {
                            "color": "#C8D4E3"
                          },
                          "line": {
                            "color": "white"
                          }
                        },
                        "type": "table"
                      }
                    ]
                  },
                  "layout": {
                    "annotationdefaults": {
                      "arrowcolor": "#2a3f5f",
                      "arrowhead": 0,
                      "arrowwidth": 1
                    },
                    "autotypenumbers": "strict",
                    "coloraxis": {
                      "colorbar": {
                        "outlinewidth": 0,
                        "ticks": ""
                      }
                    },
                    "colorscale": {
                      "diverging": [
                        [
                          0,
                          "#8e0152"
                        ],
                        [
                          0.1,
                          "#c51b7d"
                        ],
                        [
                          0.2,
                          "#de77ae"
                        ],
                        [
                          0.3,
                          "#f1b6da"
                        ],
                        [
                          0.4,
                          "#fde0ef"
                        ],
                        [
                          0.5,
                          "#f7f7f7"
                        ],
                        [
                          0.6,
                          "#e6f5d0"
                        ],
                        [
                          0.7,
                          "#b8e186"
                        ],
                        [
                          0.8,
                          "#7fbc41"
                        ],
                        [
                          0.9,
                          "#4d9221"
                        ],
                        [
                          1,
                          "#276419"
                        ]
                      ],
                      "sequential": [
                        [
                          0,
                          "#0d0887"
                        ],
                        [
                          0.1111111111111111,
                          "#46039f"
                        ],
                        [
                          0.2222222222222222,
                          "#7201a8"
                        ],
                        [
                          0.3333333333333333,
                          "#9c179e"
                        ],
                        [
                          0.4444444444444444,
                          "#bd3786"
                        ],
                        [
                          0.5555555555555556,
                          "#d8576b"
                        ],
                        [
                          0.6666666666666666,
                          "#ed7953"
                        ],
                        [
                          0.7777777777777778,
                          "#fb9f3a"
                        ],
                        [
                          0.8888888888888888,
                          "#fdca26"
                        ],
                        [
                          1,
                          "#f0f921"
                        ]
                      ],
                      "sequentialminus": [
                        [
                          0,
                          "#0d0887"
                        ],
                        [
                          0.1111111111111111,
                          "#46039f"
                        ],
                        [
                          0.2222222222222222,
                          "#7201a8"
                        ],
                        [
                          0.3333333333333333,
                          "#9c179e"
                        ],
                        [
                          0.4444444444444444,
                          "#bd3786"
                        ],
                        [
                          0.5555555555555556,
                          "#d8576b"
                        ],
                        [
                          0.6666666666666666,
                          "#ed7953"
                        ],
                        [
                          0.7777777777777778,
                          "#fb9f3a"
                        ],
                        [
                          0.8888888888888888,
                          "#fdca26"
                        ],
                        [
                          1,
                          "#f0f921"
                        ]
                      ]
                    },
                    "colorway": [
                      "#636efa",
                      "#EF553B",
                      "#00cc96",
                      "#ab63fa",
                      "#FFA15A",
                      "#19d3f3",
                      "#FF6692",
                      "#B6E880",
                      "#FF97FF",
                      "#FECB52"
                    ],
                    "font": {
                      "color": "#2a3f5f"
                    },
                    "geo": {
                      "bgcolor": "white",
                      "lakecolor": "white",
                      "landcolor": "#E5ECF6",
                      "showlakes": true,
                      "showland": true,
                      "subunitcolor": "white"
                    },
                    "hoverlabel": {
                      "align": "left"
                    },
                    "hovermode": "closest",
                    "mapbox": {
                      "style": "light"
                    },
                    "paper_bgcolor": "white",
                    "plot_bgcolor": "#E5ECF6",
                    "polar": {
                      "angularaxis": {
                        "gridcolor": "white",
                        "linecolor": "white",
                        "ticks": ""
                      },
                      "bgcolor": "#E5ECF6",
                      "radialaxis": {
                        "gridcolor": "white",
                        "linecolor": "white",
                        "ticks": ""
                      }
                    },
                    "scene": {
                      "xaxis": {
                        "backgroundcolor": "#E5ECF6",
                        "gridcolor": "white",
                        "gridwidth": 2,
                        "linecolor": "white",
                        "showbackground": true,
                        "ticks": "",
                        "zerolinecolor": "white"
                      },
                      "yaxis": {
                        "backgroundcolor": "#E5ECF6",
                        "gridcolor": "white",
                        "gridwidth": 2,
                        "linecolor": "white",
                        "showbackground": true,
                        "ticks": "",
                        "zerolinecolor": "white"
                      },
                      "zaxis": {
                        "backgroundcolor": "#E5ECF6",
                        "gridcolor": "white",
                        "gridwidth": 2,
                        "linecolor": "white",
                        "showbackground": true,
                        "ticks": "",
                        "zerolinecolor": "white"
                      }
                    },
                    "shapedefaults": {
                      "line": {
                        "color": "#2a3f5f"
                      }
                    },
                    "ternary": {
                      "aaxis": {
                        "gridcolor": "white",
                        "linecolor": "white",
                        "ticks": ""
                      },
                      "baxis": {
                        "gridcolor": "white",
                        "linecolor": "white",
                        "ticks": ""
                      },
                      "bgcolor": "#E5ECF6",
                      "caxis": {
                        "gridcolor": "white",
                        "linecolor": "white",
                        "ticks": ""
                      }
                    },
                    "title": {
                      "x": 0.05
                    },
                    "xaxis": {
                      "automargin": true,
                      "gridcolor": "white",
                      "linecolor": "white",
                      "ticks": "",
                      "title": {
                        "standoff": 15
                      },
                      "zerolinecolor": "white",
                      "zerolinewidth": 2
                    },
                    "yaxis": {
                      "automargin": true,
                      "gridcolor": "white",
                      "linecolor": "white",
                      "ticks": "",
                      "title": {
                        "standoff": 15
                      },
                      "zerolinecolor": "white",
                      "zerolinewidth": 2
                    }
                  }
                },
                "xaxis": {
                  "anchor": "y",
                  "domain": [
                    0,
                    1
                  ],
                  "title": {
                    "text": "temp"
                  }
                },
                "yaxis": {
                  "anchor": "x",
                  "domain": [
                    0,
                    1
                  ],
                  "title": {
                    "text": "value"
                  }
                }
              }
            }
          },
          "metadata": {},
          "output_type": "display_data"
        },
        {
          "data": {
            "application/vnd.plotly.v1+json": {
              "config": {
                "plotlyServerURL": "https://plot.ly"
              },
              "data": [
                {
                  "alignmentgroup": "True",
                  "hovertemplate": "variable=migliorati<br>temp=%{x}<br>value=%{y}<extra></extra>",
                  "legendgroup": "migliorati",
                  "marker": {
                    "color": "#636efa",
                    "pattern": {
                      "shape": ""
                    }
                  },
                  "name": "migliorati",
                  "offsetgroup": "migliorati",
                  "orientation": "v",
                  "showlegend": true,
                  "textposition": "auto",
                  "type": "bar",
                  "x": [
                    23,
                    25,
                    29,
                    30,
                    31,
                    33,
                    35,
                    36,
                    37,
                    38,
                    39,
                    40,
                    41,
                    42,
                    43,
                    44,
                    45,
                    46,
                    47,
                    48,
                    49,
                    50,
                    51,
                    52,
                    53,
                    54,
                    55,
                    56,
                    57,
                    58,
                    59,
                    60,
                    61,
                    62,
                    63,
                    64,
                    65,
                    66,
                    67,
                    68,
                    69,
                    70,
                    71,
                    72,
                    73,
                    74,
                    75,
                    76,
                    77,
                    78,
                    79,
                    80,
                    81,
                    82,
                    83,
                    84,
                    85,
                    86,
                    87,
                    88,
                    89,
                    90,
                    91,
                    92,
                    93,
                    94,
                    95,
                    96,
                    97,
                    98,
                    99,
                    100
                  ],
                  "xaxis": "x",
                  "y": [
                    0.0023014959723820483,
                    0.0011507479861910242,
                    0.0023014959723820483,
                    0.0034522439585730723,
                    0.0034522439585730723,
                    0.0023014959723820483,
                    0.00805523590333717,
                    0.0011507479861910242,
                    0.0011507479861910242,
                    0.0011507479861910242,
                    0.0023014959723820483,
                    0.004602991944764097,
                    0.0023014959723820483,
                    0.005753739930955121,
                    0.0023014959723820483,
                    0.0023014959723820483,
                    0.0023014959723820483,
                    0.006904487917146145,
                    0.006904487917146145,
                    0.00805523590333717,
                    0.0034522439585730723,
                    0.010356731875719217,
                    0.014959723820483314,
                    0.004602991944764097,
                    0.006904487917146145,
                    0.011507479861910242,
                    0.024165707710011506,
                    0.02991944764096663,
                    0.026467203682393557,
                    0.023014959723820484,
                    0.024165707710011506,
                    0.012658227848101266,
                    0.011507479861910242,
                    0.010356731875719217,
                    0.020713463751438434,
                    0.018411967779056387,
                    0.020713463751438434,
                    0.02531645569620253,
                    0.02991944764096663,
                    0.024165707710011506,
                    0.02186421173762946,
                    0.02531645569620253,
                    0.014959723820483314,
                    0.01611047180667434,
                    0.018411967779056387,
                    0.02761795166858458,
                    0.02186421173762946,
                    0.010356731875719217,
                    0.02991944764096663,
                    0.01611047180667434,
                    0.011507479861910242,
                    0.018411967779056387,
                    0.018411967779056387,
                    0.01726121979286536,
                    0.02991944764096663,
                    0.009205983889528193,
                    0.019562715765247412,
                    0.012658227848101266,
                    0.01380897583429229,
                    0.024165707710011506,
                    0.02761795166858458,
                    0.02186421173762946,
                    0.010356731875719217,
                    0.026467203682393557,
                    0.011507479861910242,
                    0.023014959723820484,
                    0.02186421173762946,
                    0.006904487917146145,
                    0.024165707710011506,
                    0.0034522439585730723,
                    0.01380897583429229,
                    0.00805523590333717
                  ],
                  "yaxis": "y"
                },
                {
                  "alignmentgroup": "True",
                  "hovertemplate": "variable=peggiorati<br>temp=%{x}<br>value=%{y}<extra></extra>",
                  "legendgroup": "peggiorati",
                  "marker": {
                    "color": "#EF553B",
                    "pattern": {
                      "shape": ""
                    }
                  },
                  "name": "peggiorati",
                  "offsetgroup": "peggiorati",
                  "orientation": "v",
                  "showlegend": true,
                  "textposition": "auto",
                  "type": "bar",
                  "x": [
                    23,
                    25,
                    29,
                    30,
                    31,
                    33,
                    35,
                    36,
                    37,
                    38,
                    39,
                    40,
                    41,
                    42,
                    43,
                    44,
                    45,
                    46,
                    47,
                    48,
                    49,
                    50,
                    51,
                    52,
                    53,
                    54,
                    55,
                    56,
                    57,
                    58,
                    59,
                    60,
                    61,
                    62,
                    63,
                    64,
                    65,
                    66,
                    67,
                    68,
                    69,
                    70,
                    71,
                    72,
                    73,
                    74,
                    75,
                    76,
                    77,
                    78,
                    79,
                    80,
                    81,
                    82,
                    83,
                    84,
                    85,
                    86,
                    87,
                    88,
                    89,
                    90,
                    91,
                    92,
                    93,
                    94,
                    95,
                    96,
                    97,
                    98,
                    99,
                    100
                  ],
                  "xaxis": "x",
                  "y": [
                    0,
                    0,
                    0.005376344086021506,
                    0.005376344086021506,
                    0.005376344086021506,
                    0,
                    0.005376344086021506,
                    0,
                    0,
                    0,
                    0,
                    0,
                    0,
                    0,
                    0,
                    0,
                    0.005376344086021506,
                    0,
                    0.005376344086021506,
                    0.005376344086021506,
                    0.021505376344086023,
                    0.026881720430107527,
                    0.005376344086021506,
                    0.016129032258064516,
                    0,
                    0.016129032258064516,
                    0.021505376344086023,
                    0.04838709677419355,
                    0.03763440860215054,
                    0.010752688172043012,
                    0.016129032258064516,
                    0.010752688172043012,
                    0.016129032258064516,
                    0.021505376344086023,
                    0.010752688172043012,
                    0.026881720430107527,
                    0,
                    0.03225806451612903,
                    0.010752688172043012,
                    0.021505376344086023,
                    0.043010752688172046,
                    0.010752688172043012,
                    0.010752688172043012,
                    0.021505376344086023,
                    0.010752688172043012,
                    0.016129032258064516,
                    0.03225806451612903,
                    0.010752688172043012,
                    0.021505376344086023,
                    0,
                    0,
                    0.021505376344086023,
                    0.026881720430107527,
                    0.005376344086021506,
                    0.021505376344086023,
                    0.016129032258064516,
                    0.03763440860215054,
                    0.010752688172043012,
                    0.010752688172043012,
                    0.021505376344086023,
                    0.043010752688172046,
                    0.016129032258064516,
                    0.010752688172043012,
                    0.03225806451612903,
                    0.03225806451612903,
                    0.005376344086021506,
                    0.016129032258064516,
                    0.03225806451612903,
                    0.016129032258064516,
                    0.005376344086021506,
                    0.010752688172043012,
                    0.021505376344086023
                  ],
                  "yaxis": "y"
                }
              ],
              "layout": {
                "barmode": "relative",
                "legend": {
                  "title": {
                    "text": "variable"
                  },
                  "tracegroupgap": 0
                },
                "margin": {
                  "t": 60
                },
                "template": {
                  "data": {
                    "bar": [
                      {
                        "error_x": {
                          "color": "#2a3f5f"
                        },
                        "error_y": {
                          "color": "#2a3f5f"
                        },
                        "marker": {
                          "line": {
                            "color": "#E5ECF6",
                            "width": 0.5
                          },
                          "pattern": {
                            "fillmode": "overlay",
                            "size": 10,
                            "solidity": 0.2
                          }
                        },
                        "type": "bar"
                      }
                    ],
                    "barpolar": [
                      {
                        "marker": {
                          "line": {
                            "color": "#E5ECF6",
                            "width": 0.5
                          },
                          "pattern": {
                            "fillmode": "overlay",
                            "size": 10,
                            "solidity": 0.2
                          }
                        },
                        "type": "barpolar"
                      }
                    ],
                    "carpet": [
                      {
                        "aaxis": {
                          "endlinecolor": "#2a3f5f",
                          "gridcolor": "white",
                          "linecolor": "white",
                          "minorgridcolor": "white",
                          "startlinecolor": "#2a3f5f"
                        },
                        "baxis": {
                          "endlinecolor": "#2a3f5f",
                          "gridcolor": "white",
                          "linecolor": "white",
                          "minorgridcolor": "white",
                          "startlinecolor": "#2a3f5f"
                        },
                        "type": "carpet"
                      }
                    ],
                    "choropleth": [
                      {
                        "colorbar": {
                          "outlinewidth": 0,
                          "ticks": ""
                        },
                        "type": "choropleth"
                      }
                    ],
                    "contour": [
                      {
                        "colorbar": {
                          "outlinewidth": 0,
                          "ticks": ""
                        },
                        "colorscale": [
                          [
                            0,
                            "#0d0887"
                          ],
                          [
                            0.1111111111111111,
                            "#46039f"
                          ],
                          [
                            0.2222222222222222,
                            "#7201a8"
                          ],
                          [
                            0.3333333333333333,
                            "#9c179e"
                          ],
                          [
                            0.4444444444444444,
                            "#bd3786"
                          ],
                          [
                            0.5555555555555556,
                            "#d8576b"
                          ],
                          [
                            0.6666666666666666,
                            "#ed7953"
                          ],
                          [
                            0.7777777777777778,
                            "#fb9f3a"
                          ],
                          [
                            0.8888888888888888,
                            "#fdca26"
                          ],
                          [
                            1,
                            "#f0f921"
                          ]
                        ],
                        "type": "contour"
                      }
                    ],
                    "contourcarpet": [
                      {
                        "colorbar": {
                          "outlinewidth": 0,
                          "ticks": ""
                        },
                        "type": "contourcarpet"
                      }
                    ],
                    "heatmap": [
                      {
                        "colorbar": {
                          "outlinewidth": 0,
                          "ticks": ""
                        },
                        "colorscale": [
                          [
                            0,
                            "#0d0887"
                          ],
                          [
                            0.1111111111111111,
                            "#46039f"
                          ],
                          [
                            0.2222222222222222,
                            "#7201a8"
                          ],
                          [
                            0.3333333333333333,
                            "#9c179e"
                          ],
                          [
                            0.4444444444444444,
                            "#bd3786"
                          ],
                          [
                            0.5555555555555556,
                            "#d8576b"
                          ],
                          [
                            0.6666666666666666,
                            "#ed7953"
                          ],
                          [
                            0.7777777777777778,
                            "#fb9f3a"
                          ],
                          [
                            0.8888888888888888,
                            "#fdca26"
                          ],
                          [
                            1,
                            "#f0f921"
                          ]
                        ],
                        "type": "heatmap"
                      }
                    ],
                    "heatmapgl": [
                      {
                        "colorbar": {
                          "outlinewidth": 0,
                          "ticks": ""
                        },
                        "colorscale": [
                          [
                            0,
                            "#0d0887"
                          ],
                          [
                            0.1111111111111111,
                            "#46039f"
                          ],
                          [
                            0.2222222222222222,
                            "#7201a8"
                          ],
                          [
                            0.3333333333333333,
                            "#9c179e"
                          ],
                          [
                            0.4444444444444444,
                            "#bd3786"
                          ],
                          [
                            0.5555555555555556,
                            "#d8576b"
                          ],
                          [
                            0.6666666666666666,
                            "#ed7953"
                          ],
                          [
                            0.7777777777777778,
                            "#fb9f3a"
                          ],
                          [
                            0.8888888888888888,
                            "#fdca26"
                          ],
                          [
                            1,
                            "#f0f921"
                          ]
                        ],
                        "type": "heatmapgl"
                      }
                    ],
                    "histogram": [
                      {
                        "marker": {
                          "pattern": {
                            "fillmode": "overlay",
                            "size": 10,
                            "solidity": 0.2
                          }
                        },
                        "type": "histogram"
                      }
                    ],
                    "histogram2d": [
                      {
                        "colorbar": {
                          "outlinewidth": 0,
                          "ticks": ""
                        },
                        "colorscale": [
                          [
                            0,
                            "#0d0887"
                          ],
                          [
                            0.1111111111111111,
                            "#46039f"
                          ],
                          [
                            0.2222222222222222,
                            "#7201a8"
                          ],
                          [
                            0.3333333333333333,
                            "#9c179e"
                          ],
                          [
                            0.4444444444444444,
                            "#bd3786"
                          ],
                          [
                            0.5555555555555556,
                            "#d8576b"
                          ],
                          [
                            0.6666666666666666,
                            "#ed7953"
                          ],
                          [
                            0.7777777777777778,
                            "#fb9f3a"
                          ],
                          [
                            0.8888888888888888,
                            "#fdca26"
                          ],
                          [
                            1,
                            "#f0f921"
                          ]
                        ],
                        "type": "histogram2d"
                      }
                    ],
                    "histogram2dcontour": [
                      {
                        "colorbar": {
                          "outlinewidth": 0,
                          "ticks": ""
                        },
                        "colorscale": [
                          [
                            0,
                            "#0d0887"
                          ],
                          [
                            0.1111111111111111,
                            "#46039f"
                          ],
                          [
                            0.2222222222222222,
                            "#7201a8"
                          ],
                          [
                            0.3333333333333333,
                            "#9c179e"
                          ],
                          [
                            0.4444444444444444,
                            "#bd3786"
                          ],
                          [
                            0.5555555555555556,
                            "#d8576b"
                          ],
                          [
                            0.6666666666666666,
                            "#ed7953"
                          ],
                          [
                            0.7777777777777778,
                            "#fb9f3a"
                          ],
                          [
                            0.8888888888888888,
                            "#fdca26"
                          ],
                          [
                            1,
                            "#f0f921"
                          ]
                        ],
                        "type": "histogram2dcontour"
                      }
                    ],
                    "mesh3d": [
                      {
                        "colorbar": {
                          "outlinewidth": 0,
                          "ticks": ""
                        },
                        "type": "mesh3d"
                      }
                    ],
                    "parcoords": [
                      {
                        "line": {
                          "colorbar": {
                            "outlinewidth": 0,
                            "ticks": ""
                          }
                        },
                        "type": "parcoords"
                      }
                    ],
                    "pie": [
                      {
                        "automargin": true,
                        "type": "pie"
                      }
                    ],
                    "scatter": [
                      {
                        "marker": {
                          "colorbar": {
                            "outlinewidth": 0,
                            "ticks": ""
                          }
                        },
                        "type": "scatter"
                      }
                    ],
                    "scatter3d": [
                      {
                        "line": {
                          "colorbar": {
                            "outlinewidth": 0,
                            "ticks": ""
                          }
                        },
                        "marker": {
                          "colorbar": {
                            "outlinewidth": 0,
                            "ticks": ""
                          }
                        },
                        "type": "scatter3d"
                      }
                    ],
                    "scattercarpet": [
                      {
                        "marker": {
                          "colorbar": {
                            "outlinewidth": 0,
                            "ticks": ""
                          }
                        },
                        "type": "scattercarpet"
                      }
                    ],
                    "scattergeo": [
                      {
                        "marker": {
                          "colorbar": {
                            "outlinewidth": 0,
                            "ticks": ""
                          }
                        },
                        "type": "scattergeo"
                      }
                    ],
                    "scattergl": [
                      {
                        "marker": {
                          "colorbar": {
                            "outlinewidth": 0,
                            "ticks": ""
                          }
                        },
                        "type": "scattergl"
                      }
                    ],
                    "scattermapbox": [
                      {
                        "marker": {
                          "colorbar": {
                            "outlinewidth": 0,
                            "ticks": ""
                          }
                        },
                        "type": "scattermapbox"
                      }
                    ],
                    "scatterpolar": [
                      {
                        "marker": {
                          "colorbar": {
                            "outlinewidth": 0,
                            "ticks": ""
                          }
                        },
                        "type": "scatterpolar"
                      }
                    ],
                    "scatterpolargl": [
                      {
                        "marker": {
                          "colorbar": {
                            "outlinewidth": 0,
                            "ticks": ""
                          }
                        },
                        "type": "scatterpolargl"
                      }
                    ],
                    "scatterternary": [
                      {
                        "marker": {
                          "colorbar": {
                            "outlinewidth": 0,
                            "ticks": ""
                          }
                        },
                        "type": "scatterternary"
                      }
                    ],
                    "surface": [
                      {
                        "colorbar": {
                          "outlinewidth": 0,
                          "ticks": ""
                        },
                        "colorscale": [
                          [
                            0,
                            "#0d0887"
                          ],
                          [
                            0.1111111111111111,
                            "#46039f"
                          ],
                          [
                            0.2222222222222222,
                            "#7201a8"
                          ],
                          [
                            0.3333333333333333,
                            "#9c179e"
                          ],
                          [
                            0.4444444444444444,
                            "#bd3786"
                          ],
                          [
                            0.5555555555555556,
                            "#d8576b"
                          ],
                          [
                            0.6666666666666666,
                            "#ed7953"
                          ],
                          [
                            0.7777777777777778,
                            "#fb9f3a"
                          ],
                          [
                            0.8888888888888888,
                            "#fdca26"
                          ],
                          [
                            1,
                            "#f0f921"
                          ]
                        ],
                        "type": "surface"
                      }
                    ],
                    "table": [
                      {
                        "cells": {
                          "fill": {
                            "color": "#EBF0F8"
                          },
                          "line": {
                            "color": "white"
                          }
                        },
                        "header": {
                          "fill": {
                            "color": "#C8D4E3"
                          },
                          "line": {
                            "color": "white"
                          }
                        },
                        "type": "table"
                      }
                    ]
                  },
                  "layout": {
                    "annotationdefaults": {
                      "arrowcolor": "#2a3f5f",
                      "arrowhead": 0,
                      "arrowwidth": 1
                    },
                    "autotypenumbers": "strict",
                    "coloraxis": {
                      "colorbar": {
                        "outlinewidth": 0,
                        "ticks": ""
                      }
                    },
                    "colorscale": {
                      "diverging": [
                        [
                          0,
                          "#8e0152"
                        ],
                        [
                          0.1,
                          "#c51b7d"
                        ],
                        [
                          0.2,
                          "#de77ae"
                        ],
                        [
                          0.3,
                          "#f1b6da"
                        ],
                        [
                          0.4,
                          "#fde0ef"
                        ],
                        [
                          0.5,
                          "#f7f7f7"
                        ],
                        [
                          0.6,
                          "#e6f5d0"
                        ],
                        [
                          0.7,
                          "#b8e186"
                        ],
                        [
                          0.8,
                          "#7fbc41"
                        ],
                        [
                          0.9,
                          "#4d9221"
                        ],
                        [
                          1,
                          "#276419"
                        ]
                      ],
                      "sequential": [
                        [
                          0,
                          "#0d0887"
                        ],
                        [
                          0.1111111111111111,
                          "#46039f"
                        ],
                        [
                          0.2222222222222222,
                          "#7201a8"
                        ],
                        [
                          0.3333333333333333,
                          "#9c179e"
                        ],
                        [
                          0.4444444444444444,
                          "#bd3786"
                        ],
                        [
                          0.5555555555555556,
                          "#d8576b"
                        ],
                        [
                          0.6666666666666666,
                          "#ed7953"
                        ],
                        [
                          0.7777777777777778,
                          "#fb9f3a"
                        ],
                        [
                          0.8888888888888888,
                          "#fdca26"
                        ],
                        [
                          1,
                          "#f0f921"
                        ]
                      ],
                      "sequentialminus": [
                        [
                          0,
                          "#0d0887"
                        ],
                        [
                          0.1111111111111111,
                          "#46039f"
                        ],
                        [
                          0.2222222222222222,
                          "#7201a8"
                        ],
                        [
                          0.3333333333333333,
                          "#9c179e"
                        ],
                        [
                          0.4444444444444444,
                          "#bd3786"
                        ],
                        [
                          0.5555555555555556,
                          "#d8576b"
                        ],
                        [
                          0.6666666666666666,
                          "#ed7953"
                        ],
                        [
                          0.7777777777777778,
                          "#fb9f3a"
                        ],
                        [
                          0.8888888888888888,
                          "#fdca26"
                        ],
                        [
                          1,
                          "#f0f921"
                        ]
                      ]
                    },
                    "colorway": [
                      "#636efa",
                      "#EF553B",
                      "#00cc96",
                      "#ab63fa",
                      "#FFA15A",
                      "#19d3f3",
                      "#FF6692",
                      "#B6E880",
                      "#FF97FF",
                      "#FECB52"
                    ],
                    "font": {
                      "color": "#2a3f5f"
                    },
                    "geo": {
                      "bgcolor": "white",
                      "lakecolor": "white",
                      "landcolor": "#E5ECF6",
                      "showlakes": true,
                      "showland": true,
                      "subunitcolor": "white"
                    },
                    "hoverlabel": {
                      "align": "left"
                    },
                    "hovermode": "closest",
                    "mapbox": {
                      "style": "light"
                    },
                    "paper_bgcolor": "white",
                    "plot_bgcolor": "#E5ECF6",
                    "polar": {
                      "angularaxis": {
                        "gridcolor": "white",
                        "linecolor": "white",
                        "ticks": ""
                      },
                      "bgcolor": "#E5ECF6",
                      "radialaxis": {
                        "gridcolor": "white",
                        "linecolor": "white",
                        "ticks": ""
                      }
                    },
                    "scene": {
                      "xaxis": {
                        "backgroundcolor": "#E5ECF6",
                        "gridcolor": "white",
                        "gridwidth": 2,
                        "linecolor": "white",
                        "showbackground": true,
                        "ticks": "",
                        "zerolinecolor": "white"
                      },
                      "yaxis": {
                        "backgroundcolor": "#E5ECF6",
                        "gridcolor": "white",
                        "gridwidth": 2,
                        "linecolor": "white",
                        "showbackground": true,
                        "ticks": "",
                        "zerolinecolor": "white"
                      },
                      "zaxis": {
                        "backgroundcolor": "#E5ECF6",
                        "gridcolor": "white",
                        "gridwidth": 2,
                        "linecolor": "white",
                        "showbackground": true,
                        "ticks": "",
                        "zerolinecolor": "white"
                      }
                    },
                    "shapedefaults": {
                      "line": {
                        "color": "#2a3f5f"
                      }
                    },
                    "ternary": {
                      "aaxis": {
                        "gridcolor": "white",
                        "linecolor": "white",
                        "ticks": ""
                      },
                      "baxis": {
                        "gridcolor": "white",
                        "linecolor": "white",
                        "ticks": ""
                      },
                      "bgcolor": "#E5ECF6",
                      "caxis": {
                        "gridcolor": "white",
                        "linecolor": "white",
                        "ticks": ""
                      }
                    },
                    "title": {
                      "x": 0.05
                    },
                    "xaxis": {
                      "automargin": true,
                      "gridcolor": "white",
                      "linecolor": "white",
                      "ticks": "",
                      "title": {
                        "standoff": 15
                      },
                      "zerolinecolor": "white",
                      "zerolinewidth": 2
                    },
                    "yaxis": {
                      "automargin": true,
                      "gridcolor": "white",
                      "linecolor": "white",
                      "ticks": "",
                      "title": {
                        "standoff": 15
                      },
                      "zerolinecolor": "white",
                      "zerolinewidth": 2
                    }
                  }
                },
                "xaxis": {
                  "anchor": "y",
                  "domain": [
                    0,
                    1
                  ],
                  "title": {
                    "text": "temp"
                  }
                },
                "yaxis": {
                  "anchor": "x",
                  "domain": [
                    0,
                    1
                  ],
                  "title": {
                    "text": "value"
                  }
                }
              }
            }
          },
          "metadata": {},
          "output_type": "display_data"
        }
      ],
      "source": [
        "import plotly.express as px\n",
        "# dataset[\"condizioni_meteo\"] = pd.factorize(dataset[\"condizioni_meteo\"])[0]\n",
        "dataframe = pd.DataFrame({\"temp\":[], \"peggiorati\": [], \"migliorati\":[]})\n",
        "nuovo_dataset = {}\n",
        "for item in dataset[\"umidita_media\"].unique():\n",
        "  queryStringPegg = \"umidita_media == \"+str(item)+\" and peggiorato == 1 and pshysical_score == 1\"\n",
        "  queryStringMigl = \"umidita_media == \"+str(item)+\" and peggiorato == 0 and pshysical_score == 1\"\n",
        "\n",
        "  resPeggiorati = dataset.query(queryStringPegg)\n",
        "  resMigliorati = dataset.query(queryStringMigl)\n",
        "  dataframe.loc[len(dataframe.index)] = [item, len(resPeggiorati), len(resMigliorati)]\n",
        "  nuovo_dataset[str(item)] = len(resPeggiorati)\n",
        "\n",
        "dataframe = dataframe.sort_values(\"temp\")\n",
        "#data normalization\n",
        "dataframe[\"peggiorati\"] = dataframe[\"peggiorati\"]/ dataframe[\"peggiorati\"].sum()\n",
        "dataframe[\"migliorati\"] = dataframe[\"migliorati\"]/ dataframe[\"migliorati\"].sum()\n",
        "dataframe.head()\n",
        "fig = px.line(dataframe, x=\"temp\", y=[\"peggiorati\",\"migliorati\"])\n",
        "fig.show()\n",
        "newFig =  px.bar(dataframe, x=\"temp\", y=[\"migliorati\", \"peggiorati\"])\n",
        "newFig.show()"
      ]
    },
    {
      "cell_type": "markdown",
      "metadata": {},
      "source": [
        "Relazione temperatura e media score"
      ]
    },
    {
      "cell_type": "code",
      "execution_count": 15,
      "metadata": {},
      "outputs": [
        {
          "data": {
            "application/vnd.plotly.v1+json": {
              "config": {
                "plotlyServerURL": "https://plot.ly"
              },
              "data": [
                {
                  "hovertemplate": "variable=media_score_physical<br>temp=%{x}<br>value=%{y}<extra></extra>",
                  "legendgroup": "media_score_physical",
                  "line": {
                    "color": "#636efa",
                    "dash": "solid"
                  },
                  "marker": {
                    "symbol": "circle"
                  },
                  "mode": "lines",
                  "name": "media_score_physical",
                  "orientation": "v",
                  "showlegend": true,
                  "type": "scatter",
                  "x": [
                    23,
                    25,
                    29,
                    30,
                    31,
                    33,
                    35,
                    36,
                    37,
                    38,
                    39,
                    40,
                    41,
                    42,
                    43,
                    44,
                    45,
                    46,
                    47,
                    48,
                    49,
                    50,
                    51,
                    52,
                    53,
                    54,
                    55,
                    56,
                    57,
                    58,
                    59,
                    60,
                    61,
                    62,
                    63,
                    64,
                    65,
                    66,
                    67,
                    68,
                    69,
                    70,
                    71,
                    72,
                    73,
                    74,
                    75,
                    76,
                    77,
                    78,
                    79,
                    80,
                    81,
                    82,
                    83,
                    84,
                    85,
                    86,
                    87,
                    88,
                    89,
                    90,
                    91,
                    92,
                    93,
                    94,
                    95,
                    96,
                    97,
                    98,
                    99,
                    100
                  ],
                  "xaxis": "x",
                  "y": [
                    44.07,
                    55.42,
                    41.02333333333333,
                    41.394999999999996,
                    43.3125,
                    44.465,
                    45.8025,
                    37.87,
                    36.67,
                    47.86,
                    44.415,
                    44.105000000000004,
                    59.709999999999994,
                    46.044,
                    44.04,
                    45.22,
                    43.65,
                    50.673333333333325,
                    43.33142857142857,
                    45.0175,
                    38.00142857142857,
                    38.355000000000004,
                    42.38357142857143,
                    41.848571428571425,
                    38.218333333333334,
                    41.20076923076923,
                    42.312,
                    43.46371428571428,
                    41.30499999999999,
                    44.01590909090908,
                    43.977916666666665,
                    43.17923076923076,
                    43.26076923076923,
                    41.52923076923078,
                    43.567499999999995,
                    41.52809523809524,
                    41.65722222222222,
                    41.792857142857144,
                    47.51714285714286,
                    44.37559999999999,
                    40.19888888888889,
                    44.535000000000004,
                    43.116,
                    41.348888888888894,
                    43.43055555555556,
                    44.88629629629629,
                    43.96679999999999,
                    41.43454545454545,
                    42.011,
                    43.68357142857143,
                    44.796,
                    44.375499999999995,
                    43.19952380952382,
                    46.59125,
                    42.728,
                    43.081818181818186,
                    43.49,
                    43.558461538461536,
                    43.207142857142856,
                    41.85320000000001,
                    39.963125,
                    44.16772727272728,
                    42.41,
                    41.84758620689656,
                    39.525625,
                    43.27714285714286,
                    41.940909090909095,
                    36.775,
                    41.40416666666667,
                    46.75,
                    45.99571428571428,
                    40.93
                  ],
                  "yaxis": "y"
                },
                {
                  "hovertemplate": "variable=media_score_mental<br>temp=%{x}<br>value=%{y}<extra></extra>",
                  "legendgroup": "media_score_mental",
                  "line": {
                    "color": "#EF553B",
                    "dash": "solid"
                  },
                  "marker": {
                    "symbol": "circle"
                  },
                  "mode": "lines",
                  "name": "media_score_mental",
                  "orientation": "v",
                  "showlegend": true,
                  "type": "scatter",
                  "x": [
                    23,
                    25,
                    29,
                    30,
                    31,
                    33,
                    35,
                    36,
                    37,
                    38,
                    39,
                    40,
                    41,
                    42,
                    43,
                    44,
                    45,
                    46,
                    47,
                    48,
                    49,
                    50,
                    51,
                    52,
                    53,
                    54,
                    55,
                    56,
                    57,
                    58,
                    59,
                    60,
                    61,
                    62,
                    63,
                    64,
                    65,
                    66,
                    67,
                    68,
                    69,
                    70,
                    71,
                    72,
                    73,
                    74,
                    75,
                    76,
                    77,
                    78,
                    79,
                    80,
                    81,
                    82,
                    83,
                    84,
                    85,
                    86,
                    87,
                    88,
                    89,
                    90,
                    91,
                    92,
                    93,
                    94,
                    95,
                    96,
                    97,
                    98,
                    99,
                    100
                  ],
                  "xaxis": "x",
                  "y": [
                    59.95,
                    56.9,
                    47.29666666666666,
                    50.9975,
                    44.105,
                    62.769999999999996,
                    54.6875,
                    35.42,
                    52.7,
                    61.59,
                    35.465,
                    56.8075,
                    46.535,
                    43.51199999999999,
                    59.495000000000005,
                    56.695,
                    56.346666666666664,
                    57.703333333333326,
                    54.25714285714286,
                    46.487500000000004,
                    52.56285714285714,
                    51.97857142857142,
                    46.68642857142857,
                    53.760000000000005,
                    46.196666666666665,
                    48.40384615384616,
                    53.403200000000005,
                    52.27542857142858,
                    48.564333333333344,
                    48.72,
                    53.49041666666667,
                    54.671538461538475,
                    55.07230769230769,
                    52.10153846153845,
                    53.18150000000001,
                    48.900952380952376,
                    53.02055555555555,
                    53.09535714285714,
                    53.702142857142846,
                    54.294799999999995,
                    53.4074074074074,
                    52.76541666666666,
                    53.94533333333333,
                    51.81333333333333,
                    51.27277777777778,
                    51.230000000000004,
                    51.91,
                    53.36909090909091,
                    51.01499999999999,
                    51.35214285714285,
                    55.13599999999999,
                    52.87050000000001,
                    52.90714285714286,
                    54.394999999999996,
                    49.89466666666667,
                    52.345454545454544,
                    49.68458333333333,
                    55.88076923076923,
                    50.93857142857142,
                    49.2292,
                    47.977500000000006,
                    52.358181818181826,
                    47.682727272727284,
                    49.38793103448276,
                    50.849999999999994,
                    50.99714285714286,
                    50.19090909090908,
                    52.47833333333333,
                    49.84375,
                    48.4,
                    58.505714285714284,
                    50.68363636363636
                  ],
                  "yaxis": "y"
                }
              ],
              "layout": {
                "legend": {
                  "title": {
                    "text": "variable"
                  },
                  "tracegroupgap": 0
                },
                "margin": {
                  "t": 60
                },
                "template": {
                  "data": {
                    "bar": [
                      {
                        "error_x": {
                          "color": "#2a3f5f"
                        },
                        "error_y": {
                          "color": "#2a3f5f"
                        },
                        "marker": {
                          "line": {
                            "color": "#E5ECF6",
                            "width": 0.5
                          },
                          "pattern": {
                            "fillmode": "overlay",
                            "size": 10,
                            "solidity": 0.2
                          }
                        },
                        "type": "bar"
                      }
                    ],
                    "barpolar": [
                      {
                        "marker": {
                          "line": {
                            "color": "#E5ECF6",
                            "width": 0.5
                          },
                          "pattern": {
                            "fillmode": "overlay",
                            "size": 10,
                            "solidity": 0.2
                          }
                        },
                        "type": "barpolar"
                      }
                    ],
                    "carpet": [
                      {
                        "aaxis": {
                          "endlinecolor": "#2a3f5f",
                          "gridcolor": "white",
                          "linecolor": "white",
                          "minorgridcolor": "white",
                          "startlinecolor": "#2a3f5f"
                        },
                        "baxis": {
                          "endlinecolor": "#2a3f5f",
                          "gridcolor": "white",
                          "linecolor": "white",
                          "minorgridcolor": "white",
                          "startlinecolor": "#2a3f5f"
                        },
                        "type": "carpet"
                      }
                    ],
                    "choropleth": [
                      {
                        "colorbar": {
                          "outlinewidth": 0,
                          "ticks": ""
                        },
                        "type": "choropleth"
                      }
                    ],
                    "contour": [
                      {
                        "colorbar": {
                          "outlinewidth": 0,
                          "ticks": ""
                        },
                        "colorscale": [
                          [
                            0,
                            "#0d0887"
                          ],
                          [
                            0.1111111111111111,
                            "#46039f"
                          ],
                          [
                            0.2222222222222222,
                            "#7201a8"
                          ],
                          [
                            0.3333333333333333,
                            "#9c179e"
                          ],
                          [
                            0.4444444444444444,
                            "#bd3786"
                          ],
                          [
                            0.5555555555555556,
                            "#d8576b"
                          ],
                          [
                            0.6666666666666666,
                            "#ed7953"
                          ],
                          [
                            0.7777777777777778,
                            "#fb9f3a"
                          ],
                          [
                            0.8888888888888888,
                            "#fdca26"
                          ],
                          [
                            1,
                            "#f0f921"
                          ]
                        ],
                        "type": "contour"
                      }
                    ],
                    "contourcarpet": [
                      {
                        "colorbar": {
                          "outlinewidth": 0,
                          "ticks": ""
                        },
                        "type": "contourcarpet"
                      }
                    ],
                    "heatmap": [
                      {
                        "colorbar": {
                          "outlinewidth": 0,
                          "ticks": ""
                        },
                        "colorscale": [
                          [
                            0,
                            "#0d0887"
                          ],
                          [
                            0.1111111111111111,
                            "#46039f"
                          ],
                          [
                            0.2222222222222222,
                            "#7201a8"
                          ],
                          [
                            0.3333333333333333,
                            "#9c179e"
                          ],
                          [
                            0.4444444444444444,
                            "#bd3786"
                          ],
                          [
                            0.5555555555555556,
                            "#d8576b"
                          ],
                          [
                            0.6666666666666666,
                            "#ed7953"
                          ],
                          [
                            0.7777777777777778,
                            "#fb9f3a"
                          ],
                          [
                            0.8888888888888888,
                            "#fdca26"
                          ],
                          [
                            1,
                            "#f0f921"
                          ]
                        ],
                        "type": "heatmap"
                      }
                    ],
                    "heatmapgl": [
                      {
                        "colorbar": {
                          "outlinewidth": 0,
                          "ticks": ""
                        },
                        "colorscale": [
                          [
                            0,
                            "#0d0887"
                          ],
                          [
                            0.1111111111111111,
                            "#46039f"
                          ],
                          [
                            0.2222222222222222,
                            "#7201a8"
                          ],
                          [
                            0.3333333333333333,
                            "#9c179e"
                          ],
                          [
                            0.4444444444444444,
                            "#bd3786"
                          ],
                          [
                            0.5555555555555556,
                            "#d8576b"
                          ],
                          [
                            0.6666666666666666,
                            "#ed7953"
                          ],
                          [
                            0.7777777777777778,
                            "#fb9f3a"
                          ],
                          [
                            0.8888888888888888,
                            "#fdca26"
                          ],
                          [
                            1,
                            "#f0f921"
                          ]
                        ],
                        "type": "heatmapgl"
                      }
                    ],
                    "histogram": [
                      {
                        "marker": {
                          "pattern": {
                            "fillmode": "overlay",
                            "size": 10,
                            "solidity": 0.2
                          }
                        },
                        "type": "histogram"
                      }
                    ],
                    "histogram2d": [
                      {
                        "colorbar": {
                          "outlinewidth": 0,
                          "ticks": ""
                        },
                        "colorscale": [
                          [
                            0,
                            "#0d0887"
                          ],
                          [
                            0.1111111111111111,
                            "#46039f"
                          ],
                          [
                            0.2222222222222222,
                            "#7201a8"
                          ],
                          [
                            0.3333333333333333,
                            "#9c179e"
                          ],
                          [
                            0.4444444444444444,
                            "#bd3786"
                          ],
                          [
                            0.5555555555555556,
                            "#d8576b"
                          ],
                          [
                            0.6666666666666666,
                            "#ed7953"
                          ],
                          [
                            0.7777777777777778,
                            "#fb9f3a"
                          ],
                          [
                            0.8888888888888888,
                            "#fdca26"
                          ],
                          [
                            1,
                            "#f0f921"
                          ]
                        ],
                        "type": "histogram2d"
                      }
                    ],
                    "histogram2dcontour": [
                      {
                        "colorbar": {
                          "outlinewidth": 0,
                          "ticks": ""
                        },
                        "colorscale": [
                          [
                            0,
                            "#0d0887"
                          ],
                          [
                            0.1111111111111111,
                            "#46039f"
                          ],
                          [
                            0.2222222222222222,
                            "#7201a8"
                          ],
                          [
                            0.3333333333333333,
                            "#9c179e"
                          ],
                          [
                            0.4444444444444444,
                            "#bd3786"
                          ],
                          [
                            0.5555555555555556,
                            "#d8576b"
                          ],
                          [
                            0.6666666666666666,
                            "#ed7953"
                          ],
                          [
                            0.7777777777777778,
                            "#fb9f3a"
                          ],
                          [
                            0.8888888888888888,
                            "#fdca26"
                          ],
                          [
                            1,
                            "#f0f921"
                          ]
                        ],
                        "type": "histogram2dcontour"
                      }
                    ],
                    "mesh3d": [
                      {
                        "colorbar": {
                          "outlinewidth": 0,
                          "ticks": ""
                        },
                        "type": "mesh3d"
                      }
                    ],
                    "parcoords": [
                      {
                        "line": {
                          "colorbar": {
                            "outlinewidth": 0,
                            "ticks": ""
                          }
                        },
                        "type": "parcoords"
                      }
                    ],
                    "pie": [
                      {
                        "automargin": true,
                        "type": "pie"
                      }
                    ],
                    "scatter": [
                      {
                        "marker": {
                          "colorbar": {
                            "outlinewidth": 0,
                            "ticks": ""
                          }
                        },
                        "type": "scatter"
                      }
                    ],
                    "scatter3d": [
                      {
                        "line": {
                          "colorbar": {
                            "outlinewidth": 0,
                            "ticks": ""
                          }
                        },
                        "marker": {
                          "colorbar": {
                            "outlinewidth": 0,
                            "ticks": ""
                          }
                        },
                        "type": "scatter3d"
                      }
                    ],
                    "scattercarpet": [
                      {
                        "marker": {
                          "colorbar": {
                            "outlinewidth": 0,
                            "ticks": ""
                          }
                        },
                        "type": "scattercarpet"
                      }
                    ],
                    "scattergeo": [
                      {
                        "marker": {
                          "colorbar": {
                            "outlinewidth": 0,
                            "ticks": ""
                          }
                        },
                        "type": "scattergeo"
                      }
                    ],
                    "scattergl": [
                      {
                        "marker": {
                          "colorbar": {
                            "outlinewidth": 0,
                            "ticks": ""
                          }
                        },
                        "type": "scattergl"
                      }
                    ],
                    "scattermapbox": [
                      {
                        "marker": {
                          "colorbar": {
                            "outlinewidth": 0,
                            "ticks": ""
                          }
                        },
                        "type": "scattermapbox"
                      }
                    ],
                    "scatterpolar": [
                      {
                        "marker": {
                          "colorbar": {
                            "outlinewidth": 0,
                            "ticks": ""
                          }
                        },
                        "type": "scatterpolar"
                      }
                    ],
                    "scatterpolargl": [
                      {
                        "marker": {
                          "colorbar": {
                            "outlinewidth": 0,
                            "ticks": ""
                          }
                        },
                        "type": "scatterpolargl"
                      }
                    ],
                    "scatterternary": [
                      {
                        "marker": {
                          "colorbar": {
                            "outlinewidth": 0,
                            "ticks": ""
                          }
                        },
                        "type": "scatterternary"
                      }
                    ],
                    "surface": [
                      {
                        "colorbar": {
                          "outlinewidth": 0,
                          "ticks": ""
                        },
                        "colorscale": [
                          [
                            0,
                            "#0d0887"
                          ],
                          [
                            0.1111111111111111,
                            "#46039f"
                          ],
                          [
                            0.2222222222222222,
                            "#7201a8"
                          ],
                          [
                            0.3333333333333333,
                            "#9c179e"
                          ],
                          [
                            0.4444444444444444,
                            "#bd3786"
                          ],
                          [
                            0.5555555555555556,
                            "#d8576b"
                          ],
                          [
                            0.6666666666666666,
                            "#ed7953"
                          ],
                          [
                            0.7777777777777778,
                            "#fb9f3a"
                          ],
                          [
                            0.8888888888888888,
                            "#fdca26"
                          ],
                          [
                            1,
                            "#f0f921"
                          ]
                        ],
                        "type": "surface"
                      }
                    ],
                    "table": [
                      {
                        "cells": {
                          "fill": {
                            "color": "#EBF0F8"
                          },
                          "line": {
                            "color": "white"
                          }
                        },
                        "header": {
                          "fill": {
                            "color": "#C8D4E3"
                          },
                          "line": {
                            "color": "white"
                          }
                        },
                        "type": "table"
                      }
                    ]
                  },
                  "layout": {
                    "annotationdefaults": {
                      "arrowcolor": "#2a3f5f",
                      "arrowhead": 0,
                      "arrowwidth": 1
                    },
                    "autotypenumbers": "strict",
                    "coloraxis": {
                      "colorbar": {
                        "outlinewidth": 0,
                        "ticks": ""
                      }
                    },
                    "colorscale": {
                      "diverging": [
                        [
                          0,
                          "#8e0152"
                        ],
                        [
                          0.1,
                          "#c51b7d"
                        ],
                        [
                          0.2,
                          "#de77ae"
                        ],
                        [
                          0.3,
                          "#f1b6da"
                        ],
                        [
                          0.4,
                          "#fde0ef"
                        ],
                        [
                          0.5,
                          "#f7f7f7"
                        ],
                        [
                          0.6,
                          "#e6f5d0"
                        ],
                        [
                          0.7,
                          "#b8e186"
                        ],
                        [
                          0.8,
                          "#7fbc41"
                        ],
                        [
                          0.9,
                          "#4d9221"
                        ],
                        [
                          1,
                          "#276419"
                        ]
                      ],
                      "sequential": [
                        [
                          0,
                          "#0d0887"
                        ],
                        [
                          0.1111111111111111,
                          "#46039f"
                        ],
                        [
                          0.2222222222222222,
                          "#7201a8"
                        ],
                        [
                          0.3333333333333333,
                          "#9c179e"
                        ],
                        [
                          0.4444444444444444,
                          "#bd3786"
                        ],
                        [
                          0.5555555555555556,
                          "#d8576b"
                        ],
                        [
                          0.6666666666666666,
                          "#ed7953"
                        ],
                        [
                          0.7777777777777778,
                          "#fb9f3a"
                        ],
                        [
                          0.8888888888888888,
                          "#fdca26"
                        ],
                        [
                          1,
                          "#f0f921"
                        ]
                      ],
                      "sequentialminus": [
                        [
                          0,
                          "#0d0887"
                        ],
                        [
                          0.1111111111111111,
                          "#46039f"
                        ],
                        [
                          0.2222222222222222,
                          "#7201a8"
                        ],
                        [
                          0.3333333333333333,
                          "#9c179e"
                        ],
                        [
                          0.4444444444444444,
                          "#bd3786"
                        ],
                        [
                          0.5555555555555556,
                          "#d8576b"
                        ],
                        [
                          0.6666666666666666,
                          "#ed7953"
                        ],
                        [
                          0.7777777777777778,
                          "#fb9f3a"
                        ],
                        [
                          0.8888888888888888,
                          "#fdca26"
                        ],
                        [
                          1,
                          "#f0f921"
                        ]
                      ]
                    },
                    "colorway": [
                      "#636efa",
                      "#EF553B",
                      "#00cc96",
                      "#ab63fa",
                      "#FFA15A",
                      "#19d3f3",
                      "#FF6692",
                      "#B6E880",
                      "#FF97FF",
                      "#FECB52"
                    ],
                    "font": {
                      "color": "#2a3f5f"
                    },
                    "geo": {
                      "bgcolor": "white",
                      "lakecolor": "white",
                      "landcolor": "#E5ECF6",
                      "showlakes": true,
                      "showland": true,
                      "subunitcolor": "white"
                    },
                    "hoverlabel": {
                      "align": "left"
                    },
                    "hovermode": "closest",
                    "mapbox": {
                      "style": "light"
                    },
                    "paper_bgcolor": "white",
                    "plot_bgcolor": "#E5ECF6",
                    "polar": {
                      "angularaxis": {
                        "gridcolor": "white",
                        "linecolor": "white",
                        "ticks": ""
                      },
                      "bgcolor": "#E5ECF6",
                      "radialaxis": {
                        "gridcolor": "white",
                        "linecolor": "white",
                        "ticks": ""
                      }
                    },
                    "scene": {
                      "xaxis": {
                        "backgroundcolor": "#E5ECF6",
                        "gridcolor": "white",
                        "gridwidth": 2,
                        "linecolor": "white",
                        "showbackground": true,
                        "ticks": "",
                        "zerolinecolor": "white"
                      },
                      "yaxis": {
                        "backgroundcolor": "#E5ECF6",
                        "gridcolor": "white",
                        "gridwidth": 2,
                        "linecolor": "white",
                        "showbackground": true,
                        "ticks": "",
                        "zerolinecolor": "white"
                      },
                      "zaxis": {
                        "backgroundcolor": "#E5ECF6",
                        "gridcolor": "white",
                        "gridwidth": 2,
                        "linecolor": "white",
                        "showbackground": true,
                        "ticks": "",
                        "zerolinecolor": "white"
                      }
                    },
                    "shapedefaults": {
                      "line": {
                        "color": "#2a3f5f"
                      }
                    },
                    "ternary": {
                      "aaxis": {
                        "gridcolor": "white",
                        "linecolor": "white",
                        "ticks": ""
                      },
                      "baxis": {
                        "gridcolor": "white",
                        "linecolor": "white",
                        "ticks": ""
                      },
                      "bgcolor": "#E5ECF6",
                      "caxis": {
                        "gridcolor": "white",
                        "linecolor": "white",
                        "ticks": ""
                      }
                    },
                    "title": {
                      "x": 0.05
                    },
                    "xaxis": {
                      "automargin": true,
                      "gridcolor": "white",
                      "linecolor": "white",
                      "ticks": "",
                      "title": {
                        "standoff": 15
                      },
                      "zerolinecolor": "white",
                      "zerolinewidth": 2
                    },
                    "yaxis": {
                      "automargin": true,
                      "gridcolor": "white",
                      "linecolor": "white",
                      "ticks": "",
                      "title": {
                        "standoff": 15
                      },
                      "zerolinecolor": "white",
                      "zerolinewidth": 2
                    }
                  }
                },
                "xaxis": {
                  "anchor": "y",
                  "domain": [
                    0,
                    1
                  ],
                  "title": {
                    "text": "temp"
                  }
                },
                "yaxis": {
                  "anchor": "x",
                  "domain": [
                    0,
                    1
                  ],
                  "title": {
                    "text": "value"
                  }
                }
              }
            }
          },
          "metadata": {},
          "output_type": "display_data"
        }
      ],
      "source": [
        "import plotly.express as px\n",
        "# dataset[\"condizioni_meteo\"] = pd.factorize(dataset[\"condizioni_meteo\"])[0]\n",
        "dataframe = pd.DataFrame({\"temp\":[], \"media_score_physical\": [],\"media_score_mental\": []})\n",
        "for item in dataset[\"umidita_media\"].unique():\n",
        "  queryStringPhysical = \"umidita_media == \"+str(item)+\" and pshysical_score == 1\"\n",
        "  queryStringMental = \"umidita_media == \"+str(item)+\" and pshysical_score == 0\"\n",
        "\n",
        "  resPhysical = dataset.query(queryStringPhysical)\n",
        "  resMental = dataset.query(queryStringMental)\n",
        "\n",
        "  dataframe.loc[len(dataframe.index)] = [item, resPhysical[\"score_postop\"].mean(), resMental[\"score_postop\"].mean()]\n",
        "\n",
        "dataframe = dataframe.sort_values(\"temp\")\n",
        "\n",
        "\n",
        "fig = px.line(dataframe, x=\"temp\", y=[\"media_score_physical\",\"media_score_mental\"])\n",
        "fig.show()\n"
      ]
    },
    {
      "cell_type": "markdown",
      "metadata": {},
      "source": [
        "Population pyramid"
      ]
    },
    {
      "cell_type": "code",
      "execution_count": 111,
      "metadata": {},
      "outputs": [
        {
          "data": {
            "text/html": [
              "<div>\n",
              "<style scoped>\n",
              "    .dataframe tbody tr th:only-of-type {\n",
              "        vertical-align: middle;\n",
              "    }\n",
              "\n",
              "    .dataframe tbody tr th {\n",
              "        vertical-align: top;\n",
              "    }\n",
              "\n",
              "    .dataframe thead th {\n",
              "        text-align: right;\n",
              "    }\n",
              "</style>\n",
              "<table border=\"1\" class=\"dataframe\">\n",
              "  <thead>\n",
              "    <tr style=\"text-align: right;\">\n",
              "      <th></th>\n",
              "      <th>gruppo_eta</th>\n",
              "      <th>peggiorati</th>\n",
              "      <th>migliorati</th>\n",
              "    </tr>\n",
              "  </thead>\n",
              "  <tbody>\n",
              "    <tr>\n",
              "      <th>5</th>\n",
              "      <td>(23.999, 58.0]</td>\n",
              "      <td>-0.150538</td>\n",
              "      <td>0.199079</td>\n",
              "    </tr>\n",
              "    <tr>\n",
              "      <th>4</th>\n",
              "      <td>(58.0, 65.0]</td>\n",
              "      <td>-0.204301</td>\n",
              "      <td>0.154200</td>\n",
              "    </tr>\n",
              "    <tr>\n",
              "      <th>1</th>\n",
              "      <td>(65.0, 69.0]</td>\n",
              "      <td>-0.107527</td>\n",
              "      <td>0.163406</td>\n",
              "    </tr>\n",
              "    <tr>\n",
              "      <th>0</th>\n",
              "      <td>(69.0, 74.0]</td>\n",
              "      <td>-0.182796</td>\n",
              "      <td>0.176064</td>\n",
              "    </tr>\n",
              "    <tr>\n",
              "      <th>2</th>\n",
              "      <td>(74.0, 79.0]</td>\n",
              "      <td>-0.225806</td>\n",
              "      <td>0.162255</td>\n",
              "    </tr>\n",
              "  </tbody>\n",
              "</table>\n",
              "</div>"
            ],
            "text/plain": [
              "       gruppo_eta  peggiorati  migliorati\n",
              "5  (23.999, 58.0]   -0.150538    0.199079\n",
              "4    (58.0, 65.0]   -0.204301    0.154200\n",
              "1    (65.0, 69.0]   -0.107527    0.163406\n",
              "0    (69.0, 74.0]   -0.182796    0.176064\n",
              "2    (74.0, 79.0]   -0.225806    0.162255"
            ]
          },
          "execution_count": 111,
          "metadata": {},
          "output_type": "execute_result"
        }
      ],
      "source": [
        "import plotly.graph_objects as gp\n",
        "from plotly.offline import iplot\n",
        "import numpy as np\n",
        "# dataset[\"condizioni_meteo\"] = pd.factorize(dataset[\"condizioni_meteo\"])[0]\n",
        "dataframe = pd.DataFrame({\"gruppo_eta\":[], \"peggiorati\": [], \"migliorati\":[]})\n",
        "nuovo_dataset = {}\n",
        "for item in dataset[\"gruppo_eta\"].unique():\n",
        "  queryStringPegg = \"gruppo_eta == '\"+str(item)+\"' and peggiorato == 1 and pshysical_score == 1\"\n",
        "  queryStringMigl = \"gruppo_eta == '\"+str(item)+\"' and peggiorato == 0 and pshysical_score == 1\"\n",
        "\n",
        "  resPeggiorati = dataset.query(queryStringPegg)\n",
        "  resMigliorati = dataset.query(queryStringMigl)\n",
        "  dataframe.loc[len(dataframe.index)] = [str(item), len(resPeggiorati), len(resMigliorati)]\n",
        "  nuovo_dataset[str(item)] = len(resPeggiorati)\n",
        "\n",
        "dataframe = dataframe.sort_values(\"gruppo_eta\")\n",
        "#data normalization\n",
        "dataframe[\"peggiorati\"] =- (dataframe[\"peggiorati\"]/ dataframe[\"peggiorati\"].sum())\n",
        "dataframe[\"migliorati\"] = dataframe[\"migliorati\"]/ dataframe[\"migliorati\"].sum()\n",
        "dataframe.head()\n",
        "\n"
      ]
    },
    {
      "cell_type": "code",
      "execution_count": 112,
      "metadata": {},
      "outputs": [
        {
          "data": {
            "application/vnd.plotly.v1+json": {
              "config": {
                "linkText": "Export to plot.ly",
                "plotlyServerURL": "https://plot.ly",
                "showLink": false
              },
              "data": [
                {
                  "hoverinfo": "skip",
                  "marker": {
                    "color": "#F4B942"
                  },
                  "name": "Peggiorati",
                  "orientation": "h",
                  "text": [
                    "15.05",
                    "20.43",
                    "10.75",
                    "18.28",
                    "22.58",
                    "12.9"
                  ],
                  "textposition": "auto",
                  "type": "bar",
                  "x": [
                    -0.15053763440860216,
                    -0.20430107526881722,
                    -0.10752688172043011,
                    -0.1827956989247312,
                    -0.22580645161290322,
                    -0.12903225806451613
                  ],
                  "y": [
                    "(23.999, 58.0]",
                    "(58.0, 65.0]",
                    "(65.0, 69.0]",
                    "(69.0, 74.0]",
                    "(74.0, 79.0]",
                    "(79.0, 97.0]"
                  ]
                },
                {
                  "hoverinfo": "skip",
                  "marker": {
                    "color": "#4059AD"
                  },
                  "name": "Migliorati",
                  "orientation": "h",
                  "text": [
                    "19.91",
                    "15.42",
                    "16.34",
                    "17.61",
                    "16.23",
                    "14.5"
                  ],
                  "textposition": "auto",
                  "type": "bar",
                  "x": [
                    0.19907940161104717,
                    0.15420023014959724,
                    0.16340621403912542,
                    0.1760644418872267,
                    0.1622554660529344,
                    0.14499424626006904
                  ],
                  "y": [
                    "(23.999, 58.0]",
                    "(58.0, 65.0]",
                    "(65.0, 69.0]",
                    "(69.0, 74.0]",
                    "(74.0, 79.0]",
                    "(79.0, 97.0]"
                  ]
                }
              ],
              "layout": {
                "bargap": 0.1,
                "barmode": "overlay",
                "template": {
                  "data": {
                    "bar": [
                      {
                        "error_x": {
                          "color": "#2a3f5f"
                        },
                        "error_y": {
                          "color": "#2a3f5f"
                        },
                        "marker": {
                          "line": {
                            "color": "#E5ECF6",
                            "width": 0.5
                          },
                          "pattern": {
                            "fillmode": "overlay",
                            "size": 10,
                            "solidity": 0.2
                          }
                        },
                        "type": "bar"
                      }
                    ],
                    "barpolar": [
                      {
                        "marker": {
                          "line": {
                            "color": "#E5ECF6",
                            "width": 0.5
                          },
                          "pattern": {
                            "fillmode": "overlay",
                            "size": 10,
                            "solidity": 0.2
                          }
                        },
                        "type": "barpolar"
                      }
                    ],
                    "carpet": [
                      {
                        "aaxis": {
                          "endlinecolor": "#2a3f5f",
                          "gridcolor": "white",
                          "linecolor": "white",
                          "minorgridcolor": "white",
                          "startlinecolor": "#2a3f5f"
                        },
                        "baxis": {
                          "endlinecolor": "#2a3f5f",
                          "gridcolor": "white",
                          "linecolor": "white",
                          "minorgridcolor": "white",
                          "startlinecolor": "#2a3f5f"
                        },
                        "type": "carpet"
                      }
                    ],
                    "choropleth": [
                      {
                        "colorbar": {
                          "outlinewidth": 0,
                          "ticks": ""
                        },
                        "type": "choropleth"
                      }
                    ],
                    "contour": [
                      {
                        "colorbar": {
                          "outlinewidth": 0,
                          "ticks": ""
                        },
                        "colorscale": [
                          [
                            0,
                            "#0d0887"
                          ],
                          [
                            0.1111111111111111,
                            "#46039f"
                          ],
                          [
                            0.2222222222222222,
                            "#7201a8"
                          ],
                          [
                            0.3333333333333333,
                            "#9c179e"
                          ],
                          [
                            0.4444444444444444,
                            "#bd3786"
                          ],
                          [
                            0.5555555555555556,
                            "#d8576b"
                          ],
                          [
                            0.6666666666666666,
                            "#ed7953"
                          ],
                          [
                            0.7777777777777778,
                            "#fb9f3a"
                          ],
                          [
                            0.8888888888888888,
                            "#fdca26"
                          ],
                          [
                            1,
                            "#f0f921"
                          ]
                        ],
                        "type": "contour"
                      }
                    ],
                    "contourcarpet": [
                      {
                        "colorbar": {
                          "outlinewidth": 0,
                          "ticks": ""
                        },
                        "type": "contourcarpet"
                      }
                    ],
                    "heatmap": [
                      {
                        "colorbar": {
                          "outlinewidth": 0,
                          "ticks": ""
                        },
                        "colorscale": [
                          [
                            0,
                            "#0d0887"
                          ],
                          [
                            0.1111111111111111,
                            "#46039f"
                          ],
                          [
                            0.2222222222222222,
                            "#7201a8"
                          ],
                          [
                            0.3333333333333333,
                            "#9c179e"
                          ],
                          [
                            0.4444444444444444,
                            "#bd3786"
                          ],
                          [
                            0.5555555555555556,
                            "#d8576b"
                          ],
                          [
                            0.6666666666666666,
                            "#ed7953"
                          ],
                          [
                            0.7777777777777778,
                            "#fb9f3a"
                          ],
                          [
                            0.8888888888888888,
                            "#fdca26"
                          ],
                          [
                            1,
                            "#f0f921"
                          ]
                        ],
                        "type": "heatmap"
                      }
                    ],
                    "heatmapgl": [
                      {
                        "colorbar": {
                          "outlinewidth": 0,
                          "ticks": ""
                        },
                        "colorscale": [
                          [
                            0,
                            "#0d0887"
                          ],
                          [
                            0.1111111111111111,
                            "#46039f"
                          ],
                          [
                            0.2222222222222222,
                            "#7201a8"
                          ],
                          [
                            0.3333333333333333,
                            "#9c179e"
                          ],
                          [
                            0.4444444444444444,
                            "#bd3786"
                          ],
                          [
                            0.5555555555555556,
                            "#d8576b"
                          ],
                          [
                            0.6666666666666666,
                            "#ed7953"
                          ],
                          [
                            0.7777777777777778,
                            "#fb9f3a"
                          ],
                          [
                            0.8888888888888888,
                            "#fdca26"
                          ],
                          [
                            1,
                            "#f0f921"
                          ]
                        ],
                        "type": "heatmapgl"
                      }
                    ],
                    "histogram": [
                      {
                        "marker": {
                          "pattern": {
                            "fillmode": "overlay",
                            "size": 10,
                            "solidity": 0.2
                          }
                        },
                        "type": "histogram"
                      }
                    ],
                    "histogram2d": [
                      {
                        "colorbar": {
                          "outlinewidth": 0,
                          "ticks": ""
                        },
                        "colorscale": [
                          [
                            0,
                            "#0d0887"
                          ],
                          [
                            0.1111111111111111,
                            "#46039f"
                          ],
                          [
                            0.2222222222222222,
                            "#7201a8"
                          ],
                          [
                            0.3333333333333333,
                            "#9c179e"
                          ],
                          [
                            0.4444444444444444,
                            "#bd3786"
                          ],
                          [
                            0.5555555555555556,
                            "#d8576b"
                          ],
                          [
                            0.6666666666666666,
                            "#ed7953"
                          ],
                          [
                            0.7777777777777778,
                            "#fb9f3a"
                          ],
                          [
                            0.8888888888888888,
                            "#fdca26"
                          ],
                          [
                            1,
                            "#f0f921"
                          ]
                        ],
                        "type": "histogram2d"
                      }
                    ],
                    "histogram2dcontour": [
                      {
                        "colorbar": {
                          "outlinewidth": 0,
                          "ticks": ""
                        },
                        "colorscale": [
                          [
                            0,
                            "#0d0887"
                          ],
                          [
                            0.1111111111111111,
                            "#46039f"
                          ],
                          [
                            0.2222222222222222,
                            "#7201a8"
                          ],
                          [
                            0.3333333333333333,
                            "#9c179e"
                          ],
                          [
                            0.4444444444444444,
                            "#bd3786"
                          ],
                          [
                            0.5555555555555556,
                            "#d8576b"
                          ],
                          [
                            0.6666666666666666,
                            "#ed7953"
                          ],
                          [
                            0.7777777777777778,
                            "#fb9f3a"
                          ],
                          [
                            0.8888888888888888,
                            "#fdca26"
                          ],
                          [
                            1,
                            "#f0f921"
                          ]
                        ],
                        "type": "histogram2dcontour"
                      }
                    ],
                    "mesh3d": [
                      {
                        "colorbar": {
                          "outlinewidth": 0,
                          "ticks": ""
                        },
                        "type": "mesh3d"
                      }
                    ],
                    "parcoords": [
                      {
                        "line": {
                          "colorbar": {
                            "outlinewidth": 0,
                            "ticks": ""
                          }
                        },
                        "type": "parcoords"
                      }
                    ],
                    "pie": [
                      {
                        "automargin": true,
                        "type": "pie"
                      }
                    ],
                    "scatter": [
                      {
                        "marker": {
                          "colorbar": {
                            "outlinewidth": 0,
                            "ticks": ""
                          }
                        },
                        "type": "scatter"
                      }
                    ],
                    "scatter3d": [
                      {
                        "line": {
                          "colorbar": {
                            "outlinewidth": 0,
                            "ticks": ""
                          }
                        },
                        "marker": {
                          "colorbar": {
                            "outlinewidth": 0,
                            "ticks": ""
                          }
                        },
                        "type": "scatter3d"
                      }
                    ],
                    "scattercarpet": [
                      {
                        "marker": {
                          "colorbar": {
                            "outlinewidth": 0,
                            "ticks": ""
                          }
                        },
                        "type": "scattercarpet"
                      }
                    ],
                    "scattergeo": [
                      {
                        "marker": {
                          "colorbar": {
                            "outlinewidth": 0,
                            "ticks": ""
                          }
                        },
                        "type": "scattergeo"
                      }
                    ],
                    "scattergl": [
                      {
                        "marker": {
                          "colorbar": {
                            "outlinewidth": 0,
                            "ticks": ""
                          }
                        },
                        "type": "scattergl"
                      }
                    ],
                    "scattermapbox": [
                      {
                        "marker": {
                          "colorbar": {
                            "outlinewidth": 0,
                            "ticks": ""
                          }
                        },
                        "type": "scattermapbox"
                      }
                    ],
                    "scatterpolar": [
                      {
                        "marker": {
                          "colorbar": {
                            "outlinewidth": 0,
                            "ticks": ""
                          }
                        },
                        "type": "scatterpolar"
                      }
                    ],
                    "scatterpolargl": [
                      {
                        "marker": {
                          "colorbar": {
                            "outlinewidth": 0,
                            "ticks": ""
                          }
                        },
                        "type": "scatterpolargl"
                      }
                    ],
                    "scatterternary": [
                      {
                        "marker": {
                          "colorbar": {
                            "outlinewidth": 0,
                            "ticks": ""
                          }
                        },
                        "type": "scatterternary"
                      }
                    ],
                    "surface": [
                      {
                        "colorbar": {
                          "outlinewidth": 0,
                          "ticks": ""
                        },
                        "colorscale": [
                          [
                            0,
                            "#0d0887"
                          ],
                          [
                            0.1111111111111111,
                            "#46039f"
                          ],
                          [
                            0.2222222222222222,
                            "#7201a8"
                          ],
                          [
                            0.3333333333333333,
                            "#9c179e"
                          ],
                          [
                            0.4444444444444444,
                            "#bd3786"
                          ],
                          [
                            0.5555555555555556,
                            "#d8576b"
                          ],
                          [
                            0.6666666666666666,
                            "#ed7953"
                          ],
                          [
                            0.7777777777777778,
                            "#fb9f3a"
                          ],
                          [
                            0.8888888888888888,
                            "#fdca26"
                          ],
                          [
                            1,
                            "#f0f921"
                          ]
                        ],
                        "type": "surface"
                      }
                    ],
                    "table": [
                      {
                        "cells": {
                          "fill": {
                            "color": "#EBF0F8"
                          },
                          "line": {
                            "color": "white"
                          }
                        },
                        "header": {
                          "fill": {
                            "color": "#C8D4E3"
                          },
                          "line": {
                            "color": "white"
                          }
                        },
                        "type": "table"
                      }
                    ]
                  },
                  "layout": {
                    "annotationdefaults": {
                      "arrowcolor": "#2a3f5f",
                      "arrowhead": 0,
                      "arrowwidth": 1
                    },
                    "autotypenumbers": "strict",
                    "coloraxis": {
                      "colorbar": {
                        "outlinewidth": 0,
                        "ticks": ""
                      }
                    },
                    "colorscale": {
                      "diverging": [
                        [
                          0,
                          "#8e0152"
                        ],
                        [
                          0.1,
                          "#c51b7d"
                        ],
                        [
                          0.2,
                          "#de77ae"
                        ],
                        [
                          0.3,
                          "#f1b6da"
                        ],
                        [
                          0.4,
                          "#fde0ef"
                        ],
                        [
                          0.5,
                          "#f7f7f7"
                        ],
                        [
                          0.6,
                          "#e6f5d0"
                        ],
                        [
                          0.7,
                          "#b8e186"
                        ],
                        [
                          0.8,
                          "#7fbc41"
                        ],
                        [
                          0.9,
                          "#4d9221"
                        ],
                        [
                          1,
                          "#276419"
                        ]
                      ],
                      "sequential": [
                        [
                          0,
                          "#0d0887"
                        ],
                        [
                          0.1111111111111111,
                          "#46039f"
                        ],
                        [
                          0.2222222222222222,
                          "#7201a8"
                        ],
                        [
                          0.3333333333333333,
                          "#9c179e"
                        ],
                        [
                          0.4444444444444444,
                          "#bd3786"
                        ],
                        [
                          0.5555555555555556,
                          "#d8576b"
                        ],
                        [
                          0.6666666666666666,
                          "#ed7953"
                        ],
                        [
                          0.7777777777777778,
                          "#fb9f3a"
                        ],
                        [
                          0.8888888888888888,
                          "#fdca26"
                        ],
                        [
                          1,
                          "#f0f921"
                        ]
                      ],
                      "sequentialminus": [
                        [
                          0,
                          "#0d0887"
                        ],
                        [
                          0.1111111111111111,
                          "#46039f"
                        ],
                        [
                          0.2222222222222222,
                          "#7201a8"
                        ],
                        [
                          0.3333333333333333,
                          "#9c179e"
                        ],
                        [
                          0.4444444444444444,
                          "#bd3786"
                        ],
                        [
                          0.5555555555555556,
                          "#d8576b"
                        ],
                        [
                          0.6666666666666666,
                          "#ed7953"
                        ],
                        [
                          0.7777777777777778,
                          "#fb9f3a"
                        ],
                        [
                          0.8888888888888888,
                          "#fdca26"
                        ],
                        [
                          1,
                          "#f0f921"
                        ]
                      ]
                    },
                    "colorway": [
                      "#636efa",
                      "#EF553B",
                      "#00cc96",
                      "#ab63fa",
                      "#FFA15A",
                      "#19d3f3",
                      "#FF6692",
                      "#B6E880",
                      "#FF97FF",
                      "#FECB52"
                    ],
                    "font": {
                      "color": "#2a3f5f"
                    },
                    "geo": {
                      "bgcolor": "white",
                      "lakecolor": "white",
                      "landcolor": "#E5ECF6",
                      "showlakes": true,
                      "showland": true,
                      "subunitcolor": "white"
                    },
                    "hoverlabel": {
                      "align": "left"
                    },
                    "hovermode": "closest",
                    "mapbox": {
                      "style": "light"
                    },
                    "paper_bgcolor": "white",
                    "plot_bgcolor": "#E5ECF6",
                    "polar": {
                      "angularaxis": {
                        "gridcolor": "white",
                        "linecolor": "white",
                        "ticks": ""
                      },
                      "bgcolor": "#E5ECF6",
                      "radialaxis": {
                        "gridcolor": "white",
                        "linecolor": "white",
                        "ticks": ""
                      }
                    },
                    "scene": {
                      "xaxis": {
                        "backgroundcolor": "#E5ECF6",
                        "gridcolor": "white",
                        "gridwidth": 2,
                        "linecolor": "white",
                        "showbackground": true,
                        "ticks": "",
                        "zerolinecolor": "white"
                      },
                      "yaxis": {
                        "backgroundcolor": "#E5ECF6",
                        "gridcolor": "white",
                        "gridwidth": 2,
                        "linecolor": "white",
                        "showbackground": true,
                        "ticks": "",
                        "zerolinecolor": "white"
                      },
                      "zaxis": {
                        "backgroundcolor": "#E5ECF6",
                        "gridcolor": "white",
                        "gridwidth": 2,
                        "linecolor": "white",
                        "showbackground": true,
                        "ticks": "",
                        "zerolinecolor": "white"
                      }
                    },
                    "shapedefaults": {
                      "line": {
                        "color": "#2a3f5f"
                      }
                    },
                    "ternary": {
                      "aaxis": {
                        "gridcolor": "white",
                        "linecolor": "white",
                        "ticks": ""
                      },
                      "baxis": {
                        "gridcolor": "white",
                        "linecolor": "white",
                        "ticks": ""
                      },
                      "bgcolor": "#E5ECF6",
                      "caxis": {
                        "gridcolor": "white",
                        "linecolor": "white",
                        "ticks": ""
                      }
                    },
                    "title": {
                      "x": 0.05
                    },
                    "xaxis": {
                      "automargin": true,
                      "gridcolor": "white",
                      "linecolor": "white",
                      "ticks": "",
                      "title": {
                        "standoff": 15
                      },
                      "zerolinecolor": "white",
                      "zerolinewidth": 2
                    },
                    "yaxis": {
                      "automargin": true,
                      "gridcolor": "white",
                      "linecolor": "white",
                      "ticks": "",
                      "title": {
                        "standoff": 15
                      },
                      "zerolinecolor": "white",
                      "zerolinewidth": 2
                    }
                  }
                },
                "xaxis": {
                  "range": [
                    -0.5,
                    0.5
                  ],
                  "ticktext": [
                    50,
                    25,
                    0,
                    25,
                    50
                  ],
                  "tickvals": [
                    -0.5,
                    -0.25,
                    0,
                    0.25,
                    0.5
                  ],
                  "title": {
                    "text": "Percentuale (%)"
                  }
                },
                "yaxis": {
                  "title": {
                    "text": "Classe di età"
                  }
                }
              }
            }
          },
          "metadata": {},
          "output_type": "display_data"
        }
      ],
      "source": [
        "fig = gp.Figure()\n",
        "\n",
        "layout = gp.Layout(yaxis=gp.layout.YAxis(title='Classe di età'),\n",
        "                   xaxis=gp.layout.XAxis(\n",
        "                    range=[-0.5,0.5],\n",
        "                      tickvals=[-0.5, -0.25, 0 , 0.25, 0.5],\n",
        "                       ticktext=[50,25, 0, 25, 50],\n",
        "                    title='Percentuale (%)'),\n",
        "                   barmode='overlay',\n",
        "                   bargap=0.1,\n",
        "                   \n",
        "                   )\n",
        "\n",
        "data = [gp.Bar(y= dataframe[\"gruppo_eta\"].to_list(), x = dataframe[\"peggiorati\"], \n",
        "               orientation='h',\n",
        "               name='Peggiorati',\n",
        "               text=(dataframe[\"peggiorati\"]*100).abs().round(2).to_list(),\n",
        "               hoverinfo='skip',\n",
        "               \n",
        "               marker=dict(color='#F4B942'),\n",
        "                textposition='auto',\n",
        "               ),\n",
        "        gp.Bar(y= dataframe[\"gruppo_eta\"].to_list(), x = dataframe[\"migliorati\"],\n",
        "               orientation='h',\n",
        "               text=(dataframe[\"migliorati\"]*100).abs().round(2).to_list(),\n",
        "               name='Migliorati',\n",
        "                hoverinfo='skip',\n",
        "               marker=dict(color='#4059AD'),\n",
        "                textposition='auto',\n",
        "               )]\n",
        "\n",
        "iplot(dict(data=data, layout=layout))\n",
        "\n"
      ]
    },
    {
      "cell_type": "code",
      "execution_count": 83,
      "metadata": {},
      "outputs": [
        {
          "data": {
            "application/vnd.plotly.v1+json": {
              "config": {
                "plotlyServerURL": "https://plot.ly"
              },
              "data": [
                {
                  "alignmentgroup": "True",
                  "box": {
                    "visible": false
                  },
                  "hovertemplate": "condizioni_meteo=%{x}<br>score_postop=%{y}<extra></extra>",
                  "legendgroup": "",
                  "marker": {
                    "color": "#636efa"
                  },
                  "name": "",
                  "offsetgroup": "",
                  "orientation": "v",
                  "scalegroup": "True",
                  "showlegend": false,
                  "type": "violin",
                  "x": [
                    "poco nuvoloso",
                    "poco nuvoloso",
                    "poco nuvoloso",
                    "poco nuvoloso",
                    "poco nuvoloso",
                    "poco nuvoloso",
                    "poco nuvoloso",
                    "poco nuvoloso",
                    "nebbia al mattino",
                    "nebbia al mattino",
                    "sereno",
                    "sereno",
                    "sereno",
                    "sereno",
                    "poco nuvoloso",
                    "poco nuvoloso",
                    "poco nuvoloso",
                    "poco nuvoloso",
                    "poco nuvoloso",
                    "poco nuvoloso",
                    "pioggia e schiarite",
                    "pioggia e schiarite",
                    "sereno",
                    "sereno",
                    "nebbia al mattino",
                    "nebbia al mattino",
                    "nebbia al mattino",
                    "nebbia al mattino",
                    "sereno",
                    "sereno",
                    "poco nuvoloso",
                    "poco nuvoloso",
                    "sereno",
                    "sereno",
                    "sereno",
                    "sereno",
                    "sereno",
                    "sereno",
                    "sereno",
                    "sereno",
                    "nebbia al mattino",
                    "nebbia al mattino",
                    "nebbia al mattino",
                    "nebbia al mattino",
                    "nebbia al mattino",
                    "nebbia al mattino",
                    "nebbia al mattino",
                    "nebbia al mattino",
                    "sereno",
                    "sereno",
                    "sereno",
                    "sereno",
                    "sereno",
                    "sereno",
                    "poco nuvoloso",
                    "poco nuvoloso",
                    "poco nuvoloso",
                    "poco nuvoloso",
                    "nebbia al mattino",
                    "nebbia al mattino",
                    "pioggia debole",
                    "pioggia debole",
                    "poco nuvoloso",
                    "poco nuvoloso",
                    "sereno",
                    "sereno",
                    "nebbia al mattino",
                    "nebbia al mattino",
                    "sereno",
                    "sereno",
                    "nebbia al mattino",
                    "nebbia al mattino",
                    "sereno",
                    "sereno",
                    "nebbia al mattino",
                    "nebbia al mattino",
                    "pioggia e schiarite",
                    "pioggia e schiarite",
                    "nebbia al mattino",
                    "nebbia al mattino",
                    "nebbia al mattino",
                    "nebbia al mattino",
                    "poco nuvoloso",
                    "poco nuvoloso",
                    "poco nuvoloso",
                    "poco nuvoloso",
                    "sereno",
                    "sereno",
                    "poco nuvoloso",
                    "poco nuvoloso",
                    "sereno",
                    "sereno",
                    "sereno",
                    "sereno",
                    "sereno",
                    "sereno",
                    "sereno",
                    "sereno",
                    "nebbia al mattino",
                    "nebbia al mattino",
                    "poco nuvoloso",
                    "poco nuvoloso",
                    "poco nuvoloso",
                    "poco nuvoloso",
                    "sereno",
                    "sereno",
                    "sereno",
                    "sereno",
                    "sereno",
                    "sereno",
                    "poco nuvoloso",
                    "poco nuvoloso",
                    "sereno",
                    "sereno",
                    "poco nuvoloso",
                    "poco nuvoloso",
                    "pioggia e schiarite",
                    "pioggia e schiarite",
                    "nebbia al mattino",
                    "nebbia al mattino",
                    "sereno",
                    "sereno",
                    "poco nuvoloso",
                    "poco nuvoloso",
                    "nebbia al mattino",
                    "nebbia al mattino",
                    "nubi sparse",
                    "nubi sparse",
                    "poco nuvoloso",
                    "poco nuvoloso",
                    "nebbia al mattino",
                    "nebbia al mattino",
                    "nebbia al mattino",
                    "nebbia al mattino",
                    "poco nuvoloso",
                    "poco nuvoloso",
                    "nubi sparse",
                    "nubi sparse",
                    "sereno",
                    "sereno",
                    "poco nuvoloso",
                    "poco nuvoloso",
                    "pioggia e schiarite",
                    "pioggia e schiarite",
                    "poco nuvoloso",
                    "poco nuvoloso",
                    "nebbia al mattino",
                    "nebbia al mattino",
                    "sereno",
                    "sereno",
                    "nebbia al mattino",
                    "nebbia al mattino",
                    "sereno",
                    "sereno",
                    "poco nuvoloso",
                    "poco nuvoloso",
                    "nebbia al mattino",
                    "nebbia al mattino",
                    "pioggia e schiarite",
                    "pioggia e schiarite",
                    "poco nuvoloso",
                    "poco nuvoloso",
                    "pioggia debole",
                    "pioggia debole",
                    "pioggia e schiarite",
                    "pioggia e schiarite",
                    "nebbia al mattino",
                    "nebbia al mattino",
                    "temporale e schiarite",
                    "temporale e schiarite",
                    "pioggia e schiarite",
                    "pioggia e schiarite",
                    "poco nuvoloso",
                    "poco nuvoloso",
                    "nebbia al mattino",
                    "nebbia al mattino",
                    "pioggia e schiarite",
                    "pioggia e schiarite",
                    "pioggia e schiarite",
                    "pioggia e schiarite",
                    "pioggia e schiarite",
                    "pioggia e schiarite",
                    "nubi sparse",
                    "nubi sparse",
                    "nubi sparse",
                    "nubi sparse",
                    "pioggia e schiarite",
                    "pioggia e schiarite",
                    "nebbia al mattino",
                    "nebbia al mattino",
                    "poco nuvoloso",
                    "poco nuvoloso",
                    "pioggia debole",
                    "pioggia debole",
                    "nebbia al mattino",
                    "nebbia al mattino",
                    "poco nuvoloso",
                    "poco nuvoloso",
                    "sereno",
                    "sereno",
                    "poco nuvoloso",
                    "poco nuvoloso",
                    "poco nuvoloso",
                    "poco nuvoloso",
                    "pioggia e schiarite",
                    "pioggia e schiarite",
                    "nubi sparse",
                    "nubi sparse",
                    "neve",
                    "neve",
                    "poco nuvoloso",
                    "poco nuvoloso",
                    "pioggia e schiarite",
                    "pioggia e schiarite",
                    "nubi sparse",
                    "nubi sparse",
                    "pioggia e schiarite",
                    "pioggia e schiarite",
                    "poco nuvoloso",
                    "poco nuvoloso",
                    "coperto",
                    "coperto",
                    "sereno",
                    "sereno",
                    "neve",
                    "neve",
                    "poco nuvoloso",
                    "poco nuvoloso",
                    "pioggia e schiarite",
                    "pioggia e schiarite",
                    "sereno",
                    "sereno",
                    "neve",
                    "neve",
                    "poco nuvoloso",
                    "poco nuvoloso",
                    "poco nuvoloso",
                    "poco nuvoloso",
                    "poco nuvoloso",
                    "poco nuvoloso",
                    "pioggia debole",
                    "pioggia debole",
                    "poco nuvoloso",
                    "poco nuvoloso",
                    "poco nuvoloso",
                    "poco nuvoloso",
                    "poco nuvoloso",
                    "poco nuvoloso",
                    "poco nuvoloso",
                    "poco nuvoloso",
                    "poco nuvoloso",
                    "poco nuvoloso",
                    "pioggia e schiarite",
                    "pioggia e schiarite",
                    "pioggia e schiarite",
                    "pioggia e schiarite",
                    "pioggia e schiarite",
                    "pioggia e schiarite",
                    "poco nuvoloso",
                    "poco nuvoloso",
                    "nubi sparse",
                    "nubi sparse",
                    "poco nuvoloso",
                    "poco nuvoloso",
                    "poco nuvoloso",
                    "poco nuvoloso",
                    "pioggia e schiarite",
                    "pioggia e schiarite",
                    "poco nuvoloso",
                    "poco nuvoloso",
                    "pioggia e schiarite",
                    "pioggia e schiarite",
                    "neve e schiarite",
                    "neve e schiarite",
                    "neve debole",
                    "neve debole",
                    "sereno",
                    "sereno",
                    "poco nuvoloso",
                    "poco nuvoloso",
                    "neve",
                    "neve",
                    "pioggia e schiarite",
                    "pioggia e schiarite",
                    "poco nuvoloso",
                    "poco nuvoloso",
                    "pioggia e schiarite",
                    "pioggia e schiarite",
                    "poco nuvoloso",
                    "poco nuvoloso",
                    "pioggia e schiarite",
                    "pioggia e schiarite",
                    "poco nuvoloso",
                    "poco nuvoloso",
                    "pioggia e schiarite",
                    "pioggia e schiarite",
                    "poco nuvoloso",
                    "poco nuvoloso",
                    "pioggia e schiarite",
                    "pioggia e schiarite",
                    "poco nuvoloso",
                    "poco nuvoloso",
                    "pioggia e schiarite",
                    "pioggia e schiarite",
                    "poco nuvoloso",
                    "poco nuvoloso",
                    "poco nuvoloso",
                    "poco nuvoloso",
                    "pioggia e schiarite",
                    "pioggia e schiarite",
                    "poco nuvoloso",
                    "poco nuvoloso",
                    "poco nuvoloso",
                    "poco nuvoloso",
                    "pioggia e schiarite",
                    "pioggia e schiarite",
                    "poco nuvoloso",
                    "poco nuvoloso",
                    "temporale e schiarite",
                    "temporale e schiarite",
                    "poco nuvoloso",
                    "poco nuvoloso",
                    "sereno",
                    "sereno",
                    "temporale e schiarite",
                    "temporale e schiarite",
                    "poco nuvoloso",
                    "poco nuvoloso",
                    "nubi sparse",
                    "nubi sparse",
                    "nebbia al mattino",
                    "nebbia al mattino",
                    "pioggia e schiarite",
                    "pioggia e schiarite",
                    "temporale e schiarite",
                    "temporale e schiarite",
                    "nubi sparse",
                    "nubi sparse",
                    "poco nuvoloso",
                    "poco nuvoloso",
                    "temporale e schiarite",
                    "temporale e schiarite",
                    "poco nuvoloso",
                    "poco nuvoloso",
                    "pioggia e schiarite",
                    "pioggia e schiarite",
                    "poco nuvoloso",
                    "poco nuvoloso",
                    "pioggia debole",
                    "pioggia debole",
                    "nubi sparse",
                    "nubi sparse",
                    "poco nuvoloso",
                    "poco nuvoloso",
                    "nubi sparse",
                    "nubi sparse",
                    "pioggia e schiarite",
                    "pioggia e schiarite",
                    "poco nuvoloso",
                    "poco nuvoloso",
                    "pioggia e schiarite",
                    "pioggia e schiarite",
                    "poco nuvoloso",
                    "poco nuvoloso",
                    "poco nuvoloso",
                    "poco nuvoloso",
                    "poco nuvoloso",
                    "poco nuvoloso",
                    "temporale e schiarite",
                    "temporale e schiarite",
                    "poco nuvoloso",
                    "poco nuvoloso",
                    "poco nuvoloso",
                    "poco nuvoloso",
                    "poco nuvoloso",
                    "poco nuvoloso",
                    "poco nuvoloso",
                    "poco nuvoloso",
                    "sole e caldo",
                    "sole e caldo",
                    "poco nuvoloso",
                    "poco nuvoloso",
                    "poco nuvoloso",
                    "poco nuvoloso",
                    "poco nuvoloso",
                    "poco nuvoloso",
                    "poco nuvoloso",
                    "poco nuvoloso",
                    "poco nuvoloso",
                    "poco nuvoloso",
                    "poco nuvoloso",
                    "poco nuvoloso",
                    "poco nuvoloso",
                    "poco nuvoloso",
                    "poco nuvoloso",
                    "poco nuvoloso",
                    "sole e caldo",
                    "sole e caldo",
                    "poco nuvoloso",
                    "poco nuvoloso",
                    "poco nuvoloso",
                    "poco nuvoloso",
                    "temporale e schiarite",
                    "temporale e schiarite",
                    "poco nuvoloso",
                    "poco nuvoloso",
                    "poco nuvoloso",
                    "poco nuvoloso",
                    "temporale e schiarite",
                    "temporale e schiarite",
                    "poco nuvoloso",
                    "poco nuvoloso",
                    "poco nuvoloso",
                    "poco nuvoloso",
                    "poco nuvoloso",
                    "poco nuvoloso",
                    "pioggia e schiarite",
                    "pioggia e schiarite",
                    "sole e caldo",
                    "sole e caldo",
                    "sole e caldo",
                    "sole e caldo",
                    "sole e caldo",
                    "sole e caldo",
                    "sole e caldo",
                    "sole e caldo",
                    "sole e caldo",
                    "sole e caldo",
                    "temporale e schiarite",
                    "temporale e schiarite",
                    "sole e caldo",
                    "sole e caldo",
                    "poco nuvoloso",
                    "poco nuvoloso",
                    "poco nuvoloso",
                    "poco nuvoloso",
                    "poco nuvoloso",
                    "poco nuvoloso",
                    "poco nuvoloso",
                    "poco nuvoloso",
                    "sole e caldo",
                    "sole e caldo",
                    "poco nuvoloso",
                    "poco nuvoloso",
                    "poco nuvoloso",
                    "poco nuvoloso",
                    "poco nuvoloso",
                    "poco nuvoloso",
                    "temporale e schiarite",
                    "temporale e schiarite",
                    "poco nuvoloso",
                    "poco nuvoloso",
                    "nubi sparse",
                    "nubi sparse",
                    "poco nuvoloso",
                    "poco nuvoloso",
                    "poco nuvoloso",
                    "poco nuvoloso",
                    "sereno",
                    "sereno",
                    "sole e caldo",
                    "sole e caldo",
                    "poco nuvoloso",
                    "poco nuvoloso",
                    "poco nuvoloso",
                    "poco nuvoloso",
                    "sereno",
                    "sereno",
                    "nubi sparse",
                    "nubi sparse",
                    "poco nuvoloso",
                    "poco nuvoloso",
                    "poco nuvoloso",
                    "poco nuvoloso",
                    "sereno",
                    "sereno",
                    "sereno",
                    "sereno",
                    "poco nuvoloso",
                    "poco nuvoloso",
                    "poco nuvoloso",
                    "poco nuvoloso",
                    "sereno",
                    "sereno",
                    "pioggia e schiarite",
                    "pioggia e schiarite",
                    "sereno",
                    "sereno",
                    "sereno",
                    "sereno",
                    "sereno",
                    "sereno",
                    "sereno",
                    "sereno",
                    "pioggia e schiarite",
                    "pioggia e schiarite",
                    "poco nuvoloso",
                    "poco nuvoloso",
                    "sereno",
                    "sereno",
                    "sereno",
                    "sereno",
                    "sereno",
                    "sereno",
                    "pioggia mista a neve e schiarite",
                    "pioggia mista a neve e schiarite",
                    "poco nuvoloso",
                    "poco nuvoloso",
                    "pioggia e schiarite",
                    "pioggia e schiarite",
                    "pioggia debole",
                    "pioggia debole",
                    "nebbia al mattino",
                    "nebbia al mattino",
                    "pioggia debole",
                    "pioggia debole",
                    "sereno",
                    "sereno",
                    "pioggia e schiarite",
                    "pioggia e schiarite",
                    "pioggia e schiarite",
                    "pioggia e schiarite",
                    "nubi sparse",
                    "nubi sparse",
                    "nebbia al mattino",
                    "nebbia al mattino",
                    "poco nuvoloso",
                    "poco nuvoloso",
                    "pioggia debole",
                    "pioggia debole",
                    "poco nuvoloso",
                    "poco nuvoloso",
                    "nebbia al mattino",
                    "nebbia al mattino",
                    "pioggia e schiarite",
                    "pioggia e schiarite",
                    "poco nuvoloso",
                    "poco nuvoloso",
                    "pioggia debole",
                    "pioggia debole",
                    "nebbia al mattino",
                    "nebbia al mattino",
                    "nebbia al mattino",
                    "nebbia al mattino",
                    "nebbia al mattino",
                    "nebbia al mattino",
                    "nebbia",
                    "nebbia",
                    "pioggia e schiarite",
                    "pioggia e schiarite",
                    "nebbia al mattino",
                    "nebbia al mattino",
                    "poco nuvoloso",
                    "poco nuvoloso",
                    "pioggia e schiarite",
                    "pioggia e schiarite",
                    "pioggia e schiarite",
                    "pioggia e schiarite",
                    "nebbia al mattino",
                    "nebbia al mattino",
                    "nebbia al mattino",
                    "nebbia al mattino",
                    "sereno",
                    "sereno",
                    "nebbia al mattino",
                    "nebbia al mattino",
                    "nebbia al mattino",
                    "nebbia al mattino",
                    "sereno",
                    "sereno",
                    "sereno",
                    "sereno",
                    "sereno",
                    "sereno",
                    "nubi sparse",
                    "nubi sparse",
                    "sereno",
                    "sereno",
                    "sereno",
                    "sereno",
                    "sereno",
                    "sereno",
                    "nebbia al mattino",
                    "nebbia al mattino",
                    "nubi sparse",
                    "nubi sparse",
                    "pioggia e schiarite",
                    "pioggia e schiarite",
                    "nebbia al mattino",
                    "nebbia al mattino",
                    "pioggia e schiarite",
                    "pioggia e schiarite",
                    "nebbia al mattino",
                    "nebbia al mattino",
                    "nebbia",
                    "nebbia",
                    "poco nuvoloso",
                    "poco nuvoloso",
                    "sereno",
                    "sereno",
                    "poco nuvoloso",
                    "poco nuvoloso",
                    "nubi sparse",
                    "nubi sparse",
                    "nebbia al mattino",
                    "nebbia al mattino",
                    "sereno",
                    "sereno",
                    "pioggia debole",
                    "pioggia debole",
                    "sereno",
                    "sereno",
                    "poco nuvoloso",
                    "poco nuvoloso",
                    "sereno",
                    "sereno",
                    "poco nuvoloso",
                    "poco nuvoloso",
                    "poco nuvoloso",
                    "poco nuvoloso",
                    "poco nuvoloso",
                    "poco nuvoloso",
                    "sereno",
                    "sereno",
                    "sole e caldo",
                    "sole e caldo",
                    "pioggia debole",
                    "pioggia debole",
                    "poco nuvoloso",
                    "poco nuvoloso",
                    "pioggia e schiarite",
                    "pioggia e schiarite",
                    "sereno",
                    "sereno",
                    "sereno",
                    "sereno",
                    "sereno",
                    "sereno",
                    "sereno",
                    "sereno",
                    "pioggia e schiarite",
                    "pioggia e schiarite",
                    "pioggia e schiarite",
                    "pioggia e schiarite",
                    "poco nuvoloso",
                    "poco nuvoloso",
                    "sereno",
                    "sereno",
                    "poco nuvoloso",
                    "poco nuvoloso",
                    "pioggia e schiarite",
                    "pioggia e schiarite",
                    "sereno",
                    "sereno",
                    "pioggia e schiarite",
                    "pioggia e schiarite",
                    "poco nuvoloso",
                    "poco nuvoloso",
                    "temporale e schiarite",
                    "temporale e schiarite",
                    "pioggia e schiarite",
                    "pioggia e schiarite",
                    "poco nuvoloso",
                    "poco nuvoloso",
                    "pioggia e schiarite",
                    "pioggia e schiarite",
                    "poco nuvoloso",
                    "poco nuvoloso",
                    "poco nuvoloso",
                    "poco nuvoloso",
                    "pioggia e schiarite",
                    "pioggia e schiarite",
                    "pioggia",
                    "pioggia",
                    "pioggia e schiarite",
                    "pioggia e schiarite",
                    "pioggia e schiarite",
                    "pioggia e schiarite",
                    "pioggia e schiarite",
                    "pioggia e schiarite",
                    "pioggia debole",
                    "pioggia debole",
                    "nubi sparse",
                    "nubi sparse",
                    "poco nuvoloso",
                    "poco nuvoloso",
                    "sereno",
                    "sereno",
                    "sereno",
                    "sereno",
                    "poco nuvoloso",
                    "poco nuvoloso",
                    "poco nuvoloso",
                    "poco nuvoloso",
                    "nubi sparse",
                    "nubi sparse",
                    "poco nuvoloso",
                    "poco nuvoloso",
                    "pioggia e schiarite",
                    "pioggia e schiarite",
                    "poco nuvoloso",
                    "poco nuvoloso",
                    "sereno",
                    "sereno",
                    "pioggia e schiarite",
                    "pioggia e schiarite",
                    "poco nuvoloso",
                    "poco nuvoloso",
                    "pioggia e schiarite",
                    "pioggia e schiarite",
                    "poco nuvoloso",
                    "poco nuvoloso",
                    "sole e caldo",
                    "sole e caldo",
                    "pioggia e schiarite",
                    "pioggia e schiarite",
                    "pioggia e schiarite",
                    "pioggia e schiarite",
                    "poco nuvoloso",
                    "poco nuvoloso",
                    "poco nuvoloso",
                    "poco nuvoloso",
                    "poco nuvoloso",
                    "poco nuvoloso",
                    "poco nuvoloso",
                    "poco nuvoloso",
                    "pioggia",
                    "pioggia",
                    "poco nuvoloso",
                    "poco nuvoloso",
                    "pioggia e schiarite",
                    "pioggia e schiarite",
                    "poco nuvoloso",
                    "poco nuvoloso",
                    "sereno",
                    "sereno",
                    "poco nuvoloso",
                    "poco nuvoloso",
                    "pioggia e schiarite",
                    "pioggia e schiarite",
                    "sole e caldo",
                    "sole e caldo",
                    "pioggia e schiarite",
                    "pioggia e schiarite",
                    "sole e caldo",
                    "sole e caldo",
                    "poco nuvoloso",
                    "poco nuvoloso",
                    "sole e caldo",
                    "sole e caldo",
                    "poco nuvoloso",
                    "poco nuvoloso",
                    "poco nuvoloso",
                    "poco nuvoloso",
                    "poco nuvoloso",
                    "poco nuvoloso",
                    "poco nuvoloso",
                    "poco nuvoloso",
                    "poco nuvoloso",
                    "poco nuvoloso",
                    "poco nuvoloso",
                    "poco nuvoloso",
                    "poco nuvoloso",
                    "poco nuvoloso",
                    "poco nuvoloso",
                    "poco nuvoloso",
                    "poco nuvoloso",
                    "poco nuvoloso",
                    "pioggia e schiarite",
                    "pioggia e schiarite",
                    "poco nuvoloso",
                    "poco nuvoloso",
                    "poco nuvoloso",
                    "poco nuvoloso",
                    "poco nuvoloso",
                    "poco nuvoloso",
                    "sole e caldo",
                    "sole e caldo",
                    "poco nuvoloso",
                    "poco nuvoloso",
                    "poco nuvoloso",
                    "poco nuvoloso",
                    "poco nuvoloso",
                    "poco nuvoloso",
                    "poco nuvoloso",
                    "poco nuvoloso",
                    "poco nuvoloso",
                    "poco nuvoloso",
                    "temporale e schiarite",
                    "temporale e schiarite",
                    "sole e caldo",
                    "sole e caldo",
                    "pioggia e schiarite",
                    "pioggia e schiarite",
                    "poco nuvoloso",
                    "poco nuvoloso",
                    "poco nuvoloso",
                    "poco nuvoloso",
                    "sole e caldo",
                    "sole e caldo",
                    "sole e caldo",
                    "sole e caldo",
                    "sole e caldo",
                    "sole e caldo",
                    "poco nuvoloso",
                    "poco nuvoloso",
                    "poco nuvoloso",
                    "poco nuvoloso",
                    "poco nuvoloso",
                    "poco nuvoloso",
                    "poco nuvoloso",
                    "poco nuvoloso",
                    "poco nuvoloso",
                    "poco nuvoloso",
                    "pioggia e schiarite",
                    "pioggia e schiarite",
                    "pioggia e schiarite",
                    "pioggia e schiarite",
                    "sereno",
                    "sereno",
                    "poco nuvoloso",
                    "poco nuvoloso",
                    "poco nuvoloso",
                    "poco nuvoloso",
                    "sole e caldo",
                    "sole e caldo",
                    "pioggia debole",
                    "pioggia debole",
                    "sole e caldo",
                    "sole e caldo",
                    "temporale e schiarite",
                    "temporale e schiarite",
                    "sole e caldo",
                    "sole e caldo",
                    "poco nuvoloso",
                    "poco nuvoloso",
                    "poco nuvoloso",
                    "poco nuvoloso",
                    "sole e caldo",
                    "sole e caldo",
                    "sereno",
                    "sereno",
                    "poco nuvoloso",
                    "poco nuvoloso",
                    "sole e caldo",
                    "sole e caldo",
                    "sole e caldo",
                    "sole e caldo",
                    "poco nuvoloso",
                    "poco nuvoloso",
                    "poco nuvoloso",
                    "poco nuvoloso",
                    "sereno",
                    "sereno",
                    "sereno",
                    "sereno",
                    "temporale e schiarite",
                    "temporale e schiarite",
                    "poco nuvoloso",
                    "poco nuvoloso",
                    "sole e caldo",
                    "sole e caldo",
                    "poco nuvoloso",
                    "poco nuvoloso",
                    "sereno",
                    "sereno",
                    "nubi sparse",
                    "nubi sparse",
                    "sole e caldo",
                    "sole e caldo",
                    "poco nuvoloso",
                    "poco nuvoloso",
                    "poco nuvoloso",
                    "poco nuvoloso",
                    "poco nuvoloso",
                    "poco nuvoloso",
                    "temporale e schiarite",
                    "temporale e schiarite",
                    "poco nuvoloso",
                    "poco nuvoloso",
                    "sole e caldo",
                    "sole e caldo",
                    "temporale e schiarite",
                    "temporale e schiarite",
                    "sereno",
                    "sereno",
                    "poco nuvoloso",
                    "poco nuvoloso",
                    "pioggia e schiarite",
                    "pioggia e schiarite",
                    "poco nuvoloso",
                    "poco nuvoloso",
                    "poco nuvoloso",
                    "poco nuvoloso",
                    "poco nuvoloso",
                    "poco nuvoloso",
                    "sole e caldo",
                    "sole e caldo",
                    "poco nuvoloso",
                    "poco nuvoloso",
                    "sole e caldo",
                    "sole e caldo",
                    "poco nuvoloso",
                    "poco nuvoloso",
                    "sole e caldo",
                    "sole e caldo",
                    "temporale e schiarite",
                    "temporale e schiarite",
                    "poco nuvoloso",
                    "poco nuvoloso",
                    "sole e caldo",
                    "sole e caldo",
                    "sole e caldo",
                    "sole e caldo",
                    "sole e caldo",
                    "sole e caldo",
                    "poco nuvoloso",
                    "poco nuvoloso",
                    "sole e caldo",
                    "sole e caldo",
                    "poco nuvoloso",
                    "poco nuvoloso",
                    "sole e caldo",
                    "sole e caldo",
                    "poco nuvoloso",
                    "poco nuvoloso",
                    "poco nuvoloso",
                    "poco nuvoloso",
                    "sole e caldo",
                    "sole e caldo",
                    "sole e caldo",
                    "sole e caldo",
                    "sereno",
                    "sereno",
                    "poco nuvoloso",
                    "poco nuvoloso",
                    "nubi sparse",
                    "nubi sparse",
                    "poco nuvoloso",
                    "poco nuvoloso",
                    "poco nuvoloso",
                    "poco nuvoloso",
                    "poco nuvoloso",
                    "poco nuvoloso",
                    "sereno",
                    "sereno",
                    "poco nuvoloso",
                    "poco nuvoloso",
                    "sole e caldo",
                    "sole e caldo",
                    "poco nuvoloso",
                    "poco nuvoloso",
                    "sereno",
                    "sereno",
                    "poco nuvoloso",
                    "poco nuvoloso",
                    "poco nuvoloso",
                    "poco nuvoloso",
                    "poco nuvoloso",
                    "poco nuvoloso",
                    "sole e caldo",
                    "sole e caldo",
                    "sole e caldo",
                    "sole e caldo",
                    "sole e caldo",
                    "sole e caldo",
                    "poco nuvoloso",
                    "poco nuvoloso",
                    "sereno",
                    "sereno",
                    "pioggia debole",
                    "pioggia debole",
                    "sole e caldo",
                    "sole e caldo",
                    "nebbia al mattino",
                    "nebbia al mattino",
                    "poco nuvoloso",
                    "poco nuvoloso",
                    "poco nuvoloso",
                    "poco nuvoloso",
                    "poco nuvoloso",
                    "poco nuvoloso",
                    "pioggia e schiarite",
                    "pioggia e schiarite",
                    "poco nuvoloso",
                    "poco nuvoloso",
                    "sole e caldo",
                    "sole e caldo",
                    "pioggia e schiarite",
                    "pioggia e schiarite",
                    "poco nuvoloso",
                    "poco nuvoloso",
                    "poco nuvoloso",
                    "poco nuvoloso",
                    "poco nuvoloso",
                    "poco nuvoloso",
                    "temporale e schiarite",
                    "temporale e schiarite",
                    "poco nuvoloso",
                    "poco nuvoloso",
                    "poco nuvoloso",
                    "poco nuvoloso",
                    "poco nuvoloso",
                    "poco nuvoloso",
                    "poco nuvoloso",
                    "poco nuvoloso",
                    "sole e caldo",
                    "sole e caldo",
                    "sole e caldo",
                    "sole e caldo",
                    "pioggia debole",
                    "pioggia debole",
                    "nubi sparse",
                    "nubi sparse",
                    "nebbia al mattino",
                    "nebbia al mattino",
                    "pioggia debole",
                    "pioggia debole",
                    "pioggia e schiarite",
                    "pioggia e schiarite",
                    "sereno",
                    "sereno",
                    "sole e caldo",
                    "sole e caldo",
                    "poco nuvoloso",
                    "poco nuvoloso",
                    "pioggia e schiarite",
                    "pioggia e schiarite",
                    "poco nuvoloso",
                    "poco nuvoloso",
                    "poco nuvoloso",
                    "poco nuvoloso",
                    "poco nuvoloso",
                    "poco nuvoloso",
                    "pioggia e schiarite",
                    "pioggia e schiarite",
                    "sereno",
                    "sereno",
                    "poco nuvoloso",
                    "poco nuvoloso",
                    "sereno",
                    "sereno",
                    "pioggia",
                    "pioggia",
                    "pioggia debole",
                    "pioggia debole",
                    "nebbia al mattino",
                    "nebbia al mattino",
                    "poco nuvoloso",
                    "poco nuvoloso",
                    "poco nuvoloso",
                    "poco nuvoloso",
                    "poco nuvoloso",
                    "poco nuvoloso",
                    "pioggia debole",
                    "pioggia debole",
                    "poco nuvoloso",
                    "poco nuvoloso",
                    "sole e caldo",
                    "sole e caldo",
                    "pioggia debole",
                    "pioggia debole",
                    "poco nuvoloso",
                    "poco nuvoloso",
                    "poco nuvoloso",
                    "poco nuvoloso",
                    "pioggia debole",
                    "pioggia debole",
                    "pioggia e schiarite",
                    "pioggia e schiarite",
                    "poco nuvoloso",
                    "poco nuvoloso",
                    "poco nuvoloso",
                    "poco nuvoloso",
                    "poco nuvoloso",
                    "poco nuvoloso",
                    "pioggia e schiarite",
                    "pioggia e schiarite",
                    "poco nuvoloso",
                    "poco nuvoloso",
                    "pioggia e schiarite",
                    "pioggia e schiarite",
                    "poco nuvoloso",
                    "poco nuvoloso",
                    "nebbia al mattino",
                    "nebbia al mattino",
                    "pioggia debole",
                    "pioggia debole",
                    "coperto",
                    "coperto",
                    "sereno",
                    "sereno",
                    "pioggia e schiarite",
                    "pioggia e schiarite",
                    "neve e schiarite",
                    "neve e schiarite",
                    "pioggia debole",
                    "pioggia debole",
                    "nebbia al mattino",
                    "nebbia al mattino",
                    "pioggia debole",
                    "pioggia debole",
                    "poco nuvoloso",
                    "poco nuvoloso",
                    "nebbia al mattino",
                    "nebbia al mattino",
                    "pioggia e schiarite",
                    "pioggia e schiarite",
                    "coperto",
                    "coperto",
                    "poco nuvoloso",
                    "poco nuvoloso",
                    "pioggia debole",
                    "pioggia debole",
                    "nebbia al mattino",
                    "nebbia al mattino",
                    "nebbia al mattino",
                    "nebbia al mattino",
                    "pioggia debole",
                    "pioggia debole",
                    "pioggia",
                    "pioggia",
                    "pioggia debole",
                    "pioggia debole",
                    "nebbia al mattino",
                    "nebbia al mattino",
                    "poco nuvoloso",
                    "poco nuvoloso",
                    "poco nuvoloso",
                    "poco nuvoloso",
                    "nebbia al mattino",
                    "nebbia al mattino",
                    "poco nuvoloso",
                    "poco nuvoloso",
                    "pioggia e schiarite",
                    "pioggia e schiarite",
                    "poco nuvoloso",
                    "poco nuvoloso",
                    "nebbia al mattino",
                    "nebbia al mattino",
                    "nebbia al mattino",
                    "nebbia al mattino",
                    "nebbia al mattino",
                    "nebbia al mattino",
                    "pioggia debole",
                    "pioggia debole",
                    "nebbia al mattino",
                    "nebbia al mattino",
                    "pioggia e schiarite",
                    "pioggia e schiarite",
                    "pioggia debole",
                    "pioggia debole",
                    "pioggia debole",
                    "pioggia debole",
                    "poco nuvoloso",
                    "poco nuvoloso",
                    "nebbia al mattino",
                    "nebbia al mattino",
                    "coperto",
                    "coperto",
                    "nebbia al mattino",
                    "nebbia al mattino",
                    "pioggia e schiarite",
                    "pioggia e schiarite",
                    "pioggia e schiarite",
                    "pioggia e schiarite",
                    "nebbia al mattino",
                    "nebbia al mattino",
                    "nebbia al mattino",
                    "nebbia al mattino",
                    "pioggia e schiarite",
                    "pioggia e schiarite",
                    "poco nuvoloso",
                    "poco nuvoloso",
                    "pioggia",
                    "pioggia",
                    "nebbia al mattino",
                    "nebbia al mattino",
                    "pioggia debole",
                    "pioggia debole",
                    "sereno",
                    "sereno",
                    "pioggia debole",
                    "pioggia debole",
                    "coperto",
                    "coperto",
                    "pioggia e schiarite",
                    "pioggia e schiarite",
                    "pioggia debole",
                    "pioggia debole",
                    "nebbia al mattino",
                    "nebbia al mattino",
                    "sereno",
                    "sereno",
                    "nebbia al mattino",
                    "nebbia al mattino",
                    "pioggia e schiarite",
                    "pioggia e schiarite",
                    "neve e schiarite",
                    "neve e schiarite",
                    "pioggia e schiarite",
                    "pioggia e schiarite",
                    "sereno",
                    "sereno",
                    "nebbia al mattino",
                    "nebbia al mattino",
                    "pioggia e schiarite",
                    "pioggia e schiarite",
                    "nebbia al mattino",
                    "nebbia al mattino",
                    "nebbia al mattino",
                    "nebbia al mattino",
                    "poco nuvoloso",
                    "poco nuvoloso",
                    "pioggia e schiarite",
                    "pioggia e schiarite",
                    "pioggia e schiarite",
                    "pioggia e schiarite",
                    "pioggia e schiarite",
                    "pioggia e schiarite",
                    "pioggia e schiarite",
                    "pioggia e schiarite",
                    "poco nuvoloso",
                    "poco nuvoloso",
                    "poco nuvoloso",
                    "poco nuvoloso",
                    "nebbia al mattino",
                    "nebbia al mattino",
                    "pioggia e schiarite",
                    "pioggia e schiarite",
                    "sereno",
                    "sereno",
                    "pioggia e schiarite",
                    "pioggia e schiarite",
                    "nebbia al mattino",
                    "nebbia al mattino",
                    "sereno",
                    "sereno",
                    "sereno",
                    "sereno",
                    "pioggia e schiarite",
                    "pioggia e schiarite",
                    "poco nuvoloso",
                    "poco nuvoloso",
                    "pioggia e schiarite",
                    "pioggia e schiarite",
                    "pioggia e schiarite",
                    "pioggia e schiarite",
                    "pioggia debole",
                    "pioggia debole",
                    "pioggia e schiarite",
                    "pioggia e schiarite",
                    "pioggia e schiarite",
                    "pioggia e schiarite",
                    "nebbia al mattino",
                    "nebbia al mattino",
                    "pioggia e schiarite",
                    "pioggia e schiarite",
                    "pioggia e schiarite",
                    "pioggia e schiarite",
                    "sereno",
                    "sereno",
                    "sereno",
                    "sereno",
                    "nebbia al mattino",
                    "nebbia al mattino",
                    "poco nuvoloso",
                    "poco nuvoloso",
                    "neve e schiarite",
                    "neve e schiarite",
                    "pioggia",
                    "pioggia",
                    "sereno",
                    "sereno",
                    "pioggia e schiarite",
                    "pioggia e schiarite",
                    "nebbia al mattino",
                    "nebbia al mattino",
                    "sereno",
                    "sereno",
                    "poco nuvoloso",
                    "poco nuvoloso",
                    "sereno",
                    "sereno",
                    "nubi sparse",
                    "nubi sparse",
                    "poco nuvoloso",
                    "poco nuvoloso",
                    "pioggia e schiarite",
                    "pioggia e schiarite",
                    "nebbia al mattino",
                    "nebbia al mattino",
                    "nebbia",
                    "nebbia",
                    "nebbia",
                    "nebbia",
                    "pioggia e schiarite",
                    "pioggia e schiarite",
                    "pioggia e schiarite",
                    "pioggia e schiarite",
                    "poco nuvoloso",
                    "poco nuvoloso",
                    "poco nuvoloso",
                    "poco nuvoloso",
                    "nebbia",
                    "nebbia",
                    "pioggia e schiarite",
                    "pioggia e schiarite",
                    "sereno",
                    "sereno",
                    "sereno",
                    "sereno",
                    "sereno",
                    "sereno",
                    "pioggia debole",
                    "pioggia debole",
                    "nebbia al mattino",
                    "nebbia al mattino",
                    "pioggia e schiarite",
                    "pioggia e schiarite",
                    "poco nuvoloso",
                    "poco nuvoloso",
                    "pioggia e schiarite",
                    "pioggia e schiarite",
                    "sereno",
                    "sereno",
                    "pioggia e schiarite",
                    "pioggia e schiarite",
                    "pioggia e schiarite",
                    "pioggia e schiarite",
                    "pioggia e schiarite",
                    "pioggia e schiarite",
                    "nebbia al mattino",
                    "nebbia al mattino",
                    "pioggia e schiarite",
                    "pioggia e schiarite",
                    "sereno",
                    "sereno",
                    "nebbia al mattino",
                    "nebbia al mattino",
                    "nebbia",
                    "nebbia",
                    "nebbia al mattino",
                    "nebbia al mattino",
                    "nebbia al mattino",
                    "nebbia al mattino",
                    "nebbia al mattino",
                    "nebbia al mattino",
                    "nebbia al mattino",
                    "nebbia al mattino",
                    "nebbia al mattino",
                    "nebbia al mattino",
                    "poco nuvoloso",
                    "poco nuvoloso",
                    "sereno",
                    "sereno",
                    "nebbia al mattino",
                    "nebbia al mattino",
                    "nebbia al mattino",
                    "nebbia al mattino",
                    "sereno",
                    "sereno",
                    "poco nuvoloso",
                    "poco nuvoloso",
                    "poco nuvoloso",
                    "poco nuvoloso",
                    "nebbia al mattino",
                    "nebbia al mattino",
                    "sereno",
                    "sereno",
                    "poco nuvoloso",
                    "poco nuvoloso",
                    "nebbia",
                    "nebbia",
                    "poco nuvoloso",
                    "poco nuvoloso",
                    "sereno",
                    "sereno",
                    "nebbia al mattino",
                    "nebbia al mattino",
                    "pioggia e schiarite",
                    "pioggia e schiarite",
                    "nebbia al mattino",
                    "nebbia al mattino",
                    "pioggia e schiarite",
                    "pioggia e schiarite",
                    "sereno",
                    "sereno",
                    "pioggia e schiarite",
                    "pioggia e schiarite",
                    "nebbia al mattino",
                    "nebbia al mattino",
                    "pioggia e schiarite",
                    "pioggia e schiarite",
                    "nebbia al mattino",
                    "nebbia al mattino",
                    "nebbia al mattino",
                    "nebbia al mattino",
                    "pioggia debole",
                    "pioggia debole",
                    "sereno",
                    "sereno",
                    "pioggia e schiarite",
                    "pioggia e schiarite",
                    "pioggia e schiarite",
                    "pioggia e schiarite",
                    "nebbia al mattino",
                    "nebbia al mattino",
                    "nebbia al mattino",
                    "nebbia al mattino",
                    "nebbia al mattino",
                    "nebbia al mattino",
                    "nebbia al mattino",
                    "nebbia al mattino",
                    "sereno",
                    "sereno",
                    "nebbia al mattino",
                    "nebbia al mattino",
                    "sereno",
                    "sereno",
                    "sereno",
                    "sereno",
                    "nebbia al mattino",
                    "nebbia al mattino",
                    "nebbia al mattino",
                    "nebbia al mattino",
                    "sereno",
                    "sereno",
                    "nebbia al mattino",
                    "nebbia al mattino",
                    "nebbia al mattino",
                    "nebbia al mattino",
                    "sereno",
                    "sereno",
                    "poco nuvoloso",
                    "poco nuvoloso",
                    "sereno",
                    "sereno",
                    "sereno",
                    "sereno",
                    "nebbia al mattino",
                    "nebbia al mattino",
                    "nebbia al mattino",
                    "nebbia al mattino",
                    "sereno",
                    "sereno",
                    "nebbia al mattino",
                    "nebbia al mattino",
                    "pioggia e schiarite",
                    "pioggia e schiarite",
                    "sereno",
                    "sereno",
                    "pioggia e schiarite",
                    "pioggia e schiarite",
                    "pioggia e schiarite",
                    "pioggia e schiarite",
                    "poco nuvoloso",
                    "poco nuvoloso",
                    "poco nuvoloso",
                    "poco nuvoloso",
                    "nebbia al mattino",
                    "nebbia al mattino",
                    "sereno",
                    "sereno",
                    "pioggia debole",
                    "pioggia debole",
                    "nebbia al mattino",
                    "nebbia al mattino",
                    "nebbia al mattino",
                    "nebbia al mattino",
                    "nebbia al mattino",
                    "nebbia al mattino",
                    "nebbia al mattino",
                    "nebbia al mattino",
                    "pioggia e schiarite",
                    "pioggia e schiarite",
                    "pioggia e schiarite",
                    "pioggia e schiarite",
                    "nebbia al mattino",
                    "nebbia al mattino",
                    "nebbia al mattino",
                    "nebbia al mattino",
                    "nebbia al mattino",
                    "nebbia al mattino",
                    "poco nuvoloso",
                    "poco nuvoloso",
                    "sereno",
                    "sereno",
                    "nebbia al mattino",
                    "nebbia al mattino",
                    "poco nuvoloso",
                    "poco nuvoloso",
                    "poco nuvoloso",
                    "poco nuvoloso",
                    "poco nuvoloso",
                    "poco nuvoloso",
                    "sereno",
                    "sereno",
                    "pioggia e schiarite",
                    "pioggia e schiarite",
                    "sereno",
                    "sereno",
                    "pioggia e schiarite",
                    "pioggia e schiarite",
                    "nebbia al mattino",
                    "nebbia al mattino",
                    "pioggia e schiarite",
                    "pioggia e schiarite",
                    "pioggia e schiarite",
                    "pioggia e schiarite",
                    "nebbia al mattino",
                    "nebbia al mattino",
                    "sereno",
                    "sereno",
                    "pioggia e schiarite",
                    "pioggia e schiarite",
                    "nebbia al mattino",
                    "nebbia al mattino",
                    "sereno",
                    "sereno",
                    "sereno",
                    "sereno",
                    "sereno",
                    "sereno",
                    "pioggia e schiarite",
                    "pioggia e schiarite",
                    "poco nuvoloso",
                    "poco nuvoloso",
                    "poco nuvoloso",
                    "poco nuvoloso",
                    "pioggia e schiarite",
                    "pioggia e schiarite",
                    "nebbia al mattino",
                    "nebbia al mattino",
                    "sereno",
                    "sereno",
                    "poco nuvoloso",
                    "poco nuvoloso",
                    "nebbia al mattino",
                    "nebbia al mattino",
                    "nebbia al mattino",
                    "nebbia al mattino",
                    "poco nuvoloso",
                    "poco nuvoloso",
                    "nebbia al mattino",
                    "nebbia al mattino",
                    "nebbia al mattino",
                    "nebbia al mattino",
                    "nebbia al mattino",
                    "nebbia al mattino",
                    "nebbia al mattino",
                    "nebbia al mattino",
                    "pioggia debole",
                    "pioggia debole",
                    "poco nuvoloso",
                    "poco nuvoloso",
                    "sereno",
                    "sereno",
                    "nebbia al mattino",
                    "nebbia al mattino",
                    "nebbia al mattino",
                    "nebbia al mattino",
                    "sereno",
                    "sereno",
                    "nebbia al mattino",
                    "nebbia al mattino",
                    "poco nuvoloso",
                    "poco nuvoloso",
                    "poco nuvoloso",
                    "poco nuvoloso",
                    "pioggia e schiarite",
                    "pioggia e schiarite",
                    "poco nuvoloso",
                    "poco nuvoloso",
                    "poco nuvoloso",
                    "poco nuvoloso",
                    "nebbia al mattino",
                    "nebbia al mattino",
                    "pioggia e schiarite",
                    "pioggia e schiarite",
                    "pioggia e schiarite",
                    "pioggia e schiarite",
                    "poco nuvoloso",
                    "poco nuvoloso",
                    "sereno",
                    "sereno",
                    "pioggia e schiarite",
                    "pioggia e schiarite",
                    "sereno",
                    "sereno",
                    "nubi sparse",
                    "nubi sparse",
                    "nebbia al mattino",
                    "nebbia al mattino",
                    "sereno",
                    "sereno",
                    "nebbia al mattino",
                    "nebbia al mattino",
                    "nebbia al mattino",
                    "nebbia al mattino",
                    "sereno",
                    "sereno",
                    "poco nuvoloso",
                    "poco nuvoloso",
                    "poco nuvoloso",
                    "poco nuvoloso",
                    "poco nuvoloso",
                    "poco nuvoloso",
                    "sereno",
                    "sereno",
                    "nebbia al mattino",
                    "nebbia al mattino",
                    "poco nuvoloso",
                    "poco nuvoloso",
                    "nebbia al mattino",
                    "nebbia al mattino",
                    "sereno",
                    "sereno",
                    "nubi sparse",
                    "nubi sparse",
                    "poco nuvoloso",
                    "poco nuvoloso",
                    "sereno",
                    "sereno",
                    "nebbia al mattino",
                    "nebbia al mattino",
                    "nebbia al mattino",
                    "nebbia al mattino",
                    "poco nuvoloso",
                    "poco nuvoloso",
                    "sereno",
                    "sereno",
                    "nubi sparse",
                    "nubi sparse",
                    "pioggia debole",
                    "pioggia debole",
                    "nubi sparse",
                    "nubi sparse",
                    "nebbia al mattino",
                    "nebbia al mattino",
                    "nebbia al mattino",
                    "nebbia al mattino",
                    "sereno",
                    "sereno",
                    "sereno",
                    "sereno",
                    "pioggia debole",
                    "pioggia debole",
                    "sereno",
                    "sereno",
                    "poco nuvoloso",
                    "poco nuvoloso",
                    "pioggia e schiarite",
                    "pioggia e schiarite",
                    "poco nuvoloso",
                    "poco nuvoloso",
                    "nebbia al mattino",
                    "nebbia al mattino",
                    "poco nuvoloso",
                    "poco nuvoloso",
                    "poco nuvoloso",
                    "poco nuvoloso",
                    "poco nuvoloso",
                    "poco nuvoloso",
                    "nebbia al mattino",
                    "nebbia al mattino",
                    "pioggia e schiarite",
                    "pioggia e schiarite",
                    "sereno",
                    "sereno",
                    "sereno",
                    "sereno",
                    "nebbia al mattino",
                    "nebbia al mattino",
                    "poco nuvoloso",
                    "poco nuvoloso",
                    "pioggia e schiarite",
                    "pioggia e schiarite",
                    "poco nuvoloso",
                    "poco nuvoloso",
                    "sereno",
                    "sereno",
                    "pioggia e schiarite",
                    "pioggia e schiarite",
                    "nebbia al mattino",
                    "nebbia al mattino",
                    "poco nuvoloso",
                    "poco nuvoloso",
                    "sereno",
                    "sereno",
                    "pioggia e schiarite",
                    "pioggia e schiarite",
                    "sereno",
                    "sereno",
                    "pioggia debole",
                    "pioggia debole",
                    "sereno",
                    "sereno",
                    "pioggia e schiarite",
                    "pioggia e schiarite",
                    "nebbia al mattino",
                    "nebbia al mattino",
                    "poco nuvoloso",
                    "poco nuvoloso",
                    "sereno",
                    "sereno",
                    "nebbia al mattino",
                    "nebbia al mattino",
                    "pioggia e schiarite",
                    "pioggia e schiarite",
                    "pioggia e schiarite",
                    "pioggia e schiarite",
                    "nebbia al mattino",
                    "nebbia al mattino",
                    "poco nuvoloso",
                    "poco nuvoloso",
                    "poco nuvoloso",
                    "poco nuvoloso",
                    "pioggia e schiarite",
                    "pioggia e schiarite",
                    "nubi sparse",
                    "nubi sparse",
                    "pioggia e schiarite",
                    "pioggia e schiarite",
                    "poco nuvoloso",
                    "poco nuvoloso",
                    "poco nuvoloso",
                    "poco nuvoloso",
                    "pioggia e schiarite",
                    "pioggia e schiarite",
                    "poco nuvoloso",
                    "poco nuvoloso",
                    "poco nuvoloso",
                    "poco nuvoloso",
                    "nebbia al mattino",
                    "nebbia al mattino",
                    "sereno",
                    "sereno",
                    "sereno",
                    "sereno",
                    "poco nuvoloso",
                    "poco nuvoloso",
                    "poco nuvoloso",
                    "poco nuvoloso",
                    "pioggia e schiarite",
                    "pioggia e schiarite",
                    "sereno",
                    "sereno",
                    "poco nuvoloso",
                    "poco nuvoloso",
                    "pioggia e schiarite",
                    "pioggia e schiarite",
                    "sereno",
                    "sereno",
                    "nebbia al mattino",
                    "nebbia al mattino",
                    "pioggia e schiarite",
                    "pioggia e schiarite",
                    "sereno",
                    "sereno",
                    "pioggia e schiarite",
                    "pioggia e schiarite",
                    "nebbia al mattino",
                    "nebbia al mattino",
                    "pioggia e schiarite",
                    "pioggia e schiarite",
                    "pioggia e schiarite",
                    "pioggia e schiarite",
                    "poco nuvoloso",
                    "poco nuvoloso",
                    "pioggia debole",
                    "pioggia debole",
                    "pioggia e schiarite",
                    "pioggia e schiarite",
                    "pioggia e schiarite",
                    "pioggia e schiarite",
                    "poco nuvoloso",
                    "poco nuvoloso",
                    "poco nuvoloso",
                    "poco nuvoloso",
                    "pioggia e schiarite",
                    "pioggia e schiarite",
                    "sereno",
                    "sereno",
                    "sereno",
                    "sereno",
                    "sereno",
                    "sereno",
                    "poco nuvoloso",
                    "poco nuvoloso",
                    "poco nuvoloso",
                    "poco nuvoloso",
                    "sereno",
                    "sereno",
                    "sereno",
                    "sereno",
                    "sereno",
                    "sereno",
                    "nubi sparse",
                    "nubi sparse",
                    "sereno",
                    "sereno",
                    "sereno",
                    "sereno",
                    "pioggia debole",
                    "pioggia debole",
                    "sereno",
                    "sereno",
                    "pioggia e schiarite",
                    "pioggia e schiarite",
                    "sereno",
                    "sereno",
                    "sereno",
                    "sereno",
                    "nebbia al mattino",
                    "nebbia al mattino",
                    "pioggia e schiarite",
                    "pioggia e schiarite",
                    "sereno",
                    "sereno",
                    "pioggia e schiarite",
                    "pioggia e schiarite",
                    "sereno",
                    "sereno",
                    "poco nuvoloso",
                    "poco nuvoloso",
                    "nubi sparse",
                    "nubi sparse",
                    "poco nuvoloso",
                    "poco nuvoloso",
                    "poco nuvoloso",
                    "poco nuvoloso",
                    "nebbia al mattino",
                    "nebbia al mattino",
                    "poco nuvoloso",
                    "poco nuvoloso",
                    "nebbia al mattino",
                    "nebbia al mattino",
                    "nebbia al mattino",
                    "nebbia al mattino",
                    "pioggia debole",
                    "pioggia debole",
                    "pioggia debole",
                    "pioggia debole",
                    "nebbia al mattino",
                    "nebbia al mattino",
                    "sereno",
                    "sereno",
                    "poco nuvoloso",
                    "poco nuvoloso",
                    "sereno",
                    "sereno",
                    "sereno",
                    "sereno",
                    "nebbia al mattino",
                    "nebbia al mattino",
                    "pioggia e schiarite",
                    "pioggia e schiarite",
                    "poco nuvoloso",
                    "poco nuvoloso",
                    "poco nuvoloso",
                    "poco nuvoloso",
                    "sereno",
                    "sereno",
                    "nubi sparse",
                    "nubi sparse",
                    "pioggia e schiarite",
                    "pioggia e schiarite",
                    "sereno",
                    "sereno",
                    "poco nuvoloso",
                    "poco nuvoloso",
                    "sereno",
                    "sereno",
                    "sereno",
                    "sereno",
                    "pioggia debole",
                    "pioggia debole",
                    "sereno",
                    "sereno",
                    "nubi sparse",
                    "nubi sparse",
                    "sereno",
                    "sereno",
                    "poco nuvoloso",
                    "poco nuvoloso",
                    "sereno",
                    "sereno",
                    "pioggia",
                    "pioggia",
                    "sereno",
                    "sereno",
                    "sereno",
                    "sereno",
                    "nebbia al mattino",
                    "nebbia al mattino",
                    "pioggia e schiarite",
                    "pioggia e schiarite",
                    "sereno",
                    "sereno",
                    "poco nuvoloso",
                    "poco nuvoloso",
                    "pioggia e schiarite",
                    "pioggia e schiarite",
                    "sereno",
                    "sereno",
                    "poco nuvoloso",
                    "poco nuvoloso",
                    "nubi sparse",
                    "nubi sparse",
                    "sereno",
                    "sereno",
                    "pioggia e schiarite",
                    "pioggia e schiarite",
                    "pioggia e schiarite",
                    "pioggia e schiarite",
                    "pioggia e schiarite",
                    "pioggia e schiarite",
                    "pioggia e schiarite",
                    "pioggia e schiarite",
                    "sereno",
                    "sereno",
                    "sereno",
                    "sereno",
                    "sereno",
                    "sereno",
                    "poco nuvoloso",
                    "poco nuvoloso",
                    "poco nuvoloso",
                    "poco nuvoloso",
                    "nubi sparse",
                    "nubi sparse",
                    "sereno",
                    "sereno",
                    "sereno",
                    "sereno",
                    "poco nuvoloso",
                    "poco nuvoloso",
                    "sereno",
                    "sereno",
                    "pioggia e schiarite",
                    "pioggia e schiarite",
                    "sereno",
                    "sereno",
                    "poco nuvoloso",
                    "poco nuvoloso",
                    "sereno",
                    "sereno",
                    "sereno",
                    "sereno",
                    "poco nuvoloso",
                    "poco nuvoloso",
                    "sereno",
                    "sereno",
                    "sereno",
                    "sereno",
                    "poco nuvoloso",
                    "poco nuvoloso",
                    "sereno",
                    "sereno",
                    "poco nuvoloso",
                    "poco nuvoloso",
                    "pioggia e schiarite",
                    "pioggia e schiarite",
                    "sereno",
                    "sereno",
                    "poco nuvoloso",
                    "poco nuvoloso",
                    "sereno",
                    "sereno",
                    "poco nuvoloso",
                    "poco nuvoloso",
                    "nubi sparse",
                    "nubi sparse",
                    "sereno",
                    "sereno",
                    "poco nuvoloso",
                    "poco nuvoloso",
                    "sereno",
                    "sereno",
                    "poco nuvoloso",
                    "poco nuvoloso",
                    "sereno",
                    "sereno",
                    "poco nuvoloso",
                    "poco nuvoloso",
                    "sereno",
                    "sereno",
                    "poco nuvoloso",
                    "poco nuvoloso",
                    "poco nuvoloso",
                    "poco nuvoloso",
                    "sereno",
                    "sereno",
                    "sereno",
                    "sereno",
                    "sereno",
                    "sereno",
                    "poco nuvoloso",
                    "poco nuvoloso",
                    "poco nuvoloso",
                    "poco nuvoloso",
                    "poco nuvoloso",
                    "poco nuvoloso",
                    "pioggia e schiarite",
                    "pioggia e schiarite",
                    "pioggia e schiarite",
                    "pioggia e schiarite",
                    "sereno",
                    "sereno",
                    "sereno",
                    "sereno",
                    "pioggia debole",
                    "pioggia debole",
                    "sereno",
                    "sereno",
                    "sereno",
                    "sereno",
                    "poco nuvoloso",
                    "poco nuvoloso",
                    "sereno",
                    "sereno",
                    "sereno",
                    "sereno",
                    "pioggia e schiarite",
                    "pioggia e schiarite",
                    "pioggia e schiarite",
                    "pioggia e schiarite",
                    "pioggia e schiarite",
                    "pioggia e schiarite",
                    "sereno",
                    "sereno",
                    "sereno",
                    "sereno",
                    "poco nuvoloso",
                    "poco nuvoloso",
                    "pioggia e schiarite",
                    "pioggia e schiarite",
                    "sereno",
                    "sereno",
                    "poco nuvoloso",
                    "poco nuvoloso",
                    "sereno",
                    "sereno",
                    "sereno",
                    "sereno",
                    "sereno",
                    "sereno",
                    "sereno",
                    "sereno",
                    "poco nuvoloso",
                    "poco nuvoloso",
                    "pioggia e schiarite",
                    "pioggia e schiarite",
                    "pioggia debole",
                    "pioggia debole",
                    "poco nuvoloso",
                    "poco nuvoloso",
                    "sereno",
                    "sereno",
                    "nebbia al mattino",
                    "nebbia al mattino",
                    "sereno",
                    "sereno",
                    "pioggia e schiarite",
                    "pioggia e schiarite",
                    "poco nuvoloso",
                    "poco nuvoloso",
                    "poco nuvoloso",
                    "poco nuvoloso",
                    "sereno",
                    "sereno",
                    "poco nuvoloso",
                    "poco nuvoloso",
                    "poco nuvoloso",
                    "poco nuvoloso",
                    "poco nuvoloso",
                    "poco nuvoloso",
                    "poco nuvoloso",
                    "poco nuvoloso",
                    "poco nuvoloso",
                    "poco nuvoloso",
                    "poco nuvoloso",
                    "poco nuvoloso",
                    "poco nuvoloso",
                    "poco nuvoloso",
                    "pioggia e schiarite",
                    "pioggia e schiarite",
                    "poco nuvoloso",
                    "poco nuvoloso",
                    "sereno",
                    "sereno",
                    "sereno",
                    "sereno",
                    "poco nuvoloso",
                    "poco nuvoloso",
                    "sereno",
                    "sereno",
                    "sereno",
                    "sereno",
                    "poco nuvoloso",
                    "poco nuvoloso",
                    "sereno",
                    "sereno",
                    "nebbia al mattino",
                    "nebbia al mattino",
                    "nebbia al mattino",
                    "nebbia al mattino",
                    "sereno",
                    "sereno"
                  ],
                  "x0": " ",
                  "xaxis": "x",
                  "y": [
                    37.4,
                    58.46,
                    38.25,
                    64.62,
                    55.67,
                    58.47,
                    57.08,
                    54.97,
                    29.13,
                    55.74,
                    46.14,
                    58.23,
                    37.34,
                    45.59,
                    36.38,
                    62.84,
                    52.09,
                    60.21,
                    40.19,
                    29.79,
                    57.07,
                    54.47,
                    54.27,
                    54.58,
                    36.86,
                    55.31,
                    48.95,
                    63.08,
                    37.3,
                    36.01,
                    49.2,
                    63.55,
                    39.59,
                    63.74,
                    53.02,
                    52.38,
                    53.81,
                    58.84,
                    36.67,
                    52.7,
                    33.04,
                    33.27,
                    48.58,
                    52.3,
                    50.02,
                    60.88,
                    38.34,
                    61.56,
                    41.24,
                    53.04,
                    35.52,
                    61.21,
                    55.92,
                    61.41,
                    56.33,
                    61.63,
                    39.66,
                    38.59,
                    48.43,
                    57.08,
                    32.62,
                    41.61,
                    32.29,
                    37.9,
                    38.01,
                    54.66,
                    34.33,
                    66.2,
                    56.96,
                    60.15,
                    34.56,
                    68.34,
                    53.56,
                    62.36,
                    39.08,
                    52.62,
                    55.39,
                    60.4,
                    56.69,
                    58.81,
                    51.58,
                    62.96,
                    54.28,
                    56.68,
                    53.19,
                    58.3,
                    54.52,
                    61.13,
                    45.77,
                    64.11,
                    53.7,
                    61.77,
                    41,
                    29.57,
                    56.21,
                    59.34,
                    53.9,
                    61.06,
                    36.41,
                    43.47,
                    50.78,
                    53.18,
                    35.56,
                    43.7,
                    34.04,
                    37.5,
                    50.69,
                    54.17,
                    53.86,
                    60.73,
                    35.48,
                    41.47,
                    30.06,
                    44.76,
                    51.61,
                    62.9,
                    34.57,
                    59.63,
                    54.74,
                    61.55,
                    24.39,
                    55.59,
                    48.3,
                    39.2,
                    37.09,
                    54.79,
                    40.11,
                    52.53,
                    30,
                    51,
                    51.95,
                    53.77,
                    44.64,
                    61.27,
                    54.38,
                    62.25,
                    36.82,
                    45.88,
                    54.41,
                    59.57,
                    45.33,
                    48.31,
                    35.49,
                    61.28,
                    42.86,
                    66.28,
                    54.06,
                    59.38,
                    55.42,
                    56.9,
                    56.95,
                    57.95,
                    52.42,
                    60.13,
                    56.89,
                    60.09,
                    46.47,
                    64.77,
                    52.41,
                    61.46,
                    39.43,
                    54.79,
                    33.56,
                    57.28,
                    39.46,
                    61.41,
                    45.02,
                    65.3,
                    40.85,
                    59.05,
                    54.41,
                    59.88,
                    55.62,
                    59.04,
                    35.48,
                    40.93,
                    53.61,
                    62.25,
                    32.84,
                    44.52,
                    30.63,
                    43.54,
                    52.53,
                    61.28,
                    54.58,
                    56.91,
                    55.77,
                    60.63,
                    46.15,
                    29.99,
                    53.15,
                    61.66,
                    48.21,
                    61.25,
                    50.57,
                    57.29,
                    29.52,
                    61.55,
                    53.26,
                    53.36,
                    39.66,
                    58.96,
                    52.48,
                    57.05,
                    43.92,
                    63.96,
                    42.02,
                    57.81,
                    43.12,
                    38.75,
                    49.27,
                    32.84,
                    56.85,
                    43.25,
                    55.18,
                    58.56,
                    48.63,
                    55.36,
                    44.01,
                    50.58,
                    53.71,
                    56.83,
                    42.59,
                    40.39,
                    50.53,
                    61.69,
                    38.16,
                    58.12,
                    36.18,
                    55.88,
                    28.77,
                    44.92,
                    37.95,
                    35.65,
                    57.44,
                    61.33,
                    31.07,
                    41.99,
                    49.44,
                    56.55,
                    27.01,
                    49.09,
                    51,
                    54.57,
                    48.5,
                    55.77,
                    49.63,
                    62.05,
                    55.57,
                    58.3,
                    36.54,
                    55.72,
                    44.92,
                    61.23,
                    24.98,
                    56.62,
                    41.97,
                    51.89,
                    50.24,
                    53.77,
                    57.67,
                    35.94,
                    52.26,
                    56.78,
                    36.95,
                    26.45,
                    51.43,
                    54.87,
                    30.26,
                    46.63,
                    28.34,
                    62.86,
                    37.76,
                    59.91,
                    36.52,
                    64.76,
                    57.2,
                    28.7,
                    33.97,
                    57.21,
                    33.21,
                    45.16,
                    34.09,
                    37.36,
                    55.23,
                    55.25,
                    27.45,
                    24.99,
                    47.78,
                    57.98,
                    45.59,
                    57.41,
                    37.11,
                    29.05,
                    46.66,
                    62.91,
                    33.4,
                    31.21,
                    28.01,
                    35.23,
                    37.37,
                    63.24,
                    28.35,
                    51.41,
                    53.58,
                    60.92,
                    52.18,
                    32.51,
                    53.05,
                    61.9,
                    38.48,
                    62.6,
                    31.23,
                    55.71,
                    36.91,
                    66.92,
                    31.08,
                    44.39,
                    48.52,
                    44.07,
                    38.6,
                    55.4,
                    47.48,
                    64.19,
                    38.69,
                    27.39,
                    37.96,
                    53.69,
                    41.92,
                    50.23,
                    41.39,
                    45.5,
                    58.38,
                    48.32,
                    39.18,
                    30.25,
                    25.37,
                    62.38,
                    54.01,
                    60.24,
                    52.78,
                    61.04,
                    43.84,
                    64.49,
                    29.83,
                    38.33,
                    54.45,
                    54.49,
                    54.58,
                    60.49,
                    41.91,
                    56.78,
                    54.46,
                    60.64,
                    44.78,
                    60.5,
                    43.18,
                    56.91,
                    40.22,
                    56.97,
                    54.12,
                    62.33,
                    48.29,
                    40.5,
                    54.29,
                    60.4,
                    52.12,
                    57.51,
                    53.7,
                    60.03,
                    35.02,
                    57.2,
                    46.25,
                    51.26,
                    58.15,
                    30.83,
                    58.17,
                    52.98,
                    41.69,
                    55.49,
                    52.76,
                    60.2,
                    48.38,
                    53.87,
                    49.74,
                    53.85,
                    55.64,
                    62.58,
                    27.65,
                    59.02,
                    24.9,
                    47.79,
                    44.08,
                    46.13,
                    54.78,
                    60.33,
                    30.29,
                    60.55,
                    56.49,
                    62.04,
                    47.71,
                    60.2,
                    54.31,
                    52.85,
                    42.95,
                    50.62,
                    34.53,
                    46.86,
                    35.02,
                    40.51,
                    26.11,
                    46.88,
                    52.07,
                    62.08,
                    56.33,
                    49.05,
                    55.15,
                    60.92,
                    51.68,
                    50.87,
                    40.36,
                    51.06,
                    40.45,
                    35.87,
                    47.65,
                    54.07,
                    47.44,
                    53.29,
                    39.96,
                    32.54,
                    48.92,
                    60.66,
                    49.53,
                    59.32,
                    57.1,
                    54.77,
                    49.53,
                    56.52,
                    47,
                    52.54,
                    46.38,
                    54.07,
                    45.63,
                    55.61,
                    30.1,
                    45.27,
                    25.77,
                    42.66,
                    32.79,
                    56.24,
                    50.44,
                    54.66,
                    54.51,
                    58.3,
                    37.57,
                    41.61,
                    45.79,
                    56.16,
                    44.05,
                    55.1,
                    39.86,
                    36.34,
                    44,
                    60.51,
                    36.69,
                    45.08,
                    59.81,
                    42.26,
                    53.07,
                    60.22,
                    53.32,
                    58.5,
                    52.08,
                    62.17,
                    39.54,
                    61.95,
                    52.28,
                    59.01,
                    30.88,
                    62.92,
                    35.97,
                    58.34,
                    47.69,
                    61.6,
                    38.64,
                    39.18,
                    41.15,
                    40.62,
                    51.39,
                    62.58,
                    34.99,
                    35.98,
                    55.38,
                    50.34,
                    38.52,
                    45.34,
                    28.16,
                    66.41,
                    34.72,
                    51.42,
                    45.93,
                    31.11,
                    50.8,
                    54.16,
                    52.95,
                    60.31,
                    41.71,
                    43.34,
                    27.75,
                    42.57,
                    53.87,
                    60.75,
                    42.76,
                    42.89,
                    53.02,
                    61.56,
                    54.1,
                    59.82,
                    38.3,
                    42.75,
                    44.23,
                    63.14,
                    25.04,
                    55.37,
                    59.14,
                    42.7,
                    37.37,
                    32.85,
                    53.86,
                    59.9,
                    45.74,
                    56.64,
                    36.53,
                    51.29,
                    52.95,
                    60.85,
                    27.94,
                    39.52,
                    37.41,
                    63.22,
                    52.34,
                    29.87,
                    37.63,
                    62.84,
                    49.93,
                    58.3,
                    42.08,
                    57.1,
                    45.47,
                    58.4,
                    48.89,
                    56.24,
                    47.37,
                    51.45,
                    48.14,
                    49.79,
                    51.71,
                    53.17,
                    42.89,
                    39.98,
                    36.79,
                    60.48,
                    31.47,
                    35.97,
                    46.1,
                    58.09,
                    49.66,
                    57.69,
                    47.33,
                    54.15,
                    35.62,
                    43.68,
                    54.53,
                    55.78,
                    48.13,
                    61.09,
                    36.34,
                    53.57,
                    41.72,
                    55.44,
                    50.34,
                    58.38,
                    56.63,
                    52.07,
                    54.88,
                    49.45,
                    44.34,
                    60.75,
                    39.13,
                    53.34,
                    43.07,
                    47.72,
                    33.18,
                    47.53,
                    52.54,
                    52.39,
                    26.43,
                    56.72,
                    36.66,
                    55.38,
                    51.26,
                    52.78,
                    44.17,
                    60.16,
                    36.21,
                    48.58,
                    36.23,
                    58.96,
                    29.42,
                    61.1,
                    28.15,
                    44.64,
                    53.88,
                    59.67,
                    39.05,
                    53.83,
                    22.21,
                    65.93,
                    27.38,
                    41.42,
                    38.51,
                    60.87,
                    40.38,
                    65.95,
                    56.89,
                    60.19,
                    34.41,
                    55.57,
                    37.36,
                    55.19,
                    41.81,
                    36.93,
                    53.34,
                    54.77,
                    35.69,
                    54.05,
                    25.32,
                    30.87,
                    43.11,
                    63.5,
                    48.16,
                    37.77,
                    38.94,
                    47.1,
                    54.05,
                    52.53,
                    28.4,
                    51.55,
                    37.67,
                    62.8,
                    45.75,
                    63.93,
                    44.13,
                    45.39,
                    40.27,
                    40.46,
                    25.61,
                    48.28,
                    41.6,
                    53.66,
                    33.93,
                    60.75,
                    36.17,
                    42.66,
                    36.39,
                    50.01,
                    33.75,
                    60.5,
                    53.35,
                    53.79,
                    33.75,
                    58.93,
                    35.16,
                    54.93,
                    24.19,
                    62.72,
                    31.89,
                    35.15,
                    37.94,
                    46.97,
                    49.32,
                    44.47,
                    38.18,
                    46.29,
                    42.18,
                    64.61,
                    31.86,
                    52.53,
                    55.51,
                    60.24,
                    54.94,
                    61.86,
                    36.12,
                    34.32,
                    40.89,
                    59.89,
                    55.63,
                    59.45,
                    50.22,
                    56.72,
                    51.38,
                    57.55,
                    55.9,
                    59.39,
                    49.04,
                    33.11,
                    44.62,
                    64.35,
                    53.32,
                    56.4,
                    38.51,
                    31.8,
                    45.76,
                    55.3,
                    49.26,
                    61.9,
                    45.21,
                    58.95,
                    35.04,
                    32.14,
                    28.41,
                    37.39,
                    49.75,
                    63.14,
                    50.67,
                    53.52,
                    52.42,
                    50.65,
                    37.36,
                    35.52,
                    33.2,
                    51.42,
                    37.91,
                    48.2,
                    34.33,
                    57.77,
                    51.76,
                    62.58,
                    36.77,
                    35.71,
                    25.66,
                    20.82,
                    50.18,
                    62.23,
                    43.82,
                    22.77,
                    37.39,
                    39.34,
                    49.09,
                    59.19,
                    33.38,
                    52.45,
                    34.02,
                    62.05,
                    24.65,
                    57.33,
                    54.09,
                    60.98,
                    36.34,
                    48.8,
                    43.72,
                    54.82,
                    27.16,
                    50.6,
                    38.85,
                    29.3,
                    39.37,
                    59.07,
                    47.37,
                    53.71,
                    48.01,
                    51.04,
                    35.83,
                    21.97,
                    32.32,
                    49.93,
                    49.37,
                    62.05,
                    52.03,
                    61.82,
                    40.08,
                    58.86,
                    53.98,
                    61.41,
                    53.66,
                    63.68,
                    30.83,
                    47.96,
                    55.23,
                    59.04,
                    35.03,
                    58.51,
                    58.17,
                    48.12,
                    26.22,
                    60.85,
                    29.16,
                    63.68,
                    34.43,
                    65.23,
                    45.04,
                    49.38,
                    26.7,
                    37.94,
                    35.07,
                    32.69,
                    50.92,
                    47.22,
                    26.96,
                    36.41,
                    35.31,
                    38.86,
                    38.65,
                    64.5,
                    32.13,
                    57.41,
                    40.77,
                    59.49,
                    34.98,
                    43.97,
                    32.18,
                    65.41,
                    35.1,
                    56.24,
                    34.65,
                    37.25,
                    35.88,
                    46.08,
                    46.18,
                    61.12,
                    51.76,
                    58.98,
                    32,
                    42.33,
                    44.97,
                    51.63,
                    31.85,
                    57.4,
                    43.08,
                    40.29,
                    40.65,
                    31.07,
                    51.38,
                    62.48,
                    33.87,
                    64.89,
                    54.29,
                    50.46,
                    53.46,
                    38.27,
                    47.18,
                    54.54,
                    52.46,
                    61.09,
                    56.92,
                    57.23,
                    35.67,
                    40.47,
                    45.35,
                    53.83,
                    55.9,
                    57.18,
                    40.35,
                    19.1,
                    28.59,
                    45.51,
                    33.39,
                    61.23,
                    38.76,
                    65.71,
                    50.12,
                    45.6,
                    41.72,
                    25.67,
                    45.77,
                    57.69,
                    38.28,
                    50.02,
                    56.58,
                    61.99,
                    49.73,
                    55.47,
                    38.51,
                    40.34,
                    56.68,
                    54.55,
                    26.08,
                    23.54,
                    52.79,
                    51.91,
                    52.72,
                    58.01,
                    59.57,
                    39.07,
                    47.88,
                    61.35,
                    41.23,
                    62.35,
                    44.51,
                    58.68,
                    56.97,
                    60.41,
                    33.33,
                    37.18,
                    56.79,
                    60.85,
                    39.34,
                    66.05,
                    36.85,
                    51.46,
                    28.99,
                    18.02,
                    49.85,
                    59.68,
                    33,
                    62.68,
                    40.01,
                    44.59,
                    32.05,
                    17.19,
                    45.37,
                    62.67,
                    30.43,
                    41.3,
                    55.4,
                    57.28,
                    36.34,
                    65.78,
                    42.37,
                    56.73,
                    37.24,
                    44.88,
                    46.15,
                    44.7,
                    48.04,
                    49,
                    32.88,
                    61.21,
                    35.54,
                    33.44,
                    40.02,
                    60.07,
                    52.45,
                    62.5,
                    52.95,
                    61.33,
                    55.07,
                    60.11,
                    46.45,
                    41.34,
                    25.36,
                    23.35,
                    38.35,
                    42.44,
                    35.12,
                    60.42,
                    38.14,
                    48.66,
                    41.97,
                    50.65,
                    36.04,
                    37.43,
                    40.3,
                    59.51,
                    47.61,
                    59.74,
                    55.92,
                    62.6,
                    43.76,
                    54.47,
                    48.83,
                    37.32,
                    37.14,
                    40.15,
                    34.65,
                    55.11,
                    34.95,
                    57.58,
                    24.62,
                    51.16,
                    45.59,
                    64.43,
                    54.33,
                    60.65,
                    45.3,
                    62.94,
                    56.8,
                    61.58,
                    31.58,
                    35.03,
                    31.11,
                    45.76,
                    24.55,
                    55.32,
                    36.5,
                    64.02,
                    42.7,
                    64.34,
                    34.83,
                    36.67,
                    43.3,
                    59.72,
                    55.96,
                    55.25,
                    63,
                    33.69,
                    36.6,
                    56.94,
                    48.65,
                    58.36,
                    48.32,
                    24.7,
                    55.68,
                    60.11,
                    42.64,
                    53.8,
                    26.95,
                    45.72,
                    51.38,
                    30.12,
                    56.42,
                    58.13,
                    47.08,
                    27.84,
                    52.23,
                    57.14,
                    55.34,
                    60.82,
                    51.61,
                    59.68,
                    54.54,
                    58.13,
                    41.7,
                    38.85,
                    52.62,
                    61.47,
                    28.17,
                    27.84,
                    33.12,
                    56.35,
                    41.98,
                    63.94,
                    35.98,
                    39.36,
                    54.63,
                    60.68,
                    43.65,
                    30.52,
                    28.68,
                    51.88,
                    37.67,
                    41.4,
                    56.69,
                    49.66,
                    24.65,
                    29.73,
                    32.77,
                    59.57,
                    52.44,
                    57.13,
                    54.57,
                    25.95,
                    50.95,
                    59.96,
                    51.44,
                    54.48,
                    49.51,
                    63.36,
                    49.63,
                    48.65,
                    30.15,
                    41.08,
                    40.18,
                    61.32,
                    40.9,
                    31.21,
                    48.74,
                    54.57,
                    48.4,
                    64.05,
                    33.65,
                    57.75,
                    30.68,
                    67.88,
                    27.98,
                    64.13,
                    50.83,
                    53.24,
                    37.34,
                    66.7,
                    36.33,
                    64.96,
                    44.43,
                    61.05,
                    54.23,
                    55.12,
                    26.28,
                    52.7,
                    52.32,
                    59.05,
                    57.6,
                    57.9,
                    50.49,
                    51.16,
                    39.51,
                    61.26,
                    49.51,
                    43.75,
                    27.68,
                    34.21,
                    40.01,
                    55.42,
                    57.77,
                    38.4,
                    42.15,
                    56.06,
                    51.9,
                    41.54,
                    49.8,
                    29.85,
                    23.21,
                    24.09,
                    42.84,
                    44.96,
                    33.53,
                    35.45,
                    31.9,
                    50.35,
                    45.24,
                    33.83,
                    36.52,
                    37.92,
                    37.11,
                    50.15,
                    37.46,
                    56.76,
                    62.39,
                    17.87,
                    57.2,
                    54.4,
                    38.9,
                    61.18,
                    54.15,
                    52.93,
                    53.43,
                    60.82,
                    32.4,
                    51.26,
                    43.29,
                    41.95,
                    53.71,
                    46.05,
                    52.96,
                    59.48,
                    46.04,
                    49.71,
                    43.01,
                    40.95,
                    42.78,
                    60.28,
                    38.5,
                    50.29,
                    42.91,
                    53.05,
                    42.12,
                    55.54,
                    29.98,
                    47.66,
                    55.29,
                    50.05,
                    48.56,
                    55.48,
                    51.7,
                    55.54,
                    40.75,
                    48.52,
                    40.61,
                    62.7,
                    16.21,
                    63,
                    49.28,
                    65.39,
                    34.32,
                    48.63,
                    41.21,
                    60.04,
                    31.02,
                    42.98,
                    34.95,
                    37.33,
                    43.71,
                    45.57,
                    47.9,
                    54.32,
                    39.41,
                    38.34,
                    57.58,
                    54.95,
                    34.12,
                    34.36,
                    41.73,
                    43.17,
                    54.32,
                    59.34,
                    39.25,
                    63.94,
                    54.6,
                    60.04,
                    49.6,
                    62.35,
                    36.76,
                    56.31,
                    53.48,
                    59.69,
                    34.31,
                    41.15,
                    52.33,
                    52.28,
                    56.96,
                    40.45,
                    39.71,
                    38.51,
                    49.93,
                    52.81,
                    29.41,
                    42.97,
                    32.24,
                    44.85,
                    36.66,
                    58.51,
                    33.74,
                    19.43,
                    36.11,
                    31.88,
                    43.5,
                    58.64,
                    48.68,
                    63.25,
                    42.97,
                    54.83,
                    39.52,
                    61.3,
                    48.82,
                    37.29,
                    40.05,
                    33.68,
                    53.83,
                    57.13,
                    33.93,
                    40.74,
                    34.73,
                    38.43,
                    35.31,
                    51.67,
                    33.63,
                    49.49,
                    41.27,
                    36.62,
                    36.29,
                    19.64,
                    50.96,
                    61.38,
                    48.64,
                    52.88,
                    34.97,
                    42.09,
                    49.99,
                    61.8,
                    33.46,
                    60.84,
                    38.69,
                    56.91,
                    54.21,
                    60.38,
                    34.91,
                    49.24,
                    47.62,
                    64.29,
                    37.29,
                    27.39,
                    37.13,
                    49.85,
                    44.31,
                    53.86,
                    38.61,
                    52.27,
                    55.36,
                    50.41,
                    46.7,
                    59.95,
                    35.19,
                    39.39,
                    39.09,
                    50.64,
                    48.78,
                    60.4,
                    38.72,
                    35.41,
                    38.27,
                    59.52,
                    56.13,
                    49.99,
                    53.43,
                    60.04,
                    51.84,
                    55,
                    33.33,
                    45.59,
                    52.59,
                    60.77,
                    51.47,
                    51.02,
                    36.39,
                    64.46,
                    24.71,
                    49.39,
                    42.03,
                    62.99,
                    40.79,
                    42.41,
                    32.46,
                    66.23,
                    53.53,
                    61.29,
                    31.06,
                    58.32,
                    51.16,
                    35.16,
                    33.09,
                    60.6,
                    46.23,
                    36.32,
                    33.49,
                    38.19,
                    28.85,
                    60.56,
                    52.99,
                    60.5,
                    43.31,
                    54.27,
                    37.86,
                    62.1,
                    55.74,
                    61.89,
                    48.95,
                    61.02,
                    28.65,
                    65.33,
                    45.53,
                    58.38,
                    35.63,
                    64.5,
                    23.14,
                    34.56,
                    30.72,
                    17.51,
                    26.85,
                    30.49,
                    32.12,
                    40.38,
                    25.68,
                    46.38,
                    33.62,
                    35.43,
                    52.6,
                    61.44,
                    38.77,
                    33.37,
                    37.56,
                    60.22,
                    33.73,
                    59.31,
                    46.23,
                    59.59,
                    47.07,
                    34.79,
                    43.33,
                    50.84,
                    42.99,
                    58.13,
                    39.98,
                    43.81,
                    30.46,
                    29.09,
                    50.04,
                    51.7,
                    41.3,
                    67.36,
                    41.63,
                    39.35,
                    32.76,
                    40.12,
                    58.21,
                    59.94,
                    55.93,
                    56.88,
                    34.75,
                    35.63,
                    54.1,
                    47.34,
                    27.85,
                    32.44,
                    36.49,
                    49.02,
                    37.9,
                    37.84,
                    25.18,
                    32.1,
                    44.98,
                    63.65,
                    51.73,
                    57.46,
                    40.96,
                    60.97,
                    47.86,
                    54.83,
                    43.76,
                    62.17,
                    38.73,
                    52.81,
                    50.24,
                    62.77,
                    48.34,
                    56.66,
                    52.06,
                    57.93,
                    37.46,
                    35,
                    29.28,
                    29.42,
                    40.61,
                    58.32,
                    54.46,
                    60.22,
                    35.63,
                    39.38,
                    33.75,
                    38.41,
                    42.89,
                    56.93,
                    35.56,
                    59.17,
                    25.28,
                    34.2,
                    38.1,
                    63.55,
                    33.07,
                    45.99,
                    40.14,
                    34.32,
                    45.41,
                    55.8,
                    34.74,
                    56.7,
                    47.77,
                    52.44,
                    37.75,
                    48.38,
                    36.69,
                    26.67,
                    40.06,
                    44.28,
                    43.19,
                    63.05,
                    23.42,
                    51.29,
                    42.37,
                    60.09,
                    49.2,
                    61.74,
                    37.9,
                    41.69,
                    35.97,
                    65.61,
                    54.02,
                    60.45,
                    48.18,
                    60.02,
                    38.01,
                    49.16,
                    42.02,
                    52.23,
                    52.53,
                    57.4,
                    49.92,
                    44.23,
                    52.78,
                    54.24,
                    25.87,
                    47.56,
                    36.75,
                    39.86,
                    33.14,
                    36.88,
                    36.54,
                    47.31,
                    60.76,
                    49.11,
                    30.22,
                    62.89,
                    55.58,
                    59.25,
                    50.08,
                    54.7,
                    38.83,
                    55.55,
                    17.2,
                    51.96,
                    30.59,
                    53.08,
                    45.66,
                    46.01,
                    42.28,
                    43.03,
                    50.02,
                    27.38,
                    42.21,
                    28.43,
                    45.98,
                    58.55,
                    29.02,
                    54.78,
                    51.17,
                    57.74,
                    24.43,
                    41.39,
                    25.38,
                    55.84,
                    55.01,
                    56.68,
                    41.14,
                    35.63,
                    47.62,
                    63.15,
                    38.13,
                    56.91,
                    40.81,
                    51.47,
                    47.63,
                    48.63,
                    55.27,
                    62.47,
                    58.46,
                    57.44,
                    28.2,
                    62.67,
                    41.4,
                    57.2,
                    39.67,
                    27.13,
                    39.7,
                    37.9,
                    52.32,
                    40.97,
                    33.07,
                    53.37,
                    65.01,
                    24.2,
                    29.39,
                    40.03,
                    49.68,
                    34.65,
                    50.58,
                    59.68,
                    51.04,
                    56.22,
                    50.07,
                    49.72,
                    53.74,
                    60.17,
                    43.79,
                    57.55,
                    45.99,
                    47.84,
                    43.87,
                    60.66,
                    54.98,
                    59.06,
                    46.37,
                    53.59,
                    44.6,
                    33.45,
                    25.88,
                    55.86,
                    50.83,
                    61.99,
                    33.58,
                    36.93,
                    51.27,
                    61.29,
                    21.13,
                    55.58,
                    29.14,
                    33.1,
                    43.04,
                    48.39,
                    34.32,
                    44.36,
                    38.22,
                    31.97,
                    54.12,
                    54.17,
                    36.55,
                    50.4,
                    31.32,
                    47.15,
                    56.02,
                    57.52,
                    55.12,
                    59.55,
                    53.51,
                    56.34,
                    41.98,
                    58.12,
                    38.82,
                    55.59,
                    24.4,
                    59.25,
                    53.17,
                    61.95,
                    35.11,
                    35.76,
                    47.52,
                    52.13,
                    38.17,
                    59.38,
                    33.55,
                    58.28,
                    44.87,
                    51.65,
                    54.78,
                    51.95,
                    39.56,
                    56.73,
                    43.07,
                    58.1,
                    38.44,
                    54.92,
                    36.76,
                    51.53,
                    49.82,
                    63.11,
                    27.52,
                    41.45,
                    42.14,
                    61.33,
                    26.41,
                    50.69,
                    34.49,
                    59.89,
                    50.28,
                    56.43,
                    33.29,
                    58.55,
                    46.94,
                    58.1,
                    54.37,
                    57.32,
                    42.99,
                    53.64,
                    46.42,
                    62.98,
                    53.38,
                    57.19,
                    40.3,
                    39.28,
                    40.9,
                    43.9,
                    40.64,
                    49.85,
                    45.76,
                    58.73,
                    37.31,
                    39.08,
                    55.22,
                    60.48,
                    54.82,
                    62.32,
                    42,
                    59.17,
                    49,
                    63.08,
                    30.7,
                    51.42,
                    38.42,
                    60.39,
                    41.54,
                    31.2,
                    49.08,
                    55.24,
                    51.49,
                    53.03,
                    58.07,
                    54.55,
                    30.83,
                    51.04,
                    53.4,
                    26.92,
                    56.01,
                    57.98,
                    44.85,
                    60.99,
                    46.73,
                    58.11,
                    37.31,
                    47.96,
                    35.97,
                    38.9,
                    50.67,
                    61.23,
                    55.31,
                    58.68,
                    35.53,
                    48.45,
                    47.56,
                    35.61,
                    53.33,
                    54.29,
                    20.01,
                    54.06,
                    51.51,
                    56.84,
                    33.04,
                    56.12,
                    25.56,
                    48.89,
                    48.06,
                    58.21,
                    41.57,
                    37.14,
                    44.78,
                    57.05,
                    52.18,
                    48.8,
                    56.1,
                    59.08,
                    34.75,
                    45.93,
                    43.45,
                    63.81,
                    42.6,
                    45.63,
                    57.07,
                    59.96,
                    42.87,
                    53.24,
                    34.48,
                    60.1,
                    33.89,
                    56.6,
                    50.9,
                    61.48,
                    48.75,
                    55.47,
                    54.01,
                    59.27,
                    40.86,
                    43.15,
                    25.81,
                    60.81,
                    31.64,
                    61.84,
                    49.28,
                    57.8,
                    41.45,
                    49.76,
                    55.77,
                    60.62,
                    36.82,
                    48.35,
                    37.94,
                    49.4,
                    34.38,
                    34.69,
                    46.06,
                    51.18,
                    35.29,
                    44.46,
                    41.67,
                    40.51,
                    36.59,
                    59.12,
                    35.8,
                    45.46,
                    41.08,
                    35.94,
                    47.09,
                    52.35,
                    49.42,
                    65.34,
                    29.22,
                    39.52,
                    27.34,
                    28.87,
                    46.91,
                    54.95,
                    55.58,
                    55.1,
                    48.88,
                    51.42,
                    55.7,
                    57.84,
                    46.09,
                    54.19,
                    51.8,
                    59.22,
                    38.17,
                    36.81,
                    45.22,
                    52.8,
                    47.42,
                    61.25,
                    50.21,
                    53.4,
                    55.63,
                    57.81,
                    43.55,
                    40.68,
                    42.29,
                    64.61,
                    30.17,
                    44.18,
                    29.48,
                    34.05,
                    38.07,
                    36.74,
                    35.71,
                    63.21,
                    53.5,
                    60.82,
                    52.81,
                    57.83,
                    55.15,
                    53.39,
                    52.29,
                    44.06,
                    29.36,
                    46.21,
                    53.07,
                    59.69,
                    56.47,
                    58.92,
                    51.25,
                    35.09,
                    50.86,
                    49.37,
                    47.47,
                    43.03,
                    36.37,
                    58.73,
                    30.85,
                    40.88,
                    37.61,
                    50.42,
                    42.4,
                    33.83,
                    43.99,
                    48.35,
                    40.59,
                    67.46,
                    42.97,
                    59.51,
                    54.39,
                    59.05,
                    57.2,
                    54.24,
                    42.73,
                    66.83,
                    39.11,
                    46.79,
                    34.19,
                    56.49,
                    51.79,
                    57.58,
                    38.61,
                    38.7,
                    37.44,
                    51.49,
                    51.92,
                    59.99,
                    56.26,
                    62.32,
                    35.97,
                    31.11,
                    40.07,
                    44.18,
                    51.99,
                    56.12,
                    29.33,
                    36.39,
                    49.75,
                    58.91,
                    47.86,
                    61.89,
                    34.51,
                    28.63,
                    53.44,
                    59.3,
                    31.26,
                    50.4,
                    35.4,
                    53.07,
                    52.27,
                    59.77,
                    39.29,
                    60.25,
                    49.73,
                    37.67,
                    54.11,
                    60.84,
                    34.03,
                    55.23,
                    31.14,
                    34.5,
                    36,
                    31.36,
                    27.21,
                    45.28,
                    36.93,
                    27.93,
                    31.02,
                    49.55,
                    38.93,
                    66.04,
                    57.37,
                    59.78,
                    24.27,
                    53.31,
                    34.6,
                    64.06,
                    36.87,
                    58.5,
                    35.33,
                    65.99,
                    40.34,
                    45.1,
                    50.75,
                    51.27,
                    52.09,
                    60.8,
                    51.41,
                    45.31,
                    36.17,
                    44.16,
                    51.42,
                    56.33,
                    34.58,
                    58.17,
                    57.03,
                    58.65,
                    51.83,
                    62.06,
                    32.09,
                    47.25,
                    31.5,
                    25.87,
                    37.76,
                    42.54,
                    56.76,
                    58.92,
                    38.85,
                    46.29,
                    44.22,
                    59.65,
                    37.36,
                    36.69,
                    55.1,
                    60.55,
                    28.71,
                    36.83,
                    56.09,
                    54.86,
                    50.56,
                    46.59,
                    54.58,
                    56.51,
                    32.52,
                    57.45,
                    39.23,
                    49.41,
                    31.03,
                    51.32,
                    53.57,
                    37.86,
                    30.15,
                    60.31,
                    56.63,
                    59.22,
                    55.86,
                    56.53,
                    41.1,
                    61.15,
                    52.79,
                    42.61,
                    33.05,
                    56.37,
                    37.87,
                    35.42,
                    52.04,
                    52.86,
                    36.42,
                    45.46,
                    42.41,
                    40.49,
                    36.91,
                    59.11,
                    54.3,
                    51.98,
                    38.26,
                    57.24,
                    41.69,
                    56.74,
                    50.63,
                    50.16,
                    35.43,
                    44.01,
                    44.84,
                    45,
                    37.84,
                    47.46,
                    26.46,
                    48.78,
                    55.56,
                    37.39,
                    41.98,
                    53.28,
                    32.1,
                    59.64,
                    55.11,
                    53.31,
                    63.91,
                    32.83,
                    37.88,
                    58.81,
                    37.06,
                    62.26,
                    48.59,
                    43.19,
                    55.97,
                    50.93,
                    29.01,
                    48.29,
                    39.88,
                    41.65,
                    45.38,
                    61.52,
                    32.5,
                    56.99,
                    33.57,
                    54.96,
                    51.93,
                    51.53,
                    52.94,
                    60.5,
                    43.85,
                    58.48,
                    38.32,
                    47.47,
                    47.86,
                    61.59,
                    39.65,
                    58.56,
                    45.29,
                    63,
                    49.27,
                    48.32,
                    42.96,
                    61.67,
                    45.32,
                    59.93,
                    36.57,
                    43.24,
                    40.39,
                    33.7,
                    44.18,
                    56.38,
                    32.72,
                    47.8,
                    36.26,
                    63.35,
                    39.3,
                    57.1,
                    40.16,
                    29.8,
                    34.85,
                    43.78,
                    29.29,
                    36.25,
                    41.55,
                    42.45,
                    25.63,
                    38.8,
                    48.82,
                    43.16,
                    38.34,
                    52.42,
                    30.67,
                    43.33,
                    43.75,
                    50.82,
                    45.18,
                    34.5,
                    39.33,
                    59.13,
                    49.81,
                    62.34,
                    37.1,
                    50.94,
                    43.47,
                    60.2
                  ],
                  "y0": " ",
                  "yaxis": "y"
                }
              ],
              "layout": {
                "legend": {
                  "tracegroupgap": 0
                },
                "margin": {
                  "t": 60
                },
                "template": {
                  "data": {
                    "bar": [
                      {
                        "error_x": {
                          "color": "#2a3f5f"
                        },
                        "error_y": {
                          "color": "#2a3f5f"
                        },
                        "marker": {
                          "line": {
                            "color": "#E5ECF6",
                            "width": 0.5
                          },
                          "pattern": {
                            "fillmode": "overlay",
                            "size": 10,
                            "solidity": 0.2
                          }
                        },
                        "type": "bar"
                      }
                    ],
                    "barpolar": [
                      {
                        "marker": {
                          "line": {
                            "color": "#E5ECF6",
                            "width": 0.5
                          },
                          "pattern": {
                            "fillmode": "overlay",
                            "size": 10,
                            "solidity": 0.2
                          }
                        },
                        "type": "barpolar"
                      }
                    ],
                    "carpet": [
                      {
                        "aaxis": {
                          "endlinecolor": "#2a3f5f",
                          "gridcolor": "white",
                          "linecolor": "white",
                          "minorgridcolor": "white",
                          "startlinecolor": "#2a3f5f"
                        },
                        "baxis": {
                          "endlinecolor": "#2a3f5f",
                          "gridcolor": "white",
                          "linecolor": "white",
                          "minorgridcolor": "white",
                          "startlinecolor": "#2a3f5f"
                        },
                        "type": "carpet"
                      }
                    ],
                    "choropleth": [
                      {
                        "colorbar": {
                          "outlinewidth": 0,
                          "ticks": ""
                        },
                        "type": "choropleth"
                      }
                    ],
                    "contour": [
                      {
                        "colorbar": {
                          "outlinewidth": 0,
                          "ticks": ""
                        },
                        "colorscale": [
                          [
                            0,
                            "#0d0887"
                          ],
                          [
                            0.1111111111111111,
                            "#46039f"
                          ],
                          [
                            0.2222222222222222,
                            "#7201a8"
                          ],
                          [
                            0.3333333333333333,
                            "#9c179e"
                          ],
                          [
                            0.4444444444444444,
                            "#bd3786"
                          ],
                          [
                            0.5555555555555556,
                            "#d8576b"
                          ],
                          [
                            0.6666666666666666,
                            "#ed7953"
                          ],
                          [
                            0.7777777777777778,
                            "#fb9f3a"
                          ],
                          [
                            0.8888888888888888,
                            "#fdca26"
                          ],
                          [
                            1,
                            "#f0f921"
                          ]
                        ],
                        "type": "contour"
                      }
                    ],
                    "contourcarpet": [
                      {
                        "colorbar": {
                          "outlinewidth": 0,
                          "ticks": ""
                        },
                        "type": "contourcarpet"
                      }
                    ],
                    "heatmap": [
                      {
                        "colorbar": {
                          "outlinewidth": 0,
                          "ticks": ""
                        },
                        "colorscale": [
                          [
                            0,
                            "#0d0887"
                          ],
                          [
                            0.1111111111111111,
                            "#46039f"
                          ],
                          [
                            0.2222222222222222,
                            "#7201a8"
                          ],
                          [
                            0.3333333333333333,
                            "#9c179e"
                          ],
                          [
                            0.4444444444444444,
                            "#bd3786"
                          ],
                          [
                            0.5555555555555556,
                            "#d8576b"
                          ],
                          [
                            0.6666666666666666,
                            "#ed7953"
                          ],
                          [
                            0.7777777777777778,
                            "#fb9f3a"
                          ],
                          [
                            0.8888888888888888,
                            "#fdca26"
                          ],
                          [
                            1,
                            "#f0f921"
                          ]
                        ],
                        "type": "heatmap"
                      }
                    ],
                    "heatmapgl": [
                      {
                        "colorbar": {
                          "outlinewidth": 0,
                          "ticks": ""
                        },
                        "colorscale": [
                          [
                            0,
                            "#0d0887"
                          ],
                          [
                            0.1111111111111111,
                            "#46039f"
                          ],
                          [
                            0.2222222222222222,
                            "#7201a8"
                          ],
                          [
                            0.3333333333333333,
                            "#9c179e"
                          ],
                          [
                            0.4444444444444444,
                            "#bd3786"
                          ],
                          [
                            0.5555555555555556,
                            "#d8576b"
                          ],
                          [
                            0.6666666666666666,
                            "#ed7953"
                          ],
                          [
                            0.7777777777777778,
                            "#fb9f3a"
                          ],
                          [
                            0.8888888888888888,
                            "#fdca26"
                          ],
                          [
                            1,
                            "#f0f921"
                          ]
                        ],
                        "type": "heatmapgl"
                      }
                    ],
                    "histogram": [
                      {
                        "marker": {
                          "pattern": {
                            "fillmode": "overlay",
                            "size": 10,
                            "solidity": 0.2
                          }
                        },
                        "type": "histogram"
                      }
                    ],
                    "histogram2d": [
                      {
                        "colorbar": {
                          "outlinewidth": 0,
                          "ticks": ""
                        },
                        "colorscale": [
                          [
                            0,
                            "#0d0887"
                          ],
                          [
                            0.1111111111111111,
                            "#46039f"
                          ],
                          [
                            0.2222222222222222,
                            "#7201a8"
                          ],
                          [
                            0.3333333333333333,
                            "#9c179e"
                          ],
                          [
                            0.4444444444444444,
                            "#bd3786"
                          ],
                          [
                            0.5555555555555556,
                            "#d8576b"
                          ],
                          [
                            0.6666666666666666,
                            "#ed7953"
                          ],
                          [
                            0.7777777777777778,
                            "#fb9f3a"
                          ],
                          [
                            0.8888888888888888,
                            "#fdca26"
                          ],
                          [
                            1,
                            "#f0f921"
                          ]
                        ],
                        "type": "histogram2d"
                      }
                    ],
                    "histogram2dcontour": [
                      {
                        "colorbar": {
                          "outlinewidth": 0,
                          "ticks": ""
                        },
                        "colorscale": [
                          [
                            0,
                            "#0d0887"
                          ],
                          [
                            0.1111111111111111,
                            "#46039f"
                          ],
                          [
                            0.2222222222222222,
                            "#7201a8"
                          ],
                          [
                            0.3333333333333333,
                            "#9c179e"
                          ],
                          [
                            0.4444444444444444,
                            "#bd3786"
                          ],
                          [
                            0.5555555555555556,
                            "#d8576b"
                          ],
                          [
                            0.6666666666666666,
                            "#ed7953"
                          ],
                          [
                            0.7777777777777778,
                            "#fb9f3a"
                          ],
                          [
                            0.8888888888888888,
                            "#fdca26"
                          ],
                          [
                            1,
                            "#f0f921"
                          ]
                        ],
                        "type": "histogram2dcontour"
                      }
                    ],
                    "mesh3d": [
                      {
                        "colorbar": {
                          "outlinewidth": 0,
                          "ticks": ""
                        },
                        "type": "mesh3d"
                      }
                    ],
                    "parcoords": [
                      {
                        "line": {
                          "colorbar": {
                            "outlinewidth": 0,
                            "ticks": ""
                          }
                        },
                        "type": "parcoords"
                      }
                    ],
                    "pie": [
                      {
                        "automargin": true,
                        "type": "pie"
                      }
                    ],
                    "scatter": [
                      {
                        "marker": {
                          "colorbar": {
                            "outlinewidth": 0,
                            "ticks": ""
                          }
                        },
                        "type": "scatter"
                      }
                    ],
                    "scatter3d": [
                      {
                        "line": {
                          "colorbar": {
                            "outlinewidth": 0,
                            "ticks": ""
                          }
                        },
                        "marker": {
                          "colorbar": {
                            "outlinewidth": 0,
                            "ticks": ""
                          }
                        },
                        "type": "scatter3d"
                      }
                    ],
                    "scattercarpet": [
                      {
                        "marker": {
                          "colorbar": {
                            "outlinewidth": 0,
                            "ticks": ""
                          }
                        },
                        "type": "scattercarpet"
                      }
                    ],
                    "scattergeo": [
                      {
                        "marker": {
                          "colorbar": {
                            "outlinewidth": 0,
                            "ticks": ""
                          }
                        },
                        "type": "scattergeo"
                      }
                    ],
                    "scattergl": [
                      {
                        "marker": {
                          "colorbar": {
                            "outlinewidth": 0,
                            "ticks": ""
                          }
                        },
                        "type": "scattergl"
                      }
                    ],
                    "scattermapbox": [
                      {
                        "marker": {
                          "colorbar": {
                            "outlinewidth": 0,
                            "ticks": ""
                          }
                        },
                        "type": "scattermapbox"
                      }
                    ],
                    "scatterpolar": [
                      {
                        "marker": {
                          "colorbar": {
                            "outlinewidth": 0,
                            "ticks": ""
                          }
                        },
                        "type": "scatterpolar"
                      }
                    ],
                    "scatterpolargl": [
                      {
                        "marker": {
                          "colorbar": {
                            "outlinewidth": 0,
                            "ticks": ""
                          }
                        },
                        "type": "scatterpolargl"
                      }
                    ],
                    "scatterternary": [
                      {
                        "marker": {
                          "colorbar": {
                            "outlinewidth": 0,
                            "ticks": ""
                          }
                        },
                        "type": "scatterternary"
                      }
                    ],
                    "surface": [
                      {
                        "colorbar": {
                          "outlinewidth": 0,
                          "ticks": ""
                        },
                        "colorscale": [
                          [
                            0,
                            "#0d0887"
                          ],
                          [
                            0.1111111111111111,
                            "#46039f"
                          ],
                          [
                            0.2222222222222222,
                            "#7201a8"
                          ],
                          [
                            0.3333333333333333,
                            "#9c179e"
                          ],
                          [
                            0.4444444444444444,
                            "#bd3786"
                          ],
                          [
                            0.5555555555555556,
                            "#d8576b"
                          ],
                          [
                            0.6666666666666666,
                            "#ed7953"
                          ],
                          [
                            0.7777777777777778,
                            "#fb9f3a"
                          ],
                          [
                            0.8888888888888888,
                            "#fdca26"
                          ],
                          [
                            1,
                            "#f0f921"
                          ]
                        ],
                        "type": "surface"
                      }
                    ],
                    "table": [
                      {
                        "cells": {
                          "fill": {
                            "color": "#EBF0F8"
                          },
                          "line": {
                            "color": "white"
                          }
                        },
                        "header": {
                          "fill": {
                            "color": "#C8D4E3"
                          },
                          "line": {
                            "color": "white"
                          }
                        },
                        "type": "table"
                      }
                    ]
                  },
                  "layout": {
                    "annotationdefaults": {
                      "arrowcolor": "#2a3f5f",
                      "arrowhead": 0,
                      "arrowwidth": 1
                    },
                    "autotypenumbers": "strict",
                    "coloraxis": {
                      "colorbar": {
                        "outlinewidth": 0,
                        "ticks": ""
                      }
                    },
                    "colorscale": {
                      "diverging": [
                        [
                          0,
                          "#8e0152"
                        ],
                        [
                          0.1,
                          "#c51b7d"
                        ],
                        [
                          0.2,
                          "#de77ae"
                        ],
                        [
                          0.3,
                          "#f1b6da"
                        ],
                        [
                          0.4,
                          "#fde0ef"
                        ],
                        [
                          0.5,
                          "#f7f7f7"
                        ],
                        [
                          0.6,
                          "#e6f5d0"
                        ],
                        [
                          0.7,
                          "#b8e186"
                        ],
                        [
                          0.8,
                          "#7fbc41"
                        ],
                        [
                          0.9,
                          "#4d9221"
                        ],
                        [
                          1,
                          "#276419"
                        ]
                      ],
                      "sequential": [
                        [
                          0,
                          "#0d0887"
                        ],
                        [
                          0.1111111111111111,
                          "#46039f"
                        ],
                        [
                          0.2222222222222222,
                          "#7201a8"
                        ],
                        [
                          0.3333333333333333,
                          "#9c179e"
                        ],
                        [
                          0.4444444444444444,
                          "#bd3786"
                        ],
                        [
                          0.5555555555555556,
                          "#d8576b"
                        ],
                        [
                          0.6666666666666666,
                          "#ed7953"
                        ],
                        [
                          0.7777777777777778,
                          "#fb9f3a"
                        ],
                        [
                          0.8888888888888888,
                          "#fdca26"
                        ],
                        [
                          1,
                          "#f0f921"
                        ]
                      ],
                      "sequentialminus": [
                        [
                          0,
                          "#0d0887"
                        ],
                        [
                          0.1111111111111111,
                          "#46039f"
                        ],
                        [
                          0.2222222222222222,
                          "#7201a8"
                        ],
                        [
                          0.3333333333333333,
                          "#9c179e"
                        ],
                        [
                          0.4444444444444444,
                          "#bd3786"
                        ],
                        [
                          0.5555555555555556,
                          "#d8576b"
                        ],
                        [
                          0.6666666666666666,
                          "#ed7953"
                        ],
                        [
                          0.7777777777777778,
                          "#fb9f3a"
                        ],
                        [
                          0.8888888888888888,
                          "#fdca26"
                        ],
                        [
                          1,
                          "#f0f921"
                        ]
                      ]
                    },
                    "colorway": [
                      "#636efa",
                      "#EF553B",
                      "#00cc96",
                      "#ab63fa",
                      "#FFA15A",
                      "#19d3f3",
                      "#FF6692",
                      "#B6E880",
                      "#FF97FF",
                      "#FECB52"
                    ],
                    "font": {
                      "color": "#2a3f5f"
                    },
                    "geo": {
                      "bgcolor": "white",
                      "lakecolor": "white",
                      "landcolor": "#E5ECF6",
                      "showlakes": true,
                      "showland": true,
                      "subunitcolor": "white"
                    },
                    "hoverlabel": {
                      "align": "left"
                    },
                    "hovermode": "closest",
                    "mapbox": {
                      "style": "light"
                    },
                    "paper_bgcolor": "white",
                    "plot_bgcolor": "#E5ECF6",
                    "polar": {
                      "angularaxis": {
                        "gridcolor": "white",
                        "linecolor": "white",
                        "ticks": ""
                      },
                      "bgcolor": "#E5ECF6",
                      "radialaxis": {
                        "gridcolor": "white",
                        "linecolor": "white",
                        "ticks": ""
                      }
                    },
                    "scene": {
                      "xaxis": {
                        "backgroundcolor": "#E5ECF6",
                        "gridcolor": "white",
                        "gridwidth": 2,
                        "linecolor": "white",
                        "showbackground": true,
                        "ticks": "",
                        "zerolinecolor": "white"
                      },
                      "yaxis": {
                        "backgroundcolor": "#E5ECF6",
                        "gridcolor": "white",
                        "gridwidth": 2,
                        "linecolor": "white",
                        "showbackground": true,
                        "ticks": "",
                        "zerolinecolor": "white"
                      },
                      "zaxis": {
                        "backgroundcolor": "#E5ECF6",
                        "gridcolor": "white",
                        "gridwidth": 2,
                        "linecolor": "white",
                        "showbackground": true,
                        "ticks": "",
                        "zerolinecolor": "white"
                      }
                    },
                    "shapedefaults": {
                      "line": {
                        "color": "#2a3f5f"
                      }
                    },
                    "ternary": {
                      "aaxis": {
                        "gridcolor": "white",
                        "linecolor": "white",
                        "ticks": ""
                      },
                      "baxis": {
                        "gridcolor": "white",
                        "linecolor": "white",
                        "ticks": ""
                      },
                      "bgcolor": "#E5ECF6",
                      "caxis": {
                        "gridcolor": "white",
                        "linecolor": "white",
                        "ticks": ""
                      }
                    },
                    "title": {
                      "x": 0.05
                    },
                    "xaxis": {
                      "automargin": true,
                      "gridcolor": "white",
                      "linecolor": "white",
                      "ticks": "",
                      "title": {
                        "standoff": 15
                      },
                      "zerolinecolor": "white",
                      "zerolinewidth": 2
                    },
                    "yaxis": {
                      "automargin": true,
                      "gridcolor": "white",
                      "linecolor": "white",
                      "ticks": "",
                      "title": {
                        "standoff": 15
                      },
                      "zerolinecolor": "white",
                      "zerolinewidth": 2
                    }
                  }
                },
                "violinmode": "group",
                "xaxis": {
                  "anchor": "y",
                  "domain": [
                    0,
                    1
                  ],
                  "title": {
                    "text": "condizioni_meteo"
                  }
                },
                "yaxis": {
                  "anchor": "x",
                  "domain": [
                    0,
                    1
                  ],
                  "title": {
                    "text": "score_postop"
                  }
                }
              }
            }
          },
          "metadata": {},
          "output_type": "display_data"
        }
      ],
      "source": [
        "import plotly.express as px\n",
        "fig = px.violin(dataset, x=\"condizioni_meteo\", y=\"score_postop\")\n",
        "fig.show()"
      ]
    },
    {
      "cell_type": "code",
      "execution_count": 105,
      "metadata": {},
      "outputs": [
        {
          "data": {
            "text/html": [
              "<div>\n",
              "<style scoped>\n",
              "    .dataframe tbody tr th:only-of-type {\n",
              "        vertical-align: middle;\n",
              "    }\n",
              "\n",
              "    .dataframe tbody tr th {\n",
              "        vertical-align: top;\n",
              "    }\n",
              "\n",
              "    .dataframe thead th {\n",
              "        text-align: right;\n",
              "    }\n",
              "</style>\n",
              "<table border=\"1\" class=\"dataframe\">\n",
              "  <thead>\n",
              "    <tr style=\"text-align: right;\">\n",
              "      <th></th>\n",
              "      <th>gruppo_eta</th>\n",
              "      <th>peggiorati</th>\n",
              "      <th>migliorati</th>\n",
              "    </tr>\n",
              "  </thead>\n",
              "  <tbody>\n",
              "    <tr>\n",
              "      <th>5</th>\n",
              "      <td>(23.999, 58.0]</td>\n",
              "      <td>-0.139303</td>\n",
              "      <td>0.860697</td>\n",
              "    </tr>\n",
              "    <tr>\n",
              "      <th>4</th>\n",
              "      <td>(58.0, 65.0]</td>\n",
              "      <td>-0.220930</td>\n",
              "      <td>0.779070</td>\n",
              "    </tr>\n",
              "    <tr>\n",
              "      <th>1</th>\n",
              "      <td>(65.0, 69.0]</td>\n",
              "      <td>-0.123457</td>\n",
              "      <td>0.876543</td>\n",
              "    </tr>\n",
              "    <tr>\n",
              "      <th>0</th>\n",
              "      <td>(69.0, 74.0]</td>\n",
              "      <td>-0.181818</td>\n",
              "      <td>0.818182</td>\n",
              "    </tr>\n",
              "    <tr>\n",
              "      <th>2</th>\n",
              "      <td>(74.0, 79.0]</td>\n",
              "      <td>-0.229508</td>\n",
              "      <td>0.770492</td>\n",
              "    </tr>\n",
              "  </tbody>\n",
              "</table>\n",
              "</div>"
            ],
            "text/plain": [
              "       gruppo_eta  peggiorati  migliorati\n",
              "5  (23.999, 58.0]   -0.139303    0.860697\n",
              "4    (58.0, 65.0]   -0.220930    0.779070\n",
              "1    (65.0, 69.0]   -0.123457    0.876543\n",
              "0    (69.0, 74.0]   -0.181818    0.818182\n",
              "2    (74.0, 79.0]   -0.229508    0.770492"
            ]
          },
          "execution_count": 105,
          "metadata": {},
          "output_type": "execute_result"
        }
      ],
      "source": [
        "import plotly.graph_objects as gp\n",
        "from plotly.offline import iplot\n",
        "import numpy as np\n",
        "# dataset[\"condizioni_meteo\"] = pd.factorize(dataset[\"condizioni_meteo\"])[0]\n",
        "dataframe = pd.DataFrame({\"gruppo_eta\":[], \"peggiorati\": [], \"migliorati\":[]})\n",
        "nuovo_dataset = {}\n",
        "for item in dataset[\"gruppo_eta\"].unique():\n",
        "  queryStringPegg = \"gruppo_eta == '\"+str(item)+\"' and peggiorato == 1 and pshysical_score == 1\"\n",
        "  queryStringMigl = \"gruppo_eta == '\"+str(item)+\"' and peggiorato == 0 and pshysical_score == 1\"\n",
        "\n",
        "  resPeggiorati = dataset.query(queryStringPegg)\n",
        "  resMigliorati = dataset.query(queryStringMigl)\n",
        "  dataframe.loc[len(dataframe.index)] = [item,- (len(resPeggiorati)/(len(resMigliorati)+len(resPeggiorati))), len(resMigliorati)/(len(resMigliorati)+len(resPeggiorati))]\n",
        "  nuovo_dataset[str(item)] = len(resPeggiorati)\n",
        "\n",
        "dataframe = dataframe.sort_values(\"gruppo_eta\")\n",
        "#data normalization\n",
        "\n",
        "dataframe.head()"
      ]
    },
    {
      "cell_type": "code",
      "execution_count": 106,
      "metadata": {},
      "outputs": [
        {
          "data": {
            "application/vnd.plotly.v1+json": {
              "config": {
                "linkText": "Export to plot.ly",
                "plotlyServerURL": "https://plot.ly",
                "showLink": false
              },
              "data": [
                {
                  "hoverinfo": "skip",
                  "marker": {
                    "color": "#F4B942"
                  },
                  "name": "Peggiorati",
                  "orientation": "h",
                  "text": [
                    "13.93",
                    "22.09",
                    "12.35",
                    "18.18",
                    "22.95",
                    "16.0"
                  ],
                  "textposition": "auto",
                  "type": "bar",
                  "x": [
                    -0.13930348258706468,
                    -0.22093023255813954,
                    -0.12345679012345678,
                    -0.18181818181818182,
                    -0.22950819672131148,
                    -0.16
                  ],
                  "y": [
                    "(23.999, 58.0]",
                    "(58.0, 65.0]",
                    "(65.0, 69.0]",
                    "(69.0, 74.0]",
                    "(74.0, 79.0]",
                    "(79.0, 97.0]"
                  ]
                },
                {
                  "hoverinfo": "skip",
                  "marker": {
                    "color": "#4059AD"
                  },
                  "name": "Migliorati",
                  "orientation": "h",
                  "text": [
                    "86.07",
                    "77.91",
                    "87.65",
                    "81.82",
                    "77.05",
                    "84.0"
                  ],
                  "textposition": "auto",
                  "type": "bar",
                  "x": [
                    0.8606965174129353,
                    0.7790697674418605,
                    0.8765432098765432,
                    0.8181818181818182,
                    0.7704918032786885,
                    0.84
                  ],
                  "y": [
                    "(23.999, 58.0]",
                    "(58.0, 65.0]",
                    "(65.0, 69.0]",
                    "(69.0, 74.0]",
                    "(74.0, 79.0]",
                    "(79.0, 97.0]"
                  ]
                }
              ],
              "layout": {
                "bargap": 0.1,
                "barmode": "overlay",
                "template": {
                  "data": {
                    "bar": [
                      {
                        "error_x": {
                          "color": "#2a3f5f"
                        },
                        "error_y": {
                          "color": "#2a3f5f"
                        },
                        "marker": {
                          "line": {
                            "color": "#E5ECF6",
                            "width": 0.5
                          },
                          "pattern": {
                            "fillmode": "overlay",
                            "size": 10,
                            "solidity": 0.2
                          }
                        },
                        "type": "bar"
                      }
                    ],
                    "barpolar": [
                      {
                        "marker": {
                          "line": {
                            "color": "#E5ECF6",
                            "width": 0.5
                          },
                          "pattern": {
                            "fillmode": "overlay",
                            "size": 10,
                            "solidity": 0.2
                          }
                        },
                        "type": "barpolar"
                      }
                    ],
                    "carpet": [
                      {
                        "aaxis": {
                          "endlinecolor": "#2a3f5f",
                          "gridcolor": "white",
                          "linecolor": "white",
                          "minorgridcolor": "white",
                          "startlinecolor": "#2a3f5f"
                        },
                        "baxis": {
                          "endlinecolor": "#2a3f5f",
                          "gridcolor": "white",
                          "linecolor": "white",
                          "minorgridcolor": "white",
                          "startlinecolor": "#2a3f5f"
                        },
                        "type": "carpet"
                      }
                    ],
                    "choropleth": [
                      {
                        "colorbar": {
                          "outlinewidth": 0,
                          "ticks": ""
                        },
                        "type": "choropleth"
                      }
                    ],
                    "contour": [
                      {
                        "colorbar": {
                          "outlinewidth": 0,
                          "ticks": ""
                        },
                        "colorscale": [
                          [
                            0,
                            "#0d0887"
                          ],
                          [
                            0.1111111111111111,
                            "#46039f"
                          ],
                          [
                            0.2222222222222222,
                            "#7201a8"
                          ],
                          [
                            0.3333333333333333,
                            "#9c179e"
                          ],
                          [
                            0.4444444444444444,
                            "#bd3786"
                          ],
                          [
                            0.5555555555555556,
                            "#d8576b"
                          ],
                          [
                            0.6666666666666666,
                            "#ed7953"
                          ],
                          [
                            0.7777777777777778,
                            "#fb9f3a"
                          ],
                          [
                            0.8888888888888888,
                            "#fdca26"
                          ],
                          [
                            1,
                            "#f0f921"
                          ]
                        ],
                        "type": "contour"
                      }
                    ],
                    "contourcarpet": [
                      {
                        "colorbar": {
                          "outlinewidth": 0,
                          "ticks": ""
                        },
                        "type": "contourcarpet"
                      }
                    ],
                    "heatmap": [
                      {
                        "colorbar": {
                          "outlinewidth": 0,
                          "ticks": ""
                        },
                        "colorscale": [
                          [
                            0,
                            "#0d0887"
                          ],
                          [
                            0.1111111111111111,
                            "#46039f"
                          ],
                          [
                            0.2222222222222222,
                            "#7201a8"
                          ],
                          [
                            0.3333333333333333,
                            "#9c179e"
                          ],
                          [
                            0.4444444444444444,
                            "#bd3786"
                          ],
                          [
                            0.5555555555555556,
                            "#d8576b"
                          ],
                          [
                            0.6666666666666666,
                            "#ed7953"
                          ],
                          [
                            0.7777777777777778,
                            "#fb9f3a"
                          ],
                          [
                            0.8888888888888888,
                            "#fdca26"
                          ],
                          [
                            1,
                            "#f0f921"
                          ]
                        ],
                        "type": "heatmap"
                      }
                    ],
                    "heatmapgl": [
                      {
                        "colorbar": {
                          "outlinewidth": 0,
                          "ticks": ""
                        },
                        "colorscale": [
                          [
                            0,
                            "#0d0887"
                          ],
                          [
                            0.1111111111111111,
                            "#46039f"
                          ],
                          [
                            0.2222222222222222,
                            "#7201a8"
                          ],
                          [
                            0.3333333333333333,
                            "#9c179e"
                          ],
                          [
                            0.4444444444444444,
                            "#bd3786"
                          ],
                          [
                            0.5555555555555556,
                            "#d8576b"
                          ],
                          [
                            0.6666666666666666,
                            "#ed7953"
                          ],
                          [
                            0.7777777777777778,
                            "#fb9f3a"
                          ],
                          [
                            0.8888888888888888,
                            "#fdca26"
                          ],
                          [
                            1,
                            "#f0f921"
                          ]
                        ],
                        "type": "heatmapgl"
                      }
                    ],
                    "histogram": [
                      {
                        "marker": {
                          "pattern": {
                            "fillmode": "overlay",
                            "size": 10,
                            "solidity": 0.2
                          }
                        },
                        "type": "histogram"
                      }
                    ],
                    "histogram2d": [
                      {
                        "colorbar": {
                          "outlinewidth": 0,
                          "ticks": ""
                        },
                        "colorscale": [
                          [
                            0,
                            "#0d0887"
                          ],
                          [
                            0.1111111111111111,
                            "#46039f"
                          ],
                          [
                            0.2222222222222222,
                            "#7201a8"
                          ],
                          [
                            0.3333333333333333,
                            "#9c179e"
                          ],
                          [
                            0.4444444444444444,
                            "#bd3786"
                          ],
                          [
                            0.5555555555555556,
                            "#d8576b"
                          ],
                          [
                            0.6666666666666666,
                            "#ed7953"
                          ],
                          [
                            0.7777777777777778,
                            "#fb9f3a"
                          ],
                          [
                            0.8888888888888888,
                            "#fdca26"
                          ],
                          [
                            1,
                            "#f0f921"
                          ]
                        ],
                        "type": "histogram2d"
                      }
                    ],
                    "histogram2dcontour": [
                      {
                        "colorbar": {
                          "outlinewidth": 0,
                          "ticks": ""
                        },
                        "colorscale": [
                          [
                            0,
                            "#0d0887"
                          ],
                          [
                            0.1111111111111111,
                            "#46039f"
                          ],
                          [
                            0.2222222222222222,
                            "#7201a8"
                          ],
                          [
                            0.3333333333333333,
                            "#9c179e"
                          ],
                          [
                            0.4444444444444444,
                            "#bd3786"
                          ],
                          [
                            0.5555555555555556,
                            "#d8576b"
                          ],
                          [
                            0.6666666666666666,
                            "#ed7953"
                          ],
                          [
                            0.7777777777777778,
                            "#fb9f3a"
                          ],
                          [
                            0.8888888888888888,
                            "#fdca26"
                          ],
                          [
                            1,
                            "#f0f921"
                          ]
                        ],
                        "type": "histogram2dcontour"
                      }
                    ],
                    "mesh3d": [
                      {
                        "colorbar": {
                          "outlinewidth": 0,
                          "ticks": ""
                        },
                        "type": "mesh3d"
                      }
                    ],
                    "parcoords": [
                      {
                        "line": {
                          "colorbar": {
                            "outlinewidth": 0,
                            "ticks": ""
                          }
                        },
                        "type": "parcoords"
                      }
                    ],
                    "pie": [
                      {
                        "automargin": true,
                        "type": "pie"
                      }
                    ],
                    "scatter": [
                      {
                        "marker": {
                          "colorbar": {
                            "outlinewidth": 0,
                            "ticks": ""
                          }
                        },
                        "type": "scatter"
                      }
                    ],
                    "scatter3d": [
                      {
                        "line": {
                          "colorbar": {
                            "outlinewidth": 0,
                            "ticks": ""
                          }
                        },
                        "marker": {
                          "colorbar": {
                            "outlinewidth": 0,
                            "ticks": ""
                          }
                        },
                        "type": "scatter3d"
                      }
                    ],
                    "scattercarpet": [
                      {
                        "marker": {
                          "colorbar": {
                            "outlinewidth": 0,
                            "ticks": ""
                          }
                        },
                        "type": "scattercarpet"
                      }
                    ],
                    "scattergeo": [
                      {
                        "marker": {
                          "colorbar": {
                            "outlinewidth": 0,
                            "ticks": ""
                          }
                        },
                        "type": "scattergeo"
                      }
                    ],
                    "scattergl": [
                      {
                        "marker": {
                          "colorbar": {
                            "outlinewidth": 0,
                            "ticks": ""
                          }
                        },
                        "type": "scattergl"
                      }
                    ],
                    "scattermapbox": [
                      {
                        "marker": {
                          "colorbar": {
                            "outlinewidth": 0,
                            "ticks": ""
                          }
                        },
                        "type": "scattermapbox"
                      }
                    ],
                    "scatterpolar": [
                      {
                        "marker": {
                          "colorbar": {
                            "outlinewidth": 0,
                            "ticks": ""
                          }
                        },
                        "type": "scatterpolar"
                      }
                    ],
                    "scatterpolargl": [
                      {
                        "marker": {
                          "colorbar": {
                            "outlinewidth": 0,
                            "ticks": ""
                          }
                        },
                        "type": "scatterpolargl"
                      }
                    ],
                    "scatterternary": [
                      {
                        "marker": {
                          "colorbar": {
                            "outlinewidth": 0,
                            "ticks": ""
                          }
                        },
                        "type": "scatterternary"
                      }
                    ],
                    "surface": [
                      {
                        "colorbar": {
                          "outlinewidth": 0,
                          "ticks": ""
                        },
                        "colorscale": [
                          [
                            0,
                            "#0d0887"
                          ],
                          [
                            0.1111111111111111,
                            "#46039f"
                          ],
                          [
                            0.2222222222222222,
                            "#7201a8"
                          ],
                          [
                            0.3333333333333333,
                            "#9c179e"
                          ],
                          [
                            0.4444444444444444,
                            "#bd3786"
                          ],
                          [
                            0.5555555555555556,
                            "#d8576b"
                          ],
                          [
                            0.6666666666666666,
                            "#ed7953"
                          ],
                          [
                            0.7777777777777778,
                            "#fb9f3a"
                          ],
                          [
                            0.8888888888888888,
                            "#fdca26"
                          ],
                          [
                            1,
                            "#f0f921"
                          ]
                        ],
                        "type": "surface"
                      }
                    ],
                    "table": [
                      {
                        "cells": {
                          "fill": {
                            "color": "#EBF0F8"
                          },
                          "line": {
                            "color": "white"
                          }
                        },
                        "header": {
                          "fill": {
                            "color": "#C8D4E3"
                          },
                          "line": {
                            "color": "white"
                          }
                        },
                        "type": "table"
                      }
                    ]
                  },
                  "layout": {
                    "annotationdefaults": {
                      "arrowcolor": "#2a3f5f",
                      "arrowhead": 0,
                      "arrowwidth": 1
                    },
                    "autotypenumbers": "strict",
                    "coloraxis": {
                      "colorbar": {
                        "outlinewidth": 0,
                        "ticks": ""
                      }
                    },
                    "colorscale": {
                      "diverging": [
                        [
                          0,
                          "#8e0152"
                        ],
                        [
                          0.1,
                          "#c51b7d"
                        ],
                        [
                          0.2,
                          "#de77ae"
                        ],
                        [
                          0.3,
                          "#f1b6da"
                        ],
                        [
                          0.4,
                          "#fde0ef"
                        ],
                        [
                          0.5,
                          "#f7f7f7"
                        ],
                        [
                          0.6,
                          "#e6f5d0"
                        ],
                        [
                          0.7,
                          "#b8e186"
                        ],
                        [
                          0.8,
                          "#7fbc41"
                        ],
                        [
                          0.9,
                          "#4d9221"
                        ],
                        [
                          1,
                          "#276419"
                        ]
                      ],
                      "sequential": [
                        [
                          0,
                          "#0d0887"
                        ],
                        [
                          0.1111111111111111,
                          "#46039f"
                        ],
                        [
                          0.2222222222222222,
                          "#7201a8"
                        ],
                        [
                          0.3333333333333333,
                          "#9c179e"
                        ],
                        [
                          0.4444444444444444,
                          "#bd3786"
                        ],
                        [
                          0.5555555555555556,
                          "#d8576b"
                        ],
                        [
                          0.6666666666666666,
                          "#ed7953"
                        ],
                        [
                          0.7777777777777778,
                          "#fb9f3a"
                        ],
                        [
                          0.8888888888888888,
                          "#fdca26"
                        ],
                        [
                          1,
                          "#f0f921"
                        ]
                      ],
                      "sequentialminus": [
                        [
                          0,
                          "#0d0887"
                        ],
                        [
                          0.1111111111111111,
                          "#46039f"
                        ],
                        [
                          0.2222222222222222,
                          "#7201a8"
                        ],
                        [
                          0.3333333333333333,
                          "#9c179e"
                        ],
                        [
                          0.4444444444444444,
                          "#bd3786"
                        ],
                        [
                          0.5555555555555556,
                          "#d8576b"
                        ],
                        [
                          0.6666666666666666,
                          "#ed7953"
                        ],
                        [
                          0.7777777777777778,
                          "#fb9f3a"
                        ],
                        [
                          0.8888888888888888,
                          "#fdca26"
                        ],
                        [
                          1,
                          "#f0f921"
                        ]
                      ]
                    },
                    "colorway": [
                      "#636efa",
                      "#EF553B",
                      "#00cc96",
                      "#ab63fa",
                      "#FFA15A",
                      "#19d3f3",
                      "#FF6692",
                      "#B6E880",
                      "#FF97FF",
                      "#FECB52"
                    ],
                    "font": {
                      "color": "#2a3f5f"
                    },
                    "geo": {
                      "bgcolor": "white",
                      "lakecolor": "white",
                      "landcolor": "#E5ECF6",
                      "showlakes": true,
                      "showland": true,
                      "subunitcolor": "white"
                    },
                    "hoverlabel": {
                      "align": "left"
                    },
                    "hovermode": "closest",
                    "mapbox": {
                      "style": "light"
                    },
                    "paper_bgcolor": "white",
                    "plot_bgcolor": "#E5ECF6",
                    "polar": {
                      "angularaxis": {
                        "gridcolor": "white",
                        "linecolor": "white",
                        "ticks": ""
                      },
                      "bgcolor": "#E5ECF6",
                      "radialaxis": {
                        "gridcolor": "white",
                        "linecolor": "white",
                        "ticks": ""
                      }
                    },
                    "scene": {
                      "xaxis": {
                        "backgroundcolor": "#E5ECF6",
                        "gridcolor": "white",
                        "gridwidth": 2,
                        "linecolor": "white",
                        "showbackground": true,
                        "ticks": "",
                        "zerolinecolor": "white"
                      },
                      "yaxis": {
                        "backgroundcolor": "#E5ECF6",
                        "gridcolor": "white",
                        "gridwidth": 2,
                        "linecolor": "white",
                        "showbackground": true,
                        "ticks": "",
                        "zerolinecolor": "white"
                      },
                      "zaxis": {
                        "backgroundcolor": "#E5ECF6",
                        "gridcolor": "white",
                        "gridwidth": 2,
                        "linecolor": "white",
                        "showbackground": true,
                        "ticks": "",
                        "zerolinecolor": "white"
                      }
                    },
                    "shapedefaults": {
                      "line": {
                        "color": "#2a3f5f"
                      }
                    },
                    "ternary": {
                      "aaxis": {
                        "gridcolor": "white",
                        "linecolor": "white",
                        "ticks": ""
                      },
                      "baxis": {
                        "gridcolor": "white",
                        "linecolor": "white",
                        "ticks": ""
                      },
                      "bgcolor": "#E5ECF6",
                      "caxis": {
                        "gridcolor": "white",
                        "linecolor": "white",
                        "ticks": ""
                      }
                    },
                    "title": {
                      "x": 0.05
                    },
                    "xaxis": {
                      "automargin": true,
                      "gridcolor": "white",
                      "linecolor": "white",
                      "ticks": "",
                      "title": {
                        "standoff": 15
                      },
                      "zerolinecolor": "white",
                      "zerolinewidth": 2
                    },
                    "yaxis": {
                      "automargin": true,
                      "gridcolor": "white",
                      "linecolor": "white",
                      "ticks": "",
                      "title": {
                        "standoff": 15
                      },
                      "zerolinecolor": "white",
                      "zerolinewidth": 2
                    }
                  }
                },
                "xaxis": {
                  "range": [
                    -1,
                    1
                  ],
                  "ticktext": [
                    100,
                    50,
                    0,
                    50,
                    100
                  ],
                  "tickvals": [
                    -1,
                    0,
                    0,
                    0.5,
                    1
                  ],
                  "title": {
                    "text": "Percentuale (%)"
                  }
                },
                "yaxis": {
                  "title": {
                    "text": "Classe di età"
                  }
                }
              }
            }
          },
          "metadata": {},
          "output_type": "display_data"
        }
      ],
      "source": [
        "\n",
        "\n",
        "layout = gp.Layout(yaxis=gp.layout.YAxis(title='Classe di età'),\n",
        "                   xaxis=gp.layout.XAxis(\n",
        "                    range=[-1,1],\n",
        "                      tickvals=[-1, -0.0, 0 , 0.5, 1],\n",
        "                       ticktext=[100,50, 0, 50, 100],\n",
        "                    title='Percentuale (%)'),\n",
        "                   barmode='overlay',\n",
        "                   bargap=0.1,\n",
        "                   \n",
        "                   )\n",
        "\n",
        "data = [gp.Bar(y= dataframe[\"gruppo_eta\"], x = dataframe[\"peggiorati\"], \n",
        "               orientation='h',\n",
        "               name='Peggiorati',\n",
        "               text=(dataframe[\"peggiorati\"]*100).abs().round(2).to_list(),\n",
        "               hoverinfo='skip',\n",
        "               \n",
        "               marker=dict(color='#F4B942'),\n",
        "                textposition='auto',\n",
        "               ),\n",
        "        gp.Bar(y= dataframe[\"gruppo_eta\"], x = dataframe[\"migliorati\"],\n",
        "               orientation='h',\n",
        "               text=(dataframe[\"migliorati\"]*100).abs().round(2).to_list(),\n",
        "               name='Migliorati',\n",
        "                hoverinfo='skip',\n",
        "               marker=dict(color='#4059AD'),\n",
        "                textposition='auto',\n",
        "               )]\n",
        "\n",
        "iplot(dict(data=data, layout=layout))"
      ]
    }
  ],
  "metadata": {
    "colab": {
      "collapsed_sections": [],
      "name": "Compitino DV.ipynb",
      "provenance": []
    },
    "kernelspec": {
      "display_name": "Python 3",
      "name": "python3"
    },
    "language_info": {
      "codemirror_mode": {
        "name": "ipython",
        "version": 3
      },
      "file_extension": ".py",
      "mimetype": "text/x-python",
      "name": "python",
      "nbconvert_exporter": "python",
      "pygments_lexer": "ipython3",
      "version": "3.9.1"
    }
  },
  "nbformat": 4,
  "nbformat_minor": 0
}
