{
  "cells": [
    {
      "cell_type": "code",
      "execution_count": 5,
      "metadata": {
        "id": "29Ea7UUYjIoU"
      },
      "outputs": [],
      "source": [
        "import pandas as pd\n",
        "from matplotlib import pyplot as plt \n",
        "import chart_studio.plotly as py\n",
        "import plotly.graph_objs as go"
      ]
    },
    {
      "cell_type": "code",
      "execution_count": 1,
      "metadata": {},
      "outputs": [],
      "source": [
        "%load_ext autoreload\n",
        "%autoreload 2"
      ]
    },
    {
      "cell_type": "code",
      "execution_count": 6,
      "metadata": {
        "id": "EeooCLgHjugE"
      },
      "outputs": [
        {
          "data": {
            "text/html": [
              "<div>\n",
              "<style scoped>\n",
              "    .dataframe tbody tr th:only-of-type {\n",
              "        vertical-align: middle;\n",
              "    }\n",
              "\n",
              "    .dataframe tbody tr th {\n",
              "        vertical-align: top;\n",
              "    }\n",
              "\n",
              "    .dataframe thead th {\n",
              "        text-align: right;\n",
              "    }\n",
              "</style>\n",
              "<table border=\"1\" class=\"dataframe\">\n",
              "  <thead>\n",
              "    <tr style=\"text-align: right;\">\n",
              "      <th></th>\n",
              "      <th>nome_modulistica</th>\n",
              "      <th>score_preop</th>\n",
              "      <th>score_postop</th>\n",
              "      <th>condizioni_meteo</th>\n",
              "      <th>sesso</th>\n",
              "      <th>anni_ricovero</th>\n",
              "      <th>temperatura_media</th>\n",
              "      <th>umidita_media</th>\n",
              "      <th>HI &gt; 27</th>\n",
              "      <th>natural_light</th>\n",
              "    </tr>\n",
              "  </thead>\n",
              "  <tbody>\n",
              "    <tr>\n",
              "      <th>0</th>\n",
              "      <td>SF12 PhysicalScore</td>\n",
              "      <td>27.60</td>\n",
              "      <td>37.40</td>\n",
              "      <td>poco nuvoloso</td>\n",
              "      <td>F</td>\n",
              "      <td>70</td>\n",
              "      <td>20.0</td>\n",
              "      <td>69.0</td>\n",
              "      <td>False</td>\n",
              "      <td>True</td>\n",
              "    </tr>\n",
              "    <tr>\n",
              "      <th>1</th>\n",
              "      <td>SF12 MentalScore</td>\n",
              "      <td>54.36</td>\n",
              "      <td>58.46</td>\n",
              "      <td>poco nuvoloso</td>\n",
              "      <td>F</td>\n",
              "      <td>70</td>\n",
              "      <td>20.0</td>\n",
              "      <td>69.0</td>\n",
              "      <td>False</td>\n",
              "      <td>True</td>\n",
              "    </tr>\n",
              "    <tr>\n",
              "      <th>2</th>\n",
              "      <td>SF12 PhysicalScore</td>\n",
              "      <td>28.15</td>\n",
              "      <td>38.25</td>\n",
              "      <td>poco nuvoloso</td>\n",
              "      <td>M</td>\n",
              "      <td>69</td>\n",
              "      <td>18.0</td>\n",
              "      <td>65.0</td>\n",
              "      <td>False</td>\n",
              "      <td>True</td>\n",
              "    </tr>\n",
              "    <tr>\n",
              "      <th>3</th>\n",
              "      <td>SF12 MentalScore</td>\n",
              "      <td>57.02</td>\n",
              "      <td>64.62</td>\n",
              "      <td>poco nuvoloso</td>\n",
              "      <td>M</td>\n",
              "      <td>69</td>\n",
              "      <td>18.0</td>\n",
              "      <td>65.0</td>\n",
              "      <td>False</td>\n",
              "      <td>True</td>\n",
              "    </tr>\n",
              "    <tr>\n",
              "      <th>4</th>\n",
              "      <td>SF12 PhysicalScore</td>\n",
              "      <td>31.57</td>\n",
              "      <td>55.67</td>\n",
              "      <td>poco nuvoloso</td>\n",
              "      <td>M</td>\n",
              "      <td>70</td>\n",
              "      <td>23.0</td>\n",
              "      <td>74.0</td>\n",
              "      <td>False</td>\n",
              "      <td>True</td>\n",
              "    </tr>\n",
              "  </tbody>\n",
              "</table>\n",
              "</div>"
            ],
            "text/plain": [
              "     nome_modulistica  score_preop  score_postop condizioni_meteo sesso  \\\n",
              "0  SF12 PhysicalScore        27.60         37.40    poco nuvoloso     F   \n",
              "1    SF12 MentalScore        54.36         58.46    poco nuvoloso     F   \n",
              "2  SF12 PhysicalScore        28.15         38.25    poco nuvoloso     M   \n",
              "3    SF12 MentalScore        57.02         64.62    poco nuvoloso     M   \n",
              "4  SF12 PhysicalScore        31.57         55.67    poco nuvoloso     M   \n",
              "\n",
              "   anni_ricovero  temperatura_media  umidita_media  HI > 27  natural_light  \n",
              "0             70               20.0           69.0    False           True  \n",
              "1             70               20.0           69.0    False           True  \n",
              "2             69               18.0           65.0    False           True  \n",
              "3             69               18.0           65.0    False           True  \n",
              "4             70               23.0           74.0    False           True  "
            ]
          },
          "execution_count": 6,
          "metadata": {},
          "output_type": "execute_result"
        }
      ],
      "source": [
        "dataset= pd.read_csv(\"https://raw.githubusercontent.com/fabriziocominetti/Data-Science-UnimiB/main/Data%20Visualization/compitino_dataviz_2021_2022.csv\")\n",
        "dataset.head()"
      ]
    },
    {
      "cell_type": "code",
      "execution_count": 3,
      "metadata": {
        "id": "_aZ7ZVdqkk8R"
      },
      "outputs": [
        {
          "data": {
            "text/html": [
              "<div>\n",
              "<style scoped>\n",
              "    .dataframe tbody tr th:only-of-type {\n",
              "        vertical-align: middle;\n",
              "    }\n",
              "\n",
              "    .dataframe tbody tr th {\n",
              "        vertical-align: top;\n",
              "    }\n",
              "\n",
              "    .dataframe thead th {\n",
              "        text-align: right;\n",
              "    }\n",
              "</style>\n",
              "<table border=\"1\" class=\"dataframe\">\n",
              "  <thead>\n",
              "    <tr style=\"text-align: right;\">\n",
              "      <th></th>\n",
              "      <th>nome_modulistica</th>\n",
              "      <th>score_preop</th>\n",
              "      <th>score_postop</th>\n",
              "      <th>condizioni_meteo</th>\n",
              "      <th>sesso</th>\n",
              "      <th>anni_ricovero</th>\n",
              "      <th>temperatura_media</th>\n",
              "      <th>umidita_media</th>\n",
              "      <th>HI &gt; 27</th>\n",
              "      <th>natural_light</th>\n",
              "    </tr>\n",
              "  </thead>\n",
              "  <tbody>\n",
              "    <tr>\n",
              "      <th>2105</th>\n",
              "      <td>SF12 MentalScore</td>\n",
              "      <td>57.54</td>\n",
              "      <td>62.34</td>\n",
              "      <td>nebbia al mattino</td>\n",
              "      <td>M</td>\n",
              "      <td>70</td>\n",
              "      <td>20.0</td>\n",
              "      <td>71.0</td>\n",
              "      <td>True</td>\n",
              "      <td>True</td>\n",
              "    </tr>\n",
              "    <tr>\n",
              "      <th>2106</th>\n",
              "      <td>SF12 PhysicalScore</td>\n",
              "      <td>32.20</td>\n",
              "      <td>37.10</td>\n",
              "      <td>nebbia al mattino</td>\n",
              "      <td>F</td>\n",
              "      <td>56</td>\n",
              "      <td>20.0</td>\n",
              "      <td>71.0</td>\n",
              "      <td>True</td>\n",
              "      <td>True</td>\n",
              "    </tr>\n",
              "    <tr>\n",
              "      <th>2107</th>\n",
              "      <td>SF12 MentalScore</td>\n",
              "      <td>48.84</td>\n",
              "      <td>50.94</td>\n",
              "      <td>nebbia al mattino</td>\n",
              "      <td>F</td>\n",
              "      <td>56</td>\n",
              "      <td>20.0</td>\n",
              "      <td>71.0</td>\n",
              "      <td>True</td>\n",
              "      <td>True</td>\n",
              "    </tr>\n",
              "    <tr>\n",
              "      <th>2108</th>\n",
              "      <td>SF12 PhysicalScore</td>\n",
              "      <td>36.47</td>\n",
              "      <td>43.47</td>\n",
              "      <td>sereno</td>\n",
              "      <td>M</td>\n",
              "      <td>69</td>\n",
              "      <td>23.0</td>\n",
              "      <td>55.0</td>\n",
              "      <td>False</td>\n",
              "      <td>True</td>\n",
              "    </tr>\n",
              "    <tr>\n",
              "      <th>2109</th>\n",
              "      <td>SF12 MentalScore</td>\n",
              "      <td>51.70</td>\n",
              "      <td>60.20</td>\n",
              "      <td>sereno</td>\n",
              "      <td>M</td>\n",
              "      <td>69</td>\n",
              "      <td>23.0</td>\n",
              "      <td>55.0</td>\n",
              "      <td>False</td>\n",
              "      <td>True</td>\n",
              "    </tr>\n",
              "  </tbody>\n",
              "</table>\n",
              "</div>"
            ],
            "text/plain": [
              "        nome_modulistica  score_preop  score_postop   condizioni_meteo sesso  \\\n",
              "2105    SF12 MentalScore        57.54         62.34  nebbia al mattino     M   \n",
              "2106  SF12 PhysicalScore        32.20         37.10  nebbia al mattino     F   \n",
              "2107    SF12 MentalScore        48.84         50.94  nebbia al mattino     F   \n",
              "2108  SF12 PhysicalScore        36.47         43.47             sereno     M   \n",
              "2109    SF12 MentalScore        51.70         60.20             sereno     M   \n",
              "\n",
              "      anni_ricovero  temperatura_media  umidita_media  HI > 27  natural_light  \n",
              "2105             70               20.0           71.0     True           True  \n",
              "2106             56               20.0           71.0     True           True  \n",
              "2107             56               20.0           71.0     True           True  \n",
              "2108             69               23.0           55.0    False           True  \n",
              "2109             69               23.0           55.0    False           True  "
            ]
          },
          "execution_count": 3,
          "metadata": {},
          "output_type": "execute_result"
        }
      ],
      "source": [
        "dataset.tail()"
      ]
    },
    {
      "cell_type": "code",
      "execution_count": 46,
      "metadata": {},
      "outputs": [],
      "source": [
        "dataset[\"delta_score\"] = dataset[\"score_postop\"] - dataset[\"score_preop\"] \n",
        "dataset[\"sotto_metà\"] = dataset[\"score_postop\"] > (dataset['score_postop'].median())\n",
        "dataset[\"peggiorato\"] = dataset[\"delta_score\"] < 0"
      ]
    },
    {
      "cell_type": "code",
      "execution_count": 44,
      "metadata": {},
      "outputs": [
        {
          "data": {
            "text/plain": [
              "48.885000000000005"
            ]
          },
          "execution_count": 44,
          "metadata": {},
          "output_type": "execute_result"
        }
      ],
      "source": [
        "dataset['score_postop'].median()"
      ]
    },
    {
      "cell_type": "code",
      "execution_count": 45,
      "metadata": {},
      "outputs": [
        {
          "data": {
            "text/html": [
              "<div>\n",
              "<style scoped>\n",
              "    .dataframe tbody tr th:only-of-type {\n",
              "        vertical-align: middle;\n",
              "    }\n",
              "\n",
              "    .dataframe tbody tr th {\n",
              "        vertical-align: top;\n",
              "    }\n",
              "\n",
              "    .dataframe thead th {\n",
              "        text-align: right;\n",
              "    }\n",
              "</style>\n",
              "<table border=\"1\" class=\"dataframe\">\n",
              "  <thead>\n",
              "    <tr style=\"text-align: right;\">\n",
              "      <th></th>\n",
              "      <th>nome_modulistica</th>\n",
              "      <th>score_preop</th>\n",
              "      <th>score_postop</th>\n",
              "      <th>condizioni_meteo</th>\n",
              "      <th>sesso</th>\n",
              "      <th>anni_ricovero</th>\n",
              "      <th>temperatura_media</th>\n",
              "      <th>umidita_media</th>\n",
              "      <th>HI &gt; 27</th>\n",
              "      <th>natural_light</th>\n",
              "      <th>t_media &gt; 22</th>\n",
              "      <th>delta_score</th>\n",
              "      <th>sotto_metà</th>\n",
              "      <th>peggiorato</th>\n",
              "    </tr>\n",
              "  </thead>\n",
              "  <tbody>\n",
              "    <tr>\n",
              "      <th>0</th>\n",
              "      <td>SF12 PhysicalScore</td>\n",
              "      <td>27.60</td>\n",
              "      <td>37.40</td>\n",
              "      <td>poco nuvoloso</td>\n",
              "      <td>F</td>\n",
              "      <td>70</td>\n",
              "      <td>20.0</td>\n",
              "      <td>69.0</td>\n",
              "      <td>False</td>\n",
              "      <td>True</td>\n",
              "      <td>False</td>\n",
              "      <td>9.8</td>\n",
              "      <td>False</td>\n",
              "      <td>True</td>\n",
              "    </tr>\n",
              "    <tr>\n",
              "      <th>1</th>\n",
              "      <td>SF12 MentalScore</td>\n",
              "      <td>54.36</td>\n",
              "      <td>58.46</td>\n",
              "      <td>poco nuvoloso</td>\n",
              "      <td>F</td>\n",
              "      <td>70</td>\n",
              "      <td>20.0</td>\n",
              "      <td>69.0</td>\n",
              "      <td>False</td>\n",
              "      <td>True</td>\n",
              "      <td>False</td>\n",
              "      <td>4.1</td>\n",
              "      <td>True</td>\n",
              "      <td>True</td>\n",
              "    </tr>\n",
              "    <tr>\n",
              "      <th>2</th>\n",
              "      <td>SF12 PhysicalScore</td>\n",
              "      <td>28.15</td>\n",
              "      <td>38.25</td>\n",
              "      <td>poco nuvoloso</td>\n",
              "      <td>M</td>\n",
              "      <td>69</td>\n",
              "      <td>18.0</td>\n",
              "      <td>65.0</td>\n",
              "      <td>False</td>\n",
              "      <td>True</td>\n",
              "      <td>False</td>\n",
              "      <td>10.1</td>\n",
              "      <td>False</td>\n",
              "      <td>True</td>\n",
              "    </tr>\n",
              "    <tr>\n",
              "      <th>3</th>\n",
              "      <td>SF12 MentalScore</td>\n",
              "      <td>57.02</td>\n",
              "      <td>64.62</td>\n",
              "      <td>poco nuvoloso</td>\n",
              "      <td>M</td>\n",
              "      <td>69</td>\n",
              "      <td>18.0</td>\n",
              "      <td>65.0</td>\n",
              "      <td>False</td>\n",
              "      <td>True</td>\n",
              "      <td>False</td>\n",
              "      <td>7.6</td>\n",
              "      <td>True</td>\n",
              "      <td>True</td>\n",
              "    </tr>\n",
              "    <tr>\n",
              "      <th>4</th>\n",
              "      <td>SF12 PhysicalScore</td>\n",
              "      <td>31.57</td>\n",
              "      <td>55.67</td>\n",
              "      <td>poco nuvoloso</td>\n",
              "      <td>M</td>\n",
              "      <td>70</td>\n",
              "      <td>23.0</td>\n",
              "      <td>74.0</td>\n",
              "      <td>False</td>\n",
              "      <td>True</td>\n",
              "      <td>True</td>\n",
              "      <td>24.1</td>\n",
              "      <td>True</td>\n",
              "      <td>True</td>\n",
              "    </tr>\n",
              "  </tbody>\n",
              "</table>\n",
              "</div>"
            ],
            "text/plain": [
              "     nome_modulistica  score_preop  score_postop condizioni_meteo sesso  \\\n",
              "0  SF12 PhysicalScore        27.60         37.40    poco nuvoloso     F   \n",
              "1    SF12 MentalScore        54.36         58.46    poco nuvoloso     F   \n",
              "2  SF12 PhysicalScore        28.15         38.25    poco nuvoloso     M   \n",
              "3    SF12 MentalScore        57.02         64.62    poco nuvoloso     M   \n",
              "4  SF12 PhysicalScore        31.57         55.67    poco nuvoloso     M   \n",
              "\n",
              "   anni_ricovero  temperatura_media  umidita_media  HI > 27  natural_light  \\\n",
              "0             70               20.0           69.0    False           True   \n",
              "1             70               20.0           69.0    False           True   \n",
              "2             69               18.0           65.0    False           True   \n",
              "3             69               18.0           65.0    False           True   \n",
              "4             70               23.0           74.0    False           True   \n",
              "\n",
              "   t_media > 22  delta_score  sotto_metà  peggiorato  \n",
              "0         False          9.8       False        True  \n",
              "1         False          4.1        True        True  \n",
              "2         False         10.1       False        True  \n",
              "3         False          7.6        True        True  \n",
              "4          True         24.1        True        True  "
            ]
          },
          "execution_count": 45,
          "metadata": {},
          "output_type": "execute_result"
        }
      ],
      "source": [
        "dataset.head()"
      ]
    },
    {
      "cell_type": "code",
      "execution_count": null,
      "metadata": {
        "id": "ngA20W5Fj7AZ"
      },
      "outputs": [],
      "source": [
        "dataset['anni_ricovero'].max()"
      ]
    },
    {
      "cell_type": "code",
      "execution_count": null,
      "metadata": {
        "id": "LSzbCKItkG98"
      },
      "outputs": [],
      "source": [
        "dataset['anni_ricovero'].min()"
      ]
    },
    {
      "cell_type": "code",
      "execution_count": null,
      "metadata": {
        "id": "vCHMG92lkvCF"
      },
      "outputs": [],
      "source": [
        "dataset.shape"
      ]
    },
    {
      "cell_type": "code",
      "execution_count": 39,
      "metadata": {},
      "outputs": [
        {
          "data": {
            "text/html": [
              "<div>\n",
              "<style scoped>\n",
              "    .dataframe tbody tr th:only-of-type {\n",
              "        vertical-align: middle;\n",
              "    }\n",
              "\n",
              "    .dataframe tbody tr th {\n",
              "        vertical-align: top;\n",
              "    }\n",
              "\n",
              "    .dataframe thead th {\n",
              "        text-align: right;\n",
              "    }\n",
              "</style>\n",
              "<table border=\"1\" class=\"dataframe\">\n",
              "  <thead>\n",
              "    <tr style=\"text-align: right;\">\n",
              "      <th></th>\n",
              "      <th>nome_modulistica</th>\n",
              "      <th>score_preop</th>\n",
              "      <th>score_postop</th>\n",
              "      <th>condizioni_meteo</th>\n",
              "      <th>sesso</th>\n",
              "      <th>anni_ricovero</th>\n",
              "      <th>temperatura_media</th>\n",
              "      <th>umidita_media</th>\n",
              "      <th>HI &gt; 27</th>\n",
              "      <th>natural_light</th>\n",
              "      <th>t_media &gt; 22</th>\n",
              "      <th>delta_score</th>\n",
              "      <th>sotto_metà</th>\n",
              "    </tr>\n",
              "  </thead>\n",
              "  <tbody>\n",
              "    <tr>\n",
              "      <th>541</th>\n",
              "      <td>SF12 MentalScore</td>\n",
              "      <td>67.57</td>\n",
              "      <td>29.87</td>\n",
              "      <td>nebbia al mattino</td>\n",
              "      <td>F</td>\n",
              "      <td>62</td>\n",
              "      <td>7.0</td>\n",
              "      <td>94.0</td>\n",
              "      <td>False</td>\n",
              "      <td>True</td>\n",
              "      <td>False</td>\n",
              "      <td>-37.7</td>\n",
              "      <td>False</td>\n",
              "    </tr>\n",
              "    <tr>\n",
              "      <th>265</th>\n",
              "      <td>SF12 MentalScore</td>\n",
              "      <td>62.85</td>\n",
              "      <td>26.45</td>\n",
              "      <td>poco nuvoloso</td>\n",
              "      <td>F</td>\n",
              "      <td>59</td>\n",
              "      <td>9.0</td>\n",
              "      <td>54.0</td>\n",
              "      <td>False</td>\n",
              "      <td>True</td>\n",
              "      <td>False</td>\n",
              "      <td>-36.4</td>\n",
              "      <td>False</td>\n",
              "    </tr>\n",
              "    <tr>\n",
              "      <th>325</th>\n",
              "      <td>SF12 MentalScore</td>\n",
              "      <td>62.39</td>\n",
              "      <td>27.39</td>\n",
              "      <td>temporale e schiarite</td>\n",
              "      <td>M</td>\n",
              "      <td>62</td>\n",
              "      <td>20.0</td>\n",
              "      <td>67.0</td>\n",
              "      <td>False</td>\n",
              "      <td>True</td>\n",
              "      <td>False</td>\n",
              "      <td>-35.0</td>\n",
              "      <td>False</td>\n",
              "    </tr>\n",
              "    <tr>\n",
              "      <th>1259</th>\n",
              "      <td>SF12 MentalScore</td>\n",
              "      <td>54.14</td>\n",
              "      <td>19.64</td>\n",
              "      <td>pioggia e schiarite</td>\n",
              "      <td>F</td>\n",
              "      <td>71</td>\n",
              "      <td>8.0</td>\n",
              "      <td>95.0</td>\n",
              "      <td>False</td>\n",
              "      <td>True</td>\n",
              "      <td>False</td>\n",
              "      <td>-34.5</td>\n",
              "      <td>False</td>\n",
              "    </tr>\n",
              "    <tr>\n",
              "      <th>261</th>\n",
              "      <td>SF12 MentalScore</td>\n",
              "      <td>70.24</td>\n",
              "      <td>35.94</td>\n",
              "      <td>nubi sparse</td>\n",
              "      <td>M</td>\n",
              "      <td>70</td>\n",
              "      <td>13.0</td>\n",
              "      <td>74.0</td>\n",
              "      <td>False</td>\n",
              "      <td>True</td>\n",
              "      <td>False</td>\n",
              "      <td>-34.3</td>\n",
              "      <td>False</td>\n",
              "    </tr>\n",
              "    <tr>\n",
              "      <th>...</th>\n",
              "      <td>...</td>\n",
              "      <td>...</td>\n",
              "      <td>...</td>\n",
              "      <td>...</td>\n",
              "      <td>...</td>\n",
              "      <td>...</td>\n",
              "      <td>...</td>\n",
              "      <td>...</td>\n",
              "      <td>...</td>\n",
              "      <td>...</td>\n",
              "      <td>...</td>\n",
              "      <td>...</td>\n",
              "      <td>...</td>\n",
              "    </tr>\n",
              "    <tr>\n",
              "      <th>1337</th>\n",
              "      <td>SF12 MentalScore</td>\n",
              "      <td>20.60</td>\n",
              "      <td>60.50</td>\n",
              "      <td>sereno</td>\n",
              "      <td>F</td>\n",
              "      <td>80</td>\n",
              "      <td>3.0</td>\n",
              "      <td>74.0</td>\n",
              "      <td>False</td>\n",
              "      <td>True</td>\n",
              "      <td>False</td>\n",
              "      <td>39.9</td>\n",
              "      <td>True</td>\n",
              "    </tr>\n",
              "    <tr>\n",
              "      <th>915</th>\n",
              "      <td>SF12 MentalScore</td>\n",
              "      <td>20.68</td>\n",
              "      <td>62.68</td>\n",
              "      <td>sole e caldo</td>\n",
              "      <td>F</td>\n",
              "      <td>84</td>\n",
              "      <td>27.0</td>\n",
              "      <td>57.0</td>\n",
              "      <td>True</td>\n",
              "      <td>True</td>\n",
              "      <td>True</td>\n",
              "      <td>42.0</td>\n",
              "      <td>True</td>\n",
              "    </tr>\n",
              "    <tr>\n",
              "      <th>1711</th>\n",
              "      <td>SF12 MentalScore</td>\n",
              "      <td>13.68</td>\n",
              "      <td>58.68</td>\n",
              "      <td>pioggia e schiarite</td>\n",
              "      <td>M</td>\n",
              "      <td>73</td>\n",
              "      <td>11.0</td>\n",
              "      <td>85.0</td>\n",
              "      <td>False</td>\n",
              "      <td>True</td>\n",
              "      <td>False</td>\n",
              "      <td>45.0</td>\n",
              "      <td>True</td>\n",
              "    </tr>\n",
              "    <tr>\n",
              "      <th>401</th>\n",
              "      <td>SF12 MentalScore</td>\n",
              "      <td>14.40</td>\n",
              "      <td>60.20</td>\n",
              "      <td>poco nuvoloso</td>\n",
              "      <td>F</td>\n",
              "      <td>70</td>\n",
              "      <td>27.0</td>\n",
              "      <td>61.0</td>\n",
              "      <td>True</td>\n",
              "      <td>True</td>\n",
              "      <td>True</td>\n",
              "      <td>45.8</td>\n",
              "      <td>True</td>\n",
              "    </tr>\n",
              "    <tr>\n",
              "      <th>945</th>\n",
              "      <td>SF12 MentalScore</td>\n",
              "      <td>15.43</td>\n",
              "      <td>61.33</td>\n",
              "      <td>sereno</td>\n",
              "      <td>M</td>\n",
              "      <td>40</td>\n",
              "      <td>27.0</td>\n",
              "      <td>57.0</td>\n",
              "      <td>True</td>\n",
              "      <td>True</td>\n",
              "      <td>True</td>\n",
              "      <td>45.9</td>\n",
              "      <td>True</td>\n",
              "    </tr>\n",
              "  </tbody>\n",
              "</table>\n",
              "<p>2110 rows × 13 columns</p>\n",
              "</div>"
            ],
            "text/plain": [
              "      nome_modulistica  score_preop  score_postop       condizioni_meteo  \\\n",
              "541   SF12 MentalScore        67.57         29.87      nebbia al mattino   \n",
              "265   SF12 MentalScore        62.85         26.45          poco nuvoloso   \n",
              "325   SF12 MentalScore        62.39         27.39  temporale e schiarite   \n",
              "1259  SF12 MentalScore        54.14         19.64    pioggia e schiarite   \n",
              "261   SF12 MentalScore        70.24         35.94            nubi sparse   \n",
              "...                ...          ...           ...                    ...   \n",
              "1337  SF12 MentalScore        20.60         60.50                 sereno   \n",
              "915   SF12 MentalScore        20.68         62.68           sole e caldo   \n",
              "1711  SF12 MentalScore        13.68         58.68    pioggia e schiarite   \n",
              "401   SF12 MentalScore        14.40         60.20          poco nuvoloso   \n",
              "945   SF12 MentalScore        15.43         61.33                 sereno   \n",
              "\n",
              "     sesso  anni_ricovero  temperatura_media  umidita_media  HI > 27  \\\n",
              "541      F             62                7.0           94.0    False   \n",
              "265      F             59                9.0           54.0    False   \n",
              "325      M             62               20.0           67.0    False   \n",
              "1259     F             71                8.0           95.0    False   \n",
              "261      M             70               13.0           74.0    False   \n",
              "...    ...            ...                ...            ...      ...   \n",
              "1337     F             80                3.0           74.0    False   \n",
              "915      F             84               27.0           57.0     True   \n",
              "1711     M             73               11.0           85.0    False   \n",
              "401      F             70               27.0           61.0     True   \n",
              "945      M             40               27.0           57.0     True   \n",
              "\n",
              "      natural_light  t_media > 22  delta_score  sotto_metà  \n",
              "541            True         False        -37.7       False  \n",
              "265            True         False        -36.4       False  \n",
              "325            True         False        -35.0       False  \n",
              "1259           True         False        -34.5       False  \n",
              "261            True         False        -34.3       False  \n",
              "...             ...           ...          ...         ...  \n",
              "1337           True         False         39.9        True  \n",
              "915            True          True         42.0        True  \n",
              "1711           True         False         45.0        True  \n",
              "401            True          True         45.8        True  \n",
              "945            True          True         45.9        True  \n",
              "\n",
              "[2110 rows x 13 columns]"
            ]
          },
          "execution_count": 39,
          "metadata": {},
          "output_type": "execute_result"
        }
      ],
      "source": [
        "dataset.sort_values(by=\"delta_score\")"
      ]
    },
    {
      "cell_type": "code",
      "execution_count": 55,
      "metadata": {},
      "outputs": [
        {
          "data": {
            "application/vnd.plotly.v1+json": {
              "config": {
                "plotlyServerURL": "https://plot.ly"
              },
              "data": [
                {
                  "alignmentgroup": "True",
                  "hovertemplate": "peggiorato=%{x}<br>umidita_media=%{y}<extra></extra>",
                  "legendgroup": "False",
                  "marker": {
                    "color": "#636efa",
                    "pattern": {
                      "shape": ""
                    }
                  },
                  "name": "False",
                  "offsetgroup": "False",
                  "orientation": "v",
                  "showlegend": true,
                  "textposition": "auto",
                  "type": "bar",
                  "x": [
                    false,
                    false,
                    false,
                    false,
                    false,
                    false,
                    false,
                    false,
                    false,
                    false,
                    false,
                    false,
                    false,
                    false,
                    false,
                    false,
                    false,
                    false,
                    false,
                    false,
                    false,
                    false,
                    false,
                    false,
                    false,
                    false,
                    false,
                    false,
                    false,
                    false,
                    false,
                    false,
                    false,
                    false,
                    false,
                    false,
                    false,
                    false,
                    false,
                    false,
                    false,
                    false,
                    false,
                    false,
                    false,
                    false,
                    false,
                    false,
                    false,
                    false,
                    false,
                    false,
                    false,
                    false,
                    false,
                    false,
                    false,
                    false,
                    false,
                    false,
                    false,
                    false,
                    false,
                    false,
                    false,
                    false,
                    false,
                    false,
                    false,
                    false,
                    false,
                    false,
                    false,
                    false,
                    false,
                    false,
                    false,
                    false,
                    false,
                    false,
                    false,
                    false,
                    false,
                    false,
                    false,
                    false,
                    false,
                    false,
                    false,
                    false,
                    false,
                    false,
                    false,
                    false,
                    false,
                    false,
                    false,
                    false,
                    false,
                    false,
                    false,
                    false,
                    false,
                    false,
                    false,
                    false,
                    false,
                    false,
                    false,
                    false,
                    false,
                    false,
                    false,
                    false,
                    false,
                    false,
                    false,
                    false,
                    false,
                    false,
                    false,
                    false,
                    false,
                    false,
                    false,
                    false,
                    false,
                    false,
                    false,
                    false,
                    false,
                    false,
                    false,
                    false,
                    false,
                    false,
                    false,
                    false,
                    false,
                    false,
                    false,
                    false,
                    false,
                    false,
                    false,
                    false,
                    false,
                    false,
                    false,
                    false,
                    false,
                    false,
                    false,
                    false,
                    false,
                    false,
                    false,
                    false,
                    false,
                    false,
                    false,
                    false,
                    false,
                    false,
                    false,
                    false,
                    false,
                    false,
                    false,
                    false,
                    false,
                    false,
                    false,
                    false,
                    false,
                    false,
                    false,
                    false,
                    false,
                    false,
                    false,
                    false,
                    false,
                    false,
                    false,
                    false,
                    false,
                    false,
                    false,
                    false,
                    false,
                    false,
                    false,
                    false,
                    false,
                    false,
                    false,
                    false,
                    false,
                    false,
                    false,
                    false,
                    false,
                    false,
                    false,
                    false,
                    false,
                    false,
                    false,
                    false,
                    false,
                    false,
                    false,
                    false,
                    false,
                    false,
                    false,
                    false,
                    false,
                    false,
                    false,
                    false,
                    false,
                    false,
                    false,
                    false,
                    false,
                    false,
                    false,
                    false,
                    false,
                    false,
                    false,
                    false,
                    false,
                    false,
                    false,
                    false,
                    false,
                    false,
                    false,
                    false,
                    false,
                    false,
                    false,
                    false,
                    false,
                    false,
                    false,
                    false,
                    false,
                    false,
                    false,
                    false,
                    false,
                    false,
                    false,
                    false,
                    false,
                    false,
                    false,
                    false,
                    false,
                    false,
                    false,
                    false,
                    false,
                    false,
                    false,
                    false,
                    false,
                    false,
                    false,
                    false,
                    false,
                    false,
                    false,
                    false,
                    false,
                    false,
                    false,
                    false,
                    false,
                    false,
                    false,
                    false,
                    false,
                    false,
                    false,
                    false,
                    false,
                    false,
                    false,
                    false,
                    false,
                    false,
                    false,
                    false,
                    false,
                    false,
                    false,
                    false,
                    false,
                    false,
                    false,
                    false,
                    false,
                    false,
                    false,
                    false,
                    false,
                    false,
                    false,
                    false,
                    false,
                    false,
                    false,
                    false,
                    false,
                    false,
                    false,
                    false,
                    false,
                    false,
                    false,
                    false,
                    false,
                    false,
                    false,
                    false,
                    false,
                    false,
                    false,
                    false,
                    false,
                    false,
                    false,
                    false,
                    false,
                    false,
                    false,
                    false,
                    false,
                    false,
                    false,
                    false,
                    false,
                    false,
                    false,
                    false,
                    false,
                    false,
                    false,
                    false,
                    false,
                    false,
                    false,
                    false,
                    false,
                    false,
                    false,
                    false,
                    false,
                    false,
                    false,
                    false,
                    false,
                    false,
                    false,
                    false,
                    false,
                    false,
                    false,
                    false,
                    false,
                    false,
                    false,
                    false,
                    false,
                    false,
                    false,
                    false,
                    false,
                    false,
                    false,
                    false,
                    false,
                    false,
                    false,
                    false,
                    false,
                    false,
                    false,
                    false,
                    false,
                    false,
                    false,
                    false,
                    false,
                    false,
                    false,
                    false,
                    false,
                    false,
                    false,
                    false,
                    false,
                    false,
                    false,
                    false,
                    false,
                    false,
                    false,
                    false,
                    false,
                    false,
                    false,
                    false,
                    false,
                    false,
                    false,
                    false,
                    false,
                    false,
                    false,
                    false,
                    false,
                    false,
                    false,
                    false,
                    false,
                    false,
                    false,
                    false,
                    false,
                    false,
                    false,
                    false,
                    false,
                    false,
                    false,
                    false,
                    false,
                    false,
                    false,
                    false,
                    false,
                    false,
                    false,
                    false,
                    false,
                    false,
                    false,
                    false,
                    false,
                    false,
                    false,
                    false,
                    false,
                    false,
                    false,
                    false,
                    false,
                    false,
                    false,
                    false,
                    false,
                    false,
                    false,
                    false,
                    false,
                    false,
                    false,
                    false,
                    false,
                    false,
                    false,
                    false,
                    false,
                    false,
                    false,
                    false,
                    false,
                    false,
                    false,
                    false,
                    false,
                    false,
                    false,
                    false,
                    false,
                    false,
                    false,
                    false,
                    false,
                    false,
                    false,
                    false,
                    false,
                    false,
                    false,
                    false,
                    false,
                    false,
                    false,
                    false,
                    false,
                    false,
                    false,
                    false,
                    false,
                    false,
                    false,
                    false,
                    false,
                    false,
                    false,
                    false,
                    false,
                    false,
                    false,
                    false,
                    false,
                    false,
                    false,
                    false,
                    false,
                    false,
                    false,
                    false,
                    false,
                    false,
                    false,
                    false,
                    false,
                    false,
                    false,
                    false,
                    false,
                    false,
                    false,
                    false,
                    false,
                    false,
                    false,
                    false,
                    false,
                    false,
                    false,
                    false,
                    false,
                    false,
                    false,
                    false,
                    false,
                    false,
                    false,
                    false,
                    false,
                    false,
                    false,
                    false,
                    false,
                    false,
                    false,
                    false,
                    false,
                    false,
                    false,
                    false,
                    false,
                    false,
                    false,
                    false,
                    false,
                    false,
                    false,
                    false,
                    false,
                    false,
                    false,
                    false,
                    false,
                    false,
                    false,
                    false,
                    false,
                    false,
                    false,
                    false,
                    false,
                    false,
                    false,
                    false,
                    false,
                    false,
                    false,
                    false,
                    false,
                    false,
                    false,
                    false,
                    false,
                    false,
                    false,
                    false,
                    false,
                    false,
                    false,
                    false,
                    false,
                    false,
                    false,
                    false,
                    false,
                    false,
                    false,
                    false,
                    false,
                    false,
                    false,
                    false,
                    false,
                    false,
                    false,
                    false,
                    false,
                    false,
                    false,
                    false,
                    false,
                    false,
                    false,
                    false,
                    false,
                    false,
                    false,
                    false,
                    false,
                    false,
                    false,
                    false,
                    false,
                    false,
                    false,
                    false,
                    false,
                    false,
                    false,
                    false,
                    false,
                    false,
                    false,
                    false,
                    false,
                    false,
                    false,
                    false,
                    false,
                    false,
                    false,
                    false,
                    false,
                    false,
                    false,
                    false,
                    false,
                    false,
                    false,
                    false,
                    false,
                    false,
                    false,
                    false,
                    false,
                    false,
                    false,
                    false,
                    false,
                    false,
                    false,
                    false,
                    false,
                    false,
                    false,
                    false,
                    false,
                    false,
                    false,
                    false,
                    false,
                    false,
                    false,
                    false,
                    false,
                    false,
                    false,
                    false,
                    false,
                    false,
                    false,
                    false,
                    false,
                    false,
                    false,
                    false,
                    false,
                    false,
                    false,
                    false,
                    false,
                    false,
                    false,
                    false,
                    false,
                    false,
                    false,
                    false,
                    false,
                    false,
                    false,
                    false,
                    false,
                    false,
                    false,
                    false,
                    false,
                    false,
                    false,
                    false,
                    false,
                    false,
                    false,
                    false,
                    false,
                    false,
                    false,
                    false,
                    false,
                    false,
                    false,
                    false,
                    false,
                    false,
                    false,
                    false,
                    false,
                    false,
                    false,
                    false,
                    false,
                    false,
                    false,
                    false,
                    false,
                    false,
                    false,
                    false,
                    false,
                    false,
                    false,
                    false,
                    false,
                    false,
                    false,
                    false,
                    false,
                    false,
                    false,
                    false,
                    false,
                    false,
                    false,
                    false,
                    false,
                    false,
                    false,
                    false,
                    false,
                    false,
                    false,
                    false,
                    false,
                    false,
                    false,
                    false,
                    false,
                    false,
                    false,
                    false,
                    false,
                    false,
                    false,
                    false,
                    false,
                    false,
                    false,
                    false,
                    false,
                    false,
                    false,
                    false,
                    false,
                    false,
                    false,
                    false,
                    false,
                    false,
                    false,
                    false,
                    false,
                    false,
                    false,
                    false,
                    false,
                    false,
                    false,
                    false,
                    false,
                    false,
                    false,
                    false,
                    false,
                    false,
                    false,
                    false,
                    false,
                    false,
                    false,
                    false,
                    false,
                    false,
                    false,
                    false,
                    false,
                    false,
                    false,
                    false,
                    false,
                    false,
                    false,
                    false,
                    false,
                    false,
                    false,
                    false,
                    false,
                    false,
                    false,
                    false,
                    false,
                    false,
                    false,
                    false,
                    false,
                    false,
                    false,
                    false,
                    false,
                    false,
                    false,
                    false,
                    false,
                    false,
                    false,
                    false,
                    false,
                    false,
                    false,
                    false,
                    false,
                    false,
                    false,
                    false,
                    false,
                    false,
                    false,
                    false,
                    false,
                    false,
                    false,
                    false,
                    false,
                    false,
                    false,
                    false,
                    false,
                    false,
                    false,
                    false,
                    false,
                    false,
                    false,
                    false,
                    false,
                    false,
                    false,
                    false,
                    false,
                    false,
                    false,
                    false,
                    false,
                    false,
                    false,
                    false,
                    false,
                    false,
                    false,
                    false,
                    false,
                    false,
                    false,
                    false,
                    false,
                    false,
                    false,
                    false,
                    false,
                    false,
                    false,
                    false,
                    false,
                    false,
                    false,
                    false,
                    false,
                    false,
                    false,
                    false,
                    false,
                    false,
                    false,
                    false,
                    false,
                    false,
                    false,
                    false,
                    false,
                    false,
                    false,
                    false,
                    false,
                    false,
                    false,
                    false,
                    false,
                    false,
                    false,
                    false,
                    false,
                    false,
                    false,
                    false,
                    false,
                    false,
                    false,
                    false,
                    false,
                    false,
                    false,
                    false,
                    false,
                    false,
                    false,
                    false,
                    false,
                    false,
                    false,
                    false,
                    false,
                    false,
                    false,
                    false,
                    false,
                    false,
                    false,
                    false,
                    false,
                    false,
                    false,
                    false,
                    false,
                    false,
                    false,
                    false,
                    false,
                    false,
                    false,
                    false,
                    false,
                    false,
                    false,
                    false,
                    false,
                    false,
                    false,
                    false,
                    false,
                    false,
                    false,
                    false,
                    false,
                    false,
                    false,
                    false,
                    false,
                    false,
                    false,
                    false,
                    false,
                    false,
                    false,
                    false,
                    false,
                    false,
                    false,
                    false,
                    false,
                    false,
                    false,
                    false,
                    false,
                    false,
                    false,
                    false,
                    false,
                    false,
                    false,
                    false,
                    false,
                    false,
                    false,
                    false,
                    false,
                    false,
                    false,
                    false,
                    false,
                    false,
                    false,
                    false,
                    false,
                    false,
                    false,
                    false,
                    false,
                    false,
                    false,
                    false,
                    false,
                    false,
                    false,
                    false,
                    false,
                    false,
                    false,
                    false,
                    false,
                    false,
                    false,
                    false,
                    false,
                    false,
                    false,
                    false,
                    false,
                    false,
                    false,
                    false,
                    false,
                    false,
                    false,
                    false,
                    false,
                    false,
                    false,
                    false,
                    false,
                    false,
                    false,
                    false,
                    false,
                    false,
                    false,
                    false,
                    false,
                    false,
                    false,
                    false,
                    false,
                    false,
                    false,
                    false,
                    false,
                    false,
                    false,
                    false,
                    false,
                    false,
                    false,
                    false,
                    false,
                    false,
                    false,
                    false,
                    false,
                    false,
                    false,
                    false,
                    false,
                    false,
                    false,
                    false,
                    false,
                    false,
                    false,
                    false,
                    false,
                    false,
                    false,
                    false,
                    false,
                    false,
                    false,
                    false,
                    false,
                    false,
                    false,
                    false,
                    false,
                    false,
                    false,
                    false,
                    false,
                    false,
                    false,
                    false,
                    false,
                    false,
                    false,
                    false,
                    false,
                    false,
                    false,
                    false,
                    false,
                    false,
                    false,
                    false,
                    false,
                    false,
                    false,
                    false,
                    false,
                    false,
                    false,
                    false,
                    false,
                    false,
                    false,
                    false,
                    false,
                    false,
                    false,
                    false,
                    false,
                    false,
                    false,
                    false,
                    false,
                    false,
                    false,
                    false,
                    false,
                    false,
                    false,
                    false,
                    false,
                    false,
                    false,
                    false,
                    false,
                    false,
                    false,
                    false,
                    false,
                    false,
                    false,
                    false,
                    false,
                    false,
                    false,
                    false,
                    false,
                    false,
                    false,
                    false,
                    false,
                    false,
                    false,
                    false,
                    false,
                    false,
                    false,
                    false,
                    false,
                    false,
                    false,
                    false,
                    false,
                    false,
                    false,
                    false,
                    false,
                    false,
                    false,
                    false,
                    false,
                    false,
                    false,
                    false,
                    false,
                    false,
                    false,
                    false,
                    false,
                    false,
                    false,
                    false,
                    false,
                    false,
                    false,
                    false,
                    false,
                    false,
                    false,
                    false,
                    false,
                    false,
                    false,
                    false,
                    false,
                    false,
                    false,
                    false,
                    false,
                    false,
                    false,
                    false,
                    false,
                    false,
                    false,
                    false,
                    false,
                    false,
                    false,
                    false,
                    false,
                    false,
                    false,
                    false,
                    false,
                    false,
                    false,
                    false,
                    false,
                    false,
                    false,
                    false,
                    false,
                    false,
                    false,
                    false,
                    false,
                    false,
                    false,
                    false,
                    false,
                    false,
                    false,
                    false,
                    false,
                    false,
                    false,
                    false,
                    false,
                    false,
                    false,
                    false,
                    false,
                    false,
                    false,
                    false,
                    false,
                    false,
                    false,
                    false,
                    false,
                    false,
                    false,
                    false,
                    false,
                    false,
                    false,
                    false,
                    false,
                    false,
                    false,
                    false,
                    false,
                    false,
                    false,
                    false,
                    false,
                    false,
                    false,
                    false,
                    false,
                    false,
                    false,
                    false,
                    false,
                    false,
                    false,
                    false,
                    false,
                    false,
                    false,
                    false,
                    false,
                    false,
                    false,
                    false,
                    false,
                    false,
                    false,
                    false,
                    false,
                    false,
                    false,
                    false,
                    false,
                    false,
                    false,
                    false,
                    false,
                    false,
                    false,
                    false,
                    false,
                    false,
                    false,
                    false,
                    false,
                    false,
                    false,
                    false,
                    false,
                    false,
                    false,
                    false,
                    false,
                    false,
                    false,
                    false,
                    false,
                    false,
                    false,
                    false,
                    false,
                    false,
                    false,
                    false,
                    false,
                    false,
                    false,
                    false,
                    false,
                    false,
                    false,
                    false,
                    false,
                    false,
                    false,
                    false,
                    false,
                    false,
                    false,
                    false,
                    false,
                    false,
                    false,
                    false,
                    false,
                    false,
                    false,
                    false,
                    false,
                    false,
                    false,
                    false,
                    false,
                    false,
                    false,
                    false,
                    false,
                    false,
                    false,
                    false,
                    false,
                    false,
                    false,
                    false,
                    false,
                    false,
                    false,
                    false,
                    false,
                    false,
                    false,
                    false,
                    false,
                    false,
                    false,
                    false,
                    false,
                    false,
                    false,
                    false,
                    false,
                    false,
                    false,
                    false,
                    false,
                    false,
                    false,
                    false,
                    false,
                    false,
                    false,
                    false,
                    false,
                    false,
                    false,
                    false,
                    false,
                    false,
                    false,
                    false,
                    false,
                    false,
                    false
                  ],
                  "xaxis": "x",
                  "y": [
                    69,
                    69,
                    65,
                    65,
                    74,
                    72,
                    72,
                    75,
                    75,
                    40,
                    40,
                    63,
                    63,
                    59,
                    59,
                    46,
                    69,
                    83,
                    83,
                    70,
                    89,
                    89,
                    75,
                    75,
                    51,
                    51,
                    67,
                    68,
                    68,
                    63,
                    63,
                    74,
                    74,
                    37,
                    37,
                    75,
                    93,
                    81,
                    81,
                    80,
                    68,
                    68,
                    68,
                    68,
                    68,
                    68,
                    70,
                    70,
                    70,
                    70,
                    80,
                    80,
                    97,
                    70,
                    70,
                    68,
                    81,
                    81,
                    66,
                    66,
                    81,
                    63,
                    63,
                    78,
                    78,
                    95,
                    95,
                    86,
                    86,
                    81,
                    81,
                    67,
                    67,
                    67,
                    67,
                    42,
                    42,
                    73,
                    73,
                    80,
                    80,
                    64,
                    84,
                    67,
                    67,
                    47,
                    47,
                    73,
                    73,
                    73,
                    73,
                    74,
                    74,
                    97,
                    97,
                    94,
                    78,
                    78,
                    83,
                    87,
                    83,
                    83,
                    69,
                    94,
                    87,
                    87,
                    64,
                    64,
                    94,
                    94,
                    73,
                    73,
                    61,
                    61,
                    96,
                    96,
                    60,
                    60,
                    94,
                    94,
                    25,
                    25,
                    87,
                    87,
                    73,
                    73,
                    83,
                    83,
                    74,
                    74,
                    90,
                    83,
                    83,
                    96,
                    89,
                    89,
                    74,
                    74,
                    89,
                    89,
                    78,
                    83,
                    83,
                    87,
                    90,
                    90,
                    91,
                    95,
                    95,
                    86,
                    86,
                    86,
                    86,
                    95,
                    98,
                    70,
                    70,
                    100,
                    100,
                    90,
                    59,
                    59,
                    67,
                    67,
                    95,
                    95,
                    94,
                    94,
                    94,
                    83,
                    91,
                    91,
                    91,
                    75,
                    75,
                    60,
                    93,
                    58,
                    94,
                    94,
                    67,
                    67,
                    86,
                    86,
                    64,
                    64,
                    94,
                    94,
                    82,
                    72,
                    72,
                    58,
                    58,
                    67,
                    68,
                    66,
                    66,
                    70,
                    76,
                    76,
                    95,
                    95,
                    86,
                    91,
                    91,
                    56,
                    74,
                    70,
                    54,
                    78,
                    78,
                    88,
                    94,
                    94,
                    94,
                    94,
                    64,
                    58,
                    96,
                    83,
                    83,
                    71,
                    89,
                    82,
                    82,
                    91,
                    91,
                    95,
                    95,
                    55,
                    94,
                    63,
                    63,
                    81,
                    69,
                    59,
                    77,
                    77,
                    60,
                    60,
                    60,
                    92,
                    92,
                    88,
                    88,
                    55,
                    55,
                    93,
                    78,
                    74,
                    96,
                    66,
                    65,
                    72,
                    72,
                    63,
                    63,
                    86,
                    86,
                    73,
                    73,
                    50,
                    50,
                    69,
                    69,
                    65,
                    65,
                    67,
                    84,
                    51,
                    51,
                    51,
                    75,
                    75,
                    56,
                    56,
                    63,
                    63,
                    75,
                    62,
                    77,
                    63,
                    63,
                    48,
                    48,
                    67,
                    57,
                    60,
                    60,
                    51,
                    76,
                    76,
                    62,
                    68,
                    68,
                    61,
                    61,
                    80,
                    74,
                    76,
                    76,
                    83,
                    83,
                    57,
                    58,
                    58,
                    78,
                    79,
                    63,
                    66,
                    66,
                    51,
                    51,
                    51,
                    70,
                    70,
                    89,
                    70,
                    70,
                    60,
                    67,
                    56,
                    56,
                    56,
                    63,
                    63,
                    73,
                    65,
                    73,
                    73,
                    82,
                    82,
                    75,
                    75,
                    56,
                    56,
                    72,
                    72,
                    73,
                    78,
                    78,
                    78,
                    67,
                    63,
                    76,
                    76,
                    72,
                    72,
                    67,
                    67,
                    66,
                    66,
                    78,
                    78,
                    66,
                    66,
                    72,
                    72,
                    95,
                    95,
                    55,
                    72,
                    72,
                    51,
                    73,
                    85,
                    85,
                    71,
                    71,
                    67,
                    67,
                    73,
                    79,
                    90,
                    78,
                    73,
                    73,
                    99,
                    99,
                    53,
                    99,
                    99,
                    44,
                    44,
                    91,
                    91,
                    97,
                    97,
                    96,
                    81,
                    89,
                    99,
                    99,
                    68,
                    68,
                    97,
                    97,
                    97,
                    90,
                    94,
                    97,
                    97,
                    82,
                    82,
                    96,
                    97,
                    80,
                    75,
                    75,
                    96,
                    96,
                    97,
                    73,
                    42,
                    96,
                    87,
                    59,
                    59,
                    56,
                    56,
                    92,
                    44,
                    44,
                    59,
                    59,
                    59,
                    81,
                    81,
                    85,
                    85,
                    71,
                    86,
                    86,
                    94,
                    78,
                    98,
                    98,
                    40,
                    40,
                    74,
                    74,
                    80,
                    79,
                    79,
                    90,
                    90,
                    66,
                    92,
                    92,
                    69,
                    59,
                    69,
                    62,
                    52,
                    54,
                    58,
                    58,
                    90,
                    70,
                    70,
                    92,
                    56,
                    55,
                    31,
                    55,
                    92,
                    92,
                    84,
                    84,
                    65,
                    65,
                    69,
                    65,
                    65,
                    92,
                    92,
                    47,
                    47,
                    88,
                    88,
                    70,
                    68,
                    89,
                    89,
                    59,
                    90,
                    90,
                    50,
                    31,
                    31,
                    75,
                    88,
                    88,
                    90,
                    88,
                    88,
                    84,
                    90,
                    66,
                    66,
                    59,
                    59,
                    69,
                    41,
                    41,
                    59,
                    59,
                    72,
                    72,
                    52,
                    68,
                    68,
                    77,
                    77,
                    63,
                    63,
                    84,
                    70,
                    75,
                    75,
                    51,
                    58,
                    75,
                    75,
                    90,
                    90,
                    64,
                    65,
                    65,
                    64,
                    64,
                    90,
                    90,
                    84,
                    66,
                    66,
                    55,
                    62,
                    62,
                    68,
                    55,
                    88,
                    58,
                    64,
                    64,
                    46,
                    46,
                    59,
                    59,
                    65,
                    65,
                    67,
                    63,
                    63,
                    70,
                    70,
                    59,
                    59,
                    88,
                    88,
                    64,
                    64,
                    64,
                    52,
                    52,
                    67,
                    67,
                    72,
                    72,
                    60,
                    60,
                    46,
                    46,
                    65,
                    62,
                    59,
                    59,
                    88,
                    69,
                    69,
                    69,
                    69,
                    55,
                    58,
                    62,
                    62,
                    54,
                    54,
                    65,
                    65,
                    69,
                    65,
                    75,
                    83,
                    83,
                    57,
                    62,
                    54,
                    66,
                    77,
                    55,
                    57,
                    57,
                    59,
                    59,
                    51,
                    59,
                    59,
                    55,
                    55,
                    55,
                    57,
                    57,
                    61,
                    61,
                    55,
                    55,
                    62,
                    62,
                    55,
                    57,
                    80,
                    80,
                    52,
                    67,
                    52,
                    52,
                    66,
                    66,
                    56,
                    56,
                    65,
                    54,
                    66,
                    66,
                    51,
                    51,
                    58,
                    58,
                    57,
                    57,
                    46,
                    46,
                    56,
                    75,
                    63,
                    63,
                    57,
                    40,
                    40,
                    57,
                    57,
                    56,
                    56,
                    58,
                    64,
                    46,
                    57,
                    57,
                    61,
                    58,
                    58,
                    58,
                    57,
                    52,
                    58,
                    61,
                    66,
                    55,
                    55,
                    55,
                    55,
                    58,
                    57,
                    53,
                    56,
                    56,
                    85,
                    54,
                    54,
                    65,
                    64,
                    64,
                    57,
                    57,
                    59,
                    58,
                    57,
                    68,
                    68,
                    55,
                    55,
                    57,
                    57,
                    55,
                    58,
                    61,
                    61,
                    45,
                    45,
                    90,
                    90,
                    58,
                    58,
                    90,
                    90,
                    67,
                    67,
                    64,
                    54,
                    54,
                    74,
                    74,
                    61,
                    54,
                    74,
                    74,
                    70,
                    70,
                    63,
                    61,
                    61,
                    81,
                    81,
                    74,
                    62,
                    68,
                    60,
                    60,
                    58,
                    55,
                    55,
                    97,
                    94,
                    94,
                    75,
                    93,
                    93,
                    93,
                    80,
                    80,
                    42,
                    73,
                    70,
                    70,
                    75,
                    56,
                    63,
                    70,
                    73,
                    60,
                    60,
                    77,
                    95,
                    95,
                    97,
                    88,
                    84,
                    78,
                    56,
                    56,
                    62,
                    62,
                    90,
                    71,
                    71,
                    46,
                    97,
                    97,
                    88,
                    88,
                    83,
                    83,
                    75,
                    87,
                    87,
                    69,
                    69,
                    97,
                    97,
                    80,
                    75,
                    75,
                    97,
                    97,
                    83,
                    83,
                    76,
                    89,
                    92,
                    92,
                    74,
                    74,
                    90,
                    75,
                    75,
                    88,
                    88,
                    92,
                    82,
                    82,
                    90,
                    75,
                    75,
                    89,
                    100,
                    91,
                    86,
                    71,
                    71,
                    90,
                    69,
                    69,
                    79,
                    79,
                    75,
                    75,
                    75,
                    89,
                    88,
                    94,
                    94,
                    94,
                    94,
                    100,
                    100,
                    97,
                    69,
                    69,
                    96,
                    96,
                    83,
                    83,
                    99,
                    99,
                    89,
                    94,
                    94,
                    89,
                    89,
                    89,
                    93,
                    74,
                    74,
                    100,
                    100,
                    90,
                    68,
                    68,
                    94,
                    94,
                    83,
                    87,
                    87,
                    97,
                    88,
                    88,
                    45,
                    45,
                    89,
                    89,
                    89,
                    92,
                    92,
                    95,
                    95,
                    80,
                    80,
                    90,
                    90,
                    95,
                    95,
                    90,
                    90,
                    89,
                    89,
                    89,
                    89,
                    89,
                    89,
                    87,
                    89,
                    87,
                    58,
                    58,
                    94,
                    90,
                    57,
                    95,
                    81,
                    81,
                    57,
                    57,
                    59,
                    59,
                    95,
                    95,
                    83,
                    93,
                    93,
                    93,
                    100,
                    93,
                    93,
                    93,
                    92,
                    95,
                    74,
                    74,
                    57,
                    87,
                    87,
                    86,
                    92,
                    64,
                    64,
                    93,
                    93,
                    57,
                    57,
                    86,
                    86,
                    92,
                    89,
                    89,
                    92,
                    92,
                    89,
                    99,
                    92,
                    92,
                    98,
                    89,
                    30,
                    30,
                    99,
                    99,
                    76,
                    76,
                    86,
                    86,
                    68,
                    68,
                    81,
                    80,
                    87,
                    87,
                    93,
                    92,
                    92,
                    72,
                    97,
                    97,
                    97,
                    95,
                    95,
                    91,
                    93,
                    74,
                    74,
                    77,
                    77,
                    99,
                    99,
                    99,
                    99,
                    99,
                    99,
                    99,
                    88,
                    88,
                    80,
                    83,
                    30,
                    77,
                    77,
                    88,
                    23,
                    23,
                    74,
                    99,
                    77,
                    77,
                    48,
                    48,
                    88,
                    88,
                    92,
                    88,
                    76,
                    76,
                    92,
                    92,
                    92,
                    85,
                    81,
                    81,
                    77,
                    77,
                    72,
                    89,
                    89,
                    89,
                    89,
                    89,
                    51,
                    51,
                    77,
                    77,
                    56,
                    83,
                    77,
                    77,
                    74,
                    74,
                    35,
                    35,
                    66,
                    50,
                    76,
                    76,
                    85,
                    70,
                    66,
                    66,
                    33,
                    33,
                    74,
                    97,
                    48,
                    92,
                    95,
                    95,
                    79,
                    79,
                    85,
                    85,
                    35,
                    100,
                    100,
                    66,
                    66,
                    66,
                    88,
                    66,
                    92,
                    92,
                    57,
                    99,
                    66,
                    85,
                    85,
                    67,
                    88,
                    88,
                    77,
                    77,
                    77,
                    74,
                    83,
                    83,
                    59,
                    59,
                    66,
                    66,
                    92,
                    77,
                    77,
                    48,
                    48,
                    92,
                    66,
                    51,
                    51,
                    74,
                    53,
                    89,
                    77,
                    92,
                    88,
                    35,
                    35,
                    63,
                    63,
                    67,
                    67,
                    88,
                    88,
                    31,
                    66,
                    66,
                    50,
                    50,
                    66,
                    83,
                    81,
                    81,
                    77,
                    77,
                    48,
                    89,
                    74,
                    23,
                    88,
                    88,
                    85,
                    85,
                    83,
                    83,
                    95,
                    56,
                    56,
                    87,
                    87,
                    57,
                    57,
                    92,
                    80,
                    77,
                    77,
                    33,
                    33,
                    95,
                    54,
                    54,
                    47,
                    77,
                    68,
                    77,
                    67,
                    30,
                    85,
                    87,
                    48,
                    48,
                    83,
                    30,
                    66,
                    61,
                    85,
                    77,
                    77,
                    88,
                    83,
                    83,
                    61,
                    95,
                    95,
                    79,
                    79,
                    97,
                    97,
                    79,
                    79,
                    74,
                    83,
                    48,
                    48,
                    47,
                    97,
                    50,
                    50,
                    80,
                    80,
                    72,
                    60,
                    80,
                    85,
                    85,
                    85,
                    85,
                    85,
                    65,
                    35,
                    35,
                    88,
                    88,
                    85,
                    85,
                    82,
                    77,
                    77,
                    61,
                    61,
                    95,
                    95,
                    77,
                    77,
                    84,
                    35,
                    35,
                    85,
                    85,
                    35,
                    39,
                    82,
                    66,
                    70,
                    77,
                    77,
                    82,
                    82,
                    85,
                    85,
                    76,
                    76,
                    85,
                    94,
                    82,
                    82,
                    47,
                    47,
                    53,
                    85,
                    72,
                    72,
                    81,
                    56,
                    56,
                    81,
                    81,
                    57,
                    57,
                    49,
                    49,
                    56,
                    66,
                    80,
                    64,
                    77,
                    81,
                    35,
                    65,
                    65,
                    82,
                    63,
                    63,
                    70,
                    77,
                    77,
                    82,
                    60,
                    60,
                    97,
                    97,
                    92,
                    66,
                    72,
                    91,
                    91,
                    64,
                    68,
                    74,
                    84,
                    85,
                    85,
                    65,
                    65,
                    71,
                    71,
                    91,
                    91,
                    71,
                    71,
                    65,
                    68,
                    68,
                    29,
                    82,
                    69,
                    69,
                    69,
                    57,
                    83,
                    83,
                    64,
                    64,
                    81,
                    74,
                    60,
                    43,
                    29,
                    80,
                    59,
                    59,
                    57,
                    77,
                    77,
                    100,
                    100,
                    97,
                    77,
                    50,
                    56,
                    50,
                    50,
                    58,
                    58,
                    72,
                    84,
                    69,
                    79,
                    79,
                    81,
                    81,
                    69,
                    69,
                    53,
                    63,
                    100,
                    67,
                    47,
                    56,
                    81,
                    81,
                    67,
                    67,
                    96,
                    69,
                    69,
                    67,
                    83,
                    70,
                    70,
                    70,
                    77,
                    77,
                    45,
                    82,
                    47,
                    55,
                    55,
                    53,
                    80,
                    70,
                    70,
                    49,
                    56,
                    56,
                    69,
                    69,
                    56,
                    56,
                    56,
                    79,
                    79,
                    49,
                    56,
                    58,
                    69,
                    70,
                    67,
                    67,
                    50,
                    50,
                    43,
                    43,
                    67,
                    67,
                    56,
                    29,
                    42,
                    59,
                    84,
                    84,
                    56,
                    56,
                    79,
                    63,
                    71,
                    67,
                    67,
                    65,
                    64,
                    64,
                    55,
                    55,
                    64,
                    85,
                    85,
                    49,
                    49,
                    49,
                    36,
                    56,
                    56,
                    83,
                    83,
                    73,
                    82,
                    54,
                    50,
                    50,
                    68,
                    39,
                    39,
                    56,
                    50,
                    56,
                    77,
                    78,
                    41,
                    75,
                    75,
                    68,
                    68,
                    40,
                    40,
                    55,
                    55,
                    55,
                    54,
                    54,
                    68,
                    68,
                    68,
                    95,
                    83,
                    83,
                    38,
                    38,
                    81,
                    81,
                    71,
                    70,
                    69,
                    57,
                    50,
                    42,
                    42,
                    55,
                    55,
                    58,
                    73,
                    73,
                    72,
                    78,
                    68,
                    71,
                    71,
                    82,
                    57,
                    57,
                    51,
                    61,
                    71,
                    71,
                    71,
                    71,
                    71,
                    71,
                    55,
                    55
                  ],
                  "yaxis": "y"
                },
                {
                  "alignmentgroup": "True",
                  "hovertemplate": "peggiorato=%{x}<br>umidita_media=%{y}<extra></extra>",
                  "legendgroup": "True",
                  "marker": {
                    "color": "#EF553B",
                    "pattern": {
                      "shape": ""
                    }
                  },
                  "name": "True",
                  "offsetgroup": "True",
                  "orientation": "v",
                  "showlegend": true,
                  "textposition": "auto",
                  "type": "bar",
                  "x": [
                    true,
                    true,
                    true,
                    true,
                    true,
                    true,
                    true,
                    true,
                    true,
                    true,
                    true,
                    true,
                    true,
                    true,
                    true,
                    true,
                    true,
                    true,
                    true,
                    true,
                    true,
                    true,
                    true,
                    true,
                    true,
                    true,
                    true,
                    true,
                    true,
                    true,
                    true,
                    true,
                    true,
                    true,
                    true,
                    true,
                    true,
                    true,
                    true,
                    true,
                    true,
                    true,
                    true,
                    true,
                    true,
                    true,
                    true,
                    true,
                    true,
                    true,
                    true,
                    true,
                    true,
                    true,
                    true,
                    true,
                    true,
                    true,
                    true,
                    true,
                    true,
                    true,
                    true,
                    true,
                    true,
                    true,
                    true,
                    true,
                    true,
                    true,
                    true,
                    true,
                    true,
                    true,
                    true,
                    true,
                    true,
                    true,
                    true,
                    true,
                    true,
                    true,
                    true,
                    true,
                    true,
                    true,
                    true,
                    true,
                    true,
                    true,
                    true,
                    true,
                    true,
                    true,
                    true,
                    true,
                    true,
                    true,
                    true,
                    true,
                    true,
                    true,
                    true,
                    true,
                    true,
                    true,
                    true,
                    true,
                    true,
                    true,
                    true,
                    true,
                    true,
                    true,
                    true,
                    true,
                    true,
                    true,
                    true,
                    true,
                    true,
                    true,
                    true,
                    true,
                    true,
                    true,
                    true,
                    true,
                    true,
                    true,
                    true,
                    true,
                    true,
                    true,
                    true,
                    true,
                    true,
                    true,
                    true,
                    true,
                    true,
                    true,
                    true,
                    true,
                    true,
                    true,
                    true,
                    true,
                    true,
                    true,
                    true,
                    true,
                    true,
                    true,
                    true,
                    true,
                    true,
                    true,
                    true,
                    true,
                    true,
                    true,
                    true,
                    true,
                    true,
                    true,
                    true,
                    true,
                    true,
                    true,
                    true,
                    true,
                    true,
                    true,
                    true,
                    true,
                    true,
                    true,
                    true,
                    true,
                    true,
                    true,
                    true,
                    true,
                    true,
                    true,
                    true,
                    true,
                    true,
                    true,
                    true,
                    true,
                    true,
                    true,
                    true,
                    true,
                    true,
                    true,
                    true,
                    true,
                    true,
                    true,
                    true,
                    true,
                    true,
                    true,
                    true,
                    true,
                    true,
                    true,
                    true,
                    true,
                    true,
                    true,
                    true,
                    true,
                    true,
                    true,
                    true,
                    true,
                    true,
                    true,
                    true,
                    true,
                    true,
                    true,
                    true,
                    true,
                    true,
                    true,
                    true,
                    true,
                    true,
                    true,
                    true,
                    true,
                    true,
                    true,
                    true,
                    true,
                    true,
                    true,
                    true,
                    true,
                    true,
                    true,
                    true,
                    true,
                    true,
                    true,
                    true,
                    true,
                    true,
                    true,
                    true,
                    true,
                    true,
                    true,
                    true,
                    true,
                    true,
                    true,
                    true,
                    true,
                    true,
                    true,
                    true,
                    true,
                    true,
                    true,
                    true,
                    true,
                    true,
                    true,
                    true,
                    true,
                    true,
                    true,
                    true,
                    true,
                    true,
                    true,
                    true,
                    true,
                    true,
                    true,
                    true,
                    true,
                    true,
                    true,
                    true,
                    true,
                    true,
                    true,
                    true,
                    true,
                    true,
                    true,
                    true,
                    true,
                    true,
                    true,
                    true,
                    true,
                    true,
                    true,
                    true,
                    true,
                    true,
                    true,
                    true,
                    true,
                    true,
                    true,
                    true,
                    true,
                    true,
                    true,
                    true,
                    true,
                    true,
                    true,
                    true,
                    true,
                    true,
                    true,
                    true,
                    true,
                    true,
                    true,
                    true,
                    true,
                    true,
                    true,
                    true,
                    true,
                    true,
                    true,
                    true,
                    true,
                    true,
                    true,
                    true,
                    true,
                    true,
                    true,
                    true,
                    true,
                    true,
                    true,
                    true,
                    true,
                    true,
                    true,
                    true,
                    true,
                    true,
                    true,
                    true,
                    true,
                    true,
                    true,
                    true,
                    true,
                    true,
                    true,
                    true,
                    true,
                    true,
                    true,
                    true,
                    true,
                    true,
                    true,
                    true,
                    true,
                    true,
                    true,
                    true,
                    true,
                    true,
                    true,
                    true,
                    true,
                    true,
                    true,
                    true,
                    true,
                    true,
                    true,
                    true,
                    true,
                    true,
                    true,
                    true,
                    true,
                    true,
                    true,
                    true,
                    true,
                    true,
                    true,
                    true,
                    true,
                    true,
                    true,
                    true,
                    true,
                    true,
                    true,
                    true,
                    true,
                    true,
                    true,
                    true,
                    true,
                    true,
                    true,
                    true,
                    true,
                    true,
                    true,
                    true,
                    true,
                    true,
                    true,
                    true,
                    true,
                    true,
                    true,
                    true,
                    true,
                    true,
                    true,
                    true,
                    true,
                    true,
                    true,
                    true,
                    true,
                    true,
                    true,
                    true,
                    true,
                    true,
                    true,
                    true,
                    true,
                    true,
                    true,
                    true,
                    true,
                    true,
                    true,
                    true,
                    true,
                    true,
                    true,
                    true,
                    true,
                    true,
                    true,
                    true,
                    true,
                    true,
                    true,
                    true,
                    true,
                    true,
                    true,
                    true,
                    true,
                    true,
                    true,
                    true,
                    true,
                    true,
                    true,
                    true,
                    true,
                    true,
                    true,
                    true,
                    true,
                    true,
                    true,
                    true,
                    true,
                    true,
                    true,
                    true,
                    true,
                    true,
                    true,
                    true,
                    true,
                    true,
                    true,
                    true,
                    true,
                    true,
                    true,
                    true,
                    true,
                    true,
                    true,
                    true,
                    true,
                    true,
                    true,
                    true,
                    true,
                    true,
                    true,
                    true,
                    true,
                    true,
                    true,
                    true,
                    true,
                    true,
                    true,
                    true,
                    true,
                    true,
                    true,
                    true,
                    true,
                    true,
                    true,
                    true,
                    true,
                    true,
                    true,
                    true,
                    true,
                    true,
                    true,
                    true,
                    true,
                    true,
                    true,
                    true,
                    true,
                    true,
                    true,
                    true,
                    true,
                    true,
                    true,
                    true,
                    true,
                    true,
                    true,
                    true,
                    true,
                    true,
                    true,
                    true,
                    true,
                    true,
                    true,
                    true,
                    true,
                    true,
                    true,
                    true,
                    true,
                    true,
                    true,
                    true,
                    true,
                    true,
                    true,
                    true,
                    true,
                    true,
                    true,
                    true,
                    true,
                    true,
                    true,
                    true,
                    true,
                    true,
                    true,
                    true,
                    true,
                    true,
                    true,
                    true,
                    true,
                    true,
                    true,
                    true,
                    true,
                    true,
                    true,
                    true,
                    true,
                    true,
                    true,
                    true,
                    true,
                    true,
                    true,
                    true,
                    true,
                    true,
                    true,
                    true,
                    true,
                    true,
                    true,
                    true,
                    true,
                    true,
                    true,
                    true,
                    true,
                    true,
                    true,
                    true,
                    true,
                    true,
                    true,
                    true,
                    true,
                    true,
                    true,
                    true,
                    true,
                    true,
                    true,
                    true,
                    true,
                    true,
                    true,
                    true,
                    true,
                    true,
                    true,
                    true,
                    true,
                    true,
                    true,
                    true,
                    true,
                    true,
                    true,
                    true,
                    true,
                    true,
                    true,
                    true,
                    true,
                    true
                  ],
                  "xaxis": "x",
                  "y": [
                    74,
                    46,
                    69,
                    70,
                    67,
                    75,
                    93,
                    80,
                    97,
                    68,
                    81,
                    64,
                    84,
                    94,
                    94,
                    83,
                    83,
                    80,
                    80,
                    74,
                    82,
                    82,
                    74,
                    94,
                    83,
                    87,
                    69,
                    94,
                    90,
                    96,
                    78,
                    87,
                    91,
                    95,
                    98,
                    90,
                    59,
                    59,
                    67,
                    67,
                    94,
                    83,
                    91,
                    60,
                    93,
                    58,
                    82,
                    100,
                    100,
                    67,
                    68,
                    70,
                    86,
                    56,
                    74,
                    70,
                    54,
                    71,
                    71,
                    88,
                    64,
                    58,
                    96,
                    71,
                    89,
                    69,
                    69,
                    55,
                    94,
                    81,
                    69,
                    59,
                    60,
                    62,
                    62,
                    66,
                    66,
                    67,
                    67,
                    69,
                    69,
                    93,
                    85,
                    85,
                    78,
                    74,
                    96,
                    66,
                    65,
                    72,
                    72,
                    67,
                    84,
                    51,
                    75,
                    62,
                    77,
                    67,
                    57,
                    60,
                    60,
                    74,
                    74,
                    51,
                    62,
                    80,
                    74,
                    57,
                    78,
                    79,
                    63,
                    51,
                    89,
                    60,
                    67,
                    56,
                    73,
                    65,
                    68,
                    68,
                    86,
                    86,
                    73,
                    78,
                    67,
                    63,
                    55,
                    51,
                    73,
                    73,
                    79,
                    90,
                    78,
                    53,
                    96,
                    81,
                    89,
                    97,
                    90,
                    100,
                    100,
                    94,
                    100,
                    100,
                    96,
                    97,
                    80,
                    97,
                    73,
                    42,
                    96,
                    87,
                    49,
                    49,
                    92,
                    59,
                    71,
                    94,
                    78,
                    80,
                    66,
                    69,
                    59,
                    69,
                    62,
                    52,
                    54,
                    59,
                    59,
                    90,
                    92,
                    56,
                    55,
                    31,
                    55,
                    69,
                    70,
                    68,
                    59,
                    50,
                    75,
                    90,
                    84,
                    90,
                    69,
                    31,
                    31,
                    52,
                    84,
                    70,
                    51,
                    58,
                    64,
                    71,
                    71,
                    62,
                    62,
                    84,
                    55,
                    68,
                    55,
                    88,
                    58,
                    64,
                    64,
                    67,
                    69,
                    69,
                    59,
                    59,
                    54,
                    54,
                    64,
                    65,
                    62,
                    88,
                    55,
                    58,
                    57,
                    57,
                    69,
                    65,
                    75,
                    57,
                    62,
                    54,
                    66,
                    77,
                    55,
                    51,
                    56,
                    56,
                    55,
                    57,
                    57,
                    55,
                    57,
                    52,
                    67,
                    56,
                    56,
                    65,
                    54,
                    56,
                    75,
                    57,
                    58,
                    64,
                    46,
                    61,
                    58,
                    57,
                    52,
                    58,
                    61,
                    66,
                    58,
                    57,
                    53,
                    85,
                    65,
                    59,
                    58,
                    57,
                    62,
                    62,
                    57,
                    57,
                    55,
                    58,
                    64,
                    61,
                    54,
                    63,
                    74,
                    62,
                    68,
                    58,
                    97,
                    75,
                    93,
                    42,
                    73,
                    75,
                    56,
                    63,
                    70,
                    73,
                    77,
                    97,
                    88,
                    84,
                    64,
                    64,
                    78,
                    97,
                    97,
                    90,
                    46,
                    72,
                    72,
                    75,
                    80,
                    76,
                    89,
                    95,
                    95,
                    90,
                    92,
                    83,
                    83,
                    90,
                    89,
                    100,
                    89,
                    89,
                    93,
                    93,
                    91,
                    86,
                    90,
                    75,
                    89,
                    88,
                    91,
                    91,
                    97,
                    89,
                    89,
                    93,
                    90,
                    93,
                    93,
                    83,
                    97,
                    89,
                    87,
                    89,
                    87,
                    93,
                    93,
                    94,
                    90,
                    57,
                    95,
                    83,
                    93,
                    100,
                    93,
                    87,
                    87,
                    92,
                    95,
                    57,
                    86,
                    92,
                    96,
                    96,
                    89,
                    89,
                    86,
                    86,
                    92,
                    89,
                    99,
                    99,
                    99,
                    98,
                    89,
                    89,
                    89,
                    81,
                    80,
                    93,
                    72,
                    97,
                    91,
                    93,
                    99,
                    99,
                    99,
                    80,
                    76,
                    76,
                    83,
                    80,
                    80,
                    76,
                    76,
                    30,
                    88,
                    74,
                    99,
                    92,
                    88,
                    98,
                    98,
                    92,
                    85,
                    85,
                    85,
                    88,
                    88,
                    92,
                    92,
                    72,
                    89,
                    89,
                    89,
                    56,
                    83,
                    66,
                    50,
                    85,
                    70,
                    95,
                    95,
                    89,
                    89,
                    74,
                    97,
                    48,
                    92,
                    83,
                    83,
                    35,
                    66,
                    88,
                    66,
                    92,
                    92,
                    57,
                    99,
                    66,
                    67,
                    63,
                    63,
                    77,
                    74,
                    59,
                    59,
                    92,
                    92,
                    92,
                    92,
                    66,
                    35,
                    35,
                    74,
                    53,
                    89,
                    77,
                    92,
                    88,
                    31,
                    66,
                    83,
                    48,
                    89,
                    74,
                    23,
                    95,
                    92,
                    80,
                    95,
                    47,
                    77,
                    68,
                    96,
                    96,
                    77,
                    67,
                    30,
                    85,
                    87,
                    83,
                    30,
                    66,
                    61,
                    85,
                    75,
                    75,
                    88,
                    61,
                    74,
                    83,
                    47,
                    97,
                    72,
                    60,
                    80,
                    85,
                    85,
                    92,
                    92,
                    85,
                    65,
                    82,
                    84,
                    35,
                    97,
                    97,
                    39,
                    82,
                    66,
                    70,
                    77,
                    77,
                    85,
                    94,
                    53,
                    85,
                    81,
                    49,
                    49,
                    56,
                    66,
                    80,
                    64,
                    77,
                    81,
                    35,
                    82,
                    70,
                    85,
                    85,
                    82,
                    92,
                    66,
                    56,
                    56,
                    72,
                    64,
                    68,
                    74,
                    84,
                    73,
                    73,
                    65,
                    29,
                    82,
                    69,
                    57,
                    81,
                    74,
                    60,
                    68,
                    68,
                    43,
                    29,
                    80,
                    57,
                    97,
                    77,
                    50,
                    56,
                    57,
                    57,
                    72,
                    84,
                    56,
                    56,
                    69,
                    69,
                    69,
                    53,
                    63,
                    100,
                    67,
                    47,
                    56,
                    96,
                    67,
                    83,
                    52,
                    52,
                    70,
                    45,
                    82,
                    47,
                    53,
                    81,
                    81,
                    80,
                    49,
                    56,
                    49,
                    56,
                    58,
                    69,
                    70,
                    56,
                    29,
                    54,
                    54,
                    50,
                    50,
                    42,
                    59,
                    64,
                    64,
                    56,
                    48,
                    48,
                    56,
                    79,
                    63,
                    71,
                    50,
                    50,
                    65,
                    64,
                    49,
                    36,
                    56,
                    56,
                    73,
                    82,
                    54,
                    68,
                    56,
                    55,
                    55,
                    50,
                    56,
                    81,
                    81,
                    77,
                    78,
                    41,
                    56,
                    56,
                    50,
                    50,
                    55,
                    61,
                    61,
                    68,
                    95,
                    71,
                    70,
                    69,
                    57,
                    50,
                    58,
                    75,
                    75,
                    72,
                    75,
                    75,
                    78,
                    68,
                    51,
                    51,
                    82,
                    51,
                    61
                  ],
                  "yaxis": "y"
                }
              ],
              "layout": {
                "barmode": "relative",
                "legend": {
                  "title": {
                    "text": "peggiorato"
                  },
                  "tracegroupgap": 0
                },
                "margin": {
                  "t": 60
                },
                "template": {
                  "data": {
                    "bar": [
                      {
                        "error_x": {
                          "color": "#2a3f5f"
                        },
                        "error_y": {
                          "color": "#2a3f5f"
                        },
                        "marker": {
                          "line": {
                            "color": "#E5ECF6",
                            "width": 0.5
                          },
                          "pattern": {
                            "fillmode": "overlay",
                            "size": 10,
                            "solidity": 0.2
                          }
                        },
                        "type": "bar"
                      }
                    ],
                    "barpolar": [
                      {
                        "marker": {
                          "line": {
                            "color": "#E5ECF6",
                            "width": 0.5
                          },
                          "pattern": {
                            "fillmode": "overlay",
                            "size": 10,
                            "solidity": 0.2
                          }
                        },
                        "type": "barpolar"
                      }
                    ],
                    "carpet": [
                      {
                        "aaxis": {
                          "endlinecolor": "#2a3f5f",
                          "gridcolor": "white",
                          "linecolor": "white",
                          "minorgridcolor": "white",
                          "startlinecolor": "#2a3f5f"
                        },
                        "baxis": {
                          "endlinecolor": "#2a3f5f",
                          "gridcolor": "white",
                          "linecolor": "white",
                          "minorgridcolor": "white",
                          "startlinecolor": "#2a3f5f"
                        },
                        "type": "carpet"
                      }
                    ],
                    "choropleth": [
                      {
                        "colorbar": {
                          "outlinewidth": 0,
                          "ticks": ""
                        },
                        "type": "choropleth"
                      }
                    ],
                    "contour": [
                      {
                        "colorbar": {
                          "outlinewidth": 0,
                          "ticks": ""
                        },
                        "colorscale": [
                          [
                            0,
                            "#0d0887"
                          ],
                          [
                            0.1111111111111111,
                            "#46039f"
                          ],
                          [
                            0.2222222222222222,
                            "#7201a8"
                          ],
                          [
                            0.3333333333333333,
                            "#9c179e"
                          ],
                          [
                            0.4444444444444444,
                            "#bd3786"
                          ],
                          [
                            0.5555555555555556,
                            "#d8576b"
                          ],
                          [
                            0.6666666666666666,
                            "#ed7953"
                          ],
                          [
                            0.7777777777777778,
                            "#fb9f3a"
                          ],
                          [
                            0.8888888888888888,
                            "#fdca26"
                          ],
                          [
                            1,
                            "#f0f921"
                          ]
                        ],
                        "type": "contour"
                      }
                    ],
                    "contourcarpet": [
                      {
                        "colorbar": {
                          "outlinewidth": 0,
                          "ticks": ""
                        },
                        "type": "contourcarpet"
                      }
                    ],
                    "heatmap": [
                      {
                        "colorbar": {
                          "outlinewidth": 0,
                          "ticks": ""
                        },
                        "colorscale": [
                          [
                            0,
                            "#0d0887"
                          ],
                          [
                            0.1111111111111111,
                            "#46039f"
                          ],
                          [
                            0.2222222222222222,
                            "#7201a8"
                          ],
                          [
                            0.3333333333333333,
                            "#9c179e"
                          ],
                          [
                            0.4444444444444444,
                            "#bd3786"
                          ],
                          [
                            0.5555555555555556,
                            "#d8576b"
                          ],
                          [
                            0.6666666666666666,
                            "#ed7953"
                          ],
                          [
                            0.7777777777777778,
                            "#fb9f3a"
                          ],
                          [
                            0.8888888888888888,
                            "#fdca26"
                          ],
                          [
                            1,
                            "#f0f921"
                          ]
                        ],
                        "type": "heatmap"
                      }
                    ],
                    "heatmapgl": [
                      {
                        "colorbar": {
                          "outlinewidth": 0,
                          "ticks": ""
                        },
                        "colorscale": [
                          [
                            0,
                            "#0d0887"
                          ],
                          [
                            0.1111111111111111,
                            "#46039f"
                          ],
                          [
                            0.2222222222222222,
                            "#7201a8"
                          ],
                          [
                            0.3333333333333333,
                            "#9c179e"
                          ],
                          [
                            0.4444444444444444,
                            "#bd3786"
                          ],
                          [
                            0.5555555555555556,
                            "#d8576b"
                          ],
                          [
                            0.6666666666666666,
                            "#ed7953"
                          ],
                          [
                            0.7777777777777778,
                            "#fb9f3a"
                          ],
                          [
                            0.8888888888888888,
                            "#fdca26"
                          ],
                          [
                            1,
                            "#f0f921"
                          ]
                        ],
                        "type": "heatmapgl"
                      }
                    ],
                    "histogram": [
                      {
                        "marker": {
                          "pattern": {
                            "fillmode": "overlay",
                            "size": 10,
                            "solidity": 0.2
                          }
                        },
                        "type": "histogram"
                      }
                    ],
                    "histogram2d": [
                      {
                        "colorbar": {
                          "outlinewidth": 0,
                          "ticks": ""
                        },
                        "colorscale": [
                          [
                            0,
                            "#0d0887"
                          ],
                          [
                            0.1111111111111111,
                            "#46039f"
                          ],
                          [
                            0.2222222222222222,
                            "#7201a8"
                          ],
                          [
                            0.3333333333333333,
                            "#9c179e"
                          ],
                          [
                            0.4444444444444444,
                            "#bd3786"
                          ],
                          [
                            0.5555555555555556,
                            "#d8576b"
                          ],
                          [
                            0.6666666666666666,
                            "#ed7953"
                          ],
                          [
                            0.7777777777777778,
                            "#fb9f3a"
                          ],
                          [
                            0.8888888888888888,
                            "#fdca26"
                          ],
                          [
                            1,
                            "#f0f921"
                          ]
                        ],
                        "type": "histogram2d"
                      }
                    ],
                    "histogram2dcontour": [
                      {
                        "colorbar": {
                          "outlinewidth": 0,
                          "ticks": ""
                        },
                        "colorscale": [
                          [
                            0,
                            "#0d0887"
                          ],
                          [
                            0.1111111111111111,
                            "#46039f"
                          ],
                          [
                            0.2222222222222222,
                            "#7201a8"
                          ],
                          [
                            0.3333333333333333,
                            "#9c179e"
                          ],
                          [
                            0.4444444444444444,
                            "#bd3786"
                          ],
                          [
                            0.5555555555555556,
                            "#d8576b"
                          ],
                          [
                            0.6666666666666666,
                            "#ed7953"
                          ],
                          [
                            0.7777777777777778,
                            "#fb9f3a"
                          ],
                          [
                            0.8888888888888888,
                            "#fdca26"
                          ],
                          [
                            1,
                            "#f0f921"
                          ]
                        ],
                        "type": "histogram2dcontour"
                      }
                    ],
                    "mesh3d": [
                      {
                        "colorbar": {
                          "outlinewidth": 0,
                          "ticks": ""
                        },
                        "type": "mesh3d"
                      }
                    ],
                    "parcoords": [
                      {
                        "line": {
                          "colorbar": {
                            "outlinewidth": 0,
                            "ticks": ""
                          }
                        },
                        "type": "parcoords"
                      }
                    ],
                    "pie": [
                      {
                        "automargin": true,
                        "type": "pie"
                      }
                    ],
                    "scatter": [
                      {
                        "marker": {
                          "colorbar": {
                            "outlinewidth": 0,
                            "ticks": ""
                          }
                        },
                        "type": "scatter"
                      }
                    ],
                    "scatter3d": [
                      {
                        "line": {
                          "colorbar": {
                            "outlinewidth": 0,
                            "ticks": ""
                          }
                        },
                        "marker": {
                          "colorbar": {
                            "outlinewidth": 0,
                            "ticks": ""
                          }
                        },
                        "type": "scatter3d"
                      }
                    ],
                    "scattercarpet": [
                      {
                        "marker": {
                          "colorbar": {
                            "outlinewidth": 0,
                            "ticks": ""
                          }
                        },
                        "type": "scattercarpet"
                      }
                    ],
                    "scattergeo": [
                      {
                        "marker": {
                          "colorbar": {
                            "outlinewidth": 0,
                            "ticks": ""
                          }
                        },
                        "type": "scattergeo"
                      }
                    ],
                    "scattergl": [
                      {
                        "marker": {
                          "colorbar": {
                            "outlinewidth": 0,
                            "ticks": ""
                          }
                        },
                        "type": "scattergl"
                      }
                    ],
                    "scattermapbox": [
                      {
                        "marker": {
                          "colorbar": {
                            "outlinewidth": 0,
                            "ticks": ""
                          }
                        },
                        "type": "scattermapbox"
                      }
                    ],
                    "scatterpolar": [
                      {
                        "marker": {
                          "colorbar": {
                            "outlinewidth": 0,
                            "ticks": ""
                          }
                        },
                        "type": "scatterpolar"
                      }
                    ],
                    "scatterpolargl": [
                      {
                        "marker": {
                          "colorbar": {
                            "outlinewidth": 0,
                            "ticks": ""
                          }
                        },
                        "type": "scatterpolargl"
                      }
                    ],
                    "scatterternary": [
                      {
                        "marker": {
                          "colorbar": {
                            "outlinewidth": 0,
                            "ticks": ""
                          }
                        },
                        "type": "scatterternary"
                      }
                    ],
                    "surface": [
                      {
                        "colorbar": {
                          "outlinewidth": 0,
                          "ticks": ""
                        },
                        "colorscale": [
                          [
                            0,
                            "#0d0887"
                          ],
                          [
                            0.1111111111111111,
                            "#46039f"
                          ],
                          [
                            0.2222222222222222,
                            "#7201a8"
                          ],
                          [
                            0.3333333333333333,
                            "#9c179e"
                          ],
                          [
                            0.4444444444444444,
                            "#bd3786"
                          ],
                          [
                            0.5555555555555556,
                            "#d8576b"
                          ],
                          [
                            0.6666666666666666,
                            "#ed7953"
                          ],
                          [
                            0.7777777777777778,
                            "#fb9f3a"
                          ],
                          [
                            0.8888888888888888,
                            "#fdca26"
                          ],
                          [
                            1,
                            "#f0f921"
                          ]
                        ],
                        "type": "surface"
                      }
                    ],
                    "table": [
                      {
                        "cells": {
                          "fill": {
                            "color": "#EBF0F8"
                          },
                          "line": {
                            "color": "white"
                          }
                        },
                        "header": {
                          "fill": {
                            "color": "#C8D4E3"
                          },
                          "line": {
                            "color": "white"
                          }
                        },
                        "type": "table"
                      }
                    ]
                  },
                  "layout": {
                    "annotationdefaults": {
                      "arrowcolor": "#2a3f5f",
                      "arrowhead": 0,
                      "arrowwidth": 1
                    },
                    "autotypenumbers": "strict",
                    "coloraxis": {
                      "colorbar": {
                        "outlinewidth": 0,
                        "ticks": ""
                      }
                    },
                    "colorscale": {
                      "diverging": [
                        [
                          0,
                          "#8e0152"
                        ],
                        [
                          0.1,
                          "#c51b7d"
                        ],
                        [
                          0.2,
                          "#de77ae"
                        ],
                        [
                          0.3,
                          "#f1b6da"
                        ],
                        [
                          0.4,
                          "#fde0ef"
                        ],
                        [
                          0.5,
                          "#f7f7f7"
                        ],
                        [
                          0.6,
                          "#e6f5d0"
                        ],
                        [
                          0.7,
                          "#b8e186"
                        ],
                        [
                          0.8,
                          "#7fbc41"
                        ],
                        [
                          0.9,
                          "#4d9221"
                        ],
                        [
                          1,
                          "#276419"
                        ]
                      ],
                      "sequential": [
                        [
                          0,
                          "#0d0887"
                        ],
                        [
                          0.1111111111111111,
                          "#46039f"
                        ],
                        [
                          0.2222222222222222,
                          "#7201a8"
                        ],
                        [
                          0.3333333333333333,
                          "#9c179e"
                        ],
                        [
                          0.4444444444444444,
                          "#bd3786"
                        ],
                        [
                          0.5555555555555556,
                          "#d8576b"
                        ],
                        [
                          0.6666666666666666,
                          "#ed7953"
                        ],
                        [
                          0.7777777777777778,
                          "#fb9f3a"
                        ],
                        [
                          0.8888888888888888,
                          "#fdca26"
                        ],
                        [
                          1,
                          "#f0f921"
                        ]
                      ],
                      "sequentialminus": [
                        [
                          0,
                          "#0d0887"
                        ],
                        [
                          0.1111111111111111,
                          "#46039f"
                        ],
                        [
                          0.2222222222222222,
                          "#7201a8"
                        ],
                        [
                          0.3333333333333333,
                          "#9c179e"
                        ],
                        [
                          0.4444444444444444,
                          "#bd3786"
                        ],
                        [
                          0.5555555555555556,
                          "#d8576b"
                        ],
                        [
                          0.6666666666666666,
                          "#ed7953"
                        ],
                        [
                          0.7777777777777778,
                          "#fb9f3a"
                        ],
                        [
                          0.8888888888888888,
                          "#fdca26"
                        ],
                        [
                          1,
                          "#f0f921"
                        ]
                      ]
                    },
                    "colorway": [
                      "#636efa",
                      "#EF553B",
                      "#00cc96",
                      "#ab63fa",
                      "#FFA15A",
                      "#19d3f3",
                      "#FF6692",
                      "#B6E880",
                      "#FF97FF",
                      "#FECB52"
                    ],
                    "font": {
                      "color": "#2a3f5f"
                    },
                    "geo": {
                      "bgcolor": "white",
                      "lakecolor": "white",
                      "landcolor": "#E5ECF6",
                      "showlakes": true,
                      "showland": true,
                      "subunitcolor": "white"
                    },
                    "hoverlabel": {
                      "align": "left"
                    },
                    "hovermode": "closest",
                    "mapbox": {
                      "style": "light"
                    },
                    "paper_bgcolor": "white",
                    "plot_bgcolor": "#E5ECF6",
                    "polar": {
                      "angularaxis": {
                        "gridcolor": "white",
                        "linecolor": "white",
                        "ticks": ""
                      },
                      "bgcolor": "#E5ECF6",
                      "radialaxis": {
                        "gridcolor": "white",
                        "linecolor": "white",
                        "ticks": ""
                      }
                    },
                    "scene": {
                      "xaxis": {
                        "backgroundcolor": "#E5ECF6",
                        "gridcolor": "white",
                        "gridwidth": 2,
                        "linecolor": "white",
                        "showbackground": true,
                        "ticks": "",
                        "zerolinecolor": "white"
                      },
                      "yaxis": {
                        "backgroundcolor": "#E5ECF6",
                        "gridcolor": "white",
                        "gridwidth": 2,
                        "linecolor": "white",
                        "showbackground": true,
                        "ticks": "",
                        "zerolinecolor": "white"
                      },
                      "zaxis": {
                        "backgroundcolor": "#E5ECF6",
                        "gridcolor": "white",
                        "gridwidth": 2,
                        "linecolor": "white",
                        "showbackground": true,
                        "ticks": "",
                        "zerolinecolor": "white"
                      }
                    },
                    "shapedefaults": {
                      "line": {
                        "color": "#2a3f5f"
                      }
                    },
                    "ternary": {
                      "aaxis": {
                        "gridcolor": "white",
                        "linecolor": "white",
                        "ticks": ""
                      },
                      "baxis": {
                        "gridcolor": "white",
                        "linecolor": "white",
                        "ticks": ""
                      },
                      "bgcolor": "#E5ECF6",
                      "caxis": {
                        "gridcolor": "white",
                        "linecolor": "white",
                        "ticks": ""
                      }
                    },
                    "title": {
                      "x": 0.05
                    },
                    "xaxis": {
                      "automargin": true,
                      "gridcolor": "white",
                      "linecolor": "white",
                      "ticks": "",
                      "title": {
                        "standoff": 15
                      },
                      "zerolinecolor": "white",
                      "zerolinewidth": 2
                    },
                    "yaxis": {
                      "automargin": true,
                      "gridcolor": "white",
                      "linecolor": "white",
                      "ticks": "",
                      "title": {
                        "standoff": 15
                      },
                      "zerolinecolor": "white",
                      "zerolinewidth": 2
                    }
                  }
                },
                "xaxis": {
                  "anchor": "y",
                  "categoryarray": [
                    false,
                    true
                  ],
                  "categoryorder": "array",
                  "domain": [
                    0,
                    1
                  ],
                  "title": {
                    "text": "peggiorato"
                  }
                },
                "yaxis": {
                  "anchor": "x",
                  "domain": [
                    0,
                    1
                  ],
                  "title": {
                    "text": "umidita_media"
                  }
                }
              }
            }
          },
          "metadata": {},
          "output_type": "display_data"
        }
      ],
      "source": [
        "import plotly.express as px\n",
        "\n",
        "fig = px.bar(dataset, y=\"umidita_media\", x=\"peggiorato\", color=\"peggiorato\")\n",
        "fig.show()"
      ]
    },
    {
      "cell_type": "markdown",
      "metadata": {},
      "source": [
        "Per ogni valore di temperatura calcolare quanti migliorati e peggiorati.\n",
        "temp | nume migliorati | nume pegg"
      ]
    },
    {
      "cell_type": "code",
      "execution_count": 93,
      "metadata": {},
      "outputs": [
        {
          "data": {
            "application/vnd.plotly.v1+json": {
              "config": {
                "plotlyServerURL": "https://plot.ly"
              },
              "data": [
                {
                  "hovertemplate": "variable=peggiorati<br>temp=%{x}<br>value=%{y}<extra></extra>",
                  "legendgroup": "peggiorati",
                  "line": {
                    "color": "#636efa",
                    "dash": "solid"
                  },
                  "marker": {
                    "symbol": "circle"
                  },
                  "mode": "lines",
                  "name": "peggiorati",
                  "orientation": "v",
                  "showlegend": true,
                  "type": "scatter",
                  "x": [
                    -5,
                    -4,
                    -3,
                    -2,
                    -1,
                    0,
                    1,
                    2,
                    3,
                    4,
                    5,
                    6,
                    7,
                    8,
                    9,
                    10,
                    11,
                    12,
                    13,
                    14,
                    15,
                    16,
                    17,
                    18,
                    19,
                    20,
                    21,
                    22,
                    23,
                    24,
                    25,
                    26,
                    27,
                    28,
                    29,
                    30,
                    31
                  ],
                  "xaxis": "x",
                  "y": [
                    1,
                    1,
                    2,
                    3,
                    3,
                    18,
                    31,
                    44,
                    66,
                    47,
                    88,
                    61,
                    76,
                    96,
                    79,
                    107,
                    52,
                    51,
                    32,
                    32,
                    65,
                    51,
                    49,
                    40,
                    27,
                    35,
                    22,
                    27,
                    22,
                    45,
                    42,
                    22,
                    38,
                    43,
                    14,
                    18,
                    3
                  ],
                  "yaxis": "y"
                },
                {
                  "hovertemplate": "variable=migliorati<br>temp=%{x}<br>value=%{y}<extra></extra>",
                  "legendgroup": "migliorati",
                  "line": {
                    "color": "#EF553B",
                    "dash": "solid"
                  },
                  "marker": {
                    "symbol": "circle"
                  },
                  "mode": "lines",
                  "name": "migliorati",
                  "orientation": "v",
                  "showlegend": true,
                  "type": "scatter",
                  "x": [
                    -5,
                    -4,
                    -3,
                    -2,
                    -1,
                    0,
                    1,
                    2,
                    3,
                    4,
                    5,
                    6,
                    7,
                    8,
                    9,
                    10,
                    11,
                    12,
                    13,
                    14,
                    15,
                    16,
                    17,
                    18,
                    19,
                    20,
                    21,
                    22,
                    23,
                    24,
                    25,
                    26,
                    27,
                    28,
                    29,
                    30,
                    31
                  ],
                  "xaxis": "x",
                  "y": [
                    1,
                    1,
                    2,
                    1,
                    1,
                    8,
                    15,
                    22,
                    32,
                    23,
                    44,
                    35,
                    52,
                    42,
                    39,
                    47,
                    8,
                    25,
                    24,
                    18,
                    23,
                    17,
                    13,
                    14,
                    21,
                    13,
                    8,
                    11,
                    8,
                    21,
                    16,
                    8,
                    18,
                    15,
                    4,
                    6,
                    1
                  ],
                  "yaxis": "y"
                }
              ],
              "layout": {
                "legend": {
                  "title": {
                    "text": "variable"
                  },
                  "tracegroupgap": 0
                },
                "margin": {
                  "t": 60
                },
                "template": {
                  "data": {
                    "bar": [
                      {
                        "error_x": {
                          "color": "#2a3f5f"
                        },
                        "error_y": {
                          "color": "#2a3f5f"
                        },
                        "marker": {
                          "line": {
                            "color": "#E5ECF6",
                            "width": 0.5
                          },
                          "pattern": {
                            "fillmode": "overlay",
                            "size": 10,
                            "solidity": 0.2
                          }
                        },
                        "type": "bar"
                      }
                    ],
                    "barpolar": [
                      {
                        "marker": {
                          "line": {
                            "color": "#E5ECF6",
                            "width": 0.5
                          },
                          "pattern": {
                            "fillmode": "overlay",
                            "size": 10,
                            "solidity": 0.2
                          }
                        },
                        "type": "barpolar"
                      }
                    ],
                    "carpet": [
                      {
                        "aaxis": {
                          "endlinecolor": "#2a3f5f",
                          "gridcolor": "white",
                          "linecolor": "white",
                          "minorgridcolor": "white",
                          "startlinecolor": "#2a3f5f"
                        },
                        "baxis": {
                          "endlinecolor": "#2a3f5f",
                          "gridcolor": "white",
                          "linecolor": "white",
                          "minorgridcolor": "white",
                          "startlinecolor": "#2a3f5f"
                        },
                        "type": "carpet"
                      }
                    ],
                    "choropleth": [
                      {
                        "colorbar": {
                          "outlinewidth": 0,
                          "ticks": ""
                        },
                        "type": "choropleth"
                      }
                    ],
                    "contour": [
                      {
                        "colorbar": {
                          "outlinewidth": 0,
                          "ticks": ""
                        },
                        "colorscale": [
                          [
                            0,
                            "#0d0887"
                          ],
                          [
                            0.1111111111111111,
                            "#46039f"
                          ],
                          [
                            0.2222222222222222,
                            "#7201a8"
                          ],
                          [
                            0.3333333333333333,
                            "#9c179e"
                          ],
                          [
                            0.4444444444444444,
                            "#bd3786"
                          ],
                          [
                            0.5555555555555556,
                            "#d8576b"
                          ],
                          [
                            0.6666666666666666,
                            "#ed7953"
                          ],
                          [
                            0.7777777777777778,
                            "#fb9f3a"
                          ],
                          [
                            0.8888888888888888,
                            "#fdca26"
                          ],
                          [
                            1,
                            "#f0f921"
                          ]
                        ],
                        "type": "contour"
                      }
                    ],
                    "contourcarpet": [
                      {
                        "colorbar": {
                          "outlinewidth": 0,
                          "ticks": ""
                        },
                        "type": "contourcarpet"
                      }
                    ],
                    "heatmap": [
                      {
                        "colorbar": {
                          "outlinewidth": 0,
                          "ticks": ""
                        },
                        "colorscale": [
                          [
                            0,
                            "#0d0887"
                          ],
                          [
                            0.1111111111111111,
                            "#46039f"
                          ],
                          [
                            0.2222222222222222,
                            "#7201a8"
                          ],
                          [
                            0.3333333333333333,
                            "#9c179e"
                          ],
                          [
                            0.4444444444444444,
                            "#bd3786"
                          ],
                          [
                            0.5555555555555556,
                            "#d8576b"
                          ],
                          [
                            0.6666666666666666,
                            "#ed7953"
                          ],
                          [
                            0.7777777777777778,
                            "#fb9f3a"
                          ],
                          [
                            0.8888888888888888,
                            "#fdca26"
                          ],
                          [
                            1,
                            "#f0f921"
                          ]
                        ],
                        "type": "heatmap"
                      }
                    ],
                    "heatmapgl": [
                      {
                        "colorbar": {
                          "outlinewidth": 0,
                          "ticks": ""
                        },
                        "colorscale": [
                          [
                            0,
                            "#0d0887"
                          ],
                          [
                            0.1111111111111111,
                            "#46039f"
                          ],
                          [
                            0.2222222222222222,
                            "#7201a8"
                          ],
                          [
                            0.3333333333333333,
                            "#9c179e"
                          ],
                          [
                            0.4444444444444444,
                            "#bd3786"
                          ],
                          [
                            0.5555555555555556,
                            "#d8576b"
                          ],
                          [
                            0.6666666666666666,
                            "#ed7953"
                          ],
                          [
                            0.7777777777777778,
                            "#fb9f3a"
                          ],
                          [
                            0.8888888888888888,
                            "#fdca26"
                          ],
                          [
                            1,
                            "#f0f921"
                          ]
                        ],
                        "type": "heatmapgl"
                      }
                    ],
                    "histogram": [
                      {
                        "marker": {
                          "pattern": {
                            "fillmode": "overlay",
                            "size": 10,
                            "solidity": 0.2
                          }
                        },
                        "type": "histogram"
                      }
                    ],
                    "histogram2d": [
                      {
                        "colorbar": {
                          "outlinewidth": 0,
                          "ticks": ""
                        },
                        "colorscale": [
                          [
                            0,
                            "#0d0887"
                          ],
                          [
                            0.1111111111111111,
                            "#46039f"
                          ],
                          [
                            0.2222222222222222,
                            "#7201a8"
                          ],
                          [
                            0.3333333333333333,
                            "#9c179e"
                          ],
                          [
                            0.4444444444444444,
                            "#bd3786"
                          ],
                          [
                            0.5555555555555556,
                            "#d8576b"
                          ],
                          [
                            0.6666666666666666,
                            "#ed7953"
                          ],
                          [
                            0.7777777777777778,
                            "#fb9f3a"
                          ],
                          [
                            0.8888888888888888,
                            "#fdca26"
                          ],
                          [
                            1,
                            "#f0f921"
                          ]
                        ],
                        "type": "histogram2d"
                      }
                    ],
                    "histogram2dcontour": [
                      {
                        "colorbar": {
                          "outlinewidth": 0,
                          "ticks": ""
                        },
                        "colorscale": [
                          [
                            0,
                            "#0d0887"
                          ],
                          [
                            0.1111111111111111,
                            "#46039f"
                          ],
                          [
                            0.2222222222222222,
                            "#7201a8"
                          ],
                          [
                            0.3333333333333333,
                            "#9c179e"
                          ],
                          [
                            0.4444444444444444,
                            "#bd3786"
                          ],
                          [
                            0.5555555555555556,
                            "#d8576b"
                          ],
                          [
                            0.6666666666666666,
                            "#ed7953"
                          ],
                          [
                            0.7777777777777778,
                            "#fb9f3a"
                          ],
                          [
                            0.8888888888888888,
                            "#fdca26"
                          ],
                          [
                            1,
                            "#f0f921"
                          ]
                        ],
                        "type": "histogram2dcontour"
                      }
                    ],
                    "mesh3d": [
                      {
                        "colorbar": {
                          "outlinewidth": 0,
                          "ticks": ""
                        },
                        "type": "mesh3d"
                      }
                    ],
                    "parcoords": [
                      {
                        "line": {
                          "colorbar": {
                            "outlinewidth": 0,
                            "ticks": ""
                          }
                        },
                        "type": "parcoords"
                      }
                    ],
                    "pie": [
                      {
                        "automargin": true,
                        "type": "pie"
                      }
                    ],
                    "scatter": [
                      {
                        "marker": {
                          "colorbar": {
                            "outlinewidth": 0,
                            "ticks": ""
                          }
                        },
                        "type": "scatter"
                      }
                    ],
                    "scatter3d": [
                      {
                        "line": {
                          "colorbar": {
                            "outlinewidth": 0,
                            "ticks": ""
                          }
                        },
                        "marker": {
                          "colorbar": {
                            "outlinewidth": 0,
                            "ticks": ""
                          }
                        },
                        "type": "scatter3d"
                      }
                    ],
                    "scattercarpet": [
                      {
                        "marker": {
                          "colorbar": {
                            "outlinewidth": 0,
                            "ticks": ""
                          }
                        },
                        "type": "scattercarpet"
                      }
                    ],
                    "scattergeo": [
                      {
                        "marker": {
                          "colorbar": {
                            "outlinewidth": 0,
                            "ticks": ""
                          }
                        },
                        "type": "scattergeo"
                      }
                    ],
                    "scattergl": [
                      {
                        "marker": {
                          "colorbar": {
                            "outlinewidth": 0,
                            "ticks": ""
                          }
                        },
                        "type": "scattergl"
                      }
                    ],
                    "scattermapbox": [
                      {
                        "marker": {
                          "colorbar": {
                            "outlinewidth": 0,
                            "ticks": ""
                          }
                        },
                        "type": "scattermapbox"
                      }
                    ],
                    "scatterpolar": [
                      {
                        "marker": {
                          "colorbar": {
                            "outlinewidth": 0,
                            "ticks": ""
                          }
                        },
                        "type": "scatterpolar"
                      }
                    ],
                    "scatterpolargl": [
                      {
                        "marker": {
                          "colorbar": {
                            "outlinewidth": 0,
                            "ticks": ""
                          }
                        },
                        "type": "scatterpolargl"
                      }
                    ],
                    "scatterternary": [
                      {
                        "marker": {
                          "colorbar": {
                            "outlinewidth": 0,
                            "ticks": ""
                          }
                        },
                        "type": "scatterternary"
                      }
                    ],
                    "surface": [
                      {
                        "colorbar": {
                          "outlinewidth": 0,
                          "ticks": ""
                        },
                        "colorscale": [
                          [
                            0,
                            "#0d0887"
                          ],
                          [
                            0.1111111111111111,
                            "#46039f"
                          ],
                          [
                            0.2222222222222222,
                            "#7201a8"
                          ],
                          [
                            0.3333333333333333,
                            "#9c179e"
                          ],
                          [
                            0.4444444444444444,
                            "#bd3786"
                          ],
                          [
                            0.5555555555555556,
                            "#d8576b"
                          ],
                          [
                            0.6666666666666666,
                            "#ed7953"
                          ],
                          [
                            0.7777777777777778,
                            "#fb9f3a"
                          ],
                          [
                            0.8888888888888888,
                            "#fdca26"
                          ],
                          [
                            1,
                            "#f0f921"
                          ]
                        ],
                        "type": "surface"
                      }
                    ],
                    "table": [
                      {
                        "cells": {
                          "fill": {
                            "color": "#EBF0F8"
                          },
                          "line": {
                            "color": "white"
                          }
                        },
                        "header": {
                          "fill": {
                            "color": "#C8D4E3"
                          },
                          "line": {
                            "color": "white"
                          }
                        },
                        "type": "table"
                      }
                    ]
                  },
                  "layout": {
                    "annotationdefaults": {
                      "arrowcolor": "#2a3f5f",
                      "arrowhead": 0,
                      "arrowwidth": 1
                    },
                    "autotypenumbers": "strict",
                    "coloraxis": {
                      "colorbar": {
                        "outlinewidth": 0,
                        "ticks": ""
                      }
                    },
                    "colorscale": {
                      "diverging": [
                        [
                          0,
                          "#8e0152"
                        ],
                        [
                          0.1,
                          "#c51b7d"
                        ],
                        [
                          0.2,
                          "#de77ae"
                        ],
                        [
                          0.3,
                          "#f1b6da"
                        ],
                        [
                          0.4,
                          "#fde0ef"
                        ],
                        [
                          0.5,
                          "#f7f7f7"
                        ],
                        [
                          0.6,
                          "#e6f5d0"
                        ],
                        [
                          0.7,
                          "#b8e186"
                        ],
                        [
                          0.8,
                          "#7fbc41"
                        ],
                        [
                          0.9,
                          "#4d9221"
                        ],
                        [
                          1,
                          "#276419"
                        ]
                      ],
                      "sequential": [
                        [
                          0,
                          "#0d0887"
                        ],
                        [
                          0.1111111111111111,
                          "#46039f"
                        ],
                        [
                          0.2222222222222222,
                          "#7201a8"
                        ],
                        [
                          0.3333333333333333,
                          "#9c179e"
                        ],
                        [
                          0.4444444444444444,
                          "#bd3786"
                        ],
                        [
                          0.5555555555555556,
                          "#d8576b"
                        ],
                        [
                          0.6666666666666666,
                          "#ed7953"
                        ],
                        [
                          0.7777777777777778,
                          "#fb9f3a"
                        ],
                        [
                          0.8888888888888888,
                          "#fdca26"
                        ],
                        [
                          1,
                          "#f0f921"
                        ]
                      ],
                      "sequentialminus": [
                        [
                          0,
                          "#0d0887"
                        ],
                        [
                          0.1111111111111111,
                          "#46039f"
                        ],
                        [
                          0.2222222222222222,
                          "#7201a8"
                        ],
                        [
                          0.3333333333333333,
                          "#9c179e"
                        ],
                        [
                          0.4444444444444444,
                          "#bd3786"
                        ],
                        [
                          0.5555555555555556,
                          "#d8576b"
                        ],
                        [
                          0.6666666666666666,
                          "#ed7953"
                        ],
                        [
                          0.7777777777777778,
                          "#fb9f3a"
                        ],
                        [
                          0.8888888888888888,
                          "#fdca26"
                        ],
                        [
                          1,
                          "#f0f921"
                        ]
                      ]
                    },
                    "colorway": [
                      "#636efa",
                      "#EF553B",
                      "#00cc96",
                      "#ab63fa",
                      "#FFA15A",
                      "#19d3f3",
                      "#FF6692",
                      "#B6E880",
                      "#FF97FF",
                      "#FECB52"
                    ],
                    "font": {
                      "color": "#2a3f5f"
                    },
                    "geo": {
                      "bgcolor": "white",
                      "lakecolor": "white",
                      "landcolor": "#E5ECF6",
                      "showlakes": true,
                      "showland": true,
                      "subunitcolor": "white"
                    },
                    "hoverlabel": {
                      "align": "left"
                    },
                    "hovermode": "closest",
                    "mapbox": {
                      "style": "light"
                    },
                    "paper_bgcolor": "white",
                    "plot_bgcolor": "#E5ECF6",
                    "polar": {
                      "angularaxis": {
                        "gridcolor": "white",
                        "linecolor": "white",
                        "ticks": ""
                      },
                      "bgcolor": "#E5ECF6",
                      "radialaxis": {
                        "gridcolor": "white",
                        "linecolor": "white",
                        "ticks": ""
                      }
                    },
                    "scene": {
                      "xaxis": {
                        "backgroundcolor": "#E5ECF6",
                        "gridcolor": "white",
                        "gridwidth": 2,
                        "linecolor": "white",
                        "showbackground": true,
                        "ticks": "",
                        "zerolinecolor": "white"
                      },
                      "yaxis": {
                        "backgroundcolor": "#E5ECF6",
                        "gridcolor": "white",
                        "gridwidth": 2,
                        "linecolor": "white",
                        "showbackground": true,
                        "ticks": "",
                        "zerolinecolor": "white"
                      },
                      "zaxis": {
                        "backgroundcolor": "#E5ECF6",
                        "gridcolor": "white",
                        "gridwidth": 2,
                        "linecolor": "white",
                        "showbackground": true,
                        "ticks": "",
                        "zerolinecolor": "white"
                      }
                    },
                    "shapedefaults": {
                      "line": {
                        "color": "#2a3f5f"
                      }
                    },
                    "ternary": {
                      "aaxis": {
                        "gridcolor": "white",
                        "linecolor": "white",
                        "ticks": ""
                      },
                      "baxis": {
                        "gridcolor": "white",
                        "linecolor": "white",
                        "ticks": ""
                      },
                      "bgcolor": "#E5ECF6",
                      "caxis": {
                        "gridcolor": "white",
                        "linecolor": "white",
                        "ticks": ""
                      }
                    },
                    "title": {
                      "x": 0.05
                    },
                    "xaxis": {
                      "automargin": true,
                      "gridcolor": "white",
                      "linecolor": "white",
                      "ticks": "",
                      "title": {
                        "standoff": 15
                      },
                      "zerolinecolor": "white",
                      "zerolinewidth": 2
                    },
                    "yaxis": {
                      "automargin": true,
                      "gridcolor": "white",
                      "linecolor": "white",
                      "ticks": "",
                      "title": {
                        "standoff": 15
                      },
                      "zerolinecolor": "white",
                      "zerolinewidth": 2
                    }
                  }
                },
                "xaxis": {
                  "anchor": "y",
                  "domain": [
                    0,
                    1
                  ],
                  "title": {
                    "text": "temp"
                  }
                },
                "yaxis": {
                  "anchor": "x",
                  "domain": [
                    0,
                    1
                  ],
                  "title": {
                    "text": "value"
                  }
                }
              }
            }
          },
          "metadata": {},
          "output_type": "display_data"
        },
        {
          "data": {
            "application/vnd.plotly.v1+json": {
              "config": {
                "plotlyServerURL": "https://plot.ly"
              },
              "data": [
                {
                  "alignmentgroup": "True",
                  "hovertemplate": "temp=%{x}<br>migliorati=%{y}<extra></extra>",
                  "legendgroup": "",
                  "marker": {
                    "color": "#636efa",
                    "pattern": {
                      "shape": ""
                    }
                  },
                  "name": "",
                  "offsetgroup": "",
                  "orientation": "v",
                  "showlegend": false,
                  "textposition": "auto",
                  "type": "bar",
                  "x": [
                    -5,
                    -4,
                    -3,
                    -2,
                    -1,
                    0,
                    1,
                    2,
                    3,
                    4,
                    5,
                    6,
                    7,
                    8,
                    9,
                    10,
                    11,
                    12,
                    13,
                    14,
                    15,
                    16,
                    17,
                    18,
                    19,
                    20,
                    21,
                    22,
                    23,
                    24,
                    25,
                    26,
                    27,
                    28,
                    29,
                    30,
                    31
                  ],
                  "xaxis": "x",
                  "y": [
                    1,
                    1,
                    2,
                    1,
                    1,
                    8,
                    15,
                    22,
                    32,
                    23,
                    44,
                    35,
                    52,
                    42,
                    39,
                    47,
                    8,
                    25,
                    24,
                    18,
                    23,
                    17,
                    13,
                    14,
                    21,
                    13,
                    8,
                    11,
                    8,
                    21,
                    16,
                    8,
                    18,
                    15,
                    4,
                    6,
                    1
                  ],
                  "yaxis": "y"
                }
              ],
              "layout": {
                "barmode": "relative",
                "legend": {
                  "tracegroupgap": 0
                },
                "margin": {
                  "t": 60
                },
                "template": {
                  "data": {
                    "bar": [
                      {
                        "error_x": {
                          "color": "#2a3f5f"
                        },
                        "error_y": {
                          "color": "#2a3f5f"
                        },
                        "marker": {
                          "line": {
                            "color": "#E5ECF6",
                            "width": 0.5
                          },
                          "pattern": {
                            "fillmode": "overlay",
                            "size": 10,
                            "solidity": 0.2
                          }
                        },
                        "type": "bar"
                      }
                    ],
                    "barpolar": [
                      {
                        "marker": {
                          "line": {
                            "color": "#E5ECF6",
                            "width": 0.5
                          },
                          "pattern": {
                            "fillmode": "overlay",
                            "size": 10,
                            "solidity": 0.2
                          }
                        },
                        "type": "barpolar"
                      }
                    ],
                    "carpet": [
                      {
                        "aaxis": {
                          "endlinecolor": "#2a3f5f",
                          "gridcolor": "white",
                          "linecolor": "white",
                          "minorgridcolor": "white",
                          "startlinecolor": "#2a3f5f"
                        },
                        "baxis": {
                          "endlinecolor": "#2a3f5f",
                          "gridcolor": "white",
                          "linecolor": "white",
                          "minorgridcolor": "white",
                          "startlinecolor": "#2a3f5f"
                        },
                        "type": "carpet"
                      }
                    ],
                    "choropleth": [
                      {
                        "colorbar": {
                          "outlinewidth": 0,
                          "ticks": ""
                        },
                        "type": "choropleth"
                      }
                    ],
                    "contour": [
                      {
                        "colorbar": {
                          "outlinewidth": 0,
                          "ticks": ""
                        },
                        "colorscale": [
                          [
                            0,
                            "#0d0887"
                          ],
                          [
                            0.1111111111111111,
                            "#46039f"
                          ],
                          [
                            0.2222222222222222,
                            "#7201a8"
                          ],
                          [
                            0.3333333333333333,
                            "#9c179e"
                          ],
                          [
                            0.4444444444444444,
                            "#bd3786"
                          ],
                          [
                            0.5555555555555556,
                            "#d8576b"
                          ],
                          [
                            0.6666666666666666,
                            "#ed7953"
                          ],
                          [
                            0.7777777777777778,
                            "#fb9f3a"
                          ],
                          [
                            0.8888888888888888,
                            "#fdca26"
                          ],
                          [
                            1,
                            "#f0f921"
                          ]
                        ],
                        "type": "contour"
                      }
                    ],
                    "contourcarpet": [
                      {
                        "colorbar": {
                          "outlinewidth": 0,
                          "ticks": ""
                        },
                        "type": "contourcarpet"
                      }
                    ],
                    "heatmap": [
                      {
                        "colorbar": {
                          "outlinewidth": 0,
                          "ticks": ""
                        },
                        "colorscale": [
                          [
                            0,
                            "#0d0887"
                          ],
                          [
                            0.1111111111111111,
                            "#46039f"
                          ],
                          [
                            0.2222222222222222,
                            "#7201a8"
                          ],
                          [
                            0.3333333333333333,
                            "#9c179e"
                          ],
                          [
                            0.4444444444444444,
                            "#bd3786"
                          ],
                          [
                            0.5555555555555556,
                            "#d8576b"
                          ],
                          [
                            0.6666666666666666,
                            "#ed7953"
                          ],
                          [
                            0.7777777777777778,
                            "#fb9f3a"
                          ],
                          [
                            0.8888888888888888,
                            "#fdca26"
                          ],
                          [
                            1,
                            "#f0f921"
                          ]
                        ],
                        "type": "heatmap"
                      }
                    ],
                    "heatmapgl": [
                      {
                        "colorbar": {
                          "outlinewidth": 0,
                          "ticks": ""
                        },
                        "colorscale": [
                          [
                            0,
                            "#0d0887"
                          ],
                          [
                            0.1111111111111111,
                            "#46039f"
                          ],
                          [
                            0.2222222222222222,
                            "#7201a8"
                          ],
                          [
                            0.3333333333333333,
                            "#9c179e"
                          ],
                          [
                            0.4444444444444444,
                            "#bd3786"
                          ],
                          [
                            0.5555555555555556,
                            "#d8576b"
                          ],
                          [
                            0.6666666666666666,
                            "#ed7953"
                          ],
                          [
                            0.7777777777777778,
                            "#fb9f3a"
                          ],
                          [
                            0.8888888888888888,
                            "#fdca26"
                          ],
                          [
                            1,
                            "#f0f921"
                          ]
                        ],
                        "type": "heatmapgl"
                      }
                    ],
                    "histogram": [
                      {
                        "marker": {
                          "pattern": {
                            "fillmode": "overlay",
                            "size": 10,
                            "solidity": 0.2
                          }
                        },
                        "type": "histogram"
                      }
                    ],
                    "histogram2d": [
                      {
                        "colorbar": {
                          "outlinewidth": 0,
                          "ticks": ""
                        },
                        "colorscale": [
                          [
                            0,
                            "#0d0887"
                          ],
                          [
                            0.1111111111111111,
                            "#46039f"
                          ],
                          [
                            0.2222222222222222,
                            "#7201a8"
                          ],
                          [
                            0.3333333333333333,
                            "#9c179e"
                          ],
                          [
                            0.4444444444444444,
                            "#bd3786"
                          ],
                          [
                            0.5555555555555556,
                            "#d8576b"
                          ],
                          [
                            0.6666666666666666,
                            "#ed7953"
                          ],
                          [
                            0.7777777777777778,
                            "#fb9f3a"
                          ],
                          [
                            0.8888888888888888,
                            "#fdca26"
                          ],
                          [
                            1,
                            "#f0f921"
                          ]
                        ],
                        "type": "histogram2d"
                      }
                    ],
                    "histogram2dcontour": [
                      {
                        "colorbar": {
                          "outlinewidth": 0,
                          "ticks": ""
                        },
                        "colorscale": [
                          [
                            0,
                            "#0d0887"
                          ],
                          [
                            0.1111111111111111,
                            "#46039f"
                          ],
                          [
                            0.2222222222222222,
                            "#7201a8"
                          ],
                          [
                            0.3333333333333333,
                            "#9c179e"
                          ],
                          [
                            0.4444444444444444,
                            "#bd3786"
                          ],
                          [
                            0.5555555555555556,
                            "#d8576b"
                          ],
                          [
                            0.6666666666666666,
                            "#ed7953"
                          ],
                          [
                            0.7777777777777778,
                            "#fb9f3a"
                          ],
                          [
                            0.8888888888888888,
                            "#fdca26"
                          ],
                          [
                            1,
                            "#f0f921"
                          ]
                        ],
                        "type": "histogram2dcontour"
                      }
                    ],
                    "mesh3d": [
                      {
                        "colorbar": {
                          "outlinewidth": 0,
                          "ticks": ""
                        },
                        "type": "mesh3d"
                      }
                    ],
                    "parcoords": [
                      {
                        "line": {
                          "colorbar": {
                            "outlinewidth": 0,
                            "ticks": ""
                          }
                        },
                        "type": "parcoords"
                      }
                    ],
                    "pie": [
                      {
                        "automargin": true,
                        "type": "pie"
                      }
                    ],
                    "scatter": [
                      {
                        "marker": {
                          "colorbar": {
                            "outlinewidth": 0,
                            "ticks": ""
                          }
                        },
                        "type": "scatter"
                      }
                    ],
                    "scatter3d": [
                      {
                        "line": {
                          "colorbar": {
                            "outlinewidth": 0,
                            "ticks": ""
                          }
                        },
                        "marker": {
                          "colorbar": {
                            "outlinewidth": 0,
                            "ticks": ""
                          }
                        },
                        "type": "scatter3d"
                      }
                    ],
                    "scattercarpet": [
                      {
                        "marker": {
                          "colorbar": {
                            "outlinewidth": 0,
                            "ticks": ""
                          }
                        },
                        "type": "scattercarpet"
                      }
                    ],
                    "scattergeo": [
                      {
                        "marker": {
                          "colorbar": {
                            "outlinewidth": 0,
                            "ticks": ""
                          }
                        },
                        "type": "scattergeo"
                      }
                    ],
                    "scattergl": [
                      {
                        "marker": {
                          "colorbar": {
                            "outlinewidth": 0,
                            "ticks": ""
                          }
                        },
                        "type": "scattergl"
                      }
                    ],
                    "scattermapbox": [
                      {
                        "marker": {
                          "colorbar": {
                            "outlinewidth": 0,
                            "ticks": ""
                          }
                        },
                        "type": "scattermapbox"
                      }
                    ],
                    "scatterpolar": [
                      {
                        "marker": {
                          "colorbar": {
                            "outlinewidth": 0,
                            "ticks": ""
                          }
                        },
                        "type": "scatterpolar"
                      }
                    ],
                    "scatterpolargl": [
                      {
                        "marker": {
                          "colorbar": {
                            "outlinewidth": 0,
                            "ticks": ""
                          }
                        },
                        "type": "scatterpolargl"
                      }
                    ],
                    "scatterternary": [
                      {
                        "marker": {
                          "colorbar": {
                            "outlinewidth": 0,
                            "ticks": ""
                          }
                        },
                        "type": "scatterternary"
                      }
                    ],
                    "surface": [
                      {
                        "colorbar": {
                          "outlinewidth": 0,
                          "ticks": ""
                        },
                        "colorscale": [
                          [
                            0,
                            "#0d0887"
                          ],
                          [
                            0.1111111111111111,
                            "#46039f"
                          ],
                          [
                            0.2222222222222222,
                            "#7201a8"
                          ],
                          [
                            0.3333333333333333,
                            "#9c179e"
                          ],
                          [
                            0.4444444444444444,
                            "#bd3786"
                          ],
                          [
                            0.5555555555555556,
                            "#d8576b"
                          ],
                          [
                            0.6666666666666666,
                            "#ed7953"
                          ],
                          [
                            0.7777777777777778,
                            "#fb9f3a"
                          ],
                          [
                            0.8888888888888888,
                            "#fdca26"
                          ],
                          [
                            1,
                            "#f0f921"
                          ]
                        ],
                        "type": "surface"
                      }
                    ],
                    "table": [
                      {
                        "cells": {
                          "fill": {
                            "color": "#EBF0F8"
                          },
                          "line": {
                            "color": "white"
                          }
                        },
                        "header": {
                          "fill": {
                            "color": "#C8D4E3"
                          },
                          "line": {
                            "color": "white"
                          }
                        },
                        "type": "table"
                      }
                    ]
                  },
                  "layout": {
                    "annotationdefaults": {
                      "arrowcolor": "#2a3f5f",
                      "arrowhead": 0,
                      "arrowwidth": 1
                    },
                    "autotypenumbers": "strict",
                    "coloraxis": {
                      "colorbar": {
                        "outlinewidth": 0,
                        "ticks": ""
                      }
                    },
                    "colorscale": {
                      "diverging": [
                        [
                          0,
                          "#8e0152"
                        ],
                        [
                          0.1,
                          "#c51b7d"
                        ],
                        [
                          0.2,
                          "#de77ae"
                        ],
                        [
                          0.3,
                          "#f1b6da"
                        ],
                        [
                          0.4,
                          "#fde0ef"
                        ],
                        [
                          0.5,
                          "#f7f7f7"
                        ],
                        [
                          0.6,
                          "#e6f5d0"
                        ],
                        [
                          0.7,
                          "#b8e186"
                        ],
                        [
                          0.8,
                          "#7fbc41"
                        ],
                        [
                          0.9,
                          "#4d9221"
                        ],
                        [
                          1,
                          "#276419"
                        ]
                      ],
                      "sequential": [
                        [
                          0,
                          "#0d0887"
                        ],
                        [
                          0.1111111111111111,
                          "#46039f"
                        ],
                        [
                          0.2222222222222222,
                          "#7201a8"
                        ],
                        [
                          0.3333333333333333,
                          "#9c179e"
                        ],
                        [
                          0.4444444444444444,
                          "#bd3786"
                        ],
                        [
                          0.5555555555555556,
                          "#d8576b"
                        ],
                        [
                          0.6666666666666666,
                          "#ed7953"
                        ],
                        [
                          0.7777777777777778,
                          "#fb9f3a"
                        ],
                        [
                          0.8888888888888888,
                          "#fdca26"
                        ],
                        [
                          1,
                          "#f0f921"
                        ]
                      ],
                      "sequentialminus": [
                        [
                          0,
                          "#0d0887"
                        ],
                        [
                          0.1111111111111111,
                          "#46039f"
                        ],
                        [
                          0.2222222222222222,
                          "#7201a8"
                        ],
                        [
                          0.3333333333333333,
                          "#9c179e"
                        ],
                        [
                          0.4444444444444444,
                          "#bd3786"
                        ],
                        [
                          0.5555555555555556,
                          "#d8576b"
                        ],
                        [
                          0.6666666666666666,
                          "#ed7953"
                        ],
                        [
                          0.7777777777777778,
                          "#fb9f3a"
                        ],
                        [
                          0.8888888888888888,
                          "#fdca26"
                        ],
                        [
                          1,
                          "#f0f921"
                        ]
                      ]
                    },
                    "colorway": [
                      "#636efa",
                      "#EF553B",
                      "#00cc96",
                      "#ab63fa",
                      "#FFA15A",
                      "#19d3f3",
                      "#FF6692",
                      "#B6E880",
                      "#FF97FF",
                      "#FECB52"
                    ],
                    "font": {
                      "color": "#2a3f5f"
                    },
                    "geo": {
                      "bgcolor": "white",
                      "lakecolor": "white",
                      "landcolor": "#E5ECF6",
                      "showlakes": true,
                      "showland": true,
                      "subunitcolor": "white"
                    },
                    "hoverlabel": {
                      "align": "left"
                    },
                    "hovermode": "closest",
                    "mapbox": {
                      "style": "light"
                    },
                    "paper_bgcolor": "white",
                    "plot_bgcolor": "#E5ECF6",
                    "polar": {
                      "angularaxis": {
                        "gridcolor": "white",
                        "linecolor": "white",
                        "ticks": ""
                      },
                      "bgcolor": "#E5ECF6",
                      "radialaxis": {
                        "gridcolor": "white",
                        "linecolor": "white",
                        "ticks": ""
                      }
                    },
                    "scene": {
                      "xaxis": {
                        "backgroundcolor": "#E5ECF6",
                        "gridcolor": "white",
                        "gridwidth": 2,
                        "linecolor": "white",
                        "showbackground": true,
                        "ticks": "",
                        "zerolinecolor": "white"
                      },
                      "yaxis": {
                        "backgroundcolor": "#E5ECF6",
                        "gridcolor": "white",
                        "gridwidth": 2,
                        "linecolor": "white",
                        "showbackground": true,
                        "ticks": "",
                        "zerolinecolor": "white"
                      },
                      "zaxis": {
                        "backgroundcolor": "#E5ECF6",
                        "gridcolor": "white",
                        "gridwidth": 2,
                        "linecolor": "white",
                        "showbackground": true,
                        "ticks": "",
                        "zerolinecolor": "white"
                      }
                    },
                    "shapedefaults": {
                      "line": {
                        "color": "#2a3f5f"
                      }
                    },
                    "ternary": {
                      "aaxis": {
                        "gridcolor": "white",
                        "linecolor": "white",
                        "ticks": ""
                      },
                      "baxis": {
                        "gridcolor": "white",
                        "linecolor": "white",
                        "ticks": ""
                      },
                      "bgcolor": "#E5ECF6",
                      "caxis": {
                        "gridcolor": "white",
                        "linecolor": "white",
                        "ticks": ""
                      }
                    },
                    "title": {
                      "x": 0.05
                    },
                    "xaxis": {
                      "automargin": true,
                      "gridcolor": "white",
                      "linecolor": "white",
                      "ticks": "",
                      "title": {
                        "standoff": 15
                      },
                      "zerolinecolor": "white",
                      "zerolinewidth": 2
                    },
                    "yaxis": {
                      "automargin": true,
                      "gridcolor": "white",
                      "linecolor": "white",
                      "ticks": "",
                      "title": {
                        "standoff": 15
                      },
                      "zerolinecolor": "white",
                      "zerolinewidth": 2
                    }
                  }
                },
                "xaxis": {
                  "anchor": "y",
                  "domain": [
                    0,
                    1
                  ],
                  "title": {
                    "text": "temp"
                  }
                },
                "yaxis": {
                  "anchor": "x",
                  "domain": [
                    0,
                    1
                  ],
                  "title": {
                    "text": "migliorati"
                  }
                }
              }
            }
          },
          "metadata": {},
          "output_type": "display_data"
        }
      ],
      "source": [
        "import plotly.express as px\n",
        "dataframe = pd.DataFrame({\"temp\":[], \"peggiorati\": [], \"migliorati\":[]})\n",
        "nuovo_dataset = {}\n",
        "for item in dataset[\"temperatura_media\"].unique():\n",
        "  queryString = \"temperatura_media == \"+str(item)+\" and peggiorato == 0\"\n",
        "  queryStringMigl = \"temperatura_media == \"+str(item)+\" and peggiorato == 1\"\n",
        "\n",
        "  resPeggiorati = dataset.query(queryString)\n",
        "  resMigliorati = dataset.query(queryStringMigl)\n",
        "  dataframe.loc[len(dataframe.index)] = [item, len(resPeggiorati), len(resMigliorati)]\n",
        "  nuovo_dataset[str(item)] = len(resPeggiorati)\n",
        "\n",
        "\n",
        "dataframe = dataframe.sort_values(\"temp\")\n",
        "dataframe.head()\n",
        "\n",
        "fig = px.line(dataframe, x=\"temp\", y=[\"peggiorati\",\"migliorati\"])\n",
        "fig.show()\n",
        "newFig =  px.bar(dataframe, x=\"temp\", y=\"migliorati\")\n",
        "newFig.show()"
      ]
    }
  ],
  "metadata": {
    "colab": {
      "collapsed_sections": [],
      "name": "Compitino DV.ipynb",
      "provenance": []
    },
    "kernelspec": {
      "display_name": "Python 3",
      "name": "python3"
    },
    "language_info": {
      "codemirror_mode": {
        "name": "ipython",
        "version": 3
      },
      "file_extension": ".py",
      "mimetype": "text/x-python",
      "name": "python",
      "nbconvert_exporter": "python",
      "pygments_lexer": "ipython3",
      "version": "3.9.1"
    }
  },
  "nbformat": 4,
  "nbformat_minor": 0
}
