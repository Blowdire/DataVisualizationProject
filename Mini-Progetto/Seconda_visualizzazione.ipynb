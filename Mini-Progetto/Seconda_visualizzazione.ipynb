{
 "cells": [
  {
   "cell_type": "markdown",
   "metadata": {},
   "source": [
    "Importazione delle librerie"
   ]
  },
  {
   "cell_type": "code",
   "execution_count": null,
   "metadata": {},
   "outputs": [],
   "source": [
    "import pandas as pd\n",
    "import plotly.io as pio\n",
    "import plotly.graph_objs as go"
   ]
  },
  {
   "cell_type": "markdown",
   "metadata": {},
   "source": [
    "Importazione dei dati"
   ]
  },
  {
   "cell_type": "code",
   "execution_count": null,
   "metadata": {},
   "outputs": [],
   "source": [
    "dataset= pd.read_csv(\"./compitino_dataviz_2021_2022.csv\")\n",
    "dataset.head()"
   ]
  },
  {
   "cell_type": "markdown",
   "metadata": {},
   "source": [
    "Calcolo colonne aggiuntive utili alla visualizzazione"
   ]
  },
  {
   "cell_type": "code",
   "execution_count": null,
   "metadata": {},
   "outputs": [],
   "source": [
    "dataset[\"delta_score\"] = dataset[\"score_postop\"] - dataset[\"score_preop\"] \n",
    "dataset[\"peggiorato\"] = dataset[\"delta_score\"] < 0\n",
    "dataset[\"pshysical_score\"] = dataset[\"nome_modulistica\"] == \"SF12 PhysicalScore\""
   ]
  },
  {
   "cell_type": "markdown",
   "metadata": {},
   "source": [
    "Creazione di classi di età con numero di osservazioni omogeneo"
   ]
  },
  {
   "cell_type": "code",
   "execution_count": null,
   "metadata": {},
   "outputs": [],
   "source": [
    "#creazione di 6 intervalli di età\n",
    "dataset[\"gruppo_eta\"] = pd.qcut(dataset[\"anni_ricovero\"], 6)\n",
    "#conversione della colonna appena creata in stringa, per comodità \n",
    "dataset[\"gruppo_eta\"] = dataset[\"gruppo_eta\"].astype(str)"
   ]
  },
  {
   "cell_type": "markdown",
   "metadata": {},
   "source": [
    "Calcolo per ogni classe d'età del numero punteggi fisici migliorati e peggiorati"
   ]
  },
  {
   "cell_type": "code",
   "execution_count": null,
   "metadata": {},
   "outputs": [],
   "source": [
    "#creazione nuovo dataframe\n",
    "dataframe = pd.DataFrame({\"gruppo_eta\":[], \"peggiorati\": [], \"migliorati\":[]})\n",
    "#ciclo for per ogni classe d'età\n",
    "for item in dataset[\"gruppo_eta\"].unique():\n",
    "  #query per identificare i record con punteggio peggiorato per la classe d'età in esame\n",
    "  queryStringPegg = \"gruppo_eta == '\"+str(item)+\"' and peggiorato == 1 and pshysical_score == 1\"\n",
    "  #query per identificare i record con punteggio migliorato per la classe d'età in esame\n",
    "  queryStringMigl = \"gruppo_eta == '\"+str(item)+\"' and peggiorato == 0 and pshysical_score == 1\"\n",
    "\n",
    "  #query\n",
    "  resPeggiorati = dataset.query(queryStringPegg)\n",
    "  resMigliorati = dataset.query(queryStringMigl)\n",
    "  #inserimento nel dataframe del numero di migliorati o peggiorati per la classe d'età in esame\n",
    "  dataframe.loc[len(dataframe.index)] = [str(item), len(resPeggiorati), len(resMigliorati)]\n",
    "#ordinamento delle classi d'età\n",
    "dataframe = dataframe.sort_values(\"gruppo_eta\")\n",
    "#calcolo della percentuale di migliorati e peggiorati rispetto al totale di migliorati e peggiorati\n",
    "dataframe[\"peggiorati\"] =- (dataframe[\"peggiorati\"]/ dataframe[\"peggiorati\"].sum())\n",
    "dataframe[\"migliorati\"] = dataframe[\"migliorati\"]/ dataframe[\"migliorati\"].sum()\n",
    "dataframe.head()\n"
   ]
  },
  {
   "cell_type": "markdown",
   "metadata": {},
   "source": [
    "Creazione della visualizzazione a piramide relativa alla percentuale di migliorati e peggiorati per ogni classe di età"
   ]
  },
  {
   "cell_type": "code",
   "execution_count": null,
   "metadata": {},
   "outputs": [],
   "source": [
    "\n",
    "#creazione finestra grafico\n",
    "fig = go.Figure()\n",
    "#creazione layout grafico con nome degli assi, titolo del grafico, etichette dei dati degli assi e grandezza del font\n",
    "fig.update_layout(go.Layout(\n",
    "                  yaxis=go.layout.YAxis(title='Classe di età'),\n",
    "                  xaxis=go.layout.XAxis(\n",
    "                    range=[-0.5,0.5],\n",
    "                    tickvals=[-0.5, -0.25, 0 , 0.25, 0.5],\n",
    "                    ticktext=[50,25, 0, 25, 50],\n",
    "                    title='Percentuale (%)'),\n",
    "                  barmode='overlay',\n",
    "                  title=\"L'età non influisce sulla percentuale di score fisici peggiorati/migliorati\",\n",
    "                  bargap=0.1,\n",
    "                  font=dict(\n",
    "                     size=14,\n",
    "                    )\n",
    "                  )\n",
    "                )\n",
    "#creazione della porzione di piramide relativo alla percentuale di peggiorati\n",
    "fig.add_trace(go.Bar(y= dataframe[\"gruppo_eta\"].to_list(), x = dataframe[\"peggiorati\"], \n",
    "               orientation='h',\n",
    "               name='Peggiorati',\n",
    "               text=(dataframe[\"peggiorati\"]*100).abs().round(2).to_list(),\n",
    "               hoverinfo='skip', \n",
    "               marker=dict(color='#F4B942'),\n",
    "                textposition='auto',\n",
    "               ),\n",
    "              )\n",
    "#creazione della porzione di piramide relativo alla percentuale di migliorati\n",
    "fig.add_trace( go.Bar(y= dataframe[\"gruppo_eta\"].to_list(), x = dataframe[\"migliorati\"],\n",
    "               orientation='h',\n",
    "               text=(dataframe[\"migliorati\"]*100).abs().round(2).to_list(),\n",
    "               name='Migliorati',\n",
    "                hoverinfo='skip',\n",
    "               marker=dict(color='#4059AD'),\n",
    "                textposition='auto',\n",
    "               ))\n",
    "\n",
    "#visualizzazione grafico\n",
    "fig.show()"
   ]
  },
  {
   "cell_type": "markdown",
   "metadata": {},
   "source": [
    "Salvataggio della visualizzazione come immagine"
   ]
  },
  {
   "cell_type": "code",
   "execution_count": null,
   "metadata": {},
   "outputs": [],
   "source": [
    "#salvataggio della visualizzazione come file png con larghezza di 2000px\n",
    "fig.write_image(\"prima_visualizzazione.png\", scale=1, width= 2000 )"
   ]
  }
 ],
 "metadata": {
  "language_info": {
   "name": "python"
  },
  "orig_nbformat": 4
 },
 "nbformat": 4,
 "nbformat_minor": 2
}
